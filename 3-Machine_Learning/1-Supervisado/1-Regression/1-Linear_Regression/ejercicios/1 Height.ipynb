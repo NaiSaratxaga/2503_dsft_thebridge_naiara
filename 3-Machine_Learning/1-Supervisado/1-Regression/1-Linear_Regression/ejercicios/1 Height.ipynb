{
 "cells": [
  {
   "cell_type": "code",
   "execution_count": 4,
   "metadata": {},
   "outputs": [],
   "source": [
    "import pandas as pd\n",
    "import matplotlib.pyplot as plt\n",
    "import seaborn as sns"
   ]
  },
  {
   "attachments": {},
   "cell_type": "markdown",
   "metadata": {},
   "source": [
    "### Se pide, usando regresión lineal:\n",
    "\n",
    "Dibujar con una línea la relación que hay entre la altura y la edad de los alumnos de esta clase: "
   ]
  },
  {
   "cell_type": "code",
   "execution_count": 5,
   "metadata": {},
   "outputs": [],
   "source": [
    "lista_alumnos = [(\"Leonardo S\", 24, 1.82), \n",
    "                 (\"Piero T\", 25, 1.71), \n",
    "                 (\"Marta B\", 35, 1.66), \n",
    "                 (\"Silvia P\", 37, 1.63), \n",
    "                 (\"Faro Z\", 29, 1.90), \n",
    "                 (\"Miguel N\", 27, 1.80), \n",
    "                 (\"Alejandro M\", 28, 1.70), \n",
    "                 (\"Cristina M\", 32, 1.60), \n",
    "                 (\"Francisco P\", 36, 1.74), \n",
    "                 (\"Jorge D\", 45, 1.72), \n",
    "                 (\"Jesús L\", 41, 1.65), \n",
    "                 (\"Marta G\", 30, 1.65), \n",
    "                 (\"Jennifer S\", 40, 1.60), \n",
    "                 (\"Diego I\", 39, 1.80), \n",
    "                 (\"Antonio C\", 23, 1.77), \n",
    "                 (\"Juan M\", 32, 1.75), \n",
    "                 (\"David S\", 27, 1.70), \n",
    "                 (\"Antonio J\", 34, 1.80), \n",
    "                 (\"Carlos H\", 27, 1.77), \n",
    "                 (\"Erik U\", 28, 1.70), \n",
    "                 (\"Marcos L\", 35, 1.80)] "
   ]
  },
  {
   "cell_type": "code",
   "execution_count": 6,
   "metadata": {},
   "outputs": [],
   "source": [
    "df=pd.DataFrame(lista_alumnos, columns=[\"Nombre\", \"Edad\", \"Altura\"])"
   ]
  },
  {
   "cell_type": "code",
   "execution_count": 7,
   "metadata": {},
   "outputs": [
    {
     "data": {
      "application/vnd.microsoft.datawrangler.viewer.v0+json": {
       "columns": [
        {
         "name": "index",
         "rawType": "object",
         "type": "string"
        },
        {
         "name": "Edad",
         "rawType": "float64",
         "type": "float"
        },
        {
         "name": "Altura",
         "rawType": "float64",
         "type": "float"
        }
       ],
       "conversionMethod": "pd.DataFrame",
       "ref": "d09f0fbc-77e4-472b-bef1-8fb4b321fc81",
       "rows": [
        [
         "count",
         "21.0",
         "21.0"
        ],
        [
         "mean",
         "32.095238095238095",
         "1.7271428571428573"
        ],
        [
         "std",
         "6.081979627594636",
         "0.07900271243083096"
        ],
        [
         "min",
         "23.0",
         "1.6"
        ],
        [
         "25%",
         "27.0",
         "1.66"
        ],
        [
         "50%",
         "32.0",
         "1.72"
        ],
        [
         "75%",
         "36.0",
         "1.8"
        ],
        [
         "max",
         "45.0",
         "1.9"
        ]
       ],
       "shape": {
        "columns": 2,
        "rows": 8
       }
      },
      "text/html": [
       "<div>\n",
       "<style scoped>\n",
       "    .dataframe tbody tr th:only-of-type {\n",
       "        vertical-align: middle;\n",
       "    }\n",
       "\n",
       "    .dataframe tbody tr th {\n",
       "        vertical-align: top;\n",
       "    }\n",
       "\n",
       "    .dataframe thead th {\n",
       "        text-align: right;\n",
       "    }\n",
       "</style>\n",
       "<table border=\"1\" class=\"dataframe\">\n",
       "  <thead>\n",
       "    <tr style=\"text-align: right;\">\n",
       "      <th></th>\n",
       "      <th>Edad</th>\n",
       "      <th>Altura</th>\n",
       "    </tr>\n",
       "  </thead>\n",
       "  <tbody>\n",
       "    <tr>\n",
       "      <th>count</th>\n",
       "      <td>21.000000</td>\n",
       "      <td>21.000000</td>\n",
       "    </tr>\n",
       "    <tr>\n",
       "      <th>mean</th>\n",
       "      <td>32.095238</td>\n",
       "      <td>1.727143</td>\n",
       "    </tr>\n",
       "    <tr>\n",
       "      <th>std</th>\n",
       "      <td>6.081980</td>\n",
       "      <td>0.079003</td>\n",
       "    </tr>\n",
       "    <tr>\n",
       "      <th>min</th>\n",
       "      <td>23.000000</td>\n",
       "      <td>1.600000</td>\n",
       "    </tr>\n",
       "    <tr>\n",
       "      <th>25%</th>\n",
       "      <td>27.000000</td>\n",
       "      <td>1.660000</td>\n",
       "    </tr>\n",
       "    <tr>\n",
       "      <th>50%</th>\n",
       "      <td>32.000000</td>\n",
       "      <td>1.720000</td>\n",
       "    </tr>\n",
       "    <tr>\n",
       "      <th>75%</th>\n",
       "      <td>36.000000</td>\n",
       "      <td>1.800000</td>\n",
       "    </tr>\n",
       "    <tr>\n",
       "      <th>max</th>\n",
       "      <td>45.000000</td>\n",
       "      <td>1.900000</td>\n",
       "    </tr>\n",
       "  </tbody>\n",
       "</table>\n",
       "</div>"
      ],
      "text/plain": [
       "            Edad     Altura\n",
       "count  21.000000  21.000000\n",
       "mean   32.095238   1.727143\n",
       "std     6.081980   0.079003\n",
       "min    23.000000   1.600000\n",
       "25%    27.000000   1.660000\n",
       "50%    32.000000   1.720000\n",
       "75%    36.000000   1.800000\n",
       "max    45.000000   1.900000"
      ]
     },
     "execution_count": 7,
     "metadata": {},
     "output_type": "execute_result"
    }
   ],
   "source": [
    "df.describe()"
   ]
  },
  {
   "cell_type": "markdown",
   "metadata": {},
   "source": [
    "### ¿Es una buena técnica para este tipo de problemas? Demuéstralo antes de entrenar un modelo con un análisis descriptivo."
   ]
  },
  {
   "cell_type": "markdown",
   "metadata": {},
   "source": [
    "### Entrena un modelo de regresión lineal"
   ]
  },
  {
   "cell_type": "markdown",
   "metadata": {},
   "source": [
    "### ¿Qué error se comete? Calcula los errores que está cometiendo tu modelo de forma manual con python. Aparte, usa las métricas de sklearn MAE, MAPE, MSE y el RMSE."
   ]
  }
 ],
 "metadata": {
  "kernelspec": {
   "display_name": "Python 3",
   "language": "python",
   "name": "python3"
  },
  "language_info": {
   "codemirror_mode": {
    "name": "ipython",
    "version": 3
   },
   "file_extension": ".py",
   "mimetype": "text/x-python",
   "name": "python",
   "nbconvert_exporter": "python",
   "pygments_lexer": "ipython3",
   "version": "3.11.9"
  }
 },
 "nbformat": 4,
 "nbformat_minor": 4
}
