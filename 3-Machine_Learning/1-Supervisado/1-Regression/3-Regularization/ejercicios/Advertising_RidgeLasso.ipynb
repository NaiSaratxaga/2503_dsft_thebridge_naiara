{
 "cells": [
  {
   "attachments": {},
   "cell_type": "markdown",
   "metadata": {},
   "source": [
    "# Ejercicio Ridge, Lasso y ElasticNet\n",
    "Para este ejercicio vas a trabajar con datos de ventas de una empresa que fabrica muebles en España. Esta empresa es una Pyme que demanda conocer de antemano qué ingresos va a tener cada mes, ya que necesita pedir un anticipio a su entidad financiera de cara a poder abastecerse de materia prima al comenzar el mes. Como desconoce cuánto tiene que pedir, tira al alza y acaba pagando muchos intereses. El objetivo es reducir estos gastos.\n",
    "\n",
    "En las bases de datos de la empresa constan todos los gastos en publicidad y ventas, para cada uno de los meses desde su fundación (hace más de 15 años).\n",
    "\n",
    "Dado que los presupuestos de marketing se cierran al principio de cada mes, la empresa necesita un modelo predictivo que le anticipe las ventas que conseguirá a final de mes en función de los gastos que realizará en marketing.\n",
    "\n",
    "Para ello tendrás que utilizar tanto modelos de regresión normales, como regularizados.\n",
    "\n",
    "1. Carga los datos y realiza un pequeño análisis exploratorio. Mira a ver cómo se relaciona las ventas con el resto de variables.\n",
    "2. Crea varios modelos y modifica los hiperparámetros necesarios para mejorar el performance del modelo.\n",
    "3. Interpreta los resultados. Traduce a una fórmula tu mejor modelo (escribir la fórmula simplemente). ¿Cuánto cambian las ventas si aumentamos la inversión en radio un punto más? ¿Y si aumentamos la inversión en TV o periódicos?"
   ]
  },
  {
   "attachments": {},
   "cell_type": "markdown",
   "metadata": {},
   "source": [
    "## Import libraries "
   ]
  },
  {
   "cell_type": "code",
   "execution_count": 115,
   "metadata": {},
   "outputs": [],
   "source": [
    "import numpy as np\n",
    "import pandas as pd\n",
    "from sklearn import linear_model, metrics, model_selection\n",
    "from sklearn.linear_model import ElasticNet\n",
    "import matplotlib.pyplot as plt\n",
    "from sklearn.linear_model import Ridge\n",
    "import seaborn as sns\n",
    "from sklearn.linear_model import LinearRegression\n",
    "from sklearn.metrics import mean_squared_error, r2_score"
   ]
  },
  {
   "attachments": {},
   "cell_type": "markdown",
   "metadata": {},
   "source": [
    "## Exploratory Data Analysis "
   ]
  },
  {
   "cell_type": "code",
   "execution_count": 116,
   "metadata": {},
   "outputs": [
    {
     "data": {
      "application/vnd.microsoft.datawrangler.viewer.v0+json": {
       "columns": [
        {
         "name": "index",
         "rawType": "int64",
         "type": "integer"
        },
        {
         "name": "Unnamed: 0",
         "rawType": "int64",
         "type": "integer"
        },
        {
         "name": "TV",
         "rawType": "float64",
         "type": "float"
        },
        {
         "name": "radio",
         "rawType": "float64",
         "type": "float"
        },
        {
         "name": "newpaper",
         "rawType": "object",
         "type": "string"
        },
        {
         "name": "sales",
         "rawType": "float64",
         "type": "float"
        }
       ],
       "conversionMethod": "pd.DataFrame",
       "ref": "18950f7a-2f14-4f49-bca8-89e2067ac085",
       "rows": [
        [
         "0",
         "0",
         "230.1",
         "37.8",
         "6s9.2",
         "22100.0"
        ],
        [
         "1",
         "1",
         "44.5",
         "39.3",
         "45.1",
         "10400.0"
        ],
        [
         "2",
         "2",
         "17.2",
         "45.9",
         "69.3",
         "9300.0"
        ],
        [
         "3",
         "3",
         "151.5",
         "41.3",
         "58.5",
         "18500.0"
        ],
        [
         "4",
         "4",
         "180.8",
         "10.8",
         "58.4",
         "12900.0"
        ]
       ],
       "shape": {
        "columns": 5,
        "rows": 5
       }
      },
      "text/html": [
       "<div>\n",
       "<style scoped>\n",
       "    .dataframe tbody tr th:only-of-type {\n",
       "        vertical-align: middle;\n",
       "    }\n",
       "\n",
       "    .dataframe tbody tr th {\n",
       "        vertical-align: top;\n",
       "    }\n",
       "\n",
       "    .dataframe thead th {\n",
       "        text-align: right;\n",
       "    }\n",
       "</style>\n",
       "<table border=\"1\" class=\"dataframe\">\n",
       "  <thead>\n",
       "    <tr style=\"text-align: right;\">\n",
       "      <th></th>\n",
       "      <th>Unnamed: 0</th>\n",
       "      <th>TV</th>\n",
       "      <th>radio</th>\n",
       "      <th>newpaper</th>\n",
       "      <th>sales</th>\n",
       "    </tr>\n",
       "  </thead>\n",
       "  <tbody>\n",
       "    <tr>\n",
       "      <th>0</th>\n",
       "      <td>0</td>\n",
       "      <td>230.1</td>\n",
       "      <td>37.8</td>\n",
       "      <td>6s9.2</td>\n",
       "      <td>22100.0</td>\n",
       "    </tr>\n",
       "    <tr>\n",
       "      <th>1</th>\n",
       "      <td>1</td>\n",
       "      <td>44.5</td>\n",
       "      <td>39.3</td>\n",
       "      <td>45.1</td>\n",
       "      <td>10400.0</td>\n",
       "    </tr>\n",
       "    <tr>\n",
       "      <th>2</th>\n",
       "      <td>2</td>\n",
       "      <td>17.2</td>\n",
       "      <td>45.9</td>\n",
       "      <td>69.3</td>\n",
       "      <td>9300.0</td>\n",
       "    </tr>\n",
       "    <tr>\n",
       "      <th>3</th>\n",
       "      <td>3</td>\n",
       "      <td>151.5</td>\n",
       "      <td>41.3</td>\n",
       "      <td>58.5</td>\n",
       "      <td>18500.0</td>\n",
       "    </tr>\n",
       "    <tr>\n",
       "      <th>4</th>\n",
       "      <td>4</td>\n",
       "      <td>180.8</td>\n",
       "      <td>10.8</td>\n",
       "      <td>58.4</td>\n",
       "      <td>12900.0</td>\n",
       "    </tr>\n",
       "  </tbody>\n",
       "</table>\n",
       "</div>"
      ],
      "text/plain": [
       "   Unnamed: 0     TV  radio newpaper    sales\n",
       "0           0  230.1   37.8    6s9.2  22100.0\n",
       "1           1   44.5   39.3     45.1  10400.0\n",
       "2           2   17.2   45.9     69.3   9300.0\n",
       "3           3  151.5   41.3     58.5  18500.0\n",
       "4           4  180.8   10.8     58.4  12900.0"
      ]
     },
     "execution_count": 116,
     "metadata": {},
     "output_type": "execute_result"
    }
   ],
   "source": [
    "df = pd.read_csv('data/Advertising.csv')\n",
    "df.head()"
   ]
  },
  {
   "cell_type": "code",
   "execution_count": 117,
   "metadata": {},
   "outputs": [
    {
     "name": "stdout",
     "output_type": "stream",
     "text": [
      "<class 'pandas.core.frame.DataFrame'>\n",
      "RangeIndex: 200 entries, 0 to 199\n",
      "Data columns (total 5 columns):\n",
      " #   Column      Non-Null Count  Dtype  \n",
      "---  ------      --------------  -----  \n",
      " 0   Unnamed: 0  200 non-null    int64  \n",
      " 1   TV          200 non-null    float64\n",
      " 2   radio       200 non-null    float64\n",
      " 3   newpaper    200 non-null    object \n",
      " 4   sales       200 non-null    float64\n",
      "dtypes: float64(3), int64(1), object(1)\n",
      "memory usage: 7.9+ KB\n"
     ]
    }
   ],
   "source": [
    "df.info()"
   ]
  },
  {
   "cell_type": "code",
   "execution_count": 118,
   "metadata": {},
   "outputs": [
    {
     "name": "stdout",
     "output_type": "stream",
     "text": [
      "      TV  radio newpaper    sales\n",
      "0   44.5   39.3     45.1  10400.0\n",
      "1   17.2   45.9     69.3   9300.0\n",
      "2  151.5   41.3     58.5  18500.0\n",
      "3  180.8   10.8     58.4  12900.0\n",
      "4    8.7   48.9     75.0   7200.0\n"
     ]
    }
   ],
   "source": [
    "# Eliminar la columna 'Unnamed: 0'\n",
    "df_cleaned = df.drop(columns=['Unnamed: 0'])\n",
    "\n",
    "# Eliminar la primera fila\n",
    "df_cleaned = df_cleaned.iloc[1:].reset_index(drop=True)\n",
    "\n",
    "# Mostrar las primeras filas del dataset limpio (opcional)\n",
    "print(df_cleaned.head())\n",
    "\n"
   ]
  },
  {
   "cell_type": "code",
   "execution_count": 119,
   "metadata": {},
   "outputs": [
    {
     "name": "stdout",
     "output_type": "stream",
     "text": [
      "0\n"
     ]
    }
   ],
   "source": [
    "# Convertir la columna 'newpaper' a valores numéricos (forzando errores a NaN)\n",
    "df_cleaned['newpaper'] = pd.to_numeric(df_cleaned['newpaper'], errors='coerce')\n",
    "\n",
    "# Ver cuántos valores quedaron como NaN\n",
    "print(df_cleaned['newpaper'].isna().sum())\n",
    "\n"
   ]
  },
  {
   "cell_type": "code",
   "execution_count": 120,
   "metadata": {},
   "outputs": [
    {
     "data": {
      "application/vnd.microsoft.datawrangler.viewer.v0+json": {
       "columns": [
        {
         "name": "index",
         "rawType": "object",
         "type": "string"
        },
        {
         "name": "TV",
         "rawType": "float64",
         "type": "float"
        },
        {
         "name": "radio",
         "rawType": "float64",
         "type": "float"
        },
        {
         "name": "newpaper",
         "rawType": "float64",
         "type": "float"
        },
        {
         "name": "sales",
         "rawType": "float64",
         "type": "float"
        }
       ],
       "conversionMethod": "pd.DataFrame",
       "ref": "2c7440f9-462e-4fad-8f76-b05e3960ba55",
       "rows": [
        [
         "count",
         "199.0",
         "199.0",
         "199.0",
         "199.0"
        ],
        [
         "mean",
         "146.62512562814072",
         "23.190954773869347",
         "30.359798994974877",
         "13981.909547738693"
        ],
        [
         "std",
         "85.86711057585292",
         "14.848181829074473",
         "21.659245627941758",
         "5198.861022490503"
        ],
        [
         "min",
         "0.7",
         "0.0",
         "0.3",
         "1600.0"
        ],
        [
         "25%",
         "74.05000000000001",
         "9.95",
         "12.7",
         "10350.0"
        ],
        [
         "50%",
         "149.7",
         "22.5",
         "25.6",
         "12900.0"
        ],
        [
         "75%",
         "218.45",
         "36.4",
         "44.7",
         "17350.0"
        ],
        [
         "max",
         "296.4",
         "49.6",
         "114.0",
         "27000.0"
        ]
       ],
       "shape": {
        "columns": 4,
        "rows": 8
       }
      },
      "text/html": [
       "<div>\n",
       "<style scoped>\n",
       "    .dataframe tbody tr th:only-of-type {\n",
       "        vertical-align: middle;\n",
       "    }\n",
       "\n",
       "    .dataframe tbody tr th {\n",
       "        vertical-align: top;\n",
       "    }\n",
       "\n",
       "    .dataframe thead th {\n",
       "        text-align: right;\n",
       "    }\n",
       "</style>\n",
       "<table border=\"1\" class=\"dataframe\">\n",
       "  <thead>\n",
       "    <tr style=\"text-align: right;\">\n",
       "      <th></th>\n",
       "      <th>TV</th>\n",
       "      <th>radio</th>\n",
       "      <th>newpaper</th>\n",
       "      <th>sales</th>\n",
       "    </tr>\n",
       "  </thead>\n",
       "  <tbody>\n",
       "    <tr>\n",
       "      <th>count</th>\n",
       "      <td>199.000000</td>\n",
       "      <td>199.000000</td>\n",
       "      <td>199.000000</td>\n",
       "      <td>199.000000</td>\n",
       "    </tr>\n",
       "    <tr>\n",
       "      <th>mean</th>\n",
       "      <td>146.625126</td>\n",
       "      <td>23.190955</td>\n",
       "      <td>30.359799</td>\n",
       "      <td>13981.909548</td>\n",
       "    </tr>\n",
       "    <tr>\n",
       "      <th>std</th>\n",
       "      <td>85.867111</td>\n",
       "      <td>14.848182</td>\n",
       "      <td>21.659246</td>\n",
       "      <td>5198.861022</td>\n",
       "    </tr>\n",
       "    <tr>\n",
       "      <th>min</th>\n",
       "      <td>0.700000</td>\n",
       "      <td>0.000000</td>\n",
       "      <td>0.300000</td>\n",
       "      <td>1600.000000</td>\n",
       "    </tr>\n",
       "    <tr>\n",
       "      <th>25%</th>\n",
       "      <td>74.050000</td>\n",
       "      <td>9.950000</td>\n",
       "      <td>12.700000</td>\n",
       "      <td>10350.000000</td>\n",
       "    </tr>\n",
       "    <tr>\n",
       "      <th>50%</th>\n",
       "      <td>149.700000</td>\n",
       "      <td>22.500000</td>\n",
       "      <td>25.600000</td>\n",
       "      <td>12900.000000</td>\n",
       "    </tr>\n",
       "    <tr>\n",
       "      <th>75%</th>\n",
       "      <td>218.450000</td>\n",
       "      <td>36.400000</td>\n",
       "      <td>44.700000</td>\n",
       "      <td>17350.000000</td>\n",
       "    </tr>\n",
       "    <tr>\n",
       "      <th>max</th>\n",
       "      <td>296.400000</td>\n",
       "      <td>49.600000</td>\n",
       "      <td>114.000000</td>\n",
       "      <td>27000.000000</td>\n",
       "    </tr>\n",
       "  </tbody>\n",
       "</table>\n",
       "</div>"
      ],
      "text/plain": [
       "               TV       radio    newpaper         sales\n",
       "count  199.000000  199.000000  199.000000    199.000000\n",
       "mean   146.625126   23.190955   30.359799  13981.909548\n",
       "std     85.867111   14.848182   21.659246   5198.861022\n",
       "min      0.700000    0.000000    0.300000   1600.000000\n",
       "25%     74.050000    9.950000   12.700000  10350.000000\n",
       "50%    149.700000   22.500000   25.600000  12900.000000\n",
       "75%    218.450000   36.400000   44.700000  17350.000000\n",
       "max    296.400000   49.600000  114.000000  27000.000000"
      ]
     },
     "execution_count": 120,
     "metadata": {},
     "output_type": "execute_result"
    }
   ],
   "source": [
    "df_cleaned.describe()"
   ]
  },
  {
   "cell_type": "code",
   "execution_count": 121,
   "metadata": {},
   "outputs": [
    {
     "data": {
      "application/vnd.microsoft.datawrangler.viewer.v0+json": {
       "columns": [
        {
         "name": "index",
         "rawType": "int64",
         "type": "integer"
        },
        {
         "name": "TV",
         "rawType": "float64",
         "type": "float"
        },
        {
         "name": "radio",
         "rawType": "float64",
         "type": "float"
        },
        {
         "name": "newpaper",
         "rawType": "float64",
         "type": "float"
        },
        {
         "name": "sales",
         "rawType": "float64",
         "type": "float"
        }
       ],
       "conversionMethod": "pd.DataFrame",
       "ref": "62aeb3d6-e9b3-41b2-bba5-a72acd508a09",
       "rows": [
        [
         "0",
         "44.5",
         "39.3",
         "45.1",
         "10400.0"
        ],
        [
         "1",
         "17.2",
         "45.9",
         "69.3",
         "9300.0"
        ],
        [
         "2",
         "151.5",
         "41.3",
         "58.5",
         "18500.0"
        ],
        [
         "3",
         "180.8",
         "10.8",
         "58.4",
         "12900.0"
        ],
        [
         "4",
         "8.7",
         "48.9",
         "75.0",
         "7200.0"
        ],
        [
         "5",
         "57.5",
         "32.8",
         "23.5",
         "11800.0"
        ],
        [
         "6",
         "120.2",
         "19.6",
         "11.6",
         "13200.0"
        ],
        [
         "7",
         "8.6",
         "2.1",
         "1.0",
         "4800.0"
        ],
        [
         "8",
         "199.8",
         "2.6",
         "21.2",
         "10600.0"
        ],
        [
         "9",
         "66.1",
         "5.8",
         "24.2",
         "8600.0"
        ],
        [
         "10",
         "214.7",
         "24.0",
         "4.0",
         "17400.0"
        ],
        [
         "11",
         "23.8",
         "35.1",
         "65.9",
         "9200.0"
        ],
        [
         "12",
         "97.5",
         "7.6",
         "7.2",
         "9700.0"
        ],
        [
         "13",
         "204.1",
         "32.9",
         "46.0",
         "19000.0"
        ],
        [
         "14",
         "195.4",
         "47.7",
         "52.9",
         "22400.0"
        ],
        [
         "15",
         "67.8",
         "36.6",
         "114.0",
         "12500.0"
        ],
        [
         "16",
         "281.4",
         "39.6",
         "55.8",
         "24400.0"
        ],
        [
         "17",
         "69.2",
         "20.5",
         "18.3",
         "11300.0"
        ],
        [
         "18",
         "147.3",
         "23.9",
         "19.1",
         "14600.0"
        ],
        [
         "19",
         "218.4",
         "27.7",
         "53.4",
         "18000.0"
        ],
        [
         "20",
         "237.4",
         "5.1",
         "23.5",
         "12500.0"
        ],
        [
         "21",
         "13.2",
         "15.9",
         "49.6",
         "5600.0"
        ],
        [
         "22",
         "228.3",
         "16.9",
         "26.2",
         "15500.0"
        ],
        [
         "23",
         "62.3",
         "12.6",
         "18.3",
         "9700.0"
        ],
        [
         "24",
         "262.9",
         "3.5",
         "19.5",
         "12000.0"
        ],
        [
         "25",
         "142.9",
         "29.3",
         "12.6",
         "15000.0"
        ],
        [
         "26",
         "240.1",
         "16.7",
         "22.9",
         "15900.0"
        ],
        [
         "27",
         "248.8",
         "27.1",
         "22.9",
         "18900.0"
        ],
        [
         "28",
         "70.6",
         "16.0",
         "40.8",
         "10500.0"
        ],
        [
         "29",
         "292.9",
         "28.3",
         "43.2",
         "21400.0"
        ],
        [
         "30",
         "112.9",
         "17.4",
         "38.6",
         "11900.0"
        ],
        [
         "31",
         "97.2",
         "1.5",
         "30.0",
         "9600.0"
        ],
        [
         "32",
         "265.6",
         "20.0",
         "0.3",
         "17400.0"
        ],
        [
         "33",
         "95.7",
         "1.4",
         "7.4",
         "9500.0"
        ],
        [
         "34",
         "290.7",
         "4.1",
         "8.5",
         "12800.0"
        ],
        [
         "35",
         "266.9",
         "43.8",
         "5.0",
         "25400.0"
        ],
        [
         "36",
         "74.7",
         "49.4",
         "45.7",
         "14700.0"
        ],
        [
         "37",
         "43.1",
         "26.7",
         "35.1",
         "10100.0"
        ],
        [
         "38",
         "228.0",
         "37.7",
         "32.0",
         "21500.0"
        ],
        [
         "39",
         "202.5",
         "22.3",
         "31.6",
         "16600.0"
        ],
        [
         "40",
         "177.0",
         "33.4",
         "38.7",
         "17100.0"
        ],
        [
         "41",
         "293.6",
         "27.7",
         "1.8",
         "20700.0"
        ],
        [
         "42",
         "206.9",
         "8.4",
         "26.4",
         "12900.0"
        ],
        [
         "43",
         "25.1",
         "25.7",
         "43.3",
         "8500.0"
        ],
        [
         "44",
         "175.1",
         "22.5",
         "31.5",
         "14900.0"
        ],
        [
         "45",
         "89.7",
         "9.9",
         "35.7",
         "10600.0"
        ],
        [
         "46",
         "239.9",
         "41.5",
         "18.5",
         "23200.0"
        ],
        [
         "47",
         "227.2",
         "15.8",
         "49.9",
         "14800.0"
        ],
        [
         "48",
         "66.9",
         "11.7",
         "36.8",
         "9700.0"
        ],
        [
         "49",
         "199.8",
         "3.1",
         "34.6",
         "11400.0"
        ]
       ],
       "shape": {
        "columns": 4,
        "rows": 199
       }
      },
      "text/html": [
       "<div>\n",
       "<style scoped>\n",
       "    .dataframe tbody tr th:only-of-type {\n",
       "        vertical-align: middle;\n",
       "    }\n",
       "\n",
       "    .dataframe tbody tr th {\n",
       "        vertical-align: top;\n",
       "    }\n",
       "\n",
       "    .dataframe thead th {\n",
       "        text-align: right;\n",
       "    }\n",
       "</style>\n",
       "<table border=\"1\" class=\"dataframe\">\n",
       "  <thead>\n",
       "    <tr style=\"text-align: right;\">\n",
       "      <th></th>\n",
       "      <th>TV</th>\n",
       "      <th>radio</th>\n",
       "      <th>newpaper</th>\n",
       "      <th>sales</th>\n",
       "    </tr>\n",
       "  </thead>\n",
       "  <tbody>\n",
       "    <tr>\n",
       "      <th>0</th>\n",
       "      <td>44.5</td>\n",
       "      <td>39.3</td>\n",
       "      <td>45.1</td>\n",
       "      <td>10400.0</td>\n",
       "    </tr>\n",
       "    <tr>\n",
       "      <th>1</th>\n",
       "      <td>17.2</td>\n",
       "      <td>45.9</td>\n",
       "      <td>69.3</td>\n",
       "      <td>9300.0</td>\n",
       "    </tr>\n",
       "    <tr>\n",
       "      <th>2</th>\n",
       "      <td>151.5</td>\n",
       "      <td>41.3</td>\n",
       "      <td>58.5</td>\n",
       "      <td>18500.0</td>\n",
       "    </tr>\n",
       "    <tr>\n",
       "      <th>3</th>\n",
       "      <td>180.8</td>\n",
       "      <td>10.8</td>\n",
       "      <td>58.4</td>\n",
       "      <td>12900.0</td>\n",
       "    </tr>\n",
       "    <tr>\n",
       "      <th>4</th>\n",
       "      <td>8.7</td>\n",
       "      <td>48.9</td>\n",
       "      <td>75.0</td>\n",
       "      <td>7200.0</td>\n",
       "    </tr>\n",
       "    <tr>\n",
       "      <th>...</th>\n",
       "      <td>...</td>\n",
       "      <td>...</td>\n",
       "      <td>...</td>\n",
       "      <td>...</td>\n",
       "    </tr>\n",
       "    <tr>\n",
       "      <th>194</th>\n",
       "      <td>38.2</td>\n",
       "      <td>3.7</td>\n",
       "      <td>13.8</td>\n",
       "      <td>7600.0</td>\n",
       "    </tr>\n",
       "    <tr>\n",
       "      <th>195</th>\n",
       "      <td>94.2</td>\n",
       "      <td>4.9</td>\n",
       "      <td>8.1</td>\n",
       "      <td>9700.0</td>\n",
       "    </tr>\n",
       "    <tr>\n",
       "      <th>196</th>\n",
       "      <td>177.0</td>\n",
       "      <td>9.3</td>\n",
       "      <td>6.4</td>\n",
       "      <td>12800.0</td>\n",
       "    </tr>\n",
       "    <tr>\n",
       "      <th>197</th>\n",
       "      <td>283.6</td>\n",
       "      <td>42.0</td>\n",
       "      <td>66.2</td>\n",
       "      <td>25500.0</td>\n",
       "    </tr>\n",
       "    <tr>\n",
       "      <th>198</th>\n",
       "      <td>232.1</td>\n",
       "      <td>8.6</td>\n",
       "      <td>8.7</td>\n",
       "      <td>13400.0</td>\n",
       "    </tr>\n",
       "  </tbody>\n",
       "</table>\n",
       "<p>199 rows × 4 columns</p>\n",
       "</div>"
      ],
      "text/plain": [
       "        TV  radio  newpaper    sales\n",
       "0     44.5   39.3      45.1  10400.0\n",
       "1     17.2   45.9      69.3   9300.0\n",
       "2    151.5   41.3      58.5  18500.0\n",
       "3    180.8   10.8      58.4  12900.0\n",
       "4      8.7   48.9      75.0   7200.0\n",
       "..     ...    ...       ...      ...\n",
       "194   38.2    3.7      13.8   7600.0\n",
       "195   94.2    4.9       8.1   9700.0\n",
       "196  177.0    9.3       6.4  12800.0\n",
       "197  283.6   42.0      66.2  25500.0\n",
       "198  232.1    8.6       8.7  13400.0\n",
       "\n",
       "[199 rows x 4 columns]"
      ]
     },
     "execution_count": 121,
     "metadata": {},
     "output_type": "execute_result"
    }
   ],
   "source": [
    "df_cleaned\n",
    "\n"
   ]
  },
  {
   "cell_type": "markdown",
   "metadata": {},
   "source": [
    "### Verificar correlación con pairplot\n",
    "- Ver relaciones entre variables (por ejemplo, si TV y sales están correlacionadas).\n",
    "\n",
    "- Identificar patrones, grupos o posibles outliers.\n",
    "\n",
    "- Entender la distribución de cada variable.\n",
    "\n"
   ]
  },
  {
   "cell_type": "code",
   "execution_count": 122,
   "metadata": {},
   "outputs": [
    {
     "data": {
      "image/png": "[encoded data removed]",
      "text/plain": [
       "<Figure size 1000x1000 with 20 Axes>"
      ]
     },
     "metadata": {},
     "output_type": "display_data"
    }
   ],
   "source": [
    "# Verificar correlación\n",
    "sns.pairplot(df_cleaned, diag_kind='kde')\n",
    "plt.show()\n",
    "\n"
   ]
  },
  {
   "cell_type": "markdown",
   "metadata": {},
   "source": [
    "### Relación entre variables\n",
    "- TV vs sales\n",
    "Relación positiva fuerte: Se ve una nube de puntos alineada en una curva ascendente, buena correlación.\n",
    "- Radio vs sales, relación positiva pero no tan fuerte. Se ve más dispersión.\n",
    "- Newpaper vs sales: relación más débil. Puntos esparcidos sin una dirección clara, más aleatorio."
   ]
  },
  {
   "cell_type": "markdown",
   "metadata": {},
   "source": [
    "### Distribuciones individuales\n",
    "- TV: distribución bimodal (dos picos), quizás refleja dos estrategias de inversión diferentes.\n",
    "- radio: distribución más uniforme, con una leve caída al final.\n",
    "- newspaper: más sesgada a la izquierda, la mayoría de las inversiones están por debajo de 50.\n",
    "- sales: distribución normal con ligera asimetría → la mayoría de las ventas están entre 5,000 y 20,000."
   ]
  },
  {
   "cell_type": "markdown",
   "metadata": {},
   "source": [
    "### Miramos la correlación entre variables"
   ]
  },
  {
   "cell_type": "code",
   "execution_count": 123,
   "metadata": {},
   "outputs": [
    {
     "data": {
      "image/png": "[encoded data removed]",
      "text/plain": [
       "<Figure size 1000x1000 with 2 Axes>"
      ]
     },
     "metadata": {},
     "output_type": "display_data"
    }
   ],
   "source": [
    "# Calcular la matriz de correlación\n",
    "corr = df_cleaned.corr()\n",
    "\n",
    "# Crear el heatmap\n",
    "plt.figure(figsize=(10, 10))\n",
    "sns.heatmap(corr, annot=True, cmap=sns.diverging_palette(145, 280, s=85, l=25, n=7),fmt=\".2f\", linewidths=0.5, center=0)\n",
    "plt.title('Matriz de Correlación')\n",
    "plt.show()"
   ]
  },
  {
   "cell_type": "markdown",
   "metadata": {},
   "source": [
    "- TV (0.78). Tiene la mayor correlación positiva con las ventas. Es la variable más influyente en este dataset.\n",
    "- radio (0.57). Buena correlación con ventas, pero no tan fuerte como TV.\n",
    "- newspaper (0.22). Correlación baja, casi despreciable. Podría no tener un impacto claro o consistente en las ventas."
   ]
  },
  {
   "cell_type": "code",
   "execution_count": 124,
   "metadata": {},
   "outputs": [
    {
     "data": {
      "text/plain": [
       "Text(0.5, 1.0, 'Scatter plot of TV vs sales')"
      ]
     },
     "execution_count": 124,
     "metadata": {},
     "output_type": "execute_result"
    },
    {
     "data": {
      "image/png": "[encoded data removed]",
      "text/plain": [
       "<Figure size 640x480 with 1 Axes>"
      ]
     },
     "metadata": {},
     "output_type": "display_data"
    }
   ],
   "source": [
    "plt.scatter(df_cleaned['TV'], df_cleaned['sales'])\n",
    "plt.xlabel('TV')\n",
    "plt.ylabel('sales')\n",
    "plt.title('Scatter plot of TV vs sales')"
   ]
  },
  {
   "cell_type": "code",
   "execution_count": 125,
   "metadata": {},
   "outputs": [
    {
     "data": {
      "application/vnd.microsoft.datawrangler.viewer.v0+json": {
       "columns": [
        {
         "name": "index",
         "rawType": "int64",
         "type": "integer"
        },
        {
         "name": "TV",
         "rawType": "float64",
         "type": "float"
        },
        {
         "name": "radio",
         "rawType": "float64",
         "type": "float"
        },
        {
         "name": "newpaper",
         "rawType": "float64",
         "type": "float"
        }
       ],
       "conversionMethod": "pd.DataFrame",
       "ref": "370bf0ae-444b-4f0c-922f-59f1b0617983",
       "rows": [
        [
         "0",
         "44.5",
         "39.3",
         "45.1"
        ],
        [
         "1",
         "17.2",
         "45.9",
         "69.3"
        ],
        [
         "2",
         "151.5",
         "41.3",
         "58.5"
        ],
        [
         "3",
         "180.8",
         "10.8",
         "58.4"
        ],
        [
         "4",
         "8.7",
         "48.9",
         "75.0"
        ],
        [
         "5",
         "57.5",
         "32.8",
         "23.5"
        ],
        [
         "6",
         "120.2",
         "19.6",
         "11.6"
        ],
        [
         "7",
         "8.6",
         "2.1",
         "1.0"
        ],
        [
         "8",
         "199.8",
         "2.6",
         "21.2"
        ],
        [
         "9",
         "66.1",
         "5.8",
         "24.2"
        ],
        [
         "10",
         "214.7",
         "24.0",
         "4.0"
        ],
        [
         "11",
         "23.8",
         "35.1",
         "65.9"
        ],
        [
         "12",
         "97.5",
         "7.6",
         "7.2"
        ],
        [
         "13",
         "204.1",
         "32.9",
         "46.0"
        ],
        [
         "14",
         "195.4",
         "47.7",
         "52.9"
        ],
        [
         "15",
         "67.8",
         "36.6",
         "114.0"
        ],
        [
         "16",
         "281.4",
         "39.6",
         "55.8"
        ],
        [
         "17",
         "69.2",
         "20.5",
         "18.3"
        ],
        [
         "18",
         "147.3",
         "23.9",
         "19.1"
        ],
        [
         "19",
         "218.4",
         "27.7",
         "53.4"
        ],
        [
         "20",
         "237.4",
         "5.1",
         "23.5"
        ],
        [
         "21",
         "13.2",
         "15.9",
         "49.6"
        ],
        [
         "22",
         "228.3",
         "16.9",
         "26.2"
        ],
        [
         "23",
         "62.3",
         "12.6",
         "18.3"
        ],
        [
         "24",
         "262.9",
         "3.5",
         "19.5"
        ],
        [
         "25",
         "142.9",
         "29.3",
         "12.6"
        ],
        [
         "26",
         "240.1",
         "16.7",
         "22.9"
        ],
        [
         "27",
         "248.8",
         "27.1",
         "22.9"
        ],
        [
         "28",
         "70.6",
         "16.0",
         "40.8"
        ],
        [
         "29",
         "292.9",
         "28.3",
         "43.2"
        ],
        [
         "30",
         "112.9",
         "17.4",
         "38.6"
        ],
        [
         "31",
         "97.2",
         "1.5",
         "30.0"
        ],
        [
         "32",
         "265.6",
         "20.0",
         "0.3"
        ],
        [
         "33",
         "95.7",
         "1.4",
         "7.4"
        ],
        [
         "34",
         "290.7",
         "4.1",
         "8.5"
        ],
        [
         "35",
         "266.9",
         "43.8",
         "5.0"
        ],
        [
         "36",
         "74.7",
         "49.4",
         "45.7"
        ],
        [
         "37",
         "43.1",
         "26.7",
         "35.1"
        ],
        [
         "38",
         "228.0",
         "37.7",
         "32.0"
        ],
        [
         "39",
         "202.5",
         "22.3",
         "31.6"
        ],
        [
         "40",
         "177.0",
         "33.4",
         "38.7"
        ],
        [
         "41",
         "293.6",
         "27.7",
         "1.8"
        ],
        [
         "42",
         "206.9",
         "8.4",
         "26.4"
        ],
        [
         "43",
         "25.1",
         "25.7",
         "43.3"
        ],
        [
         "44",
         "175.1",
         "22.5",
         "31.5"
        ],
        [
         "45",
         "89.7",
         "9.9",
         "35.7"
        ],
        [
         "46",
         "239.9",
         "41.5",
         "18.5"
        ],
        [
         "47",
         "227.2",
         "15.8",
         "49.9"
        ],
        [
         "48",
         "66.9",
         "11.7",
         "36.8"
        ],
        [
         "49",
         "199.8",
         "3.1",
         "34.6"
        ]
       ],
       "shape": {
        "columns": 3,
        "rows": 199
       }
      },
      "text/html": [
       "<div>\n",
       "<style scoped>\n",
       "    .dataframe tbody tr th:only-of-type {\n",
       "        vertical-align: middle;\n",
       "    }\n",
       "\n",
       "    .dataframe tbody tr th {\n",
       "        vertical-align: top;\n",
       "    }\n",
       "\n",
       "    .dataframe thead th {\n",
       "        text-align: right;\n",
       "    }\n",
       "</style>\n",
       "<table border=\"1\" class=\"dataframe\">\n",
       "  <thead>\n",
       "    <tr style=\"text-align: right;\">\n",
       "      <th></th>\n",
       "      <th>TV</th>\n",
       "      <th>radio</th>\n",
       "      <th>newpaper</th>\n",
       "    </tr>\n",
       "  </thead>\n",
       "  <tbody>\n",
       "    <tr>\n",
       "      <th>0</th>\n",
       "      <td>44.5</td>\n",
       "      <td>39.3</td>\n",
       "      <td>45.1</td>\n",
       "    </tr>\n",
       "    <tr>\n",
       "      <th>1</th>\n",
       "      <td>17.2</td>\n",
       "      <td>45.9</td>\n",
       "      <td>69.3</td>\n",
       "    </tr>\n",
       "    <tr>\n",
       "      <th>2</th>\n",
       "      <td>151.5</td>\n",
       "      <td>41.3</td>\n",
       "      <td>58.5</td>\n",
       "    </tr>\n",
       "    <tr>\n",
       "      <th>3</th>\n",
       "      <td>180.8</td>\n",
       "      <td>10.8</td>\n",
       "      <td>58.4</td>\n",
       "    </tr>\n",
       "    <tr>\n",
       "      <th>4</th>\n",
       "      <td>8.7</td>\n",
       "      <td>48.9</td>\n",
       "      <td>75.0</td>\n",
       "    </tr>\n",
       "    <tr>\n",
       "      <th>...</th>\n",
       "      <td>...</td>\n",
       "      <td>...</td>\n",
       "      <td>...</td>\n",
       "    </tr>\n",
       "    <tr>\n",
       "      <th>194</th>\n",
       "      <td>38.2</td>\n",
       "      <td>3.7</td>\n",
       "      <td>13.8</td>\n",
       "    </tr>\n",
       "    <tr>\n",
       "      <th>195</th>\n",
       "      <td>94.2</td>\n",
       "      <td>4.9</td>\n",
       "      <td>8.1</td>\n",
       "    </tr>\n",
       "    <tr>\n",
       "      <th>196</th>\n",
       "      <td>177.0</td>\n",
       "      <td>9.3</td>\n",
       "      <td>6.4</td>\n",
       "    </tr>\n",
       "    <tr>\n",
       "      <th>197</th>\n",
       "      <td>283.6</td>\n",
       "      <td>42.0</td>\n",
       "      <td>66.2</td>\n",
       "    </tr>\n",
       "    <tr>\n",
       "      <th>198</th>\n",
       "      <td>232.1</td>\n",
       "      <td>8.6</td>\n",
       "      <td>8.7</td>\n",
       "    </tr>\n",
       "  </tbody>\n",
       "</table>\n",
       "<p>199 rows × 3 columns</p>\n",
       "</div>"
      ],
      "text/plain": [
       "        TV  radio  newpaper\n",
       "0     44.5   39.3      45.1\n",
       "1     17.2   45.9      69.3\n",
       "2    151.5   41.3      58.5\n",
       "3    180.8   10.8      58.4\n",
       "4      8.7   48.9      75.0\n",
       "..     ...    ...       ...\n",
       "194   38.2    3.7      13.8\n",
       "195   94.2    4.9       8.1\n",
       "196  177.0    9.3       6.4\n",
       "197  283.6   42.0      66.2\n",
       "198  232.1    8.6       8.7\n",
       "\n",
       "[199 rows x 3 columns]"
      ]
     },
     "execution_count": 125,
     "metadata": {},
     "output_type": "execute_result"
    }
   ],
   "source": [
    "X = df_cleaned[[\"TV\", \"radio\",\"newpaper\"]]\n",
    "X"
   ]
  },
  {
   "cell_type": "code",
   "execution_count": 126,
   "metadata": {},
   "outputs": [
    {
     "data": {
      "text/plain": [
       "0      10400.0\n",
       "1       9300.0\n",
       "2      18500.0\n",
       "3      12900.0\n",
       "4       7200.0\n",
       "        ...   \n",
       "194     7600.0\n",
       "195     9700.0\n",
       "196    12800.0\n",
       "197    25500.0\n",
       "198    13400.0\n",
       "Name: sales, Length: 199, dtype: float64"
      ]
     },
     "execution_count": 126,
     "metadata": {},
     "output_type": "execute_result"
    }
   ],
   "source": [
    "# Dividir el dataset en conjunto de entrenamiento y prueba\n",
    "y = df_cleaned[\"sales\"]\n",
    "y"
   ]
  },
  {
   "cell_type": "code",
   "execution_count": 127,
   "metadata": {},
   "outputs": [],
   "source": [
    "\n",
    "n_split = 160  # Para 80%-20% de división\n",
    "# Dividir el dataset en conjunto de entrenamiento y prueba\n",
    "\n",
    "x_train = df_cleaned.iloc[:n_split,0:-1] # without sales\n",
    "x_test = df_cleaned.iloc[n_split:,0:-1]  #ultimos 40\n",
    "y_train = df_cleaned.iloc[:n_split,-1] # SALES column\n",
    "y_test = df_cleaned.iloc[n_split:,-1]  # SALES column"
   ]
  },
  {
   "cell_type": "code",
   "execution_count": 128,
   "metadata": {},
   "outputs": [],
   "source": [
    "from sklearn.preprocessing import StandardScaler"
   ]
  },
  {
   "cell_type": "code",
   "execution_count": 129,
   "metadata": {},
   "outputs": [],
   "source": [
    "scaler = StandardScaler()\n",
    "\n",
    "scaler.fit(x_train)\n",
    "\n",
    "x_train_scale = scaler.transform(x_train)\n",
    "x_test_scale = scaler.transform(x_test)"
   ]
  },
  {
   "cell_type": "code",
   "execution_count": 130,
   "metadata": {},
   "outputs": [
    {
     "name": "stdout",
     "output_type": "stream",
     "text": [
      "(160, 3)\n",
      "(39, 3)\n",
      "(160,)\n",
      "(39,)\n"
     ]
    }
   ],
   "source": [
    "print(x_train_scale.shape)\n",
    "print(x_test_scale.shape)\n",
    "print(y_train.shape)\n",
    "print(y_test.shape)"
   ]
  },
  {
   "cell_type": "code",
   "execution_count": 131,
   "metadata": {},
   "outputs": [
    {
     "data": {
      "text/plain": [
       "(array([[-1.15172807,  1.02799169,  0.60638375],\n",
       "        [-1.47225589,  1.47972454,  1.71698299],\n",
       "        [ 0.10455312,  1.16488043,  1.22134366],\n",
       "        [ 0.44856283, -0.92267291,  1.21675441],\n",
       "        [-1.57205392,  1.68505766,  1.97857042]]),\n",
       " 160    13300.0\n",
       " 161    14900.0\n",
       " 162    18000.0\n",
       " 163    11900.0\n",
       " 164    11900.0\n",
       " Name: sales, dtype: float64)"
      ]
     },
     "execution_count": 131,
     "metadata": {},
     "output_type": "execute_result"
    }
   ],
   "source": [
    "x_train_scale[:5,:], y_test[:5]"
   ]
  },
  {
   "cell_type": "markdown",
   "metadata": {},
   "source": [
    "## Modelado"
   ]
  },
  {
   "cell_type": "markdown",
   "metadata": {},
   "source": [
    "### 1) Regresión Lineal"
   ]
  },
  {
   "cell_type": "code",
   "execution_count": 132,
   "metadata": {},
   "outputs": [
    {
     "name": "stdout",
     "output_type": "stream",
     "text": [
      "Train RMSE: 1675.260480029552\n",
      "Test RMSE: 1690.551328907591\n"
     ]
    }
   ],
   "source": [
    "lr = linear_model.LinearRegression()\n",
    "\n",
    "lr.fit(x_train_scale, y_train) # fit entrena el modelo con: x_train_scale: Variables predictoras escaladas (ej: TV, radio, newspaper normalizados) \n",
    "# y_train: Variable objetivo (ej: ventas/sales)\n",
    "\n",
    "y_pred = lr.predict(x_test_scale) #  Genera predicciones para los datos de prueba (x_test_scale).\n",
    "baseline_error = metrics.root_mean_squared_error(y_test, y_pred) # y_test: Valores reales, y_pred: Predicciones del modelo.\n",
    "\n",
    "print(\"Train RMSE:\", metrics.root_mean_squared_error(y_train, lr.predict(x_train_scale))) # Error en datos de entrenamiento (para detectar sobreajuste).\n",
    "print(\"Test RMSE:\", metrics.root_mean_squared_error(y_test, y_pred)) # Error en datos de prueba (evalúa generalización)."
   ]
  },
  {
   "cell_type": "markdown",
   "metadata": {},
   "source": [
    "- La diferencia entre los RMSE es mínima (~15.29 unidades), lo que sugiere que:\n",
    "\n",
    "- El modelo generaliza bien: No hay sobreajuste (overfitting), ya que el rendimiento es consistente en ambos conjuntos.\n",
    "\n",
    "- El modelo es estable: La performance no degrada significativamente con datos nuevos."
   ]
  },
  {
   "cell_type": "markdown",
   "metadata": {},
   "source": [
    "### 2) Regularization"
   ]
  },
  {
   "cell_type": "code",
   "execution_count": 133,
   "metadata": {},
   "outputs": [
    {
     "name": "stdout",
     "output_type": "stream",
     "text": [
      "Train R²: 0.8951517563299454\n",
      "Test R²: 0.895621919698645\n"
     ]
    }
   ],
   "source": [
    "from sklearn.metrics import r2_score   #coeficiente de determinación\n",
    "\n",
    "# Calcular R² para train y test\n",
    "train_r2 = lr.score(x_train_scale, y_train)  # Equivalente a r2_score(y_train, lr.predict(x_train))\n",
    "test_r2 = r2_score(y_test, y_pred)\n",
    "\n",
    "print(\"Train R²:\", train_r2)\n",
    "print(\"Test R²:\", test_r2)"
   ]
  },
  {
   "cell_type": "markdown",
   "metadata": {},
   "source": [
    "- Ridge: Es una versión regularizada de la regresión lineal que evita el sobreajuste penalizando coeficientes grandes."
   ]
  },
  {
   "cell_type": "code",
   "execution_count": 134,
   "metadata": {},
   "outputs": [
    {
     "name": "stdout",
     "output_type": "stream",
     "text": [
      "Train MSE sin regularización: 2806497.68\n",
      "Test MSE sin regularización: 2857963.8\n",
      "Train MSE con regularización: 2806722.68\n",
      "Test MSE con regularización: 2853176.36\n"
     ]
    }
   ],
   "source": [
    "from sklearn.linear_model import Ridge\n",
    "\n",
    "ridgeR = Ridge(alpha = 0.5) # alpha: parámetro de regularización (0.5 es un valor común, pero se puede ajustar según el problema).\n",
    "ridgeR.fit(x_train_scale, y_train) \n",
    "\n",
    "print(\"Train MSE sin regularización:\", round(metrics.mean_squared_error(y_train, lr.predict(x_train_scale)),2))\n",
    "print(\"Test MSE sin regularización:\", round(metrics.mean_squared_error(y_test, lr.predict(x_test_scale)),2))\n",
    "\n",
    "print(\"Train MSE con regularización:\", round(metrics.mean_squared_error(y_train, ridgeR.predict(x_train_scale)),2))\n",
    "print(\"Test MSE con regularización:\", round(metrics.mean_squared_error(y_test, ridgeR.predict(x_test_scale)),2))\n"
   ]
  },
  {
   "cell_type": "markdown",
   "metadata": {},
   "source": [
    "- MSE train y test sin regularización: Diferencia: ~51,466 (1.8% mayor en test).\n",
    "    - Conclusión: El modelo no tiene overfitting (la diferencia es mínima), pero el error absoluto es alto.\n",
    "- MSE train y test con regularización: casi igual en los 2 casos,  Ridge no mejoró significativamente el modelo en este caso."
   ]
  },
  {
   "cell_type": "markdown",
   "metadata": {},
   "source": [
    "### Transformación polinómica\n",
    "- (Mejorar el modelo lineal cuando hay relaciones no lineales.)\n",
    "- Explorar interacciones entre variables (ej: efecto combinado de TV y radio en sales)."
   ]
  },
  {
   "cell_type": "code",
   "execution_count": 135,
   "metadata": {},
   "outputs": [],
   "source": [
    "# Importación de librerías necesarias\n",
    "from sklearn.model_selection import train_test_split  # Para dividir los datos en train/test\n",
    "from sklearn.preprocessing import PolynomialFeatures  # Para crear características polinómicas\n",
    "\n",
    "# 1. DIVISIÓN DE DATOS EN ENTRENAMIENTO Y PRUEBA\n",
    "# ------------------------------------------------------------\n",
    "# Divide los datos en:\n",
    "# - 80% para entrenamiento (x_train_scale, y_train)\n",
    "# - 20% para prueba (x_test_scale, y_test)\n",
    "# random_state=12 garantiza que la división sea reproducible (mismos resultados cada ejecución)\n",
    "x_train_scale, x_test_scale, y_train, y_test = train_test_split(\n",
    "     X,  # Variables predictoras (características)\n",
    "     y,  # Variable objetivo (lo que queremos predecir)\n",
    "     test_size=0.2,  # 20% de los datos para prueba\n",
    "     random_state=12  # Semilla para reproducibilidad\n",
    ")\n",
    "\n",
    "# 2. CREACIÓN DE CARACTERÍSTICAS POLINÓMICAS\n",
    "# ------------------------------------------------------------\n",
    "# Crea un transformador polinómico de grado 2 que generará:\n",
    "# - Términos originales\n",
    "# - Términos cuadráticos (x²)\n",
    "# - Términos de interacción (xy)\n",
    "poly = PolynomialFeatures(degree=2)  # El grado determina la complejidad del polinomio\n",
    "\n",
    "# Transforma los datos de entrenamiento:\n",
    "# - fit_transform() calcula parámetros y aplica la transformación\n",
    "# - Solo se hace en train para evitar data leakage\n",
    "x_train_poly = poly.fit_transform(x_train_scale)\n",
    "\n",
    "# # Transforma los datos de prueba:\n",
    " # - transform() aplica la misma transformación aprendida en train\n",
    " # - Nunca usar fit() en test para no contaminar la evaluación\n",
    "x_test_poly = poly.transform(x_test_scale)\n"
   ]
  },
  {
   "cell_type": "code",
   "execution_count": 136,
   "metadata": {},
   "outputs": [],
   "source": [
    "x_train_scale, x_test_scale, y_train, y_test = train_test_split(\n",
    "     X,  # Variables predictoras (características)\n",
    "     y,  # Variable objetivo (lo que queremos predecir)\n",
    "     test_size=0.2,  # 20% de los datos para prueba\n",
    "     random_state=12  # Semilla para reproducibilidad\n",
    ")\n",
    "\n",
    "poly = PolynomialFeatures(degree=3)  # El grado determina la complejidad del polinomio\n",
    "\n",
    "\n",
    "x_train_poly = poly.fit_transform(x_train_scale)\n",
    "\n",
    "\n",
    "x_test_poly = poly.transform(x_test_scale)"
   ]
  },
  {
   "cell_type": "code",
   "execution_count": 137,
   "metadata": {},
   "outputs": [],
   "source": [
    "from sklearn.model_selection import train_test_split\n",
    "x_train, x_test, y_train, y_test = train_test_split(X, y, test_size=0.2, random_state=42)"
   ]
  },
  {
   "cell_type": "code",
   "execution_count": 138,
   "metadata": {},
   "outputs": [
    {
     "data": {
      "text/html": [
       "<style>#sk-container-id-6 {\n",
       "  /* Definition of color scheme common for light and dark mode */\n",
       "  --sklearn-color-text: #000;\n",
       "  --sklearn-color-text-muted: #666;\n",
       "  --sklearn-color-line: gray;\n",
       "  /* Definition of color scheme for unfitted estimators */\n",
       "  --sklearn-color-unfitted-level-0: #fff5e6;\n",
       "  --sklearn-color-unfitted-level-1: #f6e4d2;\n",
       "  --sklearn-color-unfitted-level-2: #ffe0b3;\n",
       "  --sklearn-color-unfitted-level-3: chocolate;\n",
       "  /* Definition of color scheme for fitted estimators */\n",
       "  --sklearn-color-fitted-level-0: #f0f8ff;\n",
       "  --sklearn-color-fitted-level-1: #d4ebff;\n",
       "  --sklearn-color-fitted-level-2: #b3dbfd;\n",
       "  --sklearn-color-fitted-level-3: cornflowerblue;\n",
       "\n",
       "  /* Specific color for light theme */\n",
       "  --sklearn-color-text-on-default-background: var(--sg-text-color, var(--theme-code-foreground, var(--jp-content-font-color1, black)));\n",
       "  --sklearn-color-background: var(--sg-background-color, var(--theme-background, var(--jp-layout-color0, white)));\n",
       "  --sklearn-color-border-box: var(--sg-text-color, var(--theme-code-foreground, var(--jp-content-font-color1, black)));\n",
       "  --sklearn-color-icon: #696969;\n",
       "\n",
       "  @media (prefers-color-scheme: dark) {\n",
       "    /* Redefinition of color scheme for dark theme */\n",
       "    --sklearn-color-text-on-default-background: var(--sg-text-color, var(--theme-code-foreground, var(--jp-content-font-color1, white)));\n",
       "    --sklearn-color-background: var(--sg-background-color, var(--theme-background, var(--jp-layout-color0, #111)));\n",
       "    --sklearn-color-border-box: var(--sg-text-color, var(--theme-code-foreground, var(--jp-content-font-color1, white)));\n",
       "    --sklearn-color-icon: #878787;\n",
       "  }\n",
       "}\n",
       "\n",
       "#sk-container-id-6 {\n",
       "  color: var(--sklearn-color-text);\n",
       "}\n",
       "\n",
       "#sk-container-id-6 pre {\n",
       "  padding: 0;\n",
       "}\n",
       "\n",
       "#sk-container-id-6 input.sk-hidden--visually {\n",
       "  border: 0;\n",
       "  clip: rect(1px 1px 1px 1px);\n",
       "  clip: rect(1px, 1px, 1px, 1px);\n",
       "  height: 1px;\n",
       "  margin: -1px;\n",
       "  overflow: hidden;\n",
       "  padding: 0;\n",
       "  position: absolute;\n",
       "  width: 1px;\n",
       "}\n",
       "\n",
       "#sk-container-id-6 div.sk-dashed-wrapped {\n",
       "  border: 1px dashed var(--sklearn-color-line);\n",
       "  margin: 0 0.4em 0.5em 0.4em;\n",
       "  box-sizing: border-box;\n",
       "  padding-bottom: 0.4em;\n",
       "  background-color: var(--sklearn-color-background);\n",
       "}\n",
       "\n",
       "#sk-container-id-6 div.sk-container {\n",
       "  /* jupyter's `normalize.less` sets `[hidden] { display: none; }`\n",
       "     but bootstrap.min.css set `[hidden] { display: none !important; }`\n",
       "     so we also need the `!important` here to be able to override the\n",
       "     default hidden behavior on the sphinx rendered scikit-learn.org.\n",
       "     See: https://github.com/scikit-learn/scikit-learn/issues/21755 */\n",
       "  display: inline-block !important;\n",
       "  position: relative;\n",
       "}\n",
       "\n",
       "#sk-container-id-6 div.sk-text-repr-fallback {\n",
       "  display: none;\n",
       "}\n",
       "\n",
       "div.sk-parallel-item,\n",
       "div.sk-serial,\n",
       "div.sk-item {\n",
       "  /* draw centered vertical line to link estimators */\n",
       "  background-image: linear-gradient(var(--sklearn-color-text-on-default-background), var(--sklearn-color-text-on-default-background));\n",
       "  background-size: 2px 100%;\n",
       "  background-repeat: no-repeat;\n",
       "  background-position: center center;\n",
       "}\n",
       "\n",
       "/* Parallel-specific style estimator block */\n",
       "\n",
       "#sk-container-id-6 div.sk-parallel-item::after {\n",
       "  content: \"\";\n",
       "  width: 100%;\n",
       "  border-bottom: 2px solid var(--sklearn-color-text-on-default-background);\n",
       "  flex-grow: 1;\n",
       "}\n",
       "\n",
       "#sk-container-id-6 div.sk-parallel {\n",
       "  display: flex;\n",
       "  align-items: stretch;\n",
       "  justify-content: center;\n",
       "  background-color: var(--sklearn-color-background);\n",
       "  position: relative;\n",
       "}\n",
       "\n",
       "#sk-container-id-6 div.sk-parallel-item {\n",
       "  display: flex;\n",
       "  flex-direction: column;\n",
       "}\n",
       "\n",
       "#sk-container-id-6 div.sk-parallel-item:first-child::after {\n",
       "  align-self: flex-end;\n",
       "  width: 50%;\n",
       "}\n",
       "\n",
       "#sk-container-id-6 div.sk-parallel-item:last-child::after {\n",
       "  align-self: flex-start;\n",
       "  width: 50%;\n",
       "}\n",
       "\n",
       "#sk-container-id-6 div.sk-parallel-item:only-child::after {\n",
       "  width: 0;\n",
       "}\n",
       "\n",
       "/* Serial-specific style estimator block */\n",
       "\n",
       "#sk-container-id-6 div.sk-serial {\n",
       "  display: flex;\n",
       "  flex-direction: column;\n",
       "  align-items: center;\n",
       "  background-color: var(--sklearn-color-background);\n",
       "  padding-right: 1em;\n",
       "  padding-left: 1em;\n",
       "}\n",
       "\n",
       "\n",
       "/* Toggleable style: style used for estimator/Pipeline/ColumnTransformer box that is\n",
       "clickable and can be expanded/collapsed.\n",
       "- Pipeline and ColumnTransformer use this feature and define the default style\n",
       "- Estimators will overwrite some part of the style using the `sk-estimator` class\n",
       "*/\n",
       "\n",
       "/* Pipeline and ColumnTransformer style (default) */\n",
       "\n",
       "#sk-container-id-6 div.sk-toggleable {\n",
       "  /* Default theme specific background. It is overwritten whether we have a\n",
       "  specific estimator or a Pipeline/ColumnTransformer */\n",
       "  background-color: var(--sklearn-color-background);\n",
       "}\n",
       "\n",
       "/* Toggleable label */\n",
       "#sk-container-id-6 label.sk-toggleable__label {\n",
       "  cursor: pointer;\n",
       "  display: flex;\n",
       "  width: 100%;\n",
       "  margin-bottom: 0;\n",
       "  padding: 0.5em;\n",
       "  box-sizing: border-box;\n",
       "  text-align: center;\n",
       "  align-items: start;\n",
       "  justify-content: space-between;\n",
       "  gap: 0.5em;\n",
       "}\n",
       "\n",
       "#sk-container-id-6 label.sk-toggleable__label .caption {\n",
       "  font-size: 0.6rem;\n",
       "  font-weight: lighter;\n",
       "  color: var(--sklearn-color-text-muted);\n",
       "}\n",
       "\n",
       "#sk-container-id-6 label.sk-toggleable__label-arrow:before {\n",
       "  /* Arrow on the left of the label */\n",
       "  content: \"▸\";\n",
       "  float: left;\n",
       "  margin-right: 0.25em;\n",
       "  color: var(--sklearn-color-icon);\n",
       "}\n",
       "\n",
       "#sk-container-id-6 label.sk-toggleable__label-arrow:hover:before {\n",
       "  color: var(--sklearn-color-text);\n",
       "}\n",
       "\n",
       "/* Toggleable content - dropdown */\n",
       "\n",
       "#sk-container-id-6 div.sk-toggleable__content {\n",
       "  max-height: 0;\n",
       "  max-width: 0;\n",
       "  overflow: hidden;\n",
       "  text-align: left;\n",
       "  /* unfitted */\n",
       "  background-color: var(--sklearn-color-unfitted-level-0);\n",
       "}\n",
       "\n",
       "#sk-container-id-6 div.sk-toggleable__content.fitted {\n",
       "  /* fitted */\n",
       "  background-color: var(--sklearn-color-fitted-level-0);\n",
       "}\n",
       "\n",
       "#sk-container-id-6 div.sk-toggleable__content pre {\n",
       "  margin: 0.2em;\n",
       "  border-radius: 0.25em;\n",
       "  color: var(--sklearn-color-text);\n",
       "  /* unfitted */\n",
       "  background-color: var(--sklearn-color-unfitted-level-0);\n",
       "}\n",
       "\n",
       "#sk-container-id-6 div.sk-toggleable__content.fitted pre {\n",
       "  /* unfitted */\n",
       "  background-color: var(--sklearn-color-fitted-level-0);\n",
       "}\n",
       "\n",
       "#sk-container-id-6 input.sk-toggleable__control:checked~div.sk-toggleable__content {\n",
       "  /* Expand drop-down */\n",
       "  max-height: 200px;\n",
       "  max-width: 100%;\n",
       "  overflow: auto;\n",
       "}\n",
       "\n",
       "#sk-container-id-6 input.sk-toggleable__control:checked~label.sk-toggleable__label-arrow:before {\n",
       "  content: \"▾\";\n",
       "}\n",
       "\n",
       "/* Pipeline/ColumnTransformer-specific style */\n",
       "\n",
       "#sk-container-id-6 div.sk-label input.sk-toggleable__control:checked~label.sk-toggleable__label {\n",
       "  color: var(--sklearn-color-text);\n",
       "  background-color: var(--sklearn-color-unfitted-level-2);\n",
       "}\n",
       "\n",
       "#sk-container-id-6 div.sk-label.fitted input.sk-toggleable__control:checked~label.sk-toggleable__label {\n",
       "  background-color: var(--sklearn-color-fitted-level-2);\n",
       "}\n",
       "\n",
       "/* Estimator-specific style */\n",
       "\n",
       "/* Colorize estimator box */\n",
       "#sk-container-id-6 div.sk-estimator input.sk-toggleable__control:checked~label.sk-toggleable__label {\n",
       "  /* unfitted */\n",
       "  background-color: var(--sklearn-color-unfitted-level-2);\n",
       "}\n",
       "\n",
       "#sk-container-id-6 div.sk-estimator.fitted input.sk-toggleable__control:checked~label.sk-toggleable__label {\n",
       "  /* fitted */\n",
       "  background-color: var(--sklearn-color-fitted-level-2);\n",
       "}\n",
       "\n",
       "#sk-container-id-6 div.sk-label label.sk-toggleable__label,\n",
       "#sk-container-id-6 div.sk-label label {\n",
       "  /* The background is the default theme color */\n",
       "  color: var(--sklearn-color-text-on-default-background);\n",
       "}\n",
       "\n",
       "/* On hover, darken the color of the background */\n",
       "#sk-container-id-6 div.sk-label:hover label.sk-toggleable__label {\n",
       "  color: var(--sklearn-color-text);\n",
       "  background-color: var(--sklearn-color-unfitted-level-2);\n",
       "}\n",
       "\n",
       "/* Label box, darken color on hover, fitted */\n",
       "#sk-container-id-6 div.sk-label.fitted:hover label.sk-toggleable__label.fitted {\n",
       "  color: var(--sklearn-color-text);\n",
       "  background-color: var(--sklearn-color-fitted-level-2);\n",
       "}\n",
       "\n",
       "/* Estimator label */\n",
       "\n",
       "#sk-container-id-6 div.sk-label label {\n",
       "  font-family: monospace;\n",
       "  font-weight: bold;\n",
       "  display: inline-block;\n",
       "  line-height: 1.2em;\n",
       "}\n",
       "\n",
       "#sk-container-id-6 div.sk-label-container {\n",
       "  text-align: center;\n",
       "}\n",
       "\n",
       "/* Estimator-specific */\n",
       "#sk-container-id-6 div.sk-estimator {\n",
       "  font-family: monospace;\n",
       "  border: 1px dotted var(--sklearn-color-border-box);\n",
       "  border-radius: 0.25em;\n",
       "  box-sizing: border-box;\n",
       "  margin-bottom: 0.5em;\n",
       "  /* unfitted */\n",
       "  background-color: var(--sklearn-color-unfitted-level-0);\n",
       "}\n",
       "\n",
       "#sk-container-id-6 div.sk-estimator.fitted {\n",
       "  /* fitted */\n",
       "  background-color: var(--sklearn-color-fitted-level-0);\n",
       "}\n",
       "\n",
       "/* on hover */\n",
       "#sk-container-id-6 div.sk-estimator:hover {\n",
       "  /* unfitted */\n",
       "  background-color: var(--sklearn-color-unfitted-level-2);\n",
       "}\n",
       "\n",
       "#sk-container-id-6 div.sk-estimator.fitted:hover {\n",
       "  /* fitted */\n",
       "  background-color: var(--sklearn-color-fitted-level-2);\n",
       "}\n",
       "\n",
       "/* Specification for estimator info (e.g. \"i\" and \"?\") */\n",
       "\n",
       "/* Common style for \"i\" and \"?\" */\n",
       "\n",
       ".sk-estimator-doc-link,\n",
       "a:link.sk-estimator-doc-link,\n",
       "a:visited.sk-estimator-doc-link {\n",
       "  float: right;\n",
       "  font-size: smaller;\n",
       "  line-height: 1em;\n",
       "  font-family: monospace;\n",
       "  background-color: var(--sklearn-color-background);\n",
       "  border-radius: 1em;\n",
       "  height: 1em;\n",
       "  width: 1em;\n",
       "  text-decoration: none !important;\n",
       "  margin-left: 0.5em;\n",
       "  text-align: center;\n",
       "  /* unfitted */\n",
       "  border: var(--sklearn-color-unfitted-level-1) 1pt solid;\n",
       "  color: var(--sklearn-color-unfitted-level-1);\n",
       "}\n",
       "\n",
       ".sk-estimator-doc-link.fitted,\n",
       "a:link.sk-estimator-doc-link.fitted,\n",
       "a:visited.sk-estimator-doc-link.fitted {\n",
       "  /* fitted */\n",
       "  border: var(--sklearn-color-fitted-level-1) 1pt solid;\n",
       "  color: var(--sklearn-color-fitted-level-1);\n",
       "}\n",
       "\n",
       "/* On hover */\n",
       "div.sk-estimator:hover .sk-estimator-doc-link:hover,\n",
       ".sk-estimator-doc-link:hover,\n",
       "div.sk-label-container:hover .sk-estimator-doc-link:hover,\n",
       ".sk-estimator-doc-link:hover {\n",
       "  /* unfitted */\n",
       "  background-color: var(--sklearn-color-unfitted-level-3);\n",
       "  color: var(--sklearn-color-background);\n",
       "  text-decoration: none;\n",
       "}\n",
       "\n",
       "div.sk-estimator.fitted:hover .sk-estimator-doc-link.fitted:hover,\n",
       ".sk-estimator-doc-link.fitted:hover,\n",
       "div.sk-label-container:hover .sk-estimator-doc-link.fitted:hover,\n",
       ".sk-estimator-doc-link.fitted:hover {\n",
       "  /* fitted */\n",
       "  background-color: var(--sklearn-color-fitted-level-3);\n",
       "  color: var(--sklearn-color-background);\n",
       "  text-decoration: none;\n",
       "}\n",
       "\n",
       "/* Span, style for the box shown on hovering the info icon */\n",
       ".sk-estimator-doc-link span {\n",
       "  display: none;\n",
       "  z-index: 9999;\n",
       "  position: relative;\n",
       "  font-weight: normal;\n",
       "  right: .2ex;\n",
       "  padding: .5ex;\n",
       "  margin: .5ex;\n",
       "  width: min-content;\n",
       "  min-width: 20ex;\n",
       "  max-width: 50ex;\n",
       "  color: var(--sklearn-color-text);\n",
       "  box-shadow: 2pt 2pt 4pt #999;\n",
       "  /* unfitted */\n",
       "  background: var(--sklearn-color-unfitted-level-0);\n",
       "  border: .5pt solid var(--sklearn-color-unfitted-level-3);\n",
       "}\n",
       "\n",
       ".sk-estimator-doc-link.fitted span {\n",
       "  /* fitted */\n",
       "  background: var(--sklearn-color-fitted-level-0);\n",
       "  border: var(--sklearn-color-fitted-level-3);\n",
       "}\n",
       "\n",
       ".sk-estimator-doc-link:hover span {\n",
       "  display: block;\n",
       "}\n",
       "\n",
       "/* \"?\"-specific style due to the `<a>` HTML tag */\n",
       "\n",
       "#sk-container-id-6 a.estimator_doc_link {\n",
       "  float: right;\n",
       "  font-size: 1rem;\n",
       "  line-height: 1em;\n",
       "  font-family: monospace;\n",
       "  background-color: var(--sklearn-color-background);\n",
       "  border-radius: 1rem;\n",
       "  height: 1rem;\n",
       "  width: 1rem;\n",
       "  text-decoration: none;\n",
       "  /* unfitted */\n",
       "  color: var(--sklearn-color-unfitted-level-1);\n",
       "  border: var(--sklearn-color-unfitted-level-1) 1pt solid;\n",
       "}\n",
       "\n",
       "#sk-container-id-6 a.estimator_doc_link.fitted {\n",
       "  /* fitted */\n",
       "  border: var(--sklearn-color-fitted-level-1) 1pt solid;\n",
       "  color: var(--sklearn-color-fitted-level-1);\n",
       "}\n",
       "\n",
       "/* On hover */\n",
       "#sk-container-id-6 a.estimator_doc_link:hover {\n",
       "  /* unfitted */\n",
       "  background-color: var(--sklearn-color-unfitted-level-3);\n",
       "  color: var(--sklearn-color-background);\n",
       "  text-decoration: none;\n",
       "}\n",
       "\n",
       "#sk-container-id-6 a.estimator_doc_link.fitted:hover {\n",
       "  /* fitted */\n",
       "  background-color: var(--sklearn-color-fitted-level-3);\n",
       "}\n",
       "</style><div id=\"sk-container-id-6\" class=\"sk-top-container\"><div class=\"sk-text-repr-fallback\"><pre>LinearRegression()</pre><b>In a Jupyter environment, please rerun this cell to show the HTML representation or trust the notebook. <br />On GitHub, the HTML representation is unable to render, please try loading this page with nbviewer.org.</b></div><div class=\"sk-container\" hidden><div class=\"sk-item\"><div class=\"sk-estimator fitted sk-toggleable\"><input class=\"sk-toggleable__control sk-hidden--visually\" id=\"sk-estimator-id-6\" type=\"checkbox\" checked><label for=\"sk-estimator-id-6\" class=\"sk-toggleable__label fitted sk-toggleable__label-arrow\"><div><div>LinearRegression</div></div><div><a class=\"sk-estimator-doc-link fitted\" rel=\"noreferrer\" target=\"_blank\" href=\"https://scikit-learn.org/1.6/modules/generated/sklearn.linear_model.LinearRegression.html\">?<span>Documentation for LinearRegression</span></a><span class=\"sk-estimator-doc-link fitted\">i<span>Fitted</span></span></div></label><div class=\"sk-toggleable__content fitted\"><pre>LinearRegression()</pre></div> </div></div></div></div>"
      ],
      "text/plain": [
       "LinearRegression()"
      ]
     },
     "execution_count": 138,
     "metadata": {},
     "output_type": "execute_result"
    }
   ],
   "source": [
    "lr2 = linear_model.LinearRegression()\n",
    " \n",
    "lr2.fit(x_train_poly, y_train)"
   ]
  },
  {
   "cell_type": "code",
   "execution_count": 139,
   "metadata": {},
   "outputs": [],
   "source": [
    "# Predicciones en el conjunto de prueba\n",
    "# - x_test_poly: datos de prueba transformados\n",
    "# - lr2.predict() genera las predicciones\n",
    "predictions = lr2.predict(x_test_poly)  "
   ]
  },
  {
   "cell_type": "code",
   "execution_count": 140,
   "metadata": {},
   "outputs": [
    {
     "name": "stdout",
     "output_type": "stream",
     "text": [
      "Train shape: (159, 3)\n",
      "Test shape: (40, 3)\n"
     ]
    }
   ],
   "source": [
    "# Verifica las dimensiones\n",
    "print(\"Train shape:\", x_train_scale.shape)\n",
    "print(\"Test shape:\", x_test_scale.shape)"
   ]
  },
  {
   "cell_type": "code",
   "execution_count": 141,
   "metadata": {},
   "outputs": [],
   "source": [
    "# Calcular el error cuadrático medio (MSE) para el conjunto de prueba\n",
    "# - y_test: valores reales\n",
    "# - predictions: predicciones del modelo\n",
    "# - mean_squared_error() calcula el MSE\n",
    "# - mse: error cuadrático medio\n",
    "mse = mean_squared_error(y_test, predictions)\n",
    "from sklearn.metrics import (\n",
    "    mean_absolute_error,\n",
    "    mean_absolute_percentage_error,\n",
    "    mean_squared_error,\n",
    "    r2_score\n",
    ")"
   ]
  },
  {
   "cell_type": "code",
   "execution_count": 142,
   "metadata": {},
   "outputs": [
    {
     "name": "stdout",
     "output_type": "stream",
     "text": [
      "MAE: 4658.28925631855\n",
      "MAPE: 0.419395127754712\n",
      "MSE: 34463041.85366239\n",
      "RMSE: 5870.523132878567\n",
      "r2_score train 0.13078174287768074\n",
      "r2_score test -0.731507155805869\n"
     ]
    }
   ],
   "source": [
    "#X_train, X_test, y_train, y_test = train_test_split(X_poly,Y, test_size = 0.2, random_state=12)\n",
    "\n",
    "#calcular metricas de evaluación\n",
    "\n",
    "print(\"MAE:\", mean_absolute_error(y_test, predictions))   \n",
    "print(\"MAPE:\", mean_absolute_percentage_error(y_test, predictions)) \n",
    "print(\"MSE:\", mean_squared_error(y_test, predictions))\n",
    "print(\"RMSE:\", np.sqrt(mean_squared_error(y_test, predictions)))\n",
    "print(\"r2_score train\", lr2.score(x_train_poly, y_train))\n",
    "print(\"r2_score test\",lr2.score(x_test_poly, y_test))"
   ]
  },
  {
   "cell_type": "markdown",
   "metadata": {},
   "source": [
    "- MAE/MAPE: Te dicen el error esperado al usar el modelo en el mundo real\n",
    "\n",
    "- MSE/RMSE: Son las métricas que el modelo intenta minimizar durante el entrenamiento\n",
    "\n",
    "- R²: Te indica si vale la pena usar el modelo (si es cercano a 0, el modelo no es útil)\n",
    "\n",
    "- Comparación train-test: Revela si el modelo memorizó los datos (overfitting) si R²_train ≫ R²_test\n",
    "\n",
    "    **Nuestros resultados**\n",
    "\n",
    "- El modelo de regresión tiene un excelente rendimiento"
   ]
  },
  {
   "cell_type": "code",
   "execution_count": 143,
   "metadata": {},
   "outputs": [],
   "source": [
    "# Configuración del rango de valores alpha para Ridge\n",
    "n_alphas = 100  # Número de valores alpha que probaremos\n",
    "alphas = np.logspace(0, 5, n_alphas)  # Crea 100 valores entre 10^0 y 10^5 en escala logarítmica\n",
    "# Esto nos permite probar desde regularización muy suave (alpha=1) hasta muy fuerte (alpha=100000)\n",
    "\n",
    "# Listas para almacenar resultados:\n",
    "coef_ridge = []  # Aquí guardaremos los coeficientes del modelo para cada alpha\n",
    "err_ridge = []   # Aquí almacenaremos el error (MSE) para cada alpha\n",
    "baseline = []    # Aquí guardaremos el error de referencia (baseline_error) para comparación\n",
    "\n",
    "# Bucle principal que prueba todos los valores de alpha\n",
    "for a in alphas:\n",
    "    # 1. Crear y entrenar modelo Ridge con el alpha actual\n",
    "    ridge = Ridge(alpha=a)  # Inicializa modelo Ridge con regularización alpha=a\n",
    "    ridge.fit(x_train_scale, y_train)  # Entrena el modelo con datos escalados\n",
    "    \n",
    "    # 2. Almacenar los coeficientes aprendidos\n",
    "    coef_ridge.append(ridge.coef_)  # Guarda los coeficientes para este alpha\n",
    "    \n",
    "    # 3. Calcular y almacenar el error de predicción\n",
    "    y_pred = ridge.predict(x_test_scale)  # Predice con el modelo entrenado\n",
    "    ridge_error = metrics.mean_squared_error(y_pred, y_test)  # Calcula MSE\n",
    "    err_ridge.append(ridge_error)  # Guarda el error para este alpha\n",
    "    \n",
    "    # 4. Mantener registro del error baseline para comparación\n",
    "    baseline.append(baseline_error)  # baseline_error debe estar definido previamente"
   ]
  },
  {
   "cell_type": "code",
   "execution_count": 144,
   "metadata": {},
   "outputs": [
    {
     "data": {
      "image/png": "[encoded data removed]",
      "text/plain": [
       "<Figure size 1500x800 with 1 Axes>"
      ]
     },
     "metadata": {},
     "output_type": "display_data"
    }
   ],
   "source": [
    "plt.figure(figsize=(15,8))\n",
    "ax = plt.gca()\n",
    "ax.plot(alphas, err_ridge, linewidth=5, color='red', label=\"Ridge regression\")  #LE PASAMOS LA ISTA DE ALPHAS Y E ERROR QUE LE CORRESPONE A ES ERIDGE DE LA LISTA DE ALPHAS\n",
    "ax.plot(alphas, baseline, linewidth=4,linestyle='--', color='blue', label='Linear regression')\n",
    "ax.set_xscale('log')\n",
    "plt.xlabel('$\\lambda$', fontsize=30)\n",
    "plt.xticks(fontsize=30)\n",
    "plt.yticks(fontsize=30)\n",
    "plt.ylabel('error', fontsize=30)\n",
    "ax.legend(fontsize=30)\n",
    "plt.title(r'Regression error ($\\lambda$)', fontsize=30)\n",
    "plt.show()"
   ]
  },
  {
   "cell_type": "code",
   "execution_count": 145,
   "metadata": {},
   "outputs": [
    {
     "name": "stdout",
     "output_type": "stream",
     "text": [
      "Train RMSE: 5325.61185872714\n",
      "Test RMSE: 4619.356171217927\n"
     ]
    }
   ],
   "source": [
    "lr = linear_model.LinearRegression()\n",
    "\n",
    "lr.fit(x_train_scale, y_train)\n",
    "\n",
    "y_pred = lr.predict(x_test_scale)\n",
    "baseline_error = metrics.root_mean_squared_error(y_test, y_pred)\n",
    "\n",
    "print(\"Train RMSE:\", metrics.root_mean_squared_error(y_train, lr.predict(x_train_scale)))\n",
    "print(\"Test RMSE:\", metrics.root_mean_squared_error(y_test, y_pred))"
   ]
  },
  {
   "cell_type": "code",
   "execution_count": 146,
   "metadata": {},
   "outputs": [
    {
     "name": "stdout",
     "output_type": "stream",
     "text": [
      "Train MSE sin regularización: 28362141.67\n",
      "Test MSE sin regularización: 21338451.44\n",
      "Train MSE: 53130422.6879\n",
      "Test MSE: 39637959.2221\n"
     ]
    }
   ],
   "source": [
    "from sklearn.linear_model import Lasso\n",
    "\n",
    "lassoR = Lasso(alpha=0.5)  #VEMOS LOS VALORES SIGNIFICATIVAMENE REDUCIDOS\n",
    "lassoR.fit(x_train, y_train)\n",
    "\n",
    "print(\"Train MSE sin regularización:\", round(metrics.mean_squared_error(y_train, lr.predict(x_train_scale)),2))\n",
    "print(\"Test MSE sin regularización:\", round(metrics.mean_squared_error(y_test, lr.predict(x_test_scale)),2))\n",
    "\n",
    "print(\"Train MSE: %0.4f\" % metrics.mean_squared_error(y_train, lassoR.predict(x_train_scale)))\n",
    "print(\"Test MSE: %0.4f\" % metrics.mean_squared_error(y_test, lassoR.predict(x_test_scale)))"
   ]
  },
  {
   "cell_type": "code",
   "execution_count": 147,
   "metadata": {},
   "outputs": [],
   "source": [
    "lasso = linear_model.Lasso(fit_intercept=False)\n",
    "\n",
    "coef_lasso = []\n",
    "err_lasso = []\n",
    "\n",
    "for a in alphas:\n",
    "    lasso.set_params(alpha=a)\n",
    "    lasso.fit(x_train_scale, y_train)\n",
    "    coef_lasso.append(lasso.coef_)\n",
    "    y_pred = lasso.predict(x_test_scale)\n",
    "    lasso_error = metrics.mean_squared_error(y_pred, y_test)    #\n",
    "    err_lasso.append(lasso_error)"
   ]
  },
  {
   "cell_type": "code",
   "execution_count": 148,
   "metadata": {},
   "outputs": [
    {
     "data": {
      "image/png": "[encoded data removed]",
      "text/plain": [
       "<Figure size 2000x1000 with 1 Axes>"
      ]
     },
     "metadata": {},
     "output_type": "display_data"
    }
   ],
   "source": [
    "plt.figure(figsize=(20,10))\n",
    "ax = plt.gca()\n",
    "ax.plot(alphas, err_lasso, linewidth=5, color='red', label=\"Lasso\")\n",
    "ax.plot(alphas, baseline, linewidth=4,linestyle='--', color='blue', label='Linear regression')\n",
    "ax.set_xscale('log')\n",
    "plt.xlabel('$\\lambda$', fontsize=30)\n",
    "plt.xticks(fontsize=30)\n",
    "plt.yticks(fontsize=30)\n",
    "plt.ylabel('error', fontsize=30)\n",
    "ax.legend(fontsize=30)\n",
    "plt.title(r'Regression error ($\\lambda$)', fontsize=30)\n",
    "plt.show()"
   ]
  },
  {
   "cell_type": "code",
   "execution_count": 149,
   "metadata": {},
   "outputs": [
    {
     "name": "stdout",
     "output_type": "stream",
     "text": [
      "Train MSE: 2872652.6816\n",
      "Test MSE: 2519406.8022\n"
     ]
    }
   ],
   "source": [
    "from sklearn.linear_model import ElasticNet\n",
    "\n",
    "elastic_net = ElasticNet(alpha = 0.5, l1_ratio = 0.1)\n",
    "elastic_net.fit(x_train, y_train)\n",
    "\n",
    "print(\"Train MSE: %0.4f\" % metrics.mean_squared_error(y_train, elastic_net.predict(x_train)))\n",
    "print(\"Test MSE: %0.4f\" % metrics.mean_squared_error(y_test, elastic_net.predict(x_test)))"
   ]
  },
  {
   "cell_type": "code",
   "execution_count": 150,
   "metadata": {},
   "outputs": [],
   "source": [
    "coef_eln = []\n",
    "err_eln = []\n",
    "baseline = []\n",
    "for a in alphas:\n",
    "    elastic_net = ElasticNet(alpha = a, l1_ratio=1)  \n",
    "    elastic_net.fit(x_train, y_train)\n",
    "    coef_eln.append(elastic_net.coef_)\n",
    "    y_pred = elastic_net.predict(x_test)\n",
    "    elasticnet_error = metrics.mean_squared_error(y_pred, y_test)\n",
    "    err_eln.append(elasticnet_error)\n",
    "    baseline.append(baseline_error)"
   ]
  },
  {
   "cell_type": "markdown",
   "metadata": {},
   "source": [
    "# (Explicación contaminación entre train y test)"
   ]
  },
  {
   "cell_type": "code",
   "execution_count": null,
   "metadata": {},
   "outputs": [],
   "source": []
  },
  {
   "cell_type": "markdown",
   "metadata": {},
   "source": [
    "## Resultados"
   ]
  },
  {
   "cell_type": "markdown",
   "metadata": {},
   "source": [
    "¿Cuánto cambian las ventas si aumentamos la inversión en radio un punto más? ¿Y si aumentamos la inversión en TV o periódicos?"
   ]
  },
  {
   "cell_type": "code",
   "execution_count": null,
   "metadata": {},
   "outputs": [],
   "source": []
  }
 ],
 "metadata": {
  "kernelspec": {
   "display_name": "Python 3",
   "language": "python",
   "name": "python3"
  },
  "language_info": {
   "codemirror_mode": {
    "name": "ipython",
    "version": 3
   },
   "file_extension": ".py",
   "mimetype": "text/x-python",
   "name": "python",
   "nbconvert_exporter": "python",
   "pygments_lexer": "ipython3",
   "version": "3.11.9"
  }
 },
 "nbformat": 4,
 "nbformat_minor": 4
}
