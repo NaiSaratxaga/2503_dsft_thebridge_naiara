{
 "cells": [
  {
   "attachments": {},
   "cell_type": "markdown",
   "metadata": {},
   "source": [
    "# Ejercicio Regression Tree\n",
    "Son datos de temperaturas tomados de la ciudad de Seattle. El objetivo es intentar predecir lo mejor posible la máxima temperatura (columna `actual`) que alcanzaremos al día siguiente. Para ello contaremos con temperaturas de los dos días anteriores, históricos de máximas temperaturas y un amigo bastante chapas que te da su predicción del tiempo cada día.\n",
    "\n",
    "**Resumen de datos**:\n",
    "* year: 2016 for all data points\n",
    "* month: number for month of the year\n",
    "* day: number for day of the year\n",
    "* week: day of the week as a character string\n",
    "* temp_2: max temperature 2 days prior\n",
    "* temp_1: max temperature 1 day prior\n",
    "* average: historical average max temperature\n",
    "* actual: max temperature measurement\n",
    "* friend: your friend’s prediction, a random number between 20 below the average and 20 above the average\n",
    "\n",
    "\n",
    "### 1. Importa el csv \"temps.csv\""
   ]
  },
  {
   "cell_type": "code",
   "execution_count": 183,
   "metadata": {},
   "outputs": [],
   "source": [
    "import pandas as pd\n",
    "import numpy as np\n",
    "import matplotlib.pyplot as plt\n",
    "import seaborn as sns"
   ]
  },
  {
   "cell_type": "code",
   "execution_count": 184,
   "metadata": {},
   "outputs": [
    {
     "data": {
      "application/vnd.microsoft.datawrangler.viewer.v0+json": {
       "columns": [
        {
         "name": "index",
         "rawType": "int64",
         "type": "integer"
        },
        {
         "name": "year",
         "rawType": "int64",
         "type": "integer"
        },
        {
         "name": "month",
         "rawType": "int64",
         "type": "integer"
        },
        {
         "name": "day",
         "rawType": "int64",
         "type": "integer"
        },
        {
         "name": "week",
         "rawType": "object",
         "type": "string"
        },
        {
         "name": "temp_2",
         "rawType": "int64",
         "type": "integer"
        },
        {
         "name": "temp_1",
         "rawType": "int64",
         "type": "integer"
        },
        {
         "name": "average",
         "rawType": "float64",
         "type": "float"
        },
        {
         "name": "actual",
         "rawType": "int64",
         "type": "integer"
        },
        {
         "name": "forecast_noaa",
         "rawType": "int64",
         "type": "integer"
        },
        {
         "name": "forecast_acc",
         "rawType": "int64",
         "type": "integer"
        },
        {
         "name": "forecast_under",
         "rawType": "int64",
         "type": "integer"
        },
        {
         "name": "friend",
         "rawType": "int64",
         "type": "integer"
        }
       ],
       "conversionMethod": "pd.DataFrame",
       "ref": "6c48b384-d581-436f-adba-774f0ff561e0",
       "rows": [
        [
         "0",
         "2016",
         "1",
         "1",
         "Fri",
         "45",
         "45",
         "45.6",
         "45",
         "43",
         "50",
         "44",
         "29"
        ],
        [
         "1",
         "2016",
         "1",
         "2",
         "Sat",
         "44",
         "45",
         "45.7",
         "44",
         "41",
         "50",
         "44",
         "61"
        ],
        [
         "2",
         "2016",
         "1",
         "3",
         "Sun",
         "45",
         "44",
         "45.8",
         "41",
         "43",
         "46",
         "47",
         "56"
        ],
        [
         "3",
         "2016",
         "1",
         "4",
         "Mon",
         "44",
         "41",
         "45.9",
         "40",
         "44",
         "48",
         "46",
         "53"
        ],
        [
         "4",
         "2016",
         "1",
         "5",
         "Tues",
         "41",
         "40",
         "46.0",
         "44",
         "46",
         "46",
         "46",
         "41"
        ],
        [
         "5",
         "2016",
         "1",
         "6",
         "Wed",
         "40",
         "44",
         "46.1",
         "51",
         "43",
         "49",
         "48",
         "40"
        ],
        [
         "6",
         "2016",
         "1",
         "7",
         "Thurs",
         "44",
         "51",
         "46.2",
         "45",
         "45",
         "49",
         "46",
         "38"
        ],
        [
         "7",
         "2016",
         "1",
         "8",
         "Fri",
         "51",
         "45",
         "46.3",
         "48",
         "43",
         "47",
         "46",
         "34"
        ],
        [
         "8",
         "2016",
         "1",
         "9",
         "Sat",
         "45",
         "48",
         "46.4",
         "50",
         "46",
         "50",
         "45",
         "47"
        ],
        [
         "9",
         "2016",
         "1",
         "10",
         "Sun",
         "48",
         "50",
         "46.5",
         "52",
         "45",
         "48",
         "48",
         "49"
        ],
        [
         "10",
         "2016",
         "1",
         "11",
         "Mon",
         "50",
         "52",
         "46.7",
         "45",
         "42",
         "48",
         "48",
         "39"
        ],
        [
         "11",
         "2016",
         "1",
         "12",
         "Tues",
         "52",
         "45",
         "46.8",
         "49",
         "44",
         "50",
         "45",
         "61"
        ],
        [
         "12",
         "2016",
         "1",
         "13",
         "Wed",
         "45",
         "49",
         "46.9",
         "55",
         "45",
         "51",
         "46",
         "33"
        ],
        [
         "13",
         "2016",
         "1",
         "14",
         "Thurs",
         "49",
         "55",
         "47.0",
         "49",
         "43",
         "47",
         "46",
         "58"
        ],
        [
         "14",
         "2016",
         "1",
         "15",
         "Fri",
         "55",
         "49",
         "47.1",
         "48",
         "46",
         "51",
         "46",
         "65"
        ],
        [
         "15",
         "2016",
         "1",
         "16",
         "Sat",
         "49",
         "48",
         "47.3",
         "54",
         "45",
         "52",
         "46",
         "28"
        ],
        [
         "16",
         "2016",
         "1",
         "17",
         "Sun",
         "48",
         "54",
         "47.4",
         "50",
         "45",
         "51",
         "46",
         "47"
        ],
        [
         "17",
         "2016",
         "1",
         "18",
         "Mon",
         "54",
         "50",
         "47.5",
         "54",
         "44",
         "48",
         "49",
         "58"
        ],
        [
         "18",
         "2016",
         "1",
         "19",
         "Tues",
         "50",
         "54",
         "47.6",
         "48",
         "47",
         "49",
         "48",
         "53"
        ],
        [
         "19",
         "2016",
         "1",
         "20",
         "Wed",
         "54",
         "48",
         "47.7",
         "52",
         "44",
         "52",
         "49",
         "61"
        ],
        [
         "20",
         "2016",
         "1",
         "21",
         "Thurs",
         "48",
         "52",
         "47.8",
         "52",
         "43",
         "51",
         "46",
         "57"
        ],
        [
         "21",
         "2016",
         "1",
         "22",
         "Fri",
         "52",
         "52",
         "47.9",
         "57",
         "47",
         "48",
         "48",
         "60"
        ],
        [
         "22",
         "2016",
         "1",
         "23",
         "Sat",
         "52",
         "57",
         "48.0",
         "48",
         "45",
         "49",
         "50",
         "37"
        ],
        [
         "23",
         "2016",
         "1",
         "24",
         "Sun",
         "57",
         "48",
         "48.1",
         "51",
         "46",
         "50",
         "48",
         "54"
        ],
        [
         "24",
         "2016",
         "1",
         "25",
         "Mon",
         "48",
         "51",
         "48.2",
         "54",
         "45",
         "51",
         "49",
         "63"
        ],
        [
         "25",
         "2016",
         "1",
         "26",
         "Tues",
         "51",
         "54",
         "48.3",
         "56",
         "44",
         "53",
         "50",
         "61"
        ],
        [
         "26",
         "2016",
         "1",
         "27",
         "Wed",
         "54",
         "56",
         "48.4",
         "57",
         "45",
         "51",
         "49",
         "54"
        ],
        [
         "27",
         "2016",
         "1",
         "28",
         "Thurs",
         "56",
         "57",
         "48.4",
         "56",
         "44",
         "52",
         "48",
         "34"
        ],
        [
         "28",
         "2016",
         "1",
         "29",
         "Fri",
         "57",
         "56",
         "48.5",
         "52",
         "48",
         "52",
         "47",
         "49"
        ],
        [
         "29",
         "2016",
         "1",
         "30",
         "Sat",
         "56",
         "52",
         "48.6",
         "48",
         "45",
         "51",
         "48",
         "47"
        ],
        [
         "30",
         "2016",
         "1",
         "31",
         "Sun",
         "52",
         "48",
         "48.7",
         "47",
         "47",
         "52",
         "49",
         "61"
        ],
        [
         "31",
         "2016",
         "2",
         "1",
         "Mon",
         "48",
         "47",
         "48.8",
         "46",
         "46",
         "49",
         "49",
         "51"
        ],
        [
         "32",
         "2016",
         "2",
         "2",
         "Tues",
         "47",
         "46",
         "48.8",
         "51",
         "48",
         "50",
         "50",
         "56"
        ],
        [
         "33",
         "2016",
         "2",
         "3",
         "Wed",
         "46",
         "51",
         "48.9",
         "49",
         "48",
         "49",
         "50",
         "40"
        ],
        [
         "34",
         "2016",
         "2",
         "4",
         "Thurs",
         "51",
         "49",
         "49.0",
         "49",
         "44",
         "54",
         "51",
         "44"
        ],
        [
         "35",
         "2016",
         "2",
         "5",
         "Fri",
         "49",
         "49",
         "49.1",
         "53",
         "47",
         "50",
         "49",
         "45"
        ],
        [
         "36",
         "2016",
         "2",
         "6",
         "Sat",
         "49",
         "53",
         "49.1",
         "49",
         "47",
         "53",
         "49",
         "56"
        ],
        [
         "37",
         "2016",
         "2",
         "7",
         "Sun",
         "53",
         "49",
         "49.2",
         "51",
         "46",
         "51",
         "48",
         "63"
        ],
        [
         "38",
         "2016",
         "2",
         "8",
         "Mon",
         "49",
         "51",
         "49.3",
         "57",
         "49",
         "52",
         "50",
         "34"
        ],
        [
         "39",
         "2016",
         "2",
         "9",
         "Tues",
         "51",
         "57",
         "49.4",
         "62",
         "45",
         "52",
         "49",
         "57"
        ],
        [
         "40",
         "2016",
         "2",
         "10",
         "Wed",
         "57",
         "62",
         "49.4",
         "56",
         "48",
         "50",
         "49",
         "30"
        ],
        [
         "41",
         "2016",
         "2",
         "11",
         "Thurs",
         "62",
         "56",
         "49.5",
         "55",
         "46",
         "53",
         "50",
         "37"
        ],
        [
         "42",
         "2016",
         "2",
         "12",
         "Fri",
         "56",
         "55",
         "49.6",
         "58",
         "49",
         "52",
         "48",
         "33"
        ],
        [
         "43",
         "2016",
         "2",
         "15",
         "Mon",
         "55",
         "58",
         "49.9",
         "55",
         "46",
         "52",
         "49",
         "53"
        ],
        [
         "44",
         "2016",
         "2",
         "16",
         "Tues",
         "58",
         "55",
         "49.9",
         "56",
         "47",
         "54",
         "51",
         "55"
        ],
        [
         "45",
         "2016",
         "2",
         "17",
         "Wed",
         "55",
         "56",
         "50.0",
         "57",
         "45",
         "51",
         "49",
         "46"
        ],
        [
         "46",
         "2016",
         "2",
         "18",
         "Thurs",
         "56",
         "57",
         "50.1",
         "53",
         "47",
         "55",
         "49",
         "34"
        ],
        [
         "47",
         "2016",
         "2",
         "19",
         "Fri",
         "57",
         "53",
         "50.2",
         "51",
         "50",
         "52",
         "51",
         "42"
        ],
        [
         "48",
         "2016",
         "2",
         "20",
         "Sat",
         "53",
         "51",
         "50.4",
         "53",
         "48",
         "55",
         "51",
         "43"
        ],
        [
         "49",
         "2016",
         "2",
         "21",
         "Sun",
         "51",
         "53",
         "50.5",
         "51",
         "49",
         "54",
         "52",
         "46"
        ]
       ],
       "shape": {
        "columns": 12,
        "rows": 348
       }
      },
      "text/html": [
       "<div>\n",
       "<style scoped>\n",
       "    .dataframe tbody tr th:only-of-type {\n",
       "        vertical-align: middle;\n",
       "    }\n",
       "\n",
       "    .dataframe tbody tr th {\n",
       "        vertical-align: top;\n",
       "    }\n",
       "\n",
       "    .dataframe thead th {\n",
       "        text-align: right;\n",
       "    }\n",
       "</style>\n",
       "<table border=\"1\" class=\"dataframe\">\n",
       "  <thead>\n",
       "    <tr style=\"text-align: right;\">\n",
       "      <th></th>\n",
       "      <th>year</th>\n",
       "      <th>month</th>\n",
       "      <th>day</th>\n",
       "      <th>week</th>\n",
       "      <th>temp_2</th>\n",
       "      <th>temp_1</th>\n",
       "      <th>average</th>\n",
       "      <th>actual</th>\n",
       "      <th>forecast_noaa</th>\n",
       "      <th>forecast_acc</th>\n",
       "      <th>forecast_under</th>\n",
       "      <th>friend</th>\n",
       "    </tr>\n",
       "  </thead>\n",
       "  <tbody>\n",
       "    <tr>\n",
       "      <th>0</th>\n",
       "      <td>2016</td>\n",
       "      <td>1</td>\n",
       "      <td>1</td>\n",
       "      <td>Fri</td>\n",
       "      <td>45</td>\n",
       "      <td>45</td>\n",
       "      <td>45.6</td>\n",
       "      <td>45</td>\n",
       "      <td>43</td>\n",
       "      <td>50</td>\n",
       "      <td>44</td>\n",
       "      <td>29</td>\n",
       "    </tr>\n",
       "    <tr>\n",
       "      <th>1</th>\n",
       "      <td>2016</td>\n",
       "      <td>1</td>\n",
       "      <td>2</td>\n",
       "      <td>Sat</td>\n",
       "      <td>44</td>\n",
       "      <td>45</td>\n",
       "      <td>45.7</td>\n",
       "      <td>44</td>\n",
       "      <td>41</td>\n",
       "      <td>50</td>\n",
       "      <td>44</td>\n",
       "      <td>61</td>\n",
       "    </tr>\n",
       "    <tr>\n",
       "      <th>2</th>\n",
       "      <td>2016</td>\n",
       "      <td>1</td>\n",
       "      <td>3</td>\n",
       "      <td>Sun</td>\n",
       "      <td>45</td>\n",
       "      <td>44</td>\n",
       "      <td>45.8</td>\n",
       "      <td>41</td>\n",
       "      <td>43</td>\n",
       "      <td>46</td>\n",
       "      <td>47</td>\n",
       "      <td>56</td>\n",
       "    </tr>\n",
       "    <tr>\n",
       "      <th>3</th>\n",
       "      <td>2016</td>\n",
       "      <td>1</td>\n",
       "      <td>4</td>\n",
       "      <td>Mon</td>\n",
       "      <td>44</td>\n",
       "      <td>41</td>\n",
       "      <td>45.9</td>\n",
       "      <td>40</td>\n",
       "      <td>44</td>\n",
       "      <td>48</td>\n",
       "      <td>46</td>\n",
       "      <td>53</td>\n",
       "    </tr>\n",
       "    <tr>\n",
       "      <th>4</th>\n",
       "      <td>2016</td>\n",
       "      <td>1</td>\n",
       "      <td>5</td>\n",
       "      <td>Tues</td>\n",
       "      <td>41</td>\n",
       "      <td>40</td>\n",
       "      <td>46.0</td>\n",
       "      <td>44</td>\n",
       "      <td>46</td>\n",
       "      <td>46</td>\n",
       "      <td>46</td>\n",
       "      <td>41</td>\n",
       "    </tr>\n",
       "    <tr>\n",
       "      <th>...</th>\n",
       "      <td>...</td>\n",
       "      <td>...</td>\n",
       "      <td>...</td>\n",
       "      <td>...</td>\n",
       "      <td>...</td>\n",
       "      <td>...</td>\n",
       "      <td>...</td>\n",
       "      <td>...</td>\n",
       "      <td>...</td>\n",
       "      <td>...</td>\n",
       "      <td>...</td>\n",
       "      <td>...</td>\n",
       "    </tr>\n",
       "    <tr>\n",
       "      <th>343</th>\n",
       "      <td>2016</td>\n",
       "      <td>12</td>\n",
       "      <td>27</td>\n",
       "      <td>Tues</td>\n",
       "      <td>42</td>\n",
       "      <td>42</td>\n",
       "      <td>45.2</td>\n",
       "      <td>47</td>\n",
       "      <td>41</td>\n",
       "      <td>50</td>\n",
       "      <td>47</td>\n",
       "      <td>47</td>\n",
       "    </tr>\n",
       "    <tr>\n",
       "      <th>344</th>\n",
       "      <td>2016</td>\n",
       "      <td>12</td>\n",
       "      <td>28</td>\n",
       "      <td>Wed</td>\n",
       "      <td>42</td>\n",
       "      <td>47</td>\n",
       "      <td>45.3</td>\n",
       "      <td>48</td>\n",
       "      <td>41</td>\n",
       "      <td>49</td>\n",
       "      <td>44</td>\n",
       "      <td>58</td>\n",
       "    </tr>\n",
       "    <tr>\n",
       "      <th>345</th>\n",
       "      <td>2016</td>\n",
       "      <td>12</td>\n",
       "      <td>29</td>\n",
       "      <td>Thurs</td>\n",
       "      <td>47</td>\n",
       "      <td>48</td>\n",
       "      <td>45.3</td>\n",
       "      <td>48</td>\n",
       "      <td>43</td>\n",
       "      <td>50</td>\n",
       "      <td>45</td>\n",
       "      <td>65</td>\n",
       "    </tr>\n",
       "    <tr>\n",
       "      <th>346</th>\n",
       "      <td>2016</td>\n",
       "      <td>12</td>\n",
       "      <td>30</td>\n",
       "      <td>Fri</td>\n",
       "      <td>48</td>\n",
       "      <td>48</td>\n",
       "      <td>45.4</td>\n",
       "      <td>57</td>\n",
       "      <td>44</td>\n",
       "      <td>46</td>\n",
       "      <td>44</td>\n",
       "      <td>42</td>\n",
       "    </tr>\n",
       "    <tr>\n",
       "      <th>347</th>\n",
       "      <td>2016</td>\n",
       "      <td>12</td>\n",
       "      <td>31</td>\n",
       "      <td>Sat</td>\n",
       "      <td>48</td>\n",
       "      <td>57</td>\n",
       "      <td>45.5</td>\n",
       "      <td>40</td>\n",
       "      <td>42</td>\n",
       "      <td>48</td>\n",
       "      <td>47</td>\n",
       "      <td>57</td>\n",
       "    </tr>\n",
       "  </tbody>\n",
       "</table>\n",
       "<p>348 rows × 12 columns</p>\n",
       "</div>"
      ],
      "text/plain": [
       "     year  month  day   week  temp_2  temp_1  average  actual  forecast_noaa  \\\n",
       "0    2016      1    1    Fri      45      45     45.6      45             43   \n",
       "1    2016      1    2    Sat      44      45     45.7      44             41   \n",
       "2    2016      1    3    Sun      45      44     45.8      41             43   \n",
       "3    2016      1    4    Mon      44      41     45.9      40             44   \n",
       "4    2016      1    5   Tues      41      40     46.0      44             46   \n",
       "..    ...    ...  ...    ...     ...     ...      ...     ...            ...   \n",
       "343  2016     12   27   Tues      42      42     45.2      47             41   \n",
       "344  2016     12   28    Wed      42      47     45.3      48             41   \n",
       "345  2016     12   29  Thurs      47      48     45.3      48             43   \n",
       "346  2016     12   30    Fri      48      48     45.4      57             44   \n",
       "347  2016     12   31    Sat      48      57     45.5      40             42   \n",
       "\n",
       "     forecast_acc  forecast_under  friend  \n",
       "0              50              44      29  \n",
       "1              50              44      61  \n",
       "2              46              47      56  \n",
       "3              48              46      53  \n",
       "4              46              46      41  \n",
       "..            ...             ...     ...  \n",
       "343            50              47      47  \n",
       "344            49              44      58  \n",
       "345            50              45      65  \n",
       "346            46              44      42  \n",
       "347            48              47      57  \n",
       "\n",
       "[348 rows x 12 columns]"
      ]
     },
     "execution_count": 184,
     "metadata": {},
     "output_type": "execute_result"
    }
   ],
   "source": [
    "df = pd.read_csv(\"data/temps.csv\")\n",
    "df"
   ]
  },
  {
   "attachments": {},
   "cell_type": "markdown",
   "metadata": {},
   "source": [
    "### 2. Realiza un análisis exploratorio junto con un Feature Engineering"
   ]
  },
  {
   "cell_type": "code",
   "execution_count": 185,
   "metadata": {},
   "outputs": [
    {
     "data": {
      "application/vnd.microsoft.datawrangler.viewer.v0+json": {
       "columns": [
        {
         "name": "index",
         "rawType": "int64",
         "type": "integer"
        },
        {
         "name": "year",
         "rawType": "int64",
         "type": "integer"
        },
        {
         "name": "month",
         "rawType": "int64",
         "type": "integer"
        },
        {
         "name": "day",
         "rawType": "int64",
         "type": "integer"
        },
        {
         "name": "week",
         "rawType": "object",
         "type": "string"
        },
        {
         "name": "temp_2",
         "rawType": "int64",
         "type": "integer"
        },
        {
         "name": "temp_1",
         "rawType": "int64",
         "type": "integer"
        },
        {
         "name": "average",
         "rawType": "float64",
         "type": "float"
        },
        {
         "name": "actual",
         "rawType": "int64",
         "type": "integer"
        },
        {
         "name": "forecast_noaa",
         "rawType": "int64",
         "type": "integer"
        },
        {
         "name": "forecast_acc",
         "rawType": "int64",
         "type": "integer"
        },
        {
         "name": "forecast_under",
         "rawType": "int64",
         "type": "integer"
        },
        {
         "name": "friend",
         "rawType": "int64",
         "type": "integer"
        }
       ],
       "conversionMethod": "pd.DataFrame",
       "ref": "f4b6fe54-837f-4013-b811-dd0f621822d5",
       "rows": [
        [
         "0",
         "2016",
         "1",
         "1",
         "Fri",
         "45",
         "45",
         "45.6",
         "45",
         "43",
         "50",
         "44",
         "29"
        ],
        [
         "1",
         "2016",
         "1",
         "2",
         "Sat",
         "44",
         "45",
         "45.7",
         "44",
         "41",
         "50",
         "44",
         "61"
        ],
        [
         "2",
         "2016",
         "1",
         "3",
         "Sun",
         "45",
         "44",
         "45.8",
         "41",
         "43",
         "46",
         "47",
         "56"
        ],
        [
         "3",
         "2016",
         "1",
         "4",
         "Mon",
         "44",
         "41",
         "45.9",
         "40",
         "44",
         "48",
         "46",
         "53"
        ],
        [
         "4",
         "2016",
         "1",
         "5",
         "Tues",
         "41",
         "40",
         "46.0",
         "44",
         "46",
         "46",
         "46",
         "41"
        ]
       ],
       "shape": {
        "columns": 12,
        "rows": 5
       }
      },
      "text/html": [
       "<div>\n",
       "<style scoped>\n",
       "    .dataframe tbody tr th:only-of-type {\n",
       "        vertical-align: middle;\n",
       "    }\n",
       "\n",
       "    .dataframe tbody tr th {\n",
       "        vertical-align: top;\n",
       "    }\n",
       "\n",
       "    .dataframe thead th {\n",
       "        text-align: right;\n",
       "    }\n",
       "</style>\n",
       "<table border=\"1\" class=\"dataframe\">\n",
       "  <thead>\n",
       "    <tr style=\"text-align: right;\">\n",
       "      <th></th>\n",
       "      <th>year</th>\n",
       "      <th>month</th>\n",
       "      <th>day</th>\n",
       "      <th>week</th>\n",
       "      <th>temp_2</th>\n",
       "      <th>temp_1</th>\n",
       "      <th>average</th>\n",
       "      <th>actual</th>\n",
       "      <th>forecast_noaa</th>\n",
       "      <th>forecast_acc</th>\n",
       "      <th>forecast_under</th>\n",
       "      <th>friend</th>\n",
       "    </tr>\n",
       "  </thead>\n",
       "  <tbody>\n",
       "    <tr>\n",
       "      <th>0</th>\n",
       "      <td>2016</td>\n",
       "      <td>1</td>\n",
       "      <td>1</td>\n",
       "      <td>Fri</td>\n",
       "      <td>45</td>\n",
       "      <td>45</td>\n",
       "      <td>45.6</td>\n",
       "      <td>45</td>\n",
       "      <td>43</td>\n",
       "      <td>50</td>\n",
       "      <td>44</td>\n",
       "      <td>29</td>\n",
       "    </tr>\n",
       "    <tr>\n",
       "      <th>1</th>\n",
       "      <td>2016</td>\n",
       "      <td>1</td>\n",
       "      <td>2</td>\n",
       "      <td>Sat</td>\n",
       "      <td>44</td>\n",
       "      <td>45</td>\n",
       "      <td>45.7</td>\n",
       "      <td>44</td>\n",
       "      <td>41</td>\n",
       "      <td>50</td>\n",
       "      <td>44</td>\n",
       "      <td>61</td>\n",
       "    </tr>\n",
       "    <tr>\n",
       "      <th>2</th>\n",
       "      <td>2016</td>\n",
       "      <td>1</td>\n",
       "      <td>3</td>\n",
       "      <td>Sun</td>\n",
       "      <td>45</td>\n",
       "      <td>44</td>\n",
       "      <td>45.8</td>\n",
       "      <td>41</td>\n",
       "      <td>43</td>\n",
       "      <td>46</td>\n",
       "      <td>47</td>\n",
       "      <td>56</td>\n",
       "    </tr>\n",
       "    <tr>\n",
       "      <th>3</th>\n",
       "      <td>2016</td>\n",
       "      <td>1</td>\n",
       "      <td>4</td>\n",
       "      <td>Mon</td>\n",
       "      <td>44</td>\n",
       "      <td>41</td>\n",
       "      <td>45.9</td>\n",
       "      <td>40</td>\n",
       "      <td>44</td>\n",
       "      <td>48</td>\n",
       "      <td>46</td>\n",
       "      <td>53</td>\n",
       "    </tr>\n",
       "    <tr>\n",
       "      <th>4</th>\n",
       "      <td>2016</td>\n",
       "      <td>1</td>\n",
       "      <td>5</td>\n",
       "      <td>Tues</td>\n",
       "      <td>41</td>\n",
       "      <td>40</td>\n",
       "      <td>46.0</td>\n",
       "      <td>44</td>\n",
       "      <td>46</td>\n",
       "      <td>46</td>\n",
       "      <td>46</td>\n",
       "      <td>41</td>\n",
       "    </tr>\n",
       "  </tbody>\n",
       "</table>\n",
       "</div>"
      ],
      "text/plain": [
       "   year  month  day  week  temp_2  temp_1  average  actual  forecast_noaa  \\\n",
       "0  2016      1    1   Fri      45      45     45.6      45             43   \n",
       "1  2016      1    2   Sat      44      45     45.7      44             41   \n",
       "2  2016      1    3   Sun      45      44     45.8      41             43   \n",
       "3  2016      1    4   Mon      44      41     45.9      40             44   \n",
       "4  2016      1    5  Tues      41      40     46.0      44             46   \n",
       "\n",
       "   forecast_acc  forecast_under  friend  \n",
       "0            50              44      29  \n",
       "1            50              44      61  \n",
       "2            46              47      56  \n",
       "3            48              46      53  \n",
       "4            46              46      41  "
      ]
     },
     "execution_count": 185,
     "metadata": {},
     "output_type": "execute_result"
    }
   ],
   "source": [
    "# Primeras filas\n",
    "df.head()\n",
    "\n"
   ]
  },
  {
   "cell_type": "code",
   "execution_count": 186,
   "metadata": {},
   "outputs": [
    {
     "name": "stdout",
     "output_type": "stream",
     "text": [
      "<class 'pandas.core.frame.DataFrame'>\n",
      "RangeIndex: 348 entries, 0 to 347\n",
      "Data columns (total 12 columns):\n",
      " #   Column          Non-Null Count  Dtype  \n",
      "---  ------          --------------  -----  \n",
      " 0   year            348 non-null    int64  \n",
      " 1   month           348 non-null    int64  \n",
      " 2   day             348 non-null    int64  \n",
      " 3   week            348 non-null    object \n",
      " 4   temp_2          348 non-null    int64  \n",
      " 5   temp_1          348 non-null    int64  \n",
      " 6   average         348 non-null    float64\n",
      " 7   actual          348 non-null    int64  \n",
      " 8   forecast_noaa   348 non-null    int64  \n",
      " 9   forecast_acc    348 non-null    int64  \n",
      " 10  forecast_under  348 non-null    int64  \n",
      " 11  friend          348 non-null    int64  \n",
      "dtypes: float64(1), int64(10), object(1)\n",
      "memory usage: 32.8+ KB\n"
     ]
    }
   ],
   "source": [
    "# Información del dataset\n",
    "df.info()\n",
    "\n"
   ]
  },
  {
   "cell_type": "code",
   "execution_count": 187,
   "metadata": {},
   "outputs": [
    {
     "data": {
      "application/vnd.microsoft.datawrangler.viewer.v0+json": {
       "columns": [
        {
         "name": "index",
         "rawType": "object",
         "type": "string"
        },
        {
         "name": "year",
         "rawType": "float64",
         "type": "float"
        },
        {
         "name": "month",
         "rawType": "float64",
         "type": "float"
        },
        {
         "name": "day",
         "rawType": "float64",
         "type": "float"
        },
        {
         "name": "temp_2",
         "rawType": "float64",
         "type": "float"
        },
        {
         "name": "temp_1",
         "rawType": "float64",
         "type": "float"
        },
        {
         "name": "average",
         "rawType": "float64",
         "type": "float"
        },
        {
         "name": "actual",
         "rawType": "float64",
         "type": "float"
        },
        {
         "name": "forecast_noaa",
         "rawType": "float64",
         "type": "float"
        },
        {
         "name": "forecast_acc",
         "rawType": "float64",
         "type": "float"
        },
        {
         "name": "forecast_under",
         "rawType": "float64",
         "type": "float"
        },
        {
         "name": "friend",
         "rawType": "float64",
         "type": "float"
        }
       ],
       "conversionMethod": "pd.DataFrame",
       "ref": "729daf1e-ba2b-4d3d-bd61-7e06deeecc6b",
       "rows": [
        [
         "count",
         "348.0",
         "348.0",
         "348.0",
         "348.0",
         "348.0",
         "348.0",
         "348.0",
         "348.0",
         "348.0",
         "348.0",
         "348.0"
        ],
        [
         "mean",
         "2016.0",
         "6.477011494252873",
         "15.514367816091953",
         "62.65229885057471",
         "62.701149425287355",
         "59.76063218390805",
         "62.543103448275865",
         "57.23850574712644",
         "62.37356321839081",
         "59.77298850574713",
         "60.03448275862069"
        ],
        [
         "std",
         "0.0",
         "3.498380066431416",
         "8.772981866981421",
         "12.165398108018055",
         "12.120542442782448",
         "10.527306425625637",
         "11.794146138497762",
         "10.60574636572223",
         "10.54938117496312",
         "10.705255529048834",
         "15.626179375146542"
        ],
        [
         "min",
         "2016.0",
         "1.0",
         "1.0",
         "35.0",
         "35.0",
         "45.1",
         "35.0",
         "41.0",
         "46.0",
         "44.0",
         "28.0"
        ],
        [
         "25%",
         "2016.0",
         "3.0",
         "8.0",
         "54.0",
         "54.0",
         "49.975",
         "54.0",
         "48.0",
         "53.0",
         "50.0",
         "47.75"
        ],
        [
         "50%",
         "2016.0",
         "6.0",
         "15.0",
         "62.5",
         "62.5",
         "58.2",
         "62.5",
         "56.0",
         "61.0",
         "58.0",
         "60.0"
        ],
        [
         "75%",
         "2016.0",
         "10.0",
         "23.0",
         "71.0",
         "71.0",
         "69.025",
         "71.0",
         "66.0",
         "72.0",
         "69.0",
         "71.0"
        ],
        [
         "max",
         "2016.0",
         "12.0",
         "31.0",
         "117.0",
         "117.0",
         "77.4",
         "92.0",
         "77.0",
         "82.0",
         "79.0",
         "95.0"
        ]
       ],
       "shape": {
        "columns": 11,
        "rows": 8
       }
      },
      "text/html": [
       "<div>\n",
       "<style scoped>\n",
       "    .dataframe tbody tr th:only-of-type {\n",
       "        vertical-align: middle;\n",
       "    }\n",
       "\n",
       "    .dataframe tbody tr th {\n",
       "        vertical-align: top;\n",
       "    }\n",
       "\n",
       "    .dataframe thead th {\n",
       "        text-align: right;\n",
       "    }\n",
       "</style>\n",
       "<table border=\"1\" class=\"dataframe\">\n",
       "  <thead>\n",
       "    <tr style=\"text-align: right;\">\n",
       "      <th></th>\n",
       "      <th>year</th>\n",
       "      <th>month</th>\n",
       "      <th>day</th>\n",
       "      <th>temp_2</th>\n",
       "      <th>temp_1</th>\n",
       "      <th>average</th>\n",
       "      <th>actual</th>\n",
       "      <th>forecast_noaa</th>\n",
       "      <th>forecast_acc</th>\n",
       "      <th>forecast_under</th>\n",
       "      <th>friend</th>\n",
       "    </tr>\n",
       "  </thead>\n",
       "  <tbody>\n",
       "    <tr>\n",
       "      <th>count</th>\n",
       "      <td>348.0</td>\n",
       "      <td>348.000000</td>\n",
       "      <td>348.000000</td>\n",
       "      <td>348.000000</td>\n",
       "      <td>348.000000</td>\n",
       "      <td>348.000000</td>\n",
       "      <td>348.000000</td>\n",
       "      <td>348.000000</td>\n",
       "      <td>348.000000</td>\n",
       "      <td>348.000000</td>\n",
       "      <td>348.000000</td>\n",
       "    </tr>\n",
       "    <tr>\n",
       "      <th>mean</th>\n",
       "      <td>2016.0</td>\n",
       "      <td>6.477011</td>\n",
       "      <td>15.514368</td>\n",
       "      <td>62.652299</td>\n",
       "      <td>62.701149</td>\n",
       "      <td>59.760632</td>\n",
       "      <td>62.543103</td>\n",
       "      <td>57.238506</td>\n",
       "      <td>62.373563</td>\n",
       "      <td>59.772989</td>\n",
       "      <td>60.034483</td>\n",
       "    </tr>\n",
       "    <tr>\n",
       "      <th>std</th>\n",
       "      <td>0.0</td>\n",
       "      <td>3.498380</td>\n",
       "      <td>8.772982</td>\n",
       "      <td>12.165398</td>\n",
       "      <td>12.120542</td>\n",
       "      <td>10.527306</td>\n",
       "      <td>11.794146</td>\n",
       "      <td>10.605746</td>\n",
       "      <td>10.549381</td>\n",
       "      <td>10.705256</td>\n",
       "      <td>15.626179</td>\n",
       "    </tr>\n",
       "    <tr>\n",
       "      <th>min</th>\n",
       "      <td>2016.0</td>\n",
       "      <td>1.000000</td>\n",
       "      <td>1.000000</td>\n",
       "      <td>35.000000</td>\n",
       "      <td>35.000000</td>\n",
       "      <td>45.100000</td>\n",
       "      <td>35.000000</td>\n",
       "      <td>41.000000</td>\n",
       "      <td>46.000000</td>\n",
       "      <td>44.000000</td>\n",
       "      <td>28.000000</td>\n",
       "    </tr>\n",
       "    <tr>\n",
       "      <th>25%</th>\n",
       "      <td>2016.0</td>\n",
       "      <td>3.000000</td>\n",
       "      <td>8.000000</td>\n",
       "      <td>54.000000</td>\n",
       "      <td>54.000000</td>\n",
       "      <td>49.975000</td>\n",
       "      <td>54.000000</td>\n",
       "      <td>48.000000</td>\n",
       "      <td>53.000000</td>\n",
       "      <td>50.000000</td>\n",
       "      <td>47.750000</td>\n",
       "    </tr>\n",
       "    <tr>\n",
       "      <th>50%</th>\n",
       "      <td>2016.0</td>\n",
       "      <td>6.000000</td>\n",
       "      <td>15.000000</td>\n",
       "      <td>62.500000</td>\n",
       "      <td>62.500000</td>\n",
       "      <td>58.200000</td>\n",
       "      <td>62.500000</td>\n",
       "      <td>56.000000</td>\n",
       "      <td>61.000000</td>\n",
       "      <td>58.000000</td>\n",
       "      <td>60.000000</td>\n",
       "    </tr>\n",
       "    <tr>\n",
       "      <th>75%</th>\n",
       "      <td>2016.0</td>\n",
       "      <td>10.000000</td>\n",
       "      <td>23.000000</td>\n",
       "      <td>71.000000</td>\n",
       "      <td>71.000000</td>\n",
       "      <td>69.025000</td>\n",
       "      <td>71.000000</td>\n",
       "      <td>66.000000</td>\n",
       "      <td>72.000000</td>\n",
       "      <td>69.000000</td>\n",
       "      <td>71.000000</td>\n",
       "    </tr>\n",
       "    <tr>\n",
       "      <th>max</th>\n",
       "      <td>2016.0</td>\n",
       "      <td>12.000000</td>\n",
       "      <td>31.000000</td>\n",
       "      <td>117.000000</td>\n",
       "      <td>117.000000</td>\n",
       "      <td>77.400000</td>\n",
       "      <td>92.000000</td>\n",
       "      <td>77.000000</td>\n",
       "      <td>82.000000</td>\n",
       "      <td>79.000000</td>\n",
       "      <td>95.000000</td>\n",
       "    </tr>\n",
       "  </tbody>\n",
       "</table>\n",
       "</div>"
      ],
      "text/plain": [
       "         year       month         day      temp_2      temp_1     average  \\\n",
       "count   348.0  348.000000  348.000000  348.000000  348.000000  348.000000   \n",
       "mean   2016.0    6.477011   15.514368   62.652299   62.701149   59.760632   \n",
       "std       0.0    3.498380    8.772982   12.165398   12.120542   10.527306   \n",
       "min    2016.0    1.000000    1.000000   35.000000   35.000000   45.100000   \n",
       "25%    2016.0    3.000000    8.000000   54.000000   54.000000   49.975000   \n",
       "50%    2016.0    6.000000   15.000000   62.500000   62.500000   58.200000   \n",
       "75%    2016.0   10.000000   23.000000   71.000000   71.000000   69.025000   \n",
       "max    2016.0   12.000000   31.000000  117.000000  117.000000   77.400000   \n",
       "\n",
       "           actual  forecast_noaa  forecast_acc  forecast_under      friend  \n",
       "count  348.000000     348.000000    348.000000      348.000000  348.000000  \n",
       "mean    62.543103      57.238506     62.373563       59.772989   60.034483  \n",
       "std     11.794146      10.605746     10.549381       10.705256   15.626179  \n",
       "min     35.000000      41.000000     46.000000       44.000000   28.000000  \n",
       "25%     54.000000      48.000000     53.000000       50.000000   47.750000  \n",
       "50%     62.500000      56.000000     61.000000       58.000000   60.000000  \n",
       "75%     71.000000      66.000000     72.000000       69.000000   71.000000  \n",
       "max     92.000000      77.000000     82.000000       79.000000   95.000000  "
      ]
     },
     "execution_count": 187,
     "metadata": {},
     "output_type": "execute_result"
    }
   ],
   "source": [
    "# Estadísticas descriptivas\n",
    "df.describe()\n",
    "\n"
   ]
  },
  {
   "cell_type": "code",
   "execution_count": 188,
   "metadata": {},
   "outputs": [
    {
     "data": {
      "text/plain": [
       "year              0\n",
       "month             0\n",
       "day               0\n",
       "week              0\n",
       "temp_2            0\n",
       "temp_1            0\n",
       "average           0\n",
       "actual            0\n",
       "forecast_noaa     0\n",
       "forecast_acc      0\n",
       "forecast_under    0\n",
       "friend            0\n",
       "dtype: int64"
      ]
     },
     "execution_count": 188,
     "metadata": {},
     "output_type": "execute_result"
    }
   ],
   "source": [
    "# Verificar valores nulos\n",
    "df.isnull().sum()"
   ]
  },
  {
   "cell_type": "code",
   "execution_count": 189,
   "metadata": {},
   "outputs": [
    {
     "name": "stdout",
     "output_type": "stream",
     "text": [
      "Index(['month', 'day', 'week', 'temp_2', 'temp_1', 'average', 'actual',\n",
      "       'forecast_noaa', 'forecast_acc', 'forecast_under', 'friend'],\n",
      "      dtype='object')\n"
     ]
    }
   ],
   "source": [
    "# Eliminar la columna 'year' del DataFrame\n",
    "df = df.drop('year', axis=1)  # axis=1 indica que es una columna\n",
    "\n",
    "# Verificar que se haya eliminado\n",
    "print(df.columns)"
   ]
  },
  {
   "cell_type": "code",
   "execution_count": 191,
   "metadata": {},
   "outputs": [
    {
     "name": "stdout",
     "output_type": "stream",
     "text": [
      "\n",
      "DataFrame después de One-Hot Encoding:\n",
      "    month  day  temp_2  temp_1  average  actual  forecast_noaa  forecast_acc  \\\n",
      "0      1    1      45      45     45.6      45             43            50   \n",
      "1      1    2      44      45     45.7      44             41            50   \n",
      "2      1    3      45      44     45.8      41             43            46   \n",
      "3      1    4      44      41     45.9      40             44            48   \n",
      "4      1    5      41      40     46.0      44             46            46   \n",
      "\n",
      "   forecast_under  friend  week_Mon  week_Sat  week_Sun  week_Thurs  \\\n",
      "0              44      29     False     False     False       False   \n",
      "1              44      61     False      True     False       False   \n",
      "2              47      56     False     False      True       False   \n",
      "3              46      53      True     False     False       False   \n",
      "4              46      41     False     False     False       False   \n",
      "\n",
      "   week_Tues  week_Wed  \n",
      "0      False     False  \n",
      "1      False     False  \n",
      "2      False     False  \n",
      "3      False     False  \n",
      "4       True     False  \n"
     ]
    }
   ],
   "source": [
    "# Aplicar One-Hot Encoding a 'week' (convertir días en columnas binarias)\n",
    "df = pd.get_dummies(df, columns=['week'], drop_first=True)\n",
    "\n",
    "# Verificar\n",
    "print(\"\\nDataFrame después de One-Hot Encoding:\\n\", df.head())"
   ]
  },
  {
   "cell_type": "markdown",
   "metadata": {},
   "source": [
    "#### Feature Engineering"
   ]
  },
  {
   "cell_type": "code",
   "execution_count": null,
   "metadata": {},
   "outputs": [],
   "source": []
  },
  {
   "attachments": {},
   "cell_type": "markdown",
   "metadata": {},
   "source": [
    "### 3. Selecciona variables y divide en train y test"
   ]
  },
  {
   "cell_type": "code",
   "execution_count": 190,
   "metadata": {},
   "outputs": [
    {
     "ename": "NameError",
     "evalue": "name 'df_encoded' is not defined",
     "output_type": "error",
     "traceback": [
      "\u001b[31m---------------------------------------------------------------------------\u001b[39m",
      "\u001b[31mNameError\u001b[39m                                 Traceback (most recent call last)",
      "\u001b[36mCell\u001b[39m\u001b[36m \u001b[39m\u001b[32mIn[190]\u001b[39m\u001b[32m, line 6\u001b[39m\n\u001b[32m      2\u001b[39m \u001b[38;5;28;01mfrom\u001b[39;00m\u001b[38;5;250m \u001b[39m\u001b[34;01msklearn\u001b[39;00m\u001b[34;01m.\u001b[39;00m\u001b[34;01mpreprocessing\u001b[39;00m\u001b[38;5;250m \u001b[39m\u001b[38;5;28;01mimport\u001b[39;00m OneHotEncoder\n\u001b[32m      5\u001b[39m \u001b[38;5;66;03m# Separar variables predictoras y variable objetivo\u001b[39;00m\n\u001b[32m----> \u001b[39m\u001b[32m6\u001b[39m X = \u001b[43mdf_encoded\u001b[49m.drop(\u001b[33m\"\u001b[39m\u001b[33mactual\u001b[39m\u001b[33m\"\u001b[39m, axis=\u001b[32m1\u001b[39m)\n\u001b[32m      7\u001b[39m y = df_encoded[\u001b[33m\"\u001b[39m\u001b[33mactual\u001b[39m\u001b[33m\"\u001b[39m]\n\u001b[32m      9\u001b[39m \u001b[38;5;66;03m# División en entrenamiento y test\u001b[39;00m\n",
      "\u001b[31mNameError\u001b[39m: name 'df_encoded' is not defined"
     ]
    }
   ],
   "source": [
    "from sklearn.model_selection import train_test_split\n",
    "from sklearn.preprocessing import OneHotEncoder\n",
    "\n",
    "\n",
    "# Separar variables predictoras y variable objetivo\n",
    "X = df_encoded.drop(\"actual\", axis=1)\n",
    "y = df_encoded[\"actual\"]\n",
    "\n",
    "# División en entrenamiento y test\n",
    "X_train, X_test, y_train, y_test = train_test_split(X, y, test_size=0.2, random_state=42)\n",
    "\n",
    "X_train.shape, X_test.shape\n"
   ]
  },
  {
   "cell_type": "code",
   "execution_count": null,
   "metadata": {},
   "outputs": [],
   "source": [
    "from sklearn.model_selection import train_test_split\n",
    "\n",
    "# Selección de variables predictoras y objetivo\n",
    "X = df.drop(columns=['actual', 'temp_1'])  # Variables predictoras\n",
    "y = df['temp_1']  # Variable objetivo\n",
    "\n",
    "# División en conjuntos de entrenamiento y prueba\n",
    "X_train, X_test, y_train, y_test = train_test_split(X, y, test_size=0.2, random_state=42)"
   ]
  },
  {
   "attachments": {},
   "cell_type": "markdown",
   "metadata": {},
   "source": [
    "### 4. Entrena el modelo\n"
   ]
  },
  {
   "cell_type": "code",
   "execution_count": null,
   "metadata": {
    "vscode": {
     "languageId": "ruby"
    }
   },
   "outputs": [
    {
     "ename": "KeyError",
     "evalue": "'target'",
     "output_type": "error",
     "traceback": [
      "\u001b[31m---------------------------------------------------------------------------\u001b[39m",
      "\u001b[31mKeyError\u001b[39m                                  Traceback (most recent call last)",
      "\u001b[36mFile \u001b[39m\u001b[32mc:\\Users\\nsara\\AppData\\Local\\Programs\\Python\\Python311\\Lib\\site-packages\\pandas\\core\\indexes\\base.py:3805\u001b[39m, in \u001b[36mIndex.get_loc\u001b[39m\u001b[34m(self, key)\u001b[39m\n\u001b[32m   3804\u001b[39m \u001b[38;5;28;01mtry\u001b[39;00m:\n\u001b[32m-> \u001b[39m\u001b[32m3805\u001b[39m     \u001b[38;5;28;01mreturn\u001b[39;00m \u001b[38;5;28;43mself\u001b[39;49m\u001b[43m.\u001b[49m\u001b[43m_engine\u001b[49m\u001b[43m.\u001b[49m\u001b[43mget_loc\u001b[49m\u001b[43m(\u001b[49m\u001b[43mcasted_key\u001b[49m\u001b[43m)\u001b[49m\n\u001b[32m   3806\u001b[39m \u001b[38;5;28;01mexcept\u001b[39;00m \u001b[38;5;167;01mKeyError\u001b[39;00m \u001b[38;5;28;01mas\u001b[39;00m err:\n",
      "\u001b[36mFile \u001b[39m\u001b[32mindex.pyx:167\u001b[39m, in \u001b[36mpandas._libs.index.IndexEngine.get_loc\u001b[39m\u001b[34m()\u001b[39m\n",
      "\u001b[36mFile \u001b[39m\u001b[32mindex.pyx:196\u001b[39m, in \u001b[36mpandas._libs.index.IndexEngine.get_loc\u001b[39m\u001b[34m()\u001b[39m\n",
      "\u001b[36mFile \u001b[39m\u001b[32mpandas\\\\_libs\\\\hashtable_class_helper.pxi:7081\u001b[39m, in \u001b[36mpandas._libs.hashtable.PyObjectHashTable.get_item\u001b[39m\u001b[34m()\u001b[39m\n",
      "\u001b[36mFile \u001b[39m\u001b[32mpandas\\\\_libs\\\\hashtable_class_helper.pxi:7089\u001b[39m, in \u001b[36mpandas._libs.hashtable.PyObjectHashTable.get_item\u001b[39m\u001b[34m()\u001b[39m\n",
      "\u001b[31mKeyError\u001b[39m: 'target'",
      "\nThe above exception was the direct cause of the following exception:\n",
      "\u001b[31mKeyError\u001b[39m                                  Traceback (most recent call last)",
      "\u001b[36mCell\u001b[39m\u001b[36m \u001b[39m\u001b[32mIn[143]\u001b[39m\u001b[32m, line 5\u001b[39m\n\u001b[32m      3\u001b[39m \u001b[38;5;66;03m# Seleccionar las características y la variable objetivo\u001b[39;00m\n\u001b[32m      4\u001b[39m X = df[[\u001b[33m'\u001b[39m\u001b[33mtemp_2\u001b[39m\u001b[33m'\u001b[39m, \u001b[33m'\u001b[39m\u001b[33maverage\u001b[39m\u001b[33m'\u001b[39m]]  \u001b[38;5;66;03m# Usamos las columnas relevantes del dataset\u001b[39;00m\n\u001b[32m----> \u001b[39m\u001b[32m5\u001b[39m y = \u001b[43mdf\u001b[49m\u001b[43m[\u001b[49m\u001b[33;43m'\u001b[39;49m\u001b[33;43mtarget\u001b[39;49m\u001b[33;43m'\u001b[39;49m\u001b[43m]\u001b[49m  \u001b[38;5;66;03m# Variable objetivo\u001b[39;00m\n\u001b[32m      7\u001b[39m \u001b[38;5;66;03m# Crear y entrenar el modelo\u001b[39;00m\n\u001b[32m      8\u001b[39m tree_clf = DecisionTreeClassifier(max_depth=\u001b[32m2\u001b[39m, random_state=\u001b[32m42\u001b[39m)\n",
      "\u001b[36mFile \u001b[39m\u001b[32mc:\\Users\\nsara\\AppData\\Local\\Programs\\Python\\Python311\\Lib\\site-packages\\pandas\\core\\frame.py:4102\u001b[39m, in \u001b[36mDataFrame.__getitem__\u001b[39m\u001b[34m(self, key)\u001b[39m\n\u001b[32m   4100\u001b[39m \u001b[38;5;28;01mif\u001b[39;00m \u001b[38;5;28mself\u001b[39m.columns.nlevels > \u001b[32m1\u001b[39m:\n\u001b[32m   4101\u001b[39m     \u001b[38;5;28;01mreturn\u001b[39;00m \u001b[38;5;28mself\u001b[39m._getitem_multilevel(key)\n\u001b[32m-> \u001b[39m\u001b[32m4102\u001b[39m indexer = \u001b[38;5;28;43mself\u001b[39;49m\u001b[43m.\u001b[49m\u001b[43mcolumns\u001b[49m\u001b[43m.\u001b[49m\u001b[43mget_loc\u001b[49m\u001b[43m(\u001b[49m\u001b[43mkey\u001b[49m\u001b[43m)\u001b[49m\n\u001b[32m   4103\u001b[39m \u001b[38;5;28;01mif\u001b[39;00m is_integer(indexer):\n\u001b[32m   4104\u001b[39m     indexer = [indexer]\n",
      "\u001b[36mFile \u001b[39m\u001b[32mc:\\Users\\nsara\\AppData\\Local\\Programs\\Python\\Python311\\Lib\\site-packages\\pandas\\core\\indexes\\base.py:3812\u001b[39m, in \u001b[36mIndex.get_loc\u001b[39m\u001b[34m(self, key)\u001b[39m\n\u001b[32m   3807\u001b[39m     \u001b[38;5;28;01mif\u001b[39;00m \u001b[38;5;28misinstance\u001b[39m(casted_key, \u001b[38;5;28mslice\u001b[39m) \u001b[38;5;129;01mor\u001b[39;00m (\n\u001b[32m   3808\u001b[39m         \u001b[38;5;28misinstance\u001b[39m(casted_key, abc.Iterable)\n\u001b[32m   3809\u001b[39m         \u001b[38;5;129;01mand\u001b[39;00m \u001b[38;5;28many\u001b[39m(\u001b[38;5;28misinstance\u001b[39m(x, \u001b[38;5;28mslice\u001b[39m) \u001b[38;5;28;01mfor\u001b[39;00m x \u001b[38;5;129;01min\u001b[39;00m casted_key)\n\u001b[32m   3810\u001b[39m     ):\n\u001b[32m   3811\u001b[39m         \u001b[38;5;28;01mraise\u001b[39;00m InvalidIndexError(key)\n\u001b[32m-> \u001b[39m\u001b[32m3812\u001b[39m     \u001b[38;5;28;01mraise\u001b[39;00m \u001b[38;5;167;01mKeyError\u001b[39;00m(key) \u001b[38;5;28;01mfrom\u001b[39;00m\u001b[38;5;250m \u001b[39m\u001b[34;01merr\u001b[39;00m\n\u001b[32m   3813\u001b[39m \u001b[38;5;28;01mexcept\u001b[39;00m \u001b[38;5;167;01mTypeError\u001b[39;00m:\n\u001b[32m   3814\u001b[39m     \u001b[38;5;66;03m# If we have a listlike key, _check_indexing_error will raise\u001b[39;00m\n\u001b[32m   3815\u001b[39m     \u001b[38;5;66;03m#  InvalidIndexError. Otherwise we fall through and re-raise\u001b[39;00m\n\u001b[32m   3816\u001b[39m     \u001b[38;5;66;03m#  the TypeError.\u001b[39;00m\n\u001b[32m   3817\u001b[39m     \u001b[38;5;28mself\u001b[39m._check_indexing_error(key)\n",
      "\u001b[31mKeyError\u001b[39m: 'target'"
     ]
    }
   ],
   "source": [
    "from sklearn.tree import DecisionTreeClassifier\n",
    "\n",
    "# Seleccionar las características y la variable objetivo\n",
    "X = df[['temp_2', 'average']]  # Usamos las columnas relevantes del dataset\n",
    "y = df['target']  # Variable objetivo\n",
    "\n",
    "# Crear y entrenar el modelo\n",
    "tree_clf = DecisionTreeClassifier(max_depth=2, random_state=42)\n",
    "tree_clf.fit(X, y)\n",
    "\n"
   ]
  },
  {
   "cell_type": "code",
   "execution_count": null,
   "metadata": {
    "vscode": {
     "languageId": "ruby"
    }
   },
   "outputs": [
    {
     "data": {
      "image/png": "[encoded data removed]",
      "text/plain": [
       "<Figure size 2000x1000 with 1 Axes>"
      ]
     },
     "metadata": {},
     "output_type": "display_data"
    }
   ],
   "source": [
    "from sklearn.tree import DecisionTreeClassifier, plot_tree\n",
    "import matplotlib.pyplot as plt\n",
    "plt.figure(figsize=(20, 10))\n",
    "plot_tree(tree_clf,\n",
    "          feature_names=X_train.columns,\n",
    "          # class_names=[\"<=15°C\", \">15°C\"],  # Uncomment if it's a classification problem\n",
    "          filled=True,\n",
    "          rounded=True,\n",
    "          fontsize=10)\n",
    "plt.show()"
   ]
  },
  {
   "attachments": {},
   "cell_type": "markdown",
   "metadata": {},
   "source": [
    "### 5. Evaluación de tu modelo\n",
    "\n",
    "Calcula el MAE, MAPE, MSE y RMSE."
   ]
  },
  {
   "cell_type": "code",
   "execution_count": null,
   "metadata": {},
   "outputs": [
    {
     "name": "stdout",
     "output_type": "stream",
     "text": [
      "MAE: 4.89\n",
      "MAPE: 7.84%\n",
      "MSE: 39.89\n",
      "RMSE: 6.32\n"
     ]
    }
   ],
   "source": [
    "from sklearn.metrics import mean_absolute_error, mean_squared_error, mean_absolute_percentage_error\n",
    "from sklearn.tree import DecisionTreeRegressor\n",
    "import numpy as np\n",
    "\n",
    "# Define and train the regressor\n",
    "regressor = DecisionTreeRegressor(random_state=42)\n",
    "regressor.fit(X_train, y_train)\n",
    "\n",
    "# Predicciones\n",
    "y_pred = regressor.predict(X_test)\n",
    "\n",
    "# Evaluaciones\n",
    "mae = mean_absolute_error(y_test, y_pred)\n",
    "mape = mean_absolute_percentage_error(y_test, y_pred)\n",
    "mse = mean_squared_error(y_test, y_pred)\n",
    "rmse = np.sqrt(mse)\n",
    "\n",
    "print(f\"MAE: {mae:.2f}\")\n",
    "print(f\"MAPE: {mape:.2%}\")\n",
    "print(f\"MSE: {mse:.2f}\")\n",
    "print(f\"RMSE: {rmse:.2f}\")\n"
   ]
  },
  {
   "attachments": {},
   "cell_type": "markdown",
   "metadata": {},
   "source": [
    "### 6. Representa el árbol de decisión"
   ]
  },
  {
   "cell_type": "code",
   "execution_count": null,
   "metadata": {},
   "outputs": [
    {
     "ename": "SyntaxError",
     "evalue": "invalid syntax. Perhaps you forgot a comma? (3354164968.py, line 4)",
     "output_type": "error",
     "traceback": [
      "  \u001b[36mCell\u001b[39m\u001b[36m \u001b[39m\u001b[32mIn[128]\u001b[39m\u001b[32m, line 4\u001b[39m\n\u001b[31m    \u001b[39m\u001b[31mplot_tree(df\u001b[39m\n              ^\n\u001b[31mSyntaxError\u001b[39m\u001b[31m:\u001b[39m invalid syntax. Perhaps you forgot a comma?\n"
     ]
    }
   ],
   "source": [
    "from sklearn.tree import DecisionTreeClassifier, plot_tree\n",
    "import matplotlib.pyplot as plt\n",
    "plt.figure(figsize=(20, 10))\n",
    "plot_tree(df\n",
    "          feature_names=X_train.columns,\n",
    "          #class_names=[str(c) for c in df_dt.__class__],  # Solo si es clasificación\n",
    "          filled=True,\n",
    "          rounded=True,\n",
    "          fontsize=10)\n",
    "plt.show()"
   ]
  },
  {
   "cell_type": "code",
   "execution_count": null,
   "metadata": {},
   "outputs": [
    {
     "ename": "NameError",
     "evalue": "name 'sklearn' is not defined",
     "output_type": "error",
     "traceback": [
      "\u001b[31m---------------------------------------------------------------------------\u001b[39m",
      "\u001b[31mNameError\u001b[39m                                 Traceback (most recent call last)",
      "\u001b[36mCell\u001b[39m\u001b[36m \u001b[39m\u001b[32mIn[116]\u001b[39m\u001b[32m, line 2\u001b[39m\n\u001b[32m      1\u001b[39m plt.figure(figsize=(\u001b[32m10\u001b[39m, \u001b[32m10\u001b[39m))\n\u001b[32m----> \u001b[39m\u001b[32m2\u001b[39m \u001b[43msklearn\u001b[49m.tree.plot_tree(tree_clf,\n\u001b[32m      3\u001b[39m                        feature_names=X_train.columns,\n\u001b[32m      4\u001b[39m                        class_names=[\u001b[33m\"\u001b[39m\u001b[33m<=15°C\u001b[39m\u001b[33m\"\u001b[39m, \u001b[33m\"\u001b[39m\u001b[33m>15°C\u001b[39m\u001b[33m\"\u001b[39m],\n\u001b[32m      5\u001b[39m                        filled=\u001b[38;5;28;01mTrue\u001b[39;00m)\n\u001b[32m      6\u001b[39m plt.title(\u001b[33m\"\u001b[39m\u001b[33mÁrbol de Decisión - Clasificación\u001b[39m\u001b[33m\"\u001b[39m)\n\u001b[32m      7\u001b[39m plt.show()\n",
      "\u001b[31mNameError\u001b[39m: name 'sklearn' is not defined"
     ]
    },
    {
     "data": {
      "text/plain": [
       "<Figure size 1000x1000 with 0 Axes>"
      ]
     },
     "metadata": {},
     "output_type": "display_data"
    }
   ],
   "source": [
    "plt.figure(figsize=(10, 10))\n",
    "sklearn.tree.plot_tree(tree_clf,\n",
    "                       feature_names=X_train.columns,\n",
    "                       class_names=[\"<=15°C\", \">15°C\"],\n",
    "                       filled=True)\n",
    "plt.title(\"Árbol de Decisión - Clasificación\")\n",
    "plt.show()"
   ]
  },
  {
   "cell_type": "code",
   "execution_count": null,
   "metadata": {},
   "outputs": [],
   "source": []
  },
  {
   "attachments": {},
   "cell_type": "markdown",
   "metadata": {},
   "source": [
    "### 7. Modifica el max_depth a 3 y vuelve a entrenarlo"
   ]
  },
  {
   "attachments": {},
   "cell_type": "markdown",
   "metadata": {},
   "source": [
    "### 8. Vuelve a evaluar tu modelo"
   ]
  },
  {
   "attachments": {},
   "cell_type": "markdown",
   "metadata": {},
   "source": [
    "### 9. Vuelve a representar su árbol"
   ]
  },
  {
   "attachments": {},
   "cell_type": "markdown",
   "metadata": {},
   "source": [
    "### 10. Utiliza un grid search con cross validation para hiperparametrizar tu modelo"
   ]
  },
  {
   "cell_type": "code",
   "execution_count": null,
   "metadata": {},
   "outputs": [
    {
     "ename": "NameError",
     "evalue": "name 'DecisionTreeRegressor' is not defined",
     "output_type": "error",
     "traceback": [
      "\u001b[31m---------------------------------------------------------------------------\u001b[39m",
      "\u001b[31mNameError\u001b[39m                                 Traceback (most recent call last)",
      "\u001b[36mCell\u001b[39m\u001b[36m \u001b[39m\u001b[32mIn[9]\u001b[39m\u001b[32m, line 1\u001b[39m\n\u001b[32m----> \u001b[39m\u001b[32m1\u001b[39m model = \u001b[43mDecisionTreeRegressor\u001b[49m()\n\u001b[32m      3\u001b[39m parameters = {\n\u001b[32m      4\u001b[39m     \u001b[33m\"\u001b[39m\u001b[33mmax_depth\u001b[39m\u001b[33m\"\u001b[39m : [\u001b[32m2\u001b[39m,\u001b[32m3\u001b[39m,\u001b[32m4\u001b[39m,\u001b[32m5\u001b[39m]\n\u001b[32m      5\u001b[39m }\n\u001b[32m      7\u001b[39m dtr_gs = GridSearchCV(model, parameters, cv=\u001b[32m5\u001b[39m, scoring=\u001b[33m\"\u001b[39m\u001b[33mneg_mean_absolute_error\u001b[39m\u001b[33m\"\u001b[39m)\n",
      "\u001b[31mNameError\u001b[39m: name 'DecisionTreeRegressor' is not defined"
     ]
    }
   ],
   "source": [
    "model = DecisionTreeRegressor()\n",
    "\n",
    "parameters = {\n",
    "    \"max_depth\" : [2,3,4,5]\n",
    "}\n",
    "\n",
    "dtr_gs = GridSearchCV(model, parameters, cv=5, scoring=\"neg_mean_absolute_error\")"
   ]
  },
  {
   "cell_type": "code",
   "execution_count": null,
   "metadata": {},
   "outputs": [
    {
     "ename": "NameError",
     "evalue": "name 'dtr_gs' is not defined",
     "output_type": "error",
     "traceback": [
      "\u001b[31m---------------------------------------------------------------------------\u001b[39m",
      "\u001b[31mNameError\u001b[39m                                 Traceback (most recent call last)",
      "\u001b[36mCell\u001b[39m\u001b[36m \u001b[39m\u001b[32mIn[10]\u001b[39m\u001b[32m, line 1\u001b[39m\n\u001b[32m----> \u001b[39m\u001b[32m1\u001b[39m y_pred = \u001b[43mdtr_gs\u001b[49m.best_estimator_.predict(X_test)\n\u001b[32m      3\u001b[39m \u001b[38;5;28mprint\u001b[39m(\u001b[33m\"\u001b[39m\u001b[33mMAE\u001b[39m\u001b[33m\"\u001b[39m, mean_absolute_error(y_test, y_pred))\n\u001b[32m      4\u001b[39m \u001b[38;5;28mprint\u001b[39m(\u001b[33m\"\u001b[39m\u001b[33mMAPE\u001b[39m\u001b[33m\"\u001b[39m, mean_absolute_percentage_error(y_test, y_pred))\n",
      "\u001b[31mNameError\u001b[39m: name 'dtr_gs' is not defined"
     ]
    }
   ],
   "source": [
    "y_pred = dtr_gs.best_estimator_.predict(X_test)\n",
    "\n",
    "print(\"MAE\", mean_absolute_error(y_test, y_pred))\n",
    "print(\"MAPE\", mean_absolute_percentage_error(y_test, y_pred))\n",
    "print(\"MSE\", mean_squared_error(y_test, y_pred))\n",
    "print(\"RMSE\", np.sqrt(mean_squared_error(y_test, y_pred)))"
   ]
  },
  {
   "cell_type": "code",
   "execution_count": null,
   "metadata": {},
   "outputs": [],
   "source": [
    "dtr_gs.best_params_"
   ]
  },
  {
   "attachments": {},
   "cell_type": "markdown",
   "metadata": {},
   "source": [
    "### 11. Obten el `feature_importances` de cada variable en el último modelo"
   ]
  },
  {
   "attachments": {},
   "cell_type": "markdown",
   "metadata": {},
   "source": [
    "### 12. Construye un nuevo modelo `DecisionTreeClassifier` que te clasifique cuando en un día va a hacer una temperatura mayor a 15ºC. ¡Deberá tratarse como un problema de **clasificación**! Utiliza un grid search con cross validation y evalúa el mejor modelo."
   ]
  }
 ],
 "metadata": {
  "kernelspec": {
   "display_name": "Python 3",
   "language": "python",
   "name": "python3"
  },
  "language_info": {
   "codemirror_mode": {
    "name": "ipython",
    "version": 3
   },
   "file_extension": ".py",
   "mimetype": "text/x-python",
   "name": "python",
   "nbconvert_exporter": "python",
   "pygments_lexer": "ipython3",
   "version": "3.11.9"
  }
 },
 "nbformat": 4,
 "nbformat_minor": 4
}
