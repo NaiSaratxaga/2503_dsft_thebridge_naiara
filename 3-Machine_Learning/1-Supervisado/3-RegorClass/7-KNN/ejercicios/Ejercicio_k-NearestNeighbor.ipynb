{
 "cells": [
  {
   "attachments": {},
   "cell_type": "markdown",
   "metadata": {},
   "source": [
    "# Ejercicio k-Nearest Neighbor\n",
    "\n",
    "## App Reviews\n",
    "En este ejercicio vas a trabajar con una base de datos de reviews de una aplicación. Entre los datos podemos encontrar el texto de la review, las estrellas, así como el sentimiento del comentario (si es algo bueno o malo).\n",
    "\n",
    "El objetivo es montar un algoritmo de clasificación que prediga el rating, en función del sentimiento del comentario y la cantidad de palabras empleadas en el mismo. Para ello tendrás que utilizar un algoritmo de tipo KNN."
   ]
  },
  {
   "attachments": {},
   "cell_type": "markdown",
   "metadata": {},
   "source": [
    "### Importamos las librerías que vamos a utilizar"
   ]
  },
  {
   "cell_type": "code",
   "execution_count": 48,
   "metadata": {},
   "outputs": [],
   "source": [
    "import pandas as pd\n",
    "import numpy as np\n",
    "import matplotlib.pyplot as plt\n",
    "import seaborn as sns\n",
    "from sklearn.neighbors import KNeighborsClassifier\n",
    "from sklearn.model_selection import train_test_split\n",
    "from sklearn.preprocessing import MinMaxScaler\n",
    "from sklearn.metrics import accuracy_score"
   ]
  },
  {
   "attachments": {},
   "cell_type": "markdown",
   "metadata": {},
   "source": [
    "## Leemos nuestro archivo de entrada `reviews_sentiment`"
   ]
  },
  {
   "cell_type": "code",
   "execution_count": 49,
   "metadata": {},
   "outputs": [],
   "source": [
    "pd.set_option(\"max_colwidth\", 200)"
   ]
  },
  {
   "cell_type": "code",
   "execution_count": 50,
   "metadata": {},
   "outputs": [
    {
     "data": {
      "application/vnd.microsoft.datawrangler.viewer.v0+json": {
       "columns": [
        {
         "name": "index",
         "rawType": "int64",
         "type": "integer"
        },
        {
         "name": "Review Title",
         "rawType": "object",
         "type": "string"
        },
        {
         "name": "Review Text",
         "rawType": "object",
         "type": "string"
        },
        {
         "name": "wordcount",
         "rawType": "int64",
         "type": "integer"
        },
        {
         "name": "titleSentiment",
         "rawType": "object",
         "type": "unknown"
        },
        {
         "name": "textSentiment",
         "rawType": "object",
         "type": "string"
        },
        {
         "name": "Star Rating",
         "rawType": "int64",
         "type": "integer"
        },
        {
         "name": "sentimentValue",
         "rawType": "float64",
         "type": "float"
        }
       ],
       "conversionMethod": "pd.DataFrame",
       "ref": "9365c948-f1bb-4f06-84ff-d4e300633fb4",
       "rows": [
        [
         "0",
         "Sin conexión",
         "Hola desde hace algo más de un mes me pone sin conexión y no sale nada, antes me funcionaba correctamente.",
         "23",
         "negative",
         "negative",
         "1",
         "-0.4863892549767946"
        ],
        [
         "1",
         "faltan cosas",
         "Han mejorado la apariencia pero no",
         "20",
         "negative",
         "negative",
         "1",
         "-0.5861874727339228"
        ],
        [
         "2",
         "Es muy buena lo recomiendo",
         "Andres e puto amoooo",
         "4",
         null,
         "negative",
         "1",
         "-0.6022402747857277"
        ],
        [
         "3",
         "Version antigua",
         "Me gustana mas la version anterior esta es mas complicada de usar hay gente cambiandosevpor esevmotivo gracias",
         "17",
         null,
         "negative",
         "1",
         "-0.6162712056633162"
        ],
        [
         "4",
         "Esta bien",
         "Sin ser la biblia.... Esta bien",
         "6",
         "negative",
         "negative",
         "1",
         "-0.6517836008462109"
        ],
        [
         "5",
         "Buena",
         "Nada del otro mundo pero han mejorado mucho",
         "8",
         "positive",
         "negative",
         "1",
         "-0.7204429256151285"
        ],
        [
         "6",
         "De gran ayuda",
         "Lo malo q necesita de …,pero la app es muy buena",
         "23",
         "positive",
         "negative",
         "1",
         "-0.7268254087888714"
        ],
        [
         "7",
         "Muy buena",
         "Estaba más acostumbrado al otro diseño, pero es cosa de acostunbrarse .. la aplicación es escépcional",
         "16",
         "positive",
         "negative",
         "1",
         "-0.7367694709092752"
        ],
        [
         "8",
         "Ta to guapa.",
         "Va de escándalo",
         "21",
         "positive",
         "negative",
         "1",
         "-0.765283702598727"
        ],
        [
         "9",
         "Se han corregido",
         "Han corregido muchos fallos pero el diseño es contrario al pedido por Google",
         "13",
         "negative",
         "negative",
         "1",
         "-0.7979612300412889"
        ],
        [
         "10",
         "Parece que va mejor.",
         "No se cuelga tanto",
         "4",
         "positive",
         "negative",
         "1",
         "-0.8334875979937725"
        ],
        [
         "11",
         "Dice q hay una nueva versión?",
         "Xq no me sale la opción de actualizarla entonces?",
         "9",
         "negative",
         "negative",
         "1",
         "-0.8384665315151861"
        ],
        [
         "12",
         "Útil",
         "Falta opción",
         "4",
         "positive",
         "negative",
         "1",
         "-0.8885590350462715"
        ],
        [
         "13",
         "Me indica una nueva version",
         "Dice que existe una nueva version, pero no sale actualizacion, e probado a borrarla y volver a instalarla, pero el mensaje sigue apareciendo",
         "23",
         "negative",
         "negative",
         "1",
         "-1.002696144743075"
        ],
        [
         "14",
         "No me funciona",
         "Mui buena pero a veces no acen",
         "14",
         "negative",
         "negative",
         "1",
         "-1.0832692852163408"
        ],
        [
         "15",
         "Hay que mejorar",
         "No funcionan las notificaciones, y deberían… Por lo demás correcto",
         "20",
         "positive",
         "negative",
         "1",
         "-1.0981097654004746"
        ],
        [
         "16",
         "Muy bien ..pero",
         "…",
         "26",
         "negative",
         "negative",
         "1",
         "-1.1044687905632284"
        ],
        [
         "17",
         "No va",
         "Pero esta bloqueado y no me funciona",
         "7",
         "positive",
         "negative",
         "1",
         "-1.1122230773375148"
        ],
        [
         "18",
         "Bien",
         "No es precisa del todo",
         "5",
         "positive",
         "negative",
         "1",
         "-1.2754114957137634"
        ],
        [
         "19",
         "Bastante bien",
         "Muy útil, pero hay …",
         "22",
         "positive",
         "negative",
         "1",
         "-1.2860092681818858"
        ],
        [
         "20",
         "Muy buena idea",
         "Aun faltan muchos",
         "13",
         "positive",
         "negative",
         "1",
         "-1.455639534574406"
        ],
        [
         "21",
         "No remata...",
         "En que se basa?...no termina de cuadrarme...",
         "7",
         "negative",
         "negative",
         "1",
         "-1.4794328016280442"
        ],
        [
         "22",
         "Note 3",
         "Esta bien la aplicación pero se nota k....sin mas comentarios.",
         "18",
         "negative",
         "negative",
         "1",
         "-1.4983055361035678"
        ],
        [
         "23",
         "Es buena",
         "No me deja",
         "4",
         "positive",
         "negative",
         "1",
         "-1.780889062388097"
        ],
        [
         "24",
         "Ya funciona",
         "Errores corregidos.",
         "2",
         "positive",
         "negative",
         "1",
         "-2.276469027404202"
        ],
        [
         "25",
         "Sobre permisos",
         "Permisos a tus fotos, llamadas, conexiones wifi, etc. No nos damos cuenta pero con toda la info. que compartimos con estas apk. Nos pueden quitar nuestra intimidad. Apk borrada.",
         "29",
         "positive",
         "positive",
         "1",
         "0.1076714179024391"
        ],
        [
         "26",
         "identificacion de user",
         "Estaría bien que cada. Cuando tienes más de una no pone a cual corresponde y",
         "30",
         "negative",
         "positive",
         "2",
         "-0.0626158036127862"
        ],
        [
         "27",
         "Fantastica",
         "Aunque todo es mejorable le doy estrellas por su enorme utilidad…",
         "63",
         "positive",
         "positive",
         "2",
         "-0.0632821422791839"
        ],
        [
         "28",
         "Ojo!",
         "Lo tengo desde hace meses, pero en la actualización de hoy 1 de mayo de 2015 mi antiviruslo ha detectado como aplicación potencialmente peligrosa y lo he desinstalado.",
         "33",
         "negative",
         "positive",
         "2",
         "-0.130138468643746"
        ],
        [
         "29",
         "Bastante útil y fácil de utilizar",
         "Me ayuda bastante y la gente, a …",
         "34",
         "positive",
         "positive",
         "2",
         "-0.2017099026902854"
        ],
        [
         "30",
         "Buena app, pero",
         "Buena app, pero…",
         "76",
         null,
         "negative",
         "2",
         "-0.2951936979025951"
        ],
        [
         "31",
         "Separar las islas!!!",
         "Porfa separen …",
         "34",
         "negative",
         "negative",
         "2",
         "-0.5529856995159401"
        ],
        [
         "32",
         "vuelve a funcionar",
         "Vuelve a funcionar como debe de ser. La tenemos que cuidar y actualizar todos. …",
         "36",
         "negative",
         "negative",
         "2",
         "-0.6150217745307491"
        ],
        [
         "33",
         "Demasiados feaute",
         "A ver......tiene muchísimos ….no mola nada",
         "63",
         "negative",
         "negative",
         "2",
         "-0.6422284312075216"
        ],
        [
         "34",
         "Bien",
         "Se podría mejorar haciendo uso del ,,,",
         "45",
         "positive",
         "negative",
         "2",
         "-0.7478047635470271"
        ],
        [
         "35",
         "Mucho que mejorar",
         "La interfaz de usuario es pésima, no hay por donde cogerla. Lo ideal sería seguir Material Design de Google y no perder el tiempo con interfaces feas.",
         "27",
         "positive",
         "negative",
         "2",
         "-0.769308686900702"
        ],
        [
         "36",
         "No pude FINALIZAR!!!!",
         "La APP no se cierra nunca. … Tengo que desinstalarla y reinstalarla cada vez que quiera usarla",
         "32",
         "negative",
         "negative",
         "2",
         "-0.950120971741788"
        ],
        [
         "37",
         "No te hacen caso",
         "No veo lógico ni competitivo ni de calidad…",
         "103",
         "negative",
         "negative",
         "2",
         "-1.7072675742817744"
        ],
        [
         "38",
         "Avitar",
         "…",
         "22",
         "negative",
         "positive",
         "2",
         "0.0528405983105105"
        ],
        [
         "39",
         "Donde esta el Catalán",
         "Con eso esta dicho todo. Y quede claro que no tengo nada contra el idioma de Cervantes (no como otros).",
         "20",
         "positive",
         "positive",
         "2",
         "0.0579279092395829"
        ],
        [
         "40",
         "Imprescindible",
         "Desde que la tengo hace meses que no…",
         "27",
         "positive",
         "positive",
         "2",
         "0.0737785545211743"
        ],
        [
         "41",
         "Util",
         "Funciona bien,…",
         "9",
         null,
         "positive",
         "3",
         "-0.0120393936870973"
        ],
        [
         "42",
         "vale la pena",
         "A mi me … la encuentro genial.",
         "13",
         "positive",
         "positive",
         "3",
         "-0.0150187707033051"
        ],
        [
         "43",
         "Genial",
         "Por lo menos …",
         "15",
         "positive",
         "positive",
         "3",
         "-0.0220345678276106"
        ],
        [
         "44",
         "Excelente",
         "Te …mucho",
         "3",
         "positive",
         "positive",
         "3",
         "-0.0361552697312459"
        ],
        [
         "45",
         "Por fin algo bueno",
         "Esto es lo que hacía falta",
         "6",
         "positive",
         "positive",
         "3",
         "-0.0484385138839592"
        ],
        [
         "46",
         "Fiable",
         "Es fiable la aplicación ya lo e comprobado y la recomiendo solo q tarda…",
         "20",
         "positive",
         "positive",
         "3",
         "-0.0617548345575044"
        ],
        [
         "47",
         "Muy práctica",
         "Interesante y funcional",
         "3",
         "positive",
         "positive",
         "3",
         "-0.0654832603634284"
        ],
        [
         "48",
         "Ahora ya funciona",
         "Ahora ya funciona mejor pero la…",
         "13",
         "positive",
         "positive",
         "3",
         "-0.0704406232354751"
        ],
        [
         "49",
         "Muy Útil",
         "Me ….",
         "9",
         "positive",
         "positive",
         "3",
         "-0.0744834280040398"
        ]
       ],
       "shape": {
        "columns": 7,
        "rows": 257
       }
      },
      "text/html": [
       "<div>\n",
       "<style scoped>\n",
       "    .dataframe tbody tr th:only-of-type {\n",
       "        vertical-align: middle;\n",
       "    }\n",
       "\n",
       "    .dataframe tbody tr th {\n",
       "        vertical-align: top;\n",
       "    }\n",
       "\n",
       "    .dataframe thead th {\n",
       "        text-align: right;\n",
       "    }\n",
       "</style>\n",
       "<table border=\"1\" class=\"dataframe\">\n",
       "  <thead>\n",
       "    <tr style=\"text-align: right;\">\n",
       "      <th></th>\n",
       "      <th>Review Title</th>\n",
       "      <th>Review Text</th>\n",
       "      <th>wordcount</th>\n",
       "      <th>titleSentiment</th>\n",
       "      <th>textSentiment</th>\n",
       "      <th>Star Rating</th>\n",
       "      <th>sentimentValue</th>\n",
       "    </tr>\n",
       "  </thead>\n",
       "  <tbody>\n",
       "    <tr>\n",
       "      <th>0</th>\n",
       "      <td>Sin conexión</td>\n",
       "      <td>Hola desde hace algo más de un mes me pone sin conexión y no sale nada, antes me funcionaba correctamente.</td>\n",
       "      <td>23</td>\n",
       "      <td>negative</td>\n",
       "      <td>negative</td>\n",
       "      <td>1</td>\n",
       "      <td>-0.486389</td>\n",
       "    </tr>\n",
       "    <tr>\n",
       "      <th>1</th>\n",
       "      <td>faltan cosas</td>\n",
       "      <td>Han mejorado la apariencia pero no</td>\n",
       "      <td>20</td>\n",
       "      <td>negative</td>\n",
       "      <td>negative</td>\n",
       "      <td>1</td>\n",
       "      <td>-0.586187</td>\n",
       "    </tr>\n",
       "    <tr>\n",
       "      <th>2</th>\n",
       "      <td>Es muy buena lo recomiendo</td>\n",
       "      <td>Andres e puto amoooo</td>\n",
       "      <td>4</td>\n",
       "      <td>NaN</td>\n",
       "      <td>negative</td>\n",
       "      <td>1</td>\n",
       "      <td>-0.602240</td>\n",
       "    </tr>\n",
       "    <tr>\n",
       "      <th>3</th>\n",
       "      <td>Version antigua</td>\n",
       "      <td>Me gustana mas la version anterior esta es mas complicada de usar hay gente cambiandosevpor esevmotivo gracias</td>\n",
       "      <td>17</td>\n",
       "      <td>NaN</td>\n",
       "      <td>negative</td>\n",
       "      <td>1</td>\n",
       "      <td>-0.616271</td>\n",
       "    </tr>\n",
       "    <tr>\n",
       "      <th>4</th>\n",
       "      <td>Esta bien</td>\n",
       "      <td>Sin ser la biblia.... Esta bien</td>\n",
       "      <td>6</td>\n",
       "      <td>negative</td>\n",
       "      <td>negative</td>\n",
       "      <td>1</td>\n",
       "      <td>-0.651784</td>\n",
       "    </tr>\n",
       "    <tr>\n",
       "      <th>...</th>\n",
       "      <td>...</td>\n",
       "      <td>...</td>\n",
       "      <td>...</td>\n",
       "      <td>...</td>\n",
       "      <td>...</td>\n",
       "      <td>...</td>\n",
       "      <td>...</td>\n",
       "    </tr>\n",
       "    <tr>\n",
       "      <th>252</th>\n",
       "      <td>Muy buena aplicacion</td>\n",
       "      <td>Muy buena genial</td>\n",
       "      <td>3</td>\n",
       "      <td>positive</td>\n",
       "      <td>positive</td>\n",
       "      <td>5</td>\n",
       "      <td>2.814818</td>\n",
       "    </tr>\n",
       "    <tr>\n",
       "      <th>253</th>\n",
       "      <td>Buena</td>\n",
       "      <td>Genial</td>\n",
       "      <td>1</td>\n",
       "      <td>positive</td>\n",
       "      <td>positive</td>\n",
       "      <td>5</td>\n",
       "      <td>2.924393</td>\n",
       "    </tr>\n",
       "    <tr>\n",
       "      <th>254</th>\n",
       "      <td>Wuau</td>\n",
       "      <td>Genial</td>\n",
       "      <td>1</td>\n",
       "      <td>positive</td>\n",
       "      <td>positive</td>\n",
       "      <td>5</td>\n",
       "      <td>2.924393</td>\n",
       "    </tr>\n",
       "    <tr>\n",
       "      <th>255</th>\n",
       "      <td>Muy buena</td>\n",
       "      <td>Genial</td>\n",
       "      <td>1</td>\n",
       "      <td>positive</td>\n",
       "      <td>positive</td>\n",
       "      <td>5</td>\n",
       "      <td>2.924393</td>\n",
       "    </tr>\n",
       "    <tr>\n",
       "      <th>256</th>\n",
       "      <td>Sg S5</td>\n",
       "      <td>Excelente y exacta</td>\n",
       "      <td>3</td>\n",
       "      <td>negative</td>\n",
       "      <td>positive</td>\n",
       "      <td>5</td>\n",
       "      <td>3.264579</td>\n",
       "    </tr>\n",
       "  </tbody>\n",
       "</table>\n",
       "<p>257 rows × 7 columns</p>\n",
       "</div>"
      ],
      "text/plain": [
       "                   Review Title  \\\n",
       "0                  Sin conexión   \n",
       "1                  faltan cosas   \n",
       "2    Es muy buena lo recomiendo   \n",
       "3               Version antigua   \n",
       "4                     Esta bien   \n",
       "..                          ...   \n",
       "252        Muy buena aplicacion   \n",
       "253                       Buena   \n",
       "254                        Wuau   \n",
       "255                   Muy buena   \n",
       "256                       Sg S5   \n",
       "\n",
       "                                                                                                        Review Text  \\\n",
       "0        Hola desde hace algo más de un mes me pone sin conexión y no sale nada, antes me funcionaba correctamente.   \n",
       "1                                                                                Han mejorado la apariencia pero no   \n",
       "2                                                                                              Andres e puto amoooo   \n",
       "3    Me gustana mas la version anterior esta es mas complicada de usar hay gente cambiandosevpor esevmotivo gracias   \n",
       "4                                                                                   Sin ser la biblia.... Esta bien   \n",
       "..                                                                                                              ...   \n",
       "252                                                                                                Muy buena genial   \n",
       "253                                                                                                          Genial   \n",
       "254                                                                                                          Genial   \n",
       "255                                                                                                          Genial   \n",
       "256                                                                                              Excelente y exacta   \n",
       "\n",
       "     wordcount titleSentiment textSentiment  Star Rating  sentimentValue  \n",
       "0           23       negative      negative            1       -0.486389  \n",
       "1           20       negative      negative            1       -0.586187  \n",
       "2            4            NaN      negative            1       -0.602240  \n",
       "3           17            NaN      negative            1       -0.616271  \n",
       "4            6       negative      negative            1       -0.651784  \n",
       "..         ...            ...           ...          ...             ...  \n",
       "252          3       positive      positive            5        2.814818  \n",
       "253          1       positive      positive            5        2.924393  \n",
       "254          1       positive      positive            5        2.924393  \n",
       "255          1       positive      positive            5        2.924393  \n",
       "256          3       negative      positive            5        3.264579  \n",
       "\n",
       "[257 rows x 7 columns]"
      ]
     },
     "execution_count": 50,
     "metadata": {},
     "output_type": "execute_result"
    }
   ],
   "source": [
    "df = pd.read_csv(\"data/reviews_sentiment.csv\", sep=\";\")\n",
    "df"
   ]
  },
  {
   "attachments": {},
   "cell_type": "markdown",
   "metadata": {},
   "source": [
    "Para facilitar el ejercicio, las columnas que utilizaremos serán: wordcount con la cantidad de palabras utilizadas y sentimentValue con un valor entre -4 y 4 que indica si el comentario fue valorado como positivo o negativo"
   ]
  },
  {
   "attachments": {},
   "cell_type": "markdown",
   "metadata": {},
   "source": [
    "Nuestras etiquetas, serán las estrellas que dieron los usuarios a la app, que son valores discretos del 1 al 5"
   ]
  },
  {
   "attachments": {},
   "cell_type": "markdown",
   "metadata": {},
   "source": [
    "## Rápidas visualizaciones y análisis\n",
    "Al menos realiza un análisis univariante y representa la distribución del rating. Realiza otras visualizaciones para ver la relación de tus datos."
   ]
  },
  {
   "cell_type": "code",
   "execution_count": 51,
   "metadata": {},
   "outputs": [
    {
     "name": "stdout",
     "output_type": "stream",
     "text": [
      "<class 'pandas.core.frame.DataFrame'>\n",
      "RangeIndex: 257 entries, 0 to 256\n",
      "Data columns (total 7 columns):\n",
      " #   Column          Non-Null Count  Dtype  \n",
      "---  ------          --------------  -----  \n",
      " 0   Review Title    257 non-null    object \n",
      " 1   Review Text     257 non-null    object \n",
      " 2   wordcount       257 non-null    int64  \n",
      " 3   titleSentiment  231 non-null    object \n",
      " 4   textSentiment   257 non-null    object \n",
      " 5   Star Rating     257 non-null    int64  \n",
      " 6   sentimentValue  257 non-null    float64\n",
      "dtypes: float64(1), int64(2), object(4)\n",
      "memory usage: 14.2+ KB\n"
     ]
    }
   ],
   "source": [
    "df.info()"
   ]
  },
  {
   "cell_type": "code",
   "execution_count": 52,
   "metadata": {},
   "outputs": [
    {
     "data": {
      "application/vnd.microsoft.datawrangler.viewer.v0+json": {
       "columns": [
        {
         "name": "index",
         "rawType": "object",
         "type": "string"
        },
        {
         "name": "wordcount",
         "rawType": "float64",
         "type": "float"
        },
        {
         "name": "Star Rating",
         "rawType": "float64",
         "type": "float"
        },
        {
         "name": "sentimentValue",
         "rawType": "float64",
         "type": "float"
        }
       ],
       "conversionMethod": "pd.DataFrame",
       "ref": "b8234a55-7652-46d3-b20d-8c2ad8f23c98",
       "rows": [
        [
         "count",
         "257.0",
         "257.0",
         "257.0"
        ],
        [
         "mean",
         "11.501945525291829",
         "3.4202334630350193",
         "0.3838494816874471"
        ],
        [
         "std",
         "13.159812318671035",
         "1.409530598384477",
         "0.8979871291400607"
        ],
        [
         "min",
         "1.0",
         "1.0",
         "-2.276469027404202"
        ],
        [
         "25%",
         "3.0",
         "3.0",
         "-0.1081437146149816"
        ],
        [
         "50%",
         "7.0",
         "3.0",
         "0.2640909909931956"
        ],
        [
         "75%",
         "16.0",
         "5.0",
         "0.8083844566577392"
        ],
        [
         "max",
         "103.0",
         "5.0",
         "3.2645785544908428"
        ]
       ],
       "shape": {
        "columns": 3,
        "rows": 8
       }
      },
      "text/html": [
       "<div>\n",
       "<style scoped>\n",
       "    .dataframe tbody tr th:only-of-type {\n",
       "        vertical-align: middle;\n",
       "    }\n",
       "\n",
       "    .dataframe tbody tr th {\n",
       "        vertical-align: top;\n",
       "    }\n",
       "\n",
       "    .dataframe thead th {\n",
       "        text-align: right;\n",
       "    }\n",
       "</style>\n",
       "<table border=\"1\" class=\"dataframe\">\n",
       "  <thead>\n",
       "    <tr style=\"text-align: right;\">\n",
       "      <th></th>\n",
       "      <th>wordcount</th>\n",
       "      <th>Star Rating</th>\n",
       "      <th>sentimentValue</th>\n",
       "    </tr>\n",
       "  </thead>\n",
       "  <tbody>\n",
       "    <tr>\n",
       "      <th>count</th>\n",
       "      <td>257.000000</td>\n",
       "      <td>257.000000</td>\n",
       "      <td>257.000000</td>\n",
       "    </tr>\n",
       "    <tr>\n",
       "      <th>mean</th>\n",
       "      <td>11.501946</td>\n",
       "      <td>3.420233</td>\n",
       "      <td>0.383849</td>\n",
       "    </tr>\n",
       "    <tr>\n",
       "      <th>std</th>\n",
       "      <td>13.159812</td>\n",
       "      <td>1.409531</td>\n",
       "      <td>0.897987</td>\n",
       "    </tr>\n",
       "    <tr>\n",
       "      <th>min</th>\n",
       "      <td>1.000000</td>\n",
       "      <td>1.000000</td>\n",
       "      <td>-2.276469</td>\n",
       "    </tr>\n",
       "    <tr>\n",
       "      <th>25%</th>\n",
       "      <td>3.000000</td>\n",
       "      <td>3.000000</td>\n",
       "      <td>-0.108144</td>\n",
       "    </tr>\n",
       "    <tr>\n",
       "      <th>50%</th>\n",
       "      <td>7.000000</td>\n",
       "      <td>3.000000</td>\n",
       "      <td>0.264091</td>\n",
       "    </tr>\n",
       "    <tr>\n",
       "      <th>75%</th>\n",
       "      <td>16.000000</td>\n",
       "      <td>5.000000</td>\n",
       "      <td>0.808384</td>\n",
       "    </tr>\n",
       "    <tr>\n",
       "      <th>max</th>\n",
       "      <td>103.000000</td>\n",
       "      <td>5.000000</td>\n",
       "      <td>3.264579</td>\n",
       "    </tr>\n",
       "  </tbody>\n",
       "</table>\n",
       "</div>"
      ],
      "text/plain": [
       "        wordcount  Star Rating  sentimentValue\n",
       "count  257.000000   257.000000      257.000000\n",
       "mean    11.501946     3.420233        0.383849\n",
       "std     13.159812     1.409531        0.897987\n",
       "min      1.000000     1.000000       -2.276469\n",
       "25%      3.000000     3.000000       -0.108144\n",
       "50%      7.000000     3.000000        0.264091\n",
       "75%     16.000000     5.000000        0.808384\n",
       "max    103.000000     5.000000        3.264579"
      ]
     },
     "execution_count": 52,
     "metadata": {},
     "output_type": "execute_result"
    }
   ],
   "source": [
    "df.describe()"
   ]
  },
  {
   "cell_type": "code",
   "execution_count": 53,
   "metadata": {},
   "outputs": [
    {
     "data": {
      "text/plain": [
       "Star Rating\n",
       "5    88\n",
       "3    78\n",
       "1    37\n",
       "4    30\n",
       "2    24\n",
       "Name: count, dtype: int64"
      ]
     },
     "execution_count": 53,
     "metadata": {},
     "output_type": "execute_result"
    }
   ],
   "source": [
    "# Cuántas reviews hay por cada calificación\n",
    "df['Star Rating'].value_counts()"
   ]
  },
  {
   "cell_type": "code",
   "execution_count": 54,
   "metadata": {},
   "outputs": [
    {
     "data": {
      "text/plain": [
       "textSentiment\n",
       "positive    211\n",
       "negative     46\n",
       "Name: count, dtype: int64"
      ]
     },
     "execution_count": 54,
     "metadata": {},
     "output_type": "execute_result"
    }
   ],
   "source": [
    "# Cuántas reviews hay por cada sentimiento\n",
    "df['textSentiment'].value_counts()\n"
   ]
  },
  {
   "cell_type": "code",
   "execution_count": 55,
   "metadata": {},
   "outputs": [
    {
     "data": {
      "text/plain": [
       "Review Title       0\n",
       "Review Text        0\n",
       "wordcount          0\n",
       "titleSentiment    26\n",
       "textSentiment      0\n",
       "Star Rating        0\n",
       "sentimentValue     0\n",
       "dtype: int64"
      ]
     },
     "execution_count": 55,
     "metadata": {},
     "output_type": "execute_result"
    }
   ],
   "source": [
    "df.isnull().sum()\n"
   ]
  },
  {
   "cell_type": "code",
   "execution_count": 56,
   "metadata": {},
   "outputs": [
    {
     "data": {
      "application/vnd.microsoft.datawrangler.viewer.v0+json": {
       "columns": [
        {
         "name": "index",
         "rawType": "int64",
         "type": "integer"
        },
        {
         "name": "wordcount",
         "rawType": "int64",
         "type": "integer"
        },
        {
         "name": "sentimentValue",
         "rawType": "float64",
         "type": "float"
        },
        {
         "name": "Star Rating",
         "rawType": "int64",
         "type": "integer"
        }
       ],
       "conversionMethod": "pd.DataFrame",
       "ref": "2aab3d25-926a-4ae3-889f-2a5d686c05f3",
       "rows": [
        [
         "0",
         "23",
         "-0.4863892549767946",
         "1"
        ],
        [
         "1",
         "20",
         "-0.5861874727339228",
         "1"
        ],
        [
         "2",
         "4",
         "-0.6022402747857277",
         "1"
        ],
        [
         "3",
         "17",
         "-0.6162712056633162",
         "1"
        ],
        [
         "4",
         "6",
         "-0.6517836008462109",
         "1"
        ],
        [
         "5",
         "8",
         "-0.7204429256151285",
         "1"
        ],
        [
         "6",
         "23",
         "-0.7268254087888714",
         "1"
        ],
        [
         "7",
         "16",
         "-0.7367694709092752",
         "1"
        ],
        [
         "8",
         "21",
         "-0.765283702598727",
         "1"
        ],
        [
         "9",
         "13",
         "-0.7979612300412889",
         "1"
        ],
        [
         "10",
         "4",
         "-0.8334875979937725",
         "1"
        ],
        [
         "11",
         "9",
         "-0.8384665315151861",
         "1"
        ],
        [
         "12",
         "4",
         "-0.8885590350462715",
         "1"
        ],
        [
         "13",
         "23",
         "-1.002696144743075",
         "1"
        ],
        [
         "14",
         "14",
         "-1.0832692852163408",
         "1"
        ],
        [
         "15",
         "20",
         "-1.0981097654004746",
         "1"
        ],
        [
         "16",
         "26",
         "-1.1044687905632284",
         "1"
        ],
        [
         "17",
         "7",
         "-1.1122230773375148",
         "1"
        ],
        [
         "18",
         "5",
         "-1.2754114957137634",
         "1"
        ],
        [
         "19",
         "22",
         "-1.2860092681818858",
         "1"
        ],
        [
         "20",
         "13",
         "-1.455639534574406",
         "1"
        ],
        [
         "21",
         "7",
         "-1.4794328016280442",
         "1"
        ],
        [
         "22",
         "18",
         "-1.4983055361035678",
         "1"
        ],
        [
         "23",
         "4",
         "-1.780889062388097",
         "1"
        ],
        [
         "24",
         "2",
         "-2.276469027404202",
         "1"
        ],
        [
         "25",
         "29",
         "0.1076714179024391",
         "1"
        ],
        [
         "26",
         "30",
         "-0.0626158036127862",
         "2"
        ],
        [
         "27",
         "63",
         "-0.0632821422791839",
         "2"
        ],
        [
         "28",
         "33",
         "-0.130138468643746",
         "2"
        ],
        [
         "29",
         "34",
         "-0.2017099026902854",
         "2"
        ],
        [
         "30",
         "76",
         "-0.2951936979025951",
         "2"
        ],
        [
         "31",
         "34",
         "-0.5529856995159401",
         "2"
        ],
        [
         "32",
         "36",
         "-0.6150217745307491",
         "2"
        ],
        [
         "33",
         "63",
         "-0.6422284312075216",
         "2"
        ],
        [
         "34",
         "45",
         "-0.7478047635470271",
         "2"
        ],
        [
         "35",
         "27",
         "-0.769308686900702",
         "2"
        ],
        [
         "36",
         "32",
         "-0.950120971741788",
         "2"
        ],
        [
         "37",
         "103",
         "-1.7072675742817744",
         "2"
        ],
        [
         "38",
         "22",
         "0.0528405983105105",
         "2"
        ],
        [
         "39",
         "20",
         "0.0579279092395829",
         "2"
        ],
        [
         "40",
         "27",
         "0.0737785545211743",
         "2"
        ],
        [
         "41",
         "9",
         "-0.0120393936870973",
         "3"
        ],
        [
         "42",
         "13",
         "-0.0150187707033051",
         "3"
        ],
        [
         "43",
         "15",
         "-0.0220345678276106",
         "3"
        ],
        [
         "44",
         "3",
         "-0.0361552697312459",
         "3"
        ],
        [
         "45",
         "6",
         "-0.0484385138839592",
         "3"
        ],
        [
         "46",
         "20",
         "-0.0617548345575044",
         "3"
        ],
        [
         "47",
         "3",
         "-0.0654832603634284",
         "3"
        ],
        [
         "48",
         "13",
         "-0.0704406232354751",
         "3"
        ],
        [
         "49",
         "9",
         "-0.0744834280040398",
         "3"
        ]
       ],
       "shape": {
        "columns": 3,
        "rows": 257
       }
      },
      "text/html": [
       "<div>\n",
       "<style scoped>\n",
       "    .dataframe tbody tr th:only-of-type {\n",
       "        vertical-align: middle;\n",
       "    }\n",
       "\n",
       "    .dataframe tbody tr th {\n",
       "        vertical-align: top;\n",
       "    }\n",
       "\n",
       "    .dataframe thead th {\n",
       "        text-align: right;\n",
       "    }\n",
       "</style>\n",
       "<table border=\"1\" class=\"dataframe\">\n",
       "  <thead>\n",
       "    <tr style=\"text-align: right;\">\n",
       "      <th></th>\n",
       "      <th>wordcount</th>\n",
       "      <th>sentimentValue</th>\n",
       "      <th>Star Rating</th>\n",
       "    </tr>\n",
       "  </thead>\n",
       "  <tbody>\n",
       "    <tr>\n",
       "      <th>0</th>\n",
       "      <td>23</td>\n",
       "      <td>-0.486389</td>\n",
       "      <td>1</td>\n",
       "    </tr>\n",
       "    <tr>\n",
       "      <th>1</th>\n",
       "      <td>20</td>\n",
       "      <td>-0.586187</td>\n",
       "      <td>1</td>\n",
       "    </tr>\n",
       "    <tr>\n",
       "      <th>2</th>\n",
       "      <td>4</td>\n",
       "      <td>-0.602240</td>\n",
       "      <td>1</td>\n",
       "    </tr>\n",
       "    <tr>\n",
       "      <th>3</th>\n",
       "      <td>17</td>\n",
       "      <td>-0.616271</td>\n",
       "      <td>1</td>\n",
       "    </tr>\n",
       "    <tr>\n",
       "      <th>4</th>\n",
       "      <td>6</td>\n",
       "      <td>-0.651784</td>\n",
       "      <td>1</td>\n",
       "    </tr>\n",
       "    <tr>\n",
       "      <th>...</th>\n",
       "      <td>...</td>\n",
       "      <td>...</td>\n",
       "      <td>...</td>\n",
       "    </tr>\n",
       "    <tr>\n",
       "      <th>252</th>\n",
       "      <td>3</td>\n",
       "      <td>2.814818</td>\n",
       "      <td>5</td>\n",
       "    </tr>\n",
       "    <tr>\n",
       "      <th>253</th>\n",
       "      <td>1</td>\n",
       "      <td>2.924393</td>\n",
       "      <td>5</td>\n",
       "    </tr>\n",
       "    <tr>\n",
       "      <th>254</th>\n",
       "      <td>1</td>\n",
       "      <td>2.924393</td>\n",
       "      <td>5</td>\n",
       "    </tr>\n",
       "    <tr>\n",
       "      <th>255</th>\n",
       "      <td>1</td>\n",
       "      <td>2.924393</td>\n",
       "      <td>5</td>\n",
       "    </tr>\n",
       "    <tr>\n",
       "      <th>256</th>\n",
       "      <td>3</td>\n",
       "      <td>3.264579</td>\n",
       "      <td>5</td>\n",
       "    </tr>\n",
       "  </tbody>\n",
       "</table>\n",
       "<p>257 rows × 3 columns</p>\n",
       "</div>"
      ],
      "text/plain": [
       "     wordcount  sentimentValue  Star Rating\n",
       "0           23       -0.486389            1\n",
       "1           20       -0.586187            1\n",
       "2            4       -0.602240            1\n",
       "3           17       -0.616271            1\n",
       "4            6       -0.651784            1\n",
       "..         ...             ...          ...\n",
       "252          3        2.814818            5\n",
       "253          1        2.924393            5\n",
       "254          1        2.924393            5\n",
       "255          1        2.924393            5\n",
       "256          3        3.264579            5\n",
       "\n",
       "[257 rows x 3 columns]"
      ]
     },
     "execution_count": 56,
     "metadata": {},
     "output_type": "execute_result"
    }
   ],
   "source": [
    "# Seleccionamos las columnas 'wordcount', 'sentimentValue' y 'Star Rating' del DataFrame df\n",
    "# Estas son las variables que queremos analizar para ver cómo se correlacionan entre ellas\n",
    "df[['wordcount', 'sentimentValue', 'Star Rating']]\n"
   ]
  },
  {
   "cell_type": "code",
   "execution_count": 57,
   "metadata": {},
   "outputs": [
    {
     "data": {
      "text/plain": [
       "Text(0.5, 1.0, 'Matriz de correlación')"
      ]
     },
     "execution_count": 57,
     "metadata": {},
     "output_type": "execute_result"
    },
    {
     "data": {
      "image/png": "[encoded data removed]",
      "text/plain": [
       "<Figure size 1000x800 with 2 Axes>"
      ]
     },
     "metadata": {},
     "output_type": "display_data"
    }
   ],
   "source": [
    "# matriz de correlación\n",
    "plt.figure(figsize=(10, 8))\n",
    "sns.heatmap(df[['wordcount', 'sentimentValue', 'Star Rating']].corr(), annot=True, cmap='coolwarm', fmt='.2f')\n",
    "plt.title('Matriz de correlación')"
   ]
  },
  {
   "attachments": {},
   "cell_type": "markdown",
   "metadata": {},
   "source": [
    "## Preparamos el dataset\n",
    "Divide en train/test y escala las features en el rango [0, 1]."
   ]
  },
  {
   "cell_type": "code",
   "execution_count": 58,
   "metadata": {},
   "outputs": [],
   "source": [
    "# Features y etiquetas\n",
    "X = df[['wordcount', 'sentimentValue']]  # Selección de las características que el modelo utilizará para predecir\n",
    "y = df['Star Rating']  # La etiqueta es 'Star Rating', que es lo que queremos predecir\n",
    "\n",
    "# División en train/test\n",
    "X_train, X_test, y_train, y_test = train_test_split(X, y, test_size=0.2, random_state=42)  \n",
    "# Se divide el conjunto de datos en entrenamiento (80%) y prueba (20%) con una semilla fija para reproducibilidad\n",
    "\n",
    "# Escalado\n",
    "scaler = MinMaxScaler()  # Creamos un objeto MinMaxScaler para normalizar las características en el rango [0, 1]\n",
    "X_train_scaled = scaler.fit_transform(X_train)  # Ajustamos el escalador y transformamos los datos de entrenamiento\n",
    "X_test_scaled = scaler.transform(X_test)  # Aplicamos la misma transformación a los datos de prueba (sin ajustar el escalador)\n",
    "\n"
   ]
  },
  {
   "attachments": {},
   "cell_type": "markdown",
   "metadata": {},
   "source": [
    "## Creamos el Modelo\n",
    "Entrena con un KNN y evalúa el error en train y en test"
   ]
  },
  {
   "cell_type": "code",
   "execution_count": 59,
   "metadata": {},
   "outputs": [],
   "source": [
    "# Preparamos los datos\n",
    "X = df[['wordcount', 'sentimentValue']]  # Seleccionamos las características 'wordcount' y 'sentimentValue' para la predicción\n",
    "y = df['Star Rating']  # La etiqueta que queremos predecir es 'Star Rating'\n",
    "X_train, X_test, y_train, y_test = train_test_split(X, y, test_size=0.2, random_state=42)  # Dividimos los datos en entrenamiento y prueba (80%/20%)\n",
    "\n",
    "# Escalado\n",
    "scaler = MinMaxScaler()  # Creamos un escalador para normalizar las características a un rango entre 0 y 1\n",
    "X_train_scaled = scaler.fit_transform(X_train)  # Ajustamos y transformamos los datos de entrenamiento\n",
    "X_test_scaled = scaler.transform(X_test)  # Transformamos los datos de prueba con el mismo escalador\n",
    "\n",
    "# Búsqueda del mejor k\n",
    "train_errors = []  # Lista para almacenar los errores en el conjunto de entrenamiento\n",
    "test_errors = []  # Lista para almacenar los errores en el conjunto de prueba\n",
    "k_values = range(1, 21)  # Definimos el rango de valores de k, de 1 a 20\n",
    "\n",
    "# Iteramos sobre los diferentes valores de k\n",
    "for k in k_values:\n",
    "    knn = KNeighborsClassifier(n_neighbors=k)  # Creamos el clasificador KNN con el valor de k actual\n",
    "    knn.fit(X_train_scaled, y_train)  # Entrenamos el modelo con los datos de entrenamiento escalados\n",
    "    \n",
    "    train_acc = accuracy_score(y_train, knn.predict(X_train_scaled))  # Calculamos la precisión en el conjunto de entrenamiento\n",
    "    test_acc = accuracy_score(y_test, knn.predict(X_test_scaled))  # Calculamos la precisión en el conjunto de prueba\n",
    "    \n",
    "    train_errors.append(1 - train_acc)  # Guardamos el error de entrenamiento (1 - precisión)\n",
    "    test_errors.append(1 - test_acc)  # Guardamos el error de prueba (1 - precisión)\n",
    "\n",
    "\n"
   ]
  },
  {
   "cell_type": "code",
   "execution_count": 60,
   "metadata": {},
   "outputs": [
    {
     "data": {
      "image/png": "[encoded data removed]",
      "text/plain": [
       "<Figure size 800x600 with 1 Axes>"
      ]
     },
     "metadata": {},
     "output_type": "display_data"
    }
   ],
   "source": [
    "# Scatter plot de los datos escalados\n",
    "plt.figure(figsize=(8, 6))  # Se establece el tamaño de la figura (8x6 pulgadas)\n",
    "\n",
    "sns.scatterplot(\n",
    "    x=X_train_scaled[:, 0],  # wordcount escalado (primera columna de X_train_scaled)\n",
    "    y=X_train_scaled[:, 1],  # sentimentValue escalado (segunda columna de X_train_scaled)\n",
    "    hue=y_train,  # Colorea los puntos según el valor de 'Star Rating' en el conjunto de entrenamiento\n",
    "    palette='viridis',  # Usa la paleta de colores 'viridis' para el gráfico\n",
    "    alpha=0.7  # Ajusta la transparencia de los puntos, donde 1 es completamente opaco y 0 es completamente transparente\n",
    ")\n",
    "\n",
    "plt.title('Distribución de Reviews por Wordcount y Sentiment')  # Título del gráfico\n",
    "plt.xlabel('Wordcount (escalado)')  # Etiqueta del eje X\n",
    "plt.ylabel('Sentiment Value (escalado)')  # Etiqueta del eje Y\n",
    "plt.legend(title='Star Rating', bbox_to_anchor=(1.05, 1), loc='upper left')  # Leyenda fuera del gráfico, a la derecha\n",
    "plt.grid(True)  # Muestra una cuadrícula en el gráfico para mejor visualización\n",
    "plt.tight_layout()  # Ajusta los márgenes para que no se solapen los elementos del gráfico\n",
    "plt.show()  # Muestra el gráfico en pantalla\n"
   ]
  },
  {
   "attachments": {},
   "cell_type": "markdown",
   "metadata": {},
   "source": [
    "## Evalúa tu modelo"
   ]
  },
  {
   "cell_type": "code",
   "execution_count": 61,
   "metadata": {},
   "outputs": [
    {
     "name": "stdout",
     "output_type": "stream",
     "text": [
      "Accuracy en test: 0.79\n"
     ]
    },
    {
     "data": {
      "image/png": "[encoded data removed]",
      "text/plain": [
       "<Figure size 600x400 with 2 Axes>"
      ]
     },
     "metadata": {},
     "output_type": "display_data"
    },
    {
     "name": "stdout",
     "output_type": "stream",
     "text": [
      "Reporte de Clasificación:\n",
      "              precision    recall  f1-score   support\n",
      "\n",
      "           1       0.89      0.80      0.84        10\n",
      "           2       0.40      1.00      0.57         2\n",
      "           3       0.75      0.86      0.80        14\n",
      "           4       1.00      0.29      0.44         7\n",
      "           5       0.85      0.89      0.87        19\n",
      "\n",
      "    accuracy                           0.79        52\n",
      "   macro avg       0.78      0.77      0.71        52\n",
      "weighted avg       0.83      0.79      0.78        52\n",
      "\n"
     ]
    }
   ],
   "source": [
    "from sklearn.metrics import accuracy_score, confusion_matrix, classification_report\n",
    "import seaborn as sns\n",
    "import matplotlib.pyplot as plt\n",
    "\n",
    "# Predecimos en test\n",
    "y_pred = knn.predict(X_test_scaled)  # Realizamos predicciones sobre el conjunto de prueba (X_test_scaled)\n",
    "\n",
    "# Accuracy\n",
    "accuracy = accuracy_score(y_test, y_pred)  # Calculamos la precisión del modelo (porcentaje de predicciones correctas)\n",
    "print(f\"Accuracy en test: {accuracy:.2f}\")  # Imprimimos la precisión en el conjunto de prueba\n",
    "\n",
    "# Matriz de confusión\n",
    "cm = confusion_matrix(y_test, y_pred)  # Calculamos la matriz de confusión\n",
    "\n",
    "# Graficamos la matriz de confusión\n",
    "plt.figure(figsize=(6, 4))  # Definimos el tamaño de la figura del gráfico\n",
    "sns.heatmap(cm, annot=True, fmt='d', cmap='Blues',  # Usamos un heatmap para visualizar la matriz de confusión\n",
    "            xticklabels=knn.classes_, yticklabels=knn.classes_)  # Etiquetas para las clases (eje x y eje y)\n",
    "plt.xlabel('Predicho')  # Etiqueta del eje X (Predicción)\n",
    "plt.ylabel('Real')  # Etiqueta del eje Y (Valores reales)\n",
    "plt.title('Matriz de Confusión')  # Título del gráfico\n",
    "plt.tight_layout()  # Ajusta los márgenes para que el gráfico no se solape\n",
    "plt.show()  # Muestra el gráfico en pantalla\n",
    "\n",
    "print(\"Reporte de Clasificación:\")  # Imprime un encabezado\n",
    "print(classification_report(y_test, y_pred))  # Muestra el reporte de clasificación con métricas como precisión, recall, f1-score\n"
   ]
  },
  {
   "cell_type": "markdown",
   "metadata": {},
   "source": [
    "- Clases individuales (Star Rating):\n",
    "- Precision: qué porcentaje de las predicciones para esa clase fueron correctas.\n",
    "- Recall: qué porcentaje de los elementos reales de esa clase fueron correctamente identificados.\n",
    "- F1-score: balance entre precision y recall (una especie de promedio armónico).\n",
    "- Support: cuántas muestras reales había de esa clase.\n",
    "------\n",
    "- Todas las predicciones como \"1\" fueron correctas (precision perfecta), pero solo identificó 5/6 casos reales.\n",
    "- 2. Rendimiento perfecto: identificó todos los casos reales y sin errores.\n",
    "- 3. Predijo todas las clases 3 correctamente (recall = 1.0), pero también predijo clase 3 donde no lo era (precision más baja).\n",
    "- 4. Todas las predicciones como 4 fueron correctas, pero solo identificó 2 de los 5 casos reales (recall bajo).\n",
    "- 5. Buen rendimiento general, con pequeñas fallas tanto en precision como en recall.\n",
    "-----\n",
    "- Métricas globales\n",
    "- accuracy: 0.79. El 79% de las predicciones fueron correctas sobre el total de muestras de prueba.\n",
    "- macro avg. Promedio simple entre las clases (sin tener en cuenta cuántos ejemplos tiene cada una).\n",
    "- Aquí se ve que el recall más bajo (clase 4) baja el promedio.\n",
    "- weighted avg. Promedio ponderado según el número de ejemplos de cada clase."
   ]
  },
  {
   "attachments": {},
   "cell_type": "markdown",
   "metadata": {},
   "source": [
    "## ¿Cómo obtener el mejor valor de k? Crea y evalúa nuevos modelos\n",
    "¿Qué valor de k maximiza el accuracy? Representa todas las iteraciones en un scatterplot -> k vs accuracy"
   ]
  },
  {
   "cell_type": "code",
   "execution_count": 67,
   "metadata": {},
   "outputs": [
    {
     "name": "stdout",
     "output_type": "stream",
     "text": [
      "El mejor valor de k es 2 con un accuracy de 0.85\n"
     ]
    }
   ],
   "source": [
    "import matplotlib.pyplot as plt  # Importa la librería para gráficos\n",
    "from sklearn.neighbors import KNeighborsClassifier  # Importa el clasificador KNN\n",
    "from sklearn.metrics import accuracy_score  # Importa la función para calcular la precisión (accuracy)\n",
    "\n",
    "# Rango de k a probar\n",
    "k_range = range(1, 21)  # Define el rango de valores de k que se van a probar, de 1 a 20\n",
    "accuracies = []  # Lista para almacenar la precisión para cada valor de k\n",
    "\n",
    "# Probar cada valor de k\n",
    "for k in k_range:  # Itera sobre el rango de valores de k\n",
    "    knn = KNeighborsClassifier(n_neighbors=k)  # Crea una instancia del clasificador KNN con el valor de k actual\n",
    "    knn.fit(X_train_scaled, y_train)  # Entrena el modelo usando los datos de entrenamiento escalados (X_train_scaled y y_train)\n",
    "    y_pred = knn.predict(X_test_scaled)  # Realiza predicciones sobre el conjunto de prueba escalado (X_test_scaled)\n",
    "    acc = accuracy_score(y_test, y_pred)  # Calcula la precisión comparando las predicciones con las etiquetas reales (y_test)\n",
    "    accuracies.append(acc)  # Guarda la precisión obtenida en la lista accuracies\n",
    "\n",
    "# Encontrar el mejor k\n",
    "best_k = k_range[accuracies.index(max(accuracies))]  # Encuentra el valor de k que produce la mejor precisión\n",
    "best_acc = max(accuracies)  # Obtiene la mejor precisión\n",
    "print(f\"El mejor valor de k es {best_k} con un accuracy de {best_acc:.2f}\")  # Imprime el mejor valor de k y su precisión\n"
   ]
  },
  {
   "cell_type": "code",
   "execution_count": 68,
   "metadata": {},
   "outputs": [
    {
     "data": {
      "image/png": "[encoded data removed]",
      "text/plain": [
       "<Figure size 800x500 with 1 Axes>"
      ]
     },
     "metadata": {},
     "output_type": "display_data"
    }
   ],
   "source": [
    "# Scatterplot de k vs accuracy\n",
    "plt.figure(figsize=(8, 5))  # Crea una figura para el gráfico con un tamaño de 8x5 pulgadas\n",
    "plt.scatter(k_range, accuracies, color='blue', label='Accuracy')  # Dibuja un scatterplot con k en el eje x y las precisiones en el eje y\n",
    "plt.plot(k_range, accuracies, linestyle='--', alpha=0.6)  # Dibuja una línea punteada para mostrar la tendencia de accuracy con k, con una opacidad de 0.6\n",
    "\n",
    "plt.xlabel('Valor de k')  # Etiqueta para el eje X\n",
    "plt.ylabel('Accuracy en test')  # Etiqueta para el eje Y\n",
    "plt.title('Scatterplot: k vs Accuracy')  # Título del gráfico\n",
    "plt.xticks(k_range)  # Coloca los valores de k como marcas en el eje X\n",
    "plt.grid(True)  # Activa la cuadrícula en el gráfico para mejor visibilidad\n",
    "plt.legend()  # Muestra la leyenda para el gráfico\n",
    "plt.tight_layout()  # Ajusta el diseño para que todo el contenido encaje bien en el gráfico\n",
    "plt.show()  # Muestra el gráfico\n"
   ]
  },
  {
   "cell_type": "code",
   "execution_count": 69,
   "metadata": {},
   "outputs": [
    {
     "data": {
      "image/png": "[encoded data removed]",
      "text/plain": [
       "<Figure size 800x600 with 1 Axes>"
      ]
     },
     "metadata": {},
     "output_type": "display_data"
    }
   ],
   "source": [
    "# Scatterplot de wordcount vs sentimentValue con las etiquetas Star Rating\n",
    "plt.figure(figsize=(8, 6))  # Crea una figura para el gráfico con un tamaño de 8x6 pulgadas\n",
    "\n",
    "# Dibuja el scatterplot utilizando seaborn\n",
    "sns.scatterplot(\n",
    "    x=df['wordcount'],  # La variable en el eje X será 'wordcount' (número de palabras en la reseña)\n",
    "    y=df['sentimentValue'],  # La variable en el eje Y será 'sentimentValue' (valor de sentimiento de la reseña)\n",
    "    hue=df['Star Rating'],  # El color de los puntos se basará en la columna 'Star Rating' (etiquetas de valoración)\n",
    "    palette='viridis',  # Se utiliza la paleta de colores 'viridis' para distinguir las diferentes valoraciones\n",
    "    alpha=0.7  # Establece la transparencia de los puntos a 0.7 (un valor entre 0 y 1)\n",
    ")\n",
    "\n",
    "# Títulos y etiquetas\n",
    "plt.title('Distribución de Reviews por Wordcount y Sentiment Value')  # Título del gráfico\n",
    "plt.xlabel('Wordcount')  # Etiqueta para el eje X (número de palabras en la reseña)\n",
    "plt.ylabel('Sentiment Value')  # Etiqueta para el eje Y (valor de sentimiento de la reseña)\n",
    "\n",
    "# Leyenda y configuración\n",
    "plt.legend(title='Star Rating', bbox_to_anchor=(1.05, 1), loc='upper left')  # Coloca la leyenda fuera del gráfico (en la parte superior izquierda)\n",
    "plt.grid(True)  # Activa la cuadrícula para mejorar la visibilidad\n",
    "plt.tight_layout()  # Ajusta automáticamente los márgenes para que todo se vea bien en el gráfico\n",
    "plt.show()  # Muestra el gráfico en pantalla\n"
   ]
  },
  {
   "attachments": {},
   "cell_type": "markdown",
   "metadata": {},
   "source": [
    "## Predice con nuevos datos.\n",
    "Ejemplo: supongamos que nos llega una review de 5 palabras y sentimiento 1"
   ]
  },
  {
   "cell_type": "code",
   "execution_count": 70,
   "metadata": {},
   "outputs": [
    {
     "name": "stdout",
     "output_type": "stream",
     "text": [
      "La predicción para una review de 5 palabras y sentimiento 1 es: 5 estrellas\n"
     ]
    },
    {
     "name": "stderr",
     "output_type": "stream",
     "text": [
      "c:\\Users\\nsara\\AppData\\Local\\Programs\\Python\\Python311\\Lib\\site-packages\\sklearn\\utils\\validation.py:2739: UserWarning: X does not have valid feature names, but MinMaxScaler was fitted with feature names\n",
      "  warnings.warn(\n"
     ]
    }
   ],
   "source": [
    "# Nuevo dato: 5 palabras y sentimiento 1\n",
    "nuevo_dato = np.array([[5, 1]])  # Se crea un nuevo dato con 5 palabras y un sentimiento de 1 (positivo)\n",
    "\n",
    "# Escalamos con el mismo scaler usado en el entrenamiento\n",
    "nuevo_dato_escalado = scaler.transform(nuevo_dato)  # Escalamos el nuevo dato utilizando el mismo scaler que se usó durante el entrenamiento\n",
    "\n",
    "# Predecimos con el mejor modelo (ya entrenado con best_k)\n",
    "mejor_knn = KNeighborsClassifier(n_neighbors=best_k)  # Creamos una nueva instancia del clasificador KNN con el mejor k encontrado (best_k)\n",
    "mejor_knn.fit(X_train_scaled, y_train)  # Entrenamos el clasificador KNN usando los datos escalados de entrenamiento\n",
    "prediccion = mejor_knn.predict(nuevo_dato_escalado)  # Hacemos la predicción para el nuevo dato escalado\n",
    "\n",
    "# Imprimimos la predicción\n",
    "print(f\"La predicción para una review de 5 palabras y sentimiento 1 es: {prediccion[0]} estrellas\")  # Imprimimos la predicción de la clase (número de estrellas) para el nuevo dato\n"
   ]
  },
  {
   "cell_type": "code",
   "execution_count": null,
   "metadata": {},
   "outputs": [
    {
     "data": {
      "text/plain": [
       "Text(0.5, 1.0, 'Correlación entre Longitud de la Review y Calificación')"
      ]
     },
     "execution_count": 66,
     "metadata": {},
     "output_type": "execute_result"
    },
    {
     "data": {
      "image/png": "[encoded data removed]",
      "text/plain": [
       "<Figure size 1000x600 with 1 Axes>"
      ]
     },
     "metadata": {},
     "output_type": "display_data"
    }
   ],
   "source": [
    "# Correlación entre la longitud de la review y la calificación\n",
    "plt.figure(figsize=(10, 6))\n",
    "sns.scatterplot(x=df['wordcount'], y=df['Star Rating'], alpha=0.5)\n",
    "plt.title('Correlación entre Longitud de la Review y Calificación')"
   ]
  }
 ],
 "metadata": {
  "kernelspec": {
   "display_name": "Python 3",
   "language": "python",
   "name": "python3"
  },
  "language_info": {
   "codemirror_mode": {
    "name": "ipython",
    "version": 3
   },
   "file_extension": ".py",
   "mimetype": "text/x-python",
   "name": "python",
   "nbconvert_exporter": "python",
   "pygments_lexer": "ipython3",
   "version": "3.11.9"
  },
  "vscode": {
   "interpreter": {
    "hash": "703e8db34bb7cdd00b82a89d91d2e2137d3ce887601c5554b79c7f8766c7193f"
   }
  }
 },
 "nbformat": 4,
 "nbformat_minor": 4
}
