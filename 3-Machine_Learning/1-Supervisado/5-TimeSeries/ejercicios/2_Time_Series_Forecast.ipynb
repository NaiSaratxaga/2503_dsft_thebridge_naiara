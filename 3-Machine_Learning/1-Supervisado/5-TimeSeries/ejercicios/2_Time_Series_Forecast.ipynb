{
 "cells": [
  {
   "cell_type": "markdown",
   "metadata": {},
   "source": [
    "## Ejercicio Time Series Forecast\n",
    "Para este ejercicio vamos a predecir cuál será la demanda de pasajeros de una aerolinea, para poder anticiparse a las contrataciones de personal, mantenimiento de las aeronaves y gestión de inventario y comidas.\n",
    "\n",
    "Para ello, se pide:\n",
    "1. Carga datos (AirPassengers.csv) y representa la serie. ¿Hay seasonality? ¿Cada cuanto?\n",
    "2. Crea en una gráfica la variable original + su media obtenida mediante una rolling window con el valor de seasonality obtenido en el apartado anterior. Tienes que usar la función rolling() del DataFrame.\n",
    "3. Comprueba de manera estadística si la serie es o no stationary.\n",
    "4. Aplica una transformación logarítmica sobre los datos para mejorar el proceso de transformación de tu time series a stationary. Acuérdate después del forecast de invertir la transformación.\n",
    "5. Divide en train y test. Guarda 20 muestras para test.\n",
    "6. Crea tu primer modelo ARIMA. Habrá varias combinaciones en función de sus hiperparámetros... Mide el MAE y RMSE del modelo en predicción. Ten en cuenta el parámetro \"m\" de la función ARIMA, mediante el cual se establece el seasonality.\n",
    "7. Representa en una gráfica los datos de test y tus predicciones.\n",
    "8. Prueba un decission tree y un random forest, a ver qué performance presentan."
   ]
  },
  {
   "cell_type": "markdown",
   "metadata": {},
   "source": [
    "## 1. Carga datos y representa la serie"
   ]
  },
  {
   "cell_type": "code",
   "execution_count": 42,
   "metadata": {},
   "outputs": [],
   "source": [
    "import pandas as pd\n",
    "import numpy as np\n",
    "import matplotlib.pyplot as plt\n",
    "from statsmodels.tsa.seasonal import seasonal_decompose\n",
    "from statsmodels.tsa.stattools import adfuller\n",
    "from statsmodels.tsa.arima.model import ARIMA\n",
    "from sklearn.metrics import mean_absolute_error, mean_squared_error\n",
    "from sklearn.tree import DecisionTreeRegressor\n",
    "from sklearn.ensemble import RandomForestRegressor\n",
    "from math import sqrt\n",
    "\n"
   ]
  },
  {
   "cell_type": "code",
   "execution_count": 43,
   "metadata": {},
   "outputs": [],
   "source": [
    "# Cargamos el dataset\n",
    "df = pd.read_csv('data/AirPassengers.csv')\n"
   ]
  },
  {
   "cell_type": "code",
   "execution_count": 44,
   "metadata": {},
   "outputs": [
    {
     "data": {
      "application/vnd.microsoft.datawrangler.viewer.v0+json": {
       "columns": [
        {
         "name": "index",
         "rawType": "int64",
         "type": "integer"
        },
        {
         "name": "date",
         "rawType": "object",
         "type": "string"
        },
        {
         "name": "value",
         "rawType": "int64",
         "type": "integer"
        }
       ],
       "conversionMethod": "pd.DataFrame",
       "ref": "7b9862de-e38c-42f9-a9d6-06ca8acd54de",
       "rows": [
        [
         "0",
         "1949-01-01",
         "112"
        ],
        [
         "1",
         "1949-02-01",
         "118"
        ],
        [
         "2",
         "1949-03-01",
         "132"
        ],
        [
         "3",
         "1949-04-01",
         "129"
        ],
        [
         "4",
         "1949-05-01",
         "121"
        ],
        [
         "5",
         "1949-06-01",
         "135"
        ],
        [
         "6",
         "1949-07-01",
         "148"
        ],
        [
         "7",
         "1949-08-01",
         "148"
        ],
        [
         "8",
         "1949-09-01",
         "136"
        ],
        [
         "9",
         "1949-10-01",
         "119"
        ],
        [
         "10",
         "1949-11-01",
         "104"
        ],
        [
         "11",
         "1949-12-01",
         "118"
        ],
        [
         "12",
         "1950-01-01",
         "115"
        ],
        [
         "13",
         "1950-02-01",
         "126"
        ],
        [
         "14",
         "1950-03-01",
         "141"
        ],
        [
         "15",
         "1950-04-01",
         "135"
        ],
        [
         "16",
         "1950-05-01",
         "125"
        ],
        [
         "17",
         "1950-06-01",
         "149"
        ],
        [
         "18",
         "1950-07-01",
         "170"
        ],
        [
         "19",
         "1950-08-01",
         "170"
        ],
        [
         "20",
         "1950-09-01",
         "158"
        ],
        [
         "21",
         "1950-10-01",
         "133"
        ],
        [
         "22",
         "1950-11-01",
         "114"
        ],
        [
         "23",
         "1950-12-01",
         "140"
        ],
        [
         "24",
         "1951-01-01",
         "145"
        ],
        [
         "25",
         "1951-02-01",
         "150"
        ],
        [
         "26",
         "1951-03-01",
         "178"
        ],
        [
         "27",
         "1951-04-01",
         "163"
        ],
        [
         "28",
         "1951-05-01",
         "172"
        ],
        [
         "29",
         "1951-06-01",
         "178"
        ],
        [
         "30",
         "1951-07-01",
         "199"
        ],
        [
         "31",
         "1951-08-01",
         "199"
        ],
        [
         "32",
         "1951-09-01",
         "184"
        ],
        [
         "33",
         "1951-10-01",
         "162"
        ],
        [
         "34",
         "1951-11-01",
         "146"
        ],
        [
         "35",
         "1951-12-01",
         "166"
        ],
        [
         "36",
         "1952-01-01",
         "171"
        ],
        [
         "37",
         "1952-02-01",
         "180"
        ],
        [
         "38",
         "1952-03-01",
         "193"
        ],
        [
         "39",
         "1952-04-01",
         "181"
        ],
        [
         "40",
         "1952-05-01",
         "183"
        ],
        [
         "41",
         "1952-06-01",
         "218"
        ],
        [
         "42",
         "1952-07-01",
         "230"
        ],
        [
         "43",
         "1952-08-01",
         "242"
        ],
        [
         "44",
         "1952-09-01",
         "209"
        ],
        [
         "45",
         "1952-10-01",
         "191"
        ],
        [
         "46",
         "1952-11-01",
         "172"
        ],
        [
         "47",
         "1952-12-01",
         "194"
        ],
        [
         "48",
         "1953-01-01",
         "196"
        ],
        [
         "49",
         "1953-02-01",
         "196"
        ]
       ],
       "shape": {
        "columns": 2,
        "rows": 144
       }
      },
      "text/html": [
       "<div>\n",
       "<style scoped>\n",
       "    .dataframe tbody tr th:only-of-type {\n",
       "        vertical-align: middle;\n",
       "    }\n",
       "\n",
       "    .dataframe tbody tr th {\n",
       "        vertical-align: top;\n",
       "    }\n",
       "\n",
       "    .dataframe thead th {\n",
       "        text-align: right;\n",
       "    }\n",
       "</style>\n",
       "<table border=\"1\" class=\"dataframe\">\n",
       "  <thead>\n",
       "    <tr style=\"text-align: right;\">\n",
       "      <th></th>\n",
       "      <th>date</th>\n",
       "      <th>value</th>\n",
       "    </tr>\n",
       "  </thead>\n",
       "  <tbody>\n",
       "    <tr>\n",
       "      <th>0</th>\n",
       "      <td>1949-01-01</td>\n",
       "      <td>112</td>\n",
       "    </tr>\n",
       "    <tr>\n",
       "      <th>1</th>\n",
       "      <td>1949-02-01</td>\n",
       "      <td>118</td>\n",
       "    </tr>\n",
       "    <tr>\n",
       "      <th>2</th>\n",
       "      <td>1949-03-01</td>\n",
       "      <td>132</td>\n",
       "    </tr>\n",
       "    <tr>\n",
       "      <th>3</th>\n",
       "      <td>1949-04-01</td>\n",
       "      <td>129</td>\n",
       "    </tr>\n",
       "    <tr>\n",
       "      <th>4</th>\n",
       "      <td>1949-05-01</td>\n",
       "      <td>121</td>\n",
       "    </tr>\n",
       "    <tr>\n",
       "      <th>...</th>\n",
       "      <td>...</td>\n",
       "      <td>...</td>\n",
       "    </tr>\n",
       "    <tr>\n",
       "      <th>139</th>\n",
       "      <td>1960-08-01</td>\n",
       "      <td>606</td>\n",
       "    </tr>\n",
       "    <tr>\n",
       "      <th>140</th>\n",
       "      <td>1960-09-01</td>\n",
       "      <td>508</td>\n",
       "    </tr>\n",
       "    <tr>\n",
       "      <th>141</th>\n",
       "      <td>1960-10-01</td>\n",
       "      <td>461</td>\n",
       "    </tr>\n",
       "    <tr>\n",
       "      <th>142</th>\n",
       "      <td>1960-11-01</td>\n",
       "      <td>390</td>\n",
       "    </tr>\n",
       "    <tr>\n",
       "      <th>143</th>\n",
       "      <td>1960-12-01</td>\n",
       "      <td>432</td>\n",
       "    </tr>\n",
       "  </tbody>\n",
       "</table>\n",
       "<p>144 rows × 2 columns</p>\n",
       "</div>"
      ],
      "text/plain": [
       "           date  value\n",
       "0    1949-01-01    112\n",
       "1    1949-02-01    118\n",
       "2    1949-03-01    132\n",
       "3    1949-04-01    129\n",
       "4    1949-05-01    121\n",
       "..          ...    ...\n",
       "139  1960-08-01    606\n",
       "140  1960-09-01    508\n",
       "141  1960-10-01    461\n",
       "142  1960-11-01    390\n",
       "143  1960-12-01    432\n",
       "\n",
       "[144 rows x 2 columns]"
      ]
     },
     "execution_count": 44,
     "metadata": {},
     "output_type": "execute_result"
    }
   ],
   "source": [
    "df"
   ]
  },
  {
   "cell_type": "code",
   "execution_count": 45,
   "metadata": {},
   "outputs": [
    {
     "name": "stdout",
     "output_type": "stream",
     "text": [
      "<class 'pandas.core.frame.DataFrame'>\n",
      "RangeIndex: 144 entries, 0 to 143\n",
      "Data columns (total 2 columns):\n",
      " #   Column  Non-Null Count  Dtype \n",
      "---  ------  --------------  ----- \n",
      " 0   date    144 non-null    object\n",
      " 1   value   144 non-null    int64 \n",
      "dtypes: int64(1), object(1)\n",
      "memory usage: 2.4+ KB\n"
     ]
    }
   ],
   "source": [
    "df.info()"
   ]
  },
  {
   "cell_type": "code",
   "execution_count": 46,
   "metadata": {},
   "outputs": [
    {
     "data": {
      "application/vnd.microsoft.datawrangler.viewer.v0+json": {
       "columns": [
        {
         "name": "index",
         "rawType": "object",
         "type": "string"
        },
        {
         "name": "value",
         "rawType": "float64",
         "type": "float"
        }
       ],
       "conversionMethod": "pd.DataFrame",
       "ref": "c75fa1e5-eb45-42b0-a6a5-2cb0e6b3161b",
       "rows": [
        [
         "count",
         "144.0"
        ],
        [
         "mean",
         "280.2986111111111"
        ],
        [
         "std",
         "119.9663169429432"
        ],
        [
         "min",
         "104.0"
        ],
        [
         "25%",
         "180.0"
        ],
        [
         "50%",
         "265.5"
        ],
        [
         "75%",
         "360.5"
        ],
        [
         "max",
         "622.0"
        ]
       ],
       "shape": {
        "columns": 1,
        "rows": 8
       }
      },
      "text/html": [
       "<div>\n",
       "<style scoped>\n",
       "    .dataframe tbody tr th:only-of-type {\n",
       "        vertical-align: middle;\n",
       "    }\n",
       "\n",
       "    .dataframe tbody tr th {\n",
       "        vertical-align: top;\n",
       "    }\n",
       "\n",
       "    .dataframe thead th {\n",
       "        text-align: right;\n",
       "    }\n",
       "</style>\n",
       "<table border=\"1\" class=\"dataframe\">\n",
       "  <thead>\n",
       "    <tr style=\"text-align: right;\">\n",
       "      <th></th>\n",
       "      <th>value</th>\n",
       "    </tr>\n",
       "  </thead>\n",
       "  <tbody>\n",
       "    <tr>\n",
       "      <th>count</th>\n",
       "      <td>144.000000</td>\n",
       "    </tr>\n",
       "    <tr>\n",
       "      <th>mean</th>\n",
       "      <td>280.298611</td>\n",
       "    </tr>\n",
       "    <tr>\n",
       "      <th>std</th>\n",
       "      <td>119.966317</td>\n",
       "    </tr>\n",
       "    <tr>\n",
       "      <th>min</th>\n",
       "      <td>104.000000</td>\n",
       "    </tr>\n",
       "    <tr>\n",
       "      <th>25%</th>\n",
       "      <td>180.000000</td>\n",
       "    </tr>\n",
       "    <tr>\n",
       "      <th>50%</th>\n",
       "      <td>265.500000</td>\n",
       "    </tr>\n",
       "    <tr>\n",
       "      <th>75%</th>\n",
       "      <td>360.500000</td>\n",
       "    </tr>\n",
       "    <tr>\n",
       "      <th>max</th>\n",
       "      <td>622.000000</td>\n",
       "    </tr>\n",
       "  </tbody>\n",
       "</table>\n",
       "</div>"
      ],
      "text/plain": [
       "            value\n",
       "count  144.000000\n",
       "mean   280.298611\n",
       "std    119.966317\n",
       "min    104.000000\n",
       "25%    180.000000\n",
       "50%    265.500000\n",
       "75%    360.500000\n",
       "max    622.000000"
      ]
     },
     "execution_count": 46,
     "metadata": {},
     "output_type": "execute_result"
    }
   ],
   "source": [
    "df.describe()"
   ]
  },
  {
   "cell_type": "code",
   "execution_count": 47,
   "metadata": {},
   "outputs": [
    {
     "name": "stdout",
     "output_type": "stream",
     "text": [
      "date     datetime64[ns]\n",
      "value             int64\n",
      "dtype: object\n"
     ]
    }
   ],
   "source": [
    "# convertir en datatime\n",
    "df['date'] = pd.to_datetime(df['date'])\n",
    "print(df.dtypes)\n"
   ]
  },
  {
   "cell_type": "code",
   "execution_count": 48,
   "metadata": {},
   "outputs": [],
   "source": [
    "# Extraer año\n",
    "df['year'] = df['date'].dt.year\n",
    "\n",
    "# Extraer mes\n",
    "df['month'] = df['date'].dt.month\n",
    "\n",
    "# Extraer día\n",
    "df['day'] = df['date'].dt.day\n",
    "\n",
    "# Extraer día de la semana (0 = lunes, 6 = domingo)\n",
    "df['weekday'] = df['date'].dt.weekday\n",
    "\n"
   ]
  },
  {
   "cell_type": "code",
   "execution_count": 49,
   "metadata": {},
   "outputs": [
    {
     "data": {
      "application/vnd.microsoft.datawrangler.viewer.v0+json": {
       "columns": [
        {
         "name": "index",
         "rawType": "int64",
         "type": "integer"
        },
        {
         "name": "date",
         "rawType": "datetime64[ns]",
         "type": "datetime"
        },
        {
         "name": "value",
         "rawType": "int64",
         "type": "integer"
        },
        {
         "name": "year",
         "rawType": "int32",
         "type": "integer"
        },
        {
         "name": "month",
         "rawType": "int32",
         "type": "integer"
        },
        {
         "name": "day",
         "rawType": "int32",
         "type": "integer"
        },
        {
         "name": "weekday",
         "rawType": "int32",
         "type": "integer"
        }
       ],
       "conversionMethod": "pd.DataFrame",
       "ref": "e4a3162a-e1d8-4c1d-95f2-66592c0e5643",
       "rows": [
        [
         "0",
         "1949-01-01 00:00:00",
         "112",
         "1949",
         "1",
         "1",
         "5"
        ],
        [
         "1",
         "1949-02-01 00:00:00",
         "118",
         "1949",
         "2",
         "1",
         "1"
        ],
        [
         "2",
         "1949-03-01 00:00:00",
         "132",
         "1949",
         "3",
         "1",
         "1"
        ],
        [
         "3",
         "1949-04-01 00:00:00",
         "129",
         "1949",
         "4",
         "1",
         "4"
        ],
        [
         "4",
         "1949-05-01 00:00:00",
         "121",
         "1949",
         "5",
         "1",
         "6"
        ],
        [
         "5",
         "1949-06-01 00:00:00",
         "135",
         "1949",
         "6",
         "1",
         "2"
        ],
        [
         "6",
         "1949-07-01 00:00:00",
         "148",
         "1949",
         "7",
         "1",
         "4"
        ],
        [
         "7",
         "1949-08-01 00:00:00",
         "148",
         "1949",
         "8",
         "1",
         "0"
        ],
        [
         "8",
         "1949-09-01 00:00:00",
         "136",
         "1949",
         "9",
         "1",
         "3"
        ],
        [
         "9",
         "1949-10-01 00:00:00",
         "119",
         "1949",
         "10",
         "1",
         "5"
        ],
        [
         "10",
         "1949-11-01 00:00:00",
         "104",
         "1949",
         "11",
         "1",
         "1"
        ],
        [
         "11",
         "1949-12-01 00:00:00",
         "118",
         "1949",
         "12",
         "1",
         "3"
        ],
        [
         "12",
         "1950-01-01 00:00:00",
         "115",
         "1950",
         "1",
         "1",
         "6"
        ],
        [
         "13",
         "1950-02-01 00:00:00",
         "126",
         "1950",
         "2",
         "1",
         "2"
        ],
        [
         "14",
         "1950-03-01 00:00:00",
         "141",
         "1950",
         "3",
         "1",
         "2"
        ],
        [
         "15",
         "1950-04-01 00:00:00",
         "135",
         "1950",
         "4",
         "1",
         "5"
        ],
        [
         "16",
         "1950-05-01 00:00:00",
         "125",
         "1950",
         "5",
         "1",
         "0"
        ],
        [
         "17",
         "1950-06-01 00:00:00",
         "149",
         "1950",
         "6",
         "1",
         "3"
        ],
        [
         "18",
         "1950-07-01 00:00:00",
         "170",
         "1950",
         "7",
         "1",
         "5"
        ],
        [
         "19",
         "1950-08-01 00:00:00",
         "170",
         "1950",
         "8",
         "1",
         "1"
        ],
        [
         "20",
         "1950-09-01 00:00:00",
         "158",
         "1950",
         "9",
         "1",
         "4"
        ],
        [
         "21",
         "1950-10-01 00:00:00",
         "133",
         "1950",
         "10",
         "1",
         "6"
        ],
        [
         "22",
         "1950-11-01 00:00:00",
         "114",
         "1950",
         "11",
         "1",
         "2"
        ],
        [
         "23",
         "1950-12-01 00:00:00",
         "140",
         "1950",
         "12",
         "1",
         "4"
        ],
        [
         "24",
         "1951-01-01 00:00:00",
         "145",
         "1951",
         "1",
         "1",
         "0"
        ],
        [
         "25",
         "1951-02-01 00:00:00",
         "150",
         "1951",
         "2",
         "1",
         "3"
        ],
        [
         "26",
         "1951-03-01 00:00:00",
         "178",
         "1951",
         "3",
         "1",
         "3"
        ],
        [
         "27",
         "1951-04-01 00:00:00",
         "163",
         "1951",
         "4",
         "1",
         "6"
        ],
        [
         "28",
         "1951-05-01 00:00:00",
         "172",
         "1951",
         "5",
         "1",
         "1"
        ],
        [
         "29",
         "1951-06-01 00:00:00",
         "178",
         "1951",
         "6",
         "1",
         "4"
        ],
        [
         "30",
         "1951-07-01 00:00:00",
         "199",
         "1951",
         "7",
         "1",
         "6"
        ],
        [
         "31",
         "1951-08-01 00:00:00",
         "199",
         "1951",
         "8",
         "1",
         "2"
        ],
        [
         "32",
         "1951-09-01 00:00:00",
         "184",
         "1951",
         "9",
         "1",
         "5"
        ],
        [
         "33",
         "1951-10-01 00:00:00",
         "162",
         "1951",
         "10",
         "1",
         "0"
        ],
        [
         "34",
         "1951-11-01 00:00:00",
         "146",
         "1951",
         "11",
         "1",
         "3"
        ],
        [
         "35",
         "1951-12-01 00:00:00",
         "166",
         "1951",
         "12",
         "1",
         "5"
        ],
        [
         "36",
         "1952-01-01 00:00:00",
         "171",
         "1952",
         "1",
         "1",
         "1"
        ],
        [
         "37",
         "1952-02-01 00:00:00",
         "180",
         "1952",
         "2",
         "1",
         "4"
        ],
        [
         "38",
         "1952-03-01 00:00:00",
         "193",
         "1952",
         "3",
         "1",
         "5"
        ],
        [
         "39",
         "1952-04-01 00:00:00",
         "181",
         "1952",
         "4",
         "1",
         "1"
        ],
        [
         "40",
         "1952-05-01 00:00:00",
         "183",
         "1952",
         "5",
         "1",
         "3"
        ],
        [
         "41",
         "1952-06-01 00:00:00",
         "218",
         "1952",
         "6",
         "1",
         "6"
        ],
        [
         "42",
         "1952-07-01 00:00:00",
         "230",
         "1952",
         "7",
         "1",
         "1"
        ],
        [
         "43",
         "1952-08-01 00:00:00",
         "242",
         "1952",
         "8",
         "1",
         "4"
        ],
        [
         "44",
         "1952-09-01 00:00:00",
         "209",
         "1952",
         "9",
         "1",
         "0"
        ],
        [
         "45",
         "1952-10-01 00:00:00",
         "191",
         "1952",
         "10",
         "1",
         "2"
        ],
        [
         "46",
         "1952-11-01 00:00:00",
         "172",
         "1952",
         "11",
         "1",
         "5"
        ],
        [
         "47",
         "1952-12-01 00:00:00",
         "194",
         "1952",
         "12",
         "1",
         "0"
        ],
        [
         "48",
         "1953-01-01 00:00:00",
         "196",
         "1953",
         "1",
         "1",
         "3"
        ],
        [
         "49",
         "1953-02-01 00:00:00",
         "196",
         "1953",
         "2",
         "1",
         "6"
        ]
       ],
       "shape": {
        "columns": 6,
        "rows": 144
       }
      },
      "text/html": [
       "<div>\n",
       "<style scoped>\n",
       "    .dataframe tbody tr th:only-of-type {\n",
       "        vertical-align: middle;\n",
       "    }\n",
       "\n",
       "    .dataframe tbody tr th {\n",
       "        vertical-align: top;\n",
       "    }\n",
       "\n",
       "    .dataframe thead th {\n",
       "        text-align: right;\n",
       "    }\n",
       "</style>\n",
       "<table border=\"1\" class=\"dataframe\">\n",
       "  <thead>\n",
       "    <tr style=\"text-align: right;\">\n",
       "      <th></th>\n",
       "      <th>date</th>\n",
       "      <th>value</th>\n",
       "      <th>year</th>\n",
       "      <th>month</th>\n",
       "      <th>day</th>\n",
       "      <th>weekday</th>\n",
       "    </tr>\n",
       "  </thead>\n",
       "  <tbody>\n",
       "    <tr>\n",
       "      <th>0</th>\n",
       "      <td>1949-01-01</td>\n",
       "      <td>112</td>\n",
       "      <td>1949</td>\n",
       "      <td>1</td>\n",
       "      <td>1</td>\n",
       "      <td>5</td>\n",
       "    </tr>\n",
       "    <tr>\n",
       "      <th>1</th>\n",
       "      <td>1949-02-01</td>\n",
       "      <td>118</td>\n",
       "      <td>1949</td>\n",
       "      <td>2</td>\n",
       "      <td>1</td>\n",
       "      <td>1</td>\n",
       "    </tr>\n",
       "    <tr>\n",
       "      <th>2</th>\n",
       "      <td>1949-03-01</td>\n",
       "      <td>132</td>\n",
       "      <td>1949</td>\n",
       "      <td>3</td>\n",
       "      <td>1</td>\n",
       "      <td>1</td>\n",
       "    </tr>\n",
       "    <tr>\n",
       "      <th>3</th>\n",
       "      <td>1949-04-01</td>\n",
       "      <td>129</td>\n",
       "      <td>1949</td>\n",
       "      <td>4</td>\n",
       "      <td>1</td>\n",
       "      <td>4</td>\n",
       "    </tr>\n",
       "    <tr>\n",
       "      <th>4</th>\n",
       "      <td>1949-05-01</td>\n",
       "      <td>121</td>\n",
       "      <td>1949</td>\n",
       "      <td>5</td>\n",
       "      <td>1</td>\n",
       "      <td>6</td>\n",
       "    </tr>\n",
       "    <tr>\n",
       "      <th>...</th>\n",
       "      <td>...</td>\n",
       "      <td>...</td>\n",
       "      <td>...</td>\n",
       "      <td>...</td>\n",
       "      <td>...</td>\n",
       "      <td>...</td>\n",
       "    </tr>\n",
       "    <tr>\n",
       "      <th>139</th>\n",
       "      <td>1960-08-01</td>\n",
       "      <td>606</td>\n",
       "      <td>1960</td>\n",
       "      <td>8</td>\n",
       "      <td>1</td>\n",
       "      <td>0</td>\n",
       "    </tr>\n",
       "    <tr>\n",
       "      <th>140</th>\n",
       "      <td>1960-09-01</td>\n",
       "      <td>508</td>\n",
       "      <td>1960</td>\n",
       "      <td>9</td>\n",
       "      <td>1</td>\n",
       "      <td>3</td>\n",
       "    </tr>\n",
       "    <tr>\n",
       "      <th>141</th>\n",
       "      <td>1960-10-01</td>\n",
       "      <td>461</td>\n",
       "      <td>1960</td>\n",
       "      <td>10</td>\n",
       "      <td>1</td>\n",
       "      <td>5</td>\n",
       "    </tr>\n",
       "    <tr>\n",
       "      <th>142</th>\n",
       "      <td>1960-11-01</td>\n",
       "      <td>390</td>\n",
       "      <td>1960</td>\n",
       "      <td>11</td>\n",
       "      <td>1</td>\n",
       "      <td>1</td>\n",
       "    </tr>\n",
       "    <tr>\n",
       "      <th>143</th>\n",
       "      <td>1960-12-01</td>\n",
       "      <td>432</td>\n",
       "      <td>1960</td>\n",
       "      <td>12</td>\n",
       "      <td>1</td>\n",
       "      <td>3</td>\n",
       "    </tr>\n",
       "  </tbody>\n",
       "</table>\n",
       "<p>144 rows × 6 columns</p>\n",
       "</div>"
      ],
      "text/plain": [
       "          date  value  year  month  day  weekday\n",
       "0   1949-01-01    112  1949      1    1        5\n",
       "1   1949-02-01    118  1949      2    1        1\n",
       "2   1949-03-01    132  1949      3    1        1\n",
       "3   1949-04-01    129  1949      4    1        4\n",
       "4   1949-05-01    121  1949      5    1        6\n",
       "..         ...    ...   ...    ...  ...      ...\n",
       "139 1960-08-01    606  1960      8    1        0\n",
       "140 1960-09-01    508  1960      9    1        3\n",
       "141 1960-10-01    461  1960     10    1        5\n",
       "142 1960-11-01    390  1960     11    1        1\n",
       "143 1960-12-01    432  1960     12    1        3\n",
       "\n",
       "[144 rows x 6 columns]"
      ]
     },
     "execution_count": 49,
     "metadata": {},
     "output_type": "execute_result"
    }
   ],
   "source": [
    "df\n"
   ]
  },
  {
   "cell_type": "code",
   "execution_count": 52,
   "metadata": {},
   "outputs": [
    {
     "data": {
      "image/png": "[encoded data removed]",
      "text/plain": [
       "<Figure size 1200x600 with 1 Axes>"
      ]
     },
     "metadata": {},
     "output_type": "display_data"
    }
   ],
   "source": [
    "import matplotlib.pyplot as plt\n",
    "\n",
    "plt.figure(figsize=(12, 6))  # Tamaño del gráfico\n",
    "plt.plot(df['date'], df['value'], marker='o', linestyle='-')\n",
    "\n",
    "plt.title('Serie temporal de valores')\n",
    "plt.xlabel('Fecha')\n",
    "plt.ylabel('Valor')\n",
    "plt.grid(True)\n",
    "plt.xticks(rotation=45)  # Rota etiquetas para mejor lectura\n",
    "plt.tight_layout()\n",
    "plt.show()\n"
   ]
  },
  {
   "cell_type": "markdown",
   "metadata": {},
   "source": [
    "- La gráfica muestra  un patrón estacional que se repite cada 12 meses."
   ]
  },
  {
   "cell_type": "markdown",
   "metadata": {},
   "source": [
    "#### Descomposición de la serie temporal con seasonal_decompose de statsmodels:\n",
    "- Este análisis separa la serie en:\n",
    "- Tendencia (Trend)\n",
    "- Estacionalidad (Seasonal)\n",
    "- Ruido aleatorio (Residual)\n",
    "- period=12 se usa si crees que hay un patrón anual con datos mensuales. Cambia este número según la frecuencia de tu serie."
   ]
  },
  {
   "cell_type": "code",
   "execution_count": 51,
   "metadata": {},
   "outputs": [
    {
     "data": {
      "image/png": "[encoded data removed]",
      "text/plain": [
       "<Figure size 640x480 with 4 Axes>"
      ]
     },
     "metadata": {},
     "output_type": "display_data"
    }
   ],
   "source": [
    "from statsmodels.tsa.seasonal import seasonal_decompose\n",
    "\n",
    "# Asegúrate de que el índice es datetime y esté en orden\n",
    "df = df.sort_index()\n",
    "result = seasonal_decompose(df['value'], model='additive', period=12)  # Cambia period si es otra frecuencia\n",
    "\n",
    "result.plot()\n",
    "plt.show()\n"
   ]
  },
  {
   "cell_type": "markdown",
   "metadata": {},
   "source": [
    "## 2. Crea en una gráfica la variable original + su media obtenida mediante una rolling window comparando el valor de seasonality obtenido en el apartado anterior"
   ]
  },
  {
   "cell_type": "code",
   "execution_count": 58,
   "metadata": {},
   "outputs": [
    {
     "ename": "NameError",
     "evalue": "name 'data' is not defined",
     "output_type": "error",
     "traceback": [
      "\u001b[31m---------------------------------------------------------------------------\u001b[39m",
      "\u001b[31mNameError\u001b[39m                                 Traceback (most recent call last)",
      "\u001b[36mCell\u001b[39m\u001b[36m \u001b[39m\u001b[32mIn[58]\u001b[39m\u001b[32m, line 2\u001b[39m\n\u001b[32m      1\u001b[39m \u001b[38;5;66;03m# Alternativa manteniendo estructura de DataFrame\u001b[39;00m\n\u001b[32m----> \u001b[39m\u001b[32m2\u001b[39m data[\u001b[33m'\u001b[39m\u001b[33mrolling_mean\u001b[39m\u001b[33m'\u001b[39m] = \u001b[43mdata\u001b[49m[\u001b[33m'\u001b[39m\u001b[33mpassengers\u001b[39m\u001b[33m'\u001b[39m].rolling(window=\u001b[32m12\u001b[39m).mean()\n\u001b[32m      4\u001b[39m plt.figure(figsize=(\u001b[32m12\u001b[39m, \u001b[32m6\u001b[39m))\n\u001b[32m      5\u001b[39m plt.plot(data[\u001b[33m'\u001b[39m\u001b[33mpassengers\u001b[39m\u001b[33m'\u001b[39m], label=\u001b[33m'\u001b[39m\u001b[33mDatos originales\u001b[39m\u001b[33m'\u001b[39m)\n",
      "\u001b[31mNameError\u001b[39m: name 'data' is not defined"
     ]
    }
   ],
   "source": [
    "# Alternativa manteniendo estructura de DataFrame\n",
    "data['rolling_mean'] = data['passengers'].rolling(window=12).mean()\n",
    "\n",
    "plt.figure(figsize=(12, 6))\n",
    "plt.plot(data['passengers'], label='Datos originales')\n",
    "plt.plot(data['rolling_mean'], color='red', label='Media móvil (12 meses)')\n",
    "plt.title('Pasajeros con media móvil anual')\n",
    "plt.xlabel('Fecha')\n",
    "plt.ylabel('Número de pasajeros')\n",
    "plt.legend()\n",
    "plt.grid(True)\n",
    "plt.show()"
   ]
  },
  {
   "cell_type": "markdown",
   "metadata": {},
   "source": [
    "## 3. Comprueba de manera estadística si la serie es o no stationary."
   ]
  },
  {
   "cell_type": "markdown",
   "metadata": {},
   "source": [
    "## 4. Aplica una transformación logarítmica"
   ]
  },
  {
   "cell_type": "markdown",
   "metadata": {},
   "source": [
    "## 5. Divide en train y test. Guarda 20 muestras para test."
   ]
  },
  {
   "cell_type": "markdown",
   "metadata": {},
   "source": [
    "## 6. Crea tu primer modelo ARIMA"
   ]
  },
  {
   "cell_type": "markdown",
   "metadata": {},
   "source": [
    "## 7. Representa en una gráfica los datos de test y tus predicciones."
   ]
  },
  {
   "attachments": {},
   "cell_type": "markdown",
   "metadata": {},
   "source": [
    "## 8. Prueba otros modelos, a ver qué performance presentan."
   ]
  }
 ],
 "metadata": {
  "kernelspec": {
   "display_name": "Python 3",
   "language": "python",
   "name": "python3"
  },
  "language_info": {
   "codemirror_mode": {
    "name": "ipython",
    "version": 3
   },
   "file_extension": ".py",
   "mimetype": "text/x-python",
   "name": "python",
   "nbconvert_exporter": "python",
   "pygments_lexer": "ipython3",
   "version": "3.11.9"
  }
 },
 "nbformat": 4,
 "nbformat_minor": 4
}
