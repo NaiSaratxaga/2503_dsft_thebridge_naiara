{
 "cells": [
  {
   "cell_type": "markdown",
   "metadata": {},
   "source": [
    "![imagen](./img/ejercicios.png)"
   ]
  },
  {
   "cell_type": "markdown",
   "metadata": {},
   "source": [
    "# Ejercicios funciones\n",
    "## Ejercicio 1\n",
    "Escribe una función que convierta números del 1 al 7 en nombres de los dias de la semana. La función constará de un único argumento numérico y una salida de tipo string"
   ]
  },
  {
   "cell_type": "code",
   "execution_count": null,
   "metadata": {},
   "outputs": [
    {
     "data": {
      "text/plain": [
       "'Lunes'"
      ]
     },
     "execution_count": 12,
     "metadata": {},
     "output_type": "execute_result"
    }
   ],
   "source": [
    "def numero_a_dia(numero):\n",
    "# Definimos un diccionario con los días de la semana\n",
    "    dias = {\n",
    "        1: \"Lunes\",\n",
    "        2: \"Martes\",\n",
    "        3: \"Miércoles\",\n",
    "        4: \"Jueves\",\n",
    "        5: \"Viernes\",\n",
    "        6: \"Sábado\",\n",
    "        7: \"Domingo\"\n",
    "    }\n",
    "    # Devolvemos el valor correspondiente al número\n",
    "    # usamos el método get() para devolver un valor por defecto\n",
    "    # en caso de que el número no exista en el diccionario, en este caso devolvemos \"Número inválido\"\n",
    "    return dias.get(numero, \"Número inválido\")\n",
    "\n",
    "# aquí llamamos a la función con algún número\n",
    "numero_a_dia(1)  # Debería imprimir \"Lunes\"\n"
   ]
  },
  {
   "cell_type": "code",
   "execution_count": null,
   "metadata": {},
   "outputs": [],
   "source": []
  },
  {
   "cell_type": "markdown",
   "metadata": {},
   "source": [
    "## Ejercicio 2\n",
    "En el ejercicio 8 de flujos de control, creábamos una pirámide invertida de números desde el 5. Crea una función que replique el comportamiento de la pirámide, y utiliza un único parámetro de entrada de la función para determinar el número de filas de la pirámide."
   ]
  },
  {
   "cell_type": "code",
   "execution_count": null,
   "metadata": {},
   "outputs": [
    {
     "name": "stdout",
     "output_type": "stream",
     "text": [
      "5 4 3 2 1 \n",
      "4 3 2 1 \n",
      "3 2 1 \n",
      "2 1 \n",
      "1 \n"
     ]
    }
   ],
   "source": [
    "\"\"\" #Implementa un programa que imprima por pantalla el siguiente patrón\n",
    "\n",
    "#5 4 3 2 1 \n",
    "\n",
    "#4 3 2 1 \n",
    "\n",
    "#3 2 1 \n",
    "\n",
    "#2 1 \n",
    "\n",
    "# \"\"\"\n",
    "\n",
    "\"\"\" n = 5 #Inicializamos n con 5 para que el patrón tenga 5 lineas\n",
    "\n",
    "for i in range(n, 0, -1): #Este bucle externo controla el número de filas en el patrón.\n",
    "#range(n, 0, -1) El rango comienza en n y termina en 0, disminuyendo en 1 en cada iteración.\n",
    "#El tercer parámetro,step, -1, indica que el rango debe ser decreciente.i tomará los valores: 5, 4, 3, 2, 1 en cada iteración.\n",
    "    for j in range(i,0,-1): #con este bucle recorremos las columnas de i a 0. -1 es el valor de decreciente       \n",
    "        print( j, end=\" \") #imprime el valor de j en la misma línea, el end hace que estén en la misma línea\n",
    "    print(\"\") #imprime una nueva línea después de imprimir todos los números de la fila\n",
    "print()\n",
    " \"\"\"\n",
    "\n",
    "#Crea una función que replique el comportamiento de la pirámide que hicimos \n",
    "# en el ejercicio de patrones, pero en este caso, la pirámide debe estar invertida, \n",
    "# Para ello voy a meter el código anterior en una función llamada piramide_invertida(n)\n",
    "\n",
    "\n",
    "def piramide_invertida(n):\n",
    "    for i in range(n, 0, -1):  # Controla las filas, decreciendo desde n hasta 1\n",
    "        for j in range(i, 0, -1):  # Controla las columnas, decreciendo desde i hasta 1\n",
    "            print(j, end=\" \")  # Imprime los números en la misma línea\n",
    "        print()  # Salto de línea al final de cada fila\n",
    "\n",
    "# Ejemplo de uso:\n",
    "piramide_invertida(5)\n",
    "\n"
   ]
  },
  {
   "cell_type": "markdown",
   "metadata": {},
   "source": [
    "## Ejercicio 3\n",
    "Escribe una función que compare dos números. La función tiene dos argumentos y hay tres salidas posibles: que sean iguales, que el primero sea  mayor que el segundo, o que el segundo sea mayor que el primero"
   ]
  },
  {
   "cell_type": "code",
   "execution_count": 10,
   "metadata": {},
   "outputs": [
    {
     "data": {
      "text/plain": [
       "23"
      ]
     },
     "execution_count": 10,
     "metadata": {},
     "output_type": "execute_result"
    }
   ],
   "source": [
    "# función que compare 2 números\n",
    "def comparar_numeros(a, b):\n",
    "# Comparamos los números y que sean iguales\n",
    "# que el primero sea mayor que el segundo\n",
    "# que el segundo sea mayor que el primero\n",
    "    if a > b:\n",
    "        return a\n",
    "    elif a < b:\n",
    "        return b\n",
    "    else:\n",
    "        return \"Los números son iguales\"\n",
    "\n",
    "# Llamamos a la función con los números 5 y 5\n",
    "comparar_numeros(8, 23) "
   ]
  },
  {
   "attachments": {},
   "cell_type": "markdown",
   "metadata": {},
   "source": [
    "## Ejercicio 4\n",
    "Escribe una función que sea un contador de letras. En el primer argumento tienes que introducir un texto, y el segundo que sea una letra que contar. La función tiene que devolver un entero con el número de veces que aparece esa letra, tanto mayúscula, como minúscula"
   ]
  },
  {
   "cell_type": "code",
   "execution_count": null,
   "metadata": {},
   "outputs": [
    {
     "data": {
      "text/plain": [
       "2"
      ]
     },
     "execution_count": 17,
     "metadata": {},
     "output_type": "execute_result"
    }
   ],
   "source": [
    "#función que sea un contador de letras. Tenemos que pasar 2 argumentos, un texto y una letra a conter\n",
    "def contador_letras(texto, letra):\n",
    "    # Devolvemos el número de veces que aparece la letra en el texto\n",
    "    # Voy a usar el método count() de las cadenas de texto\n",
    "    return texto.lower().count(letra.lower())\n",
    "contador_letras(\"Hola mundo cruel\", \"o\")  "
   ]
  },
  {
   "cell_type": "markdown",
   "metadata": {},
   "source": [
    "## Ejercicio 5\n",
    "Escribe una función que tenga un único argumento, un string. La salida de la función tiene que ser un diccionario con el conteo de todas las letras de ese string, siendo la clave la letra y el valor el conteo."
   ]
  },
  {
   "cell_type": "code",
   "execution_count": 40,
   "metadata": {},
   "outputs": [
    {
     "data": {
      "text/plain": [
       "{'F': 1,\n",
       " 'a': 3,\n",
       " 'c': 1,\n",
       " 't': 1,\n",
       " 'o': 2,\n",
       " 'r': 2,\n",
       " 'i': 1,\n",
       " 'l': 1,\n",
       " ' ': 3,\n",
       " 'f': 1,\n",
       " 'n': 1,\n",
       " 'u': 1,\n",
       " 'm': 1,\n",
       " 'b': 1,\n",
       " 'e': 1}"
      ]
     },
     "execution_count": 40,
     "metadata": {},
     "output_type": "execute_result"
    }
   ],
   "source": [
    "# Función con un único argumento, que sea un string. La salida tiene que ser un diccionario\n",
    "# con el recuento de cada letra en el string.\n",
    "def contar_letras(texto):\n",
    "    # Inicializamos un diccionario vacío\n",
    "    recuento = {}\n",
    "    # Recorremos cada letra en el texto\n",
    "    for letra in texto:\n",
    "        # Si la letra no está en el diccionario, la añadimos\n",
    "        if letra not in recuento:\n",
    "            recuento[letra] = 1\n",
    "        else:\n",
    "            # Si la letra ya está en el diccionario, incrementamos su recuento\n",
    "            recuento[letra] += 1\n",
    "    return recuento\n",
    "\n",
    "# Llamamos a la función \n",
    "contar_letras(\"Factorial of a number\")\n",
    "# Debería devolver un diccionario con el recuento de cada letra en el texto\n"
   ]
  },
  {
   "cell_type": "markdown",
   "metadata": {},
   "source": [
    "## Ejercicio 6\n",
    "Escribir una función que añada o elimine elementos en una lista. La función necesita los siguientes argumentos:\n",
    "* lista: la lista donde se añadirán o eliminarán los elementos\n",
    "* comando: \"add\" o \"remove\"\n",
    "* elemento: Por defecto es None.\n",
    "\n",
    "Tendrá como salida la lista"
   ]
  },
  {
   "cell_type": "code",
   "execution_count": 69,
   "metadata": {},
   "outputs": [
    {
     "name": "stdout",
     "output_type": "stream",
     "text": [
      "[1, 2, 5, 6, 8, 9, 2, 25]\n",
      "El elemento 23 no está en la lista.\n",
      "[1, 2, 5, 6, 8, 9, 2, 25]\n"
     ]
    }
   ],
   "source": [
    "#Función que reciba una lista, un comando y un elemento.\n",
    "#Si el comando es \"add\", añadir el elemento a la lista.\n",
    "#Si el comando es \"remove\", eliminar el elemento de la lista.\n",
    "def mi_funcion(lista, comando, elemento=None):\n",
    "    if comando == \"add\":\n",
    "        lista.append(elemento)\n",
    "    elif comando == \"remove\":\n",
    "        if elemento in lista:\n",
    "            lista.remove(elemento)\n",
    "        else:\n",
    "            print(f\"El elemento {elemento} no está en la lista.\")\n",
    "    return lista\n",
    "\n",
    "# Aquí añadimos un elemento a la lista\n",
    "mi_lista = [1, 2, 5, 6, 8, 9, 2]\n",
    "mi_lista = mi_funcion(mi_lista, \"add\", 25)\n",
    "print(mi_lista) \n",
    "\n",
    "# Aquí eliminamos un elemento de la lista\n",
    "mi_lista = mi_funcion(mi_lista, \"remove\", 23)\n",
    "print(mi_lista)\n",
    "\n",
    "\n"
   ]
  },
  {
   "cell_type": "markdown",
   "metadata": {},
   "source": [
    "## Ejercicio 7\n",
    "Crea una función que reciba un número arbitrario de palabras, y devuelva una frase completa, separando las palabras con espacios."
   ]
  },
  {
   "cell_type": "code",
   "execution_count": 51,
   "metadata": {},
   "outputs": [
    {
     "data": {
      "text/plain": [
       "'Hola esto es una frase completa'"
      ]
     },
     "execution_count": 51,
     "metadata": {},
     "output_type": "execute_result"
    }
   ],
   "source": [
    "def crear_frase(*palabras):\n",
    "    # Unimos todas las palabras con un espacio entre ellas y devolvemos el resultado\n",
    "    return \" \".join(palabras)\n",
    "\n",
    "# Ejemplo de uso\n",
    "frase = crear_frase(\"Hola\", \"esto\", \"es\", \"una\", \"frase\", \"completa\")\n",
    "\n",
    "# Imprimimos la frase\n",
    "crear_frase(\"Hola\", \"esto\", \"es\", \"una\", \"frase\", \"completa\") "
   ]
  },
  {
   "cell_type": "markdown",
   "metadata": {},
   "source": [
    "## Ejercicio 8\n",
    "Escribe un programa que obtenga el enésimo número de la [serie de Fibonacci](https://es.wikipedia.org/wiki/Sucesi%C3%B3n_de_Fibonacci). Tienes que crear una función recursiva con un único argumento.\n",
    "\n",
    "```Python\n",
    "fibonacci(2) = 1\n",
    "fibonacci(4) = 3\n",
    "fibonacci(5) = 5\n",
    "fibonacci(8) = 21\n",
    "```"
   ]
  },
  {
   "cell_type": "markdown",
   "metadata": {},
   "source": [
    "fibonacci(n) = fibonacci(n-1) + fibonacci(n-2)"
   ]
  },
  {
   "cell_type": "code",
   "execution_count": null,
   "metadata": {},
   "outputs": [],
   "source": [
    "#Este ejercicio no lo entiendo, he mirado con chatgpt pero no me aclaro,\n",
    "# prefiero dejarlos sin hacer. No termino de aclararme con la función recursiva"
   ]
  },
  {
   "attachments": {},
   "cell_type": "markdown",
   "metadata": {},
   "source": [
    "## Ejercicio 9\n",
    "Define en una única celda las siguientes funciones:\n",
    "* Función que calcule el área de un cuadrado\n",
    "* Función que calcule el área de un triángulo\n",
    "* Función que calcule el área de un círculo\n",
    "\n",
    "En otra celda, calcular el area de:\n",
    "* Dos círculos de radio 10 + un triángulo de base 3 y altura 7\n",
    "* Un cuadrado de lado = 10 + 3 círculos (uno de radio = 4 y los otros dos de radio = 6) + 5 triángulos de base = 2 + altura = 4"
   ]
  },
  {
   "cell_type": "code",
   "execution_count": 42,
   "metadata": {},
   "outputs": [],
   "source": [
    "import math\n",
    "\n",
    "# Definimos una función que calcule el área de un cuadrado, de un triángulo y de un círculo\n",
    "# Función para calcular el área de un cuadrado\n",
    "def area_cuadrado(lado):\n",
    "    return lado ** 2\n",
    "\n",
    "# Función para calcular el área de un triángulo\n",
    "def area_triangulo(base, altura):\n",
    "    return (base * altura) / 2\n",
    "\n",
    "# Función para calcular el área de un círculo\n",
    "def area_circulo(radio):\n",
    "    return math.pi * (radio ** 2)\n"
   ]
  },
  {
   "cell_type": "code",
   "execution_count": null,
   "metadata": {},
   "outputs": [
    {
     "name": "stdout",
     "output_type": "stream",
     "text": [
      "Área total del primer caso: 638.82\n",
      "Área total del segundo caso: 396.46\n"
     ]
    }
   ],
   "source": [
    "# Dos círculos de radio 10 + un triángulo de base 3 y altura 7\n",
    "area_circulo(10) + area_circulo(10) + area_triangulo(3, 7)  \n",
    "\n",
    "# Un cuadrado de lado = 10 +\n",
    "# 3 círculos (uno de radio = 4 y los otros dos de radio = 6)\n",
    "# + 5 triángulos de base = 2 + altura = 4\n",
    "# Cálculo del primer caso: Dos círculos de radio 10 + un triángulo de base 3 y altura 7\n",
    "area_total_1 = (2 * area_circulo(10)) + area_triangulo(3, 7)\n",
    "print(f\"Área total del primer caso: {area_total_1:.2f}\")\n",
    "\n",
    "# Cálculo del segundo caso: Un cuadrado de lado 10 + 3 círculos (uno de radio 4 y dos de radio 6) + 5 triángulos de base 2 y altura 4\n",
    "area_total_2 = (area_cuadrado(10)) + (area_circulo(4) + 2 * area_circulo(6)) + (5 * area_triangulo(2, 4))\n",
    "print(f\"Área total del segundo caso: {area_total_2:.2f}\")\n"
   ]
  },
  {
   "cell_type": "markdown",
   "metadata": {},
   "source": [
    "## Ejercicio 10\n",
    "\n",
    "Guarda las funciones de estos ejercicios en un fichero llamado `funciones.py` e importalas desde este jupyter notebook para probar que puedes hacer uso de ellas."
   ]
  },
  {
   "cell_type": "code",
   "execution_count": null,
   "metadata": {},
   "outputs": [],
   "source": [
    "# Creado en archivo a parte, funciones.py"
   ]
  }
 ],
 "metadata": {
  "kernelspec": {
   "display_name": "Python 3",
   "language": "python",
   "name": "python3"
  },
  "language_info": {
   "codemirror_mode": {
    "name": "ipython",
    "version": 3
   },
   "file_extension": ".py",
   "mimetype": "text/x-python",
   "name": "python",
   "nbconvert_exporter": "python",
   "pygments_lexer": "ipython3",
   "version": "3.11.9"
  }
 },
 "nbformat": 4,
 "nbformat_minor": 4
}
