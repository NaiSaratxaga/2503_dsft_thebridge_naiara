{
 "cells": [
  {
   "cell_type": "code",
   "execution_count": 2,
   "metadata": {},
   "outputs": [],
   "source": [
    "a = 5"
   ]
  },
  {
   "cell_type": "code",
   "execution_count": 3,
   "metadata": {},
   "outputs": [],
   "source": [
    "b = a "
   ]
  },
  {
   "cell_type": "code",
   "execution_count": 4,
   "metadata": {},
   "outputs": [],
   "source": [
    "a = a + 1"
   ]
  },
  {
   "cell_type": "code",
   "execution_count": 5,
   "metadata": {},
   "outputs": [
    {
     "data": {
      "text/plain": [
       "5"
      ]
     },
     "execution_count": 5,
     "metadata": {},
     "output_type": "execute_result"
    }
   ],
   "source": [
    "b"
   ]
  },
  {
   "cell_type": "code",
   "execution_count": 6,
   "metadata": {},
   "outputs": [
    {
     "data": {
      "text/plain": [
       "6"
      ]
     },
     "execution_count": 6,
     "metadata": {},
     "output_type": "execute_result"
    }
   ],
   "source": [
    "a"
   ]
  },
  {
   "cell_type": "code",
   "execution_count": 7,
   "metadata": {},
   "outputs": [
    {
     "data": {
      "text/plain": [
       "6"
      ]
     },
     "execution_count": 7,
     "metadata": {},
     "output_type": "execute_result"
    }
   ],
   "source": [
    "a"
   ]
  },
  {
   "cell_type": "code",
   "execution_count": 8,
   "metadata": {},
   "outputs": [],
   "source": [
    "lista = [20]"
   ]
  },
  {
   "cell_type": "code",
   "execution_count": 9,
   "metadata": {},
   "outputs": [],
   "source": [
    "lista.append(10)"
   ]
  },
  {
   "cell_type": "code",
   "execution_count": 10,
   "metadata": {},
   "outputs": [
    {
     "data": {
      "text/plain": [
       "[20, 10]"
      ]
     },
     "execution_count": 10,
     "metadata": {},
     "output_type": "execute_result"
    }
   ],
   "source": [
    "lista"
   ]
  },
  {
   "cell_type": "markdown",
   "metadata": {},
   "source": [
    "# Ejercicio 1001"
   ]
  },
  {
   "cell_type": "code",
   "execution_count": 11,
   "metadata": {},
   "outputs": [],
   "source": [
    "n = 5"
   ]
  },
  {
   "cell_type": "code",
   "execution_count": 12,
   "metadata": {},
   "outputs": [
    {
     "data": {
      "text/plain": [
       "[5, 4, 3, 2, 1]"
      ]
     },
     "execution_count": 12,
     "metadata": {},
     "output_type": "execute_result"
    }
   ],
   "source": [
    "list(range(n,0,-1))"
   ]
  },
  {
   "cell_type": "markdown",
   "metadata": {},
   "source": [
    "# Bucles que modifican la lista"
   ]
  },
  {
   "cell_type": "code",
   "execution_count": 13,
   "metadata": {},
   "outputs": [
    {
     "name": "stdout",
     "output_type": "stream",
     "text": [
      "[0, 1, 2, 3, 4, 5, 6, 7, 8, 9, 10, 11, 12, 13, 14, 15, 16, 17, 18, 19, 20, 21, 22, 23, 24, 25, 26, 27, 28, 29, 30, 31, 32, 33, 34, 35, 36, 37, 38, 39, 40, 41, 42, 43, 44, 45, 46, 47, 48, 49, 50, 51, 52, 53, 54, 55, 56, 57, 58, 59, 60, 61, 62, 63, 64, 65, 66, 67, 68, 69, 70, 71, 72, 73, 74, 75, 76, 77, 78, 79, 80, 81, 82, 83, 84, 85, 86, 87, 88, 89, 90, 91, 92, 93, 94, 95, 96, 97, 98, 99]\n"
     ]
    }
   ],
   "source": [
    "lista = list(range(100))\n",
    "print(lista)"
   ]
  },
  {
   "cell_type": "code",
   "execution_count": 14,
   "metadata": {},
   "outputs": [],
   "source": [
    "#for l in lista:\n",
    "#    if l % 5 == 0:\n",
    "#        print(l)\n",
    "#    lista.append(150)"
   ]
  },
  {
   "cell_type": "code",
   "execution_count": 15,
   "metadata": {},
   "outputs": [
    {
     "name": "stdout",
     "output_type": "stream",
     "text": [
      "Comprobando si 0 es múltiplo de 5\n",
      "0\n",
      "Sacando elemento 99\n",
      "Comprobando si 1 es múltiplo de 5\n",
      "Sacando elemento 98\n",
      "Comprobando si 2 es múltiplo de 5\n",
      "Sacando elemento 97\n",
      "Comprobando si 3 es múltiplo de 5\n",
      "Sacando elemento 96\n",
      "Comprobando si 4 es múltiplo de 5\n",
      "Sacando elemento 95\n",
      "Comprobando si 5 es múltiplo de 5\n",
      "5\n",
      "Sacando elemento 94\n",
      "Comprobando si 6 es múltiplo de 5\n",
      "Sacando elemento 93\n",
      "Comprobando si 7 es múltiplo de 5\n",
      "Sacando elemento 92\n",
      "Comprobando si 8 es múltiplo de 5\n",
      "Sacando elemento 91\n",
      "Comprobando si 9 es múltiplo de 5\n",
      "Sacando elemento 90\n",
      "Comprobando si 10 es múltiplo de 5\n",
      "10\n",
      "Sacando elemento 89\n",
      "Comprobando si 11 es múltiplo de 5\n",
      "Sacando elemento 88\n",
      "Comprobando si 12 es múltiplo de 5\n",
      "Sacando elemento 87\n",
      "Comprobando si 13 es múltiplo de 5\n",
      "Sacando elemento 86\n",
      "Comprobando si 14 es múltiplo de 5\n",
      "Sacando elemento 85\n",
      "Comprobando si 15 es múltiplo de 5\n",
      "15\n",
      "Sacando elemento 84\n",
      "Comprobando si 16 es múltiplo de 5\n",
      "Sacando elemento 83\n",
      "Comprobando si 17 es múltiplo de 5\n",
      "Sacando elemento 82\n",
      "Comprobando si 18 es múltiplo de 5\n",
      "Sacando elemento 81\n",
      "Comprobando si 19 es múltiplo de 5\n",
      "Sacando elemento 80\n",
      "Comprobando si 20 es múltiplo de 5\n",
      "20\n",
      "Sacando elemento 79\n",
      "Comprobando si 21 es múltiplo de 5\n",
      "Sacando elemento 78\n",
      "Comprobando si 22 es múltiplo de 5\n",
      "Sacando elemento 77\n",
      "Comprobando si 23 es múltiplo de 5\n",
      "Sacando elemento 76\n",
      "Comprobando si 24 es múltiplo de 5\n",
      "Sacando elemento 75\n",
      "Comprobando si 25 es múltiplo de 5\n",
      "25\n",
      "Sacando elemento 74\n",
      "Comprobando si 26 es múltiplo de 5\n",
      "Sacando elemento 73\n",
      "Comprobando si 27 es múltiplo de 5\n",
      "Sacando elemento 72\n",
      "Comprobando si 28 es múltiplo de 5\n",
      "Sacando elemento 71\n",
      "Comprobando si 29 es múltiplo de 5\n",
      "Sacando elemento 70\n",
      "Comprobando si 30 es múltiplo de 5\n",
      "30\n",
      "Sacando elemento 69\n",
      "Comprobando si 31 es múltiplo de 5\n",
      "Sacando elemento 68\n",
      "Comprobando si 32 es múltiplo de 5\n",
      "Sacando elemento 67\n",
      "Comprobando si 33 es múltiplo de 5\n",
      "Sacando elemento 66\n",
      "Comprobando si 34 es múltiplo de 5\n",
      "Sacando elemento 65\n",
      "Comprobando si 35 es múltiplo de 5\n",
      "35\n",
      "Sacando elemento 64\n",
      "Comprobando si 36 es múltiplo de 5\n",
      "Sacando elemento 63\n",
      "Comprobando si 37 es múltiplo de 5\n",
      "Sacando elemento 62\n",
      "Comprobando si 38 es múltiplo de 5\n",
      "Sacando elemento 61\n",
      "Comprobando si 39 es múltiplo de 5\n",
      "Sacando elemento 60\n",
      "Comprobando si 40 es múltiplo de 5\n",
      "40\n",
      "Sacando elemento 59\n",
      "Comprobando si 41 es múltiplo de 5\n",
      "Sacando elemento 58\n",
      "Comprobando si 42 es múltiplo de 5\n",
      "Sacando elemento 57\n",
      "Comprobando si 43 es múltiplo de 5\n",
      "Sacando elemento 56\n",
      "Comprobando si 44 es múltiplo de 5\n",
      "Sacando elemento 55\n",
      "Comprobando si 45 es múltiplo de 5\n",
      "45\n",
      "Sacando elemento 54\n",
      "Comprobando si 46 es múltiplo de 5\n",
      "Sacando elemento 53\n",
      "Comprobando si 47 es múltiplo de 5\n",
      "Sacando elemento 52\n",
      "Comprobando si 48 es múltiplo de 5\n",
      "Sacando elemento 51\n",
      "Comprobando si 49 es múltiplo de 5\n",
      "Sacando elemento 50\n"
     ]
    }
   ],
   "source": [
    "for l in lista:\n",
    "    print(\"Comprobando si\", l , \"es múltiplo de 5\")\n",
    "    if l % 5 == 0:\n",
    "        print(l)\n",
    "    ultimo = lista.pop()\n",
    "    print(\"Sacando elemento\", ultimo)"
   ]
  }
 ],
 "metadata": {
  "kernelspec": {
   "display_name": "Python 3",
   "language": "python",
   "name": "python3"
  },
  "language_info": {
   "codemirror_mode": {
    "name": "ipython",
    "version": 3
   },
   "file_extension": ".py",
   "mimetype": "text/x-python",
   "name": "python",
   "nbconvert_exporter": "python",
   "pygments_lexer": "ipython3",
   "version": "3.11.9"
  }
 },
 "nbformat": 4,
 "nbformat_minor": 2
}
