{
 "cells": [
  {
   "cell_type": "markdown",
   "metadata": {},
   "source": [
    "![imagen](./img/ejercicios.png)"
   ]
  },
  {
   "cell_type": "markdown",
   "metadata": {},
   "source": [
    "# Ejercicios Python Basics II"
   ]
  },
  {
   "cell_type": "markdown",
   "metadata": {},
   "source": [
    "## Ejercicio 1\n",
    "* Crea dos variables numericas: un `int` y un `float`\n",
    "* Comprueba sus tipos\n",
    "* Sumalas en otra nueva\n",
    "* ¿De qué tipo es la nueva variable?\n",
    "* Elimina las variables creadas"
   ]
  },
  {
   "cell_type": "code",
   "execution_count": null,
   "metadata": {},
   "outputs": [
    {
     "name": "stdout",
     "output_type": "stream",
     "text": [
      "22 <class 'int'>\n",
      "40.89 <class 'float'>\n",
      "62.89 <class 'float'>\n"
     ]
    },
    {
     "ename": "NameError",
     "evalue": "name 'var_init' is not defined",
     "output_type": "error",
     "traceback": [
      "\u001b[31m---------------------------------------------------------------------------\u001b[39m",
      "\u001b[31mNameError\u001b[39m                                 Traceback (most recent call last)",
      "\u001b[36mCell\u001b[39m\u001b[36m \u001b[39m\u001b[32mIn[10]\u001b[39m\u001b[32m, line 11\u001b[39m\n\u001b[32m      8\u001b[39m \u001b[38;5;28mprint\u001b[39m(var_suma, \u001b[38;5;28mtype\u001b[39m(var_suma))\n\u001b[32m     10\u001b[39m \u001b[38;5;28;01mdel\u001b[39;00m var_init, var_float, var_suma\n\u001b[32m---> \u001b[39m\u001b[32m11\u001b[39m \u001b[38;5;28mprint\u001b[39m(\u001b[43mvar_init\u001b[49m, var_float, var_suma)\n",
      "\u001b[31mNameError\u001b[39m: name 'var_init' is not defined"
     ]
    }
   ],
   "source": [
    "#creamos 2 variables, una de tipo entero y otra de tipo float.\n",
    "var_init = 22\n",
    "var_float = 40.89\n",
    "\n",
    "# Imprimimos las variables y sus tipos con type\n",
    "print(var_init, type(var_init))\n",
    "print(var_float, type(var_float))\n",
    "\n",
    "# Sumamos las dos variables, y el resultado será un float\n",
    "var_suma = var_init + var_float\n",
    "print(var_suma, type(var_suma))\n",
    "\n",
    "# Eliminamos las variables, y si las imprimimos, nos dará error\n",
    "del var_init, var_float, var_suma\n",
    "print(var_init, var_float, var_suma)"
   ]
  },
  {
   "cell_type": "markdown",
   "metadata": {},
   "source": [
    "## Ejercicio 2\n",
    "Escribe un programa para pasar de grados a radianes. Hay que usar `input`. Recuerda que la conversión se realiza mediante\n",
    "\n",
    "$$radianes = grados*(pi/180)$$"
   ]
  },
  {
   "cell_type": "code",
   "execution_count": null,
   "metadata": {},
   "outputs": [
    {
     "name": "stdout",
     "output_type": "stream",
     "text": [
      "34 grados equivalen a 0.59 radianes.\n"
     ]
    }
   ],
   "source": [
    "#importamos primero la libreria math para poder calcular mejor el resultado\n",
    "import math\n",
    "\n",
    "#recogemos el valor de grados pidiendo al usuario que introduzca los grados que quiere convertir\n",
    "grados = int(input(\"escribe los grados que quieres convertir en radianes: \"))\n",
    "#calculamos los radianes con la formula de conversion facilitada en el ejercicio\n",
    "radianes = grados * (math.pi / 180)\n",
    "#imprimimos el resultado en base a los grados introducidos\n",
    "print(f\"{grados} grados equivalen a {radianes:.2f} radianes.\")"
   ]
  },
  {
   "cell_type": "markdown",
   "metadata": {},
   "source": [
    "## Ejercicio 3\n",
    "Escribe un programa que calcule el area de un paralelogramo (base x altura). También con `input`"
   ]
  },
  {
   "cell_type": "code",
   "execution_count": null,
   "metadata": {},
   "outputs": [
    {
     "name": "stdout",
     "output_type": "stream",
     "text": [
      "el area del paralelogramo es 64.00\n"
     ]
    }
   ],
   "source": [
    "#en este primer input se recoge el valor de la base del paralelogramo\n",
    "base = int(input(\"escribe el base del paralelogramo: \"))\n",
    "#en este segundo input se recoge el valor de la altura del paralelogramo\n",
    "altura = int(input(\"escribe la altura del paralelogramo: \"))\n",
    "#ya teniendo los datos se calcula el area del paralelogramo con la formula base * altura\n",
    "area = base * altura\n",
    "#se imprime el resultado con dos decimales\n",
    "print(f\"el area del paralelogramo es {area:.2f}\")"
   ]
  },
  {
   "cell_type": "markdown",
   "metadata": {},
   "source": [
    "## Ejercicio 4\n",
    "Tenemos las siguientes variables:\n",
    "\n",
    "```Python\n",
    "A = 4\n",
    "B = \"Text\"\n",
    "C = 4.1\n",
    "```\n",
    "\n",
    "Comprueba:\n",
    "1. Si A y B son equivalentes\n",
    "2. Si A y C NO son equivalentes\n",
    "3. Si A es mayor que C \n",
    "4. Si C es menor o igual que A\n",
    "5. Si B NO es equivalente a C"
   ]
  },
  {
   "cell_type": "code",
   "execution_count": null,
   "metadata": {},
   "outputs": [
    {
     "name": "stdout",
     "output_type": "stream",
     "text": [
      "False\n",
      "True\n",
      "False\n",
      "False\n",
      "True\n"
     ]
    }
   ],
   "source": [
    "#tenemos 3 variables, una de tipo entero, otra de tipo string y otra de tipo float\n",
    "A = 4\n",
    "B = \"Text\"\n",
    "C = 4.1\n",
    "\n",
    "#imprimimos las variables y sus tipos y comprobamos si son iguales o no\n",
    "print(A == B) \n",
    "print(A != C)\n",
    "print(A > C )\n",
    "print(C <= A )\n",
    "print(B != C)"
   ]
  },
  {
   "cell_type": "markdown",
   "metadata": {},
   "source": [
    "## Ejercicio 5\n",
    "Crea un programa donde se recojan dos inputs del usuario, y el output del programa sea si esos inputs son iguales o no"
   ]
  },
  {
   "cell_type": "code",
   "execution_count": null,
   "metadata": {},
   "outputs": [
    {
     "name": "stdout",
     "output_type": "stream",
     "text": [
      "True\n"
     ]
    }
   ],
   "source": [
    "#primer input es para que el usuario escriba si le gusta programar\n",
    "#segundo input es para que el usuario escriba si le gusta el helado\n",
    "A = input(\"¿Te gusta programar?\")\n",
    "B = input(\"¿Te gusta el helado?\")\n",
    "#se imprime True si las 2 respuestas del usuario son iguales\n",
    "print(A == B)"
   ]
  },
  {
   "cell_type": "markdown",
   "metadata": {},
   "source": [
    "## Ejercicio 6\n",
    "Mismo programa que en 5, pero en esta ocasión tienen que ser tres inputs y dos salidas. Una de las salidas que nos indique si todos son iguales, y la otra si al menos dos inputs sí que lo son"
   ]
  },
  {
   "cell_type": "code",
   "execution_count": null,
   "metadata": {},
   "outputs": [
    {
     "name": "stdout",
     "output_type": "stream",
     "text": [
      "False\n",
      "True\n"
     ]
    }
   ],
   "source": [
    "#Usamos mismos inputs que en el ejercicio anterior, pero añadimos una tercera pregunta \n",
    "A = input(\"¿ Te gusta programa?\")\n",
    "B = input(\"¿Te gusta el helado?\")\n",
    "C = input(\"Dime tu animal favorito\")\n",
    "\n",
    "# en este primer print comprobamos si las tres variables son iguales\n",
    "print(A == B == C)\n",
    "# en este segundo print comprobamos si alguno de los inputs lo es igual\n",
    "print(A == B or A == C or B == C) \n",
    "\n",
    "#La primera salida nos dará False ya que las 2 primeras preguntas hacen referencia a un si o un no, y la 3 pregunta hace referencia a un animal.\n",
    "#La segunda salida nos dará True si contestamos si a las 2 primeras preguntas o no a las 2. "
   ]
  },
  {
   "cell_type": "markdown",
   "metadata": {},
   "source": [
    "## Ejercicio 7\n",
    "Crea un programa que recoja dos inputs. Tiene que comprobar si su suma es igual, superior o inferior a 10, cada condición por separado"
   ]
  },
  {
   "cell_type": "code",
   "execution_count": 3,
   "metadata": {},
   "outputs": [
    {
     "name": "stdout",
     "output_type": "stream",
     "text": [
      "False\n",
      "True\n",
      "False\n"
     ]
    }
   ],
   "source": [
    "#recogemos el valor introducido por el usuario de los 2 inputs\n",
    "sum_1 = int(input(\"Introduce un número: \"))\n",
    "sum_2 = int(input(\"Introduce otro número: \"))\n",
    "\n",
    "#en este print se suman los dos numeros introducidos por el usuario\n",
    "\n",
    "sum_total = sum_1 + sum_2\n",
    "\n",
    "# tenemos que comprobar la condiciones de los numeros introducidos por el usuario para que se cumpla la condicion\n",
    "cond = sum_total == 10 #comprobamos si la suma de los dos numeros es igual a 10\n",
    "print(cond)\n",
    "\n",
    "cond = sum_total > 10 #comprobamos si la suma de los dos numeros es mayor a 10\n",
    "print(cond)\n",
    "\n",
    "cond = sum_total < 10 #comprobamos si la suma de los dos numeros es menor a 10\n",
    "print(cond)"
   ]
  },
  {
   "attachments": {},
   "cell_type": "markdown",
   "metadata": {},
   "source": [
    "## Ejercicio 8\n",
    "Razona sin ejecutar código el output que obtendremos de las siguientes sentencias\n",
    "1. True and True and False\n",
    "2. not ((True or False) and (True or False))\n",
    "3. (False or False or False or True) and False\n",
    "4. not False and True and not True\n",
    "\n",
    "Compruébalo después con python"
   ]
  },
  {
   "cell_type": "markdown",
   "metadata": {},
   "source": [
    "1. False\n",
    "2. not (True) and (True) = False and True = False\n",
    "3. True and False = False\n",
    "4. True and True and False = False"
   ]
  },
  {
   "cell_type": "code",
   "execution_count": null,
   "metadata": {},
   "outputs": [],
   "source": [
    "#1 False, si dice and tienen que cumplirse las dos condiciones, con que una sea Falsa, el resultado será Falso\n",
    "#2 True, si dice or con que una de las condiciones sea verdadera, el resultado será verdadero\n",
    "#3 False, si dice and tienen que cumplirse las dos condiciones, con que una sea Falsa, el resultado será Falso\n",
    "#4 True, porque nos dice FAlse = False, y eso es verdadero"
   ]
  },
  {
   "cell_type": "markdown",
   "metadata": {},
   "source": [
    "## Ejercicio 9\n",
    "Para este ejercicio vamos a poner en práctica [las funciones built in](https://docs.python.org/3/library/functions.html).\n",
    "\n",
    "1. Calcula el máximo de la lista: [4, 6, 8, -1]\n",
    "2. Suma todos los elementos de la lista anterior\n",
    "3. Redondea este float a 3 dígitos decimales: 63.451256965\n",
    "4. Valor absoluto de: -74"
   ]
  },
  {
   "cell_type": "code",
   "execution_count": null,
   "metadata": {},
   "outputs": [
    {
     "name": "stdout",
     "output_type": "stream",
     "text": [
      "Máximo de la lista: 8\n"
     ]
    }
   ],
   "source": [
    "#1 Calcular el máximo de la lista. Para ello usaremos la función max() de Python.\n",
    "lista = [4, 6, 8, -1]\n",
    "maximo = max(lista)\n",
    "print(\"Máximo de la lista:\", maximo)"
   ]
  },
  {
   "cell_type": "code",
   "execution_count": null,
   "metadata": {},
   "outputs": [
    {
     "name": "stdout",
     "output_type": "stream",
     "text": [
      "Suma de la lista: 17\n"
     ]
    }
   ],
   "source": [
    "#2 Calcular la suma de la lista. Para ello usaremos la función sum() de Python.\n",
    "lista = [4, 6, 8, -1]\n",
    "suma = sum(lista)\n",
    "print(\"Suma de la lista:\", suma)"
   ]
  },
  {
   "cell_type": "code",
   "execution_count": 8,
   "metadata": {},
   "outputs": [
    {
     "name": "stdout",
     "output_type": "stream",
     "text": [
      "Redondeo a 3 decimales: 63.451\n"
     ]
    }
   ],
   "source": [
    "#3 Redondea este float a 3 dígitos decimales: 63.451256965\n",
    "redondeo = round(63.451256965, 3)\n",
    "print(\"Redondeo a 3 decimales:\", redondeo) \n"
   ]
  },
  {
   "cell_type": "code",
   "execution_count": null,
   "metadata": {},
   "outputs": [
    {
     "name": "stdout",
     "output_type": "stream",
     "text": [
      "74\n"
     ]
    }
   ],
   "source": [
    "#4 Calcular el valor absoluto de: -74 (abs= valor absoluto descarta el signo)\n",
    "print(abs(-74))\n"
   ]
  },
  {
   "cell_type": "markdown",
   "metadata": {},
   "source": [
    "## Ejercicio 10\n",
    "Para el siguiente string se pide imprimir por pantalla los siguientes casos\n",
    "\n",
    "    \"Lo primero de todo, cómo están los máquinas\"\n",
    "\n",
    "1. Pasarlo todo a mayúsculas\n",
    "2. Pasarlo todo a minúsculas\n",
    "3. Pasar a mayúsculas solo las iniciales de las palabras\n",
    "4. Crea una lista dividiendolo por sus espacios\n",
    "5. Sustituye las comas `,` por puntos y comas `;`\n",
    "6. Elimina las `a` minúsculas"
   ]
  },
  {
   "cell_type": "code",
   "execution_count": 13,
   "metadata": {},
   "outputs": [
    {
     "name": "stdout",
     "output_type": "stream",
     "text": [
      "LO PRIMERO DE TODO, CÓMO ESTÁN LOS MÁQUINAS\n",
      "lo primero de todo, cómo están los máquinas\n",
      "Lo Primero De Todo, Cómo Están Los Máquinas\n",
      "['Lo', 'primero', 'de', 'todo,', 'cómo', 'están', 'los', 'máquinas']\n",
      "Lo primero de todo; cómo están los máquinas\n",
      "Lo primero de todo, cómo estn los mquinas\n"
     ]
    }
   ],
   "source": [
    "# Definir el string original añadiendo la frase del ejercicio\n",
    "texto = \"Lo primero de todo, cómo están los máquinas\"\n",
    "\n",
    "# 1. Pasarlo todo a mayúsculas, usamos upper\n",
    "print(texto.upper())\n",
    "\n",
    "# 2. Pasarlo todo a minúsculas, con lower\n",
    "print(texto.lower())\n",
    "\n",
    "# 3. Pasar a mayúsculas solo las iniciales de las palabrascon title\n",
    "print(texto.title())\n",
    "\n",
    "# 4. Crear una lista dividiéndolo por sus espacios, split sin parámetros divide por espacios\n",
    "palabras = texto.split()\n",
    "print(palabras)\n",
    "\n",
    "# 5. Sustituir las comas `,` por puntos y comas `;`. Usaremos replace para remplazarlo\n",
    "texto_modificado = texto.replace(\",\", \";\")\n",
    "print(texto_modificado)\n",
    "\n",
    "# 6. Eliminar las `a` minúsculas. Usaremos replace para remplazar las a por cadena vacia. (he puesto a con acento para que elimine las a minúsculas)\n",
    "texto_sin_a = texto.replace(\"á\", \"\")\n",
    "print(texto_sin_a)\n"
   ]
  },
  {
   "cell_type": "markdown",
   "metadata": {},
   "source": [
    "## Ejercicio 11\n",
    "1. Crea una lista con 3 elementos numéricos\n",
    "2. Añade un cuarto elemento\n",
    "3. Calcula la suma de todos\n",
    "4. Elimina el segundo elemento de la lista\n",
    "5. Añade otro elemento en la posicion 3 de la lista\n",
    "6. Crea otra lista con 4 elementos y concaténala a la que ya tenías."
   ]
  },
  {
   "cell_type": "code",
   "execution_count": null,
   "metadata": {},
   "outputs": [
    {
     "name": "stdout",
     "output_type": "stream",
     "text": [
      "[4, 6, 8]\n",
      "[4, 6, 8, 10]\n",
      "28\n",
      "[4, 8, 10]\n",
      "[4, 8, 12, 10]\n",
      "[4, 8, 12, 10, 2, 4, 6, 8]\n"
     ]
    }
   ],
   "source": [
    "#1 Crea una lista con 3 elementos numéricos\n",
    "lista_elementos = [4, 6, 8]\n",
    "print(lista_elementos)\n",
    "\n",
    "#2. Añade un cuarto elemento\n",
    "lista_elementos.append(10)\n",
    "print(lista_elementos)\n",
    "\n",
    "#3. Calcula la suma de todos\n",
    "suma = sum(lista_elementos)\n",
    "print(suma)\n",
    "\n",
    "#4. Elimina el segundo elemento de la lista\n",
    "del lista_elementos[1]\t\n",
    "print(lista_elementos)\n",
    "\n",
    "#5. Añade otro elemento en la posicion 3 de la lista\n",
    "lista_elementos.insert(2, 12)\n",
    "print(lista_elementos)\n",
    "\n",
    "#6. Crea otra lista con 4 elementos y concaténala a la que ya tenías.\n",
    "lista_elementos2 = [2, 4, 6, 8]\n",
    "lista_elementos.extend(lista_elementos2)\n",
    "print(lista_elementos)"
   ]
  }
 ],
 "metadata": {
  "kernelspec": {
   "display_name": "Python 3",
   "language": "python",
   "name": "python3"
  },
  "language_info": {
   "codemirror_mode": {
    "name": "ipython",
    "version": 3
   },
   "file_extension": ".py",
   "mimetype": "text/x-python",
   "name": "python",
   "nbconvert_exporter": "python",
   "pygments_lexer": "ipython3",
   "version": "3.11.9"
  },
  "nbTranslate": {
   "displayLangs": [
    "*"
   ],
   "hotkey": "alt-t",
   "langInMainMenu": true,
   "sourceLang": "en",
   "targetLang": "fr",
   "useGoogleTranslate": true
  },
  "varInspector": {
   "cols": {
    "lenName": 16,
    "lenType": 16,
    "lenVar": 40
   },
   "kernels_config": {
    "python": {
     "delete_cmd_postfix": "",
     "delete_cmd_prefix": "del ",
     "library": "var_list.py",
     "varRefreshCmd": "print(var_dic_list())"
    },
    "r": {
     "delete_cmd_postfix": ") ",
     "delete_cmd_prefix": "rm(",
     "library": "var_list.r",
     "varRefreshCmd": "cat(var_dic_list()) "
    }
   },
   "types_to_exclude": [
    "module",
    "function",
    "builtin_function_or_method",
    "instance",
    "_Feature"
   ],
   "window_display": false
  }
 },
 "nbformat": 4,
 "nbformat_minor": 4
}
