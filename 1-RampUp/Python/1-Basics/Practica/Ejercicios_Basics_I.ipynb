{
 "cells": [
  {
   "cell_type": "markdown",
   "metadata": {},
   "source": [
    "![imagen](./img/ejercicios.png)"
   ]
  },
  {
   "cell_type": "markdown",
   "metadata": {},
   "source": [
    "# Ejercicios Python Basics I"
   ]
  },
  {
   "cell_type": "markdown",
   "metadata": {},
   "source": [
    "## Ejercicio 0\n",
    "Imprime por pantalla esta cita con el siguiente formato\n",
    "\n",
    "![imagen](./img/frase_Einstein.PNG)"
   ]
  },
  {
   "cell_type": "code",
   "execution_count": 11,
   "metadata": {},
   "outputs": [
    {
     "name": "stdout",
     "output_type": "stream",
     "text": [
      "¿Por qué esta magnífica tecnología científica,\n",
      "\tque ahorra trabajo y nos hace la vida más fácil,\n",
      "\t\tnos aporta tan poca felicidad?\n",
      "\t\t\tLa repuesta es está, simplemente: porque aún no hemos aprendido a usarla con tino\n",
      "''Albert Einstein''\n"
     ]
    }
   ],
   "source": [
    "texto = \"¿Por qué esta magnífica tecnología científica,\\n\" \\\n",
    "        \"\\tque ahorra trabajo y nos hace la vida más fácil,\\n\" \\\n",
    "        \"\\t\\tnos aporta tan poca felicidad?\\n\" \\\n",
    "        \"\\t\\t\\tLa repuesta es está, simplemente: porque aún no hemos aprendido a usarla con tino\\n''Albert Einstein''\"\n",
    "\n",
    "print(texto)"
   ]
  },
  {
   "cell_type": "markdown",
   "metadata": {},
   "source": [
    "## Ejercicio 1\n",
    "1. Escribe el nombre de la calle de tu domicilio en una variable\n",
    "2. Escribe el numero de la calle en otra\n",
    "3. Ciudad en una tercera\n",
    "4. Codigo postal en la cuarta variable\n",
    "5. Imprime las 4 variables concatenadas por pantalla\n",
    "6. Crea una quinta variable que concatene todas ellas\n",
    "7. Imprímela por pantalla"
   ]
  },
  {
   "cell_type": "code",
   "execution_count": null,
   "metadata": {},
   "outputs": [
    {
     "name": "stdout",
     "output_type": "stream",
     "text": [
      "calle La calzada\n",
      "numero 12\n",
      "ciudad Balmaseda\n",
      "codigo_postal 48800\n",
      "Vivo en la calle La calzada y el número de mi casa es 12 .\n",
      "Mi ciudad es Balmaseda y mi código postal es 48800\n"
     ]
    }
   ],
   "source": [
    "calle = \"La calzada\"\n",
    "numero = 12\n",
    "ciudad = \"Balmaseda\"\n",
    "codigo_postal = 48800\n",
    "print(\"calle\", calle)\n",
    "print(\"numero\", numero)\n",
    "print(\"ciudad\", ciudad)\n",
    "print(\"codigo_postal\", codigo_postal)\n",
    "print(\"Vivo en la calle\", calle, \"y el número de mi casa es\", numero, \".\\nMi ciudad es\", ciudad, \"y mi código postal es\", codigo_postal)\n",
    "\n"
   ]
  },
  {
   "cell_type": "code",
   "execution_count": null,
   "metadata": {},
   "outputs": [
    {
     "name": "stdout",
     "output_type": "stream",
     "text": [
      "Vivo en la calle La calzada y el número de mi casa es 12. La ciudad es Balmaseda y el codigo postal es 48800\n"
     ]
    }
   ],
   "source": [
    "print(f\"Vivo en la calle {calle} y el número de mi casa es {numero}. La ciudad es {ciudad} y el codigo postal es {codigo_postal}\")"
   ]
  },
  {
   "cell_type": "markdown",
   "metadata": {},
   "source": [
    "## Ejercicio 2\n",
    "Repite el ejercicio 1, pero pidiendo estos datos al usuario mediante un input(), imprimiendo a continuación la dirección completa"
   ]
  },
  {
   "cell_type": "code",
   "execution_count": null,
   "metadata": {},
   "outputs": [
    {
     "name": "stdout",
     "output_type": "stream",
     "text": [
      "tu dirección es la casilla\n"
     ]
    }
   ],
   "source": [
    "direccion = input(\"introduce tu dirección: \")\n",
    "print(\"tu dirección es\", direccion)\n"
   ]
  },
  {
   "cell_type": "markdown",
   "metadata": {},
   "source": [
    "## Ejercicio 3\n",
    "¿Qué variables están mal escritas y por qué? Realiza primero tu hipótesis y luego ejecuta las variables para comprobarlo. En ese orden :)\n",
    "\n",
    "\n",
    "1. mi_variable = \"Economía\"\n",
    "2. otra_var = \"Ejercicio\n",
    "3. True = \"Ejercicio\"\n",
    "4. mi variab1e = \"Alpha\"\n",
    "5. import = 40\n",
    "6. 81mi_variable = \"Agua\"\n",
    "7. mi_variable10 = 6"
   ]
  },
  {
   "cell_type": "code",
   "execution_count": null,
   "metadata": {},
   "outputs": [],
   "source": [
    "# 1 Está bien\n",
    "# 2 La palabra Ejercicio le falta la comilla de cierre \n",
    "# 3 Es una palabra reservada en Python y no se puede usar como variable\n",
    "# 4 La variable no puede llevar espacios    \n",
    "# 5 import es una palabra reservada en Python y no se puede usar como variable\n",
    "# 6 lleva número al principio de la variable y no se puede poner\n",
    "# 7 Es correcta"
   ]
  },
  {
   "cell_type": "markdown",
   "metadata": {},
   "source": [
    "## Ejercicio 4\n",
    "Realiza un conversor de grados Celsius a Fahrenheit. El conversor tiene que recibir el input del usuario y devolver la conversión.\n",
    "\n",
    "La conversión de grados sigue la siguiente fórmula: F = C × (9 / 5) + 32 "
   ]
  },
  {
   "cell_type": "code",
   "execution_count": null,
   "metadata": {},
   "outputs": [
    {
     "name": "stdout",
     "output_type": "stream",
     "text": [
      "45.0°C equivale a 113.00°F\n"
     ]
    }
   ],
   "source": [
    "celsius = float(input(\"Introduce un número para calcular la temperatura: \"))\n",
    "fahrenheit = celsius * (9 / 5) + 32\n",
    "print(f\"{celsius}°C equivale a {fahrenheit:.2f}°F\")"
   ]
  },
  {
   "cell_type": "markdown",
   "metadata": {},
   "source": [
    "## Ejercicio 5\n",
    "Comenta  el Ejercicio 4. Pon un comentario multilinea y haz comentarios de cada linea de código"
   ]
  },
  {
   "cell_type": "code",
   "execution_count": null,
   "metadata": {},
   "outputs": [
    {
     "name": "stdout",
     "output_type": "stream",
     "text": [
      "32.0°C equivale a 89.60°F\n"
     ]
    }
   ],
   "source": [
    "# primero declaramos el valor de la variable celsius y le asignamos el valor de la operación.Y le pedimos al usuario que introduzca un número para calcular la temperatura.\n",
    "# Usamos float() para convertir la entrada del usuario a un número real y evitar errores en la conversión\n",
    "celsius = float(input(\"Introduce un número para calcular la temperatura: \"))\n",
    "\n",
    "# después declaramos la variable fahrenheit y le asignamos el valor de la operación.(que nos facilitan en el ejercicio)\n",
    "fahrenheit = celsius * (9 / 5) + 32\n",
    "\n",
    "# Y por último imprimimos el resultado de la operación con el valor de la variable celsius y fahrenheit. (:.2f) es para que nos muestre solo dos decimales.\n",
    "print(f\"{celsius}°C equivale a {fahrenheit:.2f}°F\")"
   ]
  }
 ],
 "metadata": {
  "kernelspec": {
   "display_name": "Python 3",
   "language": "python",
   "name": "python3"
  },
  "language_info": {
   "codemirror_mode": {
    "name": "ipython",
    "version": 3
   },
   "file_extension": ".py",
   "mimetype": "text/x-python",
   "name": "python",
   "nbconvert_exporter": "python",
   "pygments_lexer": "ipython3",
   "version": "3.11.9"
  },
  "nbTranslate": {
   "displayLangs": [
    "*"
   ],
   "hotkey": "alt-t",
   "langInMainMenu": true,
   "sourceLang": "en",
   "targetLang": "fr",
   "useGoogleTranslate": true
  },
  "varInspector": {
   "cols": {
    "lenName": 16,
    "lenType": 16,
    "lenVar": 40
   },
   "kernels_config": {
    "python": {
     "delete_cmd_postfix": "",
     "delete_cmd_prefix": "del ",
     "library": "var_list.py",
     "varRefreshCmd": "print(var_dic_list())"
    },
    "r": {
     "delete_cmd_postfix": ") ",
     "delete_cmd_prefix": "rm(",
     "library": "var_list.r",
     "varRefreshCmd": "cat(var_dic_list()) "
    }
   },
   "types_to_exclude": [
    "module",
    "function",
    "builtin_function_or_method",
    "instance",
    "_Feature"
   ],
   "window_display": false
  }
 },
 "nbformat": 4,
 "nbformat_minor": 4
}
