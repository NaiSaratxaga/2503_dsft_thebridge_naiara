{
 "cells": [
  {
   "cell_type": "markdown",
   "metadata": {},
   "source": [
    "## Recolección ejercicios"
   ]
  },
  {
   "cell_type": "markdown",
   "metadata": {},
   "source": [
    "-----------"
   ]
  },
  {
   "cell_type": "markdown",
   "metadata": {},
   "source": [
    "### Basics"
   ]
  },
  {
   "cell_type": "code",
   "execution_count": 10,
   "metadata": {},
   "outputs": [
    {
     "name": "stdout",
     "output_type": "stream",
     "text": [
      "Redondeo a 3 decimales: 63.451\n"
     ]
    }
   ],
   "source": [
    "#Redondea este float a 3 dígitos decimales: 63.451256965\n",
    "redondeo = round(63.451256965, 3)\n",
    "print(\"Redondeo a 3 decimales:\", redondeo) "
   ]
  },
  {
   "cell_type": "code",
   "execution_count": 11,
   "metadata": {},
   "outputs": [
    {
     "name": "stdout",
     "output_type": "stream",
     "text": [
      "[4, 6, 8]\n",
      "[4, 6, 8, 10]\n",
      "28\n",
      "[4, 8, 10]\n",
      "[4, 8, 12, 10]\n",
      "[4, 8, 12, 10, 2, 4, 6, 8]\n"
     ]
    }
   ],
   "source": [
    "#1 Crea una lista con 3 elementos numéricos\n",
    "lista_elementos = [4, 6, 8]\n",
    "print(lista_elementos)\n",
    "\n",
    "#2. Añade un cuarto elemento\n",
    "lista_elementos.append(10)\n",
    "print(lista_elementos)\n",
    "\n",
    "#3. Calcula la suma de todos\n",
    "suma = sum(lista_elementos)\n",
    "print(suma)\n",
    "\n",
    "#4. Elimina el segundo elemento de la lista\n",
    "del lista_elementos[1]\t\n",
    "print(lista_elementos)\n",
    "\n",
    "#5. Añade otro elemento en la posicion 3 de la lista\n",
    "lista_elementos.insert(2, 12)\n",
    "print(lista_elementos)\n",
    "\n",
    "#6. Crea otra lista con 4 elementos y concaténala a la que ya tenías.\n",
    "lista_elementos2 = [2, 4, 6, 8]\n",
    "lista_elementos.extend(lista_elementos2)\n",
    "print(lista_elementos)"
   ]
  },
  {
   "cell_type": "markdown",
   "metadata": {},
   "source": [
    "------\n",
    "Escribe un programa que tenga dos variables: un numero, y una lista numérica. El programa debe recorrer la lista e imprimir por pantalla cada elemento de la lista multiplicado por el número"
   ]
  },
  {
   "cell_type": "code",
   "execution_count": 12,
   "metadata": {},
   "outputs": [
    {
     "name": "stdout",
     "output_type": "stream",
     "text": [
      "10\n",
      "20\n",
      "30\n",
      "40\n",
      "50\n"
     ]
    }
   ],
   "source": [
    "#creamos uan variable llamada var_numero y le asignamos el valor 10 que será el que multiplicará a los valores de la lista  \n",
    "#creamos una lista llamada lista_numeros con los valores 1, 2, 3, 4, 5\n",
    "var_numero = 10\n",
    "lista_numeros = [1, 2, 3, 4, 5]\n",
    "\n",
    "#Recorremos la lista con un bucle for y multiplicamos cada valor de la lista por var_numero\n",
    "for i in range(len(lista_numeros)):\n",
    "    print(lista_numeros[i] * var_numero)  # Multiplica y muestra el resultado\n"
   ]
  },
  {
   "cell_type": "markdown",
   "metadata": {},
   "source": [
    "Imprime por pantalla cada número del -10 al -1. En ese orden. Consulta [la documentación](https://www.w3schools.com/python/ref_func_range.asp) de `range`"
   ]
  },
  {
   "cell_type": "code",
   "execution_count": 13,
   "metadata": {},
   "outputs": [
    {
     "data": {
      "text/plain": [
       "[-10, -9, -8, -7, -6, -5, -4, -3, -2, -1]"
      ]
     },
     "execution_count": 13,
     "metadata": {},
     "output_type": "execute_result"
    }
   ],
   "source": [
    "list(range(-10, 0))"
   ]
  },
  {
   "cell_type": "markdown",
   "metadata": {},
   "source": [
    "Dada la siguiente lista:\n",
    "\n",
    "> list1 = [12, 15, 32, 42, 55, 75, 122, 132, 150, 180, 200]\n",
    "\n",
    "Implementa un programa que los recorra e imprima por pantalla todos los divisibles por 5. Si nos encontramos con alguno que sea mayor que 150, detener el bucle."
   ]
  },
  {
   "cell_type": "code",
   "execution_count": 14,
   "metadata": {},
   "outputs": [
    {
     "name": "stdout",
     "output_type": "stream",
     "text": [
      "15 es un número divisible por 5\n",
      "55 es un número divisible por 5\n",
      "75 es un número divisible por 5\n",
      "150 es un número divisible por 5\n"
     ]
    }
   ],
   "source": [
    "lista = [12, 15, 32, 42, 55, 75, 122, 132, 150, 180, 200]\n",
    "#Recorremos la lista con un bucle for y comprobamos si el número es divisible por 5\n",
    "#si es así, mostramos un mensaje indicando que el número es divisible por 5\n",
    "#El operador módulo % es el que se usa para verificar si un número es divisible por otro.\n",
    "for i in lista:\n",
    "    if i % 5 == 0:\n",
    "        print(i, \"es un número divisible por 5\" )\n",
    "    if i >= 150:\n",
    "        break"
   ]
  },
  {
   "cell_type": "markdown",
   "metadata": {},
   "source": [
    "Escribe un programa en Python que imprima por pantalla todos los números que cumplan que sean divisibles por 5 y divisibles por 7, dentro del rango de valores (150, 350)."
   ]
  },
  {
   "cell_type": "code",
   "execution_count": 15,
   "metadata": {},
   "outputs": [
    {
     "name": "stdout",
     "output_type": "stream",
     "text": [
      "175 es un número divisible por 5 y por 7\n",
      "210 es un número divisible por 5 y por 7\n",
      "245 es un número divisible por 5 y por 7\n",
      "280 es un número divisible por 5 y por 7\n",
      "315 es un número divisible por 5 y por 7\n",
      "350 es un número divisible por 5 y por 7\n"
     ]
    }
   ],
   "source": [
    "#Usaremos range que genera números en el intervalo de 150 a 350.\n",
    "#Recorremos la lista con un bucle for y comprobamos si el número es divisible por 5 y por 7\n",
    "#con el operador módulo %, si es así, mostramos un mensaje indicando que el número es divisible por 5 y por 7\n",
    "\n",
    "for i in range(150, 351):\n",
    "    if i % 5 == 0 and i % 7 == 0:\n",
    "        print(i, \"es un número divisible por 5 y por 7\" )"
   ]
  },
  {
   "cell_type": "markdown",
   "metadata": {},
   "source": [
    "### Ejercicio 1 (1 punto)\n",
    "En este ejercicio se va a crear una lista con los siguientes elementos. Primero, crearemos las variables que luego añadiremos a la lista. Las variables son las siguientes:\n",
    "\n",
    "1. Crea una variable llamada `dia` de tipo Integer que sea el día del mes. \n",
    "2. Crea una variable llamada `campus` de tipo String , con la ciudad donde está tu campus de The Bridge. \n",
    "3. Crea una variable llamada `altura` con el valor de tu altura en metros de tipo float.\n",
    "4. Crea una variable llamada `s_operativo` de tipo Boolean True si usas Windows y False si usas otro.\n",
    "5. Crea una variable llamada `nada` de tipo None cuyo valor sea None.\n",
    "6. Crea una variable llamada `lista_comidas` de tipo List que contenga 5 platos de comida. Cada elemento ha de ser de tipo String.\n",
    "7. Crea una variable llamada `tupla_cubiertos` de tipo Tuple con tres cubiertos que deben ser de tipo String cada uno.\n",
    "8. Crea una variable llamada `dict_discord`. Una key es `nombre`, teniendo como value el nombre de usuario en discord de tipo String. Otra key es la `room`, cuyo valor es un entero del número de la sala en la que te encuentras haciendo el examen.\n",
    "9. Añade todos estas variables en una lista llamada `lista_examen` en el orden del enunciado.\n",
    "10. Imprime por pantalla con un bucle for, el tipo de cada elemento de `lista_examen`."
   ]
  },
  {
   "cell_type": "code",
   "execution_count": 16,
   "metadata": {},
   "outputs": [
    {
     "name": "stdout",
     "output_type": "stream",
     "text": [
      "Elemento: 13 - Tipo: <class 'int'>\n",
      "Elemento: Madrid - Tipo: <class 'str'>\n",
      "Elemento: 1.75 - Tipo: <class 'float'>\n",
      "Elemento: True - Tipo: <class 'bool'>\n",
      "Elemento: None - Tipo: <class 'NoneType'>\n",
      "Elemento: ['Pizza', 'Sushi', 'Paella', 'Hamburguesa', 'Tacos'] - Tipo: <class 'list'>\n",
      "Elemento: ('Cuchillo', 'Tenedor', 'Cucharita') - Tipo: <class 'tuple'>\n",
      "Elemento: {'nombre': 'usuario123', 'room': 5} - Tipo: <class 'dict'>\n"
     ]
    }
   ],
   "source": [
    "# 1. Variable día (Integer)\n",
    "dia = 13\n",
    "\n",
    "# 2. Variable campus (String)\n",
    "campus = \"Madrid\"\n",
    "\n",
    "# 3. Variable altura (Float)\n",
    "altura = 1.75\n",
    "\n",
    "# 4. Variable s_operativo (Boolean)\n",
    "s_operativo = True  # Si usas Windows es True, si usas otro sistema es False\n",
    "\n",
    "# 5. Variable nada (None)\n",
    "nada = None\n",
    "\n",
    "# 6. Variable lista_comidas (List de Strings)\n",
    "lista_comidas = [\"Pizza\", \"Sushi\", \"Paella\", \"Hamburguesa\", \"Tacos\"]\n",
    "\n",
    "# 7. Variable tupla_cubiertos (Tuple de Strings)\n",
    "tupla_cubiertos = (\"Cuchillo\", \"Tenedor\", \"Cucharita\")\n",
    "\n",
    "# 8. Variable dict_discord (Dictionary)\n",
    "dict_discord = {\"nombre\": \"usuario123\", \"room\": 5}\n",
    "\n",
    "# 9. Lista final (lista_examen)\n",
    "lista_examen = [dia, campus, altura, s_operativo, nada, lista_comidas, tupla_cubiertos, dict_discord]\n",
    "\n",
    "# 10. Imprimir el tipo de cada elemento de la lista\n",
    "for elemento in lista_examen:\n",
    "    print(f'Elemento: {elemento} - Tipo: {type(elemento)}')\n"
   ]
  },
  {
   "cell_type": "markdown",
   "metadata": {},
   "source": [
    "### Ejercicio 2 (2 puntos)\n",
    "\n",
    "Para resolver este ejercicio necesitarás la lista del ejercicio anterior (`lista_examen`). Se recomienda leer cada punto hasta el final antes de resolver el ejercicio.\n",
    "\n",
    "Se repite para que quede aún más claro: **SOLO USAR LA VARIABLE** `lista_examen`. Usar otra variable se calificará como error.  "
   ]
  },
  {
   "cell_type": "markdown",
   "metadata": {},
   "source": [
    "1. Guardar en las variables que aparecen como `res2x`, lo siguiente: (0.5)\n",
    "    - `res21` El tercer cubierto.\n",
    "    - `res22` La penúltima comida.\n",
    "    - `res23` Una lista del segundo al quinto elemento incluidos ambos.\n",
    "    - `res24` Una tupla con los valores del diccionario de discord.\n",
    "    - `res25` Los 4 primeros caracteres del valor del nombre de tu discord.\n"
   ]
  },
  {
   "cell_type": "code",
   "execution_count": 17,
   "metadata": {},
   "outputs": [
    {
     "name": "stdout",
     "output_type": "stream",
     "text": [
      "('Cuchillo', 'Tenedor', 'Cucharita')\n"
     ]
    }
   ],
   "source": [
    "lista_examen = [dia, campus, altura, s_operativo, nada, lista_comidas, tupla_cubiertos, dict_discord]\n",
    "\n",
    "res21 = lista_examen[6]\n",
    "print(res21)"
   ]
  },
  {
   "cell_type": "markdown",
   "metadata": {},
   "source": [
    "    \n",
    "2. Mostrar por pantalla, con uso de un bucle `for`. (0.75)\n",
    "    - Las posiciones y elementos de `lista_examen` de las posiciones impares.\n",
    "    - Los elementos que se encuentran dentro de las colecciones ordenadas de `lista_examen`."
   ]
  },
  {
   "cell_type": "code",
   "execution_count": null,
   "metadata": {},
   "outputs": [],
   "source": []
  },
  {
   "cell_type": "markdown",
   "metadata": {},
   "source": [
    "3. Con uso del bucle `while`, borra los platos de comida por el final hasta que tengas 2 platos, y guarda esos platos borrados en una nueva lista `platos_borrados` (0.75)"
   ]
  },
  {
   "cell_type": "code",
   "execution_count": null,
   "metadata": {},
   "outputs": [],
   "source": []
  },
  {
   "cell_type": "markdown",
   "metadata": {},
   "source": [
    "### Ejercicio 3 (2 puntos)\n",
    "\n",
    "Dado el siguiente diccionario: \n",
    "\n",
    "```python\n",
    "paises = {\n",
    "    \"España\": {\n",
    "        \"capital\": \"Madrid\",\n",
    "        \"superficie\": 505992,\n",
    "        \"habitantes\": 46733038,\n",
    "        \"PIB\": 1478.02\n",
    "    },\n",
    "    \"Francia\": {\n",
    "        \"capital\": \"París\",\n",
    "        \"superficie\": 551695,\n",
    "        \"habitantes\": 67237407,\n",
    "        \"PIB\": 2826.29\n",
    "    },\n",
    "    \"Italia\": {\n",
    "        \"capital\": \"Roma\",\n",
    "        \"superficie\": 301340,\n",
    "        \"habitantes\": 60359546,\n",
    "        \"PIB\": 2099.32 \n",
    "    },\n",
    "    \"Portugal\": {\n",
    "        \"capital\": \"Lisboa\",\n",
    "        \"superficie\": 92212,\n",
    "        \"habitantes\": 10305564,\n",
    "        \"PIB\": 248.89\n",
    "    }\n",
    "}\n",
    "```"
   ]
  },
  {
   "cell_type": "markdown",
   "metadata": {},
   "source": [
    "1. Crea una función llamada `obtener_dato()` con tres argumentos de entrada, el diccionario `paises`, un string llamado `pais` y un string llamado `metrica`. Deberán devolver el valor correspondiente del diccionario. Documéntala"
   ]
  },
  {
   "cell_type": "code",
   "execution_count": null,
   "metadata": {},
   "outputs": [
    {
     "name": "stdout",
     "output_type": "stream",
     "text": [
      "Capital de España: Madrid\n",
      "Superficie de Portugal: 92212\n"
     ]
    }
   ],
   "source": [
    "paises = {\n",
    "    \"España\": {\n",
    "        \"capital\": \"Madrid\",\n",
    "        \"superficie\": 505992,\n",
    "        \"habitantes\": 46733038,\n",
    "        \"PIB\": 1478.02\n",
    "    },\n",
    "    \"Francia\": {\n",
    "        \"capital\": \"París\",\n",
    "        \"superficie\": 551695,\n",
    "        \"habitantes\": 67237407,\n",
    "        \"PIB\": 2826.29\n",
    "    },\n",
    "    \"Italia\": {\n",
    "        \"capital\": \"Roma\",\n",
    "        \"superficie\": 301340,\n",
    "        \"habitantes\": 60359546,\n",
    "        \"PIB\": 2099.32 \n",
    "    },\n",
    "    \"Portugal\": {\n",
    "        \"capital\": \"Lisboa\",\n",
    "        \"superficie\": 92212,\n",
    "        \"habitantes\": 10305564,\n",
    "        \"PIB\": 248.89\n",
    "    }\n",
    "}\n",
    "\n",
    "def obtener_dato(paises, pais, metrica):\n",
    "    '''\n",
    "    Función para obtener un valor específico de un diccionario de países.\n",
    "    \n",
    "    Parámetros:\n",
    "    paises (dict): Diccionario con información de países.\n",
    "    pais (str): Nombre del país a consultar.\n",
    "    metrica (str): Métrica específica a obtener (capital, superficie, habitantes, PIB).\n",
    "    \n",
    "    Retorna:\n",
    "    El valor correspondiente a la métrica solicitada o un mensaje de error si no existe.\n",
    "    '''\n",
    "    return paises.get(pais, {}).get(metrica, \"dato no encontrado\")\n",
    "\n",
    "''' print(obtener_dato.__doc__) '''\n",
    "\n",
    "print(\"Capital de España:\", obtener_dato(paises, \"España\", \"capital\"))\n",
    "print(\"Superficie de Portugal:\", obtener_dato(paises, \"Portugal\", \"superficie\"))"
   ]
  },
  {
   "cell_type": "markdown",
   "metadata": {},
   "source": [
    "2. Obtén mediante la función los valores de población de Portugal y España. Súmalos y guárdalos en una variable nueva llamada `poblacion_peninsula`"
   ]
  },
  {
   "cell_type": "code",
   "execution_count": 19,
   "metadata": {},
   "outputs": [
    {
     "name": "stdout",
     "output_type": "stream",
     "text": [
      "20611128\n"
     ]
    }
   ],
   "source": [
    "poblacion_espana = obtener_dato(paises, \"España\", \"habitantes\")\n",
    "poblacion_portugal = obtener_dato(paises, \"Portugal\", \"habitantes\")\n",
    "\n",
    "poblacion_peninsula = poblacion_portugal + poblacion_portugal\n",
    "\n",
    "print(poblacion_peninsula)"
   ]
  },
  {
   "cell_type": "markdown",
   "metadata": {},
   "source": [
    "3. Crea una nueva función llamada `añadir_metrica()` con 3 argumentos de entrada, el diccionario `paises`, un string llamado `pais` que por defecto tendrá el valor de `España` y un string llamado `metrica` que con el nombre de la métrica a añadir. Deberá retornar el diccionario completo, con una nueva métrica añadida en el mismo nivel del resto, llamada `PIB_por_h`, con el valor del PIB por cada habitante redondeado con un decimal. Deberá devolver el diccionario completo con la modificación realizada. Documéntala."
   ]
  },
  {
   "cell_type": "code",
   "execution_count": null,
   "metadata": {},
   "outputs": [],
   "source": [
    "def añadir_metrica(paises, pais=\"España\", metrica):\n",
    "    return"
   ]
  },
  {
   "cell_type": "markdown",
   "metadata": {},
   "source": [
    "4. Utiliza la función `añadir_metrica()`, para Italia y España. Guarda el diccionario en una nueva variable llamada `paises_actualizado`."
   ]
  },
  {
   "cell_type": "code",
   "execution_count": null,
   "metadata": {},
   "outputs": [],
   "source": []
  },
  {
   "cell_type": "markdown",
   "metadata": {},
   "source": [
    "### Ejercicio 4 (2 puntos)\n",
    "\n",
    "Crea una clase llamada `Movil()`. Todos los móviles tendran:\n",
    "* Batería (bool) = True\n",
    "\n",
    "El resto de atributos serán particulares:\n",
    "* marca (str)\n",
    "* carga (float): porcentaje de batería de 0 a 100, por defecto 50.0\n",
    "* camara (int) : Nº de megapixels\n",
    "* memoria (int): Nº de fotos totales que se pueden almacenar\n",
    "\n",
    "1. Deberás crear el método de `cargar()`, lo que hará será incrementar la batería un 30%. Si llega al 100% no aumentará más y devolverá un mensaje de `Batería cargada`. Deberá devolver el estado de la batería tras cargar.\n",
    "2. Deberás crear el método de `hacer_foto()`, con un argumento de entrada llamado `n_fotos` de tipo entero que será el número de fotos a realizar. Cada una de esas fotos, ocuparán memoria, por lo que deberá actualizar su atributo. Deberá devolver la memoria restante, y en caso de que se quede sin memoria, se realizarán las fotos que se puedan almacenar y devolverá por pantalla `Memoria insuficiente` junto con el número de fotos que se han quedado en cola sin realizar. Documenta la clase"
   ]
  },
  {
   "cell_type": "code",
   "execution_count": null,
   "metadata": {},
   "outputs": [],
   "source": []
  },
  {
   "cell_type": "markdown",
   "metadata": {},
   "source": [
    "\n",
    "3. Crea 3 objetos a partir de la clase, un \"Samsung\" con un 45,5% de carga, un \"Xiaomi\" y un \"Apple\". Todos ellos tendrán 1000 de memoria, menos el Apple que tendrá 500.\n"
   ]
  },
  {
   "cell_type": "code",
   "execution_count": null,
   "metadata": {},
   "outputs": [],
   "source": []
  },
  {
   "cell_type": "markdown",
   "metadata": {},
   "source": [
    "4. Carga los 3 móviles hasta que muestre el mensaje de que la batería está cargada y muestra por pantalla su batería. Realiza 800 fotos con los 3 móviles utilizando un `input()` y comprueba el atributo de memoria."
   ]
  },
  {
   "cell_type": "code",
   "execution_count": null,
   "metadata": {},
   "outputs": [],
   "source": []
  },
  {
   "cell_type": "markdown",
   "metadata": {},
   "source": []
  },
  {
   "cell_type": "markdown",
   "metadata": {},
   "source": [
    "### Ejercicio 5\n",
    "\n",
    "Ejercicio estilo la calculadora o la biblioteca que hemos hecho en clase"
   ]
  },
  {
   "cell_type": "markdown",
   "metadata": {},
   "source": [
    "# Ejercicio BONUS"
   ]
  },
  {
   "cell_type": "markdown",
   "metadata": {},
   "source": [
    "Crear un programa que calcule la cuota de una hipoteca\n",
    "Las cuotas hipotecarias se calculan utilizando la fórmula del interés francés.\n",
    "La fórmula del interés frances es la siguiente:\n",
    "C=V(1+i)ni(1+i)n−1\n",
    "C = cuota a pagar (mensual)\n",
    "V = volumen del préstamo hipotecario\n",
    "i = tipo de interés del período (mensual)\n",
    "n = número de cuotas (mensuales)\n",
    "Crea un programa que solicite al usuario los datos de su hipoteca mediante input() los datos (volumen, interés anual, y plazo en años) y le devuelva la cuota mensual a pagar. No es necesario encapsularlo en funciones.\n",
    "Crea una función calcular_hip que realiza el cálculo y cuyos argumentos de entrada sean volumen, interes_anual y años, devolviendo la couta mensual(float). El argumento de años deberá de tener un valor por defecto de 30.\n",
    "Calcula la cuota y guárdala en la variable res_cuota si la cantidad de la hipoteca son 350000 euros, el interés anual es del 5% y la quiere pagar en 20 años a partir de la función calcular_hip.\n",
    "Crea una función gasto_vivienda, con dos argumentos de entrada ingreso y lista_hip. Esta lista tendrá los 3 valores de los argumentos de entrada de calcular_hip, siendo esta una función que deberá ser utilizada dentro de gasto_vivienda. Tiene que devolver el valor del porcentaje de gasto en la hipoteca respecto a los ingresos. (Entre 0 y 1, es decir 0.5 si es del 50%)\n",
    "Calcula el porcentaje de gasto en la hipoteca si el ingreso es de 1700 euros y guárdalo en la variable res_porcentaje.\n",
    "Documenta ambas funciones con el estilo de Google.\n"
   ]
  },
  {
   "cell_type": "code",
   "execution_count": 1,
   "metadata": {},
   "outputs": [
    {
     "name": "stdout",
     "output_type": "stream",
     "text": [
      "La cuota mensual a pagar es: 5.29 euros\n",
      "El porcentaje de gasto en la hipoteca respecto a los ingresos es: 135.87%\n"
     ]
    }
   ],
   "source": [
    "def calcular_hip(volumen, interes_anual, años=30):\n",
    "    '''\n",
    "    Calcula la cuota mensual de una hipoteca utilizando la fórmula del interés francés.\n",
    "    \n",
    "    Args:\n",
    "        volumen (float): El monto del préstamo hipotecario (en euros).\n",
    "        interes_anual (float): El tipo de interés anual expresado en porcentaje (por ejemplo, 5 para un 5%).\n",
    "        años (int, opcional): El número de años del préstamo (por defecto es 30).\n",
    "\n",
    "    Returns:\n",
    "        float: La cuota mensual a pagar.\n",
    "    '''\n",
    "    # Convertir el interés anual a mensual\n",
    "    i = (interes_anual / 100) / 12\n",
    "    # Número total de cuotas\n",
    "    n = años * 12\n",
    "    # Fórmula del interés francés para calcular la cuota mensual\n",
    "    cuota = volumen * (i * (1 + i)**n) / ((1 + i)**n - 1)\n",
    "    return cuota\n",
    "\n",
    "def gasto_vivienda(ingreso, lista_hip):\n",
    "    '''\n",
    "    Calcula el porcentaje del gasto en la hipoteca respecto a los ingresos mensuales.\n",
    "\n",
    "    Args:\n",
    "        ingreso (float): El ingreso mensual del usuario (en euros).\n",
    "        lista_hip (list): Una lista que contiene tres elementos: el volumen de la hipoteca, el interés anual y el plazo en años.\n",
    "\n",
    "    Returns:\n",
    "        float: El porcentaje de gasto de la hipoteca respecto a los ingresos (un valor entre 0 y 1).\n",
    "    '''\n",
    "    # Calcular la cuota mensual utilizando la función calcular_hip\n",
    "    cuota_mensual = calcular_hip(lista_hip[0], lista_hip[1], lista_hip[2])\n",
    "    # Calcular el porcentaje de los ingresos que se destina a la cuota mensual\n",
    "    porcentaje = cuota_mensual / ingreso\n",
    "    return porcentaje\n",
    "\n",
    "# Solicitar los datos al usuario\n",
    "volumen = float(input(\"Introduce el volumen del préstamo hipotecario (en euros): \"))\n",
    "interes_anual = float(input(\"Introduce el tipo de interés anual (en porcentaje): \"))\n",
    "años = int(input(\"Introduce el plazo de la hipoteca en años: \"))\n",
    "\n",
    "# Calcular la cuota mensual\n",
    "cuota_mensual = calcular_hip(volumen, interes_anual, años)\n",
    "print(f\"La cuota mensual a pagar es: {cuota_mensual:.2f} euros\")\n",
    "\n",
    "# Datos para calcular el porcentaje de gasto\n",
    "ingreso = 1700\n",
    "lista_hip = [350000, 5, 20]\n",
    "\n",
    "# Calcular el porcentaje de gasto en la hipoteca\n",
    "res_porcentaje = gasto_vivienda(ingreso, lista_hip)\n",
    "print(f\"El porcentaje de gasto en la hipoteca respecto a los ingresos es: {res_porcentaje * 100:.2f}%\")\n"
   ]
  },
  {
   "cell_type": "markdown",
   "metadata": {},
   "source": [
    "Crea una clase Cliente que tenga 1 atributo general mamífero(bool True) y 6 atributos en el constructor: ojos(int default 2), altura(float), edad(int), ahorros(float), target(bool default True) y nombre(str). Además, debe contar con dos métodos:\n",
    "cumplir_edad(): al llamar a este método se debe sumar 1 al atributo edad del cliente y que retorne \"Felices x años!\" con la edad actualizada. Si cumple 80, su altura pasará a ser el 90% de su altura original.\n",
    "comprar() que recibe el argumento de volumen_gasto(list): este método debe actualizar el atributo de ahorros, restándole el volumen del gasto total, retornando esos ahorros actualizados. Si el cliente tiene 0 ahorros o menos, deberá de cambiar el atributo target a False.\n",
    "(a partir de la variable lista_examen) Crea un cliente instanciandolo en el objeto cliente_1 llamado \"Manuel\" que tiene el doble de tu de edad y mide 10 centímetros menos que tu altura. Tiene unos ahorros de 3000 euros, y al ser un cliente con capacidad de gasto en nuestro negocio, queremos fidelizarlo en nuestra campaña, el valor target será True el resto de atributos puedes elegir un valor.\n",
    "\n",
    "(a partir de la variable lista_examen) Crea un cliente instanciandolo en el objeto cliente_2 llamada \"Laura\" con la mitad de tu edad y la altura de Manuel. Tiene unos ahorros de 2000 euros y al ser un cliente con capacidad de gasto en nuestro negocio, queremos fidelizarlo en nuestra campaña, el valor target será True el resto de atributos puedes elegir un valor.\n",
    "\n",
    "Haz que cumplan años tus dos clientes. Les quieres fidelizar, por lo que les mandas una oferta comercial de productos. Manuel compra 3 productos de 1000, 400 y 2000 euros mientras que Laura compra solo 1 producto de 1000. Comprueba el valor de los atributos edad , ahorros y target de ambos clientes.\n",
    "\n",
    "Documenta la clase con el estilo de Google"
   ]
  },
  {
   "cell_type": "code",
   "execution_count": 2,
   "metadata": {},
   "outputs": [
    {
     "name": "stdout",
     "output_type": "stream",
     "text": [
      "Felices 61 años!\n",
      "Felices 16 años!\n",
      "Ahorros de Manuel antes de la compra: 3000\n",
      "Ahorros de Manuel después de la compra: -400\n",
      "Estado de la fidelización de Manuel: No fidelizado\n",
      "Ahorros de Laura antes de la compra: 2000\n",
      "Ahorros de Laura después de la compra: 1000\n",
      "Estado de la fidelización de Laura: Fidelizado\n",
      "Edad de Manuel: 61, Altura de Manuel: 1.7, Ahorros de Manuel: -400\n",
      "Edad de Laura: 16, Altura de Laura: 1.7, Ahorros de Laura: 1000\n"
     ]
    }
   ],
   "source": [
    "class Cliente:\n",
    "    def __init__(self, ojos=2, altura=0.0, edad=0, ahorros=0.0, target=True, nombre=\"\"):\n",
    "        \"\"\"\n",
    "        Inicializa un nuevo cliente con los atributos proporcionados.\n",
    "\n",
    "        Args:\n",
    "            ojos (int): Número de ojos del cliente (por defecto 2).\n",
    "            altura (float): Altura del cliente en metros.\n",
    "            edad (int): Edad del cliente en años.\n",
    "            ahorros (float): Monto de ahorros del cliente en euros.\n",
    "            target (bool): Indica si el cliente es parte de la campaña de fidelización (por defecto True).\n",
    "            nombre (str): Nombre del cliente.\n",
    "        \"\"\"\n",
    "        self.mamífero = True  # Atributo general que indica si el cliente es mamífero\n",
    "        self.ojos = ojos\n",
    "        self.altura = altura\n",
    "        self.edad = edad\n",
    "        self.ahorros = ahorros\n",
    "        self.target = target\n",
    "        self.nombre = nombre\n",
    "\n",
    "    def cumplir_edad(self):\n",
    "        \"\"\"\n",
    "        Incrementa la edad del cliente en 1 año y si cumple 80 años, reduce su altura en un 10%.\n",
    "\n",
    "        Returns:\n",
    "            str: Un mensaje con la nueva edad del cliente.\n",
    "        \"\"\"\n",
    "        self.edad += 1  # Sumar 1 a la edad del cliente\n",
    "        if self.edad == 80:\n",
    "            self.altura *= 0.9  # Reducir altura en un 10% si cumple 80 años\n",
    "        return f\"Felices {self.edad} años!\"\n",
    "\n",
    "    def comprar(self, volumen_gasto):\n",
    "        \"\"\"\n",
    "        Actualiza los ahorros del cliente restando el volumen total de gasto.\n",
    "\n",
    "        Args:\n",
    "            volumen_gasto (list): Lista de gastos en euros que el cliente realiza.\n",
    "\n",
    "        Returns:\n",
    "            float: El monto de ahorros actualizado después de la compra.\n",
    "        \"\"\"\n",
    "        total_gasto = sum(volumen_gasto)  # Sumar el total del gasto\n",
    "        self.ahorros -= total_gasto  # Restar el total de gasto a los ahorros\n",
    "        if self.ahorros <= 0:\n",
    "            self.target = False  # Si los ahorros son 0 o menos, se desactiva el atributo target\n",
    "        return self.ahorros\n",
    "\n",
    "\n",
    "# Instanciando los clientes según las condiciones dadas\n",
    "\n",
    "# Supongamos que mi edad es 30 y mi altura es 1.80 metros\n",
    "mi_edad = 30\n",
    "mi_altura = 1.80\n",
    "\n",
    "# Crear cliente_1 (Manuel)\n",
    "cliente_1 = Cliente(altura=mi_altura - 0.1, edad=mi_edad * 2, ahorros=3000, target=True, nombre=\"Manuel\")\n",
    "\n",
    "# Crear cliente_2 (Laura)\n",
    "cliente_2 = Cliente(altura=cliente_1.altura, edad=mi_edad // 2, ahorros=2000, target=True, nombre=\"Laura\")\n",
    "\n",
    "# Cumplen años\n",
    "print(cliente_1.cumplir_edad())  # Manuel cumple un año más\n",
    "print(cliente_2.cumplir_edad())  # Laura cumple un año más\n",
    "\n",
    "# Realizan compras\n",
    "gasto_manuel = [1000, 400, 2000]  # Manuel compra 3 productos\n",
    "gasto_laura = [1000]  # Laura compra 1 producto\n",
    "\n",
    "print(f\"Ahorros de Manuel antes de la compra: {cliente_1.ahorros}\")\n",
    "cliente_1.comprar(gasto_manuel)\n",
    "print(f\"Ahorros de Manuel después de la compra: {cliente_1.ahorros}\")\n",
    "print(f\"Estado de la fidelización de Manuel: {'Fidelizado' if cliente_1.target else 'No fidelizado'}\")\n",
    "\n",
    "print(f\"Ahorros de Laura antes de la compra: {cliente_2.ahorros}\")\n",
    "cliente_2.comprar(gasto_laura)\n",
    "print(f\"Ahorros de Laura después de la compra: {cliente_2.ahorros}\")\n",
    "print(f\"Estado de la fidelización de Laura: {'Fidelizado' if cliente_2.target else 'No fidelizado'}\")\n",
    "\n",
    "# Ver el valor de los atributos\n",
    "print(f\"Edad de Manuel: {cliente_1.edad}, Altura de Manuel: {cliente_1.altura}, Ahorros de Manuel: {cliente_1.ahorros}\")\n",
    "print(f\"Edad de Laura: {cliente_2.edad}, Altura de Laura: {cliente_2.altura}, Ahorros de Laura: {cliente_2.ahorros}\")\n"
   ]
  },
  {
   "cell_type": "markdown",
   "metadata": {},
   "source": [
    "Desarrolla una función que reciba dos palabras cualesquiera y devuelva el número de letras que tienen en común.\n",
    "\n"
   ]
  },
  {
   "cell_type": "code",
   "execution_count": 3,
   "metadata": {},
   "outputs": [],
   "source": [
    "# PRIMERA FORMA Y COMPLICADA\n",
    "\n",
    "def reducirString(texto):\n",
    "    textoReducido = \"\"\n",
    "    for letra in texto:\n",
    "        if letra not in textoReducido:\n",
    "            textoReducido += letra\n",
    "\n",
    "    return textoReducido\n",
    "\n",
    "def stringc(s1, s2):\n",
    "    count=0\n",
    "    s1 = reducirString(s1)\n",
    "    s3 = reducirString(s2)\n",
    "    for s in s1:\n",
    "        for t in s2:\n",
    "            if s==t:\n",
    "                count+=1\n",
    "\n",
    "    return count"
   ]
  },
  {
   "cell_type": "code",
   "execution_count": 4,
   "metadata": {},
   "outputs": [
    {
     "data": {
      "text/plain": [
       "2"
      ]
     },
     "execution_count": 4,
     "metadata": {},
     "output_type": "execute_result"
    }
   ],
   "source": [
    "stringc('hola', 'ompa')"
   ]
  },
  {
   "cell_type": "code",
   "execution_count": 5,
   "metadata": {},
   "outputs": [
    {
     "data": {
      "text/plain": [
       "6"
      ]
     },
     "execution_count": 5,
     "metadata": {},
     "output_type": "execute_result"
    }
   ],
   "source": [
    "def letras_en_comun(palabra1,palabra2):\n",
    "    letras_en_comun=0\n",
    "    for letra in palabra1:\n",
    "        if letra in palabra2:\n",
    "            letras_en_comun =letras_en_comun+1\n",
    "    return letras_en_comun\n",
    "\n",
    "letras_en_comun('hola abcd','mola b')"
   ]
  },
  {
   "cell_type": "code",
   "execution_count": 6,
   "metadata": {},
   "outputs": [
    {
     "data": {
      "text/plain": [
       "1"
      ]
     },
     "execution_count": 6,
     "metadata": {},
     "output_type": "execute_result"
    }
   ],
   "source": [
    "def ejercicio_1():\n",
    "    palabra_1 = input('Primera palabra')\n",
    "    palabra_2 = input('Segunda palabra')\n",
    "\n",
    "    letras_en_comun = 0\n",
    "    for letra in set(palabra_1.lower()):\n",
    "\n",
    "        if letra in palabra_2.lower():\n",
    "            letras_en_comun = letras_en_comun +1\n",
    "    \n",
    "    return letras_en_comun\n",
    "ejercicio_1()"
   ]
  },
  {
   "cell_type": "markdown",
   "metadata": {},
   "source": [
    "Un número primo es aquel número que solo es divisible por 1 y por si mismo (2,3,5,7,11,13,...). Define una función que pida al usuario un número natural mayor que 2 y devuelva si se trata de un número primo o no."
   ]
  },
  {
   "cell_type": "code",
   "execution_count": 7,
   "metadata": {},
   "outputs": [
    {
     "name": "stdout",
     "output_type": "stream",
     "text": [
      "Es primo\n"
     ]
    },
    {
     "data": {
      "text/plain": [
       "True"
      ]
     },
     "execution_count": 7,
     "metadata": {},
     "output_type": "execute_result"
    }
   ],
   "source": [
    "def es_primo():\n",
    "    num = int(input('Indroduzca un número entero '))\n",
    "    for n in range(2, num):\n",
    "        if num % n == 0:\n",
    "            print(\"No es primo\", n, \"es divisor\")\n",
    "            return False\n",
    "    print(\"Es primo\")\n",
    "    return True\n",
    "\n",
    "es_primo()"
   ]
  }
 ],
 "metadata": {
  "kernelspec": {
   "display_name": "Python 3",
   "language": "python",
   "name": "python3"
  },
  "language_info": {
   "codemirror_mode": {
    "name": "ipython",
    "version": 3
   },
   "file_extension": ".py",
   "mimetype": "text/x-python",
   "name": "python",
   "nbconvert_exporter": "python",
   "pygments_lexer": "ipython3",
   "version": "3.11.9"
  }
 },
 "nbformat": 4,
 "nbformat_minor": 4
}
