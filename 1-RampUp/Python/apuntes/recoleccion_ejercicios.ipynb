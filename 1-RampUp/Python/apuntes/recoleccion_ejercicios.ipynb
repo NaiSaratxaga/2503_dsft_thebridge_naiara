{
 "cells": [
  {
   "cell_type": "markdown",
   "metadata": {},
   "source": [
    "## Recolección ejercicios"
   ]
  },
  {
   "cell_type": "markdown",
   "metadata": {},
   "source": [
    "-----------"
   ]
  },
  {
   "cell_type": "markdown",
   "metadata": {},
   "source": [
    "### Basics"
   ]
  },
  {
   "cell_type": "code",
   "execution_count": 23,
   "metadata": {},
   "outputs": [
    {
     "name": "stdout",
     "output_type": "stream",
     "text": [
      "Redondeo a 3 decimales: 63.451\n"
     ]
    }
   ],
   "source": [
    "#Redondea este float a 3 dígitos decimales: 63.451256965\n",
    "redondeo = round(63.451256965, 3)\n",
    "print(\"Redondeo a 3 decimales:\", redondeo) "
   ]
  },
  {
   "cell_type": "code",
   "execution_count": 24,
   "metadata": {},
   "outputs": [
    {
     "name": "stdout",
     "output_type": "stream",
     "text": [
      "[4, 6, 8]\n",
      "[4, 6, 8, 10]\n",
      "28\n",
      "[4, 8, 10]\n",
      "[4, 8, 12, 10]\n",
      "[4, 8, 12, 10, 2, 4, 6, 8]\n"
     ]
    }
   ],
   "source": [
    "#1 Crea una lista con 3 elementos numéricos\n",
    "lista_elementos = [4, 6, 8]\n",
    "print(lista_elementos)\n",
    "\n",
    "#2. Añade un cuarto elemento\n",
    "lista_elementos.append(10)\n",
    "print(lista_elementos)\n",
    "\n",
    "#3. Calcula la suma de todos\n",
    "suma = sum(lista_elementos)\n",
    "print(suma)\n",
    "\n",
    "#4. Elimina el segundo elemento de la lista\n",
    "del lista_elementos[1]\t\n",
    "print(lista_elementos)\n",
    "\n",
    "#5. Añade otro elemento en la posicion 3 de la lista\n",
    "lista_elementos.insert(2, 12)\n",
    "print(lista_elementos)\n",
    "\n",
    "#6. Crea otra lista con 4 elementos y concaténala a la que ya tenías.\n",
    "lista_elementos2 = [2, 4, 6, 8]\n",
    "lista_elementos.extend(lista_elementos2)\n",
    "print(lista_elementos)"
   ]
  },
  {
   "cell_type": "markdown",
   "metadata": {},
   "source": [
    "------\n",
    "Escribe un programa que tenga dos variables: un numero, y una lista numérica. El programa debe recorrer la lista e imprimir por pantalla cada elemento de la lista multiplicado por el número"
   ]
  },
  {
   "cell_type": "code",
   "execution_count": 25,
   "metadata": {},
   "outputs": [
    {
     "name": "stdout",
     "output_type": "stream",
     "text": [
      "10\n",
      "20\n",
      "30\n",
      "40\n",
      "50\n"
     ]
    }
   ],
   "source": [
    "#creamos uan variable llamada var_numero y le asignamos el valor 10 que será el que multiplicará a los valores de la lista  \n",
    "#creamos una lista llamada lista_numeros con los valores 1, 2, 3, 4, 5\n",
    "var_numero = 10\n",
    "lista_numeros = [1, 2, 3, 4, 5]\n",
    "\n",
    "#Recorremos la lista con un bucle for y multiplicamos cada valor de la lista por var_numero\n",
    "for i in range(len(lista_numeros)):\n",
    "    print(lista_numeros[i] * var_numero)  # Multiplica y muestra el resultado\n"
   ]
  },
  {
   "cell_type": "markdown",
   "metadata": {},
   "source": [
    "Imprime por pantalla cada número del -10 al -1. En ese orden. Consulta [la documentación](https://www.w3schools.com/python/ref_func_range.asp) de `range`"
   ]
  },
  {
   "cell_type": "code",
   "execution_count": 26,
   "metadata": {},
   "outputs": [
    {
     "data": {
      "text/plain": [
       "[-10, -9, -8, -7, -6, -5, -4, -3, -2, -1]"
      ]
     },
     "execution_count": 26,
     "metadata": {},
     "output_type": "execute_result"
    }
   ],
   "source": [
    "list(range(-10, 0))"
   ]
  },
  {
   "cell_type": "markdown",
   "metadata": {},
   "source": [
    "Dada la siguiente lista:\n",
    "\n",
    "> list1 = [12, 15, 32, 42, 55, 75, 122, 132, 150, 180, 200]\n",
    "\n",
    "Implementa un programa que los recorra e imprima por pantalla todos los divisibles por 5. Si nos encontramos con alguno que sea mayor que 150, detener el bucle."
   ]
  },
  {
   "cell_type": "code",
   "execution_count": 27,
   "metadata": {},
   "outputs": [
    {
     "name": "stdout",
     "output_type": "stream",
     "text": [
      "15 es un número divisible por 5\n",
      "55 es un número divisible por 5\n",
      "75 es un número divisible por 5\n",
      "150 es un número divisible por 5\n"
     ]
    }
   ],
   "source": [
    "lista = [12, 15, 32, 42, 55, 75, 122, 132, 150, 180, 200]\n",
    "#Recorremos la lista con un bucle for y comprobamos si el número es divisible por 5\n",
    "#si es así, mostramos un mensaje indicando que el número es divisible por 5\n",
    "#El operador módulo % es el que se usa para verificar si un número es divisible por otro.\n",
    "for i in lista:\n",
    "    if i % 5 == 0:\n",
    "        print(i, \"es un número divisible por 5\" )\n",
    "    if i >= 150:\n",
    "        break"
   ]
  },
  {
   "cell_type": "markdown",
   "metadata": {},
   "source": [
    "Escribe un programa en Python que imprima por pantalla todos los números que cumplan que sean divisibles por 5 y divisibles por 7, dentro del rango de valores (150, 350)."
   ]
  },
  {
   "cell_type": "code",
   "execution_count": 28,
   "metadata": {},
   "outputs": [
    {
     "name": "stdout",
     "output_type": "stream",
     "text": [
      "175 es un número divisible por 5 y por 7\n",
      "210 es un número divisible por 5 y por 7\n",
      "245 es un número divisible por 5 y por 7\n",
      "280 es un número divisible por 5 y por 7\n",
      "315 es un número divisible por 5 y por 7\n",
      "350 es un número divisible por 5 y por 7\n"
     ]
    }
   ],
   "source": [
    "#Usaremos range que genera números en el intervalo de 150 a 350.\n",
    "#Recorremos la lista con un bucle for y comprobamos si el número es divisible por 5 y por 7\n",
    "#con el operador módulo %, si es así, mostramos un mensaje indicando que el número es divisible por 5 y por 7\n",
    "\n",
    "for i in range(150, 351):\n",
    "    if i % 5 == 0 and i % 7 == 0:\n",
    "        print(i, \"es un número divisible por 5 y por 7\" )"
   ]
  },
  {
   "cell_type": "markdown",
   "metadata": {},
   "source": [
    "### Ejercicio 1 (1 punto)\n",
    "En este ejercicio se va a crear una lista con los siguientes elementos. Primero, crearemos las variables que luego añadiremos a la lista. Las variables son las siguientes:\n",
    "\n",
    "1. Crea una variable llamada `dia` de tipo Integer que sea el día del mes. \n",
    "2. Crea una variable llamada `campus` de tipo String , con la ciudad donde está tu campus de The Bridge. \n",
    "3. Crea una variable llamada `altura` con el valor de tu altura en metros de tipo float.\n",
    "4. Crea una variable llamada `s_operativo` de tipo Boolean True si usas Windows y False si usas otro.\n",
    "5. Crea una variable llamada `nada` de tipo None cuyo valor sea None.\n",
    "6. Crea una variable llamada `lista_comidas` de tipo List que contenga 5 platos de comida. Cada elemento ha de ser de tipo String.\n",
    "7. Crea una variable llamada `tupla_cubiertos` de tipo Tuple con tres cubiertos que deben ser de tipo String cada uno.\n",
    "8. Crea una variable llamada `dict_discord`. Una key es `nombre`, teniendo como value el nombre de usuario en discord de tipo String. Otra key es la `room`, cuyo valor es un entero del número de la sala en la que te encuentras haciendo el examen.\n",
    "9. Añade todos estas variables en una lista llamada `lista_examen` en el orden del enunciado.\n",
    "10. Imprime por pantalla con un bucle for, el tipo de cada elemento de `lista_examen`."
   ]
  },
  {
   "cell_type": "code",
   "execution_count": 29,
   "metadata": {},
   "outputs": [
    {
     "name": "stdout",
     "output_type": "stream",
     "text": [
      "Elemento: 13 - Tipo: <class 'int'>\n",
      "Elemento: Madrid - Tipo: <class 'str'>\n",
      "Elemento: 1.75 - Tipo: <class 'float'>\n",
      "Elemento: True - Tipo: <class 'bool'>\n",
      "Elemento: None - Tipo: <class 'NoneType'>\n",
      "Elemento: ['Pizza', 'Sushi', 'Paella', 'Hamburguesa', 'Tacos'] - Tipo: <class 'list'>\n",
      "Elemento: ('Cuchillo', 'Tenedor', 'Cucharita') - Tipo: <class 'tuple'>\n",
      "Elemento: {'nombre': 'usuario123', 'room': 5} - Tipo: <class 'dict'>\n"
     ]
    }
   ],
   "source": [
    "# 1. Variable día (Integer)\n",
    "dia = 13\n",
    "\n",
    "# 2. Variable campus (String)\n",
    "campus = \"Madrid\"\n",
    "\n",
    "# 3. Variable altura (Float)\n",
    "altura = 1.75\n",
    "\n",
    "# 4. Variable s_operativo (Boolean)\n",
    "s_operativo = True  # Si usas Windows es True, si usas otro sistema es False\n",
    "\n",
    "# 5. Variable nada (None)\n",
    "nada = None\n",
    "\n",
    "# 6. Variable lista_comidas (List de Strings)\n",
    "lista_comidas = [\"Pizza\", \"Sushi\", \"Paella\", \"Hamburguesa\", \"Tacos\"]\n",
    "\n",
    "# 7. Variable tupla_cubiertos (Tuple de Strings)\n",
    "tupla_cubiertos = (\"Cuchillo\", \"Tenedor\", \"Cucharita\")\n",
    "\n",
    "# 8. Variable dict_discord (Dictionary)\n",
    "dict_discord = {\"nombre\": \"usuario123\", \"room\": 5}\n",
    "\n",
    "# 9. Lista final (lista_examen)\n",
    "lista_examen = [dia, campus, altura, s_operativo, nada, lista_comidas, tupla_cubiertos, dict_discord]\n",
    "\n",
    "# 10. Imprimir el tipo de cada elemento de la lista\n",
    "for elemento in lista_examen:\n",
    "    print(f'Elemento: {elemento} - Tipo: {type(elemento)}')\n"
   ]
  },
  {
   "cell_type": "markdown",
   "metadata": {},
   "source": [
    "### Ejercicio 2 (2 puntos)\n",
    "\n",
    "Para resolver este ejercicio necesitarás la lista del ejercicio anterior (`lista_examen`). Se recomienda leer cada punto hasta el final antes de resolver el ejercicio.\n",
    "\n",
    "Se repite para que quede aún más claro: **SOLO USAR LA VARIABLE** `lista_examen`. Usar otra variable se calificará como error.  "
   ]
  },
  {
   "cell_type": "markdown",
   "metadata": {},
   "source": [
    "1. Guardar en las variables que aparecen como `res2x`, lo siguiente: (0.5)\n",
    "    - `res21` El tercer cubierto.\n",
    "    - `res22` La penúltima comida.\n",
    "    - `res23` Una lista del segundo al quinto elemento incluidos ambos.\n",
    "    - `res24` Una tupla con los valores del diccionario de discord.\n",
    "    - `res25` Los 4 primeros caracteres del valor del nombre de tu discord.\n"
   ]
  },
  {
   "cell_type": "code",
   "execution_count": 35,
   "metadata": {},
   "outputs": [
    {
     "name": "stdout",
     "output_type": "stream",
     "text": [
      "('Cuchillo', 'Tenedor', 'Cucharita')\n"
     ]
    }
   ],
   "source": [
    "lista_examen = [dia, campus, altura, s_operativo, nada, lista_comidas, tupla_cubiertos, dict_discord]\n",
    "\n",
    "res21 = lista_examen[6]\n",
    "print(res21)"
   ]
  },
  {
   "cell_type": "markdown",
   "metadata": {},
   "source": [
    "    \n",
    "2. Mostrar por pantalla, con uso de un bucle `for`. (0.75)\n",
    "    - Las posiciones y elementos de `lista_examen` de las posiciones impares.\n",
    "    - Los elementos que se encuentran dentro de las colecciones ordenadas de `lista_examen`."
   ]
  },
  {
   "cell_type": "code",
   "execution_count": null,
   "metadata": {},
   "outputs": [],
   "source": []
  },
  {
   "cell_type": "markdown",
   "metadata": {},
   "source": [
    "3. Con uso del bucle `while`, borra los platos de comida por el final hasta que tengas 2 platos, y guarda esos platos borrados en una nueva lista `platos_borrados` (0.75)"
   ]
  },
  {
   "cell_type": "code",
   "execution_count": null,
   "metadata": {},
   "outputs": [],
   "source": []
  },
  {
   "cell_type": "markdown",
   "metadata": {},
   "source": [
    "### Ejercicio 3 (2 puntos)\n",
    "\n",
    "Dado el siguiente diccionario: \n",
    "\n",
    "```python\n",
    "paises = {\n",
    "    \"España\": {\n",
    "        \"capital\": \"Madrid\",\n",
    "        \"superficie\": 505992,\n",
    "        \"habitantes\": 46733038,\n",
    "        \"PIB\": 1478.02\n",
    "    },\n",
    "    \"Francia\": {\n",
    "        \"capital\": \"París\",\n",
    "        \"superficie\": 551695,\n",
    "        \"habitantes\": 67237407,\n",
    "        \"PIB\": 2826.29\n",
    "    },\n",
    "    \"Italia\": {\n",
    "        \"capital\": \"Roma\",\n",
    "        \"superficie\": 301340,\n",
    "        \"habitantes\": 60359546,\n",
    "        \"PIB\": 2099.32 \n",
    "    },\n",
    "    \"Portugal\": {\n",
    "        \"capital\": \"Lisboa\",\n",
    "        \"superficie\": 92212,\n",
    "        \"habitantes\": 10305564,\n",
    "        \"PIB\": 248.89\n",
    "    }\n",
    "}\n",
    "```"
   ]
  },
  {
   "cell_type": "markdown",
   "metadata": {},
   "source": [
    "1. Crea una función llamada `obtener_dato()` con tres argumentos de entrada, el diccionario `paises`, un string llamado `pais` y un string llamado `metrica`. Deberán devolver el valor correspondiente del diccionario. Documéntala"
   ]
  },
  {
   "cell_type": "code",
   "execution_count": null,
   "metadata": {},
   "outputs": [],
   "source": []
  },
  {
   "cell_type": "markdown",
   "metadata": {},
   "source": [
    "2. Obtén mediante la función los valores de población de Portugal y España. Súmalos y guárdalos en una variable nueva llamada `poblacion_peninsula`"
   ]
  },
  {
   "cell_type": "code",
   "execution_count": null,
   "metadata": {},
   "outputs": [],
   "source": []
  },
  {
   "cell_type": "markdown",
   "metadata": {},
   "source": [
    "3. Crea una nueva función llamada `añadir_metrica()` con 3 argumentos de entrada, el diccionario `paises`, un string llamado `pais` que por defecto tendrá el valor de `España` y un string llamado `metrica` que con el nombre de la métrica a añadir. Deberá retornar el diccionario completo, con una nueva métrica añadida en el mismo nivel del resto, llamada `PIB_por_h`, con el valor del PIB por cada habitante redondeado con un decimal. Deberá devolver el diccionario completo con la modificación realizada. Documéntala."
   ]
  },
  {
   "cell_type": "code",
   "execution_count": null,
   "metadata": {},
   "outputs": [],
   "source": []
  },
  {
   "cell_type": "markdown",
   "metadata": {},
   "source": [
    "4. Utiliza la función `añadir_metrica()`, para Italia y España. Guarda el diccionario en una nueva variable llamada `paises_actualizado`."
   ]
  },
  {
   "cell_type": "code",
   "execution_count": null,
   "metadata": {},
   "outputs": [],
   "source": []
  },
  {
   "cell_type": "markdown",
   "metadata": {},
   "source": [
    "### Ejercicio 4 (2 puntos)\n",
    "\n",
    "Crea una clase llamada `Movil()`. Todos los móviles tendran:\n",
    "* Batería (bool) = True\n",
    "\n",
    "El resto de atributos serán particulares:\n",
    "* marca (str)\n",
    "* carga (float): porcentaje de batería de 0 a 100, por defecto 50.0\n",
    "* camara (int) : Nº de megapixels\n",
    "* memoria (int): Nº de fotos totales que se pueden almacenar\n",
    "\n",
    "1. Deberás crear el método de `cargar()`, lo que hará será incrementar la batería un 30%. Si llega al 100% no aumentará más y devolverá un mensaje de `Batería cargada`. Deberá devolver el estado de la batería tras cargar.\n",
    "2. Deberás crear el método de `hacer_foto()`, con un argumento de entrada llamado `n_fotos` de tipo entero que será el número de fotos a realizar. Cada una de esas fotos, ocuparán memoria, por lo que deberá actualizar su atributo. Deberá devolver la memoria restante, y en caso de que se quede sin memoria, se realizarán las fotos que se puedan almacenar y devolverá por pantalla `Memoria insuficiente` junto con el número de fotos que se han quedado en cola sin realizar. Documenta la clase"
   ]
  },
  {
   "cell_type": "code",
   "execution_count": null,
   "metadata": {},
   "outputs": [],
   "source": []
  },
  {
   "cell_type": "markdown",
   "metadata": {},
   "source": [
    "\n",
    "3. Crea 3 objetos a partir de la clase, un \"Samsung\" con un 45,5% de carga, un \"Xiaomi\" y un \"Apple\". Todos ellos tendrán 1000 de memoria, menos el Apple que tendrá 500.\n"
   ]
  },
  {
   "cell_type": "code",
   "execution_count": null,
   "metadata": {},
   "outputs": [],
   "source": []
  },
  {
   "cell_type": "markdown",
   "metadata": {},
   "source": [
    "4. Carga los 3 móviles hasta que muestre el mensaje de que la batería está cargada y muestra por pantalla su batería. Realiza 800 fotos con los 3 móviles utilizando un `input()` y comprueba el atributo de memoria."
   ]
  },
  {
   "cell_type": "code",
   "execution_count": null,
   "metadata": {},
   "outputs": [],
   "source": []
  },
  {
   "cell_type": "markdown",
   "metadata": {},
   "source": []
  },
  {
   "cell_type": "markdown",
   "metadata": {},
   "source": [
    "### Ejercicio 5\n",
    "\n",
    "Ejercicio estilo la calculadora o la biblioteca que hemos hecho en clase"
   ]
  },
  {
   "cell_type": "markdown",
   "metadata": {},
   "source": [
    "# Ejercicio BONUS"
   ]
  }
 ],
 "metadata": {
  "kernelspec": {
   "display_name": "Python 3",
   "language": "python",
   "name": "python3"
  },
  "language_info": {
   "codemirror_mode": {
    "name": "ipython",
    "version": 3
   },
   "file_extension": ".py",
   "mimetype": "text/x-python",
   "name": "python",
   "nbconvert_exporter": "python",
   "pygments_lexer": "ipython3",
   "version": "3.11.9"
  }
 },
 "nbformat": 4,
 "nbformat_minor": 4
}
