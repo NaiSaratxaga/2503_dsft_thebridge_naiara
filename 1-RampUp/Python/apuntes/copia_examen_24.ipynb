{
 "cells": [
  {
   "cell_type": "markdown",
   "metadata": {},
   "source": [
    "Copia Examen"
   ]
  },
  {
   "cell_type": "code",
   "execution_count": 6,
   "metadata": {},
   "outputs": [],
   "source": [
    "# Escribe tu nombre y apellidos (apellido si solo tienes uno) en las variables:\n",
    "nombre = \"Naiara\"\n",
    "apellidos = \"Saratxaga Goffard\""
   ]
  },
  {
   "cell_type": "code",
   "execution_count": 7,
   "metadata": {},
   "outputs": [
    {
     "name": "stdout",
     "output_type": "stream",
     "text": [
      "Bienvenido Naiara Saratxaga Goffard. Mucha suerte!\n"
     ]
    }
   ],
   "source": [
    "# Solo ejecutar\n",
    "nombre_apellidos = nombre + ' ' + apellidos\n",
    "print(\"Bienvenido\", nombre_apellidos + '. Mucha suerte!')"
   ]
  },
  {
   "cell_type": "code",
   "execution_count": 8,
   "metadata": {},
   "outputs": [
    {
     "name": "stdout",
     "output_type": "stream",
     "text": [
      "Antes de comenzar, cambia el nombre de este archivo notebook a Naiara_Saratxaga_Goffard.ipynb\n"
     ]
    }
   ],
   "source": [
    "# Solo ejecutar\n",
    "print('Antes de comenzar, cambia el nombre de este archivo notebook a', nombre_apellidos.replace(' ','_') + '.ipynb')"
   ]
  },
  {
   "cell_type": "code",
   "execution_count": 9,
   "metadata": {},
   "outputs": [],
   "source": [
    "# No te olvides de documentar el código para dejar clara la lógica, sobre todo cuando no sale el resultado"
   ]
  },
  {
   "cell_type": "markdown",
   "metadata": {},
   "source": [
    "-----------"
   ]
  },
  {
   "cell_type": "markdown",
   "metadata": {},
   "source": [
    "### Ejercicio 1 (1 punto)\n",
    "En este ejercicio se va a crear una lista con los siguientes elementos. Primero, crearemos las variables que luego añadiremos a la lista. Las variables son las siguientes:\n",
    "\n",
    "1. Crea una variable llamada `dia` de tipo Integer que sea el día del mes. \n",
    "2. Crea una variable llamada `campus` de tipo String , con la ciudad donde está tu campus de The Bridge. \n",
    "3. Crea una variable llamada `altura` con el valor de tu altura en metros de tipo float.\n",
    "4. Crea una variable llamada `s_operativo` de tipo Boolean True si usas Windows y False si usas otro.\n",
    "5. Crea una variable llamada `nada` de tipo None cuyo valor sea None.\n",
    "6. Crea una variable llamada `lista_comidas` de tipo List que contenga 5 platos de comida. Cada elemento ha de ser de tipo String.\n",
    "7. Crea una variable llamada `tupla_cubiertos` de tipo Tuple con tres cubiertos que deben ser de tipo String cada uno.\n",
    "8. Crea una variable llamada `dict_discord`. Una key es `nombre`, teniendo como value el nombre de usuario en discord de tipo String. Otra key es la `room`, cuyo valor es un entero del número de la sala en la que te encuentras haciendo el examen.\n",
    "9. Añade todos estas variables en una lista llamada `lista_examen` en el orden del enunciado.\n",
    "10. Imprime por pantalla con un bucle for, el tipo de cada elemento de `lista_examen`."
   ]
  },
  {
   "cell_type": "code",
   "execution_count": 10,
   "metadata": {},
   "outputs": [
    {
     "name": "stdout",
     "output_type": "stream",
     "text": [
      "<class 'int'>\n",
      "<class 'str'>\n",
      "<class 'float'>\n",
      "<class 'bool'>\n",
      "<class 'NoneType'>\n",
      "<class 'list'>\n",
      "<class 'tuple'>\n",
      "<class 'dict'>\n"
     ]
    }
   ],
   "source": [
    "\n",
    "#1-  Crea una variable llamada día de tipo Integer\n",
    "dia = 3\n",
    "\n",
    "#2- Variable de tipo String\n",
    "campus = \"Bilbao\"\n",
    "\n",
    "#3- cariable altura tipo float\n",
    "altura = 1.70\n",
    "\n",
    "#4- variable tipo bool\n",
    "s_operativo = True\n",
    "\n",
    "#5- variable tipo None\n",
    "nada = None\n",
    "\n",
    "#6- variable tipo list\n",
    "lista_comida = [\"pasta\", \"ensalada\", \"pizza\", \"pescado\", \"carne\"]\n",
    "\n",
    "#7- variable de tipo tupla\n",
    "tupla_cubiertos = (\"Cuchar\", \"Tenedor\", \"Cuchillo\")\n",
    "\n",
    "#8- variable diccionario, con clave y valor\n",
    "dict_discord = {\n",
    "    \"nombre\": \"usuario_discord\", \n",
    "    \"room\": 5 \n",
    "}\n",
    "\n",
    "#9- añadir todo a lista examen\n",
    "lista_examen = [dia, campus, altura, s_operativo, nada, lista_comida, tupla_cubiertos, dict_discord]\n",
    "\n",
    "#10 bucle for\n",
    "for elemento in lista_examen:\n",
    "    print(type(elemento))"
   ]
  },
  {
   "cell_type": "markdown",
   "metadata": {},
   "source": [
    "### Ejercicio 2 (2 puntos)\n",
    "\n",
    "Para resolver este ejercicio necesitarás la lista del ejercicio anterior (`lista_examen`). Se recomienda leer cada punto hasta el final antes de resolver el ejercicio.\n",
    "\n",
    "Se repite para que quede aún más claro: **SOLO USAR LA VARIABLE** `lista_examen`. Usar otra variable se calificará como error.  "
   ]
  },
  {
   "cell_type": "markdown",
   "metadata": {},
   "source": [
    "1. Guardar en las variables que aparecen como `res2x`, lo siguiente: (0.5)\n",
    "    - `res21` El tercer cubierto.\n",
    "    - `res22` La penúltima comida.\n",
    "    - `res23` Una lista del segundo al quinto elemento incluidos ambos.\n",
    "    - `res24` Una tupla con los valores del diccionario de discord.\n",
    "    - `res25` Los 4 primeros caracteres del valor del nombre de tu discord.\n"
   ]
  },
  {
   "cell_type": "code",
   "execution_count": 17,
   "metadata": {},
   "outputs": [
    {
     "name": "stdout",
     "output_type": "stream",
     "text": [
      "Cuchillo\n",
      "pescado\n",
      "['Bilbao', 1.7, True, None]\n",
      "('usuario_discord', 5)\n",
      "usua\n"
     ]
    }
   ],
   "source": [
    "lista_examen = [dia, campus, altura, s_operativo, nada, lista_comida, tupla_cubiertos, dict_discord]\n",
    "\n",
    "#1.1 Guardar en variable res2x, sacamos el elemeto con el indice 2\n",
    "res21 = lista_examen[6][2]  # El tercer cubierto\n",
    "print(res21)\n",
    "\n",
    "#1.2 Penúltima comida\n",
    "res22 = lista_examen[5][-2]\n",
    "print(res22)\n",
    "\n",
    "#1.3 Lista del 2 elemento al 5 incluidos ambos \n",
    "res23 = lista_examen[1:5]\n",
    "print(res23)\n",
    "\n",
    "#1.4 Una tupla con los valores del diccionario discord\n",
    "res24 = tuple(lista_examen[7].values()) \n",
    "print(res24)\n",
    "\n",
    "#1.5 Los 4 primeros caracteres del valor del nombre\n",
    "res25 = lista_examen[7][\"nombre\"][:4] \n",
    "print(res25)\n",
    "\n"
   ]
  },
  {
   "cell_type": "markdown",
   "metadata": {},
   "source": [
    "    \n",
    "2. Mostrar por pantalla, con uso de un bucle `for`. (0.75)\n",
    "    - Las posiciones y elementos de `lista_examen` de las posiciones impares.\n",
    "    - Los elementos que se encuentran dentro de las colecciones ordenadas de `lista_examen`."
   ]
  },
  {
   "cell_type": "code",
   "execution_count": 1,
   "metadata": {},
   "outputs": [
    {
     "ename": "SyntaxError",
     "evalue": "invalid syntax. Perhaps you forgot a comma? (2816671292.py, line 12)",
     "output_type": "error",
     "traceback": [
      "  \u001b[36mCell\u001b[39m\u001b[36m \u001b[39m\u001b[32mIn[1]\u001b[39m\u001b[32m, line 12\u001b[39m\n\u001b[31m    \u001b[39m\u001b[31mfor i in range(2, len(lista_examen)1):\u001b[39m\n                      ^\n\u001b[31mSyntaxError\u001b[39m\u001b[31m:\u001b[39m invalid syntax. Perhaps you forgot a comma?\n"
     ]
    }
   ],
   "source": [
    "# Mostrar posiciones y elementos de lista_examen en posiciones impares\n",
    "print(\"Elementos en posiciones impares:\")\n",
    "#step = 2 → Avanza de dos en dos, es decir, recorrerá los índices 1, 3, 5, 7,\n",
    "for i in range(1, len(lista_examen), 2):\n",
    "\n",
    "    print(f\"Posición {i}: {lista_examen[i]}\")\n",
    "\n",
    "print()\n",
    "\n",
    "# Mostrar elementos dentro de las colecciones ordenadas (listas y tuplas)\n",
    "print(\"Elementos dentro de las colecciones ordenadas:\")\n",
    "for i in range(2, len(lista_examen)1):\n",
    "\n",
    "    print(f\"Posición {i}: {lista_examen[i]}\")\n",
    "    "
   ]
  },
  {
   "cell_type": "markdown",
   "metadata": {},
   "source": [
    "3. Con uso del bucle `while`, borra los platos de comida por el final hasta que tengas 2 platos, y guarda esos platos borrados en una nueva lista `platos_borrados` (0.75)"
   ]
  },
  {
   "cell_type": "code",
   "execution_count": null,
   "metadata": {},
   "outputs": [
    {
     "name": "stdout",
     "output_type": "stream",
     "text": [
      "\n",
      "Platos restantes: ['pasta', 'ensalada']\n",
      "Platos borrados: ['carne', 'pescado', 'pizza']\n"
     ]
    }
   ],
   "source": [
    "# Borrar platos de comida hasta que queden 2 y guardarlos en platos_borrados\n",
    "platos_borrados = []\n",
    "while len(lista_examen[5]) > 2:\n",
    "    platos_borrados.append(lista_examen[5].pop())\n",
    "\n",
    "print(\"Platos restantes:\", lista_examen[5])\n",
    "print(\"Platos borrados:\", platos_borrados)\n",
    "    "
   ]
  },
  {
   "cell_type": "markdown",
   "metadata": {},
   "source": [
    "### Ejercicio 3 (2 puntos)\n",
    "\n",
    "Dado el siguiente diccionario: \n",
    "\n",
    "```python\n",
    "paises = {\n",
    "    \"España\": {\n",
    "        \"capital\": \"Madrid\",\n",
    "        \"superficie\": 505992,\n",
    "        \"habitantes\": 46733038,\n",
    "        \"PIB\": 1478.02\n",
    "    },\n",
    "    \"Francia\": {\n",
    "        \"capital\": \"París\",\n",
    "        \"superficie\": 551695,\n",
    "        \"habitantes\": 67237407,\n",
    "        \"PIB\": 2826.29\n",
    "    },\n",
    "    \"Italia\": {\n",
    "        \"capital\": \"Roma\",\n",
    "        \"superficie\": 301340,\n",
    "        \"habitantes\": 60359546,\n",
    "        \"PIB\": 2099.32 \n",
    "    },\n",
    "    \"Portugal\": {\n",
    "        \"capital\": \"Lisboa\",\n",
    "        \"superficie\": 92212,\n",
    "        \"habitantes\": 10305564,\n",
    "        \"PIB\": 248.89\n",
    "    }\n",
    "}\n",
    "```"
   ]
  },
  {
   "cell_type": "markdown",
   "metadata": {},
   "source": [
    "1. Crea una función llamada `obtener_dato()` con tres argumentos de entrada, el diccionario `paises`, un string llamado `pais` y un string llamado `metrica`. Deberán devolver el valor correspondiente del diccionario. Documéntala"
   ]
  },
  {
   "cell_type": "code",
   "execution_count": null,
   "metadata": {},
   "outputs": [
    {
     "name": "stdout",
     "output_type": "stream",
     "text": [
      "\n",
      "    Función para obtener un valor específico de un diccionario de países.\n",
      "    \n",
      "    Parámetros:\n",
      "    paises (dict): Diccionario con información de países.\n",
      "    pais (str): Nombre del país a consultar.\n",
      "    metrica (str): Métrica específica a obtener (capital, superficie, habitantes, PIB).\n",
      "    \n",
      "    Retorna:\n",
      "    El valor correspondiente a la métrica solicitada o un mensaje de error si no existe.\n",
      "    \n",
      "Capital de España: Madrid\n",
      "Superficie de Francia: 551695\n",
      "PIB de Italia: 2099.32\n",
      "Habitantes de Portugal: 10305564\n",
      "Capital de Alemania: Dato no encontrado\n",
      "Idioma de España: Dato no encontrado\n"
     ]
    }
   ],
   "source": [
    "# Diccionario de países\n",
    "paises = {\n",
    "    \"España\": {\n",
    "        \"capital\": \"Madrid\",\n",
    "        \"superficie\": 505992,\n",
    "        \"habitantes\": 46733038,\n",
    "        \"PIB\": 1478.02\n",
    "    },\n",
    "    \"Francia\": {\n",
    "        \"capital\": \"París\",\n",
    "        \"superficie\": 551695,\n",
    "        \"habitantes\": 67237407,\n",
    "        \"PIB\": 2826.29\n",
    "    },\n",
    "    \"Italia\": {\n",
    "        \"capital\": \"Roma\",\n",
    "        \"superficie\": 301340,\n",
    "        \"habitantes\": 60359546,\n",
    "        \"PIB\": 2099.32 \n",
    "    },\n",
    "    \"Portugal\": {\n",
    "        \"capital\": \"Lisboa\",\n",
    "        \"superficie\": 92212,\n",
    "        \"habitantes\": 10305564,\n",
    "        \"PIB\": 248.89\n",
    "    }\n",
    "}\n",
    "\n",
    "# Definir la función obtener_dato\n",
    "def obtener_dato(paises, pais, metrica):\n",
    "    \"\"\"\n",
    "    Función para obtener un valor específico de un diccionario de países.\n",
    "    \n",
    "    Parámetros:\n",
    "    paises (dict): Diccionario con información de países.\n",
    "    pais (str): Nombre del país a consultar.\n",
    "    metrica (str): Métrica específica a obtener (capital, superficie, habitantes, PIB).\n",
    "    \n",
    "    Retorna:\n",
    "    El valor correspondiente a la métrica solicitada o un mensaje de error si no existe.\n",
    "    \"\"\"\n",
    "    return paises.get(pais, {}).get(metrica, \"Dato no encontrado\")\n",
    "\n",
    "# Imprimir la documentación de la función\n",
    "print(obtener_dato.__doc__)\n",
    "\n",
    "# Llamadas a la función con ejemplos\n",
    "print(\"Capital de España:\", obtener_dato(paises, \"España\", \"capital\"))\n",
    "print(\"Superficie de Francia:\", obtener_dato(paises, \"Francia\", \"superficie\"))\n",
    "print(\"PIB de Italia:\", obtener_dato(paises, \"Italia\", \"PIB\"))\n",
    "print(\"Habitantes de Portugal:\", obtener_dato(paises, \"Portugal\", \"habitantes\"))\n",
    "\n",
    "# Casos de prueba con datos no existentes\n",
    "print(\"Capital de Alemania:\", obtener_dato(paises, \"Alemania\", \"capital\"))  # No está en el diccionario\n",
    "print(\"Idioma de España:\", obtener_dato(paises, \"España\", \"idioma\"))  # Métrica inexistente\n"
   ]
  },
  {
   "cell_type": "markdown",
   "metadata": {},
   "source": [
    "2. Obtén mediante la función los valores de población de Portugal y España. Súmalos y guárdalos en una variable nueva llamada `poblacion_peninsula`"
   ]
  },
  {
   "cell_type": "code",
   "execution_count": null,
   "metadata": {},
   "outputs": [
    {
     "name": "stdout",
     "output_type": "stream",
     "text": [
      "Población total de la península ibérica: 57038602\n"
     ]
    }
   ],
   "source": [
    "\n",
    "# Obtener las poblaciones de España y Portugal\n",
    "poblacion_espana = obtener_dato(paises, \"España\", \"habitantes\")\n",
    "poblacion_portugal = obtener_dato(paises, \"Portugal\", \"habitantes\")\n",
    "\n",
    "# Sumar las poblaciones y guardarlas en una nueva variable\n",
    "poblacion_peninsula = poblacion_espana + poblacion_portugal\n",
    "\n",
    "# Mostrar el resultado\n",
    "print(\"Población total de la península ibérica:\", poblacion_peninsula)\n"
   ]
  },
  {
   "cell_type": "markdown",
   "metadata": {},
   "source": [
    "3. Crea una nueva función llamada `añadir_metrica()` con 3 argumentos de entrada, el diccionario `paises`, un string llamado `pais` que por defecto tendrá el valor de `España` y un string llamado `metrica` que con el nombre de la métrica a añadir. Deberá retornar el diccionario completo, con una nueva métrica añadida en el mismo nivel del resto, llamada `PIB_por_h`, con el valor del PIB por cada habitante redondeado con un decimal. Deberá devolver el diccionario completo con la modificación realizada. Documéntala."
   ]
  },
  {
   "cell_type": "code",
   "execution_count": null,
   "metadata": {},
   "outputs": [
    {
     "name": "stdout",
     "output_type": "stream",
     "text": [
      "{'España': {'capital': 'Madrid', 'superficie': 505992, 'habitantes': 46733038, 'PIB': 1478.02, 'PIB_por_h': 0.0}, 'Francia': {'capital': 'París', 'superficie': 551695, 'habitantes': 67237407, 'PIB': 2826.29}, 'Italia': {'capital': 'Roma', 'superficie': 301340, 'habitantes': 60359546, 'PIB': 2099.32}, 'Portugal': {'capital': 'Lisboa', 'superficie': 92212, 'habitantes': 10305564, 'PIB': 248.89}}\n"
     ]
    }
   ],
   "source": [
    "def añadir_metrica(paises, pais=\"España\", metrica=\"PIB_por_h\"):\n",
    "    \n",
    "    if pais in paises:\n",
    "        paises[pais][metrica] = round(paises[pais][\"PIB\"] / paises[pais][\"habitantes\"], 1)\n",
    "    return paises\n",
    "\n",
    "# Aplicar la función y actualizar el diccionario\n",
    "paises = añadir_metrica(paises, \"España\")\n",
    "print(paises)\n"
   ]
  },
  {
   "cell_type": "markdown",
   "metadata": {},
   "source": [
    "4. Utiliza la función `añadir_metrica()`, para Italia y España. Guarda el diccionario en una nueva variable llamada `paises_actualizado`."
   ]
  },
  {
   "cell_type": "code",
   "execution_count": null,
   "metadata": {},
   "outputs": [
    {
     "name": "stdout",
     "output_type": "stream",
     "text": [
      "{'España': {'capital': 'Madrid', 'superficie': 505992, 'habitantes': 46733038, 'PIB': 1478.02, 'PIB_por_h': 0.0}, 'Francia': {'capital': 'París', 'superficie': 551695, 'habitantes': 67237407, 'PIB': 2826.29}, 'Italia': {'capital': 'Roma', 'superficie': 301340, 'habitantes': 60359546, 'PIB': 2099.32, 'PIB_por_h': 0.0}, 'Portugal': {'capital': 'Lisboa', 'superficie': 92212, 'habitantes': 10305564, 'PIB': 248.89}}\n"
     ]
    }
   ],
   "source": [
    "# Aplicar la función a España e Italia\n",
    "paises_actualizado = añadir_metrica(paises, \"España\")\n",
    "paises_actualizado = añadir_metrica(paises_actualizado, \"Italia\")\n",
    "\n",
    "# Mostrar el diccionario actualizado\n",
    "print(paises_actualizado)\n",
    "\n",
    "\n"
   ]
  },
  {
   "cell_type": "markdown",
   "metadata": {},
   "source": [
    "### Ejercicio 4 (2 puntos)\n",
    "\n",
    "Crea una clase llamada `Movil()`. Todos los móviles tendran:\n",
    "* Batería (bool) = True\n",
    "\n",
    "El resto de atributos serán particulares:\n",
    "* marca (str)\n",
    "* carga (float): porcentaje de batería de 0 a 100, por defecto 50.0\n",
    "* camara (int) : Nº de megapixels\n",
    "* memoria (int): Nº de fotos totales que se pueden almacenar\n",
    "\n",
    "1. Deberás crear el método de `cargar()`, lo que hará será incrementar la batería un 30%. Si llega al 100% no aumentará más y devolverá un mensaje de `Batería cargada`. Deberá devolver el estado de la batería tras cargar.\n",
    "2. Deberás crear el método de `hacer_foto()`, con un argumento de entrada llamado `n_fotos` de tipo entero que será el número de fotos a realizar. Cada una de esas fotos, ocuparán memoria, por lo que deberá actualizar su atributo. Deberá devolver la memoria restante, y en caso de que se quede sin memoria, se realizarán las fotos que se puedan almacenar y devolverá por pantalla `Memoria insuficiente` junto con el número de fotos que se han quedado en cola sin realizar. Documenta la clase"
   ]
  },
  {
   "cell_type": "code",
   "execution_count": 9,
   "metadata": {},
   "outputs": [
    {
     "name": "stdout",
     "output_type": "stream",
     "text": [
      "Batería al 80.0%\n",
      "Batería cargada\n",
      "Memoria restante: 70 fotos\n",
      "Memoria insuficiente. 10 fotos no se pudieron realizar. Memoria restante: 0 fotos\n"
     ]
    }
   ],
   "source": [
    "class Movil:\n",
    "    def __init__(self, marca, camara, memoria, carga=50.0):\n",
    "        \"\"\"\n",
    "        Inicializa un nuevo móvil con los atributos proporcionados.\n",
    "\n",
    "        Args:\n",
    "            marca (str): Marca del móvil.\n",
    "            camara (int): Número de megapíxeles de la cámara.\n",
    "            memoria (int): Número de fotos que puede almacenar el móvil.\n",
    "            carga (float, opcional): Porcentaje de batería inicial (por defecto 50.0).\n",
    "        \"\"\"\n",
    "        self.bateria = True  # Todos los móviles tienen batería True\n",
    "        self.marca = marca\n",
    "        self.carga = carga\n",
    "        self.camara = camara\n",
    "        self.memoria = memoria\n",
    "        self.memoria_restante = memoria  # Memoria total disponible\n",
    "\n",
    "    def cargar(self):\n",
    "        \"\"\"\n",
    "        Incrementa la carga de la batería en un 30%, sin superar el 100%.\n",
    "        \n",
    "        Returns:\n",
    "            str: El estado de la batería tras cargar.\n",
    "        \"\"\"\n",
    "        # Aumentar carga en un 30%, pero no más del 100%\n",
    "        if self.carga + 30 > 100:\n",
    "            self.carga = 100\n",
    "            return \"Batería cargada\"\n",
    "        else:\n",
    "            self.carga += 30\n",
    "            return f\"Batería al {self.carga}%\"\n",
    "\n",
    "    def hacer_foto(self, n_fotos):\n",
    "        \"\"\"\n",
    "        Realiza una cantidad de fotos, actualizando la memoria disponible del móvil.\n",
    "        Si no hay suficiente memoria, realiza las fotos que pueda y notifica la falta de memoria.\n",
    "        \n",
    "        Args:\n",
    "            n_fotos (int): Número de fotos que se desean realizar.\n",
    "        \n",
    "        Returns:\n",
    "            str: Memoria restante o mensaje de memoria insuficiente.\n",
    "        \"\"\"\n",
    "        if n_fotos <= self.memoria_restante:\n",
    "            self.memoria_restante -= n_fotos\n",
    "            return f\"Memoria restante: {self.memoria_restante} fotos\"\n",
    "        else:\n",
    "            fotos_realizadas = self.memoria_restante\n",
    "            fotos_faltantes = n_fotos - self.memoria_restante\n",
    "            self.memoria_restante = 0\n",
    "            return f\"Memoria insuficiente. {fotos_faltantes} fotos no se pudieron realizar. Memoria restante: 0 fotos\"\n",
    "\n",
    "\n",
    "# Ejemplo de uso de la clase Movil\n",
    "\n",
    "# Crear un móvil\n",
    "movil_1 = Movil(marca=\"Samsung\", camara=12, memoria=100)\n",
    "\n",
    "# Cargar el móvil\n",
    "print(movil_1.cargar())  # Aumenta la carga de batería\n",
    "print(movil_1.cargar())  # Aumenta la carga de batería\n",
    "\n",
    "# Hacer fotos\n",
    "print(movil_1.hacer_foto(30))  # Hace 30 fotos\n",
    "print(movil_1.hacer_foto(80))  # Intenta hacer 80 fotos, pero solo puede hacer 70\n"
   ]
  },
  {
   "cell_type": "markdown",
   "metadata": {},
   "source": [
    "\n",
    "3. Crea 3 objetos a partir de la clase, un \"Samsung\" con un 45,5% de carga, un \"Xiaomi\" y un \"Apple\". Todos ellos tendrán 1000 de memoria, menos el Apple que tendrá 500.\n"
   ]
  },
  {
   "cell_type": "code",
   "execution_count": 10,
   "metadata": {},
   "outputs": [
    {
     "name": "stdout",
     "output_type": "stream",
     "text": [
      "Samsung: Carga: 45.5%, Memoria: 1000 fotos\n",
      "Xiaomi: Carga: 50.0%, Memoria: 1000 fotos\n",
      "Apple: Carga: 50.0%, Memoria: 500 fotos\n"
     ]
    }
   ],
   "source": [
    "# Crear los objetos móviles\n",
    "samsung = Movil(marca=\"Samsung\", camara=12, memoria=1000, carga=45.5)\n",
    "xiaomi = Movil(marca=\"Xiaomi\", camara=12, memoria=1000)\n",
    "apple = Movil(marca=\"Apple\", camara=12, memoria=500)\n",
    "\n",
    "# Mostrar los detalles de los tres objetos creados\n",
    "print(f\"{samsung.marca}: Carga: {samsung.carga}%, Memoria: {samsung.memoria} fotos\")\n",
    "print(f\"{xiaomi.marca}: Carga: {xiaomi.carga}%, Memoria: {xiaomi.memoria} fotos\")\n",
    "print(f\"{apple.marca}: Carga: {apple.carga}%, Memoria: {apple.memoria} fotos\")\n"
   ]
  },
  {
   "cell_type": "markdown",
   "metadata": {},
   "source": [
    "4. Carga los 3 móviles hasta que muestre el mensaje de que la batería está cargada y muestra por pantalla su batería. Realiza 800 fotos con los 3 móviles utilizando un `input()` y comprueba el atributo de memoria."
   ]
  },
  {
   "cell_type": "code",
   "execution_count": 11,
   "metadata": {},
   "outputs": [
    {
     "name": "stdout",
     "output_type": "stream",
     "text": [
      "Cargando Samsung...\n",
      "Batería al 75.5%\n",
      "Batería cargada\n",
      "Samsun Carga Final: 100%\n",
      "\n",
      "Cargando Xiaomi...\n",
      "Batería al 80.0%\n",
      "Batería cargada\n",
      "Xiaomi Carga Final: 100%\n",
      "\n",
      "Cargando Apple...\n",
      "Batería al 80.0%\n",
      "Batería cargada\n",
      "Apple Carga Final: 100%\n",
      "\n",
      "Por favor, ingresa un número válido de fotos.\n",
      "Por favor, ingresa un número válido de fotos.\n",
      "Por favor, ingresa un número válido de fotos.\n"
     ]
    }
   ],
   "source": [
    "# Cargar los 3 móviles hasta que la batería esté completamente cargada\n",
    "def cargar_movil_hasta_maximo(movil):\n",
    "    while movil.carga < 100:\n",
    "        print(movil.cargar())  # Cargar móvil y mostrar el mensaje\n",
    "    return movil.carga  # Devolver el valor final de la carga\n",
    "\n",
    "\n",
    "# Crear los 3 objetos móviles\n",
    "samsung = Movil(marca=\"Samsung\", camara=12, memoria=1000, carga=45.5)\n",
    "xiaomi = Movil(marca=\"Xiaomi\", camara=12, memoria=1000)\n",
    "apple = Movil(marca=\"Apple\", camara=12, memoria=500)\n",
    "\n",
    "# Cargar los móviles\n",
    "print(\"Cargando Samsung...\")\n",
    "cargar_movil_hasta_maximo(samsung)\n",
    "print(f\"Samsun Carga Final: {samsung.carga}%\\n\")\n",
    "\n",
    "print(\"Cargando Xiaomi...\")\n",
    "cargar_movil_hasta_maximo(xiaomi)\n",
    "print(f\"Xiaomi Carga Final: {xiaomi.carga}%\\n\")\n",
    "\n",
    "print(\"Cargando Apple...\")\n",
    "cargar_movil_hasta_maximo(apple)\n",
    "print(f\"Apple Carga Final: {apple.carga}%\\n\")\n",
    "\n",
    "# Hacer 800 fotos con cada móvil usando input()\n",
    "def hacer_fotos_con_movil(movil):\n",
    "    try:\n",
    "        n_fotos = int(input(f\"Cuántas fotos quieres hacer con el móvil {movil.marca} (máximo 800): \"))\n",
    "        if n_fotos > 800:\n",
    "            print(\"Solo se pueden hacer hasta 800 fotos.\")\n",
    "            n_fotos = 800\n",
    "        print(movil.hacer_foto(n_fotos))\n",
    "    except ValueError:\n",
    "        print(\"Por favor, ingresa un número válido de fotos.\")\n",
    "\n",
    "# Realizar fotos con los tres móviles\n",
    "hacer_fotos_con_movil(samsung)\n",
    "hacer_fotos_con_movil(xiaomi)\n",
    "hacer_fotos_con_movil(apple)\n",
    "\n",
    "# Mostrar el esta\n"
   ]
  },
  {
   "cell_type": "markdown",
   "metadata": {},
   "source": [
    "Ejercicio 3\n",
    "Desarrollar una función en la que se vaya pidiendo números reales al usuario (uno por uno) y una vez el usuario ingrese la palabra terminar, la función devuelva el valor máximo y mínimo de los números ingresados por el usuario."
   ]
  },
  {
   "cell_type": "code",
   "execution_count": 12,
   "metadata": {},
   "outputs": [
    {
     "name": "stdout",
     "output_type": "stream",
     "text": [
      "Por favor, ingrese un número real válido.\n",
      "Por favor, ingrese un número real válido.\n",
      "El máximo es: 6.0\n",
      "El mínimo es: 2.0\n"
     ]
    }
   ],
   "source": [
    "def encontrar_maximo_minimo():\n",
    "    numeros = []\n",
    "    while True:\n",
    "        entrada = input(\"Ingrese un número real o escriba 'terminar' para finalizar: \")\n",
    "        if entrada.lower() == 'terminar':\n",
    "            break\n",
    "        try:\n",
    "            numero = float(entrada)\n",
    "            numeros.append(numero)\n",
    "        except ValueError:\n",
    "            print(\"Por favor, ingrese un número real válido.\")\n",
    "\n",
    "    if len(numeros) == 0:\n",
    "        print(\"No se ingresaron números.\")\n",
    "        return None, None\n",
    "\n",
    "    maximo = max(numeros)\n",
    "    minimo = min(numeros)\n",
    "    return maximo, minimo\n",
    "\n",
    "maximo, minimo = encontrar_maximo_minimo()\n",
    "if maximo is not None and minimo is not None:\n",
    "    print(\"El máximo es:\", maximo)\n",
    "    print(\"El mínimo es:\", minimo)"
   ]
  },
  {
   "cell_type": "code",
   "execution_count": 13,
   "metadata": {},
   "outputs": [
    {
     "ename": "ValueError",
     "evalue": "could not convert string to float: ''",
     "output_type": "error",
     "traceback": [
      "\u001b[31m---------------------------------------------------------------------------\u001b[39m",
      "\u001b[31mValueError\u001b[39m                                Traceback (most recent call last)",
      "\u001b[36mCell\u001b[39m\u001b[36m \u001b[39m\u001b[32mIn[13]\u001b[39m\u001b[32m, line 31\u001b[39m\n\u001b[32m     29\u001b[39m             \u001b[38;5;28;01melif\u001b[39;00m n<n_min:\n\u001b[32m     30\u001b[39m                 n_min = n\n\u001b[32m---> \u001b[39m\u001b[32m31\u001b[39m \u001b[43mmax_min\u001b[49m\u001b[43m(\u001b[49m\u001b[43m)\u001b[49m\n",
      "\u001b[36mCell\u001b[39m\u001b[36m \u001b[39m\u001b[32mIn[13]\u001b[39m\u001b[32m, line 25\u001b[39m, in \u001b[36mmax_min\u001b[39m\u001b[34m()\u001b[39m\n\u001b[32m     21\u001b[39m     \u001b[38;5;28;01mreturn\u001b[39;00m result\n\u001b[32m     23\u001b[39m \u001b[38;5;28;01melse\u001b[39;00m:\n\u001b[32m---> \u001b[39m\u001b[32m25\u001b[39m     n = \u001b[38;5;28;43mfloat\u001b[39;49m\u001b[43m(\u001b[49m\u001b[43mn\u001b[49m\u001b[43m)\u001b[49m\n\u001b[32m     26\u001b[39m     \u001b[38;5;28;01mif\u001b[39;00m n>n_max: \n\u001b[32m     27\u001b[39m         n_max = n\n",
      "\u001b[31mValueError\u001b[39m: could not convert string to float: ''"
     ]
    }
   ],
   "source": [
    "def max_min():\n",
    "    \n",
    "    n = input('Introduce un número real, ')\n",
    "    \n",
    "    if n == 'terminar':\n",
    "        return 'No se han introducido números reales.'\n",
    "    \n",
    "    n = float(n)\n",
    "    \n",
    "    n_max = n\n",
    "    n_min = n\n",
    "    \n",
    "    while True:\n",
    "        \n",
    "        n = input('Introduce un número real, ')\n",
    "        \n",
    "        if n=='terminar':\n",
    "\n",
    "            result = 'El valor máximo introducido es '+ str(n_max)+', el valor mínimo introducido es ' + str(n_min) + '.'        \n",
    "    \n",
    "            return result\n",
    "        \n",
    "        else:\n",
    "            \n",
    "            n = float(n)\n",
    "            if n>n_max: \n",
    "                n_max = n\n",
    "                \n",
    "            elif n<n_min:\n",
    "                n_min = n\n",
    "max_min()"
   ]
  },
  {
   "cell_type": "markdown",
   "metadata": {},
   "source": [
    "Ejercicio 4\n",
    "Desarrollar una función que reciba como entrada una lista de palabras y devuelva la longitud de la palabra más corta y la palabra más larga."
   ]
  },
  {
   "cell_type": "code",
   "execution_count": null,
   "metadata": {},
   "outputs": [
    {
     "name": "stdout",
     "output_type": "stream",
     "text": [
      "Longitud de la palabra más corta: 4\n",
      "Palabra más larga: programacion\n"
     ]
    }
   ],
   "source": [
    "def longitud_palabras(lista_palabras):\n",
    "    if not lista_palabras:  # Verificar si la lista está vacía\n",
    "        return None, None\n",
    "\n",
    "    palabra_mas_corta = min(lista_palabras, key=len)\n",
    "    palabra_mas_larga = max(lista_palabras, key=len)\n",
    "    return len(palabra_mas_corta), (palabra_mas_larga)\n",
    "\n",
    "\n",
    "palabras = [\"hola\", \"buenas\", \"tarde\", \"python\", \"programacion\"]\n",
    "longitud_corta, palabra_larga = longitud_palabras(palabras)\n",
    "print(\"Longitud de la palabra más corta:\", longitud_corta)\n",
    "print(\"Palabra más larga:\", palabra_larga)"
   ]
  },
  {
   "cell_type": "markdown",
   "metadata": {},
   "source": [
    "Ejercicio 5\n",
    "Definir una función que reciba una cadena de caracteres y devuelva un diccionario cuyas claves sean las cinco vocales y sus valores sean sus frecuencias dentro de la cadena respectivamente."
   ]
  },
  {
   "cell_type": "code",
   "execution_count": null,
   "metadata": {},
   "outputs": [
    {
     "data": {
      "text/plain": [
       "{'a': 4, 'e': 3, 'i': 2, 'o': 2, 'u': 2}"
      ]
     },
     "execution_count": 6,
     "metadata": {},
     "output_type": "execute_result"
    }
   ],
   "source": [
    "def freq_voc(cad):\n",
    "    \n",
    "    vocal_dict = {'a':0, 'e':0, 'i':0, 'o':0, 'u':0}\n",
    "    n = len(cad)\n",
    "    \n",
    "    for i in range(n):\n",
    "        \n",
    "        if cad[i]=='a':\n",
    "            vocal_dict['a'] += 1\n",
    "        \n",
    "        elif cad[i]=='e':\n",
    "            vocal_dict['e'] += 1\n",
    "        \n",
    "        elif cad[i]=='i':\n",
    "            vocal_dict['i'] += 1\n",
    "        \n",
    "        elif cad[i]=='o':\n",
    "            vocal_dict['o'] += 1\n",
    "        \n",
    "        elif cad[i]=='u':\n",
    "            vocal_dict['u'] += 1\n",
    "    \n",
    "    return vocal_dict\n",
    "\n",
    "\n",
    "def freq_voc2(cad):\n",
    "    \n",
    "    vocal_dict = {'a':0, 'e':0, 'i':0, 'o':0, 'u':0}\n",
    "    n = len(cad)\n",
    "    \n",
    "    for i in range(n):\n",
    "        \n",
    "        if cad[i] in vocal_dict.keys():\n",
    "            vocal_dict[cad[i]] += 1\n",
    "        \n",
    "    return vocal_dict\n",
    "cad = 'Buenos dias ¿Que tal? Me llamo David.'\n",
    "\n",
    "freq_voc2(cad)"
   ]
  },
  {
   "cell_type": "markdown",
   "metadata": {},
   "source": [
    "Definir un programa que pida al usuario dos palabras y devuelva True si las palabras riman y False si las palabras no riman.\n",
    "\n"
   ]
  },
  {
   "cell_type": "code",
   "execution_count": null,
   "metadata": {},
   "outputs": [
    {
     "data": {
      "text/plain": [
       "True"
      ]
     },
     "execution_count": 8,
     "metadata": {},
     "output_type": "execute_result"
    }
   ],
   "source": [
    "def rima(pal1, pal2):\n",
    "    \n",
    "    n = len(pal1)\n",
    "    m = len(pal2)\n",
    "    p = min(m,n)\n",
    "    \n",
    "    for i in range(2,p):\n",
    "        \n",
    "        if pal1[-i:]==pal2[-i:]:\n",
    "            return True\n",
    "        \n",
    "    return False\n",
    "pal1 = 'camion'\n",
    "pal2 = 'jon'\n",
    "\n",
    "rima(pal1, pal2)"
   ]
  },
  {
   "cell_type": "markdown",
   "metadata": {},
   "source": [
    "Desarrollar una función que reciba una lista de números y devuelva una lista de listas (lista = [\n",
    ",\n",
    ",\n",
    "]), en la que cada sublista contendrá determinados números.\n",
    "\n",
    "sublista1: los números que tengan de 1-6 cifras.\n",
    "sublista2: los números que tengan de 7-12 cifras.\n",
    "sublista3: los números que tengan m´as de 12 cifras.\n",
    "Nota: cuidado cuando tengamos un número negativo o con decimales."
   ]
  },
  {
   "cell_type": "code",
   "execution_count": 14,
   "metadata": {},
   "outputs": [
    {
     "data": {
      "text/plain": [
       "[[-24, 89364],\n",
       " [-3435.435, 35454.334232, 7889890, 687806.56545, 56676.353],\n",
       " [32988345876578326492384]]"
      ]
     },
     "execution_count": 14,
     "metadata": {},
     "output_type": "execute_result"
    }
   ],
   "source": [
    "def numeros(list_num):\n",
    "    \n",
    "    cifras1 = []\n",
    "    cifras2 = []\n",
    "    cifras3 = []\n",
    "    n = len(list_num)\n",
    "    \n",
    "    for i in range(n):\n",
    "        \n",
    "        temp_num = str(list_num[i]).split('-')[-1].split('.')\n",
    "        cif = 0\n",
    "        m = len(temp_num)\n",
    "        \n",
    "        for j in range(m):\n",
    "            \n",
    "            cif += len(temp_num[j])\n",
    "            \n",
    "        if cif<=6:\n",
    "            cifras1.append(list_num[i])\n",
    "        \n",
    "        elif cif<=12:\n",
    "            cifras2.append(list_num[i])\n",
    "        \n",
    "        else:\n",
    "            cifras3.append(list_num[i])\n",
    "    \n",
    "    cifras = [cifras1, cifras2, cifras3]\n",
    "        \n",
    "    return cifras\n",
    "list_num = [-3435.435, 35454.334232, 7889890, 687806.56545, -24, 56676.353, 89364, 32988345876578326492384]\n",
    "\n",
    "numeros(list_num)"
   ]
  },
  {
   "cell_type": "code",
   "execution_count": null,
   "metadata": {},
   "outputs": [],
   "source": []
  },
  {
   "cell_type": "markdown",
   "metadata": {},
   "source": [
    "### Ejercicio 5\n",
    "\n",
    "Ejercicio estilo la calculadora o la biblioteca que hemos hecho en clase"
   ]
  }
 ],
 "metadata": {
  "kernelspec": {
   "display_name": "Python 3",
   "language": "python",
   "name": "python3"
  },
  "language_info": {
   "codemirror_mode": {
    "name": "ipython",
    "version": 3
   },
   "file_extension": ".py",
   "mimetype": "text/x-python",
   "name": "python",
   "nbconvert_exporter": "python",
   "pygments_lexer": "ipython3",
   "version": "3.11.9"
  }
 },
 "nbformat": 4,
 "nbformat_minor": 4
}
