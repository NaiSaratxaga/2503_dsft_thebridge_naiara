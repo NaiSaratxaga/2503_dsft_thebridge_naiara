{
 "cells": [
  {
   "cell_type": "markdown",
   "metadata": {},
   "source": [
    "Copia Examen"
   ]
  },
  {
   "cell_type": "code",
   "execution_count": 6,
   "metadata": {},
   "outputs": [],
   "source": [
    "# Escribe tu nombre y apellidos (apellido si solo tienes uno) en las variables:\n",
    "nombre = \"Naiara\"\n",
    "apellidos = \"Saratxaga Goffard\""
   ]
  },
  {
   "cell_type": "code",
   "execution_count": 7,
   "metadata": {},
   "outputs": [
    {
     "name": "stdout",
     "output_type": "stream",
     "text": [
      "Bienvenido Naiara Saratxaga Goffard. Mucha suerte!\n"
     ]
    }
   ],
   "source": [
    "# Solo ejecutar\n",
    "nombre_apellidos = nombre + ' ' + apellidos\n",
    "print(\"Bienvenido\", nombre_apellidos + '. Mucha suerte!')"
   ]
  },
  {
   "cell_type": "code",
   "execution_count": 8,
   "metadata": {},
   "outputs": [
    {
     "name": "stdout",
     "output_type": "stream",
     "text": [
      "Antes de comenzar, cambia el nombre de este archivo notebook a Naiara_Saratxaga_Goffard.ipynb\n"
     ]
    }
   ],
   "source": [
    "# Solo ejecutar\n",
    "print('Antes de comenzar, cambia el nombre de este archivo notebook a', nombre_apellidos.replace(' ','_') + '.ipynb')"
   ]
  },
  {
   "cell_type": "code",
   "execution_count": 9,
   "metadata": {},
   "outputs": [],
   "source": [
    "# No te olvides de documentar el código para dejar clara la lógica, sobre todo cuando no sale el resultado"
   ]
  },
  {
   "cell_type": "markdown",
   "metadata": {},
   "source": [
    "-----------"
   ]
  },
  {
   "cell_type": "markdown",
   "metadata": {},
   "source": [
    "### Ejercicio 1 (1 punto)\n",
    "En este ejercicio se va a crear una lista con los siguientes elementos. Primero, crearemos las variables que luego añadiremos a la lista. Las variables son las siguientes:\n",
    "\n",
    "1. Crea una variable llamada `dia` de tipo Integer que sea el día del mes. \n",
    "2. Crea una variable llamada `campus` de tipo String , con la ciudad donde está tu campus de The Bridge. \n",
    "3. Crea una variable llamada `altura` con el valor de tu altura en metros de tipo float.\n",
    "4. Crea una variable llamada `s_operativo` de tipo Boolean True si usas Windows y False si usas otro.\n",
    "5. Crea una variable llamada `nada` de tipo None cuyo valor sea None.\n",
    "6. Crea una variable llamada `lista_comidas` de tipo List que contenga 5 platos de comida. Cada elemento ha de ser de tipo String.\n",
    "7. Crea una variable llamada `tupla_cubiertos` de tipo Tuple con tres cubiertos que deben ser de tipo String cada uno.\n",
    "8. Crea una variable llamada `dict_discord`. Una key es `nombre`, teniendo como value el nombre de usuario en discord de tipo String. Otra key es la `room`, cuyo valor es un entero del número de la sala en la que te encuentras haciendo el examen.\n",
    "9. Añade todos estas variables en una lista llamada `lista_examen` en el orden del enunciado.\n",
    "10. Imprime por pantalla con un bucle for, el tipo de cada elemento de `lista_examen`."
   ]
  },
  {
   "cell_type": "code",
   "execution_count": 10,
   "metadata": {},
   "outputs": [
    {
     "name": "stdout",
     "output_type": "stream",
     "text": [
      "<class 'int'>\n",
      "<class 'str'>\n",
      "<class 'float'>\n",
      "<class 'bool'>\n",
      "<class 'NoneType'>\n",
      "<class 'list'>\n",
      "<class 'tuple'>\n",
      "<class 'dict'>\n"
     ]
    }
   ],
   "source": [
    "\n",
    "#1-  Crea una variable llamada día de tipo Integer\n",
    "dia = 3\n",
    "\n",
    "#2- Variable de tipo String\n",
    "campus = \"Bilbao\"\n",
    "\n",
    "#3- cariable altura tipo float\n",
    "altura = 1.70\n",
    "\n",
    "#4- variable tipo bool\n",
    "s_operativo = True\n",
    "\n",
    "#5- variable tipo None\n",
    "nada = None\n",
    "\n",
    "#6- variable tipo list\n",
    "lista_comida = [\"pasta\", \"ensalada\", \"pizza\", \"pescado\", \"carne\"]\n",
    "\n",
    "#7- variable de tipo tupla\n",
    "tupla_cubiertos = (\"Cuchar\", \"Tenedor\", \"Cuchillo\")\n",
    "\n",
    "#8- variable diccionario, con clave y valor\n",
    "dict_discord = {\n",
    "    \"nombre\": \"usuario_discord\", \n",
    "    \"room\": 5 \n",
    "}\n",
    "\n",
    "#9- añadir todo a lista examen\n",
    "lista_examen = [dia, campus, altura, s_operativo, nada, lista_comida, tupla_cubiertos, dict_discord]\n",
    "\n",
    "#10 bucle for\n",
    "for elemento in lista_examen:\n",
    "    print(type(elemento))"
   ]
  },
  {
   "cell_type": "markdown",
   "metadata": {},
   "source": [
    "### Ejercicio 2 (2 puntos)\n",
    "\n",
    "Para resolver este ejercicio necesitarás la lista del ejercicio anterior (`lista_examen`). Se recomienda leer cada punto hasta el final antes de resolver el ejercicio.\n",
    "\n",
    "Se repite para que quede aún más claro: **SOLO USAR LA VARIABLE** `lista_examen`. Usar otra variable se calificará como error.  "
   ]
  },
  {
   "cell_type": "markdown",
   "metadata": {},
   "source": [
    "1. Guardar en las variables que aparecen como `res2x`, lo siguiente: (0.5)\n",
    "    - `res21` El tercer cubierto.\n",
    "    - `res22` La penúltima comida.\n",
    "    - `res23` Una lista del segundo al quinto elemento incluidos ambos.\n",
    "    - `res24` Una tupla con los valores del diccionario de discord.\n",
    "    - `res25` Los 4 primeros caracteres del valor del nombre de tu discord.\n"
   ]
  },
  {
   "cell_type": "code",
   "execution_count": 17,
   "metadata": {},
   "outputs": [
    {
     "name": "stdout",
     "output_type": "stream",
     "text": [
      "Cuchillo\n",
      "pescado\n",
      "['Bilbao', 1.7, True, None]\n",
      "('usuario_discord', 5)\n",
      "usua\n"
     ]
    }
   ],
   "source": [
    "lista_examen = [dia, campus, altura, s_operativo, nada, lista_comida, tupla_cubiertos, dict_discord]\n",
    "\n",
    "#1.1 Guardar en variable res2x, sacamos el elemeto con el indice 2\n",
    "res21 = lista_examen[6][2]  # El tercer cubierto\n",
    "print(res21)\n",
    "\n",
    "#1.2 Penúltima comida\n",
    "res22 = lista_examen[5][-2]\n",
    "print(res22)\n",
    "\n",
    "#1.3 Lista del 2 elemento al 5 incluidos ambos \n",
    "res23 = lista_examen[1:5]\n",
    "print(res23)\n",
    "\n",
    "#1.4 Una tupla con los valores del diccionario discord\n",
    "res24 = tuple(lista_examen[7].values()) \n",
    "print(res24)\n",
    "\n",
    "#1.5 Los 4 primeros caracteres del valor del nombre\n",
    "res25 = lista_examen[7][\"nombre\"][:4] \n",
    "print(res25)\n",
    "\n"
   ]
  },
  {
   "cell_type": "markdown",
   "metadata": {},
   "source": [
    "    \n",
    "2. Mostrar por pantalla, con uso de un bucle `for`. (0.75)\n",
    "    - Las posiciones y elementos de `lista_examen` de las posiciones impares.\n",
    "    - Los elementos que se encuentran dentro de las colecciones ordenadas de `lista_examen`."
   ]
  },
  {
   "cell_type": "code",
   "execution_count": 24,
   "metadata": {},
   "outputs": [
    {
     "ename": "SyntaxError",
     "evalue": "invalid syntax. Perhaps you forgot a comma? (2816671292.py, line 12)",
     "output_type": "error",
     "traceback": [
      "  \u001b[36mCell\u001b[39m\u001b[36m \u001b[39m\u001b[32mIn[24]\u001b[39m\u001b[32m, line 12\u001b[39m\n\u001b[31m    \u001b[39m\u001b[31mfor i in range(2, len(lista_examen)1):\u001b[39m\n                      ^\n\u001b[31mSyntaxError\u001b[39m\u001b[31m:\u001b[39m invalid syntax. Perhaps you forgot a comma?\n"
     ]
    }
   ],
   "source": [
    "# Mostrar posiciones y elementos de lista_examen en posiciones impares\n",
    "print(\"Elementos en posiciones impares:\")\n",
    "#step = 2 → Avanza de dos en dos, es decir, recorrerá los índices 1, 3, 5, 7,\n",
    "for i in range(1, len(lista_examen), 2):\n",
    "\n",
    "    print(f\"Posición {i}: {lista_examen[i]}\")\n",
    "\n",
    "print()\n",
    "\n",
    "# Mostrar elementos dentro de las colecciones ordenadas (listas y tuplas)\n",
    "print(\"Elementos dentro de las colecciones ordenadas:\")\n",
    "for i in range(2, len(lista_examen)1):\n",
    "\n",
    "    print(f\"Posición {i}: {lista_examen[i]}\")\n",
    "    "
   ]
  },
  {
   "cell_type": "markdown",
   "metadata": {},
   "source": [
    "3. Con uso del bucle `while`, borra los platos de comida por el final hasta que tengas 2 platos, y guarda esos platos borrados en una nueva lista `platos_borrados` (0.75)"
   ]
  },
  {
   "cell_type": "code",
   "execution_count": null,
   "metadata": {},
   "outputs": [
    {
     "name": "stdout",
     "output_type": "stream",
     "text": [
      "\n",
      "Platos restantes: ['pasta', 'ensalada']\n",
      "Platos borrados: ['carne', 'pescado', 'pizza']\n"
     ]
    }
   ],
   "source": [
    "# Borrar platos de comida hasta que queden 2 y guardarlos en platos_borrados\n",
    "platos_borrados = []\n",
    "while len(lista_examen[5]) > 2:\n",
    "    platos_borrados.append(lista_examen[5].pop())\n",
    "\n",
    "print(\"Platos restantes:\", lista_examen[5])\n",
    "print(\"Platos borrados:\", platos_borrados)\n",
    "    "
   ]
  },
  {
   "cell_type": "markdown",
   "metadata": {},
   "source": [
    "### Ejercicio 3 (2 puntos)\n",
    "\n",
    "Dado el siguiente diccionario: \n",
    "\n",
    "```python\n",
    "paises = {\n",
    "    \"España\": {\n",
    "        \"capital\": \"Madrid\",\n",
    "        \"superficie\": 505992,\n",
    "        \"habitantes\": 46733038,\n",
    "        \"PIB\": 1478.02\n",
    "    },\n",
    "    \"Francia\": {\n",
    "        \"capital\": \"París\",\n",
    "        \"superficie\": 551695,\n",
    "        \"habitantes\": 67237407,\n",
    "        \"PIB\": 2826.29\n",
    "    },\n",
    "    \"Italia\": {\n",
    "        \"capital\": \"Roma\",\n",
    "        \"superficie\": 301340,\n",
    "        \"habitantes\": 60359546,\n",
    "        \"PIB\": 2099.32 \n",
    "    },\n",
    "    \"Portugal\": {\n",
    "        \"capital\": \"Lisboa\",\n",
    "        \"superficie\": 92212,\n",
    "        \"habitantes\": 10305564,\n",
    "        \"PIB\": 248.89\n",
    "    }\n",
    "}\n",
    "```"
   ]
  },
  {
   "cell_type": "markdown",
   "metadata": {},
   "source": [
    "1. Crea una función llamada `obtener_dato()` con tres argumentos de entrada, el diccionario `paises`, un string llamado `pais` y un string llamado `metrica`. Deberán devolver el valor correspondiente del diccionario. Documéntala"
   ]
  },
  {
   "cell_type": "code",
   "execution_count": null,
   "metadata": {},
   "outputs": [
    {
     "name": "stdout",
     "output_type": "stream",
     "text": [
      "\n",
      "    Función para obtener un valor específico de un diccionario de países.\n",
      "    \n",
      "    Parámetros:\n",
      "    paises (dict): Diccionario con información de países.\n",
      "    pais (str): Nombre del país a consultar.\n",
      "    metrica (str): Métrica específica a obtener (capital, superficie, habitantes, PIB).\n",
      "    \n",
      "    Retorna:\n",
      "    El valor correspondiente a la métrica solicitada o un mensaje de error si no existe.\n",
      "    \n",
      "Capital de España: Madrid\n",
      "Superficie de Francia: 551695\n",
      "PIB de Italia: 2099.32\n",
      "Habitantes de Portugal: 10305564\n",
      "Capital de Alemania: Dato no encontrado\n",
      "Idioma de España: Dato no encontrado\n"
     ]
    }
   ],
   "source": [
    "# Diccionario de países\n",
    "paises = {\n",
    "    \"España\": {\n",
    "        \"capital\": \"Madrid\",\n",
    "        \"superficie\": 505992,\n",
    "        \"habitantes\": 46733038,\n",
    "        \"PIB\": 1478.02\n",
    "    },\n",
    "    \"Francia\": {\n",
    "        \"capital\": \"París\",\n",
    "        \"superficie\": 551695,\n",
    "        \"habitantes\": 67237407,\n",
    "        \"PIB\": 2826.29\n",
    "    },\n",
    "    \"Italia\": {\n",
    "        \"capital\": \"Roma\",\n",
    "        \"superficie\": 301340,\n",
    "        \"habitantes\": 60359546,\n",
    "        \"PIB\": 2099.32 \n",
    "    },\n",
    "    \"Portugal\": {\n",
    "        \"capital\": \"Lisboa\",\n",
    "        \"superficie\": 92212,\n",
    "        \"habitantes\": 10305564,\n",
    "        \"PIB\": 248.89\n",
    "    }\n",
    "}\n",
    "\n",
    "# Definir la función obtener_dato\n",
    "def obtener_dato(paises, pais, metrica):\n",
    "    \"\"\"\n",
    "    Función para obtener un valor específico de un diccionario de países.\n",
    "    \n",
    "    Parámetros:\n",
    "    paises (dict): Diccionario con información de países.\n",
    "    pais (str): Nombre del país a consultar.\n",
    "    metrica (str): Métrica específica a obtener (capital, superficie, habitantes, PIB).\n",
    "    \n",
    "    Retorna:\n",
    "    El valor correspondiente a la métrica solicitada o un mensaje de error si no existe.\n",
    "    \"\"\"\n",
    "    return paises.get(pais, {}).get(metrica, \"Dato no encontrado\")\n",
    "\n",
    "# Imprimir la documentación de la función\n",
    "print(obtener_dato.__doc__)\n",
    "\n",
    "# Llamadas a la función con ejemplos\n",
    "print(\"Capital de España:\", obtener_dato(paises, \"España\", \"capital\"))\n",
    "print(\"Superficie de Francia:\", obtener_dato(paises, \"Francia\", \"superficie\"))\n",
    "print(\"PIB de Italia:\", obtener_dato(paises, \"Italia\", \"PIB\"))\n",
    "print(\"Habitantes de Portugal:\", obtener_dato(paises, \"Portugal\", \"habitantes\"))\n",
    "\n",
    "# Casos de prueba con datos no existentes\n",
    "print(\"Capital de Alemania:\", obtener_dato(paises, \"Alemania\", \"capital\"))  # No está en el diccionario\n",
    "print(\"Idioma de España:\", obtener_dato(paises, \"España\", \"idioma\"))  # Métrica inexistente\n"
   ]
  },
  {
   "cell_type": "markdown",
   "metadata": {},
   "source": [
    "2. Obtén mediante la función los valores de población de Portugal y España. Súmalos y guárdalos en una variable nueva llamada `poblacion_peninsula`"
   ]
  },
  {
   "cell_type": "code",
   "execution_count": null,
   "metadata": {},
   "outputs": [
    {
     "name": "stdout",
     "output_type": "stream",
     "text": [
      "Población total de la península ibérica: 57038602\n"
     ]
    }
   ],
   "source": [
    "\n",
    "# Obtener las poblaciones de España y Portugal\n",
    "poblacion_espana = obtener_dato(paises, \"España\", \"habitantes\")\n",
    "poblacion_portugal = obtener_dato(paises, \"Portugal\", \"habitantes\")\n",
    "\n",
    "# Sumar las poblaciones y guardarlas en una nueva variable\n",
    "poblacion_peninsula = poblacion_espana + poblacion_portugal\n",
    "\n",
    "# Mostrar el resultado\n",
    "print(\"Población total de la península ibérica:\", poblacion_peninsula)\n"
   ]
  },
  {
   "cell_type": "markdown",
   "metadata": {},
   "source": [
    "3. Crea una nueva función llamada `añadir_metrica()` con 3 argumentos de entrada, el diccionario `paises`, un string llamado `pais` que por defecto tendrá el valor de `España` y un string llamado `metrica` que con el nombre de la métrica a añadir. Deberá retornar el diccionario completo, con una nueva métrica añadida en el mismo nivel del resto, llamada `PIB_por_h`, con el valor del PIB por cada habitante redondeado con un decimal. Deberá devolver el diccionario completo con la modificación realizada. Documéntala."
   ]
  },
  {
   "cell_type": "code",
   "execution_count": null,
   "metadata": {},
   "outputs": [
    {
     "name": "stdout",
     "output_type": "stream",
     "text": [
      "{'España': {'capital': 'Madrid', 'superficie': 505992, 'habitantes': 46733038, 'PIB': 1478.02, 'PIB_por_h': 0.0}, 'Francia': {'capital': 'París', 'superficie': 551695, 'habitantes': 67237407, 'PIB': 2826.29}, 'Italia': {'capital': 'Roma', 'superficie': 301340, 'habitantes': 60359546, 'PIB': 2099.32}, 'Portugal': {'capital': 'Lisboa', 'superficie': 92212, 'habitantes': 10305564, 'PIB': 248.89}}\n"
     ]
    }
   ],
   "source": [
    "def añadir_metrica(paises, pais=\"España\", metrica=\"PIB_por_h\"):\n",
    "    \n",
    "    if pais in paises:\n",
    "        paises[pais][metrica] = round(paises[pais][\"PIB\"] / paises[pais][\"habitantes\"], 1)\n",
    "    return paises\n",
    "\n",
    "# Aplicar la función y actualizar el diccionario\n",
    "paises = añadir_metrica(paises, \"España\")\n",
    "print(paises)\n"
   ]
  },
  {
   "cell_type": "markdown",
   "metadata": {},
   "source": [
    "4. Utiliza la función `añadir_metrica()`, para Italia y España. Guarda el diccionario en una nueva variable llamada `paises_actualizado`."
   ]
  },
  {
   "cell_type": "code",
   "execution_count": null,
   "metadata": {},
   "outputs": [
    {
     "name": "stdout",
     "output_type": "stream",
     "text": [
      "{'España': {'capital': 'Madrid', 'superficie': 505992, 'habitantes': 46733038, 'PIB': 1478.02, 'PIB_por_h': 0.0}, 'Francia': {'capital': 'París', 'superficie': 551695, 'habitantes': 67237407, 'PIB': 2826.29}, 'Italia': {'capital': 'Roma', 'superficie': 301340, 'habitantes': 60359546, 'PIB': 2099.32, 'PIB_por_h': 0.0}, 'Portugal': {'capital': 'Lisboa', 'superficie': 92212, 'habitantes': 10305564, 'PIB': 248.89}}\n"
     ]
    }
   ],
   "source": [
    "# Aplicar la función a España e Italia\n",
    "paises_actualizado = añadir_metrica(paises, \"España\")\n",
    "paises_actualizado = añadir_metrica(paises_actualizado, \"Italia\")\n",
    "\n",
    "# Mostrar el diccionario actualizado\n",
    "print(paises_actualizado)\n",
    "\n",
    "\n"
   ]
  },
  {
   "cell_type": "markdown",
   "metadata": {},
   "source": [
    "### Ejercicio 4 (2 puntos)\n",
    "\n",
    "Crea una clase llamada `Movil()`. Todos los móviles tendran:\n",
    "* Batería (bool) = True\n",
    "\n",
    "El resto de atributos serán particulares:\n",
    "* marca (str)\n",
    "* carga (float): porcentaje de batería de 0 a 100, por defecto 50.0\n",
    "* camara (int) : Nº de megapixels\n",
    "* memoria (int): Nº de fotos totales que se pueden almacenar\n",
    "\n",
    "1. Deberás crear el método de `cargar()`, lo que hará será incrementar la batería un 30%. Si llega al 100% no aumentará más y devolverá un mensaje de `Batería cargada`. Deberá devolver el estado de la batería tras cargar.\n",
    "2. Deberás crear el método de `hacer_foto()`, con un argumento de entrada llamado `n_fotos` de tipo entero que será el número de fotos a realizar. Cada una de esas fotos, ocuparán memoria, por lo que deberá actualizar su atributo. Deberá devolver la memoria restante, y en caso de que se quede sin memoria, se realizarán las fotos que se puedan almacenar y devolverá por pantalla `Memoria insuficiente` junto con el número de fotos que se han quedado en cola sin realizar. Documenta la clase"
   ]
  },
  {
   "cell_type": "code",
   "execution_count": null,
   "metadata": {},
   "outputs": [],
   "source": [
    "class Movil():\n",
    "    bateria = True\n",
    "    \n",
    "def __init__(self, marca, carga, camara, memoria):\n",
    "    self.marca = marca\n",
    "    self.carga = carga\n",
    "    self.camara = camara\n",
    "    self.memoria = memoria\n",
    "    \n",
    "def cargar(self):\n",
    "\n",
    "    return sum(self.carga)\n",
    "\n",
    "print()"
   ]
  },
  {
   "cell_type": "markdown",
   "metadata": {},
   "source": [
    "\n",
    "3. Crea 3 objetos a partir de la clase, un \"Samsung\" con un 45,5% de carga, un \"Xiaomi\" y un \"Apple\". Todos ellos tendrán 1000 de memoria, menos el Apple que tendrá 500.\n"
   ]
  },
  {
   "cell_type": "code",
   "execution_count": null,
   "metadata": {},
   "outputs": [],
   "source": []
  },
  {
   "cell_type": "markdown",
   "metadata": {},
   "source": [
    "4. Carga los 3 móviles hasta que muestre el mensaje de que la batería está cargada y muestra por pantalla su batería. Realiza 800 fotos con los 3 móviles utilizando un `input()` y comprueba el atributo de memoria."
   ]
  },
  {
   "cell_type": "code",
   "execution_count": null,
   "metadata": {},
   "outputs": [],
   "source": []
  },
  {
   "cell_type": "markdown",
   "metadata": {},
   "source": []
  },
  {
   "cell_type": "markdown",
   "metadata": {},
   "source": [
    "### Ejercicio 5\n",
    "\n",
    "Ejercicio estilo la calculadora o la biblioteca que hemos hecho en clase"
   ]
  },
  {
   "cell_type": "markdown",
   "metadata": {},
   "source": [
    "# Ejercicio BONUS"
   ]
  }
 ],
 "metadata": {
  "kernelspec": {
   "display_name": "Python 3",
   "language": "python",
   "name": "python3"
  },
  "language_info": {
   "codemirror_mode": {
    "name": "ipython",
    "version": 3
   },
   "file_extension": ".py",
   "mimetype": "text/x-python",
   "name": "python",
   "nbconvert_exporter": "python",
   "pygments_lexer": "ipython3",
   "version": "3.11.9"
  }
 },
 "nbformat": 4,
 "nbformat_minor": 4
}
