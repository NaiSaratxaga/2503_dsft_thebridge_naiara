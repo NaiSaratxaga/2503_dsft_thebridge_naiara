{
 "cells": [
  {
   "cell_type": "markdown",
   "metadata": {},
   "source": [
    "# Test RAMP UP DS-FT Marzo 2025"
   ]
  },
  {
   "cell_type": "markdown",
   "metadata": {},
   "source": [
    "Antes de comenzar, cambia el nombre del archivo notebook poniéndole delante tu nombre y primer apellido:\n",
    "\n",
    "* nombre_apellido_test_pract_marzo_2025.ipynb"
   ]
  },
  {
   "cell_type": "code",
   "execution_count": 1,
   "metadata": {},
   "outputs": [],
   "source": [
    "# Escribe tu nombre y apellidos (apellido si solo tienes uno) en las variables:\n",
    "nombre = \"Naiara\"\n",
    "apellidos = \"Saratxaga Goffard\""
   ]
  },
  {
   "cell_type": "code",
   "execution_count": 2,
   "metadata": {},
   "outputs": [
    {
     "name": "stdout",
     "output_type": "stream",
     "text": [
      "Bienvenido Naiara Saratxaga Goffard. Mucha suerte!\n"
     ]
    }
   ],
   "source": [
    "# Solo ejecutar\n",
    "nombre_apellidos = nombre + ' ' + apellidos\n",
    "print(\"Bienvenido\", nombre_apellidos + '. Mucha suerte!')"
   ]
  },
  {
   "cell_type": "markdown",
   "metadata": {},
   "source": [
    "-----------------"
   ]
  },
  {
   "cell_type": "code",
   "execution_count": 3,
   "metadata": {},
   "outputs": [
    {
     "data": {
      "text/plain": [
       "'\\nCriterios de corrección:\\n\\nejecución (ausencia de errores y obtención de resultados)\\nestructura del código\\nuso correcto de variables\\nmanejo de tipo de variables\\nasignaciones\\noperaciones booleanas\\nmanejo lógico de flujos de control y bucles\\nuso de colecciones\\nuso de funciones\\n'"
      ]
     },
     "execution_count": 3,
     "metadata": {},
     "output_type": "execute_result"
    }
   ],
   "source": [
    "\"\"\"\n",
    "Criterios de corrección:\n",
    "\n",
    "ejecución (ausencia de errores y obtención de resultados)\n",
    "estructura del código\n",
    "uso correcto de variables\n",
    "manejo de tipo de variables\n",
    "asignaciones\n",
    "operaciones booleanas\n",
    "manejo lógico de flujos de control y bucles\n",
    "uso de colecciones\n",
    "uso de funciones\n",
    "\"\"\"\n",
    "\n",
    "# Ejemplo de como queremos ver el código para más de un intento:\n",
    "\n",
    "# intento 1\n",
    "#your code\n",
    "\n",
    "# intento 2\n",
    "#your code"
   ]
  },
  {
   "cell_type": "markdown",
   "metadata": {},
   "source": [
    "#### Notas y pruebas de apoyo para contestar las preguntas\n",
    "\n",
    "\n",
    "Cualquier código aunque no esté correcto nos dirá más de ti que no escribir nada. "
   ]
  },
  {
   "cell_type": "code",
   "execution_count": 4,
   "metadata": {},
   "outputs": [],
   "source": [
    "# No te olvides de documentar el código para dejar clara la lógica, sobre todo cuando no sale el resultado"
   ]
  },
  {
   "cell_type": "markdown",
   "metadata": {},
   "source": [
    "### Ejercicio 1\n",
    "En este ejercicio se va a crear una lista con los siguientes elementos. Primero, crearemos las variables que luego añadiremos a la lista. Las variables son las siguientes:\n",
    "\n",
    "1. Crea una variable llamada `edad` de tipo Integer que represente tu edad en años. \n",
    "2. Crea una variable llamada `poblacion` de tipo String , con tu población de nacimiento. \n",
    "3. Crea una variable llamada `altura` con el valor de tu altura en metros de tipo float.\n",
    "4. Crea una variable llamada `s_operativo` de tipo Boolean True si usas Windows y False si usas otro.\n",
    "5. Crea una variable llamada `nada` de tipo None cuyo valor sea None.\n",
    "6. Crea una variable llamada `lista_vacaciones` de tipo List que contenga 5 destinos de viaje a los que te gustaría ir. Cada elemento ha de ser de tipo String.\n",
    "7. Crea una variable llamada `tupla_isla` de tipo Tuple con tres objetos que te llevarías a una isla desierta.\n",
    "8. Crea una variable llamada `dict_pc` con dos keys y dos values. Una key es `marca`, teniendo como value la marca de tu pc de tipo String. Otra key es la `ram`, cuyo valor es es un entero del número de gigas de la ram de tu ordenador\n",
    "9. Añade todos estos elementos en una lista llamada `lista_examen` en el orden de aparición.\n",
    "10. Guarda en la variable `lon_lista_examen` la longitud de `lista_examen`."
   ]
  },
  {
   "cell_type": "code",
   "execution_count": 5,
   "metadata": {},
   "outputs": [
    {
     "name": "stdout",
     "output_type": "stream",
     "text": [
      "8\n"
     ]
    }
   ],
   "source": [
    "# Ejercicio 1\n",
    "# 1.1 Crear variable tipo Integer\n",
    "edad = 45\n",
    "\n",
    "# 1.2 Crear variable tipo String\n",
    "poblacion = \"Balmaseda\"\n",
    "\n",
    "# 1.3 Crear variable tipo SFloat\n",
    "altura = 1,70\n",
    "\n",
    "# 1.4 Crear variable tipo Boolean\n",
    "s_operativo = True\n",
    "\n",
    "# 1.5 Crear variable tipo None\n",
    "nada = None\n",
    "\n",
    "# 1.6 Crear variable tipo List\n",
    "lista_vacaciones = [\"Japón\", \"China\", \"Malasia\", \"Madagascar\", \"Brasil\"]\n",
    "\n",
    "# 1.7 Crear variable tipo Tuple\n",
    "tupla_isla = (\"libro\", \"música\", \"cámara de fotos\")\n",
    "\n",
    "# 1.8 Crear variable tipo dict\n",
    "dict_pc = { \"marc\":\"mac\", \"ram\":20}\n",
    "\n",
    "# 1.9 Añadir todo a lista examen\n",
    "lista_examen = [edad, poblacion, altura, s_operativo, nada, lista_vacaciones, tupla_isla, dict_pc]\n",
    "\n",
    "# 1.10 Guardar en variable longitud de la lista\n",
    "lon_lista_examen = len(lista_examen)\n",
    "print(len(lista_examen))"
   ]
  },
  {
   "cell_type": "markdown",
   "metadata": {},
   "source": [
    "### Ejercicio 2\n",
    "\n",
    "Escribe un programa que simule un libro de \"sigue tu propia aventura\". Solo se pide control de flujo y uso de print().\n",
    "\n",
    "El programa tiene dos variables:\n",
    "\n",
    "*puerta* --> es una variable de tipo entero\n",
    "\n",
    "*amuleto* --> es una variable booleana\n",
    "\n",
    "\n",
    "    · Si la puerta que eliges es la 1, imprime \"has perdido\"\n",
    "\n",
    "    · Si la puerta que eliges es la 2 y tienes el amuleto (verdadero), imprime \"has ganado\"\n",
    "\n",
    "    · En cualquier otro caso, imprime \"sigue jugando\"\n",
    "\n",
    "Haz este programa de dos formas: usando un AND y sin usar un AND\n",
    "\n",
    "Nota: no son necesarias funciones. Puedes declarar puerta y amuleto al principio de tu programa."
   ]
  },
  {
   "cell_type": "code",
   "execution_count": 6,
   "metadata": {},
   "outputs": [
    {
     "name": "stdout",
     "output_type": "stream",
     "text": [
      "has perdido\n"
     ]
    }
   ],
   "source": [
    "# Hacer 2 variables\n",
    "\n",
    "puerta = 1 # tipo entero\n",
    "amuleto = True #tipo boolenao\n",
    "\n",
    "# tenemos que hacer un bucle con if elif y else, e ir haciendo comparaciones\n",
    "\n",
    "if puerta == 1:\n",
    "    print(\"has perdido\")\n",
    "elif puerta == 2 and amuleto == True:\n",
    "    print(\"has ganado\")\n",
    "else:\n",
    "    print(\"sigue jugando\")\n",
    "\n",
    "# hago comprobaciones con diferentes números para ver que está bien.\n",
    "# pruebo con 1, con 2 y con otros números\n"
   ]
  },
  {
   "cell_type": "markdown",
   "metadata": {},
   "source": [
    "### Ejercicio 3\n",
    "\n",
    "Escribe un programa que solicite al usuario un número entero positivo n y luego imprima un triángulo de asteriscos (*) de altura n. Por ejemplo, si el usuario ingresa 5, el programa debería imprimir:"
   ]
  },
  {
   "cell_type": "code",
   "execution_count": 7,
   "metadata": {},
   "outputs": [
    {
     "data": {
      "text/plain": [
       "'\\n\\n*\\n*  *  \\n*  *  *  \\n*  *  *  *\\n*  *  *  *  *\\n\\n'"
      ]
     },
     "execution_count": 7,
     "metadata": {},
     "output_type": "execute_result"
    }
   ],
   "source": [
    "'''\n",
    "\n",
    "*\n",
    "*  *  \n",
    "*  *  *  \n",
    "*  *  *  *\n",
    "*  *  *  *  *\n",
    "\n",
    "'''"
   ]
  },
  {
   "cell_type": "code",
   "execution_count": 12,
   "metadata": {},
   "outputs": [
    {
     "name": "stdout",
     "output_type": "stream",
     "text": [
      "*\n",
      "**\n",
      "***\n",
      "****\n",
      "*****\n",
      "******\n"
     ]
    }
   ],
   "source": [
    "# Tenemos que pedir al usuario un número entero positivo n, luego con print hacer la pirámide.\n",
    "# Para solicitar al usuario el número usaré un input\n",
    "# para eso utilizaré un bucle y que pueda ir iterando por la filas y haciendo print de cada elemento\n",
    "\n",
    "usuario_num =int(input(\"Hola, introduce un número positivo, gracias!!\")) # tenemos que poner que sea un int\n",
    "\n",
    "n = usuario_num # a la n le damos el valor que nos indica el usuario\n",
    "\n",
    "for i in range(n): #usamos un range\n",
    "    for j in range(i+1): # controlamos las filas iterando, ese bucle recorre la i y le suma 1\n",
    "        print(\"*\", end=\"\") # imprimimos en la misma línea, #imprime el valor de j en la misma línea, el end hace que estén en la misma línea\n",
    "    print() # con esto le damos un salto de línea\n",
    "    "
   ]
  },
  {
   "cell_type": "markdown",
   "metadata": {},
   "source": [
    "### Ejercicio 4\n",
    "\n",
    "Crea un programa que pida una contraseña por teclado e indique si es correcta\n",
    "o incorrecta con un print(). La contraseña correcta es “python”. Si la contraseña era incorrecta la pide de nuevo hasta 3 veces como máximo. Si al tercer intento no se acierta, debe ponerse a None y poner en un print() que la cuenta se ha bloqueado. Si se consigue entrar, se muestra que es correcta en un print(). Debe haber como mínimo un **BUCLE WHILE**"
   ]
  },
  {
   "cell_type": "code",
   "execution_count": null,
   "metadata": {},
   "outputs": [],
   "source": [
    "\n",
    "# necesitamos contraseña, contraseña correcta es python, si es incorrecta 3 veces como máximo.\n",
    "# Si el 3 inteto no es, se pone a None poner print(\"Cuenta bloqueada\")\n",
    "# si es correcta se hace un bucle while\n",
    "\n",
    "# Hacemos una variable con contraseña y le aplicamos el valor de python\n",
    "contrasena = \"python\"\n",
    "\n",
    "# Damos un valor de aciertos, tiene que ser 3\n",
    "intentos = 3\n",
    "\n",
    "\n",
    "# pedimo contraseña a usuario mediante un Input\n",
    "contra_user = (input(\"Introduce tu contraseña, por favor\"))\n",
    "\n",
    "#necesitamos verificar esa contraseña\n",
    "# bucle while\n",
    "\n",
    "while intentos:\n",
    "   \n",
    "    if contra_user == contrasena: #si acierta\n",
    "        break # salimos del bucle\n",
    "    else: # si no acierta tiene 2 intentos más\n",
    "        aciertos = intentos - 1\n",
    "\n",
    "if intentos == 0: #ya no te quedan más intentos\n",
    "    print(f\"Cuenta bloqueada\")\n",
    "else:\n",
    "    print(f\"Te queda un intento\")\n"
   ]
  },
  {
   "cell_type": "markdown",
   "metadata": {},
   "source": [
    "### Ejercicio 5\n",
    "Una empresa usa dos listas  para guardar la información de sus empleados. Una lista guarda el nombre del empleado y la otra guarda su salario. Escribe un programa que cree esas dos listas originalmente vacías y que a través de un menú pueda hacer lo siguiente:\n",
    "    \n",
    "Inserta 1 para añadir un nuevo empleado y su salario\n",
    "\n",
    "Inserta 2 para imprimir los nombres y salarios de todos los empleados\n",
    "\n",
    "Inserta 3 para mostrar el número de empleados\n",
    "\n",
    "Inserta 4 para imprimir los nombres de los empleados con sueldos superiores a 400000\n",
    "\n",
    "Inserta 5 para subir un 5% los sueldos por debajo de 10000\n",
    "\n",
    "Inserta 6 para mostrar el total de todos los salarios\n",
    "\n",
    "Inserta 7 para salir del programa"
   ]
  },
  {
   "cell_type": "code",
   "execution_count": null,
   "metadata": {},
   "outputs": [
    {
     "ename": "IndentationError",
     "evalue": "unindent does not match any outer indentation level (<tokenize>, line 73)",
     "output_type": "error",
     "traceback": [
      "  \u001b[36mFile \u001b[39m\u001b[32m<tokenize>:73\u001b[39m\n\u001b[31m    \u001b[39m\u001b[31mcase \"Insertar 2\":\u001b[39m\n    ^\n\u001b[31mIndentationError\u001b[39m\u001b[31m:\u001b[39m unindent does not match any outer indentation level\n"
     ]
    }
   ],
   "source": [
    "\n",
    "empleados= {} #diccionario vacio para almacenar datos\n",
    "\n",
    "# lista nombre empleados, iniciamos con lista vacía\n",
    "nombre_empleados = []\n",
    "\n",
    "# lista salario empleados, iniciamos con lista vacía\n",
    "salario_empleados = []\n",
    "\n",
    "#creamos las funciones\n",
    "\n",
    "# La primera función será para añadir empleado y salario\n",
    "def anadir_empleado(nombre_empleado):   \n",
    "    # Pedir nombre empleado y salario\n",
    "    nombre = input(\" Introduce el nombre del nuevo usuario:\")\n",
    "    salario = int(input(\" Introduce el salario del nuevo empleado:\"))\n",
    "    \n",
    "    # Crear un diccionario con la información del nuevo empleado\n",
    "    nuevo_empleado = {\"Nombre\": nombre_empleado, \"salario\": salario_empleados}\n",
    "    \n",
    "    # Añadir el nuevo empleado\n",
    "    empleados.append(nuevo_empleado)\n",
    "  \n",
    "    # Mostrar mensaje de confirmación\n",
    "    print(\" Se ha añadido un nuevo empleado\")\n",
    "    \n",
    "# La segunda función será para imprimir todos los empleado\n",
    "def imprimir_empleados(empleados):\n",
    "    for empleado in empleados:\n",
    "        imprimir_empleados(empleados)\n",
    "\n",
    "# La tercera función será para mostrar el número de empleados\n",
    "def numero_empleados(empleados):\n",
    "    for empleado in empleados:\n",
    "        numero_empleados(empleados)\n",
    "        \n",
    "# La 4 función será para imprimir nombres sueldo superio a 400000\n",
    "def empleados_sueldo_sup(empleados):\n",
    "    if empleados_sueldo_sup >= 400000:\n",
    "       # tengo que recorrer la lista de empleados y buscar que empleados ganan más de 40000\n",
    "       \n",
    "# La función 5 es para subir el sueldo 5% empleados por debajo de salario\n",
    "\n",
    "\n",
    "# LA función 6 para mostrar total de todos los salarios\n",
    "\n",
    "\n",
    "\n",
    "# Primero presentamos al usuario las opciones que tendrá disponible\n",
    "print(\" Hola, ¿Qué operación quieres realizar?\")\n",
    "print(\"Opciones disponibles:\")\n",
    "print()\n",
    "print(\" Inserta 1 para añadir un nuevo empleado y su salario \")\n",
    "print(\" Inserta 2 para imprimir los nombres y salarios de todos los empleados \")\n",
    "print(\" Inserta 3 para mostrar el número de empleados\")\n",
    "print(\" Inserta 4 para imprimir los nombres de los empleados con sueldos superiores a 400000\")\n",
    "print(\" Inserta 5 para subir un 5% los sueldos por debajo de 10000\")\n",
    "print(\" Inserta 6 para mostrar el total de todos los salarios\")\n",
    "print(\" Inserta 7 para salir del programa\")\n",
    "print()\n",
    "\n",
    "#iniciamos con un salir False, para que el programa entre en el bucle\n",
    "\n",
    "salir = False\n",
    "while not salir:\n",
    "    opcion = input(\" Insertar 1 / Insertar 2 / Insertar 3 / Inserta 4 / Inserta 5 / Inserta 6 / Inserta 7\")\n",
    "    \n",
    "    # Dependiendo de la opción que haya elegido el usuario, llamamos a la función correspondiente\n",
    "    # En este caso, he hecho una función para cada opción.\n",
    "    match opcion:\n",
    "    \n",
    "        case \"Insertar 1 \":\n",
    "            anadir_empleado(empleados)\n",
    "       case \"Insertar 2\":\n",
    "            imprimir_empleados(empleados)\n",
    "        case \"Insertar 3\":\n",
    "            numero_empleados(empleados)\n",
    "        case \"Inserta 4\":\n",
    "            empleados_sueldo_sup(empleados)\n",
    "        case \"Insertar 5\":\n",
    "            subir_sueldo_empleados(empleados)\n",
    "        case \"Insertar 6\":\n",
    "            total_salarios_empleados(empleados)\n",
    "        case \"salir\":\n",
    "            salir = True\n"
   ]
  },
  {
   "cell_type": "markdown",
   "metadata": {},
   "source": [
    "\n",
    "### Ejercicio 6 (**EXTRA**)\n",
    "\n",
    "#### Crear un programa que calcule la cuota de una hipoteca\n",
    "\n",
    "Las cuotas hipotecarias se calculan utilizando la fórmula del interés francés. \n",
    "\n",
    "La fórmula del interés frances es la siguiente:\n",
    "\\begin{align*}\n",
    "C=V \\frac{(1+i)^n i}{(1+i)^n -1}\n",
    "\\end{align*}\n",
    "\n",
    "\n",
    "    C = cuota a pagar (mensual)\n",
    "    V = volumen del préstamo hipotecario\n",
    "    i = tipo de interés del período (mensual)\n",
    "    n = número de cuotas (mensuales)\n",
    "\n",
    "1. Crea un programa que solicite al usuario los datos de su hipoteca mediante input() los datos (volumen, interés **anual**, y plazo en **años**) y le devuelva la cuota **mensual** a pagar. No es necesario encapsularlo en funciones.\n",
    "\n",
    "2. Crea una función `calcular_hip` que realiza el cálculo y cuyos argumentos de entrada sean `volumen`, `interes_anual` y `años`, devolviendo la couta mensual(float). El argumento de `años` deberá de tener un valor por defecto de 30.\n",
    "3. Calcula la cuota y guárdala en la variable `res_cuota` si la cantidad de la hipoteca son 350000 euros, el interés anual es del 5% y la quiere pagar en 20 años a partir de la función `calcular_hip`.\n",
    "4. Crea una función `gasto_vivienda`, con dos argumentos de entrada `ingreso` y `lista_hip`. Esta lista tendrá los 3 valores de los argumentos de entrada de `calcular_hip`, siendo esta una función que deberá ser utilizada dentro de `gasto_vivienda`. Tiene que devolver el valor del porcentaje de gasto en la hipoteca respecto a los ingresos. (Entre 0 y 1, es decir 0.5 si es del 50%)\n",
    "5. Calcula el porcentaje de gasto en la hipoteca si el ingreso es de 1700 euros y guárdalo en la variable `res_porcentaje`.\n",
    "6. Documenta ambas funciones."
   ]
  },
  {
   "cell_type": "code",
   "execution_count": null,
   "metadata": {},
   "outputs": [],
   "source": []
  },
  {
   "cell_type": "code",
   "execution_count": null,
   "metadata": {},
   "outputs": [],
   "source": []
  },
  {
   "cell_type": "code",
   "execution_count": null,
   "metadata": {},
   "outputs": [],
   "source": []
  },
  {
   "cell_type": "code",
   "execution_count": null,
   "metadata": {},
   "outputs": [],
   "source": []
  },
  {
   "cell_type": "code",
   "execution_count": null,
   "metadata": {},
   "outputs": [],
   "source": []
  },
  {
   "attachments": {},
   "cell_type": "markdown",
   "metadata": {},
   "source": [
    "¡Has terminado!\n",
    "\n",
    "Adjunta este fichero en la tarea del CampusVirtual"
   ]
  }
 ],
 "metadata": {
  "kernelspec": {
   "display_name": "Python 3",
   "language": "python",
   "name": "python3"
  },
  "language_info": {
   "codemirror_mode": {
    "name": "ipython",
    "version": 3
   },
   "file_extension": ".py",
   "mimetype": "text/x-python",
   "name": "python",
   "nbconvert_exporter": "python",
   "pygments_lexer": "ipython3",
   "version": "3.11.9"
  },
  "orig_nbformat": 4,
  "vscode": {
   "interpreter": {
    "hash": "1e989a6a87260c027f3014f78a3a3d191394072689c96a40223c8499353d25ee"
   }
  }
 },
 "nbformat": 4,
 "nbformat_minor": 2
}
