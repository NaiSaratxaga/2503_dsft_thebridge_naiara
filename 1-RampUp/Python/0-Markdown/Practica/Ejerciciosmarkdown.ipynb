{
 "cells": [
  {
   "attachments": {},
   "cell_type": "markdown",
   "metadata": {},
   "source": [
    "![imagen](./img/ejercicios.png)\n",
    "# Markdown\n",
    "\n",
    "## Ejercicio 1\n",
    "Vamos a aplicar los conocimientos adquiridos en este notebook, intentando reproducir la siguiente imagen en una celda markdown con su sintaxis. En el link va la página: https://www.kaggle.com/\n",
    "\n",
    "**TIP**: en [este enlace](https://www.markdownguide.org/basic-syntax/) tienes más ejemplos, por si te atascas con algo :)\n"
   ]
  },
  {
   "cell_type": "markdown",
   "metadata": {},
   "source": [
    "![imagen](./img/ejercicio_markdown.png)"
   ]
  },
  {
   "cell_type": "markdown",
   "metadata": {},
   "source": [
    "### Ejercicio Naiara"
   ]
  },
  {
   "cell_type": "markdown",
   "metadata": {},
   "source": [
    "## Aptitudes de Data Science"
   ]
  },
  {
   "cell_type": "markdown",
   "metadata": {},
   "source": [
    "### Lo más importante\n",
    "\n",
    "<ul>\n",
    "  <li>Matemáticas</li>\n",
    "  <li>Python</li>\n",
    "  <li>SQL</li>\n",
    "</ul>\n",
    "\n",
    "![imagen](./img/python.png)\n",
    "\n",
    "#### Otro tema importante es el <em>Business Intellinge</em>\n",
    "#### Si tienes dudas, puedes escribirme a : miguel.nievas@thebridgeeschool.es\n",
    "#### En esta página se aprende mucho de machine learning: [página con ML](https://www.markdownguide.org/basic-syntax/)"
   ]
  },
  {
   "attachments": {},
   "cell_type": "markdown",
   "metadata": {},
   "source": [
    "## Ejercicio 2\n",
    "Para este ejercicio vas a crear dos nuevos elementos que no hemos visto en la teoría, tendrás que buscar en google cómo hacer: una tabla y una fórmula. Busca en la web la sintaxis y replica ambos elementos."
   ]
  },
  {
   "cell_type": "markdown",
   "metadata": {},
   "source": [
    "<div style=\"text-align:center\"><img src=\"./img/md_ejercicio2.png\" /></div>"
   ]
  },
  {
   "cell_type": "markdown",
   "metadata": {},
   "source": [
    "### Ejercicio Naiara"
   ]
  },
  {
   "cell_type": "markdown",
   "metadata": {},
   "source": [
    "\n",
    "<table>\n",
    "  <th><b>Ramp up<b></th>\n",
    "    \n",
    "  <th><b>Data Analysis<b></th>\n",
    "   \n",
    "  <th><b>Machine Learning<b></th>\n",
    "   \n",
    "  <th><b>Data & Business<b></th>\n",
    "   \n",
    "  <tr>\n",
    "   <td>Python</td>\n",
    "   <td>EEDA</td>\n",
    "   <td>Supervised</td>\n",
    "   <td>Productivización</td>\n",
    "  </tr>\n",
    "  <tr>\n",
    "  \n",
    "   <td>Estadística</td>\n",
    "   <td>R</td>\n",
    "   <td>Non Supervised</td>\n",
    "   <td>Storytelling</td>\n",
    "  </tr>\n",
    "  <tr>\n",
    "   <td>SQL</td>\n",
    "   <td>Feat.Eng.</td>\n",
    "   <td>Deep Learning</td>\n",
    "   <td>API</td>\n",
    " </tr>\n",
    "</table>\n",
    "\n",
    "$\\sqrt{3x-1}$ + (1+x)<sup>2</sup>\n"
   ]
  },
  {
   "cell_type": "markdown",
   "metadata": {},
   "source": []
  }
 ],
 "metadata": {
  "kernelspec": {
   "display_name": "Python 3",
   "language": "python",
   "name": "python3"
  },
  "language_info": {
   "codemirror_mode": {
    "name": "ipython",
    "version": 3
   },
   "file_extension": ".py",
   "mimetype": "text/x-python",
   "name": "python",
   "nbconvert_exporter": "python",
   "pygments_lexer": "ipython3",
   "version": "3.9.6"
  }
 },
 "nbformat": 4,
 "nbformat_minor": 4
}
