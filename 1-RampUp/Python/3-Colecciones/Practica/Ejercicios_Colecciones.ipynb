{
 "cells": [
  {
   "cell_type": "markdown",
   "metadata": {},
   "source": [
    "![imagen](./img/ejercicios.png)"
   ]
  },
  {
   "cell_type": "markdown",
   "metadata": {},
   "source": [
    "## Ejercicio 1\n",
    "Dada la siguiente lista:\n",
    "> ```ejer_1 = [1,2,3,4,5]```\n",
    "\n",
    "Inviértela para que quede de la siguiente manera\n",
    "> ```ejer_1 = [5,4,3,2,1]```"
   ]
  },
  {
   "cell_type": "code",
   "execution_count": 25,
   "metadata": {},
   "outputs": [
    {
     "name": "stdout",
     "output_type": "stream",
     "text": [
      "[5, 4, 3, 2, 1]\n"
     ]
    }
   ],
   "source": [
    "# Para invertirla voy a usar el método reverse\n",
    "ejer_1 = [1, 2, 3, 4, 5]\n",
    "ejer_1.reverse()\n",
    "print(ejer_1)"
   ]
  },
  {
   "cell_type": "code",
   "execution_count": 26,
   "metadata": {},
   "outputs": [
    {
     "name": "stdout",
     "output_type": "stream",
     "text": [
      "[5, 4, 3, 2, 1]\n"
     ]
    }
   ],
   "source": [
    "# También se puede usar el método slicing\n",
    "ejer_1 = [1, 2, 3, 4, 5]\n",
    "ejer_1 = ejer_1[::-1]  # Invierte la lista\n",
    "print(ejer_1) \n"
   ]
  },
  {
   "cell_type": "markdown",
   "metadata": {},
   "source": [
    "## Ejercicio 2\n",
    "Eleva todos los elementos de la lista al cuadrado\n",
    "> ```ejer_2 = [1,2,3,4,5]```"
   ]
  },
  {
   "cell_type": "code",
   "execution_count": 27,
   "metadata": {},
   "outputs": [
    {
     "name": "stdout",
     "output_type": "stream",
     "text": [
      "[1, 4, 9, 16, 25]\n"
     ]
    }
   ],
   "source": [
    "\n",
    "ejer_2 = [1, 2, 3, 4, 5]\n",
    "cuadrados = [x**2 for x in ejer_2] #con x**2 elevamos los elementos de la lista al cuadrado\n",
    "#con el for iteramos cada elemento de la lista. Esto genera una lista nueva con el resultado.\n",
    "print(cuadrados) \n"
   ]
  },
  {
   "cell_type": "code",
   "execution_count": 28,
   "metadata": {},
   "outputs": [
    {
     "name": "stdout",
     "output_type": "stream",
     "text": [
      "[1, 4, 9, 16, 25]\n"
     ]
    }
   ],
   "source": [
    "# También podemos aplicar el método append\n",
    "ejer_2 = [1, 2, 3, 4, 5]\n",
    "cuadrados = [] #lista vacia, en ella almacenamos los cuadrados de los números\n",
    "for x in ejer_2: #Este bucle recorre cada elemento x en la lista. x tomará uno a uno cada valor de lista.\n",
    "    cuadrados.append(x**2) #con append() agregamos valor al final de la lista cuadrados.\n",
    "#Dentro de los paréntesis de append introducimos la operación matemática\n",
    "print(cuadrados) "
   ]
  },
  {
   "cell_type": "code",
   "execution_count": 30,
   "metadata": {},
   "outputs": [
    {
     "data": {
      "text/plain": [
       "[1, 4, 9, 16, 25]"
      ]
     },
     "execution_count": 30,
     "metadata": {},
     "output_type": "execute_result"
    }
   ],
   "source": [
    "ejer_2 = [1, 2, 3, 4, 5]\n",
    "ejer_2\n",
    "[i**2 for i in ejer_2] #con i**2 elevamos los elementos de la lista al cuadrado\n",
    "#con el for iteramos cada elemento de la lista. Esto genera una lista nueva con el resultado."
   ]
  },
  {
   "cell_type": "markdown",
   "metadata": {},
   "source": [
    "## Ejercicio 3\n",
    "Crea una lista nueva con todas las combinaciones de las siguientes dos listas:\n",
    "> ```ejer_3_1 = [\"Hola\", \"amigo\"]```\n",
    ">\n",
    "> ```ejer_3_2 = [\"Que\", \"tal\"]```\n",
    "\n",
    "Obten el siguiente output:\n",
    "\n",
    "```['Hola Que', 'Hola tal', 'amigo Que', 'amigo tal']```"
   ]
  },
  {
   "cell_type": "code",
   "execution_count": 29,
   "metadata": {},
   "outputs": [
    {
     "name": "stdout",
     "output_type": "stream",
     "text": [
      "['Hola Que', 'Hola tal', 'amigo Que', 'amigo tal']\n"
     ]
    }
   ],
   "source": [
    "ejer_3_1 = [\"Hola\", \"amigo\"]\n",
    "ejer_3_2 = [\"Que\", \"tal\"]\n",
    "\n",
    "# Hacemos una lista vacía para almacenar los resultados\n",
    "ejer_3 = [] \n",
    "\n",
    "# Usamos un primer for para recorrer la primera lista (ejer_3_1)\n",
    "for palabra1 in ejer_3_1:\n",
    "#Dentro de ese for, usamos otro for anidado para recorrer la segunda lista (ejer_3_2).\n",
    "    for palabra2 in ejer_3_2:\n",
    "# En cada iteración, concatenamos las palabras con un espacio (+ \" \" +) y las agregamos con append().\n",
    "        ejer_3.append(palabra1 + \" \" + palabra2)  \n",
    "\n",
    "print(ejer_3) \n"
   ]
  },
  {
   "attachments": {},
   "cell_type": "markdown",
   "metadata": {},
   "source": [
    "## Ejercicio 4\n",
    "Dada la siguiente lista, encuentra por el índice el valor 45 y sustitúyelo por el 0\n",
    "> ```ejer_4 = [20, 47, 19, 29, 45, 67, 78, 90]```"
   ]
  },
  {
   "cell_type": "code",
   "execution_count": 30,
   "metadata": {},
   "outputs": [
    {
     "name": "stdout",
     "output_type": "stream",
     "text": [
      "[20, 47, 19, 29, 0, 67, 78, 90]\n"
     ]
    }
   ],
   "source": [
    "ejer_4 = [20, 47, 19, 29, 45, 67, 78, 90]\n",
    "\n",
    "ejer_4 [4]= 0 # para encontrar el indice lo metemos entre corchetes y lo remplzamos por 0\n",
    "\n",
    "print(ejer_4)"
   ]
  },
  {
   "cell_type": "code",
   "execution_count": 32,
   "metadata": {},
   "outputs": [
    {
     "name": "stdout",
     "output_type": "stream",
     "text": [
      "[20, 47, 19, 29, 0, 67, 78, 90]\n",
      "4\n"
     ]
    }
   ],
   "source": [
    "ejer_4 = [20, 47, 19, 29, 45, 67, 78, 90]\n",
    "\n",
    "ejer_4 [4]= 0 # para encontrar el indice lo metemos entre corchetes y lo remplzamos por 0\n",
    "\n",
    "print(ejer_4)\n",
    "\n",
    "\n",
    "for i in range(len(ejer_4)): #con range(len(ejer_4)) recorremos cada índice de la lista\n",
    "    if ejer_4[i] == 0: #con un if comprobamos si el valor en el índice i es igual a 0\n",
    "        print(i) #si es así, imprimimos el índice"
   ]
  },
  {
   "cell_type": "markdown",
   "metadata": {},
   "source": [
    "## Ejercicio 5\n",
    "Dada la siguiente lista, elimina todos los valores iguales a 3\n",
    "> ```ejer_5 = [3, 20, 3, 47, 19, 3, 29, 45, 67, 78, 90, 3, 3]```\n",
    "\n",
    "TIP: No intentes eliminar elementos sobre la lista que estás iterando. Haz una copia con `ejer_5.copy()`."
   ]
  },
  {
   "cell_type": "code",
   "execution_count": 39,
   "metadata": {},
   "outputs": [
    {
     "name": "stdout",
     "output_type": "stream",
     "text": [
      "[20, 47, 19, 29, 45, 67, 78, 90]\n"
     ]
    }
   ],
   "source": [
    "#Usaré List Comprehension.\n",
    "ejer_5 = [3, 20, 3, 47, 19, 3, 29, 45, 67, 78, 90, 3, 3]\n",
    "\n",
    "#Este for recorre cada elemento (num) de la lista ejer_5, uno por uno. Se evalúa la condición num != 3 para cada elemento.\n",
    "#Solo los números diferentes de 3 serán incluidos en la nueva lista.\n",
    "\n",
    "ejer_5 = [num for num in ejer_5 if num != 3]  # Filtramos los que NO sean 3\n",
    "\n",
    "# y ya hacemos el print de la lista nueva con los valores iguales a 3\n",
    "print(ejer_5)  \n"
   ]
  },
  {
   "cell_type": "code",
   "execution_count": 39,
   "metadata": {},
   "outputs": [
    {
     "name": "stdout",
     "output_type": "stream",
     "text": [
      "[20, 47, 19, 29, 45, 67, 78, 90]\n",
      "[20, 47, 19, 29, 45, 67, 78, 90]\n",
      "[3, 20, 3, 47, 19, 3, 29, 45, 67, 78, 90, 3, 3]\n"
     ]
    }
   ],
   "source": [
    "#Otra forma de hacerlo\n",
    "ejer_5 = [3, 20, 3, 47, 19, 3, 29, 45, 67, 78, 90, 3, 3]\n",
    "#asi no creamos copia de la lista original\n",
    "ejer_5copia = ejer_5\n",
    "ejer_5copia = ejer_5copia.copy() #con copy() creamos una copia de la lista ejer_5\n",
    "while 3 in ejer_5: #mientras 3 esté en la lista ejer_5\n",
    "    ejer_5.remove(3) #eliminamos el 3 de la lista\n",
    "print(ejer_5) #imprimimos la lista en cada iteración\n",
    "print(ejer_5)\n",
    "print(ejer_5copia) #imprimimos la copia de la lista original"
   ]
  },
  {
   "attachments": {},
   "cell_type": "markdown",
   "metadata": {},
   "source": [
    "## Ejercicio 6\n",
    "1. Crea una tupla con 3 elementos\n",
    "2. Crea otra tupla con un elemento y comprueba su tipo\n",
    "3. Crea una tupla con elementos de diferentes tipos\n",
    "4. Imprime por pantalla el primer y último elemento de la tupla del apartado 3. Usa `len` para el último\n",
    "5. Añade un elemento a la tupla del apartado 3.\n",
    "6. Eliminar un elemento de la tupla del apartado 5, que se encuentre más o menos en la mitad.\n",
    "7. Convierte la tupla del apartado 5 en una lista"
   ]
  },
  {
   "cell_type": "code",
   "execution_count": 28,
   "metadata": {},
   "outputs": [
    {
     "name": "stdout",
     "output_type": "stream",
     "text": [
      "(1, 2, 3)\n",
      "<class 'tuple'> (4,)\n",
      "\n",
      "('a', 1.5, True)\n",
      "\n",
      "a\n",
      "True\n",
      "\n",
      "('a', 1.5, True, 'Patata')\n",
      "\n",
      "<class 'list'> ['a', 1.5, True, 'Patata']\n",
      "Patata\n",
      "['a', 1.5, True]\n",
      "<class 'list'>\n",
      "<class 'tuple'>\n",
      "\n",
      "('a', True)\n",
      "\n",
      "['a', True]\n",
      "<class 'list'>\n"
     ]
    }
   ],
   "source": [
    "#1 Creamos tupla con 3 elementos\n",
    "ejer_6_1 = (1,2,3)\n",
    "print(ejer_6_1)\n",
    "\n",
    "#2 Creamos 2 tupla con un elemento (ponemos coma para que lo reconozca como tupla) y ya comprobamos con type\n",
    "ejer_6_2 = (4,) \n",
    "print(type(ejer_6_2), ejer_6_2)\n",
    "print()\n",
    "\n",
    "#3 Tupla con elementos de diferentes tipos. Str, float, bool \n",
    "ejer_6_3 = (\"a\",1.5,True)\n",
    "print(ejer_6_3)\n",
    "print()\n",
    "\n",
    "#4 Imprimir primer y último elemento, usando len para el último\n",
    "print(ejer_6_3[0])  # Primer elemento: a\n",
    "print(ejer_6_3[len(ejer_6_3) - 1])  # Último elemento usando len: True\n",
    "print()\n",
    "\n",
    "#5 Añadir elemento.  Las tuplas son inmutables, no puedo añadir directamente un elemento a la tupla.\n",
    "# Voy a crear una nueva tupla concatenando una nueva tupla con el elemento adicional.\n",
    "ejer_6_3 = ejer_6_3 + (\"Patata\",)\n",
    "print(ejer_6_3)\n",
    "print()\n",
    "\n",
    "#6 Eliminar elemento, tenemos que convertir primero en lista. Las tuplas son inmutables y para eliminarlos, \n",
    "# primero convertimos en lista, borramos y luego volvemos a convertir en tupla.\n",
    "# Convertimos la lista a tupla\n",
    "ejer_6_3 = list(ejer_6_3)\n",
    "print(type(ejer_6_3),ejer_6_3)\n",
    "print(ejer_6_3.pop(3)) #Compruebo que he borrado el elemeto que me piden\n",
    "print(ejer_6_3)#imprio de nuevo para comprobar que está bien\n",
    "print(type(ejer_6_3))# compruebo el tipo\n",
    "ejer_6_3 = tuple(ejer_6_3) #convierto de nuevo a tupla\n",
    "print(type(ejer_6_3))# imprimo tipo para saber que es el corecto\n",
    "print()\n",
    " \n",
    "# Encontramos el índice del elemento más o menos en la mitad (índice 2 en este caso)\n",
    "indice_medio = len(ejer_6_3) // 2\n",
    "# Eliminamos el elemento en la posición media, primero pasamos de nuevo a lista, ya que una tupla no se puede modificar\n",
    "ejer_6_3 = list(ejer_6_3)\n",
    "ejer_6_3.pop(indice_medio)\n",
    "# Convertimos de nuevo en tupla\n",
    "ejer_6_3 = tuple(ejer_6_3)\n",
    "print(ejer_6_3)\n",
    "print()\n",
    "\n",
    "# 7 Convertir en lista\n",
    "ejer_6_3 = list(ejer_6_3)\n",
    "print(ejer_6_3)\n",
    "print(type(ejer_6_3))"
   ]
  },
  {
   "attachments": {},
   "cell_type": "markdown",
   "metadata": {},
   "source": [
    "## Ejercicio 7\n",
    "Concatena todos los elementos de la tupla en un único string. Para ello utiliza el metodo `.join()` de los Strings\n",
    "> ```ejer_7 = (\"cien\", \"cañones\", \"por\", \"banda\")```\n",
    "\n",
    "Resultado: `cien cañones por banda`"
   ]
  },
  {
   "cell_type": "code",
   "execution_count": 33,
   "metadata": {},
   "outputs": [
    {
     "name": "stdout",
     "output_type": "stream",
     "text": [
      "cien cañones por banda\n"
     ]
    }
   ],
   "source": [
    "ejer_7 = (\"cien\", \"cañones\", \"por\", \"banda\") #tupla de cadena de texto\n",
    "resultado = \" \" .join(ejer_7) #usamos join para unir todos los valores de la tupla. \n",
    "#Usamos comillas con espacio para que nos de la unión sin comillas ni comas.\n",
    "#Coge cada elemento de la tupla ejer_7 y los une usando el espacio como separador.\n",
    "\n",
    "print(resultado)"
   ]
  },
  {
   "cell_type": "markdown",
   "metadata": {},
   "source": [
    "## Ejercicio 8\n",
    "Obten el tercer elemento de la siguiente tupla, y el tercero empezando por la cola\n",
    "> ```ejer_8 = (3, 20, 3, 47, 19, 3, 29, 45, 67, 78, 90, 3, 3)```"
   ]
  },
  {
   "cell_type": "code",
   "execution_count": null,
   "metadata": {},
   "outputs": [
    {
     "name": "stdout",
     "output_type": "stream",
     "text": [
      "3\n",
      "90\n"
     ]
    }
   ],
   "source": [
    "ejer_8 = (3, 20, 3, 47, 19, 3, 29, 45, 67, 78, 90, 3, 3)\n",
    "#Para acceder a los elementos de una tupla, se hace igual que con las listas, usando corchetes y el índice del elemento.\n",
    "print(ejer_8[2])\n",
    "print(ejer_8[-3])"
   ]
  },
  {
   "cell_type": "code",
   "execution_count": 35,
   "metadata": {},
   "outputs": [
    {
     "name": "stdout",
     "output_type": "stream",
     "text": [
      "3 90\n"
     ]
    }
   ],
   "source": [
    "#con esta forma puedes imprimir el resultado en la misma linea\n",
    "ejer_8 = (3, 20, 3, 47, 19, 3, 29, 45, 67, 78, 90, 3, 3)\n",
    "\n",
    "tercer_elemento = ejer_8[2]  \n",
    "tercer_desde_el_final = ejer_8[-3]  \n",
    "\n",
    "print(tercer_elemento, tercer_desde_el_final)\n",
    "\n"
   ]
  },
  {
   "attachments": {},
   "cell_type": "markdown",
   "metadata": {},
   "source": [
    "## Ejercicio 9\n",
    "1. ¿Cuántas veces se repite el 3 en la siguiente tupla?\n",
    "2. Crea una tupla nueva con los elementos desde la posición 5 a la 10.\n",
    "3. ¿Cuántos elementos tiene la tupla `ejer_9`?\n",
    "4. Comprueba si el numero 60 está en la tupla\n",
    "> ```ejer_9 = (3, 20, 3, 47, 19, 3, 29, 45, 67, 78, 90, 3, 3, 5, 2, 4, 7, 9, 4, 2, 4, 3, 3, 4, 6, 7)```"
   ]
  },
  {
   "cell_type": "code",
   "execution_count": 53,
   "metadata": {},
   "outputs": [
    {
     "name": "stdout",
     "output_type": "stream",
     "text": [
      "La tupla tiene 26 elementos.\n",
      "El número 3 se repite 7 veces.\n",
      "Nueva tupla: (3, 29, 45, 67, 78, 90)\n",
      "La tupla tiene 26 elementos.\n",
      "El número 60 no está en la tupla.\n"
     ]
    }
   ],
   "source": [
    "ejer_9 = (3, 20, 3, 47, 19, 3, 29, 45, 67, 78, 90, 3, 3, 5, 2, 4, 7, 9, 4, 2, 4, 3, 3, 4, 6, 7)\n",
    "\n",
    "#  ¿Cuántas veces se repite el número 3? Voy a usar el metodo count, para que cuente el elemento 3\n",
    "veces_3 = ejer_9.count(3)\n",
    "print(f\"El número 3 se repite {veces_3} veces.\")  \n",
    "\n",
    "# 2 Crear una tupla con los elementos de la posición 5 a la 10\n",
    "tupla_nueva = ejer_9[5:11]\n",
    "print(\"Nueva tupla:\", tupla_nueva) \n",
    "\n",
    "# 3 ¿Cuántos elementos tiene la tupla `ejer_9`? usamos len para que nos diga la cantidad de elementos\n",
    "cantidad_elementos = len(ejer_9)\n",
    "print(f\"La tupla tiene {cantidad_elementos} elementos.\")  \n",
    "\n",
    "# 4 Comprobar si el número 60 está en la tupla\n",
    "esta_60 = 60 in ejer_9\n",
    "print(f\"El número 60 {'está' if esta_60 else 'no está'} en la tupla.\") \n"
   ]
  },
  {
   "attachments": {},
   "cell_type": "markdown",
   "metadata": {},
   "source": [
    "## Ejercicio 10\n",
    "1. Convierte la tupla del ejercicio 9 en una lista\n",
    "2. Convierte la tupla del ejercicio 9 en un set\n",
    "3. Convierte la tupla del ejercicio 9 en un diccionario. Usa también los índices"
   ]
  },
  {
   "cell_type": "code",
   "execution_count": 59,
   "metadata": {},
   "outputs": [
    {
     "name": "stdout",
     "output_type": "stream",
     "text": [
      "<class 'list'>\n",
      "[3, 20, 3, 47, 19, 3, 29, 45, 67, 78, 90, 3, 3, 5, 2, 4, 7, 9, 4, 2, 4, 3, 3, 4, 6, 7]\n",
      "<class 'set'>\n",
      "{2, 3, 67, 5, 4, 7, 6, 9, 45, 78, 47, 19, 20, 90, 29}\n",
      "{0: 2, 1: 3, 2: 67, 3: 5, 4: 4, 5: 7, 6: 6, 7: 9, 8: 45, 9: 78, 10: 47, 11: 19, 12: 20, 13: 90, 14: 29}\n"
     ]
    }
   ],
   "source": [
    "ejer_9 = (3, 20, 3, 47, 19, 3, 29, 45, 67, 78, 90, 3, 3, 5, 2, 4, 7, 9, 4, 2, 4, 3, 3, 4, 6, 7)\n",
    "#para convertir en lista usamos metodo list\n",
    "ejer_9 = list(ejer_9)\n",
    "print(type(ejer_9))\n",
    "print(ejer_9)\n",
    "\n",
    "#para convertirlo en set, usamos el metodo set\n",
    "ejer_9 = set(ejer_9)\n",
    "print(type(ejer_9))\n",
    "print(ejer_9) # imprime sin duplicados\n",
    "\n",
    "#Para crear el diccionario, usaremos el metodo dict\n",
    "diccionario_9 = dict(enumerate(ejer_9))\n",
    "print(diccionario_9)\n"
   ]
  },
  {
   "cell_type": "markdown",
   "metadata": {},
   "source": [
    "## Ejercicio 11\n",
    "Convierte la siguiente lista en un diccionario\n",
    "> ```ejer_11 = [(\"x\", 1), (\"x\", 2), (\"x\", 3), (\"y\", 1), (\"y\", 2), (\"z\", 1)]```\n",
    "\n",
    "TIP: Puedes usar dos variables de control en un bucle `for`. Una por cada valor de las tuplas."
   ]
  },
  {
   "cell_type": "code",
   "execution_count": 4,
   "metadata": {},
   "outputs": [
    {
     "name": "stdout",
     "output_type": "stream",
     "text": [
      "{'x': [1, 2, 3], 'y': [1, 2], 'z': [1]}\n"
     ]
    }
   ],
   "source": [
    "ejer_11 = [(\"x\", 1), (\"x\", 2), (\"x\", 3), (\"y\", 1), (\"y\", 2), (\"z\", 1)]\n",
    "#1. Crear un diccionario vacío\n",
    "diccionario = {}\n",
    "#2. Recorrer la lista con un bucle for\n",
    "for clave, valor in ejer_11: #clave y valor son los elementos de la lista ejer_11\n",
    "#3. Comprobar si la clave ya existe en el diccionario\n",
    "    if clave in diccionario:\n",
    "#4. Si la clave ya existe, añadir el valor a la lista de valores\n",
    "        diccionario[clave].append(valor)    \n",
    "    else:\n",
    "#5. Si la clave no existe, crear una nueva lista con el valor\n",
    "        diccionario[clave] = [valor]\n",
    "print(diccionario)\n"
   ]
  },
  {
   "attachments": {},
   "cell_type": "markdown",
   "metadata": {},
   "source": [
    "## Ejercicio 12\n",
    "1. Crea una lista ordenada ascendente con las claves del diccionario\n",
    "2. Crea otra lista ordenada descendente con los valores\n",
    "3. Añade una nueva clave/valor\n",
    "4. Busca la clave igual a 2 dentro del diccionario\n",
    "5. Itera la clave y el valor del diccionario con un único for\n",
    "> ```ejer_12 = {4:78, 2:98, 8:234, 5:29}```"
   ]
  },
  {
   "cell_type": "code",
   "execution_count": null,
   "metadata": {},
   "outputs": [
    {
     "name": "stdout",
     "output_type": "stream",
     "text": [
      "[2, 4, 5, 8]\n",
      "[234, 98, 78, 29]\n",
      "{4: 78, 2: 98, 8: 234, 5: 29, 10: 100}\n",
      "98\n",
      "4 78\n",
      "2 98\n",
      "8 234\n",
      "5 29\n",
      "10 100\n"
     ]
    }
   ],
   "source": [
    "ejer_12 = {4:78, 2:98, 8:234, 5:29}\n",
    "#1. Crea una lista ordenada ascendente con las claves del diccionario. Voy a usar el método keys() y soreted() para ordenarlas.\n",
    "claves_ordenadas = sorted(ejer_12.keys())\n",
    "print(claves_ordenadas)\n",
    "\n",
    "#2 Crea otra lista ordenada descendente con los valores del diccionario. Aquí voy a emplear el método values() y soreted() para ordenarlas.\n",
    "valores_ordenados = sorted(ejer_12.values(), reverse=True)\n",
    "print(valores_ordenados) \n",
    "\n",
    "#3 Añade una nueva clave/valor al diccionario. Para añadir un nuevo elemento al diccionario, simplemente asignamos un valor a una nueva clave.\n",
    "ejer_12[10] = 100\n",
    "print(ejer_12)\n",
    "\n",
    "#4 Busca la clave igual a 2 dentro del diccionario. Para buscar un elemento en un diccionario, usamos el método get().\n",
    "#Si la clave no existe, get() devuelve None. Si la clave existe, devuelve el valor asociado.\n",
    "ejer_12.get(2)\n",
    "print(ejer_12.get(2))\n",
    "\n",
    "#5 Itera la clave y el valor del diccionario con un único for. Usamos el método items() para obtener clave y valor.\n",
    "#El bucle for recorre cada par clave-valor del diccionario.En cada iteración, clave y valor toman los valores correspondientes.\n",
    "for clave, valor in ejer_12.items():\n",
    "    print(clave, valor)\n"
   ]
  },
  {
   "cell_type": "markdown",
   "metadata": {},
   "source": [
    "## Ejercicio 13\n",
    "Junta ambos diccionarios. Para ello, utiliza `update`\n",
    "> ```ejer_13_1 = {1: 11, 2: 22}```\n",
    ">\n",
    "> ```ejer_13_1 = {1: 11, 2: 22}```"
   ]
  },
  {
   "cell_type": "code",
   "execution_count": null,
   "metadata": {},
   "outputs": [
    {
     "name": "stdout",
     "output_type": "stream",
     "text": [
      "{1: 11, 2: 22}\n"
     ]
    }
   ],
   "source": [
    "ejer_13_1 = {1: 11, 2: 22}\n",
    "ejer_13_1 = {1: 11, 2: 22}\n",
    "\n",
    "# Para unir los diccionarios, usamos el método update().\n",
    "# Este método toma como argumento otro diccionario y añade sus elementos al diccionario original.\n",
    "# Si hay claves duplicadas, los valores se actualizan con los del diccionario que se pasa como argumento.\n",
    "# En este caso, el diccionario ejer_13_1 se actualiza con los elementos del diccionario ejer_13_1, que son iguales.\n",
    "# Al final, ejer_13_1 contendrá los elementos de ejer_13_1.\n",
    "ejer_13_1.update(ejer_13_1)\n",
    "print(ejer_13_1)"
   ]
  },
  {
   "cell_type": "code",
   "execution_count": 41,
   "metadata": {},
   "outputs": [
    {
     "name": "stdout",
     "output_type": "stream",
     "text": [
      "{1: 11, 2: 22, 4: 44}\n"
     ]
    }
   ],
   "source": [
    "ejer_13_1 = {1: 11, 2: 22}\n",
    "ejer_13_2 = {1: 11, 4: 44}\n",
    "\n",
    "ejer_13_1.update(ejer_13_2)\n",
    "print(ejer_13_1)"
   ]
  },
  {
   "cell_type": "markdown",
   "metadata": {},
   "source": [
    "## Ejercicio 14\n",
    "Suma todos los valores del dicionario\n",
    "> ```ejer_14 = {1: 11, 2: 22, 3: 33, 4: 44, 5: 55}```"
   ]
  },
  {
   "cell_type": "code",
   "execution_count": null,
   "metadata": {},
   "outputs": [
    {
     "name": "stdout",
     "output_type": "stream",
     "text": [
      "165\n"
     ]
    }
   ],
   "source": [
    "ejer_14 = {1: 11, 2: 22, 3: 33, 4: 44, 5: 55}\n",
    "\n",
    "# Para sumar los valores de un diccionario, usamos el método values() para obtener los valores y sum() para sumarlos.\n",
    "suma_valores = sum(ejer_14.values())\n",
    "# ejer_14.values() devuelve [11, 22, 33, 44, 55]\n",
    "# y con sum([11, 22, 33, 44, 55]) suma los valores de la lista\n",
    "print(suma_valores)"
   ]
  },
  {
   "cell_type": "code",
   "execution_count": 42,
   "metadata": {},
   "outputs": [
    {
     "name": "stdout",
     "output_type": "stream",
     "text": [
      "165\n"
     ]
    }
   ],
   "source": [
    "print(sum({1: 11, 2: 22, 3: 33, 4: 44, 5: 55}.values()))"
   ]
  },
  {
   "cell_type": "markdown",
   "metadata": {},
   "source": [
    "## Ejercicio 15\n",
    "Multiplica todos los valores del diccionario\n",
    "> ```ejer_15 = {1: 11, 2: 22, 3: 33, 4: 44, 5: 55}```"
   ]
  },
  {
   "cell_type": "code",
   "execution_count": 45,
   "metadata": {},
   "outputs": [
    {
     "name": "stdout",
     "output_type": "stream",
     "text": [
      "19326120\n"
     ]
    }
   ],
   "source": [
    "ejer_15 = {1: 11, 2: 22, 3: 33, 4: 44, 5: 55}\n",
    "#para multiplicar los valores de un diccionario, usamos el método values() para obtener los valores y multiplicarlos.\n",
    "mult_valores = 1 #inicializamos la variable en 1\n",
    "#multiplicamos los valores de la lista con un bucle for\n",
    "for valor in ejer_15.values():\n",
    "    mult_valores *= valor #multiplicamos los valores de la lista\n",
    "print(mult_valores)"
   ]
  },
  {
   "cell_type": "code",
   "execution_count": 47,
   "metadata": {},
   "outputs": [
    {
     "name": "stdout",
     "output_type": "stream",
     "text": [
      "19326120\n"
     ]
    }
   ],
   "source": [
    "# También podemos usar el método math.prod() para multiplicar los valores de una lista.\n",
    "import math\n",
    "ejer_15 = {1: 11, 2: 22, 3: 33, 4: 44, 5: 55}\n",
    "mult_valores = math.prod(ejer_15.values())\n",
    "print(mult_valores)"
   ]
  },
  {
   "cell_type": "markdown",
   "metadata": {},
   "source": [
    "## Ejercicio 16\n",
    "1. Crea un set de tres elementos\n",
    "2. Añade un cuarto\n",
    "3. Elimina el último elemento añadido\n",
    "4. Elimina el elemento 10, si está presente. Usa `discard()`"
   ]
  },
  {
   "cell_type": "code",
   "execution_count": 31,
   "metadata": {},
   "outputs": [
    {
     "name": "stdout",
     "output_type": "stream",
     "text": [
      "{3, 4, 5, 6}\n",
      "{3, 4, 5}\n",
      "{3, 4, 5}\n"
     ]
    }
   ],
   "source": [
    "#1 Crear un set de 3 elementos\n",
    "mi_set = {3, 4, 5}\n",
    "#2 Añadir un elemento al set, con el método add()\n",
    "mi_set.add(6)\n",
    "print(mi_set)\n",
    "#3 Eliminar un elemento del set, con el método remove()\n",
    "mi_set.remove(6)\n",
    "print(mi_set)\n",
    "#4 Elimina el elemento 10, si está presente. Usa `discard()` para evitar errores si el elemento no está en el set.\n",
    "mi_set.discard(10)\n",
    "print(mi_set)"
   ]
  }
 ],
 "metadata": {
  "kernelspec": {
   "display_name": "Python 3",
   "language": "python",
   "name": "python3"
  },
  "language_info": {
   "codemirror_mode": {
    "name": "ipython",
    "version": 3
   },
   "file_extension": ".py",
   "mimetype": "text/x-python",
   "name": "python",
   "nbconvert_exporter": "python",
   "pygments_lexer": "ipython3",
   "version": "3.11.9"
  }
 },
 "nbformat": 4,
 "nbformat_minor": 4
}
