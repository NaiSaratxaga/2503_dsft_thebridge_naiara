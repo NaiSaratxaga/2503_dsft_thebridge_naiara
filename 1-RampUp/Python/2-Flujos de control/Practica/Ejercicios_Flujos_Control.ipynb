{
 "cells": [
  {
   "cell_type": "markdown",
   "metadata": {},
   "source": [
    "![imagen](./img/ejercicios.png)"
   ]
  },
  {
   "cell_type": "markdown",
   "metadata": {},
   "source": [
    "# Ejercicios Flujos de control"
   ]
  },
  {
   "cell_type": "markdown",
   "metadata": {},
   "source": [
    "## Ejercicio 1\n",
    "Declara una variable numérica que será una hora cualquiera del día. Implementa la siguiente casuística:\n",
    "\n",
    "* Si es entre las 0 y las 8, print \"Durmiendo\"\n",
    "* Si es entre las 9 y las 18, print \"Trabajando\"\n",
    "* Si es entre las 19 y las 21, print \"Clase\"\n",
    "* Si es entre las 22 y las 24, print \"Descanso\"\n",
    "* En cualquier otro caso, print \"Transporte o error\""
   ]
  },
  {
   "cell_type": "code",
   "execution_count": 5,
   "metadata": {},
   "outputs": [
    {
     "name": "stdout",
     "output_type": "stream",
     "text": [
      "Trabajando\n"
     ]
    }
   ],
   "source": [
    "# recogemos el valor de la hora del día y lo almacenamos en la variable hora_dia\n",
    "# si la hora es menor o igual a 8, imprimimos \"Durmiendo\"\n",
    "# si la hora es menor o igual a 18, imprimimos \"Trabajando\"\n",
    "# si la hora es menor o igual a 24, imprimimos \"Clase\"\n",
    "hora_dia = 12\n",
    "\n",
    "if  0 <= hora_dia  <= 8:\n",
    "    print(\"Durmiendo\")\n",
    "elif 9 <= hora_dia  <= 18:\n",
    "    print(\"Trabajando\") \n",
    "elif  19 <= hora_dia  <= 24:\n",
    "    print(\"Clase\")\n",
    "elif  22 <= hora_dia  <= 24:\n",
    "    print(\"Descanso\")\n",
    "else:\n",
    "    print(\"Transporte o error\")\n",
    "    "
   ]
  },
  {
   "cell_type": "markdown",
   "metadata": {},
   "source": [
    "## Ejercicio 2\n",
    "En este ejercicio vamos a implementar un calculador de precios de casas muy sencillo. Tenemos las siguientes variables:\n",
    "\n",
    "> superficie\n",
    ">\n",
    "> distrito\n",
    "\n",
    "Implementa la siguiente casuística:\n",
    "\n",
    "1. Si el distrito es \"Moncloa\" o \"Centro\", y además la superficie es superior a 100 metros cuadrados, el precio de la casa es de 1000\n",
    "2. Si el distrito es \"Salamanca\", y además la superficie de la casa es al menos de 150 metros, el precio de la casa es de 1500\n",
    "3. Si el distrito no es \"Retiro\" y la superficie está entre 60 y 80 metros, el precio es de 600\n",
    "4. En cualquier otro caso, el precio será de 0"
   ]
  },
  {
   "cell_type": "code",
   "execution_count": 27,
   "metadata": {},
   "outputs": [
    {
     "name": "stdout",
     "output_type": "stream",
     "text": [
      "El precio de la casa es: 1000\n"
     ]
    }
   ],
   "source": [
    "#creamos una variable llamada distrito y le asignamos el valor \"Moncloa\"\n",
    "#La sigiente variable es superficie y le asignamos el valor 110\n",
    "superficie = 110\n",
    "distrito = \"Moncloa\"  \n",
    "\n",
    "#Creamos la primera condiciones que si el distrito es igual a \"Moncloa\" o \"Centro\" y la superficie es mayor a 100,\n",
    "#el preciode la casa será de 10000, ya que superficie tiene un valor de 110 y distrito tiene un valos de Moncloa\n",
    "#por lo que se cumple la condición\n",
    "if (distrito == \"Moncloa\" or distrito == \"Centro\") and superficie > 100:\n",
    "    precio = 1000\n",
    "\n",
    "#Creamos la segunda condición si el distrito es igual a \"Salamanca\" y la superficie es menor a 150,\n",
    "#el precio de la casa será de 1500. Esta condición no se cumple ya que la superficie es 110, menor a 150\n",
    "# y el distrito es Moncloa\n",
    "elif distrito == \"Salamanca\" and superficie >= 150:\n",
    "    precio = 1500\n",
    "\n",
    "#En esta 3 condición si el distrito es diferente a \"Retiro\" y la superficie es mayor o igual a 60\n",
    "# o la superficie es igual a 80, hará un print de \"El precio de la casa es de 600\".\n",
    "#Esta condición no se cumple ya que la superficie es 110 y debe estar entre 60 y 80.\n",
    "# Dstrito si, ya es es distinto a Retiro\n",
    "elif distrito != \"Retiro\" and 60 <= superficie <= 80:\n",
    "    precio = 600\n",
    "    \n",
    "#Creamos la cuarta condición si no se cumple ninguna condición hacer un print de \"El precio de la casa será 0\"\n",
    "else:\n",
    "    precio = 0\n",
    "\n",
    "# Mostramos el precio calculado\n",
    "print(f\"El precio de la casa es: {precio}\")\n"
   ]
  },
  {
   "cell_type": "markdown",
   "metadata": {},
   "source": [
    "## Ejercicio 3\n",
    "En este ejercicio vamos a realizar un programa muy parecido. Para este caso queremos que se cumplan las siguientes condiciones:\n",
    "\n",
    "1. Primero se compruebe si el distrito es \"Retiro\". Si es asá, que imprima \"Distrito Retiro\", y si no, \"Otro distrito\"\n",
    "2. Si el distrito es \"Retiro\", comprueba si la superficie es mayor de 100 metros cuadrados. En tal caso, que imprima un precio de 1000, y si no, de 500.\n",
    "\n",
    "Prueba a usar `ifs` anidados"
   ]
  },
  {
   "cell_type": "code",
   "execution_count": null,
   "metadata": {},
   "outputs": [
    {
     "name": "stdout",
     "output_type": "stream",
     "text": [
      "Otro distrito\n"
     ]
    }
   ],
   "source": [
    "# Creamos una variable llamada distrito y le asignamos el valor \"salamanca\" y en superficie \n",
    "distrito = \"salamanca\"\n",
    "superficie = 100  \n",
    "\n",
    "# Comprobamos el distrito\n",
    "if distrito == \"Retiro\":\n",
    "    print(\"Distrito Retiro\")\n",
    "    \n",
    "    # Comprobamos la superficie dentro del if anidado\n",
    "    if superficie > 100:\n",
    "        print(\"Precio: 1000\")\n",
    "    else:\n",
    "        print(\"Precio: 500\")\n",
    "\n",
    "else:\n",
    "    print(\"Otro distrito\")\n",
    "\n"
   ]
  },
  {
   "cell_type": "code",
   "execution_count": null,
   "metadata": {},
   "outputs": [],
   "source": []
  },
  {
   "cell_type": "markdown",
   "metadata": {},
   "source": [
    "## Ejercicio 4\n",
    "Escribe un programa que tenga dos variables: un numero, y una lista numérica. El programa debe recorrer la lista e imprimir por pantalla cada elemento de la lista multiplicado por el número"
   ]
  },
  {
   "cell_type": "code",
   "execution_count": null,
   "metadata": {},
   "outputs": [],
   "source": []
  },
  {
   "cell_type": "code",
   "execution_count": null,
   "metadata": {},
   "outputs": [],
   "source": [
    "\n"
   ]
  },
  {
   "cell_type": "code",
   "execution_count": null,
   "metadata": {},
   "outputs": [],
   "source": []
  },
  {
   "cell_type": "code",
   "execution_count": null,
   "metadata": {},
   "outputs": [],
   "source": []
  },
  {
   "cell_type": "code",
   "execution_count": null,
   "metadata": {},
   "outputs": [],
   "source": []
  },
  {
   "cell_type": "markdown",
   "metadata": {},
   "source": [
    "## Ejercicio 5\n",
    "Imprime por pantalla cada número del -10 al -1. En ese orden. Consulta [la documentación](https://www.w3schools.com/python/ref_func_range.asp) de `range`"
   ]
  },
  {
   "cell_type": "code",
   "execution_count": null,
   "metadata": {},
   "outputs": [],
   "source": []
  },
  {
   "cell_type": "code",
   "execution_count": null,
   "metadata": {},
   "outputs": [],
   "source": []
  },
  {
   "cell_type": "code",
   "execution_count": null,
   "metadata": {},
   "outputs": [],
   "source": []
  },
  {
   "cell_type": "markdown",
   "metadata": {},
   "source": [
    "## Ejercicio 6\n",
    "Dada la siguiente lista:\n",
    "\n",
    "> list1 = [12, 15, 32, 42, 55, 75, 122, 132, 150, 180, 200]\n",
    "\n",
    "Implementa un programa que los recorra e imprima por pantalla todos los divisibles por 5. Si nos encontramos con alguno que sea mayor que 150, detener el bucle."
   ]
  },
  {
   "cell_type": "code",
   "execution_count": null,
   "metadata": {},
   "outputs": [],
   "source": [
    "\n",
    "#sin detener el bucle\n",
    "    "
   ]
  },
  {
   "attachments": {},
   "cell_type": "markdown",
   "metadata": {},
   "source": [
    "## Ejercicio 7\n",
    "Escribe un programa en Python que imprima por pantalla todos los números que cumplan que sean divisibles por 5 y divisibles por 7, dentro del rango de valores (150, 350)."
   ]
  },
  {
   "cell_type": "code",
   "execution_count": null,
   "metadata": {},
   "outputs": [],
   "source": []
  },
  {
   "cell_type": "markdown",
   "metadata": {},
   "source": [
    "## Ejercicio 8\n",
    "Implementa un programa que imprima por pantalla el siguiente patrón\n",
    "\n",
    "5 4 3 2 1 \n",
    "\n",
    "4 3 2 1 \n",
    "\n",
    "3 2 1 \n",
    "\n",
    "2 1 \n",
    "\n",
    "1\n",
    "\n",
    "NOTA: NO hay lineas en blanco entre una línea y otra."
   ]
  },
  {
   "cell_type": "code",
   "execution_count": null,
   "metadata": {},
   "outputs": [],
   "source": []
  },
  {
   "cell_type": "code",
   "execution_count": null,
   "metadata": {},
   "outputs": [],
   "source": []
  },
  {
   "cell_type": "code",
   "execution_count": null,
   "metadata": {},
   "outputs": [],
   "source": []
  },
  {
   "cell_type": "code",
   "execution_count": null,
   "metadata": {},
   "outputs": [],
   "source": []
  },
  {
   "cell_type": "markdown",
   "metadata": {},
   "source": [
    "## Ejercicio 9\n",
    "En este ejercicio vamos a crear un pequeño juego. Se trata de intentar adivinar un numero del 1 al 5. Tenemos dos intentos para acertar. Pasos a seguir:\n",
    "\n",
    "1. Ya viene implementado con la librería `random` cómo obtener un número aleatorio del 1 al 5\n",
    "2. Tendrás que declarar en una variable el numero de vidas, y mediante un bucle while, comprobar que todavia quedan vidas.\n",
    "3. Dentro del bucle, obtener el valor del usuario y comprobar si es ese el numero a adivinar. Si no, actualizar las vidas.\n",
    "4. Si acertamos, salimos del bucle e imprimimos por pantalla \"You win\". Y si perdemos también salimos del bucle, pero en este caso imprimimos por pantalla \"You lose\".\n",
    "\n",
    "TIP: te puede resultar útil usar la sentencia `else` cuando acabe el bucle `while`. Lo que haya dentro de ese `else` se ejecutará una vez acabe la ejecución del `while`. Lo podrás usar para cuando pierdas."
   ]
  },
  {
   "cell_type": "code",
   "execution_count": null,
   "metadata": {},
   "outputs": [],
   "source": [
    "#no"
   ]
  },
  {
   "cell_type": "code",
   "execution_count": null,
   "metadata": {},
   "outputs": [],
   "source": []
  },
  {
   "cell_type": "code",
   "execution_count": null,
   "metadata": {},
   "outputs": [],
   "source": []
  },
  {
   "cell_type": "code",
   "execution_count": null,
   "metadata": {},
   "outputs": [],
   "source": []
  },
  {
   "cell_type": "code",
   "execution_count": null,
   "metadata": {},
   "outputs": [],
   "source": []
  },
  {
   "cell_type": "code",
   "execution_count": null,
   "metadata": {},
   "outputs": [],
   "source": []
  }
 ],
 "metadata": {
  "kernelspec": {
   "display_name": "Python 3",
   "language": "python",
   "name": "python3"
  },
  "language_info": {
   "codemirror_mode": {
    "name": "ipython",
    "version": 3
   },
   "file_extension": ".py",
   "mimetype": "text/x-python",
   "name": "python",
   "nbconvert_exporter": "python",
   "pygments_lexer": "ipython3",
   "version": "3.11.9"
  }
 },
 "nbformat": 4,
 "nbformat_minor": 4
}
