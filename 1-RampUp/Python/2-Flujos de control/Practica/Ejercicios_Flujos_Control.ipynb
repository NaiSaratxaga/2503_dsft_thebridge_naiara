{
 "cells": [
  {
   "cell_type": "markdown",
   "metadata": {},
   "source": [
    "![imagen](./img/ejercicios.png)"
   ]
  },
  {
   "cell_type": "markdown",
   "metadata": {},
   "source": [
    "# Ejercicios Flujos de control"
   ]
  },
  {
   "cell_type": "markdown",
   "metadata": {},
   "source": [
    "## Ejercicio 1\n",
    "Declara una variable numérica que será una hora cualquiera del día. Implementa la siguiente casuística:\n",
    "\n",
    "* Si es entre las 0 y las 8, print \"Durmiendo\"\n",
    "* Si es entre las 9 y las 18, print \"Trabajando\"\n",
    "* Si es entre las 19 y las 21, print \"Clase\"\n",
    "* Si es entre las 22 y las 24, print \"Descanso\"\n",
    "* En cualquier otro caso, print \"Transporte o error\""
   ]
  },
  {
   "cell_type": "code",
   "execution_count": 5,
   "metadata": {},
   "outputs": [
    {
     "name": "stdout",
     "output_type": "stream",
     "text": [
      "Transporte o error\n"
     ]
    }
   ],
   "source": [
    "# recogemos el valor de la hora del día y lo almacenamos en la variable hora_dia\n",
    "# si la hora es menor o igual a 8, imprimimos \"Durmiendo\"\n",
    "# si la hora es menor o igual a 18, imprimimos \"Trabajando\"\n",
    "# si la hora es menor o igual a 24, imprimimos \"Clase\"\n",
    "hora_dia = 21.5\n",
    "\n",
    "if  0 <= hora_dia  <= 8:\n",
    "    print(\"Durmiendo\")\n",
    "elif 9 <= hora_dia  <= 18:\n",
    "    print(\"Trabajando\") \n",
    "elif  19 <= hora_dia  <= 21:\n",
    "    print(\"Clase\")\n",
    "elif  22 <= hora_dia  <= 24:\n",
    "    print(\"Descanso\")\n",
    "else:\n",
    "    print(\"Transporte o error\")\n",
    "    "
   ]
  },
  {
   "cell_type": "markdown",
   "metadata": {},
   "source": [
    "## Ejercicio 2\n",
    "En este ejercicio vamos a implementar un calculador de precios de casas muy sencillo. Tenemos las siguientes variables:\n",
    "\n",
    "> superficie\n",
    ">\n",
    "> distrito\n",
    "\n",
    "Implementa la siguiente casuística:\n",
    "\n",
    "1. Si el distrito es \"Moncloa\" o \"Centro\", y además la superficie es superior a 100 metros cuadrados, el precio de la casa es de 1000\n",
    "2. Si el distrito es \"Salamanca\", y además la superficie de la casa es al menos de 150 metros, el precio de la casa es de 1500\n",
    "3. Si el distrito no es \"Retiro\" y la superficie está entre 60 y 80 metros, el precio es de 600\n",
    "4. En cualquier otro caso, el precio será de 0"
   ]
  },
  {
   "cell_type": "code",
   "execution_count": null,
   "metadata": {},
   "outputs": [
    {
     "name": "stdout",
     "output_type": "stream",
     "text": [
      "El precio de la casa es: 1000\n"
     ]
    }
   ],
   "source": [
    "#creamos una variable llamada distrito y le asignamos el valor \"Moncloa\"\n",
    "#La sigiente variable es superficie y le asignamos el valor 110\n",
    "superficie = 110\n",
    "distrito = \"Moncloa\"  \n",
    "\n",
    "#Creamos la primera condiciones que si el distrito es igual a \"Moncloa\" o \"Centro\" y la superficie es mayor a 100,\n",
    "#el precio de la casa será de 10000, ya que superficie tiene un valor de 110 y distrito tiene un valor de Moncloa\n",
    "#por lo que se cumple la condición\n",
    "if (distrito == \"Moncloa\" or distrito == \"Centro\") and superficie > 100:\n",
    "    precio = 1000\n",
    "\n",
    "#Creamos la segunda condición si el distrito es igual a \"Salamanca\" y la superficie es menor a 150,\n",
    "#el precio de la casa será de 1500. Esta condición no se cumple ya que la superficie es 110, menor a 150\n",
    "# y el distrito es Moncloa\n",
    "elif distrito == \"Salamanca\" and superficie >= 150:\n",
    "    precio = 1500\n",
    "\n",
    "#En esta 3 condición si el distrito es diferente a \"Retiro\" y la superficie es mayor o igual a 60\n",
    "# o la superficie es igual a 80, hará un print de \"El precio de la casa es de 600\".\n",
    "\n",
    "elif distrito != \"Retiro\" and 60 <= superficie <= 80:\n",
    "    precio = 600\n",
    "    \n",
    "#Creamos la cuarta condición si no se cumple ninguna condición hacer un print de \"El precio de la casa será 0\"\n",
    "else:\n",
    "    precio = 0\n",
    "\n",
    "# Mostramos el precio calculado\n",
    "print(f\"El precio de la casa es: {precio}\")\n"
   ]
  },
  {
   "cell_type": "markdown",
   "metadata": {},
   "source": [
    "## Ejercicio 3\n",
    "En este ejercicio vamos a realizar un programa muy parecido. Para este caso queremos que se cumplan las siguientes condiciones:\n",
    "\n",
    "1. Primero se compruebe si el distrito es \"Retiro\". Si es asá, que imprima \"Distrito Retiro\", y si no, \"Otro distrito\"\n",
    "2. Si el distrito es \"Retiro\", comprueba si la superficie es mayor de 100 metros cuadrados. En tal caso, que imprima un precio de 1000, y si no, de 500.\n",
    "\n",
    "Prueba a usar `ifs` anidados"
   ]
  },
  {
   "cell_type": "code",
   "execution_count": null,
   "metadata": {},
   "outputs": [
    {
     "name": "stdout",
     "output_type": "stream",
     "text": [
      "Distrito Retiro\n",
      "Precio: 500\n"
     ]
    }
   ],
   "source": [
    "# Creamos una variable llamada distrito y le asignamos el valor \"Retiro\" y en superficie valor 100 \n",
    "distrito = \"Retiro\"\n",
    "superficie = 100  \n",
    "\n",
    "# Primero Comprobamos si el distrito es igual a \"Retiro\", si es así, recorreremos el if anidado\n",
    "# si no, imprimirá el else.\n",
    "# comprobamos la superficie dentro del if anidado\n",
    "if distrito == \"Retiro\":\n",
    "    print(\"Distrito Retiro\")\n",
    "    \n",
    "    # Comprobamos la superficie dentro del if anidado, si es mayor a 100, mostramos un mensaje precio de 1000\n",
    "    # si no, imprimirá el else\n",
    "    if superficie > 100:\n",
    "        print(\"Precio: 1000\")\n",
    "    else:\n",
    "        print(\"Precio: 500\")\n",
    "#si en el primer if no se cumple la condición, se ejecutará el else\n",
    "else:\n",
    "    print(\"Otro distrito\")\n",
    "\n"
   ]
  },
  {
   "cell_type": "markdown",
   "metadata": {},
   "source": [
    "## Ejercicio 4\n",
    "Escribe un programa que tenga dos variables: un numero, y una lista numérica. El programa debe recorrer la lista e imprimir por pantalla cada elemento de la lista multiplicado por el número"
   ]
  },
  {
   "cell_type": "code",
   "execution_count": 13,
   "metadata": {},
   "outputs": [
    {
     "name": "stdout",
     "output_type": "stream",
     "text": [
      "10\n",
      "20\n",
      "30\n",
      "40\n",
      "50\n"
     ]
    }
   ],
   "source": [
    "#creamos uan variable llamada var_numero y le asignamos el valor 10 que será el que multiplicará a los valores de la lista  \n",
    "#creamos una lista llamada lista_numeros con los valores 1, 2, 3, 4, 5\n",
    "var_numero = 10\n",
    "lista_numeros = [1, 2, 3, 4, 5]\n",
    "\n",
    "#Recorremos la lista con un bucle for y multiplicamos cada valor de la lista por var_numero\n",
    "for i in range(len(lista_numeros)):\n",
    "    print(lista_numeros[i] * var_numero)  # Multiplica y muestra el resultado\n"
   ]
  },
  {
   "cell_type": "markdown",
   "metadata": {},
   "source": [
    "## Ejercicio 5\n",
    "Imprime por pantalla cada número del -10 al -1. En ese orden. Consulta [la documentación](https://www.w3schools.com/python/ref_func_range.asp) de `range`"
   ]
  },
  {
   "cell_type": "code",
   "execution_count": 14,
   "metadata": {},
   "outputs": [
    {
     "name": "stdout",
     "output_type": "stream",
     "text": [
      "-10\n",
      "-9\n",
      "-8\n",
      "-7\n",
      "-6\n",
      "-5\n",
      "-4\n",
      "-3\n",
      "-2\n",
      "-1\n"
     ]
    }
   ],
   "source": [
    "# Hacemos un bucle for que recorre cada número de la secuencia de -10 a 0\n",
    "# y muestra cada número por pantalla\n",
    "for num in range(-10, 0):  #Coge cada número de la secuencia uno por uno.\n",
    "    print(num) #Imprime  el número por pantalla"
   ]
  },
  {
   "cell_type": "code",
   "execution_count": 6,
   "metadata": {},
   "outputs": [
    {
     "data": {
      "text/plain": [
       "[-10, -9, -8, -7, -6, -5, -4, -3, -2, -1]"
      ]
     },
     "execution_count": 6,
     "metadata": {},
     "output_type": "execute_result"
    }
   ],
   "source": [
    "list(range(-10, 0))"
   ]
  },
  {
   "cell_type": "markdown",
   "metadata": {},
   "source": [
    "## Ejercicio 6\n",
    "Dada la siguiente lista:\n",
    "\n",
    "> list1 = [12, 15, 32, 42, 55, 75, 122, 132, 150, 180, 200]\n",
    "\n",
    "Implementa un programa que los recorra e imprima por pantalla todos los divisibles por 5. Si nos encontramos con alguno que sea mayor que 150, detener el bucle."
   ]
  },
  {
   "cell_type": "code",
   "execution_count": 7,
   "metadata": {},
   "outputs": [
    {
     "name": "stdout",
     "output_type": "stream",
     "text": [
      "15 es un número divisible por 5\n",
      "55 es un número divisible por 5\n",
      "75 es un número divisible por 5\n",
      "150 es un número divisible por 5\n"
     ]
    }
   ],
   "source": [
    "#sin detener el bucle\n",
    "\n",
    "lista = [12, 15, 32, 42, 55, 75, 122, 132, 150, 180, 200]\n",
    "#Recorremos la lista con un bucle for y comprobamos si el número es divisible por 5\n",
    "#si es así, mostramos un mensaje indicando que el número es divisible por 5\n",
    "#El operador módulo % es el que se usa para verificar si un número es divisible por otro.\n",
    "for i in lista:\n",
    "    if i % 5 == 0:\n",
    "        print(i, \"es un número divisible por 5\" )\n",
    "    if i >= 150:\n",
    "        break"
   ]
  },
  {
   "attachments": {},
   "cell_type": "markdown",
   "metadata": {},
   "source": [
    "## Ejercicio 7\n",
    "Escribe un programa en Python que imprima por pantalla todos los números que cumplan que sean divisibles por 5 y divisibles por 7, dentro del rango de valores (150, 350)."
   ]
  },
  {
   "cell_type": "code",
   "execution_count": 9,
   "metadata": {},
   "outputs": [
    {
     "data": {
      "text/plain": [
       "[150,\n",
       " 151,\n",
       " 152,\n",
       " 153,\n",
       " 154,\n",
       " 155,\n",
       " 156,\n",
       " 157,\n",
       " 158,\n",
       " 159,\n",
       " 160,\n",
       " 161,\n",
       " 162,\n",
       " 163,\n",
       " 164,\n",
       " 165,\n",
       " 166,\n",
       " 167,\n",
       " 168,\n",
       " 169,\n",
       " 170,\n",
       " 171,\n",
       " 172,\n",
       " 173,\n",
       " 174,\n",
       " 175,\n",
       " 176,\n",
       " 177,\n",
       " 178,\n",
       " 179,\n",
       " 180,\n",
       " 181,\n",
       " 182,\n",
       " 183,\n",
       " 184,\n",
       " 185,\n",
       " 186,\n",
       " 187,\n",
       " 188,\n",
       " 189,\n",
       " 190,\n",
       " 191,\n",
       " 192,\n",
       " 193,\n",
       " 194,\n",
       " 195,\n",
       " 196,\n",
       " 197,\n",
       " 198,\n",
       " 199,\n",
       " 200,\n",
       " 201,\n",
       " 202,\n",
       " 203,\n",
       " 204,\n",
       " 205,\n",
       " 206,\n",
       " 207,\n",
       " 208,\n",
       " 209,\n",
       " 210,\n",
       " 211,\n",
       " 212,\n",
       " 213,\n",
       " 214,\n",
       " 215,\n",
       " 216,\n",
       " 217,\n",
       " 218,\n",
       " 219,\n",
       " 220,\n",
       " 221,\n",
       " 222,\n",
       " 223,\n",
       " 224,\n",
       " 225,\n",
       " 226,\n",
       " 227,\n",
       " 228,\n",
       " 229,\n",
       " 230,\n",
       " 231,\n",
       " 232,\n",
       " 233,\n",
       " 234,\n",
       " 235,\n",
       " 236,\n",
       " 237,\n",
       " 238,\n",
       " 239,\n",
       " 240,\n",
       " 241,\n",
       " 242,\n",
       " 243,\n",
       " 244,\n",
       " 245,\n",
       " 246,\n",
       " 247,\n",
       " 248,\n",
       " 249,\n",
       " 250,\n",
       " 251,\n",
       " 252,\n",
       " 253,\n",
       " 254,\n",
       " 255,\n",
       " 256,\n",
       " 257,\n",
       " 258,\n",
       " 259,\n",
       " 260,\n",
       " 261,\n",
       " 262,\n",
       " 263,\n",
       " 264,\n",
       " 265,\n",
       " 266,\n",
       " 267,\n",
       " 268,\n",
       " 269,\n",
       " 270,\n",
       " 271,\n",
       " 272,\n",
       " 273,\n",
       " 274,\n",
       " 275,\n",
       " 276,\n",
       " 277,\n",
       " 278,\n",
       " 279,\n",
       " 280,\n",
       " 281,\n",
       " 282,\n",
       " 283,\n",
       " 284,\n",
       " 285,\n",
       " 286,\n",
       " 287,\n",
       " 288,\n",
       " 289,\n",
       " 290,\n",
       " 291,\n",
       " 292,\n",
       " 293,\n",
       " 294,\n",
       " 295,\n",
       " 296,\n",
       " 297,\n",
       " 298,\n",
       " 299,\n",
       " 300,\n",
       " 301,\n",
       " 302,\n",
       " 303,\n",
       " 304,\n",
       " 305,\n",
       " 306,\n",
       " 307,\n",
       " 308,\n",
       " 309,\n",
       " 310,\n",
       " 311,\n",
       " 312,\n",
       " 313,\n",
       " 314,\n",
       " 315,\n",
       " 316,\n",
       " 317,\n",
       " 318,\n",
       " 319,\n",
       " 320,\n",
       " 321,\n",
       " 322,\n",
       " 323,\n",
       " 324,\n",
       " 325,\n",
       " 326,\n",
       " 327,\n",
       " 328,\n",
       " 329,\n",
       " 330,\n",
       " 331,\n",
       " 332,\n",
       " 333,\n",
       " 334,\n",
       " 335,\n",
       " 336,\n",
       " 337,\n",
       " 338,\n",
       " 339,\n",
       " 340,\n",
       " 341,\n",
       " 342,\n",
       " 343,\n",
       " 344,\n",
       " 345,\n",
       " 346,\n",
       " 347,\n",
       " 348,\n",
       " 349,\n",
       " 350]"
      ]
     },
     "execution_count": 9,
     "metadata": {},
     "output_type": "execute_result"
    }
   ],
   "source": [
    "list(range(150, 351))"
   ]
  },
  {
   "cell_type": "code",
   "execution_count": 10,
   "metadata": {},
   "outputs": [
    {
     "name": "stdout",
     "output_type": "stream",
     "text": [
      "175 es un número divisible por 5 y por 7\n",
      "210 es un número divisible por 5 y por 7\n",
      "245 es un número divisible por 5 y por 7\n",
      "280 es un número divisible por 5 y por 7\n",
      "315 es un número divisible por 5 y por 7\n",
      "350 es un número divisible por 5 y por 7\n"
     ]
    }
   ],
   "source": [
    "\n",
    "#Usaremos range que genera números en el intervalo de 150 a 350.\n",
    "#Recorremos la lista con un bucle for y comprobamos si el número es divisible por 5 y por 7\n",
    "#con el operador módulo %, si es así, mostramos un mensaje indicando que el número es divisible por 5 y por 7\n",
    "\n",
    "for i in range(150, 351):\n",
    "    if i % 5 == 0 and i % 7 == 0:\n",
    "        print(i, \"es un número divisible por 5 y por 7\" )"
   ]
  },
  {
   "cell_type": "markdown",
   "metadata": {},
   "source": [
    "## Ejercicio 8\n",
    "Implementa un programa que imprima por pantalla el siguiente patrón\n",
    "\n",
    "5 4 3 2 1 \n",
    "\n",
    "4 3 2 1 \n",
    "\n",
    "3 2 1 \n",
    "\n",
    "2 1 \n",
    "\n",
    "1\n",
    "\n",
    "NOTA: NO hay lineas en blanco entre una línea y otra."
   ]
  },
  {
   "cell_type": "code",
   "execution_count": 11,
   "metadata": {},
   "outputs": [
    {
     "name": "stdout",
     "output_type": "stream",
     "text": [
      "5 4 3 2 1 \n",
      "4 3 2 1 \n",
      "3 2 1 \n",
      "2 1 \n",
      "1 \n"
     ]
    }
   ],
   "source": [
    "n = 5 #Inicializamos n con 5 para que el patrón tenga 5 lineas\n",
    "\n",
    "for i in range(n, 0, -1): #Este bucle externo controla el número de filas en el patrón.\n",
    "#range(n, 0, -1) El rango comienza en n y termina en 0, disminuyendo en 1 en cada iteración.\n",
    "#El tercer parámetro,step, -1, indica que el rango debe ser decreciente.i tomará los valores: 5, 4, 3, 2, 1 en cada iteración.\n",
    "    for j in range(i,0,-1): #con este bucle recorremos las columnas de i a 0. -1 es el valor de decreciente       \n",
    "        print( j, end=\" \") #imprime el valor de j en la misma línea, el end hace que estén en la misma línea\n",
    "    print(\"\") "
   ]
  },
  {
   "cell_type": "markdown",
   "metadata": {},
   "source": [
    "## Ejercicio 9\n",
    "En este ejercicio vamos a crear un pequeño juego. Se trata de intentar adivinar un numero del 1 al 5. Tenemos dos intentos para acertar. Pasos a seguir:\n",
    "\n",
    "1. Ya viene implementado con la librería `random` cómo obtener un número aleatorio del 1 al 5\n",
    "2. Tendrás que declarar en una variable el numero de vidas, y mediante un bucle while, comprobar que todavia quedan vidas.\n",
    "3. Dentro del bucle, obtener el valor del usuario y comprobar si es ese el numero a adivinar. Si no, actualizar las vidas.\n",
    "4. Si acertamos, salimos del bucle e imprimimos por pantalla \"You win\". Y si perdemos también salimos del bucle, pero en este caso imprimimos por pantalla \"You lose\".\n",
    "\n",
    "TIP: te puede resultar útil usar la sentencia `else` cuando acabe el bucle `while`. Lo que haya dentro de ese `else` se ejecutará una vez acabe la ejecución del `while`. Lo podrás usar para cuando pierdas."
   ]
  },
  {
   "cell_type": "code",
   "execution_count": null,
   "metadata": {},
   "outputs": [
    {
     "name": "stdout",
     "output_type": "stream",
     "text": [
      "1\n",
      "Eres una crack! You Win! El número era 1 🏆🥳\n"
     ]
    }
   ],
   "source": [
    "import random #importamos la librería random\n",
    "vidas = 2 #Inicializamos vidas con 2, que son los intentos que tenemos \n",
    "\n",
    "#Generamos un número aleatorio entre 1 y 5 con la función randint de la librería random. \n",
    "numero_adivinar = random.randint(1, 5) #Genera un número aleatorio entre 1 y 5\n",
    "#print(numero_adivinar) #lo he probado, para hacer comprobación del funcionamiento\n",
    "\n",
    "# Mientras quedan vidas este bucle seguirá ejecutándose.Vidas mayor que 0.\n",
    "while (vidas > 0):\n",
    "# pedimos al usuario que introduzca un número para adivinar\n",
    "    numero_usuario = int(input(\"Adivina el número\")) #el input es str, hay que convertirlo a int\n",
    "    # si el número aleatorio es igual al número de usuario se para con el break y se sale del while\n",
    "    if numero_adivinar == numero_usuario:\n",
    "        break\n",
    "    # si el usuario no ha acertado pierde una vida (se resta 1) y se vuelve a ejecutar el while\n",
    "    else:\n",
    "        vidas = vidas - 1\n",
    "        \n",
    "# si no te quedan vidas, pintará you lose\n",
    "if vidas == 0:\n",
    "    print(f\"Has perdido. El número era {numero_adivinar}. You Lose 😢\")\n",
    "#si ha acertado el usuario, te quedan vidas, por lo tanto pintará you win\n",
    "else:\n",
    "     print(f\"Eres una crack! You Win! El número era {numero_adivinar} 🏆🥳\")\n"
   ]
  },
  {
   "cell_type": "code",
   "execution_count": null,
   "metadata": {},
   "outputs": [],
   "source": []
  },
  {
   "cell_type": "code",
   "execution_count": null,
   "metadata": {},
   "outputs": [],
   "source": []
  },
  {
   "cell_type": "code",
   "execution_count": null,
   "metadata": {},
   "outputs": [],
   "source": []
  },
  {
   "cell_type": "code",
   "execution_count": null,
   "metadata": {},
   "outputs": [],
   "source": []
  },
  {
   "cell_type": "code",
   "execution_count": null,
   "metadata": {},
   "outputs": [],
   "source": []
  }
 ],
 "metadata": {
  "kernelspec": {
   "display_name": "Python 3",
   "language": "python",
   "name": "python3"
  },
  "language_info": {
   "codemirror_mode": {
    "name": "ipython",
    "version": 3
   },
   "file_extension": ".py",
   "mimetype": "text/x-python",
   "name": "python",
   "nbconvert_exporter": "python",
   "pygments_lexer": "ipython3",
   "version": "3.11.9"
  }
 },
 "nbformat": 4,
 "nbformat_minor": 4
}
