{
 "cells": [
  {
   "cell_type": "markdown",
   "metadata": {},
   "source": [
    "![imagen](./img/ejercicios.png)"
   ]
  },
  {
   "cell_type": "markdown",
   "metadata": {},
   "source": [
    "# Ejercicios Flujos de control"
   ]
  },
  {
   "cell_type": "markdown",
   "metadata": {},
   "source": [
    "## Ejercicio Extra\n",
    "Programa una calculadora que\n",
    "\n",
    "* Pregunte qué operación quieres realizar (multiplicación/división/suma/resta/potencia/salir)\n",
    "* Pida dos números \n",
    "* Realice la operación\n",
    "* Siga funcionando hasta que el usuario elija salir\n",
    "\n",
    "#### Bonus:\n",
    "* Que guarde todas las operaciones realizadas y las imprima por pantalla cuando el usuario elija esa opción\n",
    "* Que sea robusta frente a entradas erróneas del usuario o frente a operaciones como dividir por 0"
   ]
  },
  {
   "cell_type": "code",
   "execution_count": 17,
   "metadata": {},
   "outputs": [],
   "source": [
    "\n",
    "import math"
   ]
  },
  {
   "cell_type": "code",
   "execution_count": 1,
   "metadata": {},
   "outputs": [
    {
     "name": "stdout",
     "output_type": "stream",
     "text": [
      "Hola, 🤓 ¿qué operación quieres realizar?\n",
      "\n",
      "Opciones disponibles:\n",
      "\n",
      "1 - Multiplicación ✖\n",
      "2 - División ➗\n",
      "3 - Suma ➕\n",
      "4 - Resta ➖\n",
      "5 - Potencia 📈\n",
      "Escribe 'salir' 🚪 para terminar.\n",
      "\n",
      "El resultado de 2.0 x 2.0 es 4.0\n",
      "El resultado de 2.0 x 2.0 es 4.0\n",
      "El resultado de 45.0 elevado a 78.0 es 8.924339317248996e+128\n",
      "👋 Gracias por usar la calculadora.\n"
     ]
    }
   ],
   "source": [
    "# Muestro al usuario las opciones que tiene en la calculadora\n",
    "print(\"Hola, 🤓 ¿qué operación quieres realizar?\")\n",
    "print()\n",
    "print(\"Opciones disponibles:\")\n",
    "print()\n",
    "print(\"1 - Multiplicación ✖\")\n",
    "print(\"2 - División ➗\")\n",
    "print(\"3 - Suma ➕\")\n",
    "print(\"4 - Resta ➖\")\n",
    "print(\"5 - Potencia 📈\")\n",
    "print(\"Escribe 'salir' 🚪 para terminar.\")\n",
    "print()\n",
    "# Inicializamos la variable usuario para que entre en el bucle\n",
    "usuario = \"\"\n",
    "\n",
    "# Bucle que se ejecuta mientras el usuario no escriba \"salir\", si tecleamos salir recorre hasta el break y termina el programa\n",
    "while usuario != \"salir\":\n",
    "    # Pedimos la operación al usuario\n",
    "    usuario = input(\"Elige una opción (1/2/3/4/5) o escribe 'salir': \")\n",
    "\n",
    "    # Si el usuario quiere salir, terminamos el bucle\n",
    "    if usuario.lower() == \"salir\":\n",
    "        print(\"👋 Gracias por usar la calculadora.\")\n",
    "        break  # Sale del bucle\n",
    "\n",
    "   \n",
    "    # Convertimos la opción a entero (ya sabemos que es válida)\n",
    "    usuario = int(usuario)\n",
    "\n",
    "    # Pedimos los números al usuario\n",
    "    num_1 = float(input(\"Ingresa el primer número: \"))\n",
    "    num_2 = float(input(\"Ingresa el segundo número: \"))\n",
    "\n",
    "    # Realizamos la operación correspondiente\n",
    "    if usuario == 1:\n",
    "        resultado = num_1 * num_2\n",
    "        print(f\"El resultado de {num_1} x {num_2} es {resultado}\")\n",
    "\n",
    "    elif usuario == 2:\n",
    "        # Evitamos la división por cero\n",
    "        if num_2 == 0:\n",
    "            print(\"Error: No se puede dividir entre 0.\")\n",
    "        else:\n",
    "            resultado = num_1 / num_2\n",
    "            print(f\"El resultado de {num_1} ÷ {num_2} es {resultado}\")\n",
    "\n",
    "    elif usuario == 3:\n",
    "        resultado = num_1 + num_2\n",
    "        print(f\"El resultado de {num_1} + {num_2} es {resultado}\")\n",
    "\n",
    "    elif usuario == 4:\n",
    "        resultado = num_1 - num_2\n",
    "        print(f\"El resultado de {num_1} - {num_2} es {resultado}\")\n",
    "\n",
    "    elif usuario == 5:\n",
    "        resultado = num_1 ** num_2  # Operación de potencia\n",
    "        print(f\"El resultado de {num_1} elevado a {num_2} es {resultado}\")\n"
   ]
  },
  {
   "cell_type": "code",
   "execution_count": null,
   "metadata": {},
   "outputs": [],
   "source": []
  }
 ],
 "metadata": {
  "kernelspec": {
   "display_name": "Python 3",
   "language": "python",
   "name": "python3"
  },
  "language_info": {
   "codemirror_mode": {
    "name": "ipython",
    "version": 3
   },
   "file_extension": ".py",
   "mimetype": "text/x-python",
   "name": "python",
   "nbconvert_exporter": "python",
   "pygments_lexer": "ipython3",
   "version": "3.11.9"
  }
 },
 "nbformat": 4,
 "nbformat_minor": 4
}
