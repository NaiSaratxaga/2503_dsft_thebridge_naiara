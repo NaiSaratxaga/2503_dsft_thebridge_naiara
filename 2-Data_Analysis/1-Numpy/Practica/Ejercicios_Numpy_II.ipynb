{
 "cells": [
  {
   "cell_type": "markdown",
   "metadata": {},
   "source": [
    "![imagen](./img/ejercicios.png)"
   ]
  },
  {
   "cell_type": "code",
   "execution_count": 97,
   "metadata": {},
   "outputs": [],
   "source": [
    "import numpy as np"
   ]
  },
  {
   "cell_type": "markdown",
   "metadata": {},
   "source": [
    "## Ejercicio 1\n",
    "1. Crea un array que vaya del 0 al 9 y que se llame `my_array`\n",
    "2. Imprime por pantalla los elementos [9 7 5 3 1] en ese orden."
   ]
  },
  {
   "cell_type": "code",
   "execution_count": 98,
   "metadata": {},
   "outputs": [
    {
     "name": "stdout",
     "output_type": "stream",
     "text": [
      "[0 1 2 3 4 5 6 7 8 9]\n"
     ]
    }
   ],
   "source": [
    "my_array = np.arange(10)\n",
    "print(my_array)"
   ]
  },
  {
   "cell_type": "code",
   "execution_count": 99,
   "metadata": {},
   "outputs": [
    {
     "name": "stdout",
     "output_type": "stream",
     "text": [
      "[9 7 5 3 1]\n"
     ]
    }
   ],
   "source": [
    "print(my_array[::-2]) # start,stop, step, (step es -2)"
   ]
  },
  {
   "cell_type": "code",
   "execution_count": 100,
   "metadata": {},
   "outputs": [
    {
     "name": "stdout",
     "output_type": "stream",
     "text": [
      "[9 7 5 3 1]\n"
     ]
    }
   ],
   "source": [
    "print(my_array[my_array % 2 == 1][::-1])"
   ]
  },
  {
   "cell_type": "markdown",
   "metadata": {},
   "source": [
    "## Ejercicio 2\n",
    "Imprime por pantalla la secuencia [8 7] del array `my_array`"
   ]
  },
  {
   "cell_type": "code",
   "execution_count": 101,
   "metadata": {},
   "outputs": [
    {
     "name": "stdout",
     "output_type": "stream",
     "text": [
      "[0 1 2 3 4 5 6 7 8 9]\n"
     ]
    }
   ],
   "source": [
    "print(my_array)"
   ]
  },
  {
   "cell_type": "code",
   "execution_count": 102,
   "metadata": {},
   "outputs": [
    {
     "name": "stdout",
     "output_type": "stream",
     "text": [
      "[8 7]\n"
     ]
    }
   ],
   "source": [
    "print(my_array[-2:-4:-1])"
   ]
  },
  {
   "cell_type": "markdown",
   "metadata": {},
   "source": [
    "## Ejercicio 3\n",
    "Imprime por pantalla la secuencia [2 1 0] de `my_array`"
   ]
  },
  {
   "cell_type": "code",
   "execution_count": 103,
   "metadata": {},
   "outputs": [
    {
     "name": "stdout",
     "output_type": "stream",
     "text": [
      "[0 1 2 3 4 5 6 7 8 9]\n"
     ]
    }
   ],
   "source": [
    "print(my_array)"
   ]
  },
  {
   "cell_type": "code",
   "execution_count": 104,
   "metadata": {},
   "outputs": [
    {
     "name": "stdout",
     "output_type": "stream",
     "text": [
      "[2 1 0]\n"
     ]
    }
   ],
   "source": [
    "print(my_array[2::-1])"
   ]
  },
  {
   "cell_type": "code",
   "execution_count": 105,
   "metadata": {},
   "outputs": [
    {
     "name": "stdout",
     "output_type": "stream",
     "text": [
      "[np.int64(2), np.int64(1), np.int64(0)]\n"
     ]
    }
   ],
   "source": [
    "print(sorted(my_array[:3],reverse=True))"
   ]
  },
  {
   "cell_type": "code",
   "execution_count": 106,
   "metadata": {},
   "outputs": [
    {
     "data": {
      "text/plain": [
       "array([2, 1, 0])"
      ]
     },
     "execution_count": 106,
     "metadata": {},
     "output_type": "execute_result"
    }
   ],
   "source": [
    "np.take(my_array, [2,1,0])"
   ]
  },
  {
   "cell_type": "markdown",
   "metadata": {},
   "source": [
    "## Ejercicio 4\n",
    "1. Crea una matriz de 4x5, con una secuencia del 1 al 20\n",
    "2. Invierte totalmente la matriz. Tanto las filas, como las columnas"
   ]
  },
  {
   "cell_type": "code",
   "execution_count": 107,
   "metadata": {},
   "outputs": [
    {
     "name": "stdout",
     "output_type": "stream",
     "text": [
      "[[ 1  2  3  4  5]\n",
      " [ 6  7  8  9 10]\n",
      " [11 12 13 14 15]\n",
      " [16 17 18 19 20]]\n"
     ]
    }
   ],
   "source": [
    "my_matrix = np.arange(1,21).reshape(4,5)\n",
    "print(my_matrix)"
   ]
  },
  {
   "cell_type": "code",
   "execution_count": 108,
   "metadata": {},
   "outputs": [
    {
     "data": {
      "text/plain": [
       "array([[ 1,  6, 11, 16],\n",
       "       [ 2,  7, 12, 17],\n",
       "       [ 3,  8, 13, 18],\n",
       "       [ 4,  9, 14, 19],\n",
       "       [ 5, 10, 15, 20]])"
      ]
     },
     "execution_count": 108,
     "metadata": {},
     "output_type": "execute_result"
    }
   ],
   "source": [
    "my_matrix.T"
   ]
  },
  {
   "cell_type": "code",
   "execution_count": 109,
   "metadata": {},
   "outputs": [
    {
     "name": "stdout",
     "output_type": "stream",
     "text": [
      "[[ 1  2  3  4  5]\n",
      " [ 6  7  8  9 10]\n",
      " [11 12 13 14 15]\n",
      " [16 17 18 19 20]]\n"
     ]
    }
   ],
   "source": [
    "print(my_matrix)"
   ]
  },
  {
   "cell_type": "code",
   "execution_count": 110,
   "metadata": {},
   "outputs": [
    {
     "name": "stdout",
     "output_type": "stream",
     "text": [
      "[[20 19 18 17 16]\n",
      " [15 14 13 12 11]\n",
      " [10  9  8  7  6]\n",
      " [ 5  4  3  2  1]]\n"
     ]
    }
   ],
   "source": [
    "print(my_matrix[::-1,::-1])"
   ]
  },
  {
   "cell_type": "code",
   "execution_count": 111,
   "metadata": {},
   "outputs": [
    {
     "name": "stdout",
     "output_type": "stream",
     "text": [
      "[[20 19 18 17 16]\n",
      " [15 14 13 12 11]\n",
      " [10  9  8  7  6]\n",
      " [ 5  4  3  2  1]]\n"
     ]
    }
   ],
   "source": [
    "print(np.flip(my_matrix))"
   ]
  },
  {
   "cell_type": "markdown",
   "metadata": {},
   "source": [
    "## Ejercicio 5\n",
    "\n",
    "Obtén el siguiente array, partiendo de la matriz del ejercicio 4\n",
    "```Python\n",
    "array([[1, 2],\n",
    "       [6, 7]])\n",
    "```"
   ]
  },
  {
   "cell_type": "code",
   "execution_count": 112,
   "metadata": {},
   "outputs": [
    {
     "name": "stdout",
     "output_type": "stream",
     "text": [
      "[[ 1  2  3  4  5]\n",
      " [ 6  7  8  9 10]\n",
      " [11 12 13 14 15]\n",
      " [16 17 18 19 20]]\n"
     ]
    }
   ],
   "source": [
    "print(my_matrix)"
   ]
  },
  {
   "cell_type": "code",
   "execution_count": 113,
   "metadata": {},
   "outputs": [
    {
     "name": "stdout",
     "output_type": "stream",
     "text": [
      "[[1 2]\n",
      " [6 7]]\n"
     ]
    }
   ],
   "source": [
    "print(my_matrix[:2,:2])"
   ]
  },
  {
   "cell_type": "markdown",
   "metadata": {},
   "source": [
    "## Ejercicio 6\n",
    "Obtén el siguiente array, partiendo de la matriz del ejercicio 4\n",
    "```Python\n",
    "array([[ 1,  3,  5],\n",
    "       [11, 13, 15]])\n",
    "```"
   ]
  },
  {
   "cell_type": "code",
   "execution_count": 114,
   "metadata": {},
   "outputs": [
    {
     "name": "stdout",
     "output_type": "stream",
     "text": [
      "[[ 1  2  3  4  5]\n",
      " [ 6  7  8  9 10]\n",
      " [11 12 13 14 15]\n",
      " [16 17 18 19 20]]\n"
     ]
    }
   ],
   "source": [
    "print(my_matrix)"
   ]
  },
  {
   "cell_type": "code",
   "execution_count": 115,
   "metadata": {},
   "outputs": [
    {
     "name": "stdout",
     "output_type": "stream",
     "text": [
      "[[ 1  3  5]\n",
      " [11 13 15]]\n"
     ]
    }
   ],
   "source": [
    "print(my_matrix[::2,::2])"
   ]
  },
  {
   "cell_type": "markdown",
   "metadata": {},
   "source": [
    "## Ejercicio 7\n",
    "Obtén el siguiente array, partiendo de la matriz del ejercicio 4\n",
    "```Python\n",
    "array([[ 5,  4,  3,  2,  1],\n",
    "       [10,  9,  8,  7,  6],\n",
    "       [15, 14, 13, 12, 11]])\n",
    "```"
   ]
  },
  {
   "cell_type": "code",
   "execution_count": 116,
   "metadata": {},
   "outputs": [
    {
     "name": "stdout",
     "output_type": "stream",
     "text": [
      "[[ 1  2  3  4  5]\n",
      " [ 6  7  8  9 10]\n",
      " [11 12 13 14 15]\n",
      " [16 17 18 19 20]]\n"
     ]
    }
   ],
   "source": [
    "print(my_matrix)"
   ]
  },
  {
   "cell_type": "code",
   "execution_count": 117,
   "metadata": {},
   "outputs": [
    {
     "name": "stdout",
     "output_type": "stream",
     "text": [
      "[[ 5  4  3  2  1]\n",
      " [10  9  8  7  6]\n",
      " [15 14 13 12 11]]\n"
     ]
    }
   ],
   "source": [
    "print(my_matrix[:3,::-1])"
   ]
  },
  {
   "cell_type": "markdown",
   "metadata": {},
   "source": [
    "## Ejercicio 8\n",
    "Dado el siguiente array:\n",
    "\n",
    "```Python\n",
    "x = np.array([\"Loro\", \"Perro\", \"Gato\", \"Loro\", \"Perro\"])\n",
    "```\n",
    "\n",
    "Filtra el array para quedarte únicamente con los loros.\n",
    "\n",
    "Resuélvelo de dos maneras diferentes"
   ]
  },
  {
   "cell_type": "code",
   "execution_count": 118,
   "metadata": {},
   "outputs": [],
   "source": [
    "x = np.array([\"Loro\", \"Perro\", \"Gato\", \"Loro\", \"Perro\"])"
   ]
  },
  {
   "cell_type": "code",
   "execution_count": 119,
   "metadata": {},
   "outputs": [
    {
     "data": {
      "text/plain": [
       "array([ True, False, False,  True, False])"
      ]
     },
     "execution_count": 119,
     "metadata": {},
     "output_type": "execute_result"
    }
   ],
   "source": [
    "x == \"Loro\""
   ]
  },
  {
   "cell_type": "code",
   "execution_count": 120,
   "metadata": {},
   "outputs": [
    {
     "data": {
      "text/plain": [
       "array(['Loro', 'Loro'], dtype='<U5')"
      ]
     },
     "execution_count": 120,
     "metadata": {},
     "output_type": "execute_result"
    }
   ],
   "source": [
    "x[x == \"Loro\"]"
   ]
  },
  {
   "cell_type": "code",
   "execution_count": 121,
   "metadata": {},
   "outputs": [
    {
     "name": "stdout",
     "output_type": "stream",
     "text": [
      "[0 3]\n"
     ]
    }
   ],
   "source": [
    "print(np.where(x== \"Loro\")[0])"
   ]
  },
  {
   "cell_type": "code",
   "execution_count": 122,
   "metadata": {},
   "outputs": [
    {
     "name": "stdout",
     "output_type": "stream",
     "text": [
      "[0 3]\n"
     ]
    }
   ],
   "source": [
    "print(np.where(x == \"Loro\")[0])"
   ]
  },
  {
   "cell_type": "code",
   "execution_count": 123,
   "metadata": {},
   "outputs": [
    {
     "data": {
      "text/plain": [
       "array(['Loro', 'Loro'], dtype='<U5')"
      ]
     },
     "execution_count": 123,
     "metadata": {},
     "output_type": "execute_result"
    }
   ],
   "source": [
    "x[np.where(x == \"Loro\")]"
   ]
  },
  {
   "cell_type": "code",
   "execution_count": 124,
   "metadata": {},
   "outputs": [
    {
     "data": {
      "text/plain": [
       "array([ True, False, False,  True, False])"
      ]
     },
     "execution_count": 124,
     "metadata": {},
     "output_type": "execute_result"
    }
   ],
   "source": [
    "x == \"Loro\""
   ]
  },
  {
   "cell_type": "markdown",
   "metadata": {},
   "source": [
    "## Ejercicio 9\n",
    "Crea una secuencia de 20 elementos y transfórmala en un array compuesto por 2 matrices de 5x2"
   ]
  },
  {
   "cell_type": "code",
   "execution_count": 125,
   "metadata": {},
   "outputs": [
    {
     "name": "stdout",
     "output_type": "stream",
     "text": [
      "[[[ 0  1]\n",
      "  [ 2  3]\n",
      "  [ 4  5]\n",
      "  [ 6  7]\n",
      "  [ 8  9]]\n",
      "\n",
      " [[10 11]\n",
      "  [12 13]\n",
      "  [14 15]\n",
      "  [16 17]\n",
      "  [18 19]]]\n"
     ]
    }
   ],
   "source": [
    "x = np.arange(20).reshape(2,5,2)\n",
    "print(x)"
   ]
  },
  {
   "cell_type": "code",
   "execution_count": 126,
   "metadata": {},
   "outputs": [
    {
     "name": "stdout",
     "output_type": "stream",
     "text": [
      "3\n",
      "(2, 5, 2)\n",
      "20\n"
     ]
    }
   ],
   "source": [
    "print(x.ndim)\n",
    "print(x.shape)\n",
    "print(x.size)"
   ]
  },
  {
   "cell_type": "code",
   "execution_count": 127,
   "metadata": {},
   "outputs": [
    {
     "name": "stdout",
     "output_type": "stream",
     "text": [
      "[[ 0  1]\n",
      " [ 2  3]\n",
      " [ 4  5]\n",
      " [ 6  7]\n",
      " [ 8  9]\n",
      " [10 11]\n",
      " [12 13]\n",
      " [14 15]\n",
      " [16 17]\n",
      " [18 19]]\n",
      "\n",
      "[[0 1]\n",
      " [2 3]\n",
      " [4 5]\n",
      " [6 7]\n",
      " [8 9]]\n",
      "\n",
      "[[10 11]\n",
      " [12 13]\n",
      " [14 15]\n",
      " [16 17]\n",
      " [18 19]]\n"
     ]
    }
   ],
   "source": [
    "x = np.arange(20).reshape(10,2)\n",
    "print(x)\n",
    "m1,m2 = np.vsplit(x,[5])\n",
    "print()\n",
    "print(m1)\n",
    "print()\n",
    "print(m2)"
   ]
  },
  {
   "cell_type": "markdown",
   "metadata": {},
   "source": [
    "## Ejercicio 10\n",
    "\n",
    "Crea un array de 10 0s. ¿Cuánto ocupa en memoria?\n",
    "\n",
    "Sustituye el 4to elemento por 1, e imprime el array por pantalla"
   ]
  },
  {
   "cell_type": "code",
   "execution_count": 128,
   "metadata": {},
   "outputs": [
    {
     "name": "stdout",
     "output_type": "stream",
     "text": [
      "Array original: [0 0 0 0 0 0 0 0 0 0]\n",
      "Memoria ocupada: 40\n",
      "Array modificado: [0 0 0 1 0 0 0 0 0 0]\n"
     ]
    }
   ],
   "source": [
    "# Crear un array de 10 ceros\n",
    "array = np.zeros(10, dtype=np.int32) # el 10 indica los elementos que va a tener.\n",
    "# los elementos serán de tipo entero de 32 bits (int32).np.int32 ocupa 4 byter por elemento\n",
    "# Si no especificamos dtype, por defecto NumPy usa float64.\n",
    "print(\"Array original:\", array)\n",
    "\n",
    "# Calcular cuánto ocupa en memoria. array.nbytes calcula la memoria ocupada en RAM por el array.\n",
    "memoria_ocupada = array.nbytes\n",
    "print(\"Memoria ocupada:\", memoria_ocupada)\n",
    "\n",
    "# Sustituir el 4to elemento, accedemos al índice 3 del array y le damos un valor de 1\n",
    "array[3] = 1\n",
    "print(\"Array modificado:\", array)"
   ]
  },
  {
   "cell_type": "code",
   "execution_count": 129,
   "metadata": {},
   "outputs": [
    {
     "name": "stdout",
     "output_type": "stream",
     "text": [
      "80\n"
     ]
    }
   ],
   "source": [
    "#esto bien\n",
    "x = np.zeros(10)\n",
    "x.nbytes\n",
    "x[3]=1\n",
    "print(x.nbytes)"
   ]
  },
  {
   "cell_type": "markdown",
   "metadata": {},
   "source": [
    "## Ejercicio 11\n",
    "\n",
    "Crea un vector que vaya del 10 al 49\n",
    "\n",
    "Inviértelo"
   ]
  },
  {
   "cell_type": "code",
   "execution_count": 130,
   "metadata": {},
   "outputs": [
    {
     "name": "stdout",
     "output_type": "stream",
     "text": [
      "Vector original: [10 11 12 13 14 15 16 17 18 19 20 21 22 23 24 25 26 27 28 29 30 31 32 33\n",
      " 34 35 36 37 38 39 40 41 42 43 44 45 46 47 48 49]\n",
      "Vector invertido: [49 48 47 46 45 44 43 42 41 40 39 38 37 36 35 34 33 32 31 30 29 28 27 26\n",
      " 25 24 23 22 21 20 19 18 17 16 15 14 13 12 11 10]\n"
     ]
    }
   ],
   "source": [
    "# Crea un vector que empieza en 10 y termina en 49. \n",
    "# np.arange(inicio, fin) genera números desde inicio hasta fin, - 1.\n",
    "vector = np.arange(10, 50)\n",
    "print(\"Vector original:\", vector)\n",
    "\n",
    "# Invertir el vector usando slicing ([::-1]).\n",
    "# [::] es para seleccionar todos los elementos.\n",
    "# [::-1] significa recorrer el array de atrás hacia adelante.\n",
    "vector_invertido = vector[::-1]\n",
    "print(\"Vector invertido:\", vector_invertido)"
   ]
  },
  {
   "cell_type": "code",
   "execution_count": 131,
   "metadata": {},
   "outputs": [],
   "source": [
    "#np.flip(y) #con flip se da la vuelta"
   ]
  },
  {
   "cell_type": "markdown",
   "metadata": {},
   "source": [
    "## Ejercicio 12\n",
    "Encuentra los índices de los valores que no sean 0 del siguiente vector [1,2,0,0,4,0]. El output sería [1, 2 4]. [Encuentra el método apropiado en la documentación.](https://numpy.org/doc/) Encapsúlalo en una función, con un argumento de entrada de un vector."
   ]
  },
  {
   "cell_type": "code",
   "execution_count": 165,
   "metadata": {},
   "outputs": [
    {
     "name": "stdout",
     "output_type": "stream",
     "text": [
      "[0 1 4]\n"
     ]
    }
   ],
   "source": [
    "\n",
    "\n",
    "j = np.array([1, 2, 0, 0, 4, 0])  # Se usan paréntesis () y los corchetes [] en el interior para definir la lista\n",
    "print(np.where(j != 0)[0])\n"
   ]
  },
  {
   "attachments": {},
   "cell_type": "markdown",
   "metadata": {},
   "source": [
    "## Ejercicio 13\n",
    "Crea una matriz de números aleatorios 10x10. Encuentra los valores mínimo y máximo."
   ]
  },
  {
   "cell_type": "code",
   "execution_count": 134,
   "metadata": {},
   "outputs": [
    {
     "name": "stdout",
     "output_type": "stream",
     "text": [
      "Matriz 10x10 aleatoria:\n",
      " [[78 11 53 73 57 66 38 87 25 85]\n",
      " [ 4 53 21 88 82 73  5 55 24 21]\n",
      " [78 30  7 55 23 40 71  5 83  6]\n",
      " [13 52 27 86 83  6 53 14 78 57]\n",
      " [50 69 52 35 83  8 37 89 11 70]\n",
      " [79 93 30 62 42 57 17 93  4 53]\n",
      " [84 40 52 69 73 15 72  1 73 14]\n",
      " [58 12 94 90 67 60  7 51 60 38]\n",
      " [37 10 60 17 86 22 45 37 30 30]\n",
      " [18 46 90 82 38 22 62 81 28 99]]\n",
      "\n",
      "Valor mínimo: 1\n",
      "Valor máximo: 99\n"
     ]
    }
   ],
   "source": [
    "#(low, high, size) 0 valor mínimo, 100 valor máximo. (10,10) es el valor de la matriz, 10 filas , 10 columnas\n",
    "matriz = np.random.randint(0, 100, (10, 10))\n",
    "valor_minimo = matriz.min()\n",
    "valor_maximo = matriz.max()\n",
    "\n",
    "print(\"Matriz 10x10 aleatoria:\\n\", matriz)\n",
    "print(\"\\nValor mínimo:\", valor_minimo)\n",
    "print(\"Valor máximo:\", valor_maximo)\n"
   ]
  },
  {
   "cell_type": "markdown",
   "metadata": {},
   "source": [
    "## Ejercicio 14\n",
    "Crea un vector aleatorio de tamaño 30 y calcula su media"
   ]
  },
  {
   "cell_type": "code",
   "execution_count": 135,
   "metadata": {},
   "outputs": [
    {
     "name": "stdout",
     "output_type": "stream",
     "text": [
      "Vector aleatorio: [ 1 88 79 34  1 67 47 47  1]\n",
      "Media del vector: 40.55555555555556\n"
     ]
    }
   ],
   "source": [
    "vector_aleatorio = np.random.randint(0, 100, 9)\n",
    "\n",
    "# Calcular la media del vector, usamos mean que calcula la media aritmética de un conjunto de números.\n",
    "media = vector_aleatorio.mean()\n",
    "\n",
    "# Mostrar resultados\n",
    "print(\"Vector aleatorio:\", vector_aleatorio)\n",
    "print(\"Media del vector:\", media)"
   ]
  },
  {
   "cell_type": "code",
   "execution_count": 136,
   "metadata": {},
   "outputs": [
    {
     "data": {
      "text/plain": [
       "np.float64(2.37)"
      ]
     },
     "execution_count": 136,
     "metadata": {},
     "output_type": "execute_result"
    }
   ],
   "source": [
    "\n",
    "\n",
    "\n",
    "r = np.random.randint(0, 6, (10, 10))  # El tercer argumento debe ser una tupla para definir la forma\n",
    "r\n",
    "np.average(r)\n",
    "\n",
    "\n"
   ]
  },
  {
   "cell_type": "code",
   "execution_count": 137,
   "metadata": {},
   "outputs": [
    {
     "data": {
      "text/plain": [
       "np.float64(3.0)"
      ]
     },
     "execution_count": 137,
     "metadata": {},
     "output_type": "execute_result"
    }
   ],
   "source": [
    "r = np.random.randint(0, 6, (2, 2))  # El tercer argumento debe ser una tupla para definir la forma\n",
    "r\n",
    "np.average(r)"
   ]
  },
  {
   "cell_type": "code",
   "execution_count": 138,
   "metadata": {},
   "outputs": [
    {
     "data": {
      "text/plain": [
       "np.float64(2.5123)"
      ]
     },
     "execution_count": 138,
     "metadata": {},
     "output_type": "execute_result"
    }
   ],
   "source": [
    "r = np.random.randint(0, 6, (100, 100))  # El tercer argumento debe ser una tupla para definir la forma\n",
    "r\n",
    "np.average(r)"
   ]
  },
  {
   "cell_type": "code",
   "execution_count": 139,
   "metadata": {},
   "outputs": [
    {
     "data": {
      "text/plain": [
       "10000"
      ]
     },
     "execution_count": 139,
     "metadata": {},
     "output_type": "execute_result"
    }
   ],
   "source": [
    "r.size"
   ]
  },
  {
   "cell_type": "markdown",
   "metadata": {},
   "source": [
    "## Ejercicio 15\n",
    "Crea una matriz aleatoria de 5x5 y normaliza sus valores. Para normalizar tienes que restar sus valores por la media(`np.mean`) y dividir el resultado por la desviación estándar(`np.std`)."
   ]
  },
  {
   "cell_type": "code",
   "execution_count": 140,
   "metadata": {},
   "outputs": [
    {
     "name": "stdout",
     "output_type": "stream",
     "text": [
      "Matriz aleatoria de 5x5:\n",
      "[[ 3 61 90 50 44]\n",
      " [ 9 75 73 27 76]\n",
      " [15 21 10 50 43]\n",
      " [37  6 80  4 99]\n",
      " [11 89 46 29 90]]\n",
      "\n",
      "Matriz media:\n",
      "45.52\n",
      "\n",
      "Matriz normalizada:\n",
      "[[-1.37691759  0.50128608  1.44038792  0.14507504 -0.04922189]\n",
      " [-1.18262066  0.95464559  0.88987995 -0.59972986  0.98702841]\n",
      " [-0.98832373 -0.7940268  -1.15023784  0.14507504 -0.08160471]\n",
      " [-0.27590164 -1.27976913  1.1165597  -1.34453477  1.73183332]\n",
      " [-1.11785502  1.4080051   0.01554375 -0.53496422  1.44038792]]\n"
     ]
    }
   ],
   "source": [
    "# 1. Crear una matriz aleatoria de 5x5 con valores entre 0 y 100\n",
    "matriz = np.random.randint(0, 100, (5, 5))\n",
    "\n",
    "# 2. Calcular la media de la matriz con mean\n",
    "media = np.mean(matriz)\n",
    "\n",
    "# 3. Calcular la desviación estándar de la matriz\n",
    "# La desviación estándar es una medida de dispersión o variabilidad en un conjunto de datos.\n",
    "# Nos indica qué tan dispersos o agrupados están los valores con respecto a la media (promedio).\n",
    "desviacion_estandar = np.std(matriz)\n",
    "\n",
    "# 4. Normalizar los valores de la matriz\n",
    "# Media de 0: El valor promedio de todos los elementos en la matriz será 0.\n",
    "# Desviación estándar de 1: La dispersión de los valores será ajustada para que la desviación estándar sea igual a 1.\n",
    "matriz_normalizada = (matriz - media) / desviacion_estandar\n",
    "\n",
    "# Mostrar resultados\n",
    "print(\"Matriz aleatoria de 5x5:\")\n",
    "print(matriz)\n",
    "\n",
    "print(\"\\nMatriz media:\")\n",
    "print(media)\n",
    "\n",
    "print(\"\\nMatriz normalizada:\")\n",
    "print(matriz_normalizada)"
   ]
  },
  {
   "cell_type": "code",
   "execution_count": 162,
   "metadata": {},
   "outputs": [
    {
     "name": "stdout",
     "output_type": "stream",
     "text": [
      "[[10  5  7  1 11]\n",
      " [ 6  9  1 10  7]\n",
      " [ 8  9  5  4  5]\n",
      " [ 7  3  4  9  7]\n",
      " [ 5  2 11 10  0]]\n",
      "\n",
      "[[ 1.17831869 -0.38859446  0.2381708  -1.64212499  1.49170133]\n",
      " [-0.07521183  0.86493606 -1.64212499  1.17831869  0.2381708 ]\n",
      " [ 0.55155343  0.86493606 -0.38859446 -0.70197709 -0.38859446]\n",
      " [ 0.2381708  -1.01535973 -0.70197709  0.86493606  0.2381708 ]\n",
      " [-0.38859446 -1.32874236  1.49170133  1.17831869 -1.95550762]]\n",
      "\n",
      "-8.881784197001253e-17\n",
      "\n",
      "0.9999999999999999\n"
     ]
    }
   ],
   "source": [
    "#otra forma más sencilla de hacer\n",
    "w = np.random.randint(0, 12, (5, 5))  \n",
    "matriz = (w - np.mean(w)) / np.std(w)  \n",
    "\n",
    "print(w)\n",
    "print()\n",
    "print(matriz)\n",
    "print()\n",
    "\n",
    "matriz.mean() # media\n",
    "print(matriz.mean())\n",
    "\n",
    "print()\n",
    "matriz.std() # desviación típica\n",
    "print(matriz.std())\n"
   ]
  },
  {
   "cell_type": "markdown",
   "metadata": {},
   "source": [
    "## Ejercicio 16\n",
    "1. Crea una secuencia de números que vayan del 0 al 10.\n",
    "2. Crea un nuevo array, que parta del anterior, pero sustituya por el valor -1, todos los elementos cuyo valor se encuentre entre el 3 y el 8.\n",
    "3. Crea un nuevo array que niegue todos los elementos entre el 3 y el 8"
   ]
  },
  {
   "cell_type": "code",
   "execution_count": null,
   "metadata": {},
   "outputs": [
    {
     "name": "stdout",
     "output_type": "stream",
     "text": [
      "Secuencia original: [ 0  1  2  3  4  5  6  7  8  9 10]\n",
      "Nuevo array con -1 entre 3 y 8: [ 0  1  2 -1 -1 -1 -1 -1 -1  9 10]\n",
      "Nuevo array con valores negados entre 3 y 8: [ 0  1  2  0  0  0  0  0  0  9 10]\n"
     ]
    }
   ],
   "source": [
    "secuencia = np.arange(0, 11) #genera números del 0 al 10\n",
    "\n",
    "# Crea un nuevo array, que parta del anterior, pero sustituya por el valor -1,\n",
    "# todos los elementos cuyo valor se encuentre entre el 3 y el 8.\n",
    "nuevo_array_1 = np.copy(secuencia) # Copiar la secuencia original para no modificarla\n",
    "nuevo_array_1[(nuevo_array_1 >= 3) & (nuevo_array_1 <= 8)] = -1 # Sustituir los valores entre 3 y 8 por -1\n",
    "\n",
    "# Crear un nuevo array que niegue todos los elementos entre 3 y 8\n",
    "nuevo_array_2 = np.copy(secuencia)  # Copiar la secuencia original\n",
    "nuevo_array_2[(nuevo_array_2 >= 3) & (nuevo_array_2 <= 8)] = 0  # Poner 0 en los valores entre 3 y 8\n",
    "\n",
    "\n",
    "\n",
    "print(\"Secuencia original:\", secuencia)\n",
    "print(\"Nuevo array con -1 entre 3 y 8:\", nuevo_array_1)\n",
    "print(\"Nuevo array con valores negados entre 3 y 8:\", nuevo_array_2)\n"
   ]
  }
 ],
 "metadata": {
  "kernelspec": {
   "display_name": "Python 3",
   "language": "python",
   "name": "python3"
  },
  "language_info": {
   "codemirror_mode": {
    "name": "ipython",
    "version": 3
   },
   "file_extension": ".py",
   "mimetype": "text/x-python",
   "name": "python",
   "nbconvert_exporter": "python",
   "pygments_lexer": "ipython3",
   "version": "3.11.9"
  }
 },
 "nbformat": 4,
 "nbformat_minor": 4
}
