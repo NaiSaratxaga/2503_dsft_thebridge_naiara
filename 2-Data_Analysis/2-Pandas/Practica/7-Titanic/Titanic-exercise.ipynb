{
 "cells": [
  {
   "attachments": {},
   "cell_type": "markdown",
   "metadata": {},
   "source": [
    "   #                                                  Titanic Exercise \n",
    "\n",
    "   ![titanic](https://userscontent2.emaze.com/images/a5f68f37-6349-4065-a1fc-921cbe7401b2/958230111417e36d6b3c67ffd7bc3494.jpeg)\n",
    "   #### Practise Pandas"
   ]
  },
  {
   "attachments": {},
   "cell_type": "markdown",
   "metadata": {},
   "source": [
    "First of all, import the needed libraries. "
   ]
  },
  {
   "cell_type": "code",
   "execution_count": 83,
   "metadata": {},
   "outputs": [],
   "source": [
    "\n",
    "\n",
    "import numpy as np\n",
    "import pandas as pd\n",
    "import random\n",
    "import matplotlib.pyplot as plt\n",
    "import seaborn as sns\n",
    "import random\n"
   ]
  },
  {
   "attachments": {},
   "cell_type": "markdown",
   "metadata": {},
   "source": [
    "1. Read in filename and call the variable `titanic`\n",
    "    - Explore the `titanic` dataset using `info`, `dtypes` & `describe`\n",
    " "
   ]
  },
  {
   "cell_type": "code",
   "execution_count": 84,
   "metadata": {},
   "outputs": [
    {
     "data": {
      "application/vnd.microsoft.datawrangler.viewer.v0+json": {
       "columns": [
        {
         "name": "index",
         "rawType": "int64",
         "type": "integer"
        },
        {
         "name": "pclass",
         "rawType": "int64",
         "type": "integer"
        },
        {
         "name": "survived",
         "rawType": "int64",
         "type": "integer"
        },
        {
         "name": "name",
         "rawType": "object",
         "type": "string"
        },
        {
         "name": "sex",
         "rawType": "object",
         "type": "string"
        },
        {
         "name": "age",
         "rawType": "float64",
         "type": "float"
        },
        {
         "name": "sibsp",
         "rawType": "int64",
         "type": "integer"
        },
        {
         "name": "parch",
         "rawType": "int64",
         "type": "integer"
        },
        {
         "name": "ticket",
         "rawType": "object",
         "type": "string"
        },
        {
         "name": "fare",
         "rawType": "float64",
         "type": "float"
        },
        {
         "name": "cabin",
         "rawType": "object",
         "type": "unknown"
        },
        {
         "name": "embarked",
         "rawType": "object",
         "type": "unknown"
        },
        {
         "name": "boat",
         "rawType": "object",
         "type": "unknown"
        },
        {
         "name": "body",
         "rawType": "float64",
         "type": "float"
        },
        {
         "name": "home.dest",
         "rawType": "object",
         "type": "unknown"
        }
       ],
       "conversionMethod": "pd.DataFrame",
       "ref": "7d01f604-e703-41d9-be2b-afa53ed44089",
       "rows": [
        [
         "0",
         "1",
         "1",
         "Allen, Miss. Elisabeth Walton",
         "female",
         "29.0",
         "0",
         "0",
         "24160",
         "211.3375",
         "B5",
         "S",
         "2",
         null,
         "St Louis, MO"
        ],
        [
         "1",
         "1",
         "1",
         "Allison, Master. Hudson Trevor",
         "male",
         "0.92",
         "1",
         "2",
         "113781",
         "151.55",
         "C22 C26",
         "S",
         "11",
         null,
         "Montreal, PQ / Chesterville, ON"
        ],
        [
         "2",
         "1",
         "0",
         "Allison, Miss. Helen Loraine",
         "female",
         "2.0",
         "1",
         "2",
         "113781",
         "151.55",
         "C22 C26",
         "S",
         null,
         null,
         "Montreal, PQ / Chesterville, ON"
        ],
        [
         "3",
         "1",
         "0",
         "Allison, Mr. Hudson Joshua Creighton",
         "male",
         "30.0",
         "1",
         "2",
         "113781",
         "151.55",
         "C22 C26",
         "S",
         null,
         "135.0",
         "Montreal, PQ / Chesterville, ON"
        ],
        [
         "4",
         "1",
         "0",
         "Allison, Mrs. Hudson J C (Bessie Waldo Daniels)",
         "female",
         "25.0",
         "1",
         "2",
         "113781",
         "151.55",
         "C22 C26",
         "S",
         null,
         null,
         "Montreal, PQ / Chesterville, ON"
        ],
        [
         "5",
         "1",
         "1",
         "Anderson, Mr. Harry",
         "male",
         "48.0",
         "0",
         "0",
         "19952",
         "26.55",
         "E12",
         "S",
         "3",
         null,
         "New York, NY"
        ],
        [
         "6",
         "1",
         "1",
         "Andrews, Miss. Kornelia Theodosia",
         "female",
         "63.0",
         "1",
         "0",
         "13502",
         "77.9583",
         "D7",
         "S",
         "10",
         null,
         "Hudson, NY"
        ],
        [
         "7",
         "1",
         "0",
         "Andrews, Mr. Thomas Jr",
         "male",
         "39.0",
         "0",
         "0",
         "112050",
         "0.0",
         "A36",
         "S",
         null,
         null,
         "Belfast, NI"
        ],
        [
         "8",
         "1",
         "1",
         "Appleton, Mrs. Edward Dale (Charlotte Lamson)",
         "female",
         "53.0",
         "2",
         "0",
         "11769",
         "51.4792",
         "C101",
         "S",
         "D",
         null,
         "Bayside, Queens, NY"
        ],
        [
         "9",
         "1",
         "0",
         "Artagaveytia, Mr. Ramon",
         "male",
         "71.0",
         "0",
         "0",
         "PC 17609",
         "49.5042",
         null,
         "C",
         null,
         "22.0",
         "Montevideo, Uruguay"
        ],
        [
         "10",
         "1",
         "0",
         "Astor, Col. John Jacob",
         "male",
         "47.0",
         "1",
         "0",
         "PC 17757",
         "227.525",
         "C62 C64",
         "C",
         null,
         "124.0",
         "New York, NY"
        ],
        [
         "11",
         "1",
         "1",
         "Astor, Mrs. John Jacob (Madeleine Talmadge Force)",
         "female",
         "18.0",
         "1",
         "0",
         "PC 17757",
         "227.525",
         "C62 C64",
         "C",
         "4",
         null,
         "New York, NY"
        ],
        [
         "12",
         "1",
         "1",
         "Aubart, Mme. Leontine Pauline",
         "female",
         "24.0",
         "0",
         "0",
         "PC 17477",
         "69.3",
         "B35",
         "C",
         "9",
         null,
         "Paris, France"
        ],
        [
         "13",
         "1",
         "1",
         "Barber, Miss. Ellen \"Nellie\"",
         "female",
         "26.0",
         "0",
         "0",
         "19877",
         "78.85",
         null,
         "S",
         "6",
         null,
         null
        ],
        [
         "14",
         "1",
         "1",
         "Barkworth, Mr. Algernon Henry Wilson",
         "male",
         "80.0",
         "0",
         "0",
         "27042",
         "30.0",
         "A23",
         "S",
         "B",
         null,
         "Hessle, Yorks"
        ],
        [
         "15",
         "1",
         "0",
         "Baumann, Mr. John D",
         "male",
         null,
         "0",
         "0",
         "PC 17318",
         "25.925",
         null,
         "S",
         null,
         null,
         "New York, NY"
        ],
        [
         "16",
         "1",
         "0",
         "Baxter, Mr. Quigg Edmond",
         "male",
         "24.0",
         "0",
         "1",
         "PC 17558",
         "247.5208",
         "B58 B60",
         "C",
         null,
         null,
         "Montreal, PQ"
        ],
        [
         "17",
         "1",
         "1",
         "Baxter, Mrs. James (Helene DeLaudeniere Chaput)",
         "female",
         "50.0",
         "0",
         "1",
         "PC 17558",
         "247.5208",
         "B58 B60",
         "C",
         "6",
         null,
         "Montreal, PQ"
        ],
        [
         "18",
         "1",
         "1",
         "Bazzani, Miss. Albina",
         "female",
         "32.0",
         "0",
         "0",
         "11813",
         "76.2917",
         "D15",
         "C",
         "8",
         null,
         null
        ],
        [
         "19",
         "1",
         "0",
         "Beattie, Mr. Thomson",
         "male",
         "36.0",
         "0",
         "0",
         "13050",
         "75.2417",
         "C6",
         "C",
         "A",
         null,
         "Winnipeg, MN"
        ],
        [
         "20",
         "1",
         "1",
         "Beckwith, Mr. Richard Leonard",
         "male",
         "37.0",
         "1",
         "1",
         "11751",
         "52.5542",
         "D35",
         "S",
         "5",
         null,
         "New York, NY"
        ],
        [
         "21",
         "1",
         "1",
         "Beckwith, Mrs. Richard Leonard (Sallie Monypeny)",
         "female",
         "47.0",
         "1",
         "1",
         "11751",
         "52.5542",
         "D35",
         "S",
         "5",
         null,
         "New York, NY"
        ],
        [
         "22",
         "1",
         "1",
         "Behr, Mr. Karl Howell",
         "male",
         "26.0",
         "0",
         "0",
         "111369",
         "30.0",
         "C148",
         "C",
         "5",
         null,
         "New York, NY"
        ],
        [
         "23",
         "1",
         "1",
         "Bidois, Miss. Rosalie",
         "female",
         "42.0",
         "0",
         "0",
         "PC 17757",
         "227.525",
         null,
         "C",
         "4",
         null,
         null
        ],
        [
         "24",
         "1",
         "1",
         "Bird, Miss. Ellen",
         "female",
         "29.0",
         "0",
         "0",
         "PC 17483",
         "221.7792",
         "C97",
         "S",
         "8",
         null,
         null
        ],
        [
         "25",
         "1",
         "0",
         "Birnbaum, Mr. Jakob",
         "male",
         "25.0",
         "0",
         "0",
         "13905",
         "26.0",
         null,
         "C",
         null,
         "148.0",
         "San Francisco, CA"
        ],
        [
         "26",
         "1",
         "1",
         "Bishop, Mr. Dickinson H",
         "male",
         "25.0",
         "1",
         "0",
         "11967",
         "91.0792",
         "B49",
         "C",
         "7",
         null,
         "Dowagiac, MI"
        ],
        [
         "27",
         "1",
         "1",
         "Bishop, Mrs. Dickinson H (Helen Walton)",
         "female",
         "19.0",
         "1",
         "0",
         "11967",
         "91.0792",
         "B49",
         "C",
         "7",
         null,
         "Dowagiac, MI"
        ],
        [
         "28",
         "1",
         "1",
         "Bissette, Miss. Amelia",
         "female",
         "35.0",
         "0",
         "0",
         "PC 17760",
         "135.6333",
         "C99",
         "S",
         "8",
         null,
         null
        ],
        [
         "29",
         "1",
         "1",
         "Bjornstrom-Steffansson, Mr. Mauritz Hakan",
         "male",
         "28.0",
         "0",
         "0",
         "110564",
         "26.55",
         "C52",
         "S",
         "D",
         null,
         "Stockholm, Sweden / Washington, DC"
        ],
        [
         "30",
         "1",
         "0",
         "Blackwell, Mr. Stephen Weart",
         "male",
         "45.0",
         "0",
         "0",
         "113784",
         "35.5",
         "T",
         "S",
         null,
         null,
         "Trenton, NJ"
        ],
        [
         "31",
         "1",
         "1",
         "Blank, Mr. Henry",
         "male",
         "40.0",
         "0",
         "0",
         "112277",
         "31.0",
         "A31",
         "C",
         "7",
         null,
         "Glen Ridge, NJ"
        ],
        [
         "32",
         "1",
         "1",
         "Bonnell, Miss. Caroline",
         "female",
         "30.0",
         "0",
         "0",
         "36928",
         "164.8667",
         "C7",
         "S",
         "8",
         null,
         "Youngstown, OH"
        ],
        [
         "33",
         "1",
         "1",
         "Bonnell, Miss. Elizabeth",
         "female",
         "58.0",
         "0",
         "0",
         "113783",
         "26.55",
         "C103",
         "S",
         "8",
         null,
         "Birkdale, England Cleveland, Ohio"
        ],
        [
         "34",
         "1",
         "0",
         "Borebank, Mr. John James",
         "male",
         "42.0",
         "0",
         "0",
         "110489",
         "26.55",
         "D22",
         "S",
         null,
         null,
         "London / Winnipeg, MB"
        ],
        [
         "35",
         "1",
         "1",
         "Bowen, Miss. Grace Scott",
         "female",
         "45.0",
         "0",
         "0",
         "PC 17608",
         "262.375",
         null,
         "C",
         "4",
         null,
         "Cooperstown, NY"
        ],
        [
         "36",
         "1",
         "1",
         "Bowerman, Miss. Elsie Edith",
         "female",
         "22.0",
         "0",
         "1",
         "113505",
         "55.0",
         "E33",
         "S",
         "6",
         null,
         "St Leonards-on-Sea, England Ohio"
        ],
        [
         "37",
         "1",
         "1",
         "Bradley, Mr. George (\"George Arthur Brayton\")",
         "male",
         null,
         "0",
         "0",
         "111427",
         "26.55",
         null,
         "S",
         "9",
         null,
         "Los Angeles, CA"
        ],
        [
         "38",
         "1",
         "0",
         "Brady, Mr. John Bertram",
         "male",
         "41.0",
         "0",
         "0",
         "113054",
         "30.5",
         "A21",
         "S",
         null,
         null,
         "Pomeroy, WA"
        ],
        [
         "39",
         "1",
         "0",
         "Brandeis, Mr. Emil",
         "male",
         "48.0",
         "0",
         "0",
         "PC 17591",
         "50.4958",
         "B10",
         "C",
         null,
         "208.0",
         "Omaha, NE"
        ],
        [
         "40",
         "1",
         "0",
         "Brewe, Dr. Arthur Jackson",
         "male",
         null,
         "0",
         "0",
         "112379",
         "39.6",
         null,
         "C",
         null,
         null,
         "Philadelphia, PA"
        ],
        [
         "41",
         "1",
         "1",
         "Brown, Mrs. James Joseph (Margaret Tobin)",
         "female",
         "44.0",
         "0",
         "0",
         "PC 17610",
         "27.7208",
         "B4",
         "C",
         "6",
         null,
         "Denver, CO"
        ],
        [
         "42",
         "1",
         "1",
         "Brown, Mrs. John Murray (Caroline Lane Lamson)",
         "female",
         "59.0",
         "2",
         "0",
         "11769",
         "51.4792",
         "C101",
         "S",
         "D",
         null,
         "Belmont, MA"
        ],
        [
         "43",
         "1",
         "1",
         "Bucknell, Mrs. William Robert (Emma Eliza Ward)",
         "female",
         "60.0",
         "0",
         "0",
         "11813",
         "76.2917",
         "D15",
         "C",
         "8",
         null,
         "Philadelphia, PA"
        ],
        [
         "44",
         "1",
         "1",
         "Burns, Miss. Elizabeth Margaret",
         "female",
         "41.0",
         "0",
         "0",
         "16966",
         "134.5",
         "E40",
         "C",
         "3",
         null,
         null
        ],
        [
         "45",
         "1",
         "0",
         "Butt, Major. Archibald Willingham",
         "male",
         "45.0",
         "0",
         "0",
         "113050",
         "26.55",
         "B38",
         "S",
         null,
         null,
         "Washington, DC"
        ],
        [
         "46",
         "1",
         "0",
         "Cairns, Mr. Alexander",
         "male",
         null,
         "0",
         "0",
         "113798",
         "31.0",
         null,
         "S",
         null,
         null,
         null
        ],
        [
         "47",
         "1",
         "1",
         "Calderhead, Mr. Edward Pennington",
         "male",
         "42.0",
         "0",
         "0",
         "PC 17476",
         "26.2875",
         "E24",
         "S",
         "5",
         null,
         "New York, NY"
        ],
        [
         "48",
         "1",
         "1",
         "Candee, Mrs. Edward (Helen Churchill Hungerford)",
         "female",
         "53.0",
         "0",
         "0",
         "PC 17606",
         "27.4458",
         null,
         "C",
         "6",
         null,
         "Washington, DC"
        ],
        [
         "49",
         "1",
         "1",
         "Cardeza, Mr. Thomas Drake Martinez",
         "male",
         "36.0",
         "0",
         "1",
         "PC 17755",
         "512.3292",
         "B51 B53 B55",
         "C",
         "3",
         null,
         "Austria-Hungary / Germantown, Philadelphia, PA"
        ]
       ],
       "shape": {
        "columns": 14,
        "rows": 1309
       }
      },
      "text/html": [
       "<div>\n",
       "<style scoped>\n",
       "    .dataframe tbody tr th:only-of-type {\n",
       "        vertical-align: middle;\n",
       "    }\n",
       "\n",
       "    .dataframe tbody tr th {\n",
       "        vertical-align: top;\n",
       "    }\n",
       "\n",
       "    .dataframe thead th {\n",
       "        text-align: right;\n",
       "    }\n",
       "</style>\n",
       "<table border=\"1\" class=\"dataframe\">\n",
       "  <thead>\n",
       "    <tr style=\"text-align: right;\">\n",
       "      <th></th>\n",
       "      <th>pclass</th>\n",
       "      <th>survived</th>\n",
       "      <th>name</th>\n",
       "      <th>sex</th>\n",
       "      <th>age</th>\n",
       "      <th>sibsp</th>\n",
       "      <th>parch</th>\n",
       "      <th>ticket</th>\n",
       "      <th>fare</th>\n",
       "      <th>cabin</th>\n",
       "      <th>embarked</th>\n",
       "      <th>boat</th>\n",
       "      <th>body</th>\n",
       "      <th>home.dest</th>\n",
       "    </tr>\n",
       "  </thead>\n",
       "  <tbody>\n",
       "    <tr>\n",
       "      <th>0</th>\n",
       "      <td>1</td>\n",
       "      <td>1</td>\n",
       "      <td>Allen, Miss. Elisabeth Walton</td>\n",
       "      <td>female</td>\n",
       "      <td>29.00</td>\n",
       "      <td>0</td>\n",
       "      <td>0</td>\n",
       "      <td>24160</td>\n",
       "      <td>211.3375</td>\n",
       "      <td>B5</td>\n",
       "      <td>S</td>\n",
       "      <td>2</td>\n",
       "      <td>NaN</td>\n",
       "      <td>St Louis, MO</td>\n",
       "    </tr>\n",
       "    <tr>\n",
       "      <th>1</th>\n",
       "      <td>1</td>\n",
       "      <td>1</td>\n",
       "      <td>Allison, Master. Hudson Trevor</td>\n",
       "      <td>male</td>\n",
       "      <td>0.92</td>\n",
       "      <td>1</td>\n",
       "      <td>2</td>\n",
       "      <td>113781</td>\n",
       "      <td>151.5500</td>\n",
       "      <td>C22 C26</td>\n",
       "      <td>S</td>\n",
       "      <td>11</td>\n",
       "      <td>NaN</td>\n",
       "      <td>Montreal, PQ / Chesterville, ON</td>\n",
       "    </tr>\n",
       "    <tr>\n",
       "      <th>2</th>\n",
       "      <td>1</td>\n",
       "      <td>0</td>\n",
       "      <td>Allison, Miss. Helen Loraine</td>\n",
       "      <td>female</td>\n",
       "      <td>2.00</td>\n",
       "      <td>1</td>\n",
       "      <td>2</td>\n",
       "      <td>113781</td>\n",
       "      <td>151.5500</td>\n",
       "      <td>C22 C26</td>\n",
       "      <td>S</td>\n",
       "      <td>NaN</td>\n",
       "      <td>NaN</td>\n",
       "      <td>Montreal, PQ / Chesterville, ON</td>\n",
       "    </tr>\n",
       "    <tr>\n",
       "      <th>3</th>\n",
       "      <td>1</td>\n",
       "      <td>0</td>\n",
       "      <td>Allison, Mr. Hudson Joshua Creighton</td>\n",
       "      <td>male</td>\n",
       "      <td>30.00</td>\n",
       "      <td>1</td>\n",
       "      <td>2</td>\n",
       "      <td>113781</td>\n",
       "      <td>151.5500</td>\n",
       "      <td>C22 C26</td>\n",
       "      <td>S</td>\n",
       "      <td>NaN</td>\n",
       "      <td>135.0</td>\n",
       "      <td>Montreal, PQ / Chesterville, ON</td>\n",
       "    </tr>\n",
       "    <tr>\n",
       "      <th>4</th>\n",
       "      <td>1</td>\n",
       "      <td>0</td>\n",
       "      <td>Allison, Mrs. Hudson J C (Bessie Waldo Daniels)</td>\n",
       "      <td>female</td>\n",
       "      <td>25.00</td>\n",
       "      <td>1</td>\n",
       "      <td>2</td>\n",
       "      <td>113781</td>\n",
       "      <td>151.5500</td>\n",
       "      <td>C22 C26</td>\n",
       "      <td>S</td>\n",
       "      <td>NaN</td>\n",
       "      <td>NaN</td>\n",
       "      <td>Montreal, PQ / Chesterville, ON</td>\n",
       "    </tr>\n",
       "    <tr>\n",
       "      <th>...</th>\n",
       "      <td>...</td>\n",
       "      <td>...</td>\n",
       "      <td>...</td>\n",
       "      <td>...</td>\n",
       "      <td>...</td>\n",
       "      <td>...</td>\n",
       "      <td>...</td>\n",
       "      <td>...</td>\n",
       "      <td>...</td>\n",
       "      <td>...</td>\n",
       "      <td>...</td>\n",
       "      <td>...</td>\n",
       "      <td>...</td>\n",
       "      <td>...</td>\n",
       "    </tr>\n",
       "    <tr>\n",
       "      <th>1304</th>\n",
       "      <td>3</td>\n",
       "      <td>0</td>\n",
       "      <td>Zabour, Miss. Hileni</td>\n",
       "      <td>female</td>\n",
       "      <td>14.50</td>\n",
       "      <td>1</td>\n",
       "      <td>0</td>\n",
       "      <td>2665</td>\n",
       "      <td>14.4542</td>\n",
       "      <td>NaN</td>\n",
       "      <td>C</td>\n",
       "      <td>NaN</td>\n",
       "      <td>328.0</td>\n",
       "      <td>NaN</td>\n",
       "    </tr>\n",
       "    <tr>\n",
       "      <th>1305</th>\n",
       "      <td>3</td>\n",
       "      <td>0</td>\n",
       "      <td>Zabour, Miss. Thamine</td>\n",
       "      <td>female</td>\n",
       "      <td>NaN</td>\n",
       "      <td>1</td>\n",
       "      <td>0</td>\n",
       "      <td>2665</td>\n",
       "      <td>14.4542</td>\n",
       "      <td>NaN</td>\n",
       "      <td>C</td>\n",
       "      <td>NaN</td>\n",
       "      <td>NaN</td>\n",
       "      <td>NaN</td>\n",
       "    </tr>\n",
       "    <tr>\n",
       "      <th>1306</th>\n",
       "      <td>3</td>\n",
       "      <td>0</td>\n",
       "      <td>Zakarian, Mr. Mapriededer</td>\n",
       "      <td>male</td>\n",
       "      <td>26.50</td>\n",
       "      <td>0</td>\n",
       "      <td>0</td>\n",
       "      <td>2656</td>\n",
       "      <td>7.2250</td>\n",
       "      <td>NaN</td>\n",
       "      <td>C</td>\n",
       "      <td>NaN</td>\n",
       "      <td>304.0</td>\n",
       "      <td>NaN</td>\n",
       "    </tr>\n",
       "    <tr>\n",
       "      <th>1307</th>\n",
       "      <td>3</td>\n",
       "      <td>0</td>\n",
       "      <td>Zakarian, Mr. Ortin</td>\n",
       "      <td>male</td>\n",
       "      <td>27.00</td>\n",
       "      <td>0</td>\n",
       "      <td>0</td>\n",
       "      <td>2670</td>\n",
       "      <td>7.2250</td>\n",
       "      <td>NaN</td>\n",
       "      <td>C</td>\n",
       "      <td>NaN</td>\n",
       "      <td>NaN</td>\n",
       "      <td>NaN</td>\n",
       "    </tr>\n",
       "    <tr>\n",
       "      <th>1308</th>\n",
       "      <td>3</td>\n",
       "      <td>0</td>\n",
       "      <td>Zimmerman, Mr. Leo</td>\n",
       "      <td>male</td>\n",
       "      <td>29.00</td>\n",
       "      <td>0</td>\n",
       "      <td>0</td>\n",
       "      <td>315082</td>\n",
       "      <td>7.8750</td>\n",
       "      <td>NaN</td>\n",
       "      <td>S</td>\n",
       "      <td>NaN</td>\n",
       "      <td>NaN</td>\n",
       "      <td>NaN</td>\n",
       "    </tr>\n",
       "  </tbody>\n",
       "</table>\n",
       "<p>1309 rows × 14 columns</p>\n",
       "</div>"
      ],
      "text/plain": [
       "      pclass  survived                                             name  \\\n",
       "0          1         1                    Allen, Miss. Elisabeth Walton   \n",
       "1          1         1                   Allison, Master. Hudson Trevor   \n",
       "2          1         0                     Allison, Miss. Helen Loraine   \n",
       "3          1         0             Allison, Mr. Hudson Joshua Creighton   \n",
       "4          1         0  Allison, Mrs. Hudson J C (Bessie Waldo Daniels)   \n",
       "...      ...       ...                                              ...   \n",
       "1304       3         0                             Zabour, Miss. Hileni   \n",
       "1305       3         0                            Zabour, Miss. Thamine   \n",
       "1306       3         0                        Zakarian, Mr. Mapriededer   \n",
       "1307       3         0                              Zakarian, Mr. Ortin   \n",
       "1308       3         0                               Zimmerman, Mr. Leo   \n",
       "\n",
       "         sex    age  sibsp  parch  ticket      fare    cabin embarked boat  \\\n",
       "0     female  29.00      0      0   24160  211.3375       B5        S    2   \n",
       "1       male   0.92      1      2  113781  151.5500  C22 C26        S   11   \n",
       "2     female   2.00      1      2  113781  151.5500  C22 C26        S  NaN   \n",
       "3       male  30.00      1      2  113781  151.5500  C22 C26        S  NaN   \n",
       "4     female  25.00      1      2  113781  151.5500  C22 C26        S  NaN   \n",
       "...      ...    ...    ...    ...     ...       ...      ...      ...  ...   \n",
       "1304  female  14.50      1      0    2665   14.4542      NaN        C  NaN   \n",
       "1305  female    NaN      1      0    2665   14.4542      NaN        C  NaN   \n",
       "1306    male  26.50      0      0    2656    7.2250      NaN        C  NaN   \n",
       "1307    male  27.00      0      0    2670    7.2250      NaN        C  NaN   \n",
       "1308    male  29.00      0      0  315082    7.8750      NaN        S  NaN   \n",
       "\n",
       "       body                        home.dest  \n",
       "0       NaN                     St Louis, MO  \n",
       "1       NaN  Montreal, PQ / Chesterville, ON  \n",
       "2       NaN  Montreal, PQ / Chesterville, ON  \n",
       "3     135.0  Montreal, PQ / Chesterville, ON  \n",
       "4       NaN  Montreal, PQ / Chesterville, ON  \n",
       "...     ...                              ...  \n",
       "1304  328.0                              NaN  \n",
       "1305    NaN                              NaN  \n",
       "1306  304.0                              NaN  \n",
       "1307    NaN                              NaN  \n",
       "1308    NaN                              NaN  \n",
       "\n",
       "[1309 rows x 14 columns]"
      ]
     },
     "execution_count": 84,
     "metadata": {},
     "output_type": "execute_result"
    }
   ],
   "source": [
    "titanic = pd.read_csv(\"data/titanic.csv\")\n",
    "titanic"
   ]
  },
  {
   "cell_type": "code",
   "execution_count": 85,
   "metadata": {},
   "outputs": [
    {
     "name": "stdout",
     "output_type": "stream",
     "text": [
      "<class 'pandas.core.frame.DataFrame'>\n",
      "RangeIndex: 1309 entries, 0 to 1308\n",
      "Data columns (total 14 columns):\n",
      " #   Column     Non-Null Count  Dtype  \n",
      "---  ------     --------------  -----  \n",
      " 0   pclass     1309 non-null   int64  \n",
      " 1   survived   1309 non-null   int64  \n",
      " 2   name       1309 non-null   object \n",
      " 3   sex        1309 non-null   object \n",
      " 4   age        1046 non-null   float64\n",
      " 5   sibsp      1309 non-null   int64  \n",
      " 6   parch      1309 non-null   int64  \n",
      " 7   ticket     1309 non-null   object \n",
      " 8   fare       1308 non-null   float64\n",
      " 9   cabin      295 non-null    object \n",
      " 10  embarked   1307 non-null   object \n",
      " 11  boat       486 non-null    object \n",
      " 12  body       121 non-null    float64\n",
      " 13  home.dest  745 non-null    object \n",
      "dtypes: float64(3), int64(4), object(7)\n",
      "memory usage: 143.3+ KB\n"
     ]
    }
   ],
   "source": [
    "titanic.info()"
   ]
  },
  {
   "cell_type": "code",
   "execution_count": 86,
   "metadata": {},
   "outputs": [
    {
     "data": {
      "text/plain": [
       "pclass         int64\n",
       "survived       int64\n",
       "name          object\n",
       "sex           object\n",
       "age          float64\n",
       "sibsp          int64\n",
       "parch          int64\n",
       "ticket        object\n",
       "fare         float64\n",
       "cabin         object\n",
       "embarked      object\n",
       "boat          object\n",
       "body         float64\n",
       "home.dest     object\n",
       "dtype: object"
      ]
     },
     "execution_count": 86,
     "metadata": {},
     "output_type": "execute_result"
    }
   ],
   "source": [
    "titanic.dtypes\n"
   ]
  },
  {
   "cell_type": "code",
   "execution_count": 87,
   "metadata": {},
   "outputs": [
    {
     "data": {
      "application/vnd.microsoft.datawrangler.viewer.v0+json": {
       "columns": [
        {
         "name": "index",
         "rawType": "object",
         "type": "string"
        },
        {
         "name": "pclass",
         "rawType": "float64",
         "type": "float"
        },
        {
         "name": "survived",
         "rawType": "float64",
         "type": "float"
        },
        {
         "name": "age",
         "rawType": "float64",
         "type": "float"
        },
        {
         "name": "sibsp",
         "rawType": "float64",
         "type": "float"
        },
        {
         "name": "parch",
         "rawType": "float64",
         "type": "float"
        },
        {
         "name": "fare",
         "rawType": "float64",
         "type": "float"
        },
        {
         "name": "body",
         "rawType": "float64",
         "type": "float"
        }
       ],
       "conversionMethod": "pd.DataFrame",
       "ref": "08d04174-f180-4c98-abcd-50155203bad0",
       "rows": [
        [
         "count",
         "1309.0",
         "1309.0",
         "1046.0",
         "1309.0",
         "1309.0",
         "1308.0",
         "121.0"
        ],
        [
         "mean",
         "2.294881588999236",
         "0.3819709702062643",
         "29.881137667304014",
         "0.4988540870893812",
         "0.3850267379679144",
         "33.29547928134557",
         "160.8099173553719"
        ],
        [
         "std",
         "0.8378360189701274",
         "0.4860551708664827",
         "14.413493211271321",
         "1.041658390596102",
         "0.8655602753495147",
         "51.75866823917411",
         "97.6969219960031"
        ],
        [
         "min",
         "1.0",
         "0.0",
         "0.17",
         "0.0",
         "0.0",
         "0.0",
         "1.0"
        ],
        [
         "25%",
         "2.0",
         "0.0",
         "21.0",
         "0.0",
         "0.0",
         "7.8958",
         "72.0"
        ],
        [
         "50%",
         "3.0",
         "0.0",
         "28.0",
         "0.0",
         "0.0",
         "14.4542",
         "155.0"
        ],
        [
         "75%",
         "3.0",
         "1.0",
         "39.0",
         "1.0",
         "0.0",
         "31.275",
         "256.0"
        ],
        [
         "max",
         "3.0",
         "1.0",
         "80.0",
         "8.0",
         "9.0",
         "512.3292",
         "328.0"
        ]
       ],
       "shape": {
        "columns": 7,
        "rows": 8
       }
      },
      "text/html": [
       "<div>\n",
       "<style scoped>\n",
       "    .dataframe tbody tr th:only-of-type {\n",
       "        vertical-align: middle;\n",
       "    }\n",
       "\n",
       "    .dataframe tbody tr th {\n",
       "        vertical-align: top;\n",
       "    }\n",
       "\n",
       "    .dataframe thead th {\n",
       "        text-align: right;\n",
       "    }\n",
       "</style>\n",
       "<table border=\"1\" class=\"dataframe\">\n",
       "  <thead>\n",
       "    <tr style=\"text-align: right;\">\n",
       "      <th></th>\n",
       "      <th>pclass</th>\n",
       "      <th>survived</th>\n",
       "      <th>age</th>\n",
       "      <th>sibsp</th>\n",
       "      <th>parch</th>\n",
       "      <th>fare</th>\n",
       "      <th>body</th>\n",
       "    </tr>\n",
       "  </thead>\n",
       "  <tbody>\n",
       "    <tr>\n",
       "      <th>count</th>\n",
       "      <td>1309.000000</td>\n",
       "      <td>1309.000000</td>\n",
       "      <td>1046.000000</td>\n",
       "      <td>1309.000000</td>\n",
       "      <td>1309.000000</td>\n",
       "      <td>1308.000000</td>\n",
       "      <td>121.000000</td>\n",
       "    </tr>\n",
       "    <tr>\n",
       "      <th>mean</th>\n",
       "      <td>2.294882</td>\n",
       "      <td>0.381971</td>\n",
       "      <td>29.881138</td>\n",
       "      <td>0.498854</td>\n",
       "      <td>0.385027</td>\n",
       "      <td>33.295479</td>\n",
       "      <td>160.809917</td>\n",
       "    </tr>\n",
       "    <tr>\n",
       "      <th>std</th>\n",
       "      <td>0.837836</td>\n",
       "      <td>0.486055</td>\n",
       "      <td>14.413493</td>\n",
       "      <td>1.041658</td>\n",
       "      <td>0.865560</td>\n",
       "      <td>51.758668</td>\n",
       "      <td>97.696922</td>\n",
       "    </tr>\n",
       "    <tr>\n",
       "      <th>min</th>\n",
       "      <td>1.000000</td>\n",
       "      <td>0.000000</td>\n",
       "      <td>0.170000</td>\n",
       "      <td>0.000000</td>\n",
       "      <td>0.000000</td>\n",
       "      <td>0.000000</td>\n",
       "      <td>1.000000</td>\n",
       "    </tr>\n",
       "    <tr>\n",
       "      <th>25%</th>\n",
       "      <td>2.000000</td>\n",
       "      <td>0.000000</td>\n",
       "      <td>21.000000</td>\n",
       "      <td>0.000000</td>\n",
       "      <td>0.000000</td>\n",
       "      <td>7.895800</td>\n",
       "      <td>72.000000</td>\n",
       "    </tr>\n",
       "    <tr>\n",
       "      <th>50%</th>\n",
       "      <td>3.000000</td>\n",
       "      <td>0.000000</td>\n",
       "      <td>28.000000</td>\n",
       "      <td>0.000000</td>\n",
       "      <td>0.000000</td>\n",
       "      <td>14.454200</td>\n",
       "      <td>155.000000</td>\n",
       "    </tr>\n",
       "    <tr>\n",
       "      <th>75%</th>\n",
       "      <td>3.000000</td>\n",
       "      <td>1.000000</td>\n",
       "      <td>39.000000</td>\n",
       "      <td>1.000000</td>\n",
       "      <td>0.000000</td>\n",
       "      <td>31.275000</td>\n",
       "      <td>256.000000</td>\n",
       "    </tr>\n",
       "    <tr>\n",
       "      <th>max</th>\n",
       "      <td>3.000000</td>\n",
       "      <td>1.000000</td>\n",
       "      <td>80.000000</td>\n",
       "      <td>8.000000</td>\n",
       "      <td>9.000000</td>\n",
       "      <td>512.329200</td>\n",
       "      <td>328.000000</td>\n",
       "    </tr>\n",
       "  </tbody>\n",
       "</table>\n",
       "</div>"
      ],
      "text/plain": [
       "            pclass     survived          age        sibsp        parch  \\\n",
       "count  1309.000000  1309.000000  1046.000000  1309.000000  1309.000000   \n",
       "mean      2.294882     0.381971    29.881138     0.498854     0.385027   \n",
       "std       0.837836     0.486055    14.413493     1.041658     0.865560   \n",
       "min       1.000000     0.000000     0.170000     0.000000     0.000000   \n",
       "25%       2.000000     0.000000    21.000000     0.000000     0.000000   \n",
       "50%       3.000000     0.000000    28.000000     0.000000     0.000000   \n",
       "75%       3.000000     1.000000    39.000000     1.000000     0.000000   \n",
       "max       3.000000     1.000000    80.000000     8.000000     9.000000   \n",
       "\n",
       "              fare        body  \n",
       "count  1308.000000  121.000000  \n",
       "mean     33.295479  160.809917  \n",
       "std      51.758668   97.696922  \n",
       "min       0.000000    1.000000  \n",
       "25%       7.895800   72.000000  \n",
       "50%      14.454200  155.000000  \n",
       "75%      31.275000  256.000000  \n",
       "max     512.329200  328.000000  "
      ]
     },
     "execution_count": 87,
     "metadata": {},
     "output_type": "execute_result"
    }
   ],
   "source": [
    "titanic.describe()"
   ]
  },
  {
   "attachments": {},
   "cell_type": "markdown",
   "metadata": {},
   "source": [
    "2. Create a separate dataframe with the columns `['name', 'sex', 'age']`, call it `people`\n",
    "\n",
    "It can be done two ways, do it both!"
   ]
  },
  {
   "cell_type": "code",
   "execution_count": 88,
   "metadata": {},
   "outputs": [
    {
     "data": {
      "application/vnd.microsoft.datawrangler.viewer.v0+json": {
       "columns": [
        {
         "name": "index",
         "rawType": "int64",
         "type": "integer"
        },
        {
         "name": "name",
         "rawType": "object",
         "type": "string"
        },
        {
         "name": "sex",
         "rawType": "object",
         "type": "string"
        },
        {
         "name": "age",
         "rawType": "float64",
         "type": "float"
        }
       ],
       "conversionMethod": "pd.DataFrame",
       "ref": "0494ad1b-f989-47f9-9dc1-3c9fd8c35134",
       "rows": [
        [
         "0",
         "Allen, Miss. Elisabeth Walton",
         "female",
         "29.0"
        ],
        [
         "1",
         "Allison, Master. Hudson Trevor",
         "male",
         "0.92"
        ],
        [
         "2",
         "Allison, Miss. Helen Loraine",
         "female",
         "2.0"
        ],
        [
         "3",
         "Allison, Mr. Hudson Joshua Creighton",
         "male",
         "30.0"
        ],
        [
         "4",
         "Allison, Mrs. Hudson J C (Bessie Waldo Daniels)",
         "female",
         "25.0"
        ],
        [
         "5",
         "Anderson, Mr. Harry",
         "male",
         "48.0"
        ],
        [
         "6",
         "Andrews, Miss. Kornelia Theodosia",
         "female",
         "63.0"
        ],
        [
         "7",
         "Andrews, Mr. Thomas Jr",
         "male",
         "39.0"
        ],
        [
         "8",
         "Appleton, Mrs. Edward Dale (Charlotte Lamson)",
         "female",
         "53.0"
        ],
        [
         "9",
         "Artagaveytia, Mr. Ramon",
         "male",
         "71.0"
        ],
        [
         "10",
         "Astor, Col. John Jacob",
         "male",
         "47.0"
        ],
        [
         "11",
         "Astor, Mrs. John Jacob (Madeleine Talmadge Force)",
         "female",
         "18.0"
        ],
        [
         "12",
         "Aubart, Mme. Leontine Pauline",
         "female",
         "24.0"
        ],
        [
         "13",
         "Barber, Miss. Ellen \"Nellie\"",
         "female",
         "26.0"
        ],
        [
         "14",
         "Barkworth, Mr. Algernon Henry Wilson",
         "male",
         "80.0"
        ],
        [
         "15",
         "Baumann, Mr. John D",
         "male",
         null
        ],
        [
         "16",
         "Baxter, Mr. Quigg Edmond",
         "male",
         "24.0"
        ],
        [
         "17",
         "Baxter, Mrs. James (Helene DeLaudeniere Chaput)",
         "female",
         "50.0"
        ],
        [
         "18",
         "Bazzani, Miss. Albina",
         "female",
         "32.0"
        ],
        [
         "19",
         "Beattie, Mr. Thomson",
         "male",
         "36.0"
        ],
        [
         "20",
         "Beckwith, Mr. Richard Leonard",
         "male",
         "37.0"
        ],
        [
         "21",
         "Beckwith, Mrs. Richard Leonard (Sallie Monypeny)",
         "female",
         "47.0"
        ],
        [
         "22",
         "Behr, Mr. Karl Howell",
         "male",
         "26.0"
        ],
        [
         "23",
         "Bidois, Miss. Rosalie",
         "female",
         "42.0"
        ],
        [
         "24",
         "Bird, Miss. Ellen",
         "female",
         "29.0"
        ],
        [
         "25",
         "Birnbaum, Mr. Jakob",
         "male",
         "25.0"
        ],
        [
         "26",
         "Bishop, Mr. Dickinson H",
         "male",
         "25.0"
        ],
        [
         "27",
         "Bishop, Mrs. Dickinson H (Helen Walton)",
         "female",
         "19.0"
        ],
        [
         "28",
         "Bissette, Miss. Amelia",
         "female",
         "35.0"
        ],
        [
         "29",
         "Bjornstrom-Steffansson, Mr. Mauritz Hakan",
         "male",
         "28.0"
        ],
        [
         "30",
         "Blackwell, Mr. Stephen Weart",
         "male",
         "45.0"
        ],
        [
         "31",
         "Blank, Mr. Henry",
         "male",
         "40.0"
        ],
        [
         "32",
         "Bonnell, Miss. Caroline",
         "female",
         "30.0"
        ],
        [
         "33",
         "Bonnell, Miss. Elizabeth",
         "female",
         "58.0"
        ],
        [
         "34",
         "Borebank, Mr. John James",
         "male",
         "42.0"
        ],
        [
         "35",
         "Bowen, Miss. Grace Scott",
         "female",
         "45.0"
        ],
        [
         "36",
         "Bowerman, Miss. Elsie Edith",
         "female",
         "22.0"
        ],
        [
         "37",
         "Bradley, Mr. George (\"George Arthur Brayton\")",
         "male",
         null
        ],
        [
         "38",
         "Brady, Mr. John Bertram",
         "male",
         "41.0"
        ],
        [
         "39",
         "Brandeis, Mr. Emil",
         "male",
         "48.0"
        ],
        [
         "40",
         "Brewe, Dr. Arthur Jackson",
         "male",
         null
        ],
        [
         "41",
         "Brown, Mrs. James Joseph (Margaret Tobin)",
         "female",
         "44.0"
        ],
        [
         "42",
         "Brown, Mrs. John Murray (Caroline Lane Lamson)",
         "female",
         "59.0"
        ],
        [
         "43",
         "Bucknell, Mrs. William Robert (Emma Eliza Ward)",
         "female",
         "60.0"
        ],
        [
         "44",
         "Burns, Miss. Elizabeth Margaret",
         "female",
         "41.0"
        ],
        [
         "45",
         "Butt, Major. Archibald Willingham",
         "male",
         "45.0"
        ],
        [
         "46",
         "Cairns, Mr. Alexander",
         "male",
         null
        ],
        [
         "47",
         "Calderhead, Mr. Edward Pennington",
         "male",
         "42.0"
        ],
        [
         "48",
         "Candee, Mrs. Edward (Helen Churchill Hungerford)",
         "female",
         "53.0"
        ],
        [
         "49",
         "Cardeza, Mr. Thomas Drake Martinez",
         "male",
         "36.0"
        ]
       ],
       "shape": {
        "columns": 3,
        "rows": 1309
       }
      },
      "text/html": [
       "<div>\n",
       "<style scoped>\n",
       "    .dataframe tbody tr th:only-of-type {\n",
       "        vertical-align: middle;\n",
       "    }\n",
       "\n",
       "    .dataframe tbody tr th {\n",
       "        vertical-align: top;\n",
       "    }\n",
       "\n",
       "    .dataframe thead th {\n",
       "        text-align: right;\n",
       "    }\n",
       "</style>\n",
       "<table border=\"1\" class=\"dataframe\">\n",
       "  <thead>\n",
       "    <tr style=\"text-align: right;\">\n",
       "      <th></th>\n",
       "      <th>name</th>\n",
       "      <th>sex</th>\n",
       "      <th>age</th>\n",
       "    </tr>\n",
       "  </thead>\n",
       "  <tbody>\n",
       "    <tr>\n",
       "      <th>0</th>\n",
       "      <td>Allen, Miss. Elisabeth Walton</td>\n",
       "      <td>female</td>\n",
       "      <td>29.00</td>\n",
       "    </tr>\n",
       "    <tr>\n",
       "      <th>1</th>\n",
       "      <td>Allison, Master. Hudson Trevor</td>\n",
       "      <td>male</td>\n",
       "      <td>0.92</td>\n",
       "    </tr>\n",
       "    <tr>\n",
       "      <th>2</th>\n",
       "      <td>Allison, Miss. Helen Loraine</td>\n",
       "      <td>female</td>\n",
       "      <td>2.00</td>\n",
       "    </tr>\n",
       "    <tr>\n",
       "      <th>3</th>\n",
       "      <td>Allison, Mr. Hudson Joshua Creighton</td>\n",
       "      <td>male</td>\n",
       "      <td>30.00</td>\n",
       "    </tr>\n",
       "    <tr>\n",
       "      <th>4</th>\n",
       "      <td>Allison, Mrs. Hudson J C (Bessie Waldo Daniels)</td>\n",
       "      <td>female</td>\n",
       "      <td>25.00</td>\n",
       "    </tr>\n",
       "    <tr>\n",
       "      <th>...</th>\n",
       "      <td>...</td>\n",
       "      <td>...</td>\n",
       "      <td>...</td>\n",
       "    </tr>\n",
       "    <tr>\n",
       "      <th>1304</th>\n",
       "      <td>Zabour, Miss. Hileni</td>\n",
       "      <td>female</td>\n",
       "      <td>14.50</td>\n",
       "    </tr>\n",
       "    <tr>\n",
       "      <th>1305</th>\n",
       "      <td>Zabour, Miss. Thamine</td>\n",
       "      <td>female</td>\n",
       "      <td>NaN</td>\n",
       "    </tr>\n",
       "    <tr>\n",
       "      <th>1306</th>\n",
       "      <td>Zakarian, Mr. Mapriededer</td>\n",
       "      <td>male</td>\n",
       "      <td>26.50</td>\n",
       "    </tr>\n",
       "    <tr>\n",
       "      <th>1307</th>\n",
       "      <td>Zakarian, Mr. Ortin</td>\n",
       "      <td>male</td>\n",
       "      <td>27.00</td>\n",
       "    </tr>\n",
       "    <tr>\n",
       "      <th>1308</th>\n",
       "      <td>Zimmerman, Mr. Leo</td>\n",
       "      <td>male</td>\n",
       "      <td>29.00</td>\n",
       "    </tr>\n",
       "  </tbody>\n",
       "</table>\n",
       "<p>1309 rows × 3 columns</p>\n",
       "</div>"
      ],
      "text/plain": [
       "                                                 name     sex    age\n",
       "0                       Allen, Miss. Elisabeth Walton  female  29.00\n",
       "1                      Allison, Master. Hudson Trevor    male   0.92\n",
       "2                        Allison, Miss. Helen Loraine  female   2.00\n",
       "3                Allison, Mr. Hudson Joshua Creighton    male  30.00\n",
       "4     Allison, Mrs. Hudson J C (Bessie Waldo Daniels)  female  25.00\n",
       "...                                               ...     ...    ...\n",
       "1304                             Zabour, Miss. Hileni  female  14.50\n",
       "1305                            Zabour, Miss. Thamine  female    NaN\n",
       "1306                        Zakarian, Mr. Mapriededer    male  26.50\n",
       "1307                              Zakarian, Mr. Ortin    male  27.00\n",
       "1308                               Zimmerman, Mr. Leo    male  29.00\n",
       "\n",
       "[1309 rows x 3 columns]"
      ]
     },
     "execution_count": 88,
     "metadata": {},
     "output_type": "execute_result"
    }
   ],
   "source": [
    "# [['...']] uso esa sintaxis para extraer varias columnas, lo que devuelve otro DataFrame.\n",
    "people = titanic[[\"name\",\"sex\", \"age\"]]\n",
    "people\n",
    "\n"
   ]
  },
  {
   "cell_type": "code",
   "execution_count": 89,
   "metadata": {},
   "outputs": [
    {
     "data": {
      "application/vnd.microsoft.datawrangler.viewer.v0+json": {
       "columns": [
        {
         "name": "index",
         "rawType": "int64",
         "type": "integer"
        },
        {
         "name": "name",
         "rawType": "object",
         "type": "string"
        },
        {
         "name": "sex",
         "rawType": "object",
         "type": "string"
        },
        {
         "name": "age",
         "rawType": "float64",
         "type": "float"
        }
       ],
       "conversionMethod": "pd.DataFrame",
       "ref": "8f4239aa-f935-4af4-900f-004da37953b1",
       "rows": [
        [
         "0",
         "Allen, Miss. Elisabeth Walton",
         "female",
         "29.0"
        ],
        [
         "1",
         "Allison, Master. Hudson Trevor",
         "male",
         "0.92"
        ],
        [
         "2",
         "Allison, Miss. Helen Loraine",
         "female",
         "2.0"
        ],
        [
         "3",
         "Allison, Mr. Hudson Joshua Creighton",
         "male",
         "30.0"
        ],
        [
         "4",
         "Allison, Mrs. Hudson J C (Bessie Waldo Daniels)",
         "female",
         "25.0"
        ],
        [
         "5",
         "Anderson, Mr. Harry",
         "male",
         "48.0"
        ],
        [
         "6",
         "Andrews, Miss. Kornelia Theodosia",
         "female",
         "63.0"
        ],
        [
         "7",
         "Andrews, Mr. Thomas Jr",
         "male",
         "39.0"
        ],
        [
         "8",
         "Appleton, Mrs. Edward Dale (Charlotte Lamson)",
         "female",
         "53.0"
        ],
        [
         "9",
         "Artagaveytia, Mr. Ramon",
         "male",
         "71.0"
        ],
        [
         "10",
         "Astor, Col. John Jacob",
         "male",
         "47.0"
        ],
        [
         "11",
         "Astor, Mrs. John Jacob (Madeleine Talmadge Force)",
         "female",
         "18.0"
        ],
        [
         "12",
         "Aubart, Mme. Leontine Pauline",
         "female",
         "24.0"
        ],
        [
         "13",
         "Barber, Miss. Ellen \"Nellie\"",
         "female",
         "26.0"
        ],
        [
         "14",
         "Barkworth, Mr. Algernon Henry Wilson",
         "male",
         "80.0"
        ],
        [
         "15",
         "Baumann, Mr. John D",
         "male",
         null
        ],
        [
         "16",
         "Baxter, Mr. Quigg Edmond",
         "male",
         "24.0"
        ],
        [
         "17",
         "Baxter, Mrs. James (Helene DeLaudeniere Chaput)",
         "female",
         "50.0"
        ],
        [
         "18",
         "Bazzani, Miss. Albina",
         "female",
         "32.0"
        ],
        [
         "19",
         "Beattie, Mr. Thomson",
         "male",
         "36.0"
        ],
        [
         "20",
         "Beckwith, Mr. Richard Leonard",
         "male",
         "37.0"
        ],
        [
         "21",
         "Beckwith, Mrs. Richard Leonard (Sallie Monypeny)",
         "female",
         "47.0"
        ],
        [
         "22",
         "Behr, Mr. Karl Howell",
         "male",
         "26.0"
        ],
        [
         "23",
         "Bidois, Miss. Rosalie",
         "female",
         "42.0"
        ],
        [
         "24",
         "Bird, Miss. Ellen",
         "female",
         "29.0"
        ],
        [
         "25",
         "Birnbaum, Mr. Jakob",
         "male",
         "25.0"
        ],
        [
         "26",
         "Bishop, Mr. Dickinson H",
         "male",
         "25.0"
        ],
        [
         "27",
         "Bishop, Mrs. Dickinson H (Helen Walton)",
         "female",
         "19.0"
        ],
        [
         "28",
         "Bissette, Miss. Amelia",
         "female",
         "35.0"
        ],
        [
         "29",
         "Bjornstrom-Steffansson, Mr. Mauritz Hakan",
         "male",
         "28.0"
        ],
        [
         "30",
         "Blackwell, Mr. Stephen Weart",
         "male",
         "45.0"
        ],
        [
         "31",
         "Blank, Mr. Henry",
         "male",
         "40.0"
        ],
        [
         "32",
         "Bonnell, Miss. Caroline",
         "female",
         "30.0"
        ],
        [
         "33",
         "Bonnell, Miss. Elizabeth",
         "female",
         "58.0"
        ],
        [
         "34",
         "Borebank, Mr. John James",
         "male",
         "42.0"
        ],
        [
         "35",
         "Bowen, Miss. Grace Scott",
         "female",
         "45.0"
        ],
        [
         "36",
         "Bowerman, Miss. Elsie Edith",
         "female",
         "22.0"
        ],
        [
         "37",
         "Bradley, Mr. George (\"George Arthur Brayton\")",
         "male",
         null
        ],
        [
         "38",
         "Brady, Mr. John Bertram",
         "male",
         "41.0"
        ],
        [
         "39",
         "Brandeis, Mr. Emil",
         "male",
         "48.0"
        ],
        [
         "40",
         "Brewe, Dr. Arthur Jackson",
         "male",
         null
        ],
        [
         "41",
         "Brown, Mrs. James Joseph (Margaret Tobin)",
         "female",
         "44.0"
        ],
        [
         "42",
         "Brown, Mrs. John Murray (Caroline Lane Lamson)",
         "female",
         "59.0"
        ],
        [
         "43",
         "Bucknell, Mrs. William Robert (Emma Eliza Ward)",
         "female",
         "60.0"
        ],
        [
         "44",
         "Burns, Miss. Elizabeth Margaret",
         "female",
         "41.0"
        ],
        [
         "45",
         "Butt, Major. Archibald Willingham",
         "male",
         "45.0"
        ],
        [
         "46",
         "Cairns, Mr. Alexander",
         "male",
         null
        ],
        [
         "47",
         "Calderhead, Mr. Edward Pennington",
         "male",
         "42.0"
        ],
        [
         "48",
         "Candee, Mrs. Edward (Helen Churchill Hungerford)",
         "female",
         "53.0"
        ],
        [
         "49",
         "Cardeza, Mr. Thomas Drake Martinez",
         "male",
         "36.0"
        ]
       ],
       "shape": {
        "columns": 3,
        "rows": 1309
       }
      },
      "text/html": [
       "<div>\n",
       "<style scoped>\n",
       "    .dataframe tbody tr th:only-of-type {\n",
       "        vertical-align: middle;\n",
       "    }\n",
       "\n",
       "    .dataframe tbody tr th {\n",
       "        vertical-align: top;\n",
       "    }\n",
       "\n",
       "    .dataframe thead th {\n",
       "        text-align: right;\n",
       "    }\n",
       "</style>\n",
       "<table border=\"1\" class=\"dataframe\">\n",
       "  <thead>\n",
       "    <tr style=\"text-align: right;\">\n",
       "      <th></th>\n",
       "      <th>name</th>\n",
       "      <th>sex</th>\n",
       "      <th>age</th>\n",
       "    </tr>\n",
       "  </thead>\n",
       "  <tbody>\n",
       "    <tr>\n",
       "      <th>0</th>\n",
       "      <td>Allen, Miss. Elisabeth Walton</td>\n",
       "      <td>female</td>\n",
       "      <td>29.00</td>\n",
       "    </tr>\n",
       "    <tr>\n",
       "      <th>1</th>\n",
       "      <td>Allison, Master. Hudson Trevor</td>\n",
       "      <td>male</td>\n",
       "      <td>0.92</td>\n",
       "    </tr>\n",
       "    <tr>\n",
       "      <th>2</th>\n",
       "      <td>Allison, Miss. Helen Loraine</td>\n",
       "      <td>female</td>\n",
       "      <td>2.00</td>\n",
       "    </tr>\n",
       "    <tr>\n",
       "      <th>3</th>\n",
       "      <td>Allison, Mr. Hudson Joshua Creighton</td>\n",
       "      <td>male</td>\n",
       "      <td>30.00</td>\n",
       "    </tr>\n",
       "    <tr>\n",
       "      <th>4</th>\n",
       "      <td>Allison, Mrs. Hudson J C (Bessie Waldo Daniels)</td>\n",
       "      <td>female</td>\n",
       "      <td>25.00</td>\n",
       "    </tr>\n",
       "    <tr>\n",
       "      <th>...</th>\n",
       "      <td>...</td>\n",
       "      <td>...</td>\n",
       "      <td>...</td>\n",
       "    </tr>\n",
       "    <tr>\n",
       "      <th>1304</th>\n",
       "      <td>Zabour, Miss. Hileni</td>\n",
       "      <td>female</td>\n",
       "      <td>14.50</td>\n",
       "    </tr>\n",
       "    <tr>\n",
       "      <th>1305</th>\n",
       "      <td>Zabour, Miss. Thamine</td>\n",
       "      <td>female</td>\n",
       "      <td>NaN</td>\n",
       "    </tr>\n",
       "    <tr>\n",
       "      <th>1306</th>\n",
       "      <td>Zakarian, Mr. Mapriededer</td>\n",
       "      <td>male</td>\n",
       "      <td>26.50</td>\n",
       "    </tr>\n",
       "    <tr>\n",
       "      <th>1307</th>\n",
       "      <td>Zakarian, Mr. Ortin</td>\n",
       "      <td>male</td>\n",
       "      <td>27.00</td>\n",
       "    </tr>\n",
       "    <tr>\n",
       "      <th>1308</th>\n",
       "      <td>Zimmerman, Mr. Leo</td>\n",
       "      <td>male</td>\n",
       "      <td>29.00</td>\n",
       "    </tr>\n",
       "  </tbody>\n",
       "</table>\n",
       "<p>1309 rows × 3 columns</p>\n",
       "</div>"
      ],
      "text/plain": [
       "                                                 name     sex    age\n",
       "0                       Allen, Miss. Elisabeth Walton  female  29.00\n",
       "1                      Allison, Master. Hudson Trevor    male   0.92\n",
       "2                        Allison, Miss. Helen Loraine  female   2.00\n",
       "3                Allison, Mr. Hudson Joshua Creighton    male  30.00\n",
       "4     Allison, Mrs. Hudson J C (Bessie Waldo Daniels)  female  25.00\n",
       "...                                               ...     ...    ...\n",
       "1304                             Zabour, Miss. Hileni  female  14.50\n",
       "1305                            Zabour, Miss. Thamine  female    NaN\n",
       "1306                        Zakarian, Mr. Mapriededer    male  26.50\n",
       "1307                              Zakarian, Mr. Ortin    male  27.00\n",
       "1308                               Zimmerman, Mr. Leo    male  29.00\n",
       "\n",
       "[1309 rows x 3 columns]"
      ]
     },
     "execution_count": 89,
     "metadata": {},
     "output_type": "execute_result"
    }
   ],
   "source": [
    "# Para la segunda forma usamos loc\n",
    "# : (dos puntos) en la parte de filas significa \"seleccionar todas las filas\".\n",
    "# [\"name\", \"sex\", \"age\"] en la parte de columnas significa \"seleccionar solo estas tres columnas\".\n",
    "people = titanic.loc[: , [\"name\",\"sex\",\"age\"]]\n",
    "people"
   ]
  },
  {
   "attachments": {},
   "cell_type": "markdown",
   "metadata": {},
   "source": [
    "3. Print the output of `people` showing the first three rows and the last four rows, using `append`,`tail` and `head`"
   ]
  },
  {
   "cell_type": "code",
   "execution_count": 90,
   "metadata": {},
   "outputs": [],
   "source": [
    "# Las 3 primeras filas\n",
    "first_three_rows = people.head(3)"
   ]
  },
  {
   "cell_type": "code",
   "execution_count": 91,
   "metadata": {},
   "outputs": [],
   "source": [
    "# Las 4 últimas columnas\n",
    "last_four_rows = people.tail(4)"
   ]
  },
  {
   "cell_type": "code",
   "execution_count": 92,
   "metadata": {},
   "outputs": [],
   "source": [
    "# append me da error porque ha sido eliminado en pandas v1.4.0 y versiones superiores\n",
    "\n",
    "# result = first_three_rows.append(last_four_rows)  \n",
    "# print(result)\n"
   ]
  },
  {
   "cell_type": "code",
   "execution_count": 93,
   "metadata": {},
   "outputs": [
    {
     "name": "stdout",
     "output_type": "stream",
     "text": [
      "                                name     sex    age\n",
      "0      Allen, Miss. Elisabeth Walton  female  29.00\n",
      "1     Allison, Master. Hudson Trevor    male   0.92\n",
      "2       Allison, Miss. Helen Loraine  female   2.00\n",
      "1305           Zabour, Miss. Thamine  female    NaN\n",
      "1306       Zakarian, Mr. Mapriededer    male  26.50\n",
      "1307             Zakarian, Mr. Ortin    male  27.00\n",
      "1308              Zimmerman, Mr. Leo    male  29.00\n"
     ]
    }
   ],
   "source": [
    "# usamos el método concat en lugar de append\n",
    "result = pd.concat([first_three_rows, last_four_rows])\n",
    "\n",
    "print(result)\n"
   ]
  },
  {
   "attachments": {},
   "cell_type": "markdown",
   "metadata": {},
   "source": [
    "4. Slice the row from 3 to 9, call it `s_titanic`"
   ]
  },
  {
   "cell_type": "code",
   "execution_count": 94,
   "metadata": {},
   "outputs": [
    {
     "data": {
      "application/vnd.microsoft.datawrangler.viewer.v0+json": {
       "columns": [
        {
         "name": "index",
         "rawType": "int64",
         "type": "integer"
        },
        {
         "name": "pclass",
         "rawType": "int64",
         "type": "integer"
        },
        {
         "name": "survived",
         "rawType": "int64",
         "type": "integer"
        },
        {
         "name": "name",
         "rawType": "object",
         "type": "string"
        },
        {
         "name": "sex",
         "rawType": "object",
         "type": "string"
        },
        {
         "name": "age",
         "rawType": "float64",
         "type": "float"
        },
        {
         "name": "sibsp",
         "rawType": "int64",
         "type": "integer"
        },
        {
         "name": "parch",
         "rawType": "int64",
         "type": "integer"
        },
        {
         "name": "ticket",
         "rawType": "object",
         "type": "string"
        },
        {
         "name": "fare",
         "rawType": "float64",
         "type": "float"
        },
        {
         "name": "cabin",
         "rawType": "object",
         "type": "unknown"
        },
        {
         "name": "embarked",
         "rawType": "object",
         "type": "string"
        },
        {
         "name": "boat",
         "rawType": "object",
         "type": "unknown"
        },
        {
         "name": "body",
         "rawType": "float64",
         "type": "float"
        },
        {
         "name": "home.dest",
         "rawType": "object",
         "type": "string"
        }
       ],
       "conversionMethod": "pd.DataFrame",
       "ref": "c9146489-b470-4621-bce0-041171310209",
       "rows": [
        [
         "3",
         "1",
         "0",
         "Allison, Mr. Hudson Joshua Creighton",
         "male",
         "30.0",
         "1",
         "2",
         "113781",
         "151.55",
         "C22 C26",
         "S",
         null,
         "135.0",
         "Montreal, PQ / Chesterville, ON"
        ],
        [
         "4",
         "1",
         "0",
         "Allison, Mrs. Hudson J C (Bessie Waldo Daniels)",
         "female",
         "25.0",
         "1",
         "2",
         "113781",
         "151.55",
         "C22 C26",
         "S",
         null,
         null,
         "Montreal, PQ / Chesterville, ON"
        ],
        [
         "5",
         "1",
         "1",
         "Anderson, Mr. Harry",
         "male",
         "48.0",
         "0",
         "0",
         "19952",
         "26.55",
         "E12",
         "S",
         "3",
         null,
         "New York, NY"
        ],
        [
         "6",
         "1",
         "1",
         "Andrews, Miss. Kornelia Theodosia",
         "female",
         "63.0",
         "1",
         "0",
         "13502",
         "77.9583",
         "D7",
         "S",
         "10",
         null,
         "Hudson, NY"
        ],
        [
         "7",
         "1",
         "0",
         "Andrews, Mr. Thomas Jr",
         "male",
         "39.0",
         "0",
         "0",
         "112050",
         "0.0",
         "A36",
         "S",
         null,
         null,
         "Belfast, NI"
        ],
        [
         "8",
         "1",
         "1",
         "Appleton, Mrs. Edward Dale (Charlotte Lamson)",
         "female",
         "53.0",
         "2",
         "0",
         "11769",
         "51.4792",
         "C101",
         "S",
         "D",
         null,
         "Bayside, Queens, NY"
        ],
        [
         "9",
         "1",
         "0",
         "Artagaveytia, Mr. Ramon",
         "male",
         "71.0",
         "0",
         "0",
         "PC 17609",
         "49.5042",
         null,
         "C",
         null,
         "22.0",
         "Montevideo, Uruguay"
        ]
       ],
       "shape": {
        "columns": 14,
        "rows": 7
       }
      },
      "text/html": [
       "<div>\n",
       "<style scoped>\n",
       "    .dataframe tbody tr th:only-of-type {\n",
       "        vertical-align: middle;\n",
       "    }\n",
       "\n",
       "    .dataframe tbody tr th {\n",
       "        vertical-align: top;\n",
       "    }\n",
       "\n",
       "    .dataframe thead th {\n",
       "        text-align: right;\n",
       "    }\n",
       "</style>\n",
       "<table border=\"1\" class=\"dataframe\">\n",
       "  <thead>\n",
       "    <tr style=\"text-align: right;\">\n",
       "      <th></th>\n",
       "      <th>pclass</th>\n",
       "      <th>survived</th>\n",
       "      <th>name</th>\n",
       "      <th>sex</th>\n",
       "      <th>age</th>\n",
       "      <th>sibsp</th>\n",
       "      <th>parch</th>\n",
       "      <th>ticket</th>\n",
       "      <th>fare</th>\n",
       "      <th>cabin</th>\n",
       "      <th>embarked</th>\n",
       "      <th>boat</th>\n",
       "      <th>body</th>\n",
       "      <th>home.dest</th>\n",
       "    </tr>\n",
       "  </thead>\n",
       "  <tbody>\n",
       "    <tr>\n",
       "      <th>3</th>\n",
       "      <td>1</td>\n",
       "      <td>0</td>\n",
       "      <td>Allison, Mr. Hudson Joshua Creighton</td>\n",
       "      <td>male</td>\n",
       "      <td>30.0</td>\n",
       "      <td>1</td>\n",
       "      <td>2</td>\n",
       "      <td>113781</td>\n",
       "      <td>151.5500</td>\n",
       "      <td>C22 C26</td>\n",
       "      <td>S</td>\n",
       "      <td>NaN</td>\n",
       "      <td>135.0</td>\n",
       "      <td>Montreal, PQ / Chesterville, ON</td>\n",
       "    </tr>\n",
       "    <tr>\n",
       "      <th>4</th>\n",
       "      <td>1</td>\n",
       "      <td>0</td>\n",
       "      <td>Allison, Mrs. Hudson J C (Bessie Waldo Daniels)</td>\n",
       "      <td>female</td>\n",
       "      <td>25.0</td>\n",
       "      <td>1</td>\n",
       "      <td>2</td>\n",
       "      <td>113781</td>\n",
       "      <td>151.5500</td>\n",
       "      <td>C22 C26</td>\n",
       "      <td>S</td>\n",
       "      <td>NaN</td>\n",
       "      <td>NaN</td>\n",
       "      <td>Montreal, PQ / Chesterville, ON</td>\n",
       "    </tr>\n",
       "    <tr>\n",
       "      <th>5</th>\n",
       "      <td>1</td>\n",
       "      <td>1</td>\n",
       "      <td>Anderson, Mr. Harry</td>\n",
       "      <td>male</td>\n",
       "      <td>48.0</td>\n",
       "      <td>0</td>\n",
       "      <td>0</td>\n",
       "      <td>19952</td>\n",
       "      <td>26.5500</td>\n",
       "      <td>E12</td>\n",
       "      <td>S</td>\n",
       "      <td>3</td>\n",
       "      <td>NaN</td>\n",
       "      <td>New York, NY</td>\n",
       "    </tr>\n",
       "    <tr>\n",
       "      <th>6</th>\n",
       "      <td>1</td>\n",
       "      <td>1</td>\n",
       "      <td>Andrews, Miss. Kornelia Theodosia</td>\n",
       "      <td>female</td>\n",
       "      <td>63.0</td>\n",
       "      <td>1</td>\n",
       "      <td>0</td>\n",
       "      <td>13502</td>\n",
       "      <td>77.9583</td>\n",
       "      <td>D7</td>\n",
       "      <td>S</td>\n",
       "      <td>10</td>\n",
       "      <td>NaN</td>\n",
       "      <td>Hudson, NY</td>\n",
       "    </tr>\n",
       "    <tr>\n",
       "      <th>7</th>\n",
       "      <td>1</td>\n",
       "      <td>0</td>\n",
       "      <td>Andrews, Mr. Thomas Jr</td>\n",
       "      <td>male</td>\n",
       "      <td>39.0</td>\n",
       "      <td>0</td>\n",
       "      <td>0</td>\n",
       "      <td>112050</td>\n",
       "      <td>0.0000</td>\n",
       "      <td>A36</td>\n",
       "      <td>S</td>\n",
       "      <td>NaN</td>\n",
       "      <td>NaN</td>\n",
       "      <td>Belfast, NI</td>\n",
       "    </tr>\n",
       "    <tr>\n",
       "      <th>8</th>\n",
       "      <td>1</td>\n",
       "      <td>1</td>\n",
       "      <td>Appleton, Mrs. Edward Dale (Charlotte Lamson)</td>\n",
       "      <td>female</td>\n",
       "      <td>53.0</td>\n",
       "      <td>2</td>\n",
       "      <td>0</td>\n",
       "      <td>11769</td>\n",
       "      <td>51.4792</td>\n",
       "      <td>C101</td>\n",
       "      <td>S</td>\n",
       "      <td>D</td>\n",
       "      <td>NaN</td>\n",
       "      <td>Bayside, Queens, NY</td>\n",
       "    </tr>\n",
       "    <tr>\n",
       "      <th>9</th>\n",
       "      <td>1</td>\n",
       "      <td>0</td>\n",
       "      <td>Artagaveytia, Mr. Ramon</td>\n",
       "      <td>male</td>\n",
       "      <td>71.0</td>\n",
       "      <td>0</td>\n",
       "      <td>0</td>\n",
       "      <td>PC 17609</td>\n",
       "      <td>49.5042</td>\n",
       "      <td>NaN</td>\n",
       "      <td>C</td>\n",
       "      <td>NaN</td>\n",
       "      <td>22.0</td>\n",
       "      <td>Montevideo, Uruguay</td>\n",
       "    </tr>\n",
       "  </tbody>\n",
       "</table>\n",
       "</div>"
      ],
      "text/plain": [
       "   pclass  survived                                             name     sex  \\\n",
       "3       1         0             Allison, Mr. Hudson Joshua Creighton    male   \n",
       "4       1         0  Allison, Mrs. Hudson J C (Bessie Waldo Daniels)  female   \n",
       "5       1         1                              Anderson, Mr. Harry    male   \n",
       "6       1         1                Andrews, Miss. Kornelia Theodosia  female   \n",
       "7       1         0                           Andrews, Mr. Thomas Jr    male   \n",
       "8       1         1    Appleton, Mrs. Edward Dale (Charlotte Lamson)  female   \n",
       "9       1         0                          Artagaveytia, Mr. Ramon    male   \n",
       "\n",
       "    age  sibsp  parch    ticket      fare    cabin embarked boat   body  \\\n",
       "3  30.0      1      2    113781  151.5500  C22 C26        S  NaN  135.0   \n",
       "4  25.0      1      2    113781  151.5500  C22 C26        S  NaN    NaN   \n",
       "5  48.0      0      0     19952   26.5500      E12        S    3    NaN   \n",
       "6  63.0      1      0     13502   77.9583       D7        S   10    NaN   \n",
       "7  39.0      0      0    112050    0.0000      A36        S  NaN    NaN   \n",
       "8  53.0      2      0     11769   51.4792     C101        S    D    NaN   \n",
       "9  71.0      0      0  PC 17609   49.5042      NaN        C  NaN   22.0   \n",
       "\n",
       "                         home.dest  \n",
       "3  Montreal, PQ / Chesterville, ON  \n",
       "4  Montreal, PQ / Chesterville, ON  \n",
       "5                     New York, NY  \n",
       "6                       Hudson, NY  \n",
       "7                      Belfast, NI  \n",
       "8              Bayside, Queens, NY  \n",
       "9              Montevideo, Uruguay  "
      ]
     },
     "execution_count": 94,
     "metadata": {},
     "output_type": "execute_result"
    }
   ],
   "source": [
    "# .iloc[] para selección por índice de posición\n",
    "# Empieza en la fila con índice 3 (incluida). Termina en la fila con índice 10 (excluida).\n",
    "\n",
    "s_titanic = titanic.iloc[3:10]\n",
    "s_titanic"
   ]
  },
  {
   "attachments": {},
   "cell_type": "markdown",
   "metadata": {},
   "source": [
    "5. Slice the row from 40 to 63 in reverse order, call it `s_titanic_rev`"
   ]
  },
  {
   "cell_type": "code",
   "execution_count": 95,
   "metadata": {},
   "outputs": [
    {
     "name": "stdout",
     "output_type": "stream",
     "text": [
      "    pclass  survived                                               name  \\\n",
      "63       1         1  Chaffee, Mrs. Herbert Fuller (Carrie Constance...   \n",
      "62       1         0                        Chaffee, Mr. Herbert Fuller   \n",
      "61       1         1  Cavendish, Mrs. Tyrell William (Julia Florence...   \n",
      "60       1         0                      Cavendish, Mr. Tyrell William   \n",
      "59       1         1  Cassebeer, Mrs. Henry Arthur Jr (Eleanor Genev...   \n",
      "58       1         0                             Case, Mr. Howard Brown   \n",
      "57       1         1          Carter, Mrs. William Ernest (Lucile Polk)   \n",
      "56       1         1                         Carter, Mr. William Ernest   \n",
      "55       1         1                          Carter, Miss. Lucile Polk   \n",
      "54       1         1                Carter, Master. William Thornton II   \n",
      "53       1         0                             Carrau, Mr. Jose Pedro   \n",
      "52       1         0                            Carrau, Mr. Francisco M   \n",
      "51       1         0                           Carlsson, Mr. Frans Olof   \n",
      "50       1         1  Cardeza, Mrs. James Warburton Martinez (Charlo...   \n",
      "49       1         1                 Cardeza, Mr. Thomas Drake Martinez   \n",
      "48       1         1   Candee, Mrs. Edward (Helen Churchill Hungerford)   \n",
      "47       1         1                  Calderhead, Mr. Edward Pennington   \n",
      "46       1         0                              Cairns, Mr. Alexander   \n",
      "45       1         0                  Butt, Major. Archibald Willingham   \n",
      "44       1         1                    Burns, Miss. Elizabeth Margaret   \n",
      "43       1         1    Bucknell, Mrs. William Robert (Emma Eliza Ward)   \n",
      "42       1         1     Brown, Mrs. John Murray (Caroline Lane Lamson)   \n",
      "41       1         1          Brown, Mrs. James Joseph (Margaret Tobin)   \n",
      "40       1         0                          Brewe, Dr. Arthur Jackson   \n",
      "\n",
      "       sex   age  sibsp  parch       ticket      fare        cabin embarked  \\\n",
      "63  female  47.0      1      0  W.E.P. 5734   61.1750          E31        S   \n",
      "62    male  46.0      1      0  W.E.P. 5734   61.1750          E31        S   \n",
      "61  female  76.0      1      0        19877   78.8500          C46        S   \n",
      "60    male  36.0      1      0        19877   78.8500          C46        S   \n",
      "59  female   NaN      0      0        17770   27.7208          NaN        C   \n",
      "58    male  49.0      0      0        19924   26.0000          NaN        S   \n",
      "57  female  36.0      1      2       113760  120.0000      B96 B98        S   \n",
      "56    male  36.0      1      2       113760  120.0000      B96 B98        S   \n",
      "55  female  14.0      1      2       113760  120.0000      B96 B98        S   \n",
      "54    male  11.0      1      2       113760  120.0000      B96 B98        S   \n",
      "53    male  17.0      0      0       113059   47.1000          NaN        S   \n",
      "52    male  28.0      0      0       113059   47.1000          NaN        S   \n",
      "51    male  33.0      0      0          695    5.0000  B51 B53 B55        S   \n",
      "50  female  58.0      0      1     PC 17755  512.3292  B51 B53 B55        C   \n",
      "49    male  36.0      0      1     PC 17755  512.3292  B51 B53 B55        C   \n",
      "48  female  53.0      0      0     PC 17606   27.4458          NaN        C   \n",
      "47    male  42.0      0      0     PC 17476   26.2875          E24        S   \n",
      "46    male   NaN      0      0       113798   31.0000          NaN        S   \n",
      "45    male  45.0      0      0       113050   26.5500          B38        S   \n",
      "44  female  41.0      0      0        16966  134.5000          E40        C   \n",
      "43  female  60.0      0      0        11813   76.2917          D15        C   \n",
      "42  female  59.0      2      0        11769   51.4792         C101        S   \n",
      "41  female  44.0      0      0     PC 17610   27.7208           B4        C   \n",
      "40    male   NaN      0      0       112379   39.6000          NaN        C   \n",
      "\n",
      "   boat   body                                       home.dest  \n",
      "63    4    NaN                                      Amenia, ND  \n",
      "62  NaN    NaN                                      Amenia, ND  \n",
      "61    6    NaN                         Little Onn Hall, Staffs  \n",
      "60  NaN  172.0                         Little Onn Hall, Staffs  \n",
      "59    5    NaN                                    New York, NY  \n",
      "58  NaN    NaN                Ascot, Berkshire / Rochester, NY  \n",
      "57    4    NaN                                   Bryn Mawr, PA  \n",
      "56    C    NaN                                   Bryn Mawr, PA  \n",
      "55    4    NaN                                   Bryn Mawr, PA  \n",
      "54    4    NaN                                   Bryn Mawr, PA  \n",
      "53  NaN    NaN                             Montevideo, Uruguay  \n",
      "52  NaN    NaN                             Montevideo, Uruguay  \n",
      "51  NaN    NaN                                    New York, NY  \n",
      "50    3    NaN                    Germantown, Philadelphia, PA  \n",
      "49    3    NaN  Austria-Hungary / Germantown, Philadelphia, PA  \n",
      "48    6    NaN                                  Washington, DC  \n",
      "47    5    NaN                                    New York, NY  \n",
      "46  NaN    NaN                                             NaN  \n",
      "45  NaN    NaN                                  Washington, DC  \n",
      "44    3    NaN                                             NaN  \n",
      "43    8    NaN                                Philadelphia, PA  \n",
      "42    D    NaN                                     Belmont, MA  \n",
      "41    6    NaN                                      Denver, CO  \n",
      "40  NaN    NaN                                Philadelphia, PA  \n"
     ]
    }
   ],
   "source": [
    "#  Inicia en la fila 63 (incluida). Termina en la fila 39 (pero excluye la fila 39).Se mueve en orden inverso (va restando 1 en cada paso).\n",
    "s_titanic_rev = titanic.iloc[63:39:-1]  \n",
    "print(s_titanic_rev)"
   ]
  },
  {
   "attachments": {},
   "cell_type": "markdown",
   "metadata": {},
   "source": [
    "6. Slice the columns from the starting column to `'parch'`, call it `left_columns`"
   ]
  },
  {
   "cell_type": "code",
   "execution_count": 96,
   "metadata": {},
   "outputs": [
    {
     "data": {
      "application/vnd.microsoft.datawrangler.viewer.v0+json": {
       "columns": [
        {
         "name": "index",
         "rawType": "int64",
         "type": "integer"
        },
        {
         "name": "pclass",
         "rawType": "int64",
         "type": "integer"
        },
        {
         "name": "survived",
         "rawType": "int64",
         "type": "integer"
        },
        {
         "name": "name",
         "rawType": "object",
         "type": "string"
        },
        {
         "name": "sex",
         "rawType": "object",
         "type": "string"
        },
        {
         "name": "age",
         "rawType": "float64",
         "type": "float"
        },
        {
         "name": "sibsp",
         "rawType": "int64",
         "type": "integer"
        },
        {
         "name": "parch",
         "rawType": "int64",
         "type": "integer"
        }
       ],
       "conversionMethod": "pd.DataFrame",
       "ref": "d14f3287-0e84-44c9-9acd-63eae475a79b",
       "rows": [
        [
         "0",
         "1",
         "1",
         "Allen, Miss. Elisabeth Walton",
         "female",
         "29.0",
         "0",
         "0"
        ],
        [
         "1",
         "1",
         "1",
         "Allison, Master. Hudson Trevor",
         "male",
         "0.92",
         "1",
         "2"
        ],
        [
         "2",
         "1",
         "0",
         "Allison, Miss. Helen Loraine",
         "female",
         "2.0",
         "1",
         "2"
        ],
        [
         "3",
         "1",
         "0",
         "Allison, Mr. Hudson Joshua Creighton",
         "male",
         "30.0",
         "1",
         "2"
        ],
        [
         "4",
         "1",
         "0",
         "Allison, Mrs. Hudson J C (Bessie Waldo Daniels)",
         "female",
         "25.0",
         "1",
         "2"
        ],
        [
         "5",
         "1",
         "1",
         "Anderson, Mr. Harry",
         "male",
         "48.0",
         "0",
         "0"
        ],
        [
         "6",
         "1",
         "1",
         "Andrews, Miss. Kornelia Theodosia",
         "female",
         "63.0",
         "1",
         "0"
        ],
        [
         "7",
         "1",
         "0",
         "Andrews, Mr. Thomas Jr",
         "male",
         "39.0",
         "0",
         "0"
        ],
        [
         "8",
         "1",
         "1",
         "Appleton, Mrs. Edward Dale (Charlotte Lamson)",
         "female",
         "53.0",
         "2",
         "0"
        ],
        [
         "9",
         "1",
         "0",
         "Artagaveytia, Mr. Ramon",
         "male",
         "71.0",
         "0",
         "0"
        ],
        [
         "10",
         "1",
         "0",
         "Astor, Col. John Jacob",
         "male",
         "47.0",
         "1",
         "0"
        ],
        [
         "11",
         "1",
         "1",
         "Astor, Mrs. John Jacob (Madeleine Talmadge Force)",
         "female",
         "18.0",
         "1",
         "0"
        ],
        [
         "12",
         "1",
         "1",
         "Aubart, Mme. Leontine Pauline",
         "female",
         "24.0",
         "0",
         "0"
        ],
        [
         "13",
         "1",
         "1",
         "Barber, Miss. Ellen \"Nellie\"",
         "female",
         "26.0",
         "0",
         "0"
        ],
        [
         "14",
         "1",
         "1",
         "Barkworth, Mr. Algernon Henry Wilson",
         "male",
         "80.0",
         "0",
         "0"
        ],
        [
         "15",
         "1",
         "0",
         "Baumann, Mr. John D",
         "male",
         null,
         "0",
         "0"
        ],
        [
         "16",
         "1",
         "0",
         "Baxter, Mr. Quigg Edmond",
         "male",
         "24.0",
         "0",
         "1"
        ],
        [
         "17",
         "1",
         "1",
         "Baxter, Mrs. James (Helene DeLaudeniere Chaput)",
         "female",
         "50.0",
         "0",
         "1"
        ],
        [
         "18",
         "1",
         "1",
         "Bazzani, Miss. Albina",
         "female",
         "32.0",
         "0",
         "0"
        ],
        [
         "19",
         "1",
         "0",
         "Beattie, Mr. Thomson",
         "male",
         "36.0",
         "0",
         "0"
        ],
        [
         "20",
         "1",
         "1",
         "Beckwith, Mr. Richard Leonard",
         "male",
         "37.0",
         "1",
         "1"
        ],
        [
         "21",
         "1",
         "1",
         "Beckwith, Mrs. Richard Leonard (Sallie Monypeny)",
         "female",
         "47.0",
         "1",
         "1"
        ],
        [
         "22",
         "1",
         "1",
         "Behr, Mr. Karl Howell",
         "male",
         "26.0",
         "0",
         "0"
        ],
        [
         "23",
         "1",
         "1",
         "Bidois, Miss. Rosalie",
         "female",
         "42.0",
         "0",
         "0"
        ],
        [
         "24",
         "1",
         "1",
         "Bird, Miss. Ellen",
         "female",
         "29.0",
         "0",
         "0"
        ],
        [
         "25",
         "1",
         "0",
         "Birnbaum, Mr. Jakob",
         "male",
         "25.0",
         "0",
         "0"
        ],
        [
         "26",
         "1",
         "1",
         "Bishop, Mr. Dickinson H",
         "male",
         "25.0",
         "1",
         "0"
        ],
        [
         "27",
         "1",
         "1",
         "Bishop, Mrs. Dickinson H (Helen Walton)",
         "female",
         "19.0",
         "1",
         "0"
        ],
        [
         "28",
         "1",
         "1",
         "Bissette, Miss. Amelia",
         "female",
         "35.0",
         "0",
         "0"
        ],
        [
         "29",
         "1",
         "1",
         "Bjornstrom-Steffansson, Mr. Mauritz Hakan",
         "male",
         "28.0",
         "0",
         "0"
        ],
        [
         "30",
         "1",
         "0",
         "Blackwell, Mr. Stephen Weart",
         "male",
         "45.0",
         "0",
         "0"
        ],
        [
         "31",
         "1",
         "1",
         "Blank, Mr. Henry",
         "male",
         "40.0",
         "0",
         "0"
        ],
        [
         "32",
         "1",
         "1",
         "Bonnell, Miss. Caroline",
         "female",
         "30.0",
         "0",
         "0"
        ],
        [
         "33",
         "1",
         "1",
         "Bonnell, Miss. Elizabeth",
         "female",
         "58.0",
         "0",
         "0"
        ],
        [
         "34",
         "1",
         "0",
         "Borebank, Mr. John James",
         "male",
         "42.0",
         "0",
         "0"
        ],
        [
         "35",
         "1",
         "1",
         "Bowen, Miss. Grace Scott",
         "female",
         "45.0",
         "0",
         "0"
        ],
        [
         "36",
         "1",
         "1",
         "Bowerman, Miss. Elsie Edith",
         "female",
         "22.0",
         "0",
         "1"
        ],
        [
         "37",
         "1",
         "1",
         "Bradley, Mr. George (\"George Arthur Brayton\")",
         "male",
         null,
         "0",
         "0"
        ],
        [
         "38",
         "1",
         "0",
         "Brady, Mr. John Bertram",
         "male",
         "41.0",
         "0",
         "0"
        ],
        [
         "39",
         "1",
         "0",
         "Brandeis, Mr. Emil",
         "male",
         "48.0",
         "0",
         "0"
        ],
        [
         "40",
         "1",
         "0",
         "Brewe, Dr. Arthur Jackson",
         "male",
         null,
         "0",
         "0"
        ],
        [
         "41",
         "1",
         "1",
         "Brown, Mrs. James Joseph (Margaret Tobin)",
         "female",
         "44.0",
         "0",
         "0"
        ],
        [
         "42",
         "1",
         "1",
         "Brown, Mrs. John Murray (Caroline Lane Lamson)",
         "female",
         "59.0",
         "2",
         "0"
        ],
        [
         "43",
         "1",
         "1",
         "Bucknell, Mrs. William Robert (Emma Eliza Ward)",
         "female",
         "60.0",
         "0",
         "0"
        ],
        [
         "44",
         "1",
         "1",
         "Burns, Miss. Elizabeth Margaret",
         "female",
         "41.0",
         "0",
         "0"
        ],
        [
         "45",
         "1",
         "0",
         "Butt, Major. Archibald Willingham",
         "male",
         "45.0",
         "0",
         "0"
        ],
        [
         "46",
         "1",
         "0",
         "Cairns, Mr. Alexander",
         "male",
         null,
         "0",
         "0"
        ],
        [
         "47",
         "1",
         "1",
         "Calderhead, Mr. Edward Pennington",
         "male",
         "42.0",
         "0",
         "0"
        ],
        [
         "48",
         "1",
         "1",
         "Candee, Mrs. Edward (Helen Churchill Hungerford)",
         "female",
         "53.0",
         "0",
         "0"
        ],
        [
         "49",
         "1",
         "1",
         "Cardeza, Mr. Thomas Drake Martinez",
         "male",
         "36.0",
         "0",
         "1"
        ]
       ],
       "shape": {
        "columns": 7,
        "rows": 1309
       }
      },
      "text/html": [
       "<div>\n",
       "<style scoped>\n",
       "    .dataframe tbody tr th:only-of-type {\n",
       "        vertical-align: middle;\n",
       "    }\n",
       "\n",
       "    .dataframe tbody tr th {\n",
       "        vertical-align: top;\n",
       "    }\n",
       "\n",
       "    .dataframe thead th {\n",
       "        text-align: right;\n",
       "    }\n",
       "</style>\n",
       "<table border=\"1\" class=\"dataframe\">\n",
       "  <thead>\n",
       "    <tr style=\"text-align: right;\">\n",
       "      <th></th>\n",
       "      <th>pclass</th>\n",
       "      <th>survived</th>\n",
       "      <th>name</th>\n",
       "      <th>sex</th>\n",
       "      <th>age</th>\n",
       "      <th>sibsp</th>\n",
       "      <th>parch</th>\n",
       "    </tr>\n",
       "  </thead>\n",
       "  <tbody>\n",
       "    <tr>\n",
       "      <th>0</th>\n",
       "      <td>1</td>\n",
       "      <td>1</td>\n",
       "      <td>Allen, Miss. Elisabeth Walton</td>\n",
       "      <td>female</td>\n",
       "      <td>29.00</td>\n",
       "      <td>0</td>\n",
       "      <td>0</td>\n",
       "    </tr>\n",
       "    <tr>\n",
       "      <th>1</th>\n",
       "      <td>1</td>\n",
       "      <td>1</td>\n",
       "      <td>Allison, Master. Hudson Trevor</td>\n",
       "      <td>male</td>\n",
       "      <td>0.92</td>\n",
       "      <td>1</td>\n",
       "      <td>2</td>\n",
       "    </tr>\n",
       "    <tr>\n",
       "      <th>2</th>\n",
       "      <td>1</td>\n",
       "      <td>0</td>\n",
       "      <td>Allison, Miss. Helen Loraine</td>\n",
       "      <td>female</td>\n",
       "      <td>2.00</td>\n",
       "      <td>1</td>\n",
       "      <td>2</td>\n",
       "    </tr>\n",
       "    <tr>\n",
       "      <th>3</th>\n",
       "      <td>1</td>\n",
       "      <td>0</td>\n",
       "      <td>Allison, Mr. Hudson Joshua Creighton</td>\n",
       "      <td>male</td>\n",
       "      <td>30.00</td>\n",
       "      <td>1</td>\n",
       "      <td>2</td>\n",
       "    </tr>\n",
       "    <tr>\n",
       "      <th>4</th>\n",
       "      <td>1</td>\n",
       "      <td>0</td>\n",
       "      <td>Allison, Mrs. Hudson J C (Bessie Waldo Daniels)</td>\n",
       "      <td>female</td>\n",
       "      <td>25.00</td>\n",
       "      <td>1</td>\n",
       "      <td>2</td>\n",
       "    </tr>\n",
       "    <tr>\n",
       "      <th>...</th>\n",
       "      <td>...</td>\n",
       "      <td>...</td>\n",
       "      <td>...</td>\n",
       "      <td>...</td>\n",
       "      <td>...</td>\n",
       "      <td>...</td>\n",
       "      <td>...</td>\n",
       "    </tr>\n",
       "    <tr>\n",
       "      <th>1304</th>\n",
       "      <td>3</td>\n",
       "      <td>0</td>\n",
       "      <td>Zabour, Miss. Hileni</td>\n",
       "      <td>female</td>\n",
       "      <td>14.50</td>\n",
       "      <td>1</td>\n",
       "      <td>0</td>\n",
       "    </tr>\n",
       "    <tr>\n",
       "      <th>1305</th>\n",
       "      <td>3</td>\n",
       "      <td>0</td>\n",
       "      <td>Zabour, Miss. Thamine</td>\n",
       "      <td>female</td>\n",
       "      <td>NaN</td>\n",
       "      <td>1</td>\n",
       "      <td>0</td>\n",
       "    </tr>\n",
       "    <tr>\n",
       "      <th>1306</th>\n",
       "      <td>3</td>\n",
       "      <td>0</td>\n",
       "      <td>Zakarian, Mr. Mapriededer</td>\n",
       "      <td>male</td>\n",
       "      <td>26.50</td>\n",
       "      <td>0</td>\n",
       "      <td>0</td>\n",
       "    </tr>\n",
       "    <tr>\n",
       "      <th>1307</th>\n",
       "      <td>3</td>\n",
       "      <td>0</td>\n",
       "      <td>Zakarian, Mr. Ortin</td>\n",
       "      <td>male</td>\n",
       "      <td>27.00</td>\n",
       "      <td>0</td>\n",
       "      <td>0</td>\n",
       "    </tr>\n",
       "    <tr>\n",
       "      <th>1308</th>\n",
       "      <td>3</td>\n",
       "      <td>0</td>\n",
       "      <td>Zimmerman, Mr. Leo</td>\n",
       "      <td>male</td>\n",
       "      <td>29.00</td>\n",
       "      <td>0</td>\n",
       "      <td>0</td>\n",
       "    </tr>\n",
       "  </tbody>\n",
       "</table>\n",
       "<p>1309 rows × 7 columns</p>\n",
       "</div>"
      ],
      "text/plain": [
       "      pclass  survived                                             name  \\\n",
       "0          1         1                    Allen, Miss. Elisabeth Walton   \n",
       "1          1         1                   Allison, Master. Hudson Trevor   \n",
       "2          1         0                     Allison, Miss. Helen Loraine   \n",
       "3          1         0             Allison, Mr. Hudson Joshua Creighton   \n",
       "4          1         0  Allison, Mrs. Hudson J C (Bessie Waldo Daniels)   \n",
       "...      ...       ...                                              ...   \n",
       "1304       3         0                             Zabour, Miss. Hileni   \n",
       "1305       3         0                            Zabour, Miss. Thamine   \n",
       "1306       3         0                        Zakarian, Mr. Mapriededer   \n",
       "1307       3         0                              Zakarian, Mr. Ortin   \n",
       "1308       3         0                               Zimmerman, Mr. Leo   \n",
       "\n",
       "         sex    age  sibsp  parch  \n",
       "0     female  29.00      0      0  \n",
       "1       male   0.92      1      2  \n",
       "2     female   2.00      1      2  \n",
       "3       male  30.00      1      2  \n",
       "4     female  25.00      1      2  \n",
       "...      ...    ...    ...    ...  \n",
       "1304  female  14.50      1      0  \n",
       "1305  female    NaN      1      0  \n",
       "1306    male  26.50      0      0  \n",
       "1307    male  27.00      0      0  \n",
       "1308    male  29.00      0      0  \n",
       "\n",
       "[1309 rows x 7 columns]"
      ]
     },
     "execution_count": 96,
     "metadata": {},
     "output_type": "execute_result"
    }
   ],
   "source": [
    "# titanic.loc[: , :\"parch\"] seleccionamos todas las filas (:), pero solo las columnas desde el inicio hasta la columna 'parch'.\n",
    "\n",
    "\n",
    "left_columns = titanic.loc[: , :\"parch\"]\n",
    "left_columns"
   ]
  },
  {
   "attachments": {},
   "cell_type": "markdown",
   "metadata": {},
   "source": [
    "7. Slice the columns from `'name'` to `'age'`, call it `middle_columns`"
   ]
  },
  {
   "cell_type": "code",
   "execution_count": 97,
   "metadata": {},
   "outputs": [
    {
     "name": "stdout",
     "output_type": "stream",
     "text": [
      "                                                 name     sex    age\n",
      "0                       Allen, Miss. Elisabeth Walton  female  29.00\n",
      "1                      Allison, Master. Hudson Trevor    male   0.92\n",
      "2                        Allison, Miss. Helen Loraine  female   2.00\n",
      "3                Allison, Mr. Hudson Joshua Creighton    male  30.00\n",
      "4     Allison, Mrs. Hudson J C (Bessie Waldo Daniels)  female  25.00\n",
      "...                                               ...     ...    ...\n",
      "1304                             Zabour, Miss. Hileni  female  14.50\n",
      "1305                            Zabour, Miss. Thamine  female    NaN\n",
      "1306                        Zakarian, Mr. Mapriededer    male  26.50\n",
      "1307                              Zakarian, Mr. Ortin    male  27.00\n",
      "1308                               Zimmerman, Mr. Leo    male  29.00\n",
      "\n",
      "[1309 rows x 3 columns]\n"
     ]
    }
   ],
   "source": [
    "middle_columns = titanic.loc[:, 'name':'age']\n",
    "print(middle_columns)"
   ]
  },
  {
   "attachments": {},
   "cell_type": "markdown",
   "metadata": {},
   "source": [
    "8. Slice the columns from `'ticket'` to the end, call it `right_columns`"
   ]
  },
  {
   "cell_type": "code",
   "execution_count": 98,
   "metadata": {},
   "outputs": [
    {
     "name": "stdout",
     "output_type": "stream",
     "text": [
      "      ticket      fare    cabin embarked boat   body  \\\n",
      "0      24160  211.3375       B5        S    2    NaN   \n",
      "1     113781  151.5500  C22 C26        S   11    NaN   \n",
      "2     113781  151.5500  C22 C26        S  NaN    NaN   \n",
      "3     113781  151.5500  C22 C26        S  NaN  135.0   \n",
      "4     113781  151.5500  C22 C26        S  NaN    NaN   \n",
      "...      ...       ...      ...      ...  ...    ...   \n",
      "1304    2665   14.4542      NaN        C  NaN  328.0   \n",
      "1305    2665   14.4542      NaN        C  NaN    NaN   \n",
      "1306    2656    7.2250      NaN        C  NaN  304.0   \n",
      "1307    2670    7.2250      NaN        C  NaN    NaN   \n",
      "1308  315082    7.8750      NaN        S  NaN    NaN   \n",
      "\n",
      "                            home.dest  \n",
      "0                        St Louis, MO  \n",
      "1     Montreal, PQ / Chesterville, ON  \n",
      "2     Montreal, PQ / Chesterville, ON  \n",
      "3     Montreal, PQ / Chesterville, ON  \n",
      "4     Montreal, PQ / Chesterville, ON  \n",
      "...                               ...  \n",
      "1304                              NaN  \n",
      "1305                              NaN  \n",
      "1306                              NaN  \n",
      "1307                              NaN  \n",
      "1308                              NaN  \n",
      "\n",
      "[1309 rows x 7 columns]\n"
     ]
    }
   ],
   "source": [
    "# .loc[:, 'ticket':] selecciona todas las filas (:) pero solo las columnas desde 'ticket' hasta el final\n",
    "right_columns = titanic.loc[:, 'ticket':]\n",
    "print(right_columns)\n"
   ]
  },
  {
   "attachments": {},
   "cell_type": "markdown",
   "metadata": {},
   "source": [
    "9. What is the name of the oldest person who died in the Titanic? Was he or she travelling alone or had any family travelling with them?  \n",
    "\n"
   ]
  },
  {
   "cell_type": "code",
   "execution_count": 99,
   "metadata": {},
   "outputs": [
    {
     "name": "stdout",
     "output_type": "stream",
     "text": [
      "La persona más vieja que murió en el Titanic es Svensson, Mr. Johan. Viajaba solo.\n",
      "74.0\n"
     ]
    }
   ],
   "source": [
    "# Hacemos un filtro y buscamos los pasajeros que que no sobrevivieron.\n",
    "# Condición booleana, va a devolver True solo para las filas donde el valor en la columna survived sea 0\n",
    "# (lo que significa que la persona falleció).\n",
    "pasajeros_fallecidos = titanic[titanic['survived'] == 0]\n",
    "\n",
    "# Buscamos al pasajero más viejo entre los que no sobrevivieron. USamos loc, filtramos por la columna age\n",
    "# y con el método idxmax tendremos el índice (posición) de la fila con el valor máximo de la columna.\n",
    "pasajero_mayor_edad = pasajeros_fallecidos.loc[pasajeros_fallecidos['age'].idxmax()]\n",
    "\n",
    "# Nombre del pasajero más viejo y si viajaba solo o con familia\n",
    "nombre = pasajero_mayor_edad['name']\n",
    "sibsp = pasajero_mayor_edad['sibsp']\n",
    "parch = pasajero_mayor_edad['parch']\n",
    "# cojo la edad solo por propia consulta\n",
    "edad = pasajero_mayor_edad['age']\n",
    "# hacemos una condición para saber si viajaba solo o con familia\n",
    "if sibsp > 0 or parch > 0:\n",
    "    familia = 'con familia'\n",
    "else:\n",
    "    familia = 'solo'\n",
    "\n",
    "print(f\"La persona más vieja que murió en el Titanic es {nombre}. Viajaba {familia}.\")\n",
    "\n",
    "print(edad)\n"
   ]
  },
  {
   "attachments": {},
   "cell_type": "markdown",
   "metadata": {},
   "source": [
    "In order to give an answer to the second question you should find out which columns give you that info. Usually part of your job as a Data Scientist will be get to know the dataset which you are working with. In this case the columns which give you that info are the following: \n",
    "        - 'sibsp' Number of Siblings/Spouses Aboard\n",
    "        - 'parch' Number of Parents/Children Aboard"
   ]
  },
  {
   "attachments": {},
   "cell_type": "markdown",
   "metadata": {},
   "source": [
    "10. Create the list of 5 random numbers of rows from 0 to the lenght of the dataframe, call it `rows`\n",
    "\n",
    "ex. `rows = [3,7,99,52,48]` use `random` library\n",
    "\n"
   ]
  },
  {
   "cell_type": "code",
   "execution_count": 100,
   "metadata": {},
   "outputs": [
    {
     "name": "stdout",
     "output_type": "stream",
     "text": [
      "[871, 1012, 691, 310, 1044]\n"
     ]
    }
   ],
   "source": [
    "# Con random, cojo una muestra de 5 dentro del rango especificado por la longitud del DataSet\n",
    "rows = random.sample(range(len(titanic)), 5)\n",
    "\n",
    "print(rows)\n",
    "\n"
   ]
  },
  {
   "attachments": {},
   "cell_type": "markdown",
   "metadata": {},
   "source": [
    "This list of numbers are random, could be different.\n"
   ]
  },
  {
   "attachments": {},
   "cell_type": "markdown",
   "metadata": {},
   "source": [
    "11. Create the list of three column labels, call it `cols`\n"
   ]
  },
  {
   "cell_type": "code",
   "execution_count": 101,
   "metadata": {},
   "outputs": [],
   "source": [
    "cols = [\"name\", \"age\", \"sex\"]"
   ]
  },
  {
   "attachments": {},
   "cell_type": "markdown",
   "metadata": {},
   "source": [
    "12. Use both lists `rows` and `cols` to create a new dataframe"
   ]
  },
  {
   "cell_type": "code",
   "execution_count": 102,
   "metadata": {},
   "outputs": [
    {
     "data": {
      "application/vnd.microsoft.datawrangler.viewer.v0+json": {
       "columns": [
        {
         "name": "index",
         "rawType": "int64",
         "type": "integer"
        },
        {
         "name": "name",
         "rawType": "object",
         "type": "string"
        },
        {
         "name": "age",
         "rawType": "float64",
         "type": "float"
        },
        {
         "name": "sex",
         "rawType": "object",
         "type": "string"
        }
       ],
       "conversionMethod": "pd.DataFrame",
       "ref": "b620f128-29e4-47a9-8797-4f6122eb9488",
       "rows": [
        [
         "871",
         "Horgan, Mr. John",
         null,
         "male"
        ],
        [
         "1012",
         "McNeill, Miss. Bridget",
         null,
         "female"
        ],
        [
         "691",
         "Brocklebank, Mr. William Alfred",
         "35.0",
         "male"
        ],
        [
         "310",
         "Wick, Mr. George Dennick",
         "57.0",
         "male"
        ],
        [
         "1044",
         "Murphy, Miss. Nora",
         null,
         "female"
        ]
       ],
       "shape": {
        "columns": 3,
        "rows": 5
       }
      },
      "text/html": [
       "<div>\n",
       "<style scoped>\n",
       "    .dataframe tbody tr th:only-of-type {\n",
       "        vertical-align: middle;\n",
       "    }\n",
       "\n",
       "    .dataframe tbody tr th {\n",
       "        vertical-align: top;\n",
       "    }\n",
       "\n",
       "    .dataframe thead th {\n",
       "        text-align: right;\n",
       "    }\n",
       "</style>\n",
       "<table border=\"1\" class=\"dataframe\">\n",
       "  <thead>\n",
       "    <tr style=\"text-align: right;\">\n",
       "      <th></th>\n",
       "      <th>name</th>\n",
       "      <th>age</th>\n",
       "      <th>sex</th>\n",
       "    </tr>\n",
       "  </thead>\n",
       "  <tbody>\n",
       "    <tr>\n",
       "      <th>871</th>\n",
       "      <td>Horgan, Mr. John</td>\n",
       "      <td>NaN</td>\n",
       "      <td>male</td>\n",
       "    </tr>\n",
       "    <tr>\n",
       "      <th>1012</th>\n",
       "      <td>McNeill, Miss. Bridget</td>\n",
       "      <td>NaN</td>\n",
       "      <td>female</td>\n",
       "    </tr>\n",
       "    <tr>\n",
       "      <th>691</th>\n",
       "      <td>Brocklebank, Mr. William Alfred</td>\n",
       "      <td>35.0</td>\n",
       "      <td>male</td>\n",
       "    </tr>\n",
       "    <tr>\n",
       "      <th>310</th>\n",
       "      <td>Wick, Mr. George Dennick</td>\n",
       "      <td>57.0</td>\n",
       "      <td>male</td>\n",
       "    </tr>\n",
       "    <tr>\n",
       "      <th>1044</th>\n",
       "      <td>Murphy, Miss. Nora</td>\n",
       "      <td>NaN</td>\n",
       "      <td>female</td>\n",
       "    </tr>\n",
       "  </tbody>\n",
       "</table>\n",
       "</div>"
      ],
      "text/plain": [
       "                                 name   age     sex\n",
       "871                  Horgan, Mr. John   NaN    male\n",
       "1012           McNeill, Miss. Bridget   NaN  female\n",
       "691   Brocklebank, Mr. William Alfred  35.0    male\n",
       "310          Wick, Mr. George Dennick  57.0    male\n",
       "1044               Murphy, Miss. Nora   NaN  female"
      ]
     },
     "execution_count": 102,
     "metadata": {},
     "output_type": "execute_result"
    }
   ],
   "source": [
    "new_dataframe = titanic.loc[rows, cols]\n",
    "new_dataframe"
   ]
  },
  {
   "attachments": {},
   "cell_type": "markdown",
   "metadata": {},
   "source": [
    "13. Create a boolean array with the condition of being a woman or a man, using the `sex` column, where **female** is True. Call it `array_fe`"
   ]
  },
  {
   "cell_type": "code",
   "execution_count": 103,
   "metadata": {},
   "outputs": [
    {
     "name": "stdout",
     "output_type": "stream",
     "text": [
      "0        True\n",
      "1       False\n",
      "2        True\n",
      "3       False\n",
      "4        True\n",
      "        ...  \n",
      "1304     True\n",
      "1305     True\n",
      "1306    False\n",
      "1307    False\n",
      "1308    False\n",
      "Name: sex, Length: 1309, dtype: bool\n"
     ]
    }
   ],
   "source": [
    "array_fe = titanic[\"sex\"] == \"female\"\n",
    "\n",
    "print(array_fe)"
   ]
  },
  {
   "attachments": {},
   "cell_type": "markdown",
   "metadata": {},
   "source": [
    "14. Rename the column `\"sex\"` to `\"gender\"` and filter the `titanic` dataframe with the boolean array, call it `woman_titanic`"
   ]
  },
  {
   "cell_type": "code",
   "execution_count": 104,
   "metadata": {},
   "outputs": [
    {
     "name": "stdout",
     "output_type": "stream",
     "text": [
      "      pclass  survived                                             name  \\\n",
      "0          1         1                    Allen, Miss. Elisabeth Walton   \n",
      "2          1         0                     Allison, Miss. Helen Loraine   \n",
      "4          1         0  Allison, Mrs. Hudson J C (Bessie Waldo Daniels)   \n",
      "6          1         1                Andrews, Miss. Kornelia Theodosia   \n",
      "8          1         1    Appleton, Mrs. Edward Dale (Charlotte Lamson)   \n",
      "...      ...       ...                                              ...   \n",
      "1286       3         1  Whabee, Mrs. George Joseph (Shawneene Abi-Saab)   \n",
      "1290       3         1                 Wilkes, Mrs. James (Ellen Needs)   \n",
      "1300       3         1          Yasbeck, Mrs. Antoni (Selini Alexander)   \n",
      "1304       3         0                             Zabour, Miss. Hileni   \n",
      "1305       3         0                            Zabour, Miss. Thamine   \n",
      "\n",
      "      gender   age  sibsp  parch  ticket      fare    cabin embarked boat  \\\n",
      "0     female  29.0      0      0   24160  211.3375       B5        S    2   \n",
      "2     female   2.0      1      2  113781  151.5500  C22 C26        S  NaN   \n",
      "4     female  25.0      1      2  113781  151.5500  C22 C26        S  NaN   \n",
      "6     female  63.0      1      0   13502   77.9583       D7        S   10   \n",
      "8     female  53.0      2      0   11769   51.4792     C101        S    D   \n",
      "...      ...   ...    ...    ...     ...       ...      ...      ...  ...   \n",
      "1286  female  38.0      0      0    2688    7.2292      NaN        C    C   \n",
      "1290  female  47.0      1      0  363272    7.0000      NaN        S  NaN   \n",
      "1300  female  15.0      1      0    2659   14.4542      NaN        C  NaN   \n",
      "1304  female  14.5      1      0    2665   14.4542      NaN        C  NaN   \n",
      "1305  female   NaN      1      0    2665   14.4542      NaN        C  NaN   \n",
      "\n",
      "       body                        home.dest  \n",
      "0       NaN                     St Louis, MO  \n",
      "2       NaN  Montreal, PQ / Chesterville, ON  \n",
      "4       NaN  Montreal, PQ / Chesterville, ON  \n",
      "6       NaN                       Hudson, NY  \n",
      "8       NaN              Bayside, Queens, NY  \n",
      "...     ...                              ...  \n",
      "1286    NaN                              NaN  \n",
      "1290    NaN                              NaN  \n",
      "1300    NaN                              NaN  \n",
      "1304  328.0                              NaN  \n",
      "1305    NaN                              NaN  \n",
      "\n",
      "[466 rows x 14 columns]\n"
     ]
    }
   ],
   "source": [
    "# Primero renombrar sex a gender, con el método rename\n",
    "titanic.rename(columns={'sex': 'gender'}, inplace=True)\n",
    "\n",
    "# filtro por lo que nos ha devuelto el array generado en el anterior ejercicio\n",
    "woman_titanic = titanic[array_fe]\n",
    "\n",
    "print(woman_titanic)\n"
   ]
  },
  {
   "attachments": {},
   "cell_type": "markdown",
   "metadata": {},
   "source": [
    "15. How many woman were younger than 18? Call the variable `minor_wo`"
   ]
  },
  {
   "cell_type": "code",
   "execution_count": 105,
   "metadata": {},
   "outputs": [
    {
     "name": "stdout",
     "output_type": "stream",
     "text": [
      "72\n"
     ]
    }
   ],
   "source": [
    "minor_wo = woman_titanic[woman_titanic['age'] < 18]\n",
    "\n",
    "count_minor_wo = minor_wo.shape[0]\n",
    "\n",
    "print(count_minor_wo)"
   ]
  },
  {
   "attachments": {},
   "cell_type": "markdown",
   "metadata": {},
   "source": [
    "16. How many woman that were less than 18 actually died? Call the variable `dead_wo`"
   ]
  },
  {
   "cell_type": "code",
   "execution_count": 106,
   "metadata": {},
   "outputs": [
    {
     "name": "stdout",
     "output_type": "stream",
     "text": [
      "22\n"
     ]
    }
   ],
   "source": [
    "dead_wo = minor_wo[minor_wo[\"survived\"]==0]\n",
    "\n",
    "count_dead_wo = dead_wo.shape[0]\n",
    "\n",
    "print(count_dead_wo)"
   ]
  },
  {
   "attachments": {},
   "cell_type": "markdown",
   "metadata": {},
   "source": [
    "17. Drop rows with *Nan* in `titanic` with `how='any'` and print the shape\n",
    "\n"
   ]
  },
  {
   "cell_type": "code",
   "execution_count": 107,
   "metadata": {},
   "outputs": [
    {
     "name": "stdout",
     "output_type": "stream",
     "text": [
      "pclass          0\n",
      "survived        0\n",
      "name            0\n",
      "gender          0\n",
      "age           263\n",
      "sibsp           0\n",
      "parch           0\n",
      "ticket          0\n",
      "fare            1\n",
      "cabin        1014\n",
      "embarked        2\n",
      "boat          823\n",
      "body         1188\n",
      "home.dest     564\n",
      "dtype: int64\n"
     ]
    }
   ],
   "source": [
    "print(titanic.isna().sum())\n"
   ]
  },
  {
   "cell_type": "code",
   "execution_count": 108,
   "metadata": {},
   "outputs": [
    {
     "name": "stdout",
     "output_type": "stream",
     "text": [
      "(0, 14)\n"
     ]
    }
   ],
   "source": [
    "# Quitamos las filas con cualquier Nan, con el método dropna\n",
    "titanic_clean = titanic.dropna(how=\"any\")\n",
    "\n",
    "print(titanic_clean.shape)\n"
   ]
  },
  {
   "attachments": {},
   "cell_type": "markdown",
   "metadata": {},
   "source": [
    "18. Drop rows with *Nan* in `titanic` with `how='all'` and print the shape\n"
   ]
  },
  {
   "cell_type": "code",
   "execution_count": 109,
   "metadata": {},
   "outputs": [
    {
     "name": "stdout",
     "output_type": "stream",
     "text": [
      "(1309, 14)\n"
     ]
    }
   ],
   "source": [
    "# Quitamos las filas con cualquier Nan, con el método dropna\n",
    "titanic_clean = titanic.dropna(how=\"all\")\n",
    "\n",
    "print(titanic_clean.shape)"
   ]
  },
  {
   "attachments": {},
   "cell_type": "markdown",
   "metadata": {},
   "source": [
    "Check in [here](https://pandas.pydata.org/pandas-docs/stable/reference/api/pandas.DataFrame.dropna.html) why the shapes are different."
   ]
  },
  {
   "attachments": {},
   "cell_type": "markdown",
   "metadata": {},
   "source": [
    "19. Drop columns in `titanic` with more than 1000 missing values and print the columns remaining"
   ]
  },
  {
   "cell_type": "code",
   "execution_count": 110,
   "metadata": {},
   "outputs": [
    {
     "name": "stdout",
     "output_type": "stream",
     "text": [
      "Index(['pclass', 'survived', 'name', 'gender', 'age', 'sibsp', 'parch',\n",
      "       'ticket', 'fare', 'embarked', 'boat', 'home.dest'],\n",
      "      dtype='object')\n"
     ]
    }
   ],
   "source": [
    "# Miro el número de valores que faltan en cada columna, cisna() y sum() los valores faltantes en cada columna.\n",
    "missing_values = titanic.isna().sum()\n",
    "\n",
    "# Elimino las columnas con más de 1000 valores faltantes\n",
    "titanic_clean = titanic.drop(columns=missing_values[missing_values > 1000].index)\n",
    "\n",
    "print(titanic_clean.columns)\n"
   ]
  },
  {
   "attachments": {},
   "cell_type": "markdown",
   "metadata": {},
   "source": [
    "20. Calculate the ratio of missing values at the `boat` column. "
   ]
  },
  {
   "cell_type": "code",
   "execution_count": null,
   "metadata": {},
   "outputs": [
    {
     "name": "stdout",
     "output_type": "stream",
     "text": [
      "823\n",
      "\n",
      "El ratio de valores faltantes en la columna 'boat' es: 62.87%\n"
     ]
    }
   ],
   "source": [
    "# Primero miro los valores faltantes en la columna boat\n",
    "# isna devuelve un valor booleano (True o False) por cada fila en la columna, indicando si ese valor es NaN o no.\n",
    "# Con sum, sumamos los valores True (ya que True se cuenta como 1), lo que nos da el número total de valores faltantes en la columna.\n",
    "missing_values_boat = titanic['boat'].isna().sum()\n",
    "\n",
    "print(missing_values_boat)\n",
    "print()\n",
    "# Calcular el número total de filas \n",
    "total_rows = len(titanic)\n",
    "\n",
    "# Para calcular el ratio, lo guardo el missing_ratio, y hago el missing_values_boat(que ya está calculado)\n",
    "# lo dividimos por el total de filas y lo multiplicamos x 100\n",
    "# Multiplicamos por 100 para convertir un número decimal (ratio) en porcentaje\n",
    "missing_ratio = missing_values_boat / total_rows * 100\n",
    "\n",
    "print(f\"El ratio de valores faltantes en la columna 'boat' es: {missing_ratio:.2f}%\")\n",
    "\n"
   ]
  },
  {
   "attachments": {},
   "cell_type": "markdown",
   "metadata": {},
   "source": [
    "21.  Group `titanic` by `'pclass'` and aggregate by the columns `age` & `fare`, by `max` and `median` and assign it to `by_class`\n"
   ]
  },
  {
   "cell_type": "code",
   "execution_count": 119,
   "metadata": {},
   "outputs": [
    {
     "name": "stdout",
     "output_type": "stream",
     "text": [
      "         age            fare        \n",
      "         max median      max  median\n",
      "pclass                              \n",
      "1       80.0   39.0  512.329  60.000\n",
      "2       70.0   29.0   73.500  15.046\n",
      "3       74.0   24.0   69.550   8.050\n"
     ]
    }
   ],
   "source": [
    "# Agrupar por 'pclass' y aplicar las funciones de agregación 'max' y 'median' a 'age' y 'fare'\n",
    "by_class = titanic.groupby('pclass')[['age', 'fare']].agg([\"max\", \"median\"]).round(3)\n",
    "\n",
    "# Imprimir el resultado\n",
    "print(by_class)\n"
   ]
  },
  {
   "attachments": {},
   "cell_type": "markdown",
   "metadata": {},
   "source": [
    "22. Print the maximum age in each class from `by_class`"
   ]
  },
  {
   "cell_type": "code",
   "execution_count": 121,
   "metadata": {},
   "outputs": [
    {
     "name": "stdout",
     "output_type": "stream",
     "text": [
      "pclass\n",
      "1    80.0\n",
      "2    70.0\n",
      "3    74.0\n",
      "Name: max, dtype: float64\n"
     ]
    }
   ],
   "source": [
    "# Selecciono la columna 'age' de by_class y accedemos a la edad máxima de los valores máximos de edad por clase.\n",
    "print(by_class['age']['max'])"
   ]
  },
  {
   "attachments": {},
   "cell_type": "markdown",
   "metadata": {},
   "source": [
    "23. Print the median fare in each class from `by_class`"
   ]
  },
  {
   "cell_type": "code",
   "execution_count": 122,
   "metadata": {},
   "outputs": [
    {
     "name": "stdout",
     "output_type": "stream",
     "text": [
      "pclass\n",
      "1    60.000\n",
      "2    15.046\n",
      "3     8.050\n",
      "Name: median, dtype: float64\n"
     ]
    }
   ],
   "source": [
    "# Imprimimos la tarifa mediana de cada clase\n",
    "print(by_class['fare']['median'])\n"
   ]
  },
  {
   "attachments": {},
   "cell_type": "markdown",
   "metadata": {},
   "source": [
    "24. Using [`.pivot_table()`](https://pandas.pydata.org/pandas-docs/stable/reference/api/pandas.pivot_table.html) to count how many women or men survived by class, call it `counted`.\n",
    "\n",
    "Don't panic and read the documentation!\n",
    "\n",
    "\n"
   ]
  },
  {
   "cell_type": "code",
   "execution_count": null,
   "metadata": {},
   "outputs": [],
   "source": []
  },
  {
   "attachments": {},
   "cell_type": "markdown",
   "metadata": {},
   "source": [
    "25. Add a new column with the sum of survived men and women, call it `counted['total']` \n"
   ]
  },
  {
   "attachments": {},
   "cell_type": "markdown",
   "metadata": {},
   "source": [
    "26. Sort `counted` by the `'total'` column. In which class the people survived the most?"
   ]
  },
  {
   "attachments": {},
   "cell_type": "markdown",
   "metadata": {},
   "source": [
    "27. Please, show only the rows using a mask with the following conditions: \n",
    "    - They are woman\n",
    "    - From third class\n",
    "    - Younger than 30\n",
    "    - They survived\n",
    "    \n",
    "    ¿How many rows fulfill the condition?"
   ]
  },
  {
   "attachments": {},
   "cell_type": "markdown",
   "metadata": {},
   "source": [
    "28. Now, show only the rows using `.loc` with the following conditions: \n",
    "    - They are man\n",
    "    - From first class\n",
    "    - Older than 50\n",
    "    - They died\n",
    "    \n",
    "    ¿How many rows fulfill the condition?"
   ]
  },
  {
   "attachments": {},
   "cell_type": "markdown",
   "metadata": {},
   "source": [
    "29. Print the uniques values at the column `'name'`"
   ]
  },
  {
   "attachments": {},
   "cell_type": "markdown",
   "metadata": {},
   "source": [
    "30. Find if was there any `name` repeated at the Titanic?\n",
    "\n",
    "Hint: There were two people with the same name, who?"
   ]
  },
  {
   "attachments": {},
   "cell_type": "markdown",
   "metadata": {},
   "source": [
    "31. Using `matplotlib` find the appropriate visualization to show the distribution of the column `'age'`"
   ]
  },
  {
   "attachments": {},
   "cell_type": "markdown",
   "metadata": {},
   "source": [
    "32. Using `matplotlib` find the appropriate plot to visualize the column `'gender'`"
   ]
  },
  {
   "attachments": {},
   "cell_type": "markdown",
   "metadata": {},
   "source": [
    "32b. What if you also plot the column `'gender'` using the function [`countplot`](https://seaborn.pydata.org/generated/seaborn.countplot.html) from the library [`seaborn`](https://seaborn.pydata.org/)?\n",
    "\n",
    "Remember you have never used `seaborn` before, therefore you should install it before importing it."
   ]
  },
  {
   "attachments": {},
   "cell_type": "markdown",
   "metadata": {},
   "source": [
    "33. Using the function [`catplot`](https://seaborn.pydata.org/generated/seaborn.catplot.html) from the library `seaborn`, find out if the hypothesis _\"Women are more likely to survive shipwrecks\"_ is true or not.\n"
   ]
  },
  {
   "attachments": {},
   "cell_type": "markdown",
   "metadata": {},
   "source": [
    "34. Using [`kdeplot`](\"https://seaborn.pydata.org/generated/seaborn.kdeplot.html\") from `seaborn` represent those who not survived distributed by age.<>\n",
    "\n",
    "Hint: First you should \"filter\" the `titanic` dataset where the column \"survived\" is 0, indexing the column `\"age\"` only.\n",
    "\n",
    "Arguments you should pass to the function: \n",
    "\n",
    "    - color = \"red\"\n",
    "    - label = \"Not Survived\"\n",
    "    - shade = True\n",
    "    \n",
    "You should get something like this: "
   ]
  },
  {
   "attachments": {},
   "cell_type": "markdown",
   "metadata": {},
   "source": [
    "![kdeplot](./img/kdeplotsur.png)"
   ]
  },
  {
   "cell_type": "markdown",
   "metadata": {},
   "source": []
  },
  {
   "cell_type": "code",
   "execution_count": null,
   "metadata": {},
   "outputs": [],
   "source": []
  }
 ],
 "metadata": {
  "kernelspec": {
   "display_name": "Python 3",
   "language": "python",
   "name": "python3"
  },
  "language_info": {
   "codemirror_mode": {
    "name": "ipython",
    "version": 3
   },
   "file_extension": ".py",
   "mimetype": "text/x-python",
   "name": "python",
   "nbconvert_exporter": "python",
   "pygments_lexer": "ipython3",
   "version": "3.11.9"
  }
 },
 "nbformat": 4,
 "nbformat_minor": 4
}
