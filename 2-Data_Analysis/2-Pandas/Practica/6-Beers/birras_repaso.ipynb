{
 "cells": [
  {
   "attachments": {},
   "cell_type": "markdown",
   "metadata": {},
   "source": [
    "![imagen](https://cdn.foodbeast.com/content/wp-content/uploads/2012/03/beer-print-01-selectism.jpg)\n",
    "\n",
    "# Ejercicio pandas estadística\n",
    "Para este ejercicio se ha utilizado [un dataset de un concurso de kaggle](https://www.kaggle.com/nickhould/craft-cans), cuyo reto consiste en predecir el tipo de cerveza en función de sus características (nivel de alcohol, amargura, tamaño...).\n",
    "\n",
    "# Ejercicio 1\n",
    "Importa las librerias que consideres"
   ]
  },
  {
   "cell_type": "code",
   "execution_count": 253,
   "metadata": {},
   "outputs": [],
   "source": [
    "import numpy as np\n",
    "import pandas as pd\n",
    "import seaborn as sns\n",
    "import matplotlib.pyplot as plt"
   ]
  },
  {
   "attachments": {},
   "cell_type": "markdown",
   "metadata": {},
   "source": [
    "## Ejercicio 2\n",
    "1. Importa el dataset \"datasets_beer.csv\"\n",
    "2. Imprime por pantalla los primeros registros.\n",
    "3. ¿Cuáles son sus columnas?\n",
    "4. ¿Qué dimensiones tiene el DataFrame?"
   ]
  },
  {
   "cell_type": "code",
   "execution_count": 254,
   "metadata": {},
   "outputs": [
    {
     "data": {
      "application/vnd.microsoft.datawrangler.viewer.v0+json": {
       "columns": [
        {
         "name": "index",
         "rawType": "int64",
         "type": "integer"
        },
        {
         "name": "Unnamed: 0",
         "rawType": "int64",
         "type": "integer"
        },
        {
         "name": "abv",
         "rawType": "float64",
         "type": "float"
        },
        {
         "name": "ibu",
         "rawType": "float64",
         "type": "float"
        },
        {
         "name": "id",
         "rawType": "int64",
         "type": "integer"
        },
        {
         "name": "name",
         "rawType": "object",
         "type": "string"
        },
        {
         "name": "style",
         "rawType": "object",
         "type": "unknown"
        },
        {
         "name": "brewery_id",
         "rawType": "int64",
         "type": "integer"
        },
        {
         "name": "ounces",
         "rawType": "float64",
         "type": "float"
        }
       ],
       "conversionMethod": "pd.DataFrame",
       "ref": "7e3d9235-80ab-41ad-82fb-9ff4c734a44f",
       "rows": [
        [
         "0",
         "0",
         "0.05",
         null,
         "1436",
         "Pub Beer",
         "American Pale Lager",
         "408",
         "12.0"
        ],
        [
         "1",
         "1",
         "0.066",
         null,
         "2265",
         "Devil's Cup",
         "American Pale Ale (APA)",
         "177",
         "12.0"
        ],
        [
         "2",
         "2",
         "0.071",
         null,
         "2264",
         "Rise of the Phoenix",
         "American IPA",
         "177",
         "12.0"
        ],
        [
         "3",
         "3",
         "0.09",
         null,
         "2263",
         "Sinister",
         "American Double / Imperial IPA",
         "177",
         "12.0"
        ],
        [
         "4",
         "4",
         "0.075",
         null,
         "2262",
         "Sex and Candy",
         "American IPA",
         "177",
         "12.0"
        ],
        [
         "5",
         "5",
         "0.077",
         null,
         "2261",
         "Black Exodus",
         "Oatmeal Stout",
         "177",
         "12.0"
        ],
        [
         "6",
         "6",
         "0.045",
         null,
         "2260",
         "Lake Street Express",
         "American Pale Ale (APA)",
         "177",
         "12.0"
        ],
        [
         "7",
         "7",
         "0.065",
         null,
         "2259",
         "Foreman",
         "American Porter",
         "177",
         "12.0"
        ],
        [
         "8",
         "8",
         "0.055",
         null,
         "2258",
         "Jade",
         "American Pale Ale (APA)",
         "177",
         "12.0"
        ],
        [
         "9",
         "9",
         "0.086",
         null,
         "2131",
         "Cone Crusher",
         "American Double / Imperial IPA",
         "177",
         "12.0"
        ],
        [
         "10",
         "10",
         "0.072",
         null,
         "2099",
         "Sophomoric Saison",
         "Saison / Farmhouse Ale",
         "177",
         "12.0"
        ],
        [
         "11",
         "11",
         "0.073",
         null,
         "2098",
         "Regional Ring Of Fire",
         "Saison / Farmhouse Ale",
         "177",
         "12.0"
        ],
        [
         "12",
         "12",
         "0.069",
         null,
         "2097",
         "Garce Selé",
         "Saison / Farmhouse Ale",
         "177",
         "12.0"
        ],
        [
         "13",
         "13",
         "0.085",
         null,
         "1980",
         "Troll Destroyer",
         "Belgian IPA",
         "177",
         "12.0"
        ],
        [
         "14",
         "14",
         "0.061",
         "60.0",
         "1979",
         "Bitter Bitch",
         "American Pale Ale (APA)",
         "177",
         "12.0"
        ],
        [
         "15",
         "15",
         "0.06",
         null,
         "2318",
         "Ginja Ninja",
         "Cider",
         "154",
         "12.0"
        ],
        [
         "16",
         "16",
         "0.06",
         null,
         "2170",
         "Cherried Away",
         "Cider",
         "154",
         "12.0"
        ],
        [
         "17",
         "17",
         "0.06",
         null,
         "2169",
         "Rhubarbarian",
         "Cider",
         "154",
         "12.0"
        ],
        [
         "18",
         "18",
         "0.06",
         null,
         "1502",
         "BrightCider",
         "Cider",
         "154",
         "12.0"
        ],
        [
         "19",
         "19",
         "0.0819999999999999",
         null,
         "1593",
         "He Said Baltic-Style Porter",
         "Baltic Porter",
         "368",
         "12.0"
        ],
        [
         "20",
         "20",
         "0.0819999999999999",
         null,
         "1592",
         "He Said Belgian-Style Tripel",
         "Tripel",
         "368",
         "12.0"
        ],
        [
         "21",
         "21",
         "0.099",
         "92.0",
         "1036",
         "Lower De Boom",
         "American Barleywine",
         "368",
         "8.4"
        ],
        [
         "22",
         "22",
         "0.079",
         "45.0",
         "1024",
         "Fireside Chat",
         "Winter Warmer",
         "368",
         "12.0"
        ],
        [
         "23",
         "23",
         "0.079",
         null,
         "976",
         "Marooned On Hog Island",
         "American Stout",
         "368",
         "12.0"
        ],
        [
         "24",
         "24",
         "0.044",
         "42.0",
         "876",
         "Bitter American",
         "American Pale Ale (APA)",
         "368",
         "12.0"
        ],
        [
         "25",
         "25",
         "0.049",
         "17.0",
         "802",
         "Hell or High Watermelon Wheat (2009)",
         "Fruit / Vegetable Beer",
         "368",
         "12.0"
        ],
        [
         "26",
         "26",
         "0.049",
         "17.0",
         "801",
         "Hell or High Watermelon Wheat (2009)",
         "Fruit / Vegetable Beer",
         "368",
         "12.0"
        ],
        [
         "27",
         "27",
         "0.049",
         "17.0",
         "800",
         "21st Amendment Watermelon Wheat Beer (2006)",
         "Fruit / Vegetable Beer",
         "368",
         "12.0"
        ],
        [
         "28",
         "28",
         "0.07",
         "70.0",
         "799",
         "21st Amendment IPA (2006)",
         "American IPA",
         "368",
         "12.0"
        ],
        [
         "29",
         "29",
         "0.07",
         "70.0",
         "797",
         "Brew Free! or Die IPA (2008)",
         "American IPA",
         "368",
         "12.0"
        ],
        [
         "30",
         "30",
         "0.07",
         "70.0",
         "796",
         "Brew Free! or Die IPA (2009)",
         "American IPA",
         "368",
         "12.0"
        ],
        [
         "31",
         "31",
         "0.085",
         "52.0",
         "531",
         "Special Edition: Allies Win The War!",
         "English Strong Ale",
         "368",
         "12.0"
        ],
        [
         "32",
         "32",
         "0.0969999999999999",
         "94.0",
         "432",
         "Hop Crisis",
         "American Double / Imperial IPA",
         "368",
         "12.0"
        ],
        [
         "33",
         "33",
         "0.044",
         "42.0",
         "353",
         "Bitter American (2011)",
         "American Pale Ale (APA)",
         "368",
         "12.0"
        ],
        [
         "34",
         "34",
         "0.079",
         "45.0",
         "321",
         "Fireside Chat (2010)",
         "Winter Warmer",
         "368",
         "12.0"
        ],
        [
         "35",
         "35",
         "0.068",
         "65.0",
         "173",
         "Back in Black",
         "American Black Ale",
         "368",
         "12.0"
        ],
        [
         "36",
         "36",
         "0.083",
         "35.0",
         "11",
         "Monk's Blood",
         "Belgian Dark Ale",
         "368",
         "12.0"
        ],
        [
         "37",
         "37",
         "0.07",
         "65.0",
         "10",
         "Brew Free! or Die IPA",
         "American IPA",
         "368",
         "12.0"
        ],
        [
         "38",
         "38",
         "0.049",
         "17.0",
         "9",
         "Hell or High Watermelon Wheat",
         "Fruit / Vegetable Beer",
         "368",
         "12.0"
        ],
        [
         "39",
         "39",
         "0.07",
         "82.0",
         "2519",
         "Bimini Twist",
         "American IPA",
         "67",
         "12.0"
        ],
        [
         "40",
         "40",
         "0.05",
         null,
         "2518",
         "Beach Blonde",
         "American Blonde Ale",
         "67",
         "12.0"
        ],
        [
         "41",
         "41",
         "0.059",
         null,
         "2517",
         "Rod Bender Red",
         "American Amber / Red Ale",
         "67",
         "12.0"
        ],
        [
         "42",
         "42",
         "0.035",
         "11.0",
         "2545",
         "Passion Fruit Prussia",
         "Berliner Weissbier",
         "60",
         "12.0"
        ],
        [
         "43",
         "43",
         "0.045",
         "18.0",
         "2544",
         "Send Help",
         "American Blonde Ale",
         "60",
         "12.0"
        ],
        [
         "44",
         "44",
         "0.055",
         null,
         "2324",
         "Cast Iron Oatmeal Brown",
         "American Brown Ale",
         "60",
         "12.0"
        ],
        [
         "45",
         "45",
         "0.06",
         null,
         "2288",
         "Reprise Centennial Red",
         "American Amber / Red Ale",
         "60",
         "12.0"
        ],
        [
         "46",
         "46",
         "0.055",
         null,
         "2287",
         "Alter Ego",
         "American Black Ale",
         "60",
         "12.0"
        ],
        [
         "47",
         "47",
         "0.065",
         null,
         "2286",
         "Divided Sky",
         "American IPA",
         "60",
         "12.0"
        ],
        [
         "48",
         "48",
         "0.065",
         null,
         "2285",
         "Resurrected",
         "American IPA",
         "60",
         "12.0"
        ],
        [
         "49",
         "49",
         "0.05",
         "28.0",
         "1870",
         "Contact High",
         "American Pale Wheat Ale",
         "60",
         "12.0"
        ]
       ],
       "shape": {
        "columns": 8,
        "rows": 2410
       }
      },
      "text/html": [
       "<div>\n",
       "<style scoped>\n",
       "    .dataframe tbody tr th:only-of-type {\n",
       "        vertical-align: middle;\n",
       "    }\n",
       "\n",
       "    .dataframe tbody tr th {\n",
       "        vertical-align: top;\n",
       "    }\n",
       "\n",
       "    .dataframe thead th {\n",
       "        text-align: right;\n",
       "    }\n",
       "</style>\n",
       "<table border=\"1\" class=\"dataframe\">\n",
       "  <thead>\n",
       "    <tr style=\"text-align: right;\">\n",
       "      <th></th>\n",
       "      <th>Unnamed: 0</th>\n",
       "      <th>abv</th>\n",
       "      <th>ibu</th>\n",
       "      <th>id</th>\n",
       "      <th>name</th>\n",
       "      <th>style</th>\n",
       "      <th>brewery_id</th>\n",
       "      <th>ounces</th>\n",
       "    </tr>\n",
       "  </thead>\n",
       "  <tbody>\n",
       "    <tr>\n",
       "      <th>0</th>\n",
       "      <td>0</td>\n",
       "      <td>0.050</td>\n",
       "      <td>NaN</td>\n",
       "      <td>1436</td>\n",
       "      <td>Pub Beer</td>\n",
       "      <td>American Pale Lager</td>\n",
       "      <td>408</td>\n",
       "      <td>12.0</td>\n",
       "    </tr>\n",
       "    <tr>\n",
       "      <th>1</th>\n",
       "      <td>1</td>\n",
       "      <td>0.066</td>\n",
       "      <td>NaN</td>\n",
       "      <td>2265</td>\n",
       "      <td>Devil's Cup</td>\n",
       "      <td>American Pale Ale (APA)</td>\n",
       "      <td>177</td>\n",
       "      <td>12.0</td>\n",
       "    </tr>\n",
       "    <tr>\n",
       "      <th>2</th>\n",
       "      <td>2</td>\n",
       "      <td>0.071</td>\n",
       "      <td>NaN</td>\n",
       "      <td>2264</td>\n",
       "      <td>Rise of the Phoenix</td>\n",
       "      <td>American IPA</td>\n",
       "      <td>177</td>\n",
       "      <td>12.0</td>\n",
       "    </tr>\n",
       "    <tr>\n",
       "      <th>3</th>\n",
       "      <td>3</td>\n",
       "      <td>0.090</td>\n",
       "      <td>NaN</td>\n",
       "      <td>2263</td>\n",
       "      <td>Sinister</td>\n",
       "      <td>American Double / Imperial IPA</td>\n",
       "      <td>177</td>\n",
       "      <td>12.0</td>\n",
       "    </tr>\n",
       "    <tr>\n",
       "      <th>4</th>\n",
       "      <td>4</td>\n",
       "      <td>0.075</td>\n",
       "      <td>NaN</td>\n",
       "      <td>2262</td>\n",
       "      <td>Sex and Candy</td>\n",
       "      <td>American IPA</td>\n",
       "      <td>177</td>\n",
       "      <td>12.0</td>\n",
       "    </tr>\n",
       "    <tr>\n",
       "      <th>...</th>\n",
       "      <td>...</td>\n",
       "      <td>...</td>\n",
       "      <td>...</td>\n",
       "      <td>...</td>\n",
       "      <td>...</td>\n",
       "      <td>...</td>\n",
       "      <td>...</td>\n",
       "      <td>...</td>\n",
       "    </tr>\n",
       "    <tr>\n",
       "      <th>2405</th>\n",
       "      <td>2405</td>\n",
       "      <td>0.067</td>\n",
       "      <td>45.0</td>\n",
       "      <td>928</td>\n",
       "      <td>Belgorado</td>\n",
       "      <td>Belgian IPA</td>\n",
       "      <td>424</td>\n",
       "      <td>12.0</td>\n",
       "    </tr>\n",
       "    <tr>\n",
       "      <th>2406</th>\n",
       "      <td>2406</td>\n",
       "      <td>0.052</td>\n",
       "      <td>NaN</td>\n",
       "      <td>807</td>\n",
       "      <td>Rail Yard Ale</td>\n",
       "      <td>American Amber / Red Ale</td>\n",
       "      <td>424</td>\n",
       "      <td>12.0</td>\n",
       "    </tr>\n",
       "    <tr>\n",
       "      <th>2407</th>\n",
       "      <td>2407</td>\n",
       "      <td>0.055</td>\n",
       "      <td>NaN</td>\n",
       "      <td>620</td>\n",
       "      <td>B3K Black Lager</td>\n",
       "      <td>Schwarzbier</td>\n",
       "      <td>424</td>\n",
       "      <td>12.0</td>\n",
       "    </tr>\n",
       "    <tr>\n",
       "      <th>2408</th>\n",
       "      <td>2408</td>\n",
       "      <td>0.055</td>\n",
       "      <td>40.0</td>\n",
       "      <td>145</td>\n",
       "      <td>Silverback Pale Ale</td>\n",
       "      <td>American Pale Ale (APA)</td>\n",
       "      <td>424</td>\n",
       "      <td>12.0</td>\n",
       "    </tr>\n",
       "    <tr>\n",
       "      <th>2409</th>\n",
       "      <td>2409</td>\n",
       "      <td>0.052</td>\n",
       "      <td>NaN</td>\n",
       "      <td>84</td>\n",
       "      <td>Rail Yard Ale (2009)</td>\n",
       "      <td>American Amber / Red Ale</td>\n",
       "      <td>424</td>\n",
       "      <td>12.0</td>\n",
       "    </tr>\n",
       "  </tbody>\n",
       "</table>\n",
       "<p>2410 rows × 8 columns</p>\n",
       "</div>"
      ],
      "text/plain": [
       "      Unnamed: 0    abv   ibu    id                  name  \\\n",
       "0              0  0.050   NaN  1436              Pub Beer   \n",
       "1              1  0.066   NaN  2265           Devil's Cup   \n",
       "2              2  0.071   NaN  2264   Rise of the Phoenix   \n",
       "3              3  0.090   NaN  2263              Sinister   \n",
       "4              4  0.075   NaN  2262         Sex and Candy   \n",
       "...          ...    ...   ...   ...                   ...   \n",
       "2405        2405  0.067  45.0   928             Belgorado   \n",
       "2406        2406  0.052   NaN   807         Rail Yard Ale   \n",
       "2407        2407  0.055   NaN   620       B3K Black Lager   \n",
       "2408        2408  0.055  40.0   145   Silverback Pale Ale   \n",
       "2409        2409  0.052   NaN    84  Rail Yard Ale (2009)   \n",
       "\n",
       "                               style  brewery_id  ounces  \n",
       "0                American Pale Lager         408    12.0  \n",
       "1            American Pale Ale (APA)         177    12.0  \n",
       "2                       American IPA         177    12.0  \n",
       "3     American Double / Imperial IPA         177    12.0  \n",
       "4                       American IPA         177    12.0  \n",
       "...                              ...         ...     ...  \n",
       "2405                     Belgian IPA         424    12.0  \n",
       "2406        American Amber / Red Ale         424    12.0  \n",
       "2407                     Schwarzbier         424    12.0  \n",
       "2408         American Pale Ale (APA)         424    12.0  \n",
       "2409        American Amber / Red Ale         424    12.0  \n",
       "\n",
       "[2410 rows x 8 columns]"
      ]
     },
     "execution_count": 254,
     "metadata": {},
     "output_type": "execute_result"
    }
   ],
   "source": [
    "beer = pd.read_csv(\"data/datasets_beers.csv\")\n",
    "beer\n"
   ]
  },
  {
   "cell_type": "code",
   "execution_count": 255,
   "metadata": {},
   "outputs": [
    {
     "data": {
      "application/vnd.microsoft.datawrangler.viewer.v0+json": {
       "columns": [
        {
         "name": "index",
         "rawType": "int64",
         "type": "integer"
        },
        {
         "name": "Unnamed: 0",
         "rawType": "int64",
         "type": "integer"
        },
        {
         "name": "abv",
         "rawType": "float64",
         "type": "float"
        },
        {
         "name": "ibu",
         "rawType": "float64",
         "type": "float"
        },
        {
         "name": "id",
         "rawType": "int64",
         "type": "integer"
        },
        {
         "name": "name",
         "rawType": "object",
         "type": "string"
        },
        {
         "name": "style",
         "rawType": "object",
         "type": "string"
        },
        {
         "name": "brewery_id",
         "rawType": "int64",
         "type": "integer"
        },
        {
         "name": "ounces",
         "rawType": "float64",
         "type": "float"
        }
       ],
       "conversionMethod": "pd.DataFrame",
       "ref": "6b6045d8-1e8e-4d68-949c-90d488fca5ab",
       "rows": [
        [
         "0",
         "0",
         "0.05",
         null,
         "1436",
         "Pub Beer",
         "American Pale Lager",
         "408",
         "12.0"
        ],
        [
         "1",
         "1",
         "0.066",
         null,
         "2265",
         "Devil's Cup",
         "American Pale Ale (APA)",
         "177",
         "12.0"
        ],
        [
         "2",
         "2",
         "0.071",
         null,
         "2264",
         "Rise of the Phoenix",
         "American IPA",
         "177",
         "12.0"
        ],
        [
         "3",
         "3",
         "0.09",
         null,
         "2263",
         "Sinister",
         "American Double / Imperial IPA",
         "177",
         "12.0"
        ],
        [
         "4",
         "4",
         "0.075",
         null,
         "2262",
         "Sex and Candy",
         "American IPA",
         "177",
         "12.0"
        ]
       ],
       "shape": {
        "columns": 8,
        "rows": 5
       }
      },
      "text/html": [
       "<div>\n",
       "<style scoped>\n",
       "    .dataframe tbody tr th:only-of-type {\n",
       "        vertical-align: middle;\n",
       "    }\n",
       "\n",
       "    .dataframe tbody tr th {\n",
       "        vertical-align: top;\n",
       "    }\n",
       "\n",
       "    .dataframe thead th {\n",
       "        text-align: right;\n",
       "    }\n",
       "</style>\n",
       "<table border=\"1\" class=\"dataframe\">\n",
       "  <thead>\n",
       "    <tr style=\"text-align: right;\">\n",
       "      <th></th>\n",
       "      <th>Unnamed: 0</th>\n",
       "      <th>abv</th>\n",
       "      <th>ibu</th>\n",
       "      <th>id</th>\n",
       "      <th>name</th>\n",
       "      <th>style</th>\n",
       "      <th>brewery_id</th>\n",
       "      <th>ounces</th>\n",
       "    </tr>\n",
       "  </thead>\n",
       "  <tbody>\n",
       "    <tr>\n",
       "      <th>0</th>\n",
       "      <td>0</td>\n",
       "      <td>0.050</td>\n",
       "      <td>NaN</td>\n",
       "      <td>1436</td>\n",
       "      <td>Pub Beer</td>\n",
       "      <td>American Pale Lager</td>\n",
       "      <td>408</td>\n",
       "      <td>12.0</td>\n",
       "    </tr>\n",
       "    <tr>\n",
       "      <th>1</th>\n",
       "      <td>1</td>\n",
       "      <td>0.066</td>\n",
       "      <td>NaN</td>\n",
       "      <td>2265</td>\n",
       "      <td>Devil's Cup</td>\n",
       "      <td>American Pale Ale (APA)</td>\n",
       "      <td>177</td>\n",
       "      <td>12.0</td>\n",
       "    </tr>\n",
       "    <tr>\n",
       "      <th>2</th>\n",
       "      <td>2</td>\n",
       "      <td>0.071</td>\n",
       "      <td>NaN</td>\n",
       "      <td>2264</td>\n",
       "      <td>Rise of the Phoenix</td>\n",
       "      <td>American IPA</td>\n",
       "      <td>177</td>\n",
       "      <td>12.0</td>\n",
       "    </tr>\n",
       "    <tr>\n",
       "      <th>3</th>\n",
       "      <td>3</td>\n",
       "      <td>0.090</td>\n",
       "      <td>NaN</td>\n",
       "      <td>2263</td>\n",
       "      <td>Sinister</td>\n",
       "      <td>American Double / Imperial IPA</td>\n",
       "      <td>177</td>\n",
       "      <td>12.0</td>\n",
       "    </tr>\n",
       "    <tr>\n",
       "      <th>4</th>\n",
       "      <td>4</td>\n",
       "      <td>0.075</td>\n",
       "      <td>NaN</td>\n",
       "      <td>2262</td>\n",
       "      <td>Sex and Candy</td>\n",
       "      <td>American IPA</td>\n",
       "      <td>177</td>\n",
       "      <td>12.0</td>\n",
       "    </tr>\n",
       "  </tbody>\n",
       "</table>\n",
       "</div>"
      ],
      "text/plain": [
       "   Unnamed: 0    abv  ibu    id                 name  \\\n",
       "0           0  0.050  NaN  1436             Pub Beer   \n",
       "1           1  0.066  NaN  2265          Devil's Cup   \n",
       "2           2  0.071  NaN  2264  Rise of the Phoenix   \n",
       "3           3  0.090  NaN  2263             Sinister   \n",
       "4           4  0.075  NaN  2262        Sex and Candy   \n",
       "\n",
       "                            style  brewery_id  ounces  \n",
       "0             American Pale Lager         408    12.0  \n",
       "1         American Pale Ale (APA)         177    12.0  \n",
       "2                    American IPA         177    12.0  \n",
       "3  American Double / Imperial IPA         177    12.0  \n",
       "4                    American IPA         177    12.0  "
      ]
     },
     "execution_count": 255,
     "metadata": {},
     "output_type": "execute_result"
    }
   ],
   "source": [
    "\n",
    "beer.head()"
   ]
  },
  {
   "cell_type": "markdown",
   "metadata": {},
   "source": [
    "### El dataset contiene 2,410 filas y 8 columnas:\n",
    "\n",
    "- Unnamed: 0: Parece un índice innecesario.\n",
    "\n",
    "- abv: Contenido de alcohol por volumen (ABV), con algunos valores nulos.\n",
    "\n",
    "- ibu: Índice de amargor (IBU), con muchos valores nulos.\n",
    "\n",
    "- id: Identificador único de la cerveza.\n",
    "\n",
    "- name: Nombre de la cerveza.\n",
    "\n",
    "- style: Estilo de la cerveza, con pocos valores nulos.\n",
    "\n",
    "- brewery_id: Identificador de la cervecería.\n",
    "\n",
    "- ounces: Tamaño de la lata/botella en onzas."
   ]
  },
  {
   "cell_type": "code",
   "execution_count": 256,
   "metadata": {},
   "outputs": [
    {
     "name": "stdout",
     "output_type": "stream",
     "text": [
      "<class 'pandas.core.frame.DataFrame'>\n",
      "RangeIndex: 2410 entries, 0 to 2409\n",
      "Data columns (total 8 columns):\n",
      " #   Column      Non-Null Count  Dtype  \n",
      "---  ------      --------------  -----  \n",
      " 0   Unnamed: 0  2410 non-null   int64  \n",
      " 1   abv         2348 non-null   float64\n",
      " 2   ibu         1405 non-null   float64\n",
      " 3   id          2410 non-null   int64  \n",
      " 4   name        2410 non-null   object \n",
      " 5   style       2405 non-null   object \n",
      " 6   brewery_id  2410 non-null   int64  \n",
      " 7   ounces      2410 non-null   float64\n",
      "dtypes: float64(3), int64(3), object(2)\n",
      "memory usage: 150.8+ KB\n"
     ]
    }
   ],
   "source": [
    "beer.info()"
   ]
  },
  {
   "cell_type": "code",
   "execution_count": 257,
   "metadata": {},
   "outputs": [
    {
     "data": {
      "application/vnd.microsoft.datawrangler.viewer.v0+json": {
       "columns": [
        {
         "name": "index",
         "rawType": "object",
         "type": "string"
        },
        {
         "name": "Unnamed: 0",
         "rawType": "float64",
         "type": "float"
        },
        {
         "name": "abv",
         "rawType": "float64",
         "type": "float"
        },
        {
         "name": "ibu",
         "rawType": "float64",
         "type": "float"
        },
        {
         "name": "id",
         "rawType": "float64",
         "type": "float"
        },
        {
         "name": "brewery_id",
         "rawType": "float64",
         "type": "float"
        },
        {
         "name": "ounces",
         "rawType": "float64",
         "type": "float"
        }
       ],
       "conversionMethod": "pd.DataFrame",
       "ref": "51929060-18f9-440d-8095-d06ab7024efa",
       "rows": [
        [
         "count",
         "2410.0",
         "2348.0",
         "1405.0",
         "2410.0",
         "2410.0",
         "2410.0"
        ],
        [
         "mean",
         "1204.5",
         "0.05977342419080067",
         "42.71316725978647",
         "1431.1132780082987",
         "231.74979253112033",
         "13.592240663900414"
        ],
        [
         "std",
         "695.8513969711254",
         "0.013541733716680264",
         "25.954065911259317",
         "752.4599745599074",
         "157.68560410041619",
         "2.3522036778603734"
        ],
        [
         "min",
         "0.0",
         "0.001",
         "4.0",
         "1.0",
         "0.0",
         "8.4"
        ],
        [
         "25%",
         "602.25",
         "0.05",
         "21.0",
         "808.25",
         "93.0",
         "12.0"
        ],
        [
         "50%",
         "1204.5",
         "0.0559999999999999",
         "35.0",
         "1453.5",
         "205.0",
         "12.0"
        ],
        [
         "75%",
         "1806.75",
         "0.067",
         "64.0",
         "2075.75",
         "366.0",
         "16.0"
        ],
        [
         "max",
         "2409.0",
         "0.128",
         "138.0",
         "2692.0",
         "557.0",
         "32.0"
        ]
       ],
       "shape": {
        "columns": 6,
        "rows": 8
       }
      },
      "text/html": [
       "<div>\n",
       "<style scoped>\n",
       "    .dataframe tbody tr th:only-of-type {\n",
       "        vertical-align: middle;\n",
       "    }\n",
       "\n",
       "    .dataframe tbody tr th {\n",
       "        vertical-align: top;\n",
       "    }\n",
       "\n",
       "    .dataframe thead th {\n",
       "        text-align: right;\n",
       "    }\n",
       "</style>\n",
       "<table border=\"1\" class=\"dataframe\">\n",
       "  <thead>\n",
       "    <tr style=\"text-align: right;\">\n",
       "      <th></th>\n",
       "      <th>Unnamed: 0</th>\n",
       "      <th>abv</th>\n",
       "      <th>ibu</th>\n",
       "      <th>id</th>\n",
       "      <th>brewery_id</th>\n",
       "      <th>ounces</th>\n",
       "    </tr>\n",
       "  </thead>\n",
       "  <tbody>\n",
       "    <tr>\n",
       "      <th>count</th>\n",
       "      <td>2410.000000</td>\n",
       "      <td>2348.000000</td>\n",
       "      <td>1405.000000</td>\n",
       "      <td>2410.000000</td>\n",
       "      <td>2410.000000</td>\n",
       "      <td>2410.000000</td>\n",
       "    </tr>\n",
       "    <tr>\n",
       "      <th>mean</th>\n",
       "      <td>1204.500000</td>\n",
       "      <td>0.059773</td>\n",
       "      <td>42.713167</td>\n",
       "      <td>1431.113278</td>\n",
       "      <td>231.749793</td>\n",
       "      <td>13.592241</td>\n",
       "    </tr>\n",
       "    <tr>\n",
       "      <th>std</th>\n",
       "      <td>695.851397</td>\n",
       "      <td>0.013542</td>\n",
       "      <td>25.954066</td>\n",
       "      <td>752.459975</td>\n",
       "      <td>157.685604</td>\n",
       "      <td>2.352204</td>\n",
       "    </tr>\n",
       "    <tr>\n",
       "      <th>min</th>\n",
       "      <td>0.000000</td>\n",
       "      <td>0.001000</td>\n",
       "      <td>4.000000</td>\n",
       "      <td>1.000000</td>\n",
       "      <td>0.000000</td>\n",
       "      <td>8.400000</td>\n",
       "    </tr>\n",
       "    <tr>\n",
       "      <th>25%</th>\n",
       "      <td>602.250000</td>\n",
       "      <td>0.050000</td>\n",
       "      <td>21.000000</td>\n",
       "      <td>808.250000</td>\n",
       "      <td>93.000000</td>\n",
       "      <td>12.000000</td>\n",
       "    </tr>\n",
       "    <tr>\n",
       "      <th>50%</th>\n",
       "      <td>1204.500000</td>\n",
       "      <td>0.056000</td>\n",
       "      <td>35.000000</td>\n",
       "      <td>1453.500000</td>\n",
       "      <td>205.000000</td>\n",
       "      <td>12.000000</td>\n",
       "    </tr>\n",
       "    <tr>\n",
       "      <th>75%</th>\n",
       "      <td>1806.750000</td>\n",
       "      <td>0.067000</td>\n",
       "      <td>64.000000</td>\n",
       "      <td>2075.750000</td>\n",
       "      <td>366.000000</td>\n",
       "      <td>16.000000</td>\n",
       "    </tr>\n",
       "    <tr>\n",
       "      <th>max</th>\n",
       "      <td>2409.000000</td>\n",
       "      <td>0.128000</td>\n",
       "      <td>138.000000</td>\n",
       "      <td>2692.000000</td>\n",
       "      <td>557.000000</td>\n",
       "      <td>32.000000</td>\n",
       "    </tr>\n",
       "  </tbody>\n",
       "</table>\n",
       "</div>"
      ],
      "text/plain": [
       "        Unnamed: 0          abv          ibu           id   brewery_id  \\\n",
       "count  2410.000000  2348.000000  1405.000000  2410.000000  2410.000000   \n",
       "mean   1204.500000     0.059773    42.713167  1431.113278   231.749793   \n",
       "std     695.851397     0.013542    25.954066   752.459975   157.685604   \n",
       "min       0.000000     0.001000     4.000000     1.000000     0.000000   \n",
       "25%     602.250000     0.050000    21.000000   808.250000    93.000000   \n",
       "50%    1204.500000     0.056000    35.000000  1453.500000   205.000000   \n",
       "75%    1806.750000     0.067000    64.000000  2075.750000   366.000000   \n",
       "max    2409.000000     0.128000   138.000000  2692.000000   557.000000   \n",
       "\n",
       "            ounces  \n",
       "count  2410.000000  \n",
       "mean     13.592241  \n",
       "std       2.352204  \n",
       "min       8.400000  \n",
       "25%      12.000000  \n",
       "50%      12.000000  \n",
       "75%      16.000000  \n",
       "max      32.000000  "
      ]
     },
     "execution_count": 257,
     "metadata": {},
     "output_type": "execute_result"
    }
   ],
   "source": [
    "beer.describe()"
   ]
  },
  {
   "cell_type": "code",
   "execution_count": 258,
   "metadata": {},
   "outputs": [
    {
     "name": "stdout",
     "output_type": "stream",
     "text": [
      "Unnamed: 0       0\n",
      "abv             62\n",
      "ibu           1005\n",
      "id               0\n",
      "name             0\n",
      "style            5\n",
      "brewery_id       0\n",
      "ounces           0\n",
      "dtype: int64\n"
     ]
    }
   ],
   "source": [
    "# cuantos nulos tiene\n",
    "\n",
    "print(beer.isnull().sum())\n"
   ]
  },
  {
   "cell_type": "code",
   "execution_count": 259,
   "metadata": {},
   "outputs": [
    {
     "data": {
      "text/plain": [
       "['Unnamed: 0', 'abv', 'ibu', 'id', 'name', 'style', 'brewery_id', 'ounces']"
      ]
     },
     "execution_count": 259,
     "metadata": {},
     "output_type": "execute_result"
    }
   ],
   "source": [
    "list(beer)"
   ]
  },
  {
   "attachments": {},
   "cell_type": "markdown",
   "metadata": {},
   "source": [
    "## Ejercicio 3\n",
    "[Elimina la columna \"Unnamed: 0\"](https://pandas.pydata.org/pandas-docs/stable/reference/api/pandas.DataFrame.drop.html)"
   ]
  },
  {
   "cell_type": "code",
   "execution_count": 260,
   "metadata": {},
   "outputs": [
    {
     "data": {
      "application/vnd.microsoft.datawrangler.viewer.v0+json": {
       "columns": [
        {
         "name": "index",
         "rawType": "int64",
         "type": "integer"
        },
        {
         "name": "abv",
         "rawType": "float64",
         "type": "float"
        },
        {
         "name": "ibu",
         "rawType": "float64",
         "type": "float"
        },
        {
         "name": "id",
         "rawType": "int64",
         "type": "integer"
        },
        {
         "name": "name",
         "rawType": "object",
         "type": "string"
        },
        {
         "name": "style",
         "rawType": "object",
         "type": "unknown"
        },
        {
         "name": "brewery_id",
         "rawType": "int64",
         "type": "integer"
        },
        {
         "name": "ounces",
         "rawType": "float64",
         "type": "float"
        }
       ],
       "conversionMethod": "pd.DataFrame",
       "ref": "bcc64a60-60e4-481a-935c-27efdd57d92f",
       "rows": [
        [
         "0",
         "0.05",
         null,
         "1436",
         "Pub Beer",
         "American Pale Lager",
         "408",
         "12.0"
        ],
        [
         "1",
         "0.066",
         null,
         "2265",
         "Devil's Cup",
         "American Pale Ale (APA)",
         "177",
         "12.0"
        ],
        [
         "2",
         "0.071",
         null,
         "2264",
         "Rise of the Phoenix",
         "American IPA",
         "177",
         "12.0"
        ],
        [
         "3",
         "0.09",
         null,
         "2263",
         "Sinister",
         "American Double / Imperial IPA",
         "177",
         "12.0"
        ],
        [
         "4",
         "0.075",
         null,
         "2262",
         "Sex and Candy",
         "American IPA",
         "177",
         "12.0"
        ],
        [
         "5",
         "0.077",
         null,
         "2261",
         "Black Exodus",
         "Oatmeal Stout",
         "177",
         "12.0"
        ],
        [
         "6",
         "0.045",
         null,
         "2260",
         "Lake Street Express",
         "American Pale Ale (APA)",
         "177",
         "12.0"
        ],
        [
         "7",
         "0.065",
         null,
         "2259",
         "Foreman",
         "American Porter",
         "177",
         "12.0"
        ],
        [
         "8",
         "0.055",
         null,
         "2258",
         "Jade",
         "American Pale Ale (APA)",
         "177",
         "12.0"
        ],
        [
         "9",
         "0.086",
         null,
         "2131",
         "Cone Crusher",
         "American Double / Imperial IPA",
         "177",
         "12.0"
        ],
        [
         "10",
         "0.072",
         null,
         "2099",
         "Sophomoric Saison",
         "Saison / Farmhouse Ale",
         "177",
         "12.0"
        ],
        [
         "11",
         "0.073",
         null,
         "2098",
         "Regional Ring Of Fire",
         "Saison / Farmhouse Ale",
         "177",
         "12.0"
        ],
        [
         "12",
         "0.069",
         null,
         "2097",
         "Garce Selé",
         "Saison / Farmhouse Ale",
         "177",
         "12.0"
        ],
        [
         "13",
         "0.085",
         null,
         "1980",
         "Troll Destroyer",
         "Belgian IPA",
         "177",
         "12.0"
        ],
        [
         "14",
         "0.061",
         "60.0",
         "1979",
         "Bitter Bitch",
         "American Pale Ale (APA)",
         "177",
         "12.0"
        ],
        [
         "15",
         "0.06",
         null,
         "2318",
         "Ginja Ninja",
         "Cider",
         "154",
         "12.0"
        ],
        [
         "16",
         "0.06",
         null,
         "2170",
         "Cherried Away",
         "Cider",
         "154",
         "12.0"
        ],
        [
         "17",
         "0.06",
         null,
         "2169",
         "Rhubarbarian",
         "Cider",
         "154",
         "12.0"
        ],
        [
         "18",
         "0.06",
         null,
         "1502",
         "BrightCider",
         "Cider",
         "154",
         "12.0"
        ],
        [
         "19",
         "0.0819999999999999",
         null,
         "1593",
         "He Said Baltic-Style Porter",
         "Baltic Porter",
         "368",
         "12.0"
        ],
        [
         "20",
         "0.0819999999999999",
         null,
         "1592",
         "He Said Belgian-Style Tripel",
         "Tripel",
         "368",
         "12.0"
        ],
        [
         "21",
         "0.099",
         "92.0",
         "1036",
         "Lower De Boom",
         "American Barleywine",
         "368",
         "8.4"
        ],
        [
         "22",
         "0.079",
         "45.0",
         "1024",
         "Fireside Chat",
         "Winter Warmer",
         "368",
         "12.0"
        ],
        [
         "23",
         "0.079",
         null,
         "976",
         "Marooned On Hog Island",
         "American Stout",
         "368",
         "12.0"
        ],
        [
         "24",
         "0.044",
         "42.0",
         "876",
         "Bitter American",
         "American Pale Ale (APA)",
         "368",
         "12.0"
        ],
        [
         "25",
         "0.049",
         "17.0",
         "802",
         "Hell or High Watermelon Wheat (2009)",
         "Fruit / Vegetable Beer",
         "368",
         "12.0"
        ],
        [
         "26",
         "0.049",
         "17.0",
         "801",
         "Hell or High Watermelon Wheat (2009)",
         "Fruit / Vegetable Beer",
         "368",
         "12.0"
        ],
        [
         "27",
         "0.049",
         "17.0",
         "800",
         "21st Amendment Watermelon Wheat Beer (2006)",
         "Fruit / Vegetable Beer",
         "368",
         "12.0"
        ],
        [
         "28",
         "0.07",
         "70.0",
         "799",
         "21st Amendment IPA (2006)",
         "American IPA",
         "368",
         "12.0"
        ],
        [
         "29",
         "0.07",
         "70.0",
         "797",
         "Brew Free! or Die IPA (2008)",
         "American IPA",
         "368",
         "12.0"
        ],
        [
         "30",
         "0.07",
         "70.0",
         "796",
         "Brew Free! or Die IPA (2009)",
         "American IPA",
         "368",
         "12.0"
        ],
        [
         "31",
         "0.085",
         "52.0",
         "531",
         "Special Edition: Allies Win The War!",
         "English Strong Ale",
         "368",
         "12.0"
        ],
        [
         "32",
         "0.0969999999999999",
         "94.0",
         "432",
         "Hop Crisis",
         "American Double / Imperial IPA",
         "368",
         "12.0"
        ],
        [
         "33",
         "0.044",
         "42.0",
         "353",
         "Bitter American (2011)",
         "American Pale Ale (APA)",
         "368",
         "12.0"
        ],
        [
         "34",
         "0.079",
         "45.0",
         "321",
         "Fireside Chat (2010)",
         "Winter Warmer",
         "368",
         "12.0"
        ],
        [
         "35",
         "0.068",
         "65.0",
         "173",
         "Back in Black",
         "American Black Ale",
         "368",
         "12.0"
        ],
        [
         "36",
         "0.083",
         "35.0",
         "11",
         "Monk's Blood",
         "Belgian Dark Ale",
         "368",
         "12.0"
        ],
        [
         "37",
         "0.07",
         "65.0",
         "10",
         "Brew Free! or Die IPA",
         "American IPA",
         "368",
         "12.0"
        ],
        [
         "38",
         "0.049",
         "17.0",
         "9",
         "Hell or High Watermelon Wheat",
         "Fruit / Vegetable Beer",
         "368",
         "12.0"
        ],
        [
         "39",
         "0.07",
         "82.0",
         "2519",
         "Bimini Twist",
         "American IPA",
         "67",
         "12.0"
        ],
        [
         "40",
         "0.05",
         null,
         "2518",
         "Beach Blonde",
         "American Blonde Ale",
         "67",
         "12.0"
        ],
        [
         "41",
         "0.059",
         null,
         "2517",
         "Rod Bender Red",
         "American Amber / Red Ale",
         "67",
         "12.0"
        ],
        [
         "42",
         "0.035",
         "11.0",
         "2545",
         "Passion Fruit Prussia",
         "Berliner Weissbier",
         "60",
         "12.0"
        ],
        [
         "43",
         "0.045",
         "18.0",
         "2544",
         "Send Help",
         "American Blonde Ale",
         "60",
         "12.0"
        ],
        [
         "44",
         "0.055",
         null,
         "2324",
         "Cast Iron Oatmeal Brown",
         "American Brown Ale",
         "60",
         "12.0"
        ],
        [
         "45",
         "0.06",
         null,
         "2288",
         "Reprise Centennial Red",
         "American Amber / Red Ale",
         "60",
         "12.0"
        ],
        [
         "46",
         "0.055",
         null,
         "2287",
         "Alter Ego",
         "American Black Ale",
         "60",
         "12.0"
        ],
        [
         "47",
         "0.065",
         null,
         "2286",
         "Divided Sky",
         "American IPA",
         "60",
         "12.0"
        ],
        [
         "48",
         "0.065",
         null,
         "2285",
         "Resurrected",
         "American IPA",
         "60",
         "12.0"
        ],
        [
         "49",
         "0.05",
         "28.0",
         "1870",
         "Contact High",
         "American Pale Wheat Ale",
         "60",
         "12.0"
        ]
       ],
       "shape": {
        "columns": 7,
        "rows": 2410
       }
      },
      "text/html": [
       "<div>\n",
       "<style scoped>\n",
       "    .dataframe tbody tr th:only-of-type {\n",
       "        vertical-align: middle;\n",
       "    }\n",
       "\n",
       "    .dataframe tbody tr th {\n",
       "        vertical-align: top;\n",
       "    }\n",
       "\n",
       "    .dataframe thead th {\n",
       "        text-align: right;\n",
       "    }\n",
       "</style>\n",
       "<table border=\"1\" class=\"dataframe\">\n",
       "  <thead>\n",
       "    <tr style=\"text-align: right;\">\n",
       "      <th></th>\n",
       "      <th>abv</th>\n",
       "      <th>ibu</th>\n",
       "      <th>id</th>\n",
       "      <th>name</th>\n",
       "      <th>style</th>\n",
       "      <th>brewery_id</th>\n",
       "      <th>ounces</th>\n",
       "    </tr>\n",
       "  </thead>\n",
       "  <tbody>\n",
       "    <tr>\n",
       "      <th>0</th>\n",
       "      <td>0.050</td>\n",
       "      <td>NaN</td>\n",
       "      <td>1436</td>\n",
       "      <td>Pub Beer</td>\n",
       "      <td>American Pale Lager</td>\n",
       "      <td>408</td>\n",
       "      <td>12.0</td>\n",
       "    </tr>\n",
       "    <tr>\n",
       "      <th>1</th>\n",
       "      <td>0.066</td>\n",
       "      <td>NaN</td>\n",
       "      <td>2265</td>\n",
       "      <td>Devil's Cup</td>\n",
       "      <td>American Pale Ale (APA)</td>\n",
       "      <td>177</td>\n",
       "      <td>12.0</td>\n",
       "    </tr>\n",
       "    <tr>\n",
       "      <th>2</th>\n",
       "      <td>0.071</td>\n",
       "      <td>NaN</td>\n",
       "      <td>2264</td>\n",
       "      <td>Rise of the Phoenix</td>\n",
       "      <td>American IPA</td>\n",
       "      <td>177</td>\n",
       "      <td>12.0</td>\n",
       "    </tr>\n",
       "    <tr>\n",
       "      <th>3</th>\n",
       "      <td>0.090</td>\n",
       "      <td>NaN</td>\n",
       "      <td>2263</td>\n",
       "      <td>Sinister</td>\n",
       "      <td>American Double / Imperial IPA</td>\n",
       "      <td>177</td>\n",
       "      <td>12.0</td>\n",
       "    </tr>\n",
       "    <tr>\n",
       "      <th>4</th>\n",
       "      <td>0.075</td>\n",
       "      <td>NaN</td>\n",
       "      <td>2262</td>\n",
       "      <td>Sex and Candy</td>\n",
       "      <td>American IPA</td>\n",
       "      <td>177</td>\n",
       "      <td>12.0</td>\n",
       "    </tr>\n",
       "    <tr>\n",
       "      <th>...</th>\n",
       "      <td>...</td>\n",
       "      <td>...</td>\n",
       "      <td>...</td>\n",
       "      <td>...</td>\n",
       "      <td>...</td>\n",
       "      <td>...</td>\n",
       "      <td>...</td>\n",
       "    </tr>\n",
       "    <tr>\n",
       "      <th>2405</th>\n",
       "      <td>0.067</td>\n",
       "      <td>45.0</td>\n",
       "      <td>928</td>\n",
       "      <td>Belgorado</td>\n",
       "      <td>Belgian IPA</td>\n",
       "      <td>424</td>\n",
       "      <td>12.0</td>\n",
       "    </tr>\n",
       "    <tr>\n",
       "      <th>2406</th>\n",
       "      <td>0.052</td>\n",
       "      <td>NaN</td>\n",
       "      <td>807</td>\n",
       "      <td>Rail Yard Ale</td>\n",
       "      <td>American Amber / Red Ale</td>\n",
       "      <td>424</td>\n",
       "      <td>12.0</td>\n",
       "    </tr>\n",
       "    <tr>\n",
       "      <th>2407</th>\n",
       "      <td>0.055</td>\n",
       "      <td>NaN</td>\n",
       "      <td>620</td>\n",
       "      <td>B3K Black Lager</td>\n",
       "      <td>Schwarzbier</td>\n",
       "      <td>424</td>\n",
       "      <td>12.0</td>\n",
       "    </tr>\n",
       "    <tr>\n",
       "      <th>2408</th>\n",
       "      <td>0.055</td>\n",
       "      <td>40.0</td>\n",
       "      <td>145</td>\n",
       "      <td>Silverback Pale Ale</td>\n",
       "      <td>American Pale Ale (APA)</td>\n",
       "      <td>424</td>\n",
       "      <td>12.0</td>\n",
       "    </tr>\n",
       "    <tr>\n",
       "      <th>2409</th>\n",
       "      <td>0.052</td>\n",
       "      <td>NaN</td>\n",
       "      <td>84</td>\n",
       "      <td>Rail Yard Ale (2009)</td>\n",
       "      <td>American Amber / Red Ale</td>\n",
       "      <td>424</td>\n",
       "      <td>12.0</td>\n",
       "    </tr>\n",
       "  </tbody>\n",
       "</table>\n",
       "<p>2410 rows × 7 columns</p>\n",
       "</div>"
      ],
      "text/plain": [
       "        abv   ibu    id                  name                           style  \\\n",
       "0     0.050   NaN  1436              Pub Beer             American Pale Lager   \n",
       "1     0.066   NaN  2265           Devil's Cup         American Pale Ale (APA)   \n",
       "2     0.071   NaN  2264   Rise of the Phoenix                    American IPA   \n",
       "3     0.090   NaN  2263              Sinister  American Double / Imperial IPA   \n",
       "4     0.075   NaN  2262         Sex and Candy                    American IPA   \n",
       "...     ...   ...   ...                   ...                             ...   \n",
       "2405  0.067  45.0   928             Belgorado                     Belgian IPA   \n",
       "2406  0.052   NaN   807         Rail Yard Ale        American Amber / Red Ale   \n",
       "2407  0.055   NaN   620       B3K Black Lager                     Schwarzbier   \n",
       "2408  0.055  40.0   145   Silverback Pale Ale         American Pale Ale (APA)   \n",
       "2409  0.052   NaN    84  Rail Yard Ale (2009)        American Amber / Red Ale   \n",
       "\n",
       "      brewery_id  ounces  \n",
       "0            408    12.0  \n",
       "1            177    12.0  \n",
       "2            177    12.0  \n",
       "3            177    12.0  \n",
       "4            177    12.0  \n",
       "...          ...     ...  \n",
       "2405         424    12.0  \n",
       "2406         424    12.0  \n",
       "2407         424    12.0  \n",
       "2408         424    12.0  \n",
       "2409         424    12.0  \n",
       "\n",
       "[2410 rows x 7 columns]"
      ]
     },
     "execution_count": 260,
     "metadata": {},
     "output_type": "execute_result"
    }
   ],
   "source": [
    "beer.drop(columns=[\"Unnamed: 0\"], inplace=True)\n",
    "\n",
    "beer\n"
   ]
  },
  {
   "attachments": {},
   "cell_type": "markdown",
   "metadata": {},
   "source": [
    "## Ejercicio 4\n",
    "¿Cuántas filas y columnas tiene el dataset?"
   ]
  },
  {
   "cell_type": "code",
   "execution_count": 261,
   "metadata": {},
   "outputs": [
    {
     "data": {
      "text/plain": [
       "(2410, 7)"
      ]
     },
     "execution_count": 261,
     "metadata": {},
     "output_type": "execute_result"
    }
   ],
   "source": [
    "# Con shape nos dice cuantas filas y cuantas columnas tiene el df\n",
    "fil_cols = beer.shape\n",
    "fil_cols"
   ]
  },
  {
   "attachments": {},
   "cell_type": "markdown",
   "metadata": {},
   "source": [
    "## Ejercicio 5\n",
    "¿De qué tipo son los datos?"
   ]
  },
  {
   "cell_type": "code",
   "execution_count": 262,
   "metadata": {},
   "outputs": [
    {
     "data": {
      "text/plain": [
       "abv           float64\n",
       "ibu           float64\n",
       "id              int64\n",
       "name           object\n",
       "style          object\n",
       "brewery_id      int64\n",
       "ounces        float64\n",
       "dtype: object"
      ]
     },
     "execution_count": 262,
     "metadata": {},
     "output_type": "execute_result"
    }
   ],
   "source": [
    "beer.dtypes"
   ]
  },
  {
   "attachments": {},
   "cell_type": "markdown",
   "metadata": {},
   "source": [
    "## Ejercicio 6\n",
    "Obtén en un nuevo DataFrame un resumen con las principales estadísticas de las columnas numéricas: mean, max, count, cuartiles..."
   ]
  },
  {
   "cell_type": "code",
   "execution_count": 263,
   "metadata": {},
   "outputs": [
    {
     "name": "stdout",
     "output_type": "stream",
     "text": [
      "<class 'pandas.core.frame.DataFrame'>\n",
      "RangeIndex: 2410 entries, 0 to 2409\n",
      "Data columns (total 7 columns):\n",
      " #   Column      Non-Null Count  Dtype  \n",
      "---  ------      --------------  -----  \n",
      " 0   abv         2348 non-null   float64\n",
      " 1   ibu         1405 non-null   float64\n",
      " 2   id          2410 non-null   int64  \n",
      " 3   name        2410 non-null   object \n",
      " 4   style       2405 non-null   object \n",
      " 5   brewery_id  2410 non-null   int64  \n",
      " 6   ounces      2410 non-null   float64\n",
      "dtypes: float64(3), int64(2), object(2)\n",
      "memory usage: 131.9+ KB\n"
     ]
    }
   ],
   "source": [
    "beer.info()"
   ]
  },
  {
   "cell_type": "code",
   "execution_count": 264,
   "metadata": {},
   "outputs": [
    {
     "data": {
      "application/vnd.microsoft.datawrangler.viewer.v0+json": {
       "columns": [
        {
         "name": "index",
         "rawType": "object",
         "type": "string"
        },
        {
         "name": "abv",
         "rawType": "float64",
         "type": "float"
        },
        {
         "name": "ibu",
         "rawType": "float64",
         "type": "float"
        },
        {
         "name": "id",
         "rawType": "float64",
         "type": "float"
        },
        {
         "name": "brewery_id",
         "rawType": "float64",
         "type": "float"
        },
        {
         "name": "ounces",
         "rawType": "float64",
         "type": "float"
        }
       ],
       "conversionMethod": "pd.DataFrame",
       "ref": "3b57164e-be84-47f1-98ff-1e088e12a5e6",
       "rows": [
        [
         "count",
         "2348.0",
         "1405.0",
         "2410.0",
         "2410.0",
         "2410.0"
        ],
        [
         "mean",
         "0.05977342419080067",
         "42.71316725978647",
         "1431.1132780082987",
         "231.74979253112033",
         "13.592240663900414"
        ],
        [
         "std",
         "0.013541733716680264",
         "25.954065911259317",
         "752.4599745599074",
         "157.68560410041619",
         "2.3522036778603734"
        ],
        [
         "min",
         "0.001",
         "4.0",
         "1.0",
         "0.0",
         "8.4"
        ],
        [
         "25%",
         "0.05",
         "21.0",
         "808.25",
         "93.0",
         "12.0"
        ],
        [
         "50%",
         "0.0559999999999999",
         "35.0",
         "1453.5",
         "205.0",
         "12.0"
        ],
        [
         "75%",
         "0.067",
         "64.0",
         "2075.75",
         "366.0",
         "16.0"
        ],
        [
         "max",
         "0.128",
         "138.0",
         "2692.0",
         "557.0",
         "32.0"
        ]
       ],
       "shape": {
        "columns": 5,
        "rows": 8
       }
      },
      "text/html": [
       "<div>\n",
       "<style scoped>\n",
       "    .dataframe tbody tr th:only-of-type {\n",
       "        vertical-align: middle;\n",
       "    }\n",
       "\n",
       "    .dataframe tbody tr th {\n",
       "        vertical-align: top;\n",
       "    }\n",
       "\n",
       "    .dataframe thead th {\n",
       "        text-align: right;\n",
       "    }\n",
       "</style>\n",
       "<table border=\"1\" class=\"dataframe\">\n",
       "  <thead>\n",
       "    <tr style=\"text-align: right;\">\n",
       "      <th></th>\n",
       "      <th>abv</th>\n",
       "      <th>ibu</th>\n",
       "      <th>id</th>\n",
       "      <th>brewery_id</th>\n",
       "      <th>ounces</th>\n",
       "    </tr>\n",
       "  </thead>\n",
       "  <tbody>\n",
       "    <tr>\n",
       "      <th>count</th>\n",
       "      <td>2348.000000</td>\n",
       "      <td>1405.000000</td>\n",
       "      <td>2410.000000</td>\n",
       "      <td>2410.000000</td>\n",
       "      <td>2410.000000</td>\n",
       "    </tr>\n",
       "    <tr>\n",
       "      <th>mean</th>\n",
       "      <td>0.059773</td>\n",
       "      <td>42.713167</td>\n",
       "      <td>1431.113278</td>\n",
       "      <td>231.749793</td>\n",
       "      <td>13.592241</td>\n",
       "    </tr>\n",
       "    <tr>\n",
       "      <th>std</th>\n",
       "      <td>0.013542</td>\n",
       "      <td>25.954066</td>\n",
       "      <td>752.459975</td>\n",
       "      <td>157.685604</td>\n",
       "      <td>2.352204</td>\n",
       "    </tr>\n",
       "    <tr>\n",
       "      <th>min</th>\n",
       "      <td>0.001000</td>\n",
       "      <td>4.000000</td>\n",
       "      <td>1.000000</td>\n",
       "      <td>0.000000</td>\n",
       "      <td>8.400000</td>\n",
       "    </tr>\n",
       "    <tr>\n",
       "      <th>25%</th>\n",
       "      <td>0.050000</td>\n",
       "      <td>21.000000</td>\n",
       "      <td>808.250000</td>\n",
       "      <td>93.000000</td>\n",
       "      <td>12.000000</td>\n",
       "    </tr>\n",
       "    <tr>\n",
       "      <th>50%</th>\n",
       "      <td>0.056000</td>\n",
       "      <td>35.000000</td>\n",
       "      <td>1453.500000</td>\n",
       "      <td>205.000000</td>\n",
       "      <td>12.000000</td>\n",
       "    </tr>\n",
       "    <tr>\n",
       "      <th>75%</th>\n",
       "      <td>0.067000</td>\n",
       "      <td>64.000000</td>\n",
       "      <td>2075.750000</td>\n",
       "      <td>366.000000</td>\n",
       "      <td>16.000000</td>\n",
       "    </tr>\n",
       "    <tr>\n",
       "      <th>max</th>\n",
       "      <td>0.128000</td>\n",
       "      <td>138.000000</td>\n",
       "      <td>2692.000000</td>\n",
       "      <td>557.000000</td>\n",
       "      <td>32.000000</td>\n",
       "    </tr>\n",
       "  </tbody>\n",
       "</table>\n",
       "</div>"
      ],
      "text/plain": [
       "               abv          ibu           id   brewery_id       ounces\n",
       "count  2348.000000  1405.000000  2410.000000  2410.000000  2410.000000\n",
       "mean      0.059773    42.713167  1431.113278   231.749793    13.592241\n",
       "std       0.013542    25.954066   752.459975   157.685604     2.352204\n",
       "min       0.001000     4.000000     1.000000     0.000000     8.400000\n",
       "25%       0.050000    21.000000   808.250000    93.000000    12.000000\n",
       "50%       0.056000    35.000000  1453.500000   205.000000    12.000000\n",
       "75%       0.067000    64.000000  2075.750000   366.000000    16.000000\n",
       "max       0.128000   138.000000  2692.000000   557.000000    32.000000"
      ]
     },
     "execution_count": 264,
     "metadata": {},
     "output_type": "execute_result"
    }
   ],
   "source": [
    "beer_resumen = beer.describe()\n",
    "beer_resumen\n",
    "\n",
    "# count,suma total devalores que no sean nulos \n",
    "# std = desviación estandar"
   ]
  },
  {
   "attachments": {},
   "cell_type": "markdown",
   "metadata": {},
   "source": [
    "## Ejercicio 7\n",
    "¿Cuántas birras hay de cada estilo en este dataset? [Investiga en la documentación de Series](https://pandas.pydata.org/pandas-docs/stable/reference/api/pandas.Series.html) si puedes hacer un conteo de valores."
   ]
  },
  {
   "cell_type": "code",
   "execution_count": 265,
   "metadata": {},
   "outputs": [
    {
     "data": {
      "text/plain": [
       "0                  American Pale Lager\n",
       "1              American Pale Ale (APA)\n",
       "2                         American IPA\n",
       "3       American Double / Imperial IPA\n",
       "4                         American IPA\n",
       "                     ...              \n",
       "2405                       Belgian IPA\n",
       "2406          American Amber / Red Ale\n",
       "2407                       Schwarzbier\n",
       "2408           American Pale Ale (APA)\n",
       "2409          American Amber / Red Ale\n",
       "Name: style, Length: 2410, dtype: object"
      ]
     },
     "execution_count": 265,
     "metadata": {},
     "output_type": "execute_result"
    }
   ],
   "source": [
    "beer[\"style\"]"
   ]
  },
  {
   "cell_type": "code",
   "execution_count": 266,
   "metadata": {},
   "outputs": [
    {
     "data": {
      "text/plain": [
       "style\n",
       "American IPA                      424\n",
       "American Pale Ale (APA)           245\n",
       "American Amber / Red Ale          133\n",
       "American Blonde Ale               108\n",
       "American Double / Imperial IPA    105\n",
       "                                 ... \n",
       "Wheat Ale                           1\n",
       "Grisette                            1\n",
       "Flanders Oud Bruin                  1\n",
       "Braggot                             1\n",
       "Low Alcohol Beer                    1\n",
       "Name: count, Length: 99, dtype: int64"
      ]
     },
     "execution_count": 266,
     "metadata": {},
     "output_type": "execute_result"
    }
   ],
   "source": [
    "conteo_estilos = beer[\"style\"].value_counts()\n",
    "\n",
    "conteo_estilos"
   ]
  },
  {
   "cell_type": "code",
   "execution_count": 267,
   "metadata": {},
   "outputs": [
    {
     "data": {
      "text/plain": [
       "\" # Tengo dudas en esta parte\\nstyles = pd.Series(['IPA', 'Lager', 'Stout', 'IPA', 'Pilsner', 'Lager', 'IPA'])\\n\\n# Para contar las ocurrencias de cada estilo\\nconteo_estilos = styles.value_counts()\\n\\nprint(conteo_estilos) \""
      ]
     },
     "execution_count": 267,
     "metadata": {},
     "output_type": "execute_result"
    }
   ],
   "source": [
    "\n",
    "\n",
    "\"\"\" # Tengo dudas en esta parte\n",
    "styles = pd.Series(['IPA', 'Lager', 'Stout', 'IPA', 'Pilsner', 'Lager', 'IPA'])\n",
    "\n",
    "# Para contar las ocurrencias de cada estilo\n",
    "conteo_estilos = styles.value_counts()\n",
    "\n",
    "print(conteo_estilos) \"\"\"\n"
   ]
  },
  {
   "cell_type": "code",
   "execution_count": 268,
   "metadata": {},
   "outputs": [
    {
     "data": {
      "text/plain": [
       "0                American Pale Lager\n",
       "1            American Pale Ale (APA)\n",
       "2                       American IPA\n",
       "3     American Double / Imperial IPA\n",
       "4                      Oatmeal Stout\n",
       "                   ...              \n",
       "95                        Chile Beer\n",
       "96                          Grisette\n",
       "97                Flanders Oud Bruin\n",
       "98                           Braggot\n",
       "99                  Low Alcohol Beer\n",
       "Length: 100, dtype: object"
      ]
     },
     "execution_count": 268,
     "metadata": {},
     "output_type": "execute_result"
    }
   ],
   "source": [
    "estilos_unicos = pd.Series(beer[\"style\"].unique())\n",
    "estilos_unicos"
   ]
  },
  {
   "cell_type": "code",
   "execution_count": 269,
   "metadata": {},
   "outputs": [
    {
     "name": "stdout",
     "output_type": "stream",
     "text": [
      "style\n",
      "American IPA                      424\n",
      "American Pale Ale (APA)           245\n",
      "American Amber / Red Ale          133\n",
      "American Blonde Ale               108\n",
      "American Double / Imperial IPA    105\n",
      "                                 ... \n",
      "Wheat Ale                           1\n",
      "Grisette                            1\n",
      "Flanders Oud Bruin                  1\n",
      "Braggot                             1\n",
      "Low Alcohol Beer                    1\n",
      "Name: count, Length: 99, dtype: int64\n"
     ]
    }
   ],
   "source": [
    "# Contar las ocurrencias de cada estilo directamente desde la columna 'styles'\n",
    "conteo_estilos = beer[\"style\"].value_counts()\n",
    "\n",
    "print(conteo_estilos)\n"
   ]
  },
  {
   "cell_type": "code",
   "execution_count": 270,
   "metadata": {},
   "outputs": [
    {
     "data": {
      "text/plain": [
       "style\n",
       "Abbey Single Ale                2\n",
       "Altbier                        13\n",
       "American Adjunct Lager         18\n",
       "American Amber / Red Ale      133\n",
       "American Amber / Red Lager     29\n",
       "                             ... \n",
       "Tripel                         11\n",
       "Vienna Lager                   20\n",
       "Wheat Ale                       1\n",
       "Winter Warmer                  15\n",
       "Witbier                        51\n",
       "Name: name, Length: 99, dtype: int64"
      ]
     },
     "execution_count": 270,
     "metadata": {},
     "output_type": "execute_result"
    }
   ],
   "source": [
    "\n",
    "beer.groupby(\"style\")[\"name\"].count()"
   ]
  },
  {
   "attachments": {},
   "cell_type": "markdown",
   "metadata": {},
   "source": [
    "## Ejercicio 8\n",
    "1. Imprime por pantalla los registros desde el décimo hasta el vigésimo\n",
    "2. De esos registros, imprime por pantalla desde la columna `name` a `ounces`, ambas incluidas\n",
    "3. Quédate con las columnas `abv`, `ibu` y `ounces`, y además quédate sólo con los registros 10 al 20.\n",
    "4. Convierte el resultado del apartado 3 en un array de `numpy`"
   ]
  },
  {
   "cell_type": "code",
   "execution_count": 271,
   "metadata": {},
   "outputs": [
    {
     "data": {
      "application/vnd.microsoft.datawrangler.viewer.v0+json": {
       "columns": [
        {
         "name": "index",
         "rawType": "int64",
         "type": "integer"
        },
        {
         "name": "abv",
         "rawType": "float64",
         "type": "float"
        },
        {
         "name": "ibu",
         "rawType": "float64",
         "type": "float"
        },
        {
         "name": "id",
         "rawType": "int64",
         "type": "integer"
        },
        {
         "name": "name",
         "rawType": "object",
         "type": "string"
        },
        {
         "name": "style",
         "rawType": "object",
         "type": "string"
        },
        {
         "name": "brewery_id",
         "rawType": "int64",
         "type": "integer"
        },
        {
         "name": "ounces",
         "rawType": "float64",
         "type": "float"
        }
       ],
       "conversionMethod": "pd.DataFrame",
       "ref": "5a73d727-60f1-4e44-a9c2-7971adf50ff7",
       "rows": [
        [
         "10",
         "0.072",
         null,
         "2099",
         "Sophomoric Saison",
         "Saison / Farmhouse Ale",
         "177",
         "12.0"
        ],
        [
         "11",
         "0.073",
         null,
         "2098",
         "Regional Ring Of Fire",
         "Saison / Farmhouse Ale",
         "177",
         "12.0"
        ],
        [
         "12",
         "0.069",
         null,
         "2097",
         "Garce Selé",
         "Saison / Farmhouse Ale",
         "177",
         "12.0"
        ],
        [
         "13",
         "0.085",
         null,
         "1980",
         "Troll Destroyer",
         "Belgian IPA",
         "177",
         "12.0"
        ],
        [
         "14",
         "0.061",
         "60.0",
         "1979",
         "Bitter Bitch",
         "American Pale Ale (APA)",
         "177",
         "12.0"
        ],
        [
         "15",
         "0.06",
         null,
         "2318",
         "Ginja Ninja",
         "Cider",
         "154",
         "12.0"
        ],
        [
         "16",
         "0.06",
         null,
         "2170",
         "Cherried Away",
         "Cider",
         "154",
         "12.0"
        ],
        [
         "17",
         "0.06",
         null,
         "2169",
         "Rhubarbarian",
         "Cider",
         "154",
         "12.0"
        ],
        [
         "18",
         "0.06",
         null,
         "1502",
         "BrightCider",
         "Cider",
         "154",
         "12.0"
        ],
        [
         "19",
         "0.0819999999999999",
         null,
         "1593",
         "He Said Baltic-Style Porter",
         "Baltic Porter",
         "368",
         "12.0"
        ],
        [
         "20",
         "0.0819999999999999",
         null,
         "1592",
         "He Said Belgian-Style Tripel",
         "Tripel",
         "368",
         "12.0"
        ],
        [
         "21",
         "0.099",
         "92.0",
         "1036",
         "Lower De Boom",
         "American Barleywine",
         "368",
         "8.4"
        ]
       ],
       "shape": {
        "columns": 7,
        "rows": 12
       }
      },
      "text/html": [
       "<div>\n",
       "<style scoped>\n",
       "    .dataframe tbody tr th:only-of-type {\n",
       "        vertical-align: middle;\n",
       "    }\n",
       "\n",
       "    .dataframe tbody tr th {\n",
       "        vertical-align: top;\n",
       "    }\n",
       "\n",
       "    .dataframe thead th {\n",
       "        text-align: right;\n",
       "    }\n",
       "</style>\n",
       "<table border=\"1\" class=\"dataframe\">\n",
       "  <thead>\n",
       "    <tr style=\"text-align: right;\">\n",
       "      <th></th>\n",
       "      <th>abv</th>\n",
       "      <th>ibu</th>\n",
       "      <th>id</th>\n",
       "      <th>name</th>\n",
       "      <th>style</th>\n",
       "      <th>brewery_id</th>\n",
       "      <th>ounces</th>\n",
       "    </tr>\n",
       "  </thead>\n",
       "  <tbody>\n",
       "    <tr>\n",
       "      <th>10</th>\n",
       "      <td>0.072</td>\n",
       "      <td>NaN</td>\n",
       "      <td>2099</td>\n",
       "      <td>Sophomoric Saison</td>\n",
       "      <td>Saison / Farmhouse Ale</td>\n",
       "      <td>177</td>\n",
       "      <td>12.0</td>\n",
       "    </tr>\n",
       "    <tr>\n",
       "      <th>11</th>\n",
       "      <td>0.073</td>\n",
       "      <td>NaN</td>\n",
       "      <td>2098</td>\n",
       "      <td>Regional Ring Of Fire</td>\n",
       "      <td>Saison / Farmhouse Ale</td>\n",
       "      <td>177</td>\n",
       "      <td>12.0</td>\n",
       "    </tr>\n",
       "    <tr>\n",
       "      <th>12</th>\n",
       "      <td>0.069</td>\n",
       "      <td>NaN</td>\n",
       "      <td>2097</td>\n",
       "      <td>Garce Selé</td>\n",
       "      <td>Saison / Farmhouse Ale</td>\n",
       "      <td>177</td>\n",
       "      <td>12.0</td>\n",
       "    </tr>\n",
       "    <tr>\n",
       "      <th>13</th>\n",
       "      <td>0.085</td>\n",
       "      <td>NaN</td>\n",
       "      <td>1980</td>\n",
       "      <td>Troll Destroyer</td>\n",
       "      <td>Belgian IPA</td>\n",
       "      <td>177</td>\n",
       "      <td>12.0</td>\n",
       "    </tr>\n",
       "    <tr>\n",
       "      <th>14</th>\n",
       "      <td>0.061</td>\n",
       "      <td>60.0</td>\n",
       "      <td>1979</td>\n",
       "      <td>Bitter Bitch</td>\n",
       "      <td>American Pale Ale (APA)</td>\n",
       "      <td>177</td>\n",
       "      <td>12.0</td>\n",
       "    </tr>\n",
       "    <tr>\n",
       "      <th>15</th>\n",
       "      <td>0.060</td>\n",
       "      <td>NaN</td>\n",
       "      <td>2318</td>\n",
       "      <td>Ginja Ninja</td>\n",
       "      <td>Cider</td>\n",
       "      <td>154</td>\n",
       "      <td>12.0</td>\n",
       "    </tr>\n",
       "    <tr>\n",
       "      <th>16</th>\n",
       "      <td>0.060</td>\n",
       "      <td>NaN</td>\n",
       "      <td>2170</td>\n",
       "      <td>Cherried Away</td>\n",
       "      <td>Cider</td>\n",
       "      <td>154</td>\n",
       "      <td>12.0</td>\n",
       "    </tr>\n",
       "    <tr>\n",
       "      <th>17</th>\n",
       "      <td>0.060</td>\n",
       "      <td>NaN</td>\n",
       "      <td>2169</td>\n",
       "      <td>Rhubarbarian</td>\n",
       "      <td>Cider</td>\n",
       "      <td>154</td>\n",
       "      <td>12.0</td>\n",
       "    </tr>\n",
       "    <tr>\n",
       "      <th>18</th>\n",
       "      <td>0.060</td>\n",
       "      <td>NaN</td>\n",
       "      <td>1502</td>\n",
       "      <td>BrightCider</td>\n",
       "      <td>Cider</td>\n",
       "      <td>154</td>\n",
       "      <td>12.0</td>\n",
       "    </tr>\n",
       "    <tr>\n",
       "      <th>19</th>\n",
       "      <td>0.082</td>\n",
       "      <td>NaN</td>\n",
       "      <td>1593</td>\n",
       "      <td>He Said Baltic-Style Porter</td>\n",
       "      <td>Baltic Porter</td>\n",
       "      <td>368</td>\n",
       "      <td>12.0</td>\n",
       "    </tr>\n",
       "    <tr>\n",
       "      <th>20</th>\n",
       "      <td>0.082</td>\n",
       "      <td>NaN</td>\n",
       "      <td>1592</td>\n",
       "      <td>He Said Belgian-Style Tripel</td>\n",
       "      <td>Tripel</td>\n",
       "      <td>368</td>\n",
       "      <td>12.0</td>\n",
       "    </tr>\n",
       "    <tr>\n",
       "      <th>21</th>\n",
       "      <td>0.099</td>\n",
       "      <td>92.0</td>\n",
       "      <td>1036</td>\n",
       "      <td>Lower De Boom</td>\n",
       "      <td>American Barleywine</td>\n",
       "      <td>368</td>\n",
       "      <td>8.4</td>\n",
       "    </tr>\n",
       "  </tbody>\n",
       "</table>\n",
       "</div>"
      ],
      "text/plain": [
       "      abv   ibu    id                          name                    style  \\\n",
       "10  0.072   NaN  2099             Sophomoric Saison   Saison / Farmhouse Ale   \n",
       "11  0.073   NaN  2098         Regional Ring Of Fire   Saison / Farmhouse Ale   \n",
       "12  0.069   NaN  2097                    Garce Selé   Saison / Farmhouse Ale   \n",
       "13  0.085   NaN  1980               Troll Destroyer              Belgian IPA   \n",
       "14  0.061  60.0  1979                  Bitter Bitch  American Pale Ale (APA)   \n",
       "15  0.060   NaN  2318                   Ginja Ninja                    Cider   \n",
       "16  0.060   NaN  2170                 Cherried Away                    Cider   \n",
       "17  0.060   NaN  2169                  Rhubarbarian                    Cider   \n",
       "18  0.060   NaN  1502                   BrightCider                    Cider   \n",
       "19  0.082   NaN  1593   He Said Baltic-Style Porter            Baltic Porter   \n",
       "20  0.082   NaN  1592  He Said Belgian-Style Tripel                   Tripel   \n",
       "21  0.099  92.0  1036                 Lower De Boom      American Barleywine   \n",
       "\n",
       "    brewery_id  ounces  \n",
       "10         177    12.0  \n",
       "11         177    12.0  \n",
       "12         177    12.0  \n",
       "13         177    12.0  \n",
       "14         177    12.0  \n",
       "15         154    12.0  \n",
       "16         154    12.0  \n",
       "17         154    12.0  \n",
       "18         154    12.0  \n",
       "19         368    12.0  \n",
       "20         368    12.0  \n",
       "21         368     8.4  "
      ]
     },
     "execution_count": 271,
     "metadata": {},
     "output_type": "execute_result"
    }
   ],
   "source": [
    "# 1 registros desde el décimo hasta el vigésimo\n",
    "\n",
    "registros = beer.loc[10:21]\n",
    "registros"
   ]
  },
  {
   "cell_type": "code",
   "execution_count": 272,
   "metadata": {},
   "outputs": [
    {
     "data": {
      "application/vnd.microsoft.datawrangler.viewer.v0+json": {
       "columns": [
        {
         "name": "index",
         "rawType": "int64",
         "type": "integer"
        },
        {
         "name": "name",
         "rawType": "object",
         "type": "string"
        },
        {
         "name": "style",
         "rawType": "object",
         "type": "string"
        },
        {
         "name": "ounces",
         "rawType": "float64",
         "type": "float"
        }
       ],
       "conversionMethod": "pd.DataFrame",
       "ref": "af4dd7a6-15da-4372-b680-a49e4b4e49a0",
       "rows": [
        [
         "9",
         "Cone Crusher",
         "American Double / Imperial IPA",
         "12.0"
        ],
        [
         "10",
         "Sophomoric Saison",
         "Saison / Farmhouse Ale",
         "12.0"
        ],
        [
         "11",
         "Regional Ring Of Fire",
         "Saison / Farmhouse Ale",
         "12.0"
        ],
        [
         "12",
         "Garce Selé",
         "Saison / Farmhouse Ale",
         "12.0"
        ],
        [
         "13",
         "Troll Destroyer",
         "Belgian IPA",
         "12.0"
        ],
        [
         "14",
         "Bitter Bitch",
         "American Pale Ale (APA)",
         "12.0"
        ],
        [
         "15",
         "Ginja Ninja",
         "Cider",
         "12.0"
        ],
        [
         "16",
         "Cherried Away",
         "Cider",
         "12.0"
        ],
        [
         "17",
         "Rhubarbarian",
         "Cider",
         "12.0"
        ],
        [
         "18",
         "BrightCider",
         "Cider",
         "12.0"
        ],
        [
         "19",
         "He Said Baltic-Style Porter",
         "Baltic Porter",
         "12.0"
        ],
        [
         "20",
         "He Said Belgian-Style Tripel",
         "Tripel",
         "12.0"
        ]
       ],
       "shape": {
        "columns": 3,
        "rows": 12
       }
      },
      "text/html": [
       "<div>\n",
       "<style scoped>\n",
       "    .dataframe tbody tr th:only-of-type {\n",
       "        vertical-align: middle;\n",
       "    }\n",
       "\n",
       "    .dataframe tbody tr th {\n",
       "        vertical-align: top;\n",
       "    }\n",
       "\n",
       "    .dataframe thead th {\n",
       "        text-align: right;\n",
       "    }\n",
       "</style>\n",
       "<table border=\"1\" class=\"dataframe\">\n",
       "  <thead>\n",
       "    <tr style=\"text-align: right;\">\n",
       "      <th></th>\n",
       "      <th>name</th>\n",
       "      <th>style</th>\n",
       "      <th>ounces</th>\n",
       "    </tr>\n",
       "  </thead>\n",
       "  <tbody>\n",
       "    <tr>\n",
       "      <th>9</th>\n",
       "      <td>Cone Crusher</td>\n",
       "      <td>American Double / Imperial IPA</td>\n",
       "      <td>12.0</td>\n",
       "    </tr>\n",
       "    <tr>\n",
       "      <th>10</th>\n",
       "      <td>Sophomoric Saison</td>\n",
       "      <td>Saison / Farmhouse Ale</td>\n",
       "      <td>12.0</td>\n",
       "    </tr>\n",
       "    <tr>\n",
       "      <th>11</th>\n",
       "      <td>Regional Ring Of Fire</td>\n",
       "      <td>Saison / Farmhouse Ale</td>\n",
       "      <td>12.0</td>\n",
       "    </tr>\n",
       "    <tr>\n",
       "      <th>12</th>\n",
       "      <td>Garce Selé</td>\n",
       "      <td>Saison / Farmhouse Ale</td>\n",
       "      <td>12.0</td>\n",
       "    </tr>\n",
       "    <tr>\n",
       "      <th>13</th>\n",
       "      <td>Troll Destroyer</td>\n",
       "      <td>Belgian IPA</td>\n",
       "      <td>12.0</td>\n",
       "    </tr>\n",
       "    <tr>\n",
       "      <th>14</th>\n",
       "      <td>Bitter Bitch</td>\n",
       "      <td>American Pale Ale (APA)</td>\n",
       "      <td>12.0</td>\n",
       "    </tr>\n",
       "    <tr>\n",
       "      <th>15</th>\n",
       "      <td>Ginja Ninja</td>\n",
       "      <td>Cider</td>\n",
       "      <td>12.0</td>\n",
       "    </tr>\n",
       "    <tr>\n",
       "      <th>16</th>\n",
       "      <td>Cherried Away</td>\n",
       "      <td>Cider</td>\n",
       "      <td>12.0</td>\n",
       "    </tr>\n",
       "    <tr>\n",
       "      <th>17</th>\n",
       "      <td>Rhubarbarian</td>\n",
       "      <td>Cider</td>\n",
       "      <td>12.0</td>\n",
       "    </tr>\n",
       "    <tr>\n",
       "      <th>18</th>\n",
       "      <td>BrightCider</td>\n",
       "      <td>Cider</td>\n",
       "      <td>12.0</td>\n",
       "    </tr>\n",
       "    <tr>\n",
       "      <th>19</th>\n",
       "      <td>He Said Baltic-Style Porter</td>\n",
       "      <td>Baltic Porter</td>\n",
       "      <td>12.0</td>\n",
       "    </tr>\n",
       "    <tr>\n",
       "      <th>20</th>\n",
       "      <td>He Said Belgian-Style Tripel</td>\n",
       "      <td>Tripel</td>\n",
       "      <td>12.0</td>\n",
       "    </tr>\n",
       "  </tbody>\n",
       "</table>\n",
       "</div>"
      ],
      "text/plain": [
       "                            name                           style  ounces\n",
       "9                   Cone Crusher  American Double / Imperial IPA    12.0\n",
       "10             Sophomoric Saison          Saison / Farmhouse Ale    12.0\n",
       "11         Regional Ring Of Fire          Saison / Farmhouse Ale    12.0\n",
       "12                    Garce Selé          Saison / Farmhouse Ale    12.0\n",
       "13               Troll Destroyer                     Belgian IPA    12.0\n",
       "14                  Bitter Bitch         American Pale Ale (APA)    12.0\n",
       "15                   Ginja Ninja                           Cider    12.0\n",
       "16                 Cherried Away                           Cider    12.0\n",
       "17                  Rhubarbarian                           Cider    12.0\n",
       "18                   BrightCider                           Cider    12.0\n",
       "19   He Said Baltic-Style Porter                   Baltic Porter    12.0\n",
       "20  He Said Belgian-Style Tripel                          Tripel    12.0"
      ]
     },
     "execution_count": 272,
     "metadata": {},
     "output_type": "execute_result"
    }
   ],
   "source": [
    "registros  = beer.loc[9:20][['name', 'style', 'ounces']]\n",
    "\n",
    "registros"
   ]
  },
  {
   "cell_type": "code",
   "execution_count": 273,
   "metadata": {},
   "outputs": [
    {
     "data": {
      "text/plain": [
       "array([['Cone Crusher', 'American Double / Imperial IPA', 12.0],\n",
       "       ['Sophomoric Saison', 'Saison / Farmhouse Ale', 12.0],\n",
       "       ['Regional Ring Of Fire', 'Saison / Farmhouse Ale', 12.0],\n",
       "       ['Garce Selé', 'Saison / Farmhouse Ale', 12.0],\n",
       "       ['Troll Destroyer', 'Belgian IPA', 12.0],\n",
       "       ['Bitter Bitch', 'American Pale Ale (APA)', 12.0],\n",
       "       ['Ginja Ninja', 'Cider', 12.0],\n",
       "       ['Cherried Away', 'Cider', 12.0],\n",
       "       ['Rhubarbarian', 'Cider', 12.0],\n",
       "       ['BrightCider', 'Cider', 12.0],\n",
       "       ['He Said Baltic-Style Porter', 'Baltic Porter', 12.0],\n",
       "       ['He Said Belgian-Style Tripel', 'Tripel', 12.0]], dtype=object)"
      ]
     },
     "execution_count": 273,
     "metadata": {},
     "output_type": "execute_result"
    }
   ],
   "source": [
    "registros_n = registros.to_numpy()\n",
    "registros_n"
   ]
  },
  {
   "attachments": {},
   "cell_type": "markdown",
   "metadata": {},
   "source": [
    "## Ejercicio 9\n",
    "¿Cuántas onzas pesan todas las birras del dataset?"
   ]
  },
  {
   "cell_type": "code",
   "execution_count": 274,
   "metadata": {},
   "outputs": [
    {
     "name": "stdout",
     "output_type": "stream",
     "text": [
      "El total de onzas de todas las birras es: 32757.3\n"
     ]
    }
   ],
   "source": [
    "total_onzas = beer[\"ounces\"].sum()\n",
    "\n",
    "print(f\"El total de onzas de todas las birras es: {total_onzas}\")"
   ]
  },
  {
   "attachments": {},
   "cell_type": "markdown",
   "metadata": {},
   "source": [
    "## Ejercicio 10\n",
    "El amargor de las cervezas se mide por su nivel de IBUs.\n",
    "1. ¿Cuál es el amargor medio de las cervezas?\n",
    "2. ¿El máximo? ¿Y el mínimo?\n",
    "3. ¿Qué cerveza es la que tiene el amargor máximo? ¿Cuál es la de amargor mínimo?"
   ]
  },
  {
   "cell_type": "code",
   "execution_count": 275,
   "metadata": {},
   "outputs": [
    {
     "name": "stdout",
     "output_type": "stream",
     "text": [
      "El promedio de IBUs de todas las cervezas es: 42.71\n",
      "El valor máximo de IBU es: 138.0\n",
      "El valor mínimo de IBU es: 4.0\n",
      "La cerveza con el amargor máximo es: Bitter Bitch Imperial IPA con 138.0 IBU\n",
      "La cerveza con el amargor mínimo es: Summer Solstice con 4.0 IBU\n"
     ]
    }
   ],
   "source": [
    "# 1 amargaor medio, lo hacemos con mean\n",
    "\n",
    "promedio_ibu = beer[\"ibu\"].mean().round(2)\n",
    "\n",
    "print(f\"El promedio de IBUs de todas las cervezas es: {promedio_ibu}\")\n",
    "\n",
    "# Obtener el valor máximo de IBUs, con max\n",
    "max_ibu = beer[\"ibu\"].max()\n",
    "\n",
    "# Obtener el valor mínimo de IBUs, con min\n",
    "min_ibu = beer[\"ibu\"].min()\n",
    "\n",
    "print(f\"El valor máximo de IBU es: {max_ibu}\")\n",
    "print(f\"El valor mínimo de IBU es: {min_ibu}\")\n",
    "\n",
    "# que cerveza tiene el amargor mmáximo y amargor mínimo\n",
    "# Buscamos el índice de la cerveza con el amargor máximo\n",
    "indice_max_ibu = beer[\"ibu\"].idxmax()\n",
    "\n",
    "# Buscamos el índice de la cerveza con el amargor mínimo\n",
    "indice_min_ibu = beer[\"ibu\"].idxmin()\n",
    "\n",
    "# Con loc \n",
    "cerveza_max_ibu = beer.loc[indice_max_ibu]\n",
    "cerveza_min_ibu = beer.loc[indice_min_ibu]\n",
    "\n",
    "print(f\"La cerveza con el amargor máximo es: {cerveza_max_ibu['name']} con {cerveza_max_ibu['ibu']} IBU\")\n",
    "print(f\"La cerveza con el amargor mínimo es: {cerveza_min_ibu['name']} con {cerveza_min_ibu['ibu']} IBU\")\n"
   ]
  },
  {
   "attachments": {},
   "cell_type": "markdown",
   "metadata": {},
   "source": [
    "## Ejercicio 11\n",
    "No queda muy claro cuánto de dispar, de dispersa, es la medida de IBU. Mediante estadística descriptiva (una o dos métricas, sin gráficas), razona la dispersión de la variable IBU."
   ]
  },
  {
   "cell_type": "code",
   "execution_count": 276,
   "metadata": {},
   "outputs": [
    {
     "name": "stdout",
     "output_type": "stream",
     "text": [
      "Desviación estándar de IBU: 25.95\n",
      "Rango intercuartílico (IQR) de IBU: 43.0\n"
     ]
    },
    {
     "data": {
      "text/plain": [
       "<Axes: >"
      ]
     },
     "execution_count": 276,
     "metadata": {},
     "output_type": "execute_result"
    },
    {
     "data": {
      "image/png": "[encoded data removed]",
      "text/plain": [
       "<Figure size 640x480 with 1 Axes>"
      ]
     },
     "metadata": {},
     "output_type": "display_data"
    }
   ],
   "source": [
    "# Desviación estándar (std): Mide la cantidad de variabilidad o dispersión de los datos respecto a la media.\n",
    "# Cuanto mayor sea la desviación estándar, más dispersos están los datos.\n",
    "\n",
    "# Rango intercuartílico (IQR): Es la diferencia entre el percentil 75 (Q3) y el percentil 25 (Q1).\n",
    "# Este valor mide la dispersión del 50% central de los datos y es menos sensible a valores extremos o outliers.\n",
    "\n",
    "# primero medi y mediana\n",
    "mean = beer[\"ibu\"].mean().round(1)\n",
    "median = beer[\"ibu\"].median().round(1)\n",
    "\n",
    "# Desviación estándar de la columna 'ibu'\n",
    "std_ibu = beer['ibu'].std().round(2)\n",
    "\n",
    "# Rango intercuartílico (IQR) de la columna 'ibu'\n",
    "iqr_ibu = beer['ibu'].quantile(0.75) - beer['ibu'].quantile(0.25)\n",
    "\n",
    "# Mostrar los resultados\n",
    "print(f'Desviación estándar de IBU: {std_ibu}')\n",
    "print(f'Rango intercuartílico (IQR) de IBU: {iqr_ibu}')\n",
    "\n",
    "\n",
    "# Desviación estándar: Si la desviación estándar es alta, esto indica que los valores de IBU están muy dispersos alrededor de la media.\n",
    "# Si la desviación estándar es baja, los valores de IBU están más concentrados alrededor de la media.\n",
    "# Rango intercuartílico (IQR): Un IQR grande indica que los valores de IBU están más dispersos en la parte central de la distribución\n",
    "# (es decir, los 50% de los datos están más alejados entre sí).\n",
    "# Un IQR pequeño indica que los valores centrales de IBU están más concentrados.\n",
    "\n",
    "beer[\"ibu\"].hist()"
   ]
  },
  {
   "cell_type": "code",
   "execution_count": 277,
   "metadata": {},
   "outputs": [
    {
     "data": {
      "text/plain": [
       "count    1405.000000\n",
       "mean       42.713167\n",
       "std        25.954066\n",
       "min         4.000000\n",
       "25%        21.000000\n",
       "50%        35.000000\n",
       "75%        64.000000\n",
       "max       138.000000\n",
       "Name: ibu, dtype: float64"
      ]
     },
     "execution_count": 277,
     "metadata": {},
     "output_type": "execute_result"
    }
   ],
   "source": [
    "beer[\"ibu\"].describe()"
   ]
  },
  {
   "attachments": {},
   "cell_type": "markdown",
   "metadata": {},
   "source": [
    "## Ejercicio 12\n",
    "¿Existe alguna relación lineal entre las variables numéricas del dataset? Intenta pintar este razonamiento mediante un gráfico"
   ]
  },
  {
   "cell_type": "code",
   "execution_count": 278,
   "metadata": {},
   "outputs": [
    {
     "name": "stdout",
     "output_type": "stream",
     "text": [
      "                 abv       ibu        id  brewery_id    ounces\n",
      "abv         1.000000  0.670621  0.042811   -0.098632  0.172529\n",
      "ibu         0.670621  1.000000  0.000485   -0.004875  0.054691\n",
      "id          0.042811  0.000485  1.000000   -0.504030  0.100843\n",
      "brewery_id -0.098632 -0.004875 -0.504030    1.000000 -0.133762\n",
      "ounces      0.172529  0.054691  0.100843   -0.133762  1.000000\n"
     ]
    },
    {
     "data": {
      "image/png": "[encoded data removed]",
      "text/plain": [
       "<Figure size 800x600 with 2 Axes>"
      ]
     },
     "metadata": {},
     "output_type": "display_data"
    }
   ],
   "source": [
    "# Selecciona solo las columnas numéricas\n",
    "beer_numeric = beer.select_dtypes(include=['number'])\n",
    "\n",
    "# calcula la matriz de correlación, que mide la relación entre cada par de variables numéricas en el DataFrame.\n",
    "# La correlación varía entre -1 y 1\n",
    "# Cercano a 1 → Fuerte correlación positiva (si una variable aumenta, la otra también).\n",
    "# Cercano a -1 → Fuerte correlación negativa (si una variable aumenta, la otra disminuye).\n",
    "# Cercano a 0 → No hay relación entre las variables.\n",
    "correlation_matrix = beer_numeric.corr()\n",
    "\n",
    "# Matriz de correlación\n",
    "print(correlation_matrix)\n",
    "\n",
    "# Mapa de calor de la matriz de correlación\n",
    "plt.figure(figsize=(8, 6))  # Tamaño del gráfico\n",
    "sns.heatmap(correlation_matrix, annot=True, cmap='coolwarm', fmt='.2f', linewidths=0.5)\n",
    "\n",
    "# Título y etiquetas\n",
    "plt.title('Matriz de Correlación de las Variables Numéricas')\n",
    "plt.show()\n",
    "\n",
    "# en verdad tendría que coger solo el abv y el ibu (abv (alcohol por volumen) e ibu (amargor))"
   ]
  },
  {
   "cell_type": "markdown",
   "metadata": {},
   "source": [
    "#### Conclusión\n",
    "- El alcohol (abv) y el amargor (ibu) están relacionados. Hay una relación lineal moderada-fuerte entre abv (alcohol por volumen) e ibu.\n",
    "- La relación entre id y brewery_id sugiere una correlación negativa moderada. (-0.50)\n",
    "- Relación entre ounces (tamaño de la cerveza) y abv (alcohol)(0.172529) correlación positiva débil \n",
    "\n",
    "\n",
    "🔹 Relación más fuerte:\n",
    "ABV (Alcohol por Volumen) vs IBU (Índice de Amargor) → 0.67\n",
    "\n",
    "Existe una correlación positiva moderada-alta entre el contenido de alcohol y el amargor.\n",
    "\n",
    "Interpretación: Las cervezas con mayor contenido alcohólico tienden a ser más amargas.\n",
    "\n",
    "Posible explicación: Muchas cervezas más fuertes (como las IPAs) usan más lúpulo, lo que aumenta el IBU.\n",
    "\n",
    "🔹 Otras correlaciones relevantes:\n",
    "ID vs Brewery_ID → -0.50\n",
    "\n",
    "Hay una correlación negativa moderada.\n",
    "\n",
    "Interpretación: A medida que el id de la cerveza aumenta, el brewery_id tiende a disminuir.\n",
    "\n",
    "Posible explicación: Puede haber una asignación inversa de IDs en la base de datos.\n",
    "\n",
    "ABV vs Ounces → 0.17\n",
    "\n",
    "Hay una correlación positiva débil.\n",
    "\n",
    "Interpretación: No hay una fuerte relación entre el tamaño del envase y el contenido de alcohol.\n",
    "\n",
    "🔹 Relaciones sin conexión fuerte:\n",
    "IBU vs Brewery_ID → -0.00\n",
    "\n",
    "No hay relación entre el amargor y la cervecera de origen.\n",
    "\n",
    "Interpretación: Las cerveceras producen cervezas con distintos niveles de amargor sin un patrón definido.\n",
    "\n",
    "ID vs Ounces → 0.10\n",
    "\n",
    "Relación casi nula, por lo que los identificadores no están relacionados con el tamaño del envase.\n",
    "\n",
    "Conclusión general:\n",
    "Sí hay relaciones lineales en el dataset, pero solo en ciertos pares de variables.\n",
    "\n",
    "La correlación más fuerte es entre ABV e IBU, lo cual es esperado en la industria cervecera.\n",
    "\n",
    "No hay una relación clara entre ID, brewery_id y ounces con otras variables, lo que sugiere que estos datos no están relacionados directamente con las características de la cerveza."
   ]
  },
  {
   "cell_type": "code",
   "execution_count": 279,
   "metadata": {},
   "outputs": [
    {
     "data": {
      "image/png": "[encoded data removed]",
      "text/plain": [
       "<Figure size 500x500 with 1 Axes>"
      ]
     },
     "metadata": {},
     "output_type": "display_data"
    }
   ],
   "source": [
    "# Probando otra forma\n",
    "sns.lmplot(x=\"ibu\", y=\"abv\", data=beer, fit_reg=True);\n"
   ]
  },
  {
   "cell_type": "code",
   "execution_count": 280,
   "metadata": {},
   "outputs": [
    {
     "data": {
      "text/plain": [
       "' sns.heatmap(beer_numeric.corr(), values=-1, vmax=-1, center=) '"
      ]
     },
     "execution_count": 280,
     "metadata": {},
     "output_type": "execute_result"
    }
   ],
   "source": [
    "\"\"\" sns.heatmap(beer_numeric.corr(), values=-1, vmax=-1, center=) \"\"\""
   ]
  },
  {
   "attachments": {},
   "cell_type": "markdown",
   "metadata": {},
   "source": [
    "## Ejercicio 13\n",
    "Representa el nivel de alcohol (columna `abv`) en un histograma. ¿Se trata de una distribución simétrica o asimétrica?"
   ]
  },
  {
   "cell_type": "code",
   "execution_count": 281,
   "metadata": {},
   "outputs": [
    {
     "data": {
      "image/png": "[encoded data removed]",
      "text/plain": [
       "<Figure size 640x480 with 1 Axes>"
      ]
     },
     "metadata": {},
     "output_type": "display_data"
    }
   ],
   "source": [
    "plt.hist(beer[\"abv\"], bins=20, color='purple', edgecolor='black')\n",
    "\n",
    "# Agregar título y etiquetas\n",
    "plt.title('Distribución de nivel de alcohol abv')\n",
    "plt.xlabel('abv')\n",
    "plt.ylabel('Frecuencia') \n",
    "plt.grid(axis=\"y\", linestyle = \"--\", alpha=0.7)\n",
    "# Mostrar el gráfico\n",
    "plt.show()"
   ]
  },
  {
   "cell_type": "markdown",
   "metadata": {},
   "source": [
    "##### Asimétrica: El histograma tiene una cola más larga hacia un lado (derecha), está sesgado y es asimétrico. Tiene una asimetría positiva.\n",
    "\n",
    "Conclusión sobre la distribución del nivel de alcohol (abv)\n",
    "Distribución sesgada a la derecha\n",
    "\n",
    "La mayoría de las cervezas tienen un contenido de alcohol (abv) entre 0.04 (4%) y 0.07 (7%).\n",
    "\n",
    "Hay una menor cantidad de cervezas con un abv superior a 0.08 (8%), lo que sugiere que las cervezas de alto contenido alcohólico son menos comunes.\n",
    "\n",
    "Moda y concentración\n",
    "\n",
    "El pico más alto de la distribución (moda) está alrededor del 0.05 - 0.06 (5%-6%), lo que indica que la mayoría de las cervezas en este dataset tienen un contenido alcohólico en este rango.\n",
    "\n",
    "Presencia de valores atípicos\n",
    "\n",
    "Hay pocas cervezas con abv superior a 0.10 (10%), lo que sugiere que las cervezas extremadamente alcohólicas son raras en este conjunto de datos.\n",
    "\n",
    "Interpretación general\n",
    "Este patrón es típico en cervezas comerciales, donde la mayoría se encuentra entre 4%-7% de alcohol.\n"
   ]
  },
  {
   "cell_type": "code",
   "execution_count": 282,
   "metadata": {},
   "outputs": [
    {
     "name": "stdout",
     "output_type": "stream",
     "text": [
      "Coeficiente de asimetría (Skewness) de la columna abv: 0.958\n"
     ]
    }
   ],
   "source": [
    "# Calcular el coeficiente de asimetría para la columna 'abv'\n",
    "skewness_abv = beer['abv'].skew().round(3)\n",
    "\n",
    "print(f'Coeficiente de asimetría (Skewness) de la columna abv: {skewness_abv}')\n"
   ]
  },
  {
   "attachments": {},
   "cell_type": "markdown",
   "metadata": {},
   "source": [
    "## Ejercicio 14\n",
    "Representa mediante un *boxplot* de `seaborn` la variable `abv`"
   ]
  },
  {
   "cell_type": "code",
   "execution_count": 283,
   "metadata": {},
   "outputs": [
    {
     "data": {
      "image/png": "[encoded data removed]",
      "text/plain": [
       "<Figure size 800x600 with 1 Axes>"
      ]
     },
     "metadata": {},
     "output_type": "display_data"
    }
   ],
   "source": [
    "# Crear el boxplot de la variable 'abv'\n",
    "plt.figure(figsize=(8, 6))  # Tamaño del gráfico\n",
    "sns.boxplot(x=beer[\"abv\"], color='lime')\n",
    "\n",
    "# Añadir título y etiquetas\n",
    "plt.title('Boxplot de la variable ABV (Nivel de Alcohol)', fontsize=18)\n",
    "plt.xlabel('ABV', fontsize=12)\n",
    "\n",
    "# Mostrar el gráfico\n",
    "plt.show()"
   ]
  },
  {
   "cell_type": "markdown",
   "metadata": {},
   "source": [
    "Conclusión sobre el Boxplot del nivel de alcohol (ABV)\n",
    "Distribución y Mediana\n",
    "\n",
    "La mediana del ABV se encuentra alrededor de 0.06 (6%), lo que indica que al menos el 50% de las cervezas tienen un nivel de alcohol igual o inferior a este valor.\n",
    "\n",
    "La caja del boxplot (rango intercuartil o IQR) indica que la mayoría de los valores de ABV están concentrados entre aproximadamente 0.05 (5%) y 0.07 (7%).\n",
    "\n",
    "\n",
    "Simetría y Dispersión\n",
    "\n",
    "La distribución parece estar ligeramente sesgada a la derecha, ya que la cola superior es más larga debido a la presencia de cervezas con ABV alto.\n",
    "\n",
    "No hay una dispersión extrema, pero los valores atípicos muestran que algunas cervezas tienen un nivel de alcohol bastante diferente del resto.\n",
    "\n",
    "los bigotes, 1,5 indice intercuartil\n",
    "\n",
    "Conclusión general\n",
    "La mayoría de las cervezas tienen entre 5% y 7% de alcohol, lo que es común en el mercado.\n",
    "\n",
    "Existen algunas cervezas con niveles de alcohol muy altos (>10%), pero son minoría.\n",
    "\n",
    "La distribución está ligeramente sesgada hacia valores altos, lo que significa que hay más cervezas con alto ABV que con bajo ABV."
   ]
  },
  {
   "attachments": {},
   "cell_type": "markdown",
   "metadata": {},
   "source": [
    "## Ejercicio 15\n",
    "1. ¿Qué estilos son los que tienen en media más alcohol?\n",
    "2. ¿Y los estilos que son en media más amargos?"
   ]
  },
  {
   "cell_type": "code",
   "execution_count": 284,
   "metadata": {},
   "outputs": [
    {
     "name": "stdout",
     "output_type": "stream",
     "text": [
      "Estilo con más alcohol en media: English Barleywine (0.11 ABV)\n",
      "Estilo con más amargor en media: American Barleywine (96.00 IBU)\n"
     ]
    }
   ],
   "source": [
    "# Calcular la media de 'abv' y 'ibu' por 'styles'\n",
    "mean_abv_by_style = beer.groupby('style')['abv'].mean()\n",
    "mean_ibu_by_style = beer.groupby('style')['ibu'].mean()\n",
    "\n",
    "# Mostrar los estilos con más alcohol en media\n",
    "most_alcoholic_style = mean_abv_by_style.idxmax()\n",
    "most_alcoholic_value = mean_abv_by_style.max()\n",
    "\n",
    "# Mostrar los estilos con más amargor en media\n",
    "most_bitter_style = mean_ibu_by_style.idxmax()\n",
    "most_bitter_value = mean_ibu_by_style.max()\n",
    "\n",
    "print(f\"Estilo con más alcohol en media: {most_alcoholic_style} ({most_alcoholic_value:.2f} ABV)\")\n",
    "print(f\"Estilo con más amargor en media: {most_bitter_style} ({most_bitter_value:.2f} IBU)\")\n",
    "\n",
    "\n"
   ]
  },
  {
   "cell_type": "code",
   "execution_count": 285,
   "metadata": {},
   "outputs": [
    {
     "data": {
      "text/plain": [
       "style\n",
       "Berliner Weissbier         7.800000\n",
       "Gose                       9.428571\n",
       "American Adjunct Lager    11.000000\n",
       "Light Lager               11.666667\n",
       "Fruit / Vegetable Beer    14.200000\n",
       "                            ...    \n",
       "Kristalweizen                   NaN\n",
       "Low Alcohol Beer                NaN\n",
       "Mead                            NaN\n",
       "Rauchbier                       NaN\n",
       "Shandy                          NaN\n",
       "Name: ibu, Length: 99, dtype: float64"
      ]
     },
     "execution_count": 285,
     "metadata": {},
     "output_type": "execute_result"
    }
   ],
   "source": [
    "ean_abv_by_style = beer.groupby('style')['abv'].mean().sort_values().tail(4)\n",
    "mean_ibu_by_style = beer.groupby('style')['ibu'].mean().sort_values()\n",
    "\n",
    "ean_abv_by_style\n",
    "mean_ibu_by_style"
   ]
  },
  {
   "attachments": {},
   "cell_type": "markdown",
   "metadata": {},
   "source": [
    "## Ejercicio 16\n",
    "Carga el datasets de cervecerias `datasets_breweries.csv`"
   ]
  },
  {
   "cell_type": "code",
   "execution_count": 286,
   "metadata": {},
   "outputs": [
    {
     "data": {
      "application/vnd.microsoft.datawrangler.viewer.v0+json": {
       "columns": [
        {
         "name": "index",
         "rawType": "int64",
         "type": "integer"
        },
        {
         "name": "Unnamed: 0",
         "rawType": "int64",
         "type": "integer"
        },
        {
         "name": "name",
         "rawType": "object",
         "type": "string"
        },
        {
         "name": "city",
         "rawType": "object",
         "type": "string"
        },
        {
         "name": "state",
         "rawType": "object",
         "type": "string"
        }
       ],
       "conversionMethod": "pd.DataFrame",
       "ref": "864fe245-3493-44fd-9312-d1b19f5d99d0",
       "rows": [
        [
         "0",
         "0",
         "NorthGate Brewing ",
         "Minneapolis",
         " MN"
        ],
        [
         "1",
         "1",
         "Against the Grain Brewery",
         "Louisville",
         " KY"
        ],
        [
         "2",
         "2",
         "Jack's Abby Craft Lagers",
         "Framingham",
         " MA"
        ],
        [
         "3",
         "3",
         "Mike Hess Brewing Company",
         "San Diego",
         " CA"
        ],
        [
         "4",
         "4",
         "Fort Point Beer Company",
         "San Francisco",
         " CA"
        ],
        [
         "5",
         "5",
         "COAST Brewing Company",
         "Charleston",
         " SC"
        ],
        [
         "6",
         "6",
         "Great Divide Brewing Company",
         "Denver",
         " CO"
        ],
        [
         "7",
         "7",
         "Tapistry Brewing",
         "Bridgman",
         " MI"
        ],
        [
         "8",
         "8",
         "Big Lake Brewing",
         "Holland",
         " MI"
        ],
        [
         "9",
         "9",
         "The Mitten Brewing Company",
         "Grand Rapids",
         " MI"
        ],
        [
         "10",
         "10",
         "Brewery Vivant",
         "Grand Rapids",
         " MI"
        ],
        [
         "11",
         "11",
         "Petoskey Brewing",
         "Petoskey",
         " MI"
        ],
        [
         "12",
         "12",
         "Blackrocks Brewery",
         "Marquette",
         " MI"
        ],
        [
         "13",
         "13",
         "Perrin Brewing Company",
         "Comstock Park",
         " MI"
        ],
        [
         "14",
         "14",
         "Witch's Hat Brewing Company",
         "South Lyon",
         " MI"
        ],
        [
         "15",
         "15",
         "Founders Brewing Company",
         "Grand Rapids",
         " MI"
        ],
        [
         "16",
         "16",
         "Flat 12 Bierwerks",
         "Indianapolis",
         " IN"
        ],
        [
         "17",
         "17",
         "Tin Man Brewing Company",
         "Evansville",
         " IN"
        ],
        [
         "18",
         "18",
         "Black Acre Brewing Co.",
         "Indianapolis",
         " IN"
        ],
        [
         "19",
         "19",
         "Brew Link Brewing",
         "Plainfield",
         " IN"
        ],
        [
         "20",
         "20",
         "Bare Hands Brewery",
         "Granger",
         " IN"
        ],
        [
         "21",
         "21",
         "Three Pints Brewing",
         "Martinsville",
         " IN"
        ],
        [
         "22",
         "22",
         "Four Fathers Brewing ",
         "Valparaiso",
         " IN"
        ],
        [
         "23",
         "23",
         "Indiana City Brewing",
         "Indianapolis",
         " IN"
        ],
        [
         "24",
         "24",
         "Burn 'Em Brewing",
         "Michigan City",
         " IN"
        ],
        [
         "25",
         "25",
         "Sun King Brewing Company",
         "Indianapolis",
         " IN"
        ],
        [
         "26",
         "26",
         "Evil Czech Brewery",
         "Mishawaka",
         " IN"
        ],
        [
         "27",
         "27",
         "450 North Brewing Company",
         "Columbus",
         " IN"
        ],
        [
         "28",
         "28",
         "Taxman Brewing Company",
         "Bargersville",
         " IN"
        ],
        [
         "29",
         "29",
         "Cedar Creek Brewery",
         "Seven Points",
         " TX"
        ],
        [
         "30",
         "30",
         "SanTan Brewing Company",
         "Chandler",
         " AZ"
        ],
        [
         "31",
         "31",
         "Boulevard Brewing Company",
         "Kansas City",
         " MO"
        ],
        [
         "32",
         "32",
         "James Page Brewing Company",
         "Stevens Point",
         " WI"
        ],
        [
         "33",
         "33",
         "The Dudes' Brewing Company",
         "Torrance",
         " CA"
        ],
        [
         "34",
         "34",
         "Ballast Point Brewing Company",
         "San Diego",
         " CA"
        ],
        [
         "35",
         "35",
         "Anchor Brewing Company",
         "San Francisco",
         " CA"
        ],
        [
         "36",
         "36",
         "Figueroa Mountain Brewing Company",
         "Buellton",
         " CA"
        ],
        [
         "37",
         "37",
         "Avery Brewing Company",
         "Boulder",
         " CO"
        ],
        [
         "38",
         "38",
         "Twisted X Brewing Company",
         "Dripping Springs",
         " TX"
        ],
        [
         "39",
         "39",
         "Gonzo's BiggDogg Brewing",
         "Kalamazoo",
         " MI"
        ],
        [
         "40",
         "40",
         "Big Muddy Brewing",
         "Murphysboro",
         " IL"
        ],
        [
         "41",
         "41",
         "Lost Nation Brewing",
         "East Fairfield",
         " VT"
        ],
        [
         "42",
         "42",
         "Rising Tide Brewing Company",
         "Portland",
         " ME"
        ],
        [
         "43",
         "43",
         "Rivertowne Brewing Company",
         "Export",
         " PA"
        ],
        [
         "44",
         "44",
         "Revolution Brewing Company",
         "Chicago",
         " IL"
        ],
        [
         "45",
         "45",
         "Tallgrass Brewing Company",
         "Manhattan",
         " KS"
        ],
        [
         "46",
         "46",
         "Sixpoint Craft Ales",
         "Brooklyn",
         " NY"
        ],
        [
         "47",
         "47",
         "White Birch Brewing",
         "Hooksett",
         " NH"
        ],
        [
         "48",
         "48",
         "Firestone Walker Brewing Company",
         "Paso Robles",
         " CA"
        ],
        [
         "49",
         "49",
         "SweetWater Brewing Company",
         "Atlanta",
         " GA"
        ]
       ],
       "shape": {
        "columns": 4,
        "rows": 558
       }
      },
      "text/html": [
       "<div>\n",
       "<style scoped>\n",
       "    .dataframe tbody tr th:only-of-type {\n",
       "        vertical-align: middle;\n",
       "    }\n",
       "\n",
       "    .dataframe tbody tr th {\n",
       "        vertical-align: top;\n",
       "    }\n",
       "\n",
       "    .dataframe thead th {\n",
       "        text-align: right;\n",
       "    }\n",
       "</style>\n",
       "<table border=\"1\" class=\"dataframe\">\n",
       "  <thead>\n",
       "    <tr style=\"text-align: right;\">\n",
       "      <th></th>\n",
       "      <th>Unnamed: 0</th>\n",
       "      <th>name</th>\n",
       "      <th>city</th>\n",
       "      <th>state</th>\n",
       "    </tr>\n",
       "  </thead>\n",
       "  <tbody>\n",
       "    <tr>\n",
       "      <th>0</th>\n",
       "      <td>0</td>\n",
       "      <td>NorthGate Brewing</td>\n",
       "      <td>Minneapolis</td>\n",
       "      <td>MN</td>\n",
       "    </tr>\n",
       "    <tr>\n",
       "      <th>1</th>\n",
       "      <td>1</td>\n",
       "      <td>Against the Grain Brewery</td>\n",
       "      <td>Louisville</td>\n",
       "      <td>KY</td>\n",
       "    </tr>\n",
       "    <tr>\n",
       "      <th>2</th>\n",
       "      <td>2</td>\n",
       "      <td>Jack's Abby Craft Lagers</td>\n",
       "      <td>Framingham</td>\n",
       "      <td>MA</td>\n",
       "    </tr>\n",
       "    <tr>\n",
       "      <th>3</th>\n",
       "      <td>3</td>\n",
       "      <td>Mike Hess Brewing Company</td>\n",
       "      <td>San Diego</td>\n",
       "      <td>CA</td>\n",
       "    </tr>\n",
       "    <tr>\n",
       "      <th>4</th>\n",
       "      <td>4</td>\n",
       "      <td>Fort Point Beer Company</td>\n",
       "      <td>San Francisco</td>\n",
       "      <td>CA</td>\n",
       "    </tr>\n",
       "    <tr>\n",
       "      <th>...</th>\n",
       "      <td>...</td>\n",
       "      <td>...</td>\n",
       "      <td>...</td>\n",
       "      <td>...</td>\n",
       "    </tr>\n",
       "    <tr>\n",
       "      <th>553</th>\n",
       "      <td>553</td>\n",
       "      <td>Covington Brewhouse</td>\n",
       "      <td>Covington</td>\n",
       "      <td>LA</td>\n",
       "    </tr>\n",
       "    <tr>\n",
       "      <th>554</th>\n",
       "      <td>554</td>\n",
       "      <td>Dave's Brewfarm</td>\n",
       "      <td>Wilson</td>\n",
       "      <td>WI</td>\n",
       "    </tr>\n",
       "    <tr>\n",
       "      <th>555</th>\n",
       "      <td>555</td>\n",
       "      <td>Ukiah Brewing Company</td>\n",
       "      <td>Ukiah</td>\n",
       "      <td>CA</td>\n",
       "    </tr>\n",
       "    <tr>\n",
       "      <th>556</th>\n",
       "      <td>556</td>\n",
       "      <td>Butternuts Beer and Ale</td>\n",
       "      <td>Garrattsville</td>\n",
       "      <td>NY</td>\n",
       "    </tr>\n",
       "    <tr>\n",
       "      <th>557</th>\n",
       "      <td>557</td>\n",
       "      <td>Sleeping Lady Brewing Company</td>\n",
       "      <td>Anchorage</td>\n",
       "      <td>AK</td>\n",
       "    </tr>\n",
       "  </tbody>\n",
       "</table>\n",
       "<p>558 rows × 4 columns</p>\n",
       "</div>"
      ],
      "text/plain": [
       "     Unnamed: 0                           name           city state\n",
       "0             0             NorthGate Brewing     Minneapolis    MN\n",
       "1             1      Against the Grain Brewery     Louisville    KY\n",
       "2             2       Jack's Abby Craft Lagers     Framingham    MA\n",
       "3             3      Mike Hess Brewing Company      San Diego    CA\n",
       "4             4        Fort Point Beer Company  San Francisco    CA\n",
       "..          ...                            ...            ...   ...\n",
       "553         553            Covington Brewhouse      Covington    LA\n",
       "554         554                Dave's Brewfarm         Wilson    WI\n",
       "555         555          Ukiah Brewing Company          Ukiah    CA\n",
       "556         556        Butternuts Beer and Ale  Garrattsville    NY\n",
       "557         557  Sleeping Lady Brewing Company      Anchorage    AK\n",
       "\n",
       "[558 rows x 4 columns]"
      ]
     },
     "execution_count": 286,
     "metadata": {},
     "output_type": "execute_result"
    }
   ],
   "source": [
    "breweries = pd.read_csv(\"data/datasets_breweries.csv\")\n",
    "breweries"
   ]
  },
  {
   "attachments": {},
   "cell_type": "markdown",
   "metadata": {},
   "source": [
    "## Ejercicio 17\n",
    "1. Renombra la columna `Unnamed: 0` como `brewery_id`\n",
    "2. Renombra también la columna `name` por `brewery_name`. ¿Puedes hacer ambos apartados en una sola sentencia?"
   ]
  },
  {
   "cell_type": "code",
   "execution_count": 287,
   "metadata": {},
   "outputs": [
    {
     "data": {
      "application/vnd.microsoft.datawrangler.viewer.v0+json": {
       "columns": [
        {
         "name": "index",
         "rawType": "int64",
         "type": "integer"
        },
        {
         "name": "brewery_id",
         "rawType": "int64",
         "type": "integer"
        },
        {
         "name": "brewery_name",
         "rawType": "object",
         "type": "string"
        },
        {
         "name": "city",
         "rawType": "object",
         "type": "string"
        },
        {
         "name": "state",
         "rawType": "object",
         "type": "string"
        }
       ],
       "conversionMethod": "pd.DataFrame",
       "ref": "b9436f96-5ca9-4bda-831b-d7082d4890df",
       "rows": [
        [
         "0",
         "0",
         "NorthGate Brewing ",
         "Minneapolis",
         " MN"
        ],
        [
         "1",
         "1",
         "Against the Grain Brewery",
         "Louisville",
         " KY"
        ],
        [
         "2",
         "2",
         "Jack's Abby Craft Lagers",
         "Framingham",
         " MA"
        ],
        [
         "3",
         "3",
         "Mike Hess Brewing Company",
         "San Diego",
         " CA"
        ],
        [
         "4",
         "4",
         "Fort Point Beer Company",
         "San Francisco",
         " CA"
        ],
        [
         "5",
         "5",
         "COAST Brewing Company",
         "Charleston",
         " SC"
        ],
        [
         "6",
         "6",
         "Great Divide Brewing Company",
         "Denver",
         " CO"
        ],
        [
         "7",
         "7",
         "Tapistry Brewing",
         "Bridgman",
         " MI"
        ],
        [
         "8",
         "8",
         "Big Lake Brewing",
         "Holland",
         " MI"
        ],
        [
         "9",
         "9",
         "The Mitten Brewing Company",
         "Grand Rapids",
         " MI"
        ],
        [
         "10",
         "10",
         "Brewery Vivant",
         "Grand Rapids",
         " MI"
        ],
        [
         "11",
         "11",
         "Petoskey Brewing",
         "Petoskey",
         " MI"
        ],
        [
         "12",
         "12",
         "Blackrocks Brewery",
         "Marquette",
         " MI"
        ],
        [
         "13",
         "13",
         "Perrin Brewing Company",
         "Comstock Park",
         " MI"
        ],
        [
         "14",
         "14",
         "Witch's Hat Brewing Company",
         "South Lyon",
         " MI"
        ],
        [
         "15",
         "15",
         "Founders Brewing Company",
         "Grand Rapids",
         " MI"
        ],
        [
         "16",
         "16",
         "Flat 12 Bierwerks",
         "Indianapolis",
         " IN"
        ],
        [
         "17",
         "17",
         "Tin Man Brewing Company",
         "Evansville",
         " IN"
        ],
        [
         "18",
         "18",
         "Black Acre Brewing Co.",
         "Indianapolis",
         " IN"
        ],
        [
         "19",
         "19",
         "Brew Link Brewing",
         "Plainfield",
         " IN"
        ],
        [
         "20",
         "20",
         "Bare Hands Brewery",
         "Granger",
         " IN"
        ],
        [
         "21",
         "21",
         "Three Pints Brewing",
         "Martinsville",
         " IN"
        ],
        [
         "22",
         "22",
         "Four Fathers Brewing ",
         "Valparaiso",
         " IN"
        ],
        [
         "23",
         "23",
         "Indiana City Brewing",
         "Indianapolis",
         " IN"
        ],
        [
         "24",
         "24",
         "Burn 'Em Brewing",
         "Michigan City",
         " IN"
        ],
        [
         "25",
         "25",
         "Sun King Brewing Company",
         "Indianapolis",
         " IN"
        ],
        [
         "26",
         "26",
         "Evil Czech Brewery",
         "Mishawaka",
         " IN"
        ],
        [
         "27",
         "27",
         "450 North Brewing Company",
         "Columbus",
         " IN"
        ],
        [
         "28",
         "28",
         "Taxman Brewing Company",
         "Bargersville",
         " IN"
        ],
        [
         "29",
         "29",
         "Cedar Creek Brewery",
         "Seven Points",
         " TX"
        ],
        [
         "30",
         "30",
         "SanTan Brewing Company",
         "Chandler",
         " AZ"
        ],
        [
         "31",
         "31",
         "Boulevard Brewing Company",
         "Kansas City",
         " MO"
        ],
        [
         "32",
         "32",
         "James Page Brewing Company",
         "Stevens Point",
         " WI"
        ],
        [
         "33",
         "33",
         "The Dudes' Brewing Company",
         "Torrance",
         " CA"
        ],
        [
         "34",
         "34",
         "Ballast Point Brewing Company",
         "San Diego",
         " CA"
        ],
        [
         "35",
         "35",
         "Anchor Brewing Company",
         "San Francisco",
         " CA"
        ],
        [
         "36",
         "36",
         "Figueroa Mountain Brewing Company",
         "Buellton",
         " CA"
        ],
        [
         "37",
         "37",
         "Avery Brewing Company",
         "Boulder",
         " CO"
        ],
        [
         "38",
         "38",
         "Twisted X Brewing Company",
         "Dripping Springs",
         " TX"
        ],
        [
         "39",
         "39",
         "Gonzo's BiggDogg Brewing",
         "Kalamazoo",
         " MI"
        ],
        [
         "40",
         "40",
         "Big Muddy Brewing",
         "Murphysboro",
         " IL"
        ],
        [
         "41",
         "41",
         "Lost Nation Brewing",
         "East Fairfield",
         " VT"
        ],
        [
         "42",
         "42",
         "Rising Tide Brewing Company",
         "Portland",
         " ME"
        ],
        [
         "43",
         "43",
         "Rivertowne Brewing Company",
         "Export",
         " PA"
        ],
        [
         "44",
         "44",
         "Revolution Brewing Company",
         "Chicago",
         " IL"
        ],
        [
         "45",
         "45",
         "Tallgrass Brewing Company",
         "Manhattan",
         " KS"
        ],
        [
         "46",
         "46",
         "Sixpoint Craft Ales",
         "Brooklyn",
         " NY"
        ],
        [
         "47",
         "47",
         "White Birch Brewing",
         "Hooksett",
         " NH"
        ],
        [
         "48",
         "48",
         "Firestone Walker Brewing Company",
         "Paso Robles",
         " CA"
        ],
        [
         "49",
         "49",
         "SweetWater Brewing Company",
         "Atlanta",
         " GA"
        ]
       ],
       "shape": {
        "columns": 4,
        "rows": 558
       }
      },
      "text/html": [
       "<div>\n",
       "<style scoped>\n",
       "    .dataframe tbody tr th:only-of-type {\n",
       "        vertical-align: middle;\n",
       "    }\n",
       "\n",
       "    .dataframe tbody tr th {\n",
       "        vertical-align: top;\n",
       "    }\n",
       "\n",
       "    .dataframe thead th {\n",
       "        text-align: right;\n",
       "    }\n",
       "</style>\n",
       "<table border=\"1\" class=\"dataframe\">\n",
       "  <thead>\n",
       "    <tr style=\"text-align: right;\">\n",
       "      <th></th>\n",
       "      <th>brewery_id</th>\n",
       "      <th>brewery_name</th>\n",
       "      <th>city</th>\n",
       "      <th>state</th>\n",
       "    </tr>\n",
       "  </thead>\n",
       "  <tbody>\n",
       "    <tr>\n",
       "      <th>0</th>\n",
       "      <td>0</td>\n",
       "      <td>NorthGate Brewing</td>\n",
       "      <td>Minneapolis</td>\n",
       "      <td>MN</td>\n",
       "    </tr>\n",
       "    <tr>\n",
       "      <th>1</th>\n",
       "      <td>1</td>\n",
       "      <td>Against the Grain Brewery</td>\n",
       "      <td>Louisville</td>\n",
       "      <td>KY</td>\n",
       "    </tr>\n",
       "    <tr>\n",
       "      <th>2</th>\n",
       "      <td>2</td>\n",
       "      <td>Jack's Abby Craft Lagers</td>\n",
       "      <td>Framingham</td>\n",
       "      <td>MA</td>\n",
       "    </tr>\n",
       "    <tr>\n",
       "      <th>3</th>\n",
       "      <td>3</td>\n",
       "      <td>Mike Hess Brewing Company</td>\n",
       "      <td>San Diego</td>\n",
       "      <td>CA</td>\n",
       "    </tr>\n",
       "    <tr>\n",
       "      <th>4</th>\n",
       "      <td>4</td>\n",
       "      <td>Fort Point Beer Company</td>\n",
       "      <td>San Francisco</td>\n",
       "      <td>CA</td>\n",
       "    </tr>\n",
       "    <tr>\n",
       "      <th>...</th>\n",
       "      <td>...</td>\n",
       "      <td>...</td>\n",
       "      <td>...</td>\n",
       "      <td>...</td>\n",
       "    </tr>\n",
       "    <tr>\n",
       "      <th>553</th>\n",
       "      <td>553</td>\n",
       "      <td>Covington Brewhouse</td>\n",
       "      <td>Covington</td>\n",
       "      <td>LA</td>\n",
       "    </tr>\n",
       "    <tr>\n",
       "      <th>554</th>\n",
       "      <td>554</td>\n",
       "      <td>Dave's Brewfarm</td>\n",
       "      <td>Wilson</td>\n",
       "      <td>WI</td>\n",
       "    </tr>\n",
       "    <tr>\n",
       "      <th>555</th>\n",
       "      <td>555</td>\n",
       "      <td>Ukiah Brewing Company</td>\n",
       "      <td>Ukiah</td>\n",
       "      <td>CA</td>\n",
       "    </tr>\n",
       "    <tr>\n",
       "      <th>556</th>\n",
       "      <td>556</td>\n",
       "      <td>Butternuts Beer and Ale</td>\n",
       "      <td>Garrattsville</td>\n",
       "      <td>NY</td>\n",
       "    </tr>\n",
       "    <tr>\n",
       "      <th>557</th>\n",
       "      <td>557</td>\n",
       "      <td>Sleeping Lady Brewing Company</td>\n",
       "      <td>Anchorage</td>\n",
       "      <td>AK</td>\n",
       "    </tr>\n",
       "  </tbody>\n",
       "</table>\n",
       "<p>558 rows × 4 columns</p>\n",
       "</div>"
      ],
      "text/plain": [
       "     brewery_id                   brewery_name           city state\n",
       "0             0             NorthGate Brewing     Minneapolis    MN\n",
       "1             1      Against the Grain Brewery     Louisville    KY\n",
       "2             2       Jack's Abby Craft Lagers     Framingham    MA\n",
       "3             3      Mike Hess Brewing Company      San Diego    CA\n",
       "4             4        Fort Point Beer Company  San Francisco    CA\n",
       "..          ...                            ...            ...   ...\n",
       "553         553            Covington Brewhouse      Covington    LA\n",
       "554         554                Dave's Brewfarm         Wilson    WI\n",
       "555         555          Ukiah Brewing Company          Ukiah    CA\n",
       "556         556        Butternuts Beer and Ale  Garrattsville    NY\n",
       "557         557  Sleeping Lady Brewing Company      Anchorage    AK\n",
       "\n",
       "[558 rows x 4 columns]"
      ]
     },
     "execution_count": 287,
     "metadata": {},
     "output_type": "execute_result"
    }
   ],
   "source": [
    "\n",
    "breweries.rename(columns={\"Unnamed: 0\": \"brewery_id\",\"name\": \"brewery_name\" }, inplace=True)\n",
    "\n",
    "breweries\n"
   ]
  },
  {
   "attachments": {},
   "cell_type": "markdown",
   "metadata": {},
   "source": [
    "## Ejercicio 18\n",
    "Junta los dos datasets que tienes"
   ]
  },
  {
   "cell_type": "code",
   "execution_count": 288,
   "metadata": {},
   "outputs": [
    {
     "data": {
      "application/vnd.microsoft.datawrangler.viewer.v0+json": {
       "columns": [
        {
         "name": "index",
         "rawType": "int64",
         "type": "integer"
        },
        {
         "name": "abv",
         "rawType": "float64",
         "type": "float"
        },
        {
         "name": "ibu",
         "rawType": "float64",
         "type": "float"
        },
        {
         "name": "id",
         "rawType": "int64",
         "type": "integer"
        },
        {
         "name": "name",
         "rawType": "object",
         "type": "string"
        },
        {
         "name": "style",
         "rawType": "object",
         "type": "unknown"
        },
        {
         "name": "brewery_id",
         "rawType": "int64",
         "type": "integer"
        },
        {
         "name": "ounces",
         "rawType": "float64",
         "type": "float"
        },
        {
         "name": "brewery_name",
         "rawType": "object",
         "type": "string"
        },
        {
         "name": "city",
         "rawType": "object",
         "type": "string"
        },
        {
         "name": "state",
         "rawType": "object",
         "type": "string"
        }
       ],
       "conversionMethod": "pd.DataFrame",
       "ref": "b02c329b-178d-4cef-b76b-b68b3d3dee1d",
       "rows": [
        [
         "0",
         "0.05",
         null,
         "1436",
         "Pub Beer",
         "American Pale Lager",
         "408",
         "12.0",
         "10 Barrel Brewing Company",
         "Bend",
         " OR"
        ],
        [
         "1",
         "0.066",
         null,
         "2265",
         "Devil's Cup",
         "American Pale Ale (APA)",
         "177",
         "12.0",
         "18th Street Brewery",
         "Gary",
         " IN"
        ],
        [
         "2",
         "0.071",
         null,
         "2264",
         "Rise of the Phoenix",
         "American IPA",
         "177",
         "12.0",
         "18th Street Brewery",
         "Gary",
         " IN"
        ],
        [
         "3",
         "0.09",
         null,
         "2263",
         "Sinister",
         "American Double / Imperial IPA",
         "177",
         "12.0",
         "18th Street Brewery",
         "Gary",
         " IN"
        ],
        [
         "4",
         "0.075",
         null,
         "2262",
         "Sex and Candy",
         "American IPA",
         "177",
         "12.0",
         "18th Street Brewery",
         "Gary",
         " IN"
        ],
        [
         "5",
         "0.077",
         null,
         "2261",
         "Black Exodus",
         "Oatmeal Stout",
         "177",
         "12.0",
         "18th Street Brewery",
         "Gary",
         " IN"
        ],
        [
         "6",
         "0.045",
         null,
         "2260",
         "Lake Street Express",
         "American Pale Ale (APA)",
         "177",
         "12.0",
         "18th Street Brewery",
         "Gary",
         " IN"
        ],
        [
         "7",
         "0.065",
         null,
         "2259",
         "Foreman",
         "American Porter",
         "177",
         "12.0",
         "18th Street Brewery",
         "Gary",
         " IN"
        ],
        [
         "8",
         "0.055",
         null,
         "2258",
         "Jade",
         "American Pale Ale (APA)",
         "177",
         "12.0",
         "18th Street Brewery",
         "Gary",
         " IN"
        ],
        [
         "9",
         "0.086",
         null,
         "2131",
         "Cone Crusher",
         "American Double / Imperial IPA",
         "177",
         "12.0",
         "18th Street Brewery",
         "Gary",
         " IN"
        ],
        [
         "10",
         "0.072",
         null,
         "2099",
         "Sophomoric Saison",
         "Saison / Farmhouse Ale",
         "177",
         "12.0",
         "18th Street Brewery",
         "Gary",
         " IN"
        ],
        [
         "11",
         "0.073",
         null,
         "2098",
         "Regional Ring Of Fire",
         "Saison / Farmhouse Ale",
         "177",
         "12.0",
         "18th Street Brewery",
         "Gary",
         " IN"
        ],
        [
         "12",
         "0.069",
         null,
         "2097",
         "Garce Selé",
         "Saison / Farmhouse Ale",
         "177",
         "12.0",
         "18th Street Brewery",
         "Gary",
         " IN"
        ],
        [
         "13",
         "0.085",
         null,
         "1980",
         "Troll Destroyer",
         "Belgian IPA",
         "177",
         "12.0",
         "18th Street Brewery",
         "Gary",
         " IN"
        ],
        [
         "14",
         "0.061",
         "60.0",
         "1979",
         "Bitter Bitch",
         "American Pale Ale (APA)",
         "177",
         "12.0",
         "18th Street Brewery",
         "Gary",
         " IN"
        ],
        [
         "15",
         "0.06",
         null,
         "2318",
         "Ginja Ninja",
         "Cider",
         "154",
         "12.0",
         "2 Towns Ciderhouse",
         "Corvallis",
         " OR"
        ],
        [
         "16",
         "0.06",
         null,
         "2170",
         "Cherried Away",
         "Cider",
         "154",
         "12.0",
         "2 Towns Ciderhouse",
         "Corvallis",
         " OR"
        ],
        [
         "17",
         "0.06",
         null,
         "2169",
         "Rhubarbarian",
         "Cider",
         "154",
         "12.0",
         "2 Towns Ciderhouse",
         "Corvallis",
         " OR"
        ],
        [
         "18",
         "0.06",
         null,
         "1502",
         "BrightCider",
         "Cider",
         "154",
         "12.0",
         "2 Towns Ciderhouse",
         "Corvallis",
         " OR"
        ],
        [
         "19",
         "0.0819999999999999",
         null,
         "1593",
         "He Said Baltic-Style Porter",
         "Baltic Porter",
         "368",
         "12.0",
         "21st Amendment Brewery",
         "San Francisco",
         " CA"
        ],
        [
         "20",
         "0.0819999999999999",
         null,
         "1592",
         "He Said Belgian-Style Tripel",
         "Tripel",
         "368",
         "12.0",
         "21st Amendment Brewery",
         "San Francisco",
         " CA"
        ],
        [
         "21",
         "0.099",
         "92.0",
         "1036",
         "Lower De Boom",
         "American Barleywine",
         "368",
         "8.4",
         "21st Amendment Brewery",
         "San Francisco",
         " CA"
        ],
        [
         "22",
         "0.079",
         "45.0",
         "1024",
         "Fireside Chat",
         "Winter Warmer",
         "368",
         "12.0",
         "21st Amendment Brewery",
         "San Francisco",
         " CA"
        ],
        [
         "23",
         "0.079",
         null,
         "976",
         "Marooned On Hog Island",
         "American Stout",
         "368",
         "12.0",
         "21st Amendment Brewery",
         "San Francisco",
         " CA"
        ],
        [
         "24",
         "0.044",
         "42.0",
         "876",
         "Bitter American",
         "American Pale Ale (APA)",
         "368",
         "12.0",
         "21st Amendment Brewery",
         "San Francisco",
         " CA"
        ],
        [
         "25",
         "0.049",
         "17.0",
         "802",
         "Hell or High Watermelon Wheat (2009)",
         "Fruit / Vegetable Beer",
         "368",
         "12.0",
         "21st Amendment Brewery",
         "San Francisco",
         " CA"
        ],
        [
         "26",
         "0.049",
         "17.0",
         "801",
         "Hell or High Watermelon Wheat (2009)",
         "Fruit / Vegetable Beer",
         "368",
         "12.0",
         "21st Amendment Brewery",
         "San Francisco",
         " CA"
        ],
        [
         "27",
         "0.049",
         "17.0",
         "800",
         "21st Amendment Watermelon Wheat Beer (2006)",
         "Fruit / Vegetable Beer",
         "368",
         "12.0",
         "21st Amendment Brewery",
         "San Francisco",
         " CA"
        ],
        [
         "28",
         "0.07",
         "70.0",
         "799",
         "21st Amendment IPA (2006)",
         "American IPA",
         "368",
         "12.0",
         "21st Amendment Brewery",
         "San Francisco",
         " CA"
        ],
        [
         "29",
         "0.07",
         "70.0",
         "797",
         "Brew Free! or Die IPA (2008)",
         "American IPA",
         "368",
         "12.0",
         "21st Amendment Brewery",
         "San Francisco",
         " CA"
        ],
        [
         "30",
         "0.07",
         "70.0",
         "796",
         "Brew Free! or Die IPA (2009)",
         "American IPA",
         "368",
         "12.0",
         "21st Amendment Brewery",
         "San Francisco",
         " CA"
        ],
        [
         "31",
         "0.085",
         "52.0",
         "531",
         "Special Edition: Allies Win The War!",
         "English Strong Ale",
         "368",
         "12.0",
         "21st Amendment Brewery",
         "San Francisco",
         " CA"
        ],
        [
         "32",
         "0.0969999999999999",
         "94.0",
         "432",
         "Hop Crisis",
         "American Double / Imperial IPA",
         "368",
         "12.0",
         "21st Amendment Brewery",
         "San Francisco",
         " CA"
        ],
        [
         "33",
         "0.044",
         "42.0",
         "353",
         "Bitter American (2011)",
         "American Pale Ale (APA)",
         "368",
         "12.0",
         "21st Amendment Brewery",
         "San Francisco",
         " CA"
        ],
        [
         "34",
         "0.079",
         "45.0",
         "321",
         "Fireside Chat (2010)",
         "Winter Warmer",
         "368",
         "12.0",
         "21st Amendment Brewery",
         "San Francisco",
         " CA"
        ],
        [
         "35",
         "0.068",
         "65.0",
         "173",
         "Back in Black",
         "American Black Ale",
         "368",
         "12.0",
         "21st Amendment Brewery",
         "San Francisco",
         " CA"
        ],
        [
         "36",
         "0.083",
         "35.0",
         "11",
         "Monk's Blood",
         "Belgian Dark Ale",
         "368",
         "12.0",
         "21st Amendment Brewery",
         "San Francisco",
         " CA"
        ],
        [
         "37",
         "0.07",
         "65.0",
         "10",
         "Brew Free! or Die IPA",
         "American IPA",
         "368",
         "12.0",
         "21st Amendment Brewery",
         "San Francisco",
         " CA"
        ],
        [
         "38",
         "0.049",
         "17.0",
         "9",
         "Hell or High Watermelon Wheat",
         "Fruit / Vegetable Beer",
         "368",
         "12.0",
         "21st Amendment Brewery",
         "San Francisco",
         " CA"
        ],
        [
         "39",
         "0.07",
         "82.0",
         "2519",
         "Bimini Twist",
         "American IPA",
         "67",
         "12.0",
         "3 Daughters Brewing",
         "St Petersburg",
         " FL"
        ],
        [
         "40",
         "0.05",
         null,
         "2518",
         "Beach Blonde",
         "American Blonde Ale",
         "67",
         "12.0",
         "3 Daughters Brewing",
         "St Petersburg",
         " FL"
        ],
        [
         "41",
         "0.059",
         null,
         "2517",
         "Rod Bender Red",
         "American Amber / Red Ale",
         "67",
         "12.0",
         "3 Daughters Brewing",
         "St Petersburg",
         " FL"
        ],
        [
         "42",
         "0.035",
         "11.0",
         "2545",
         "Passion Fruit Prussia",
         "Berliner Weissbier",
         "60",
         "12.0",
         "4 Hands Brewing Company",
         "Saint Louis",
         " MO"
        ],
        [
         "43",
         "0.045",
         "18.0",
         "2544",
         "Send Help",
         "American Blonde Ale",
         "60",
         "12.0",
         "4 Hands Brewing Company",
         "Saint Louis",
         " MO"
        ],
        [
         "44",
         "0.055",
         null,
         "2324",
         "Cast Iron Oatmeal Brown",
         "American Brown Ale",
         "60",
         "12.0",
         "4 Hands Brewing Company",
         "Saint Louis",
         " MO"
        ],
        [
         "45",
         "0.06",
         null,
         "2288",
         "Reprise Centennial Red",
         "American Amber / Red Ale",
         "60",
         "12.0",
         "4 Hands Brewing Company",
         "Saint Louis",
         " MO"
        ],
        [
         "46",
         "0.055",
         null,
         "2287",
         "Alter Ego",
         "American Black Ale",
         "60",
         "12.0",
         "4 Hands Brewing Company",
         "Saint Louis",
         " MO"
        ],
        [
         "47",
         "0.065",
         null,
         "2286",
         "Divided Sky",
         "American IPA",
         "60",
         "12.0",
         "4 Hands Brewing Company",
         "Saint Louis",
         " MO"
        ],
        [
         "48",
         "0.065",
         null,
         "2285",
         "Resurrected",
         "American IPA",
         "60",
         "12.0",
         "4 Hands Brewing Company",
         "Saint Louis",
         " MO"
        ],
        [
         "49",
         "0.05",
         "28.0",
         "1870",
         "Contact High",
         "American Pale Wheat Ale",
         "60",
         "12.0",
         "4 Hands Brewing Company",
         "Saint Louis",
         " MO"
        ]
       ],
       "shape": {
        "columns": 10,
        "rows": 2410
       }
      },
      "text/html": [
       "<div>\n",
       "<style scoped>\n",
       "    .dataframe tbody tr th:only-of-type {\n",
       "        vertical-align: middle;\n",
       "    }\n",
       "\n",
       "    .dataframe tbody tr th {\n",
       "        vertical-align: top;\n",
       "    }\n",
       "\n",
       "    .dataframe thead th {\n",
       "        text-align: right;\n",
       "    }\n",
       "</style>\n",
       "<table border=\"1\" class=\"dataframe\">\n",
       "  <thead>\n",
       "    <tr style=\"text-align: right;\">\n",
       "      <th></th>\n",
       "      <th>abv</th>\n",
       "      <th>ibu</th>\n",
       "      <th>id</th>\n",
       "      <th>name</th>\n",
       "      <th>style</th>\n",
       "      <th>brewery_id</th>\n",
       "      <th>ounces</th>\n",
       "      <th>brewery_name</th>\n",
       "      <th>city</th>\n",
       "      <th>state</th>\n",
       "    </tr>\n",
       "  </thead>\n",
       "  <tbody>\n",
       "    <tr>\n",
       "      <th>0</th>\n",
       "      <td>0.050</td>\n",
       "      <td>NaN</td>\n",
       "      <td>1436</td>\n",
       "      <td>Pub Beer</td>\n",
       "      <td>American Pale Lager</td>\n",
       "      <td>408</td>\n",
       "      <td>12.0</td>\n",
       "      <td>10 Barrel Brewing Company</td>\n",
       "      <td>Bend</td>\n",
       "      <td>OR</td>\n",
       "    </tr>\n",
       "    <tr>\n",
       "      <th>1</th>\n",
       "      <td>0.066</td>\n",
       "      <td>NaN</td>\n",
       "      <td>2265</td>\n",
       "      <td>Devil's Cup</td>\n",
       "      <td>American Pale Ale (APA)</td>\n",
       "      <td>177</td>\n",
       "      <td>12.0</td>\n",
       "      <td>18th Street Brewery</td>\n",
       "      <td>Gary</td>\n",
       "      <td>IN</td>\n",
       "    </tr>\n",
       "    <tr>\n",
       "      <th>2</th>\n",
       "      <td>0.071</td>\n",
       "      <td>NaN</td>\n",
       "      <td>2264</td>\n",
       "      <td>Rise of the Phoenix</td>\n",
       "      <td>American IPA</td>\n",
       "      <td>177</td>\n",
       "      <td>12.0</td>\n",
       "      <td>18th Street Brewery</td>\n",
       "      <td>Gary</td>\n",
       "      <td>IN</td>\n",
       "    </tr>\n",
       "    <tr>\n",
       "      <th>3</th>\n",
       "      <td>0.090</td>\n",
       "      <td>NaN</td>\n",
       "      <td>2263</td>\n",
       "      <td>Sinister</td>\n",
       "      <td>American Double / Imperial IPA</td>\n",
       "      <td>177</td>\n",
       "      <td>12.0</td>\n",
       "      <td>18th Street Brewery</td>\n",
       "      <td>Gary</td>\n",
       "      <td>IN</td>\n",
       "    </tr>\n",
       "    <tr>\n",
       "      <th>4</th>\n",
       "      <td>0.075</td>\n",
       "      <td>NaN</td>\n",
       "      <td>2262</td>\n",
       "      <td>Sex and Candy</td>\n",
       "      <td>American IPA</td>\n",
       "      <td>177</td>\n",
       "      <td>12.0</td>\n",
       "      <td>18th Street Brewery</td>\n",
       "      <td>Gary</td>\n",
       "      <td>IN</td>\n",
       "    </tr>\n",
       "    <tr>\n",
       "      <th>...</th>\n",
       "      <td>...</td>\n",
       "      <td>...</td>\n",
       "      <td>...</td>\n",
       "      <td>...</td>\n",
       "      <td>...</td>\n",
       "      <td>...</td>\n",
       "      <td>...</td>\n",
       "      <td>...</td>\n",
       "      <td>...</td>\n",
       "      <td>...</td>\n",
       "    </tr>\n",
       "    <tr>\n",
       "      <th>2405</th>\n",
       "      <td>0.067</td>\n",
       "      <td>45.0</td>\n",
       "      <td>928</td>\n",
       "      <td>Belgorado</td>\n",
       "      <td>Belgian IPA</td>\n",
       "      <td>424</td>\n",
       "      <td>12.0</td>\n",
       "      <td>Wynkoop Brewing Company</td>\n",
       "      <td>Denver</td>\n",
       "      <td>CO</td>\n",
       "    </tr>\n",
       "    <tr>\n",
       "      <th>2406</th>\n",
       "      <td>0.052</td>\n",
       "      <td>NaN</td>\n",
       "      <td>807</td>\n",
       "      <td>Rail Yard Ale</td>\n",
       "      <td>American Amber / Red Ale</td>\n",
       "      <td>424</td>\n",
       "      <td>12.0</td>\n",
       "      <td>Wynkoop Brewing Company</td>\n",
       "      <td>Denver</td>\n",
       "      <td>CO</td>\n",
       "    </tr>\n",
       "    <tr>\n",
       "      <th>2407</th>\n",
       "      <td>0.055</td>\n",
       "      <td>NaN</td>\n",
       "      <td>620</td>\n",
       "      <td>B3K Black Lager</td>\n",
       "      <td>Schwarzbier</td>\n",
       "      <td>424</td>\n",
       "      <td>12.0</td>\n",
       "      <td>Wynkoop Brewing Company</td>\n",
       "      <td>Denver</td>\n",
       "      <td>CO</td>\n",
       "    </tr>\n",
       "    <tr>\n",
       "      <th>2408</th>\n",
       "      <td>0.055</td>\n",
       "      <td>40.0</td>\n",
       "      <td>145</td>\n",
       "      <td>Silverback Pale Ale</td>\n",
       "      <td>American Pale Ale (APA)</td>\n",
       "      <td>424</td>\n",
       "      <td>12.0</td>\n",
       "      <td>Wynkoop Brewing Company</td>\n",
       "      <td>Denver</td>\n",
       "      <td>CO</td>\n",
       "    </tr>\n",
       "    <tr>\n",
       "      <th>2409</th>\n",
       "      <td>0.052</td>\n",
       "      <td>NaN</td>\n",
       "      <td>84</td>\n",
       "      <td>Rail Yard Ale (2009)</td>\n",
       "      <td>American Amber / Red Ale</td>\n",
       "      <td>424</td>\n",
       "      <td>12.0</td>\n",
       "      <td>Wynkoop Brewing Company</td>\n",
       "      <td>Denver</td>\n",
       "      <td>CO</td>\n",
       "    </tr>\n",
       "  </tbody>\n",
       "</table>\n",
       "<p>2410 rows × 10 columns</p>\n",
       "</div>"
      ],
      "text/plain": [
       "        abv   ibu    id                  name                           style  \\\n",
       "0     0.050   NaN  1436              Pub Beer             American Pale Lager   \n",
       "1     0.066   NaN  2265           Devil's Cup         American Pale Ale (APA)   \n",
       "2     0.071   NaN  2264   Rise of the Phoenix                    American IPA   \n",
       "3     0.090   NaN  2263              Sinister  American Double / Imperial IPA   \n",
       "4     0.075   NaN  2262         Sex and Candy                    American IPA   \n",
       "...     ...   ...   ...                   ...                             ...   \n",
       "2405  0.067  45.0   928             Belgorado                     Belgian IPA   \n",
       "2406  0.052   NaN   807         Rail Yard Ale        American Amber / Red Ale   \n",
       "2407  0.055   NaN   620       B3K Black Lager                     Schwarzbier   \n",
       "2408  0.055  40.0   145   Silverback Pale Ale         American Pale Ale (APA)   \n",
       "2409  0.052   NaN    84  Rail Yard Ale (2009)        American Amber / Red Ale   \n",
       "\n",
       "      brewery_id  ounces               brewery_name    city state  \n",
       "0            408    12.0  10 Barrel Brewing Company    Bend    OR  \n",
       "1            177    12.0        18th Street Brewery    Gary    IN  \n",
       "2            177    12.0        18th Street Brewery    Gary    IN  \n",
       "3            177    12.0        18th Street Brewery    Gary    IN  \n",
       "4            177    12.0        18th Street Brewery    Gary    IN  \n",
       "...          ...     ...                        ...     ...   ...  \n",
       "2405         424    12.0    Wynkoop Brewing Company  Denver    CO  \n",
       "2406         424    12.0    Wynkoop Brewing Company  Denver    CO  \n",
       "2407         424    12.0    Wynkoop Brewing Company  Denver    CO  \n",
       "2408         424    12.0    Wynkoop Brewing Company  Denver    CO  \n",
       "2409         424    12.0    Wynkoop Brewing Company  Denver    CO  \n",
       "\n",
       "[2410 rows x 10 columns]"
      ]
     },
     "execution_count": 288,
     "metadata": {},
     "output_type": "execute_result"
    }
   ],
   "source": [
    "# Hacer el merge entre los datasets 'beers' y 'breweries' usando 'brewery_id', que es la ccolumna que tienen en común\n",
    "# how= \"inner\" mantiene solo las filas que tienen valores coincidentes en ambas tablas según la columna clave, tienen que coincidir todos los registros\n",
    "# left = es lo más habitual\n",
    "# outer\n",
    "merged_df = pd.merge(beer, breweries, on='brewery_id', how='inner')\n",
    "\n",
    "\n",
    "merged_df\n"
   ]
  },
  {
   "attachments": {},
   "cell_type": "markdown",
   "metadata": {},
   "source": [
    "## Ejercicio 19\n",
    "1. ¿Cuántos estados diferentes hay?\n",
    "2. ¿Y ciudades diferentes?\n",
    "3. ¿Cuántas cervecerías hay?"
   ]
  },
  {
   "cell_type": "code",
   "execution_count": 289,
   "metadata": {},
   "outputs": [
    {
     "name": "stdout",
     "output_type": "stream",
     "text": [
      "Hay 51 estados diferentes.\n",
      "Hay 384 ciudades diferentes.\n",
      "Hay 558 cervecerías.\n"
     ]
    }
   ],
   "source": [
    "# Usamos nuniques para contar la cantidad de valores únicos en una columna o en todo el df\n",
    "\n",
    "# Número de estados diferentes\n",
    "num_states = len(breweries['state'].unique())\n",
    "print(f\"Hay {num_states} estados diferentes.\")\n",
    "\n",
    "# Número de ciudades diferentes\n",
    "num_cities = len(breweries['city'].unique())\n",
    "print(f\"Hay {num_cities} ciudades diferentes.\")\n",
    "\n",
    "# Número de cervecerías diferentes\n",
    "num_breweries = len(breweries['brewery_id'].unique())\n",
    "print(f\"Hay {num_breweries} cervecerías.\")\n",
    "\n"
   ]
  },
  {
   "attachments": {},
   "cell_type": "markdown",
   "metadata": {},
   "source": [
    "## Ejercicio 20\n",
    "Agrupa por estado y ciudad, la media, mediana y máximo nivel de alcohol"
   ]
  },
  {
   "cell_type": "code",
   "execution_count": 290,
   "metadata": {},
   "outputs": [
    {
     "data": {
      "application/vnd.microsoft.datawrangler.viewer.v0+json": {
       "columns": [
        {
         "name": "('state', 'city')",
         "rawType": "object",
         "type": "unknown"
        },
        {
         "name": "mean",
         "rawType": "float64",
         "type": "float"
        },
        {
         "name": "median",
         "rawType": "float64",
         "type": "float"
        },
        {
         "name": "max",
         "rawType": "float64",
         "type": "float"
        }
       ],
       "conversionMethod": "pd.DataFrame",
       "ref": "52dc6939-3534-4c62-8a13-42da6a44a26c",
       "rows": [
        [
         "(' AK', 'Anchorage')",
         "0.054",
         "0.052",
         "0.063"
        ],
        [
         "(' AK', 'Juneau')",
         "0.053",
         "0.053",
         "0.053"
        ],
        [
         "(' AK', 'Soldotna')",
         "0.058",
         "0.058",
         "0.068"
        ],
        [
         "(' AK', 'Talkeetna')",
         "0.059",
         "0.058",
         "0.065"
        ],
        [
         "(' AL', 'Birmingham')",
         "0.065",
         "0.06",
         "0.093"
        ],
        [
         "(' AL', 'Gadsden')",
         "0.06",
         "0.06",
         "0.06"
        ],
        [
         "(' AL', 'Huntsville')",
         "0.058",
         "0.051",
         "0.072"
        ],
        [
         "(' AR', 'Rogers')",
         "0.04",
         "0.04",
         "0.04"
        ],
        [
         "(' AR', 'Springdale')",
         "0.055",
         "0.054",
         "0.061"
        ],
        [
         "(' AZ', 'Chandler')",
         "0.063",
         "0.055",
         "0.095"
        ],
        [
         "(' AZ', 'Flagstaff')",
         "0.055",
         "0.054",
         "0.061"
        ],
        [
         "(' AZ', 'Lake Havasu City')",
         "0.066",
         "0.065",
         "0.085"
        ],
        [
         "(' AZ', 'Phoenix')",
         "0.061",
         "0.061",
         "0.061"
        ],
        [
         "(' AZ', 'Prescott')",
         null,
         null,
         null
        ],
        [
         "(' AZ', 'Tempe')",
         "0.055",
         "0.052",
         "0.067"
        ],
        [
         "(' AZ', 'Tucson')",
         "0.059",
         "0.06",
         "0.071"
        ],
        [
         "(' AZ', 'Williams')",
         "0.052",
         "0.052",
         "0.054"
        ],
        [
         "(' CA', 'Belmont')",
         "0.066",
         "0.071",
         "0.074"
        ],
        [
         "(' CA', 'Boonville')",
         "0.057",
         "0.057",
         "0.07"
        ],
        [
         "(' CA', 'Buellton')",
         "0.049",
         "0.048",
         "0.055"
        ],
        [
         "(' CA', 'Carlsbad')",
         "0.054",
         "0.052",
         "0.068"
        ],
        [
         "(' CA', 'Chico')",
         "0.058",
         "0.056",
         "0.072"
        ],
        [
         "(' CA', 'Claremont')",
         "0.067",
         "0.067",
         "0.067"
        ],
        [
         "(' CA', 'Diamond Springs')",
         "0.05",
         "0.05",
         "0.05"
        ],
        [
         "(' CA', 'Half Moon Bay')",
         "0.037",
         "0.037",
         "0.037"
        ],
        [
         "(' CA', 'Los Angeles')",
         "0.065",
         "0.059",
         "0.094"
        ],
        [
         "(' CA', 'Mammoth Lakes')",
         "0.048",
         "0.044",
         "0.065"
        ],
        [
         "(' CA', 'Mill Valley')",
         "0.075",
         "0.076",
         "0.088"
        ],
        [
         "(' CA', 'Paso Robles')",
         "0.053",
         "0.047",
         "0.075"
        ],
        [
         "(' CA', 'Redlands')",
         "0.044",
         "0.044",
         "0.046"
        ],
        [
         "(' CA', 'Sacramento')",
         "0.061",
         "0.056",
         "0.073"
        ],
        [
         "(' CA', 'San Diego')",
         "0.062",
         "0.058",
         "0.099"
        ],
        [
         "(' CA', 'San Francisco')",
         "0.063",
         "0.061",
         "0.099"
        ],
        [
         "(' CA', 'San Luis Obispo')",
         "0.073",
         "0.074",
         "0.095"
        ],
        [
         "(' CA', 'Santa Cruz')",
         "0.065",
         "0.07",
         "0.089"
        ],
        [
         "(' CA', 'Santee')",
         "0.08",
         "0.08",
         "0.099"
        ],
        [
         "(' CA', 'South San Francisco')",
         "0.052",
         "0.052",
         "0.052"
        ],
        [
         "(' CA', 'Temecula')",
         "0.056",
         "0.05",
         "0.075"
        ],
        [
         "(' CA', 'Torrance')",
         "0.065",
         "0.055",
         "0.099"
        ],
        [
         "(' CA', 'Ukiah')",
         "0.055",
         "0.055",
         "0.055"
        ],
        [
         "(' CA', 'Vista')",
         "0.052",
         "0.052",
         "0.052"
        ],
        [
         "(' CO', 'Arvada')",
         "0.061",
         "0.051",
         "0.092"
        ],
        [
         "(' CO', 'Aspen')",
         "0.063",
         "0.063",
         "0.07"
        ],
        [
         "(' CO', 'Aurora')",
         "0.058",
         "0.061",
         "0.066"
        ],
        [
         "(' CO', 'Boulder')",
         "0.068",
         "0.067",
         "0.128"
        ],
        [
         "(' CO', 'Broomfield')",
         "0.071",
         "0.074",
         "0.095"
        ],
        [
         "(' CO', 'Buena Vista')",
         "0.059",
         "0.055",
         "0.078"
        ],
        [
         "(' CO', 'Colorado Springs')",
         "0.052",
         "0.052",
         "0.052"
        ],
        [
         "(' CO', 'Denver')",
         "0.063",
         "0.062",
         "0.099"
        ],
        [
         "(' CO', 'Dillon')",
         "0.06",
         "0.059",
         "0.069"
        ]
       ],
       "shape": {
        "columns": 3,
        "rows": 401
       }
      },
      "text/html": [
       "<div>\n",
       "<style scoped>\n",
       "    .dataframe tbody tr th:only-of-type {\n",
       "        vertical-align: middle;\n",
       "    }\n",
       "\n",
       "    .dataframe tbody tr th {\n",
       "        vertical-align: top;\n",
       "    }\n",
       "\n",
       "    .dataframe thead th {\n",
       "        text-align: right;\n",
       "    }\n",
       "</style>\n",
       "<table border=\"1\" class=\"dataframe\">\n",
       "  <thead>\n",
       "    <tr style=\"text-align: right;\">\n",
       "      <th></th>\n",
       "      <th></th>\n",
       "      <th>mean</th>\n",
       "      <th>median</th>\n",
       "      <th>max</th>\n",
       "    </tr>\n",
       "    <tr>\n",
       "      <th>state</th>\n",
       "      <th>city</th>\n",
       "      <th></th>\n",
       "      <th></th>\n",
       "      <th></th>\n",
       "    </tr>\n",
       "  </thead>\n",
       "  <tbody>\n",
       "    <tr>\n",
       "      <th rowspan=\"4\" valign=\"top\">AK</th>\n",
       "      <th>Anchorage</th>\n",
       "      <td>0.054</td>\n",
       "      <td>0.052</td>\n",
       "      <td>0.063</td>\n",
       "    </tr>\n",
       "    <tr>\n",
       "      <th>Juneau</th>\n",
       "      <td>0.053</td>\n",
       "      <td>0.053</td>\n",
       "      <td>0.053</td>\n",
       "    </tr>\n",
       "    <tr>\n",
       "      <th>Soldotna</th>\n",
       "      <td>0.058</td>\n",
       "      <td>0.058</td>\n",
       "      <td>0.068</td>\n",
       "    </tr>\n",
       "    <tr>\n",
       "      <th>Talkeetna</th>\n",
       "      <td>0.059</td>\n",
       "      <td>0.058</td>\n",
       "      <td>0.065</td>\n",
       "    </tr>\n",
       "    <tr>\n",
       "      <th>AL</th>\n",
       "      <th>Birmingham</th>\n",
       "      <td>0.065</td>\n",
       "      <td>0.060</td>\n",
       "      <td>0.093</td>\n",
       "    </tr>\n",
       "    <tr>\n",
       "      <th>...</th>\n",
       "      <th>...</th>\n",
       "      <td>...</td>\n",
       "      <td>...</td>\n",
       "      <td>...</td>\n",
       "    </tr>\n",
       "    <tr>\n",
       "      <th>WI</th>\n",
       "      <th>Wilson</th>\n",
       "      <td>0.055</td>\n",
       "      <td>0.055</td>\n",
       "      <td>0.055</td>\n",
       "    </tr>\n",
       "    <tr>\n",
       "      <th>WV</th>\n",
       "      <th>Lewisburg</th>\n",
       "      <td>0.062</td>\n",
       "      <td>0.062</td>\n",
       "      <td>0.067</td>\n",
       "    </tr>\n",
       "    <tr>\n",
       "      <th rowspan=\"3\" valign=\"top\">WY</th>\n",
       "      <th>Jackson</th>\n",
       "      <td>0.055</td>\n",
       "      <td>0.052</td>\n",
       "      <td>0.068</td>\n",
       "    </tr>\n",
       "    <tr>\n",
       "      <th>Pinedale</th>\n",
       "      <td>0.061</td>\n",
       "      <td>0.061</td>\n",
       "      <td>0.072</td>\n",
       "    </tr>\n",
       "    <tr>\n",
       "      <th>Sheridan</th>\n",
       "      <td>0.053</td>\n",
       "      <td>0.048</td>\n",
       "      <td>0.070</td>\n",
       "    </tr>\n",
       "  </tbody>\n",
       "</table>\n",
       "<p>401 rows × 3 columns</p>\n",
       "</div>"
      ],
      "text/plain": [
       "                   mean  median    max\n",
       "state city                            \n",
       "AK    Anchorage   0.054   0.052  0.063\n",
       "      Juneau      0.053   0.053  0.053\n",
       "      Soldotna    0.058   0.058  0.068\n",
       "      Talkeetna   0.059   0.058  0.065\n",
       "AL    Birmingham  0.065   0.060  0.093\n",
       "...                 ...     ...    ...\n",
       "WI    Wilson      0.055   0.055  0.055\n",
       "WV    Lewisburg   0.062   0.062  0.067\n",
       "WY    Jackson     0.055   0.052  0.068\n",
       "      Pinedale    0.061   0.061  0.072\n",
       "      Sheridan    0.053   0.048  0.070\n",
       "\n",
       "[401 rows x 3 columns]"
      ]
     },
     "execution_count": 290,
     "metadata": {},
     "output_type": "execute_result"
    }
   ],
   "source": [
    "# Agrupar por estado y ciudad, luego calcular la media, mediana y máximo del nivel de alcohol (abv)\n",
    "alcohol_stats = merged_df.groupby([\"state\", \"city\"])[\"abv\"].agg([\"mean\", \"median\", \"max\"]).round(3)\n",
    "\n",
    "# Ver los resultados\n",
    "alcohol_stats\n"
   ]
  },
  {
   "attachments": {},
   "cell_type": "markdown",
   "metadata": {},
   "source": [
    "## Ejercicio 21\n",
    "¿Cuáles son las cervezas más amargas que se consumen en Indiana, estado = `IN`?"
   ]
  },
  {
   "cell_type": "code",
   "execution_count": 291,
   "metadata": {},
   "outputs": [
    {
     "name": "stdout",
     "output_type": "stream",
     "text": [
      "[' OR' ' IN' ' CA' ' FL' ' MO' ' WA' ' CO' ' LA' ' KY' ' AK' ' WI' ' OH'\n",
      " ' OK' ' NC' ' MI' ' TX' ' CT' ' AL' ' MA' ' AZ' ' MN' ' ME' ' VA' ' IL'\n",
      " ' TN' ' MT' ' WY' ' NE' ' NY' ' UT' ' NJ' ' PA' ' NV' ' SC' ' GA' ' RI'\n",
      " ' IA' ' AR' ' ID' ' SD' ' DC' ' KS' ' ND' ' VT' ' MD' ' WV' ' HI' ' DE'\n",
      " ' NM' ' MS' ' NH']\n"
     ]
    }
   ],
   "source": [
    "print(merged_df['state'].unique())\n"
   ]
  },
  {
   "cell_type": "code",
   "execution_count": 292,
   "metadata": {},
   "outputs": [
    {
     "name": "stdout",
     "output_type": "stream",
     "text": [
      "0\n"
     ]
    }
   ],
   "source": [
    "print(merged_df['state'].isnull().sum())  # Contar los valores faltantes\n"
   ]
  },
  {
   "cell_type": "code",
   "execution_count": 293,
   "metadata": {},
   "outputs": [],
   "source": [
    "merged_df = merged_df.dropna(subset=['state'])  # Eliminar filas con valores NaN en 'state'\n"
   ]
  },
  {
   "cell_type": "code",
   "execution_count": 294,
   "metadata": {},
   "outputs": [
    {
     "name": "stdout",
     "output_type": "stream",
     "text": [
      "                       name    ibu\n",
      "479        Hopkick Dropkick  115.0\n",
      "2191  Overlord Imperial IPA  115.0\n",
      "811          Half Cycle IPA  104.0\n",
      "2062                   Isis   91.0\n",
      "2189                   Csar   90.0\n"
     ]
    }
   ],
   "source": [
    "# Filtrar cervezas del estado 'IN' (Indiana)\n",
    "indiana_beers = merged_df[merged_df['state'] == ' IN']\n",
    "\n",
    "# Ordenar las cervezas de Indiana por IBU en orden descendente para obtener las más amargas\n",
    "most_bitter_indiana_beers = indiana_beers.sort_values(by='ibu', ascending=False)\n",
    "\n",
    "# Ver las primeras cervezas más amargas\n",
    "print(most_bitter_indiana_beers[['name', 'ibu']].head())"
   ]
  },
  {
   "cell_type": "code",
   "execution_count": 295,
   "metadata": {},
   "outputs": [
    {
     "name": "stdout",
     "output_type": "stream",
     "text": [
      "(139, 10)\n"
     ]
    }
   ],
   "source": [
    "print(indiana_beers.shape)  # Verifica cuántas filas tiene"
   ]
  },
  {
   "cell_type": "code",
   "execution_count": 296,
   "metadata": {},
   "outputs": [
    {
     "name": "stdout",
     "output_type": "stream",
     "text": [
      "        ibu                              name\n",
      "479   115.0                  Hopkick Dropkick\n",
      "2191  115.0             Overlord Imperial IPA\n",
      "811   104.0                    Half Cycle IPA\n",
      "2062   91.0                              Isis\n",
      "2189   90.0                              Csar\n",
      "...     ...                               ...\n",
      "55     15.0                      Honey Kolsch\n",
      "2276   15.0                  Upland Wheat Ale\n",
      "940    13.0  Great Crescent Belgian Style Wit\n",
      "2188   12.0            Damascene Apricot Sour\n",
      "586     8.0                         Ale Cider\n",
      "\n",
      "[91 rows x 2 columns]\n"
     ]
    }
   ],
   "source": [
    "# Ejercicio resuelto\n",
    "\n",
    "cervezas_in = merged_df.loc[merged_df[\"state\"] == \" IN\", [\"ibu\", \"name\"]]\n",
    "# print(cervezas_in)\n",
    "\n",
    "bitter = cervezas_in.dropna().sort_values(by=\"ibu\", ascending=False)\n",
    "print(bitter)"
   ]
  },
  {
   "attachments": {},
   "cell_type": "markdown",
   "metadata": {},
   "source": [
    "## Ejercicio 22\n",
    "Obtén una tabla con los principales estadísticos del campo `ibu`,  a nivel ciudad"
   ]
  },
  {
   "cell_type": "code",
   "execution_count": 297,
   "metadata": {},
   "outputs": [
    {
     "data": {
      "application/vnd.microsoft.datawrangler.viewer.v0+json": {
       "columns": [
        {
         "name": "city",
         "rawType": "object",
         "type": "string"
        },
        {
         "name": "count",
         "rawType": "float64",
         "type": "float"
        },
        {
         "name": "mean",
         "rawType": "float64",
         "type": "float"
        },
        {
         "name": "std",
         "rawType": "float64",
         "type": "float"
        },
        {
         "name": "min",
         "rawType": "float64",
         "type": "float"
        },
        {
         "name": "25%",
         "rawType": "float64",
         "type": "float"
        },
        {
         "name": "50%",
         "rawType": "float64",
         "type": "float"
        },
        {
         "name": "75%",
         "rawType": "float64",
         "type": "float"
        },
        {
         "name": "max",
         "rawType": "float64",
         "type": "float"
        }
       ],
       "conversionMethod": "pd.DataFrame",
       "ref": "26a05545-9b3e-4c3f-8c21-7addfa392bc1",
       "rows": [
        [
         "Abingdon",
         "1.0",
         "135.0",
         null,
         "135.0",
         "135.0",
         "135.0",
         "135.0",
         "135.0"
        ],
        [
         "Abita Springs",
         "3.0",
         "27.333333333333332",
         "21.455380055672126",
         "13.0",
         "15.0",
         "17.0",
         "34.5",
         "52.0"
        ],
        [
         "Ada",
         "0.0",
         null,
         null,
         null,
         null,
         null,
         null,
         null
        ],
        [
         "Afton",
         "4.0",
         "43.0",
         "19.8997487421324",
         "22.0",
         "28.0",
         "45.0",
         "60.0",
         "60.0"
        ],
        [
         "Airway Heights",
         "0.0",
         null,
         null,
         null,
         null,
         null,
         null,
         null
        ],
        [
         "Albuquerque",
         "4.0",
         "54.25",
         "38.88765871070152",
         "15.0",
         "26.25",
         "51.0",
         "79.0",
         "100.0"
        ],
        [
         "Alpine",
         "0.0",
         null,
         null,
         null,
         null,
         null,
         null,
         null
        ],
        [
         "Anchorage",
         "10.0",
         "40.4",
         "26.563132345414388",
         "10.0",
         "15.5",
         "42.5",
         "63.25",
         "70.0"
        ],
        [
         "Angola",
         "2.0",
         "19.0",
         "15.556349186104045",
         "8.0",
         "13.5",
         "19.0",
         "24.5",
         "30.0"
        ],
        [
         "Ann Arbor",
         "1.0",
         "15.0",
         null,
         "15.0",
         "15.0",
         "15.0",
         "15.0",
         "15.0"
        ],
        [
         "Arrington",
         "1.0",
         "16.0",
         null,
         "16.0",
         "16.0",
         "16.0",
         "16.0",
         "16.0"
        ],
        [
         "Arvada",
         "3.0",
         "45.666666666666664",
         "23.072349974229617",
         "29.0",
         "32.5",
         "36.0",
         "54.0",
         "72.0"
        ],
        [
         "Ashburn",
         "2.0",
         "60.0",
         "7.0710678118654755",
         "55.0",
         "57.5",
         "60.0",
         "62.5",
         "65.0"
        ],
        [
         "Asheville",
         "6.0",
         "36.666666666666664",
         "17.107503227141788",
         "24.0",
         "26.25",
         "29.5",
         "39.5",
         "69.0"
        ],
        [
         "Ashland",
         "17.0",
         "54.23529411764706",
         "26.927052873840246",
         "16.0",
         "40.0",
         "55.0",
         "55.0",
         "100.0"
        ],
        [
         "Aspen",
         "2.0",
         "47.0",
         "28.284271247461902",
         "27.0",
         "37.0",
         "47.0",
         "57.0",
         "67.0"
        ],
        [
         "Astoria",
         "5.0",
         "69.0",
         "46.63153439465616",
         "35.0",
         "35.0",
         "40.0",
         "97.0",
         "138.0"
        ],
        [
         "Athens",
         "2.0",
         "53.5",
         "16.263455967290593",
         "42.0",
         "47.75",
         "53.5",
         "59.25",
         "65.0"
        ],
        [
         "Atlanta",
         "1.0",
         "35.0",
         null,
         "35.0",
         "35.0",
         "35.0",
         "35.0",
         "35.0"
        ],
        [
         "Atlantic Highlands",
         "4.0",
         "56.0",
         "41.480919308359915",
         "9.0",
         "28.5",
         "57.5",
         "85.0",
         "100.0"
        ],
        [
         "Aurora",
         "24.0",
         "34.666666666666664",
         "21.383997809550035",
         "12.0",
         "22.0",
         "26.5",
         "39.25",
         "100.0"
        ],
        [
         "Austin",
         "13.0",
         "39.07692307692308",
         "17.900007162296234",
         "20.0",
         "27.0",
         "35.0",
         "42.0",
         "75.0"
        ],
        [
         "Avon",
         "0.0",
         null,
         null,
         null,
         null,
         null,
         null,
         null
        ],
        [
         "Baltimore",
         "2.0",
         "50.0",
         "56.568542494923804",
         "10.0",
         "30.0",
         "50.0",
         "70.0",
         "90.0"
        ],
        [
         "Bargersville",
         "1.0",
         "22.0",
         null,
         "22.0",
         "22.0",
         "22.0",
         "22.0",
         "22.0"
        ],
        [
         "Baton Rouge",
         "6.0",
         "33.166666666666664",
         "15.118421434351758",
         "18.0",
         "22.75",
         "31.5",
         "36.5",
         "60.0"
        ],
        [
         "Battle Creek",
         "2.0",
         "36.0",
         "26.870057685088806",
         "17.0",
         "26.5",
         "36.0",
         "45.5",
         "55.0"
        ],
        [
         "Belfast",
         "0.0",
         null,
         null,
         null,
         null,
         null,
         null,
         null
        ],
        [
         "Bellingham",
         "0.0",
         null,
         null,
         null,
         null,
         null,
         null,
         null
        ],
        [
         "Belmont",
         "3.0",
         "41.333333333333336",
         "38.552993831002716",
         "12.0",
         "19.5",
         "27.0",
         "56.0",
         "85.0"
        ],
        [
         "Belt",
         "0.0",
         null,
         null,
         null,
         null,
         null,
         null,
         null
        ],
        [
         "Bend",
         "9.0",
         "45.666666666666664",
         "20.00624902374256",
         "18.0",
         "30.0",
         "40.0",
         "69.0",
         "70.0"
        ],
        [
         "Biglerville",
         "0.0",
         null,
         null,
         null,
         null,
         null,
         null,
         null
        ],
        [
         "Birmingham",
         "11.0",
         "43.09090909090909",
         "25.590836428122255",
         "6.0",
         "30.0",
         "36.0",
         "54.5",
         "103.0"
        ],
        [
         "Black Mountain",
         "2.0",
         "41.0",
         "14.142135623730951",
         "31.0",
         "36.0",
         "41.0",
         "46.0",
         "51.0"
        ],
        [
         "Blanco",
         "7.0",
         "37.0",
         "27.012342857787562",
         "5.0",
         "21.0",
         "25.0",
         "51.0",
         "85.0"
        ],
        [
         "Bloomfield",
         "1.0",
         "11.0",
         null,
         "11.0",
         "11.0",
         "11.0",
         "11.0",
         "11.0"
        ],
        [
         "Bloomington",
         "8.0",
         "37.25",
         "29.261139514965674",
         "12.0",
         "15.75",
         "22.0",
         "56.5",
         "85.0"
        ],
        [
         "Boise",
         "7.0",
         "76.28571428571429",
         "37.70815245944519",
         "12.0",
         "61.0",
         "100.0",
         "100.0",
         "100.0"
        ],
        [
         "Boone",
         "3.0",
         "39.0",
         "31.240998703626616",
         "19.0",
         "21.0",
         "23.0",
         "49.0",
         "75.0"
        ],
        [
         "Boonville",
         "14.0",
         "22.5",
         "25.40063597023326",
         "4.0",
         "7.75",
         "14.0",
         "22.5",
         "80.0"
        ],
        [
         "Boston",
         "18.0",
         "27.5",
         "12.705950435547441",
         "7.0",
         "16.25",
         "29.0",
         "39.0",
         "45.0"
        ],
        [
         "Boulder",
         "26.0",
         "37.5",
         "20.717625346549735",
         "10.0",
         "20.5",
         "32.0",
         "49.5",
         "90.0"
        ],
        [
         "Boynton Beach",
         "1.0",
         "64.0",
         null,
         "64.0",
         "64.0",
         "64.0",
         "64.0",
         "64.0"
        ],
        [
         "Bozeman",
         "4.0",
         "52.25",
         "22.45551157288562",
         "25.0",
         "45.25",
         "52.0",
         "59.0",
         "80.0"
        ],
        [
         "Brevard",
         "6.0",
         "72.16666666666667",
         "22.274798914169054",
         "35.0",
         "65.0",
         "75.0",
         "85.0",
         "98.0"
        ],
        [
         "Bridgewater Corners",
         "5.0",
         "28.6",
         "12.521980673998822",
         "8.0",
         "30.0",
         "30.0",
         "33.0",
         "42.0"
        ],
        [
         "Bridgman",
         "1.0",
         "35.0",
         null,
         "35.0",
         "35.0",
         "35.0",
         "35.0",
         "35.0"
        ],
        [
         "Bronx",
         "3.0",
         "37.333333333333336",
         "18.583146486355137",
         "16.0",
         "31.0",
         "46.0",
         "48.0",
         "50.0"
        ],
        [
         "Brooklyn",
         "28.0",
         "51.07142857142857",
         "25.019886270618997",
         "7.0",
         "34.75",
         "49.0",
         "62.5",
         "111.0"
        ]
       ],
       "shape": {
        "columns": 8,
        "rows": 384
       }
      },
      "text/html": [
       "<div>\n",
       "<style scoped>\n",
       "    .dataframe tbody tr th:only-of-type {\n",
       "        vertical-align: middle;\n",
       "    }\n",
       "\n",
       "    .dataframe tbody tr th {\n",
       "        vertical-align: top;\n",
       "    }\n",
       "\n",
       "    .dataframe thead th {\n",
       "        text-align: right;\n",
       "    }\n",
       "</style>\n",
       "<table border=\"1\" class=\"dataframe\">\n",
       "  <thead>\n",
       "    <tr style=\"text-align: right;\">\n",
       "      <th></th>\n",
       "      <th>count</th>\n",
       "      <th>mean</th>\n",
       "      <th>std</th>\n",
       "      <th>min</th>\n",
       "      <th>25%</th>\n",
       "      <th>50%</th>\n",
       "      <th>75%</th>\n",
       "      <th>max</th>\n",
       "    </tr>\n",
       "    <tr>\n",
       "      <th>city</th>\n",
       "      <th></th>\n",
       "      <th></th>\n",
       "      <th></th>\n",
       "      <th></th>\n",
       "      <th></th>\n",
       "      <th></th>\n",
       "      <th></th>\n",
       "      <th></th>\n",
       "    </tr>\n",
       "  </thead>\n",
       "  <tbody>\n",
       "    <tr>\n",
       "      <th>Abingdon</th>\n",
       "      <td>1.0</td>\n",
       "      <td>135.000000</td>\n",
       "      <td>NaN</td>\n",
       "      <td>135.0</td>\n",
       "      <td>135.00</td>\n",
       "      <td>135.0</td>\n",
       "      <td>135.00</td>\n",
       "      <td>135.0</td>\n",
       "    </tr>\n",
       "    <tr>\n",
       "      <th>Abita Springs</th>\n",
       "      <td>3.0</td>\n",
       "      <td>27.333333</td>\n",
       "      <td>21.455380</td>\n",
       "      <td>13.0</td>\n",
       "      <td>15.00</td>\n",
       "      <td>17.0</td>\n",
       "      <td>34.50</td>\n",
       "      <td>52.0</td>\n",
       "    </tr>\n",
       "    <tr>\n",
       "      <th>Ada</th>\n",
       "      <td>0.0</td>\n",
       "      <td>NaN</td>\n",
       "      <td>NaN</td>\n",
       "      <td>NaN</td>\n",
       "      <td>NaN</td>\n",
       "      <td>NaN</td>\n",
       "      <td>NaN</td>\n",
       "      <td>NaN</td>\n",
       "    </tr>\n",
       "    <tr>\n",
       "      <th>Afton</th>\n",
       "      <td>4.0</td>\n",
       "      <td>43.000000</td>\n",
       "      <td>19.899749</td>\n",
       "      <td>22.0</td>\n",
       "      <td>28.00</td>\n",
       "      <td>45.0</td>\n",
       "      <td>60.00</td>\n",
       "      <td>60.0</td>\n",
       "    </tr>\n",
       "    <tr>\n",
       "      <th>Airway Heights</th>\n",
       "      <td>0.0</td>\n",
       "      <td>NaN</td>\n",
       "      <td>NaN</td>\n",
       "      <td>NaN</td>\n",
       "      <td>NaN</td>\n",
       "      <td>NaN</td>\n",
       "      <td>NaN</td>\n",
       "      <td>NaN</td>\n",
       "    </tr>\n",
       "    <tr>\n",
       "      <th>...</th>\n",
       "      <td>...</td>\n",
       "      <td>...</td>\n",
       "      <td>...</td>\n",
       "      <td>...</td>\n",
       "      <td>...</td>\n",
       "      <td>...</td>\n",
       "      <td>...</td>\n",
       "      <td>...</td>\n",
       "    </tr>\n",
       "    <tr>\n",
       "      <th>Woodinville</th>\n",
       "      <td>4.0</td>\n",
       "      <td>46.750000</td>\n",
       "      <td>18.643587</td>\n",
       "      <td>27.0</td>\n",
       "      <td>39.75</td>\n",
       "      <td>44.0</td>\n",
       "      <td>51.00</td>\n",
       "      <td>72.0</td>\n",
       "    </tr>\n",
       "    <tr>\n",
       "      <th>Worcester</th>\n",
       "      <td>1.0</td>\n",
       "      <td>69.000000</td>\n",
       "      <td>NaN</td>\n",
       "      <td>69.0</td>\n",
       "      <td>69.00</td>\n",
       "      <td>69.0</td>\n",
       "      <td>69.00</td>\n",
       "      <td>69.0</td>\n",
       "    </tr>\n",
       "    <tr>\n",
       "      <th>Yakima</th>\n",
       "      <td>2.0</td>\n",
       "      <td>54.000000</td>\n",
       "      <td>22.627417</td>\n",
       "      <td>38.0</td>\n",
       "      <td>46.00</td>\n",
       "      <td>54.0</td>\n",
       "      <td>62.00</td>\n",
       "      <td>70.0</td>\n",
       "    </tr>\n",
       "    <tr>\n",
       "      <th>Yardley</th>\n",
       "      <td>0.0</td>\n",
       "      <td>NaN</td>\n",
       "      <td>NaN</td>\n",
       "      <td>NaN</td>\n",
       "      <td>NaN</td>\n",
       "      <td>NaN</td>\n",
       "      <td>NaN</td>\n",
       "      <td>NaN</td>\n",
       "    </tr>\n",
       "    <tr>\n",
       "      <th>York</th>\n",
       "      <td>4.0</td>\n",
       "      <td>44.250000</td>\n",
       "      <td>22.779742</td>\n",
       "      <td>20.0</td>\n",
       "      <td>35.00</td>\n",
       "      <td>41.0</td>\n",
       "      <td>50.25</td>\n",
       "      <td>75.0</td>\n",
       "    </tr>\n",
       "  </tbody>\n",
       "</table>\n",
       "<p>384 rows × 8 columns</p>\n",
       "</div>"
      ],
      "text/plain": [
       "                count        mean        std    min     25%    50%     75%  \\\n",
       "city                                                                         \n",
       "Abingdon          1.0  135.000000        NaN  135.0  135.00  135.0  135.00   \n",
       "Abita Springs     3.0   27.333333  21.455380   13.0   15.00   17.0   34.50   \n",
       "Ada               0.0         NaN        NaN    NaN     NaN    NaN     NaN   \n",
       "Afton             4.0   43.000000  19.899749   22.0   28.00   45.0   60.00   \n",
       "Airway Heights    0.0         NaN        NaN    NaN     NaN    NaN     NaN   \n",
       "...               ...         ...        ...    ...     ...    ...     ...   \n",
       "Woodinville       4.0   46.750000  18.643587   27.0   39.75   44.0   51.00   \n",
       "Worcester         1.0   69.000000        NaN   69.0   69.00   69.0   69.00   \n",
       "Yakima            2.0   54.000000  22.627417   38.0   46.00   54.0   62.00   \n",
       "Yardley           0.0         NaN        NaN    NaN     NaN    NaN     NaN   \n",
       "York              4.0   44.250000  22.779742   20.0   35.00   41.0   50.25   \n",
       "\n",
       "                  max  \n",
       "city                   \n",
       "Abingdon        135.0  \n",
       "Abita Springs    52.0  \n",
       "Ada               NaN  \n",
       "Afton            60.0  \n",
       "Airway Heights    NaN  \n",
       "...               ...  \n",
       "Woodinville      72.0  \n",
       "Worcester        69.0  \n",
       "Yakima           70.0  \n",
       "Yardley           NaN  \n",
       "York             75.0  \n",
       "\n",
       "[384 rows x 8 columns]"
      ]
     },
     "execution_count": 297,
     "metadata": {},
     "output_type": "execute_result"
    }
   ],
   "source": [
    "# Agrupar por ciudad y calcular los principales estadísticos del campo 'ibu'\n",
    "ibu_stats_by_city = merged_df.groupby('city')['ibu'].describe()\n",
    "\n",
    "# Ver los resultados\n",
    "ibu_stats_by_city\n"
   ]
  },
  {
   "attachments": {},
   "cell_type": "markdown",
   "metadata": {},
   "source": [
    "## Ejercicio 23\n",
    "Consigue en un DataFrame de todas las cervezas en cuyas cervecerías al menos haya una cerveza con un `abv` mínimo 0.07."
   ]
  },
  {
   "cell_type": "code",
   "execution_count": 298,
   "metadata": {},
   "outputs": [],
   "source": [
    "# todas las cervezas, que venda una cervecería, donde al menos una de ellas sea de 0.07 para arriba"
   ]
  },
  {
   "cell_type": "code",
   "execution_count": 299,
   "metadata": {},
   "outputs": [
    {
     "data": {
      "application/vnd.microsoft.datawrangler.viewer.v0+json": {
       "columns": [
        {
         "name": "index",
         "rawType": "int64",
         "type": "integer"
        },
        {
         "name": "abv",
         "rawType": "float64",
         "type": "float"
        },
        {
         "name": "ibu",
         "rawType": "float64",
         "type": "float"
        },
        {
         "name": "id",
         "rawType": "int64",
         "type": "integer"
        },
        {
         "name": "name",
         "rawType": "object",
         "type": "string"
        },
        {
         "name": "style",
         "rawType": "object",
         "type": "string"
        },
        {
         "name": "brewery_id",
         "rawType": "int64",
         "type": "integer"
        },
        {
         "name": "ounces",
         "rawType": "float64",
         "type": "float"
        },
        {
         "name": "brewery_name",
         "rawType": "object",
         "type": "string"
        },
        {
         "name": "city",
         "rawType": "object",
         "type": "string"
        },
        {
         "name": "state",
         "rawType": "object",
         "type": "string"
        }
       ],
       "conversionMethod": "pd.DataFrame",
       "ref": "874d58c6-3075-404a-9874-a0e72c1f9305",
       "rows": [
        [
         "2",
         "0.071",
         null,
         "2264",
         "Rise of the Phoenix",
         "American IPA",
         "177",
         "12.0",
         "18th Street Brewery",
         "Gary",
         " IN"
        ],
        [
         "3",
         "0.09",
         null,
         "2263",
         "Sinister",
         "American Double / Imperial IPA",
         "177",
         "12.0",
         "18th Street Brewery",
         "Gary",
         " IN"
        ],
        [
         "4",
         "0.075",
         null,
         "2262",
         "Sex and Candy",
         "American IPA",
         "177",
         "12.0",
         "18th Street Brewery",
         "Gary",
         " IN"
        ],
        [
         "5",
         "0.077",
         null,
         "2261",
         "Black Exodus",
         "Oatmeal Stout",
         "177",
         "12.0",
         "18th Street Brewery",
         "Gary",
         " IN"
        ],
        [
         "9",
         "0.086",
         null,
         "2131",
         "Cone Crusher",
         "American Double / Imperial IPA",
         "177",
         "12.0",
         "18th Street Brewery",
         "Gary",
         " IN"
        ],
        [
         "10",
         "0.072",
         null,
         "2099",
         "Sophomoric Saison",
         "Saison / Farmhouse Ale",
         "177",
         "12.0",
         "18th Street Brewery",
         "Gary",
         " IN"
        ],
        [
         "11",
         "0.073",
         null,
         "2098",
         "Regional Ring Of Fire",
         "Saison / Farmhouse Ale",
         "177",
         "12.0",
         "18th Street Brewery",
         "Gary",
         " IN"
        ],
        [
         "13",
         "0.085",
         null,
         "1980",
         "Troll Destroyer",
         "Belgian IPA",
         "177",
         "12.0",
         "18th Street Brewery",
         "Gary",
         " IN"
        ],
        [
         "19",
         "0.0819999999999999",
         null,
         "1593",
         "He Said Baltic-Style Porter",
         "Baltic Porter",
         "368",
         "12.0",
         "21st Amendment Brewery",
         "San Francisco",
         " CA"
        ],
        [
         "20",
         "0.0819999999999999",
         null,
         "1592",
         "He Said Belgian-Style Tripel",
         "Tripel",
         "368",
         "12.0",
         "21st Amendment Brewery",
         "San Francisco",
         " CA"
        ],
        [
         "21",
         "0.099",
         "92.0",
         "1036",
         "Lower De Boom",
         "American Barleywine",
         "368",
         "8.4",
         "21st Amendment Brewery",
         "San Francisco",
         " CA"
        ],
        [
         "22",
         "0.079",
         "45.0",
         "1024",
         "Fireside Chat",
         "Winter Warmer",
         "368",
         "12.0",
         "21st Amendment Brewery",
         "San Francisco",
         " CA"
        ],
        [
         "23",
         "0.079",
         null,
         "976",
         "Marooned On Hog Island",
         "American Stout",
         "368",
         "12.0",
         "21st Amendment Brewery",
         "San Francisco",
         " CA"
        ],
        [
         "28",
         "0.07",
         "70.0",
         "799",
         "21st Amendment IPA (2006)",
         "American IPA",
         "368",
         "12.0",
         "21st Amendment Brewery",
         "San Francisco",
         " CA"
        ],
        [
         "29",
         "0.07",
         "70.0",
         "797",
         "Brew Free! or Die IPA (2008)",
         "American IPA",
         "368",
         "12.0",
         "21st Amendment Brewery",
         "San Francisco",
         " CA"
        ],
        [
         "30",
         "0.07",
         "70.0",
         "796",
         "Brew Free! or Die IPA (2009)",
         "American IPA",
         "368",
         "12.0",
         "21st Amendment Brewery",
         "San Francisco",
         " CA"
        ],
        [
         "31",
         "0.085",
         "52.0",
         "531",
         "Special Edition: Allies Win The War!",
         "English Strong Ale",
         "368",
         "12.0",
         "21st Amendment Brewery",
         "San Francisco",
         " CA"
        ],
        [
         "32",
         "0.0969999999999999",
         "94.0",
         "432",
         "Hop Crisis",
         "American Double / Imperial IPA",
         "368",
         "12.0",
         "21st Amendment Brewery",
         "San Francisco",
         " CA"
        ],
        [
         "34",
         "0.079",
         "45.0",
         "321",
         "Fireside Chat (2010)",
         "Winter Warmer",
         "368",
         "12.0",
         "21st Amendment Brewery",
         "San Francisco",
         " CA"
        ],
        [
         "36",
         "0.083",
         "35.0",
         "11",
         "Monk's Blood",
         "Belgian Dark Ale",
         "368",
         "12.0",
         "21st Amendment Brewery",
         "San Francisco",
         " CA"
        ],
        [
         "37",
         "0.07",
         "65.0",
         "10",
         "Brew Free! or Die IPA",
         "American IPA",
         "368",
         "12.0",
         "21st Amendment Brewery",
         "San Francisco",
         " CA"
        ],
        [
         "39",
         "0.07",
         "82.0",
         "2519",
         "Bimini Twist",
         "American IPA",
         "67",
         "12.0",
         "3 Daughters Brewing",
         "St Petersburg",
         " FL"
        ],
        [
         "52",
         "0.09",
         null,
         "2220",
         "Barn Yeti",
         "Belgian Strong Dark Ale",
         "27",
         "16.0",
         "450 North Brewing Company",
         "Columbus",
         " IN"
        ],
        [
         "54",
         "0.09",
         "50.0",
         "2218",
         "Ironman",
         "English Strong Ale",
         "27",
         "16.0",
         "450 North Brewing Company",
         "Columbus",
         " IN"
        ],
        [
         "60",
         "0.084",
         "82.0",
         "47",
         "Ballz Deep Double IPA",
         "American Double / Imperial IPA",
         "481",
         "16.0",
         "7 Seas Brewing Company",
         "Gig Harbor",
         " WA"
        ],
        [
         "67",
         "0.0819999999999999",
         "68.0",
         "2540",
         "Citra Ass Down",
         "American IPA",
         "62",
         "16.0",
         "Against The Grain Brewery",
         "Louisville",
         " KY"
        ],
        [
         "69",
         "0.08",
         "68.0",
         "2686",
         "Citra Ass Down",
         "American Double / Imperial IPA",
         "1",
         "16.0",
         "Against the Grain Brewery",
         "Louisville",
         " KY"
        ],
        [
         "70",
         "0.125",
         "80.0",
         "2685",
         "London Balling",
         "English Barleywine",
         "1",
         "16.0",
         "Against the Grain Brewery",
         "Louisville",
         " KY"
        ],
        [
         "71",
         "0.077",
         "25.0",
         "2684",
         "35 K",
         "Milk / Sweet Stout",
         "1",
         "16.0",
         "Against the Grain Brewery",
         "Louisville",
         " KY"
        ],
        [
         "77",
         "0.076",
         "68.0",
         "2678",
         "Rico Sauvin",
         "American Double / Imperial IPA",
         "1",
         "16.0",
         "Against the Grain Brewery",
         "Louisville",
         " KY"
        ],
        [
         "87",
         "0.0819999999999999",
         "103.0",
         "2401",
         "Yellow Wolf Imperial IPA",
         "American Double / Imperial IPA",
         "117",
         "12.0",
         "Alameda Brewing",
         "Portland",
         " OR"
        ],
        [
         "107",
         "0.07",
         "80.0",
         "1327",
         "Hop Ottin' IPA",
         "American IPA",
         "171",
         "12.0",
         "Anderson Valley Brewing Company",
         "Boonville",
         " CA"
        ],
        [
         "115",
         "0.07",
         "80.0",
         "367",
         "Hop Ottin' IPA (2011)",
         "American IPA",
         "171",
         "12.0",
         "Anderson Valley Brewing Company",
         "Boonville",
         " CA"
        ],
        [
         "127",
         "0.085",
         null,
         "2039",
         "Uroboros",
         "American Stout",
         "193",
         "12.0",
         "Anthem Brewing Company",
         "Oklahoma City",
         " OK"
        ],
        [
         "128",
         "0.071",
         "75.0",
         "2511",
         "Long Leaf",
         "American IPA",
         "69",
         "16.0",
         "Appalachian Mountain Brewery",
         "Boone",
         " NC"
        ],
        [
         "134",
         "0.092",
         "50.0",
         "1333",
         "Quakertown Stout",
         "American Double / Imperial Stout",
         "426",
         "12.0",
         "Armadillo Ale Works",
         "Denton",
         " TX"
        ],
        [
         "137",
         "0.07",
         "45.0",
         "1322",
         "Green Bullet Organic India Pale Ale",
         "American IPA",
         "429",
         "16.0",
         "Asher Brewing Company",
         "Boulder",
         " CO"
        ],
        [
         "142",
         "0.077",
         null,
         "1639",
         "Aslan IPA",
         "American IPA",
         "353",
         "16.0",
         "Aslan Brewing Company",
         "Bellingham",
         " WA"
        ],
        [
         "143",
         "0.077",
         null,
         "1638",
         "Aslan Amber",
         "American Amber / Red Ale",
         "353",
         "16.0",
         "Aslan Brewing Company",
         "Bellingham",
         " WA"
        ],
        [
         "145",
         "0.07",
         "67.0",
         "596",
         "Independence Pass Ale",
         "American IPA",
         "523",
         "12.0",
         "Aspen Brewing Company",
         "Aspen",
         " CO"
        ],
        [
         "147",
         "0.0819999999999999",
         "138.0",
         "980",
         "Bitter Bitch Imperial IPA",
         "American Double / Imperial IPA",
         "374",
         "12.0",
         "Astoria Brewing Company",
         "Astoria",
         " OR"
        ],
        [
         "150",
         "0.075",
         "115.0",
         "2503",
         "Hop A-Peel",
         "American Double / Imperial IPA",
         "72",
         "16.0",
         "Atwater Brewery",
         "Detroit",
         " MI"
        ],
        [
         "156",
         "0.07",
         null,
         "1409",
         "Heavy Machinery IPA Series #1: Heavy Fist",
         "American Black Ale",
         "413",
         "16.0",
         "Austin Beerworks",
         "Austin",
         " TX"
        ],
        [
         "161",
         "0.08",
         null,
         "2589",
         "Raja",
         "American Double / Imperial IPA",
         "37",
         "12.0",
         "Avery Brewing Company",
         "Boulder",
         " CO"
        ],
        [
         "168",
         "0.072",
         "22.0",
         "1579",
         "OktoberBeast",
         "Märzen / Oktoberfest",
         "360",
         "12.0",
         "Aviator Brewing Company",
         "Fuquay-Varina",
         " NC"
        ],
        [
         "171",
         "0.092",
         "5.0",
         "704",
         "Devils Tramping Ground Tripel",
         "Tripel",
         "360",
         "12.0",
         "Aviator Brewing Company",
         "Fuquay-Varina",
         " NC"
        ],
        [
         "173",
         "0.086",
         null,
         "2058",
         "Palate Mallet",
         "American Double / Imperial IPA",
         "235",
         "12.0",
         "Back East Brewing Company",
         "Bloomfield",
         " CT"
        ],
        [
         "176",
         "0.07",
         null,
         "1132",
         "Misty Mountain IPA",
         "American IPA",
         "235",
         "12.0",
         "Back East Brewing Company",
         "Bloomfield",
         " CT"
        ],
        [
         "182",
         "0.07",
         null,
         "2593",
         "Grapefruit Sculpin",
         "American IPA",
         "34",
         "12.0",
         "Ballast Point Brewing Company",
         "San Diego",
         " CA"
        ],
        [
         "185",
         "0.07",
         "75.0",
         "1400",
         "Big Eye India Pale Ale",
         "American IPA",
         "34",
         "12.0",
         "Ballast Point Brewing Company",
         "San Diego",
         " CA"
        ]
       ],
       "shape": {
        "columns": 10,
        "rows": 501
       }
      },
      "text/html": [
       "<div>\n",
       "<style scoped>\n",
       "    .dataframe tbody tr th:only-of-type {\n",
       "        vertical-align: middle;\n",
       "    }\n",
       "\n",
       "    .dataframe tbody tr th {\n",
       "        vertical-align: top;\n",
       "    }\n",
       "\n",
       "    .dataframe thead th {\n",
       "        text-align: right;\n",
       "    }\n",
       "</style>\n",
       "<table border=\"1\" class=\"dataframe\">\n",
       "  <thead>\n",
       "    <tr style=\"text-align: right;\">\n",
       "      <th></th>\n",
       "      <th>abv</th>\n",
       "      <th>ibu</th>\n",
       "      <th>id</th>\n",
       "      <th>name</th>\n",
       "      <th>style</th>\n",
       "      <th>brewery_id</th>\n",
       "      <th>ounces</th>\n",
       "      <th>brewery_name</th>\n",
       "      <th>city</th>\n",
       "      <th>state</th>\n",
       "    </tr>\n",
       "  </thead>\n",
       "  <tbody>\n",
       "    <tr>\n",
       "      <th>2</th>\n",
       "      <td>0.071</td>\n",
       "      <td>NaN</td>\n",
       "      <td>2264</td>\n",
       "      <td>Rise of the Phoenix</td>\n",
       "      <td>American IPA</td>\n",
       "      <td>177</td>\n",
       "      <td>12.0</td>\n",
       "      <td>18th Street Brewery</td>\n",
       "      <td>Gary</td>\n",
       "      <td>IN</td>\n",
       "    </tr>\n",
       "    <tr>\n",
       "      <th>3</th>\n",
       "      <td>0.090</td>\n",
       "      <td>NaN</td>\n",
       "      <td>2263</td>\n",
       "      <td>Sinister</td>\n",
       "      <td>American Double / Imperial IPA</td>\n",
       "      <td>177</td>\n",
       "      <td>12.0</td>\n",
       "      <td>18th Street Brewery</td>\n",
       "      <td>Gary</td>\n",
       "      <td>IN</td>\n",
       "    </tr>\n",
       "    <tr>\n",
       "      <th>4</th>\n",
       "      <td>0.075</td>\n",
       "      <td>NaN</td>\n",
       "      <td>2262</td>\n",
       "      <td>Sex and Candy</td>\n",
       "      <td>American IPA</td>\n",
       "      <td>177</td>\n",
       "      <td>12.0</td>\n",
       "      <td>18th Street Brewery</td>\n",
       "      <td>Gary</td>\n",
       "      <td>IN</td>\n",
       "    </tr>\n",
       "    <tr>\n",
       "      <th>5</th>\n",
       "      <td>0.077</td>\n",
       "      <td>NaN</td>\n",
       "      <td>2261</td>\n",
       "      <td>Black Exodus</td>\n",
       "      <td>Oatmeal Stout</td>\n",
       "      <td>177</td>\n",
       "      <td>12.0</td>\n",
       "      <td>18th Street Brewery</td>\n",
       "      <td>Gary</td>\n",
       "      <td>IN</td>\n",
       "    </tr>\n",
       "    <tr>\n",
       "      <th>9</th>\n",
       "      <td>0.086</td>\n",
       "      <td>NaN</td>\n",
       "      <td>2131</td>\n",
       "      <td>Cone Crusher</td>\n",
       "      <td>American Double / Imperial IPA</td>\n",
       "      <td>177</td>\n",
       "      <td>12.0</td>\n",
       "      <td>18th Street Brewery</td>\n",
       "      <td>Gary</td>\n",
       "      <td>IN</td>\n",
       "    </tr>\n",
       "    <tr>\n",
       "      <th>...</th>\n",
       "      <td>...</td>\n",
       "      <td>...</td>\n",
       "      <td>...</td>\n",
       "      <td>...</td>\n",
       "      <td>...</td>\n",
       "      <td>...</td>\n",
       "      <td>...</td>\n",
       "      <td>...</td>\n",
       "      <td>...</td>\n",
       "      <td>...</td>\n",
       "    </tr>\n",
       "    <tr>\n",
       "      <th>2380</th>\n",
       "      <td>0.080</td>\n",
       "      <td>31.0</td>\n",
       "      <td>761</td>\n",
       "      <td>P-51 Porter</td>\n",
       "      <td>American Porter</td>\n",
       "      <td>509</td>\n",
       "      <td>16.0</td>\n",
       "      <td>Wingman Brewers</td>\n",
       "      <td>Tacoma</td>\n",
       "      <td>WA</td>\n",
       "    </tr>\n",
       "    <tr>\n",
       "      <th>2382</th>\n",
       "      <td>0.071</td>\n",
       "      <td>60.0</td>\n",
       "      <td>2148</td>\n",
       "      <td>#002 American I.P.A.</td>\n",
       "      <td>American IPA</td>\n",
       "      <td>211</td>\n",
       "      <td>12.0</td>\n",
       "      <td>Wisconsin Brewing Company</td>\n",
       "      <td>Verona</td>\n",
       "      <td>WI</td>\n",
       "    </tr>\n",
       "    <tr>\n",
       "      <th>2398</th>\n",
       "      <td>0.077</td>\n",
       "      <td>30.0</td>\n",
       "      <td>1513</td>\n",
       "      <td>Lights Out Vanilla Cream Extra Stout</td>\n",
       "      <td>American Double / Imperial IPA</td>\n",
       "      <td>199</td>\n",
       "      <td>12.0</td>\n",
       "      <td>Worthy Brewing Company</td>\n",
       "      <td>Bend</td>\n",
       "      <td>OR</td>\n",
       "    </tr>\n",
       "    <tr>\n",
       "      <th>2402</th>\n",
       "      <td>0.082</td>\n",
       "      <td>NaN</td>\n",
       "      <td>1316</td>\n",
       "      <td>Colorojo Imperial Red Ale</td>\n",
       "      <td>American Strong Ale</td>\n",
       "      <td>424</td>\n",
       "      <td>12.0</td>\n",
       "      <td>Wynkoop Brewing Company</td>\n",
       "      <td>Denver</td>\n",
       "      <td>CO</td>\n",
       "    </tr>\n",
       "    <tr>\n",
       "      <th>2404</th>\n",
       "      <td>0.075</td>\n",
       "      <td>NaN</td>\n",
       "      <td>1035</td>\n",
       "      <td>Rocky Mountain Oyster Stout</td>\n",
       "      <td>American Stout</td>\n",
       "      <td>424</td>\n",
       "      <td>12.0</td>\n",
       "      <td>Wynkoop Brewing Company</td>\n",
       "      <td>Denver</td>\n",
       "      <td>CO</td>\n",
       "    </tr>\n",
       "  </tbody>\n",
       "</table>\n",
       "<p>501 rows × 10 columns</p>\n",
       "</div>"
      ],
      "text/plain": [
       "        abv   ibu    id                                  name  \\\n",
       "2     0.071   NaN  2264                   Rise of the Phoenix   \n",
       "3     0.090   NaN  2263                              Sinister   \n",
       "4     0.075   NaN  2262                         Sex and Candy   \n",
       "5     0.077   NaN  2261                          Black Exodus   \n",
       "9     0.086   NaN  2131                          Cone Crusher   \n",
       "...     ...   ...   ...                                   ...   \n",
       "2380  0.080  31.0   761                           P-51 Porter   \n",
       "2382  0.071  60.0  2148                  #002 American I.P.A.   \n",
       "2398  0.077  30.0  1513  Lights Out Vanilla Cream Extra Stout   \n",
       "2402  0.082   NaN  1316             Colorojo Imperial Red Ale   \n",
       "2404  0.075   NaN  1035           Rocky Mountain Oyster Stout   \n",
       "\n",
       "                               style  brewery_id  ounces  \\\n",
       "2                       American IPA         177    12.0   \n",
       "3     American Double / Imperial IPA         177    12.0   \n",
       "4                       American IPA         177    12.0   \n",
       "5                      Oatmeal Stout         177    12.0   \n",
       "9     American Double / Imperial IPA         177    12.0   \n",
       "...                              ...         ...     ...   \n",
       "2380                 American Porter         509    16.0   \n",
       "2382                    American IPA         211    12.0   \n",
       "2398  American Double / Imperial IPA         199    12.0   \n",
       "2402             American Strong Ale         424    12.0   \n",
       "2404                  American Stout         424    12.0   \n",
       "\n",
       "                   brewery_name    city state  \n",
       "2           18th Street Brewery    Gary    IN  \n",
       "3           18th Street Brewery    Gary    IN  \n",
       "4           18th Street Brewery    Gary    IN  \n",
       "5           18th Street Brewery    Gary    IN  \n",
       "9           18th Street Brewery    Gary    IN  \n",
       "...                         ...     ...   ...  \n",
       "2380            Wingman Brewers  Tacoma    WA  \n",
       "2382  Wisconsin Brewing Company  Verona    WI  \n",
       "2398     Worthy Brewing Company    Bend    OR  \n",
       "2402    Wynkoop Brewing Company  Denver    CO  \n",
       "2404    Wynkoop Brewing Company  Denver    CO  \n",
       "\n",
       "[501 rows x 10 columns]"
      ]
     },
     "execution_count": 299,
     "metadata": {},
     "output_type": "execute_result"
    }
   ],
   "source": [
    "# Filtrar cervezas con un abv mínimo de 0.07\n",
    "high_abv_beers = merged_df[merged_df['abv'] >= 0.07]\n",
    "\n",
    "\"\"\" # Obtener las cervecerías correspondientes a esas cervezas\n",
    "breweries_with_high_abv = high_abv_beers['brewery_id'].unique()\n",
    "\n",
    "# Filtrar todas las cervezas de esas cervecerías\n",
    "all_beers_from_high_abv_breweries = merged_df[merged_df['brewery_id'].isin(breweries_with_high_abv)] # el método isin() para obtener todas las cervezas que pertenecen a las cervecerías obtenidas en el paso anterior\n",
    "\n",
    "all_beers_from_high_abv_breweries \"\"\"\n",
    "\n",
    "high_abv_beers\n"
   ]
  },
  {
   "attachments": {},
   "cell_type": "markdown",
   "metadata": {},
   "source": [
    "## Ejercicio 24\n",
    "Teniendo en cuenta la media de amargor de todas las cervezas, obtén una tabla con las cervezas cuyos estados tengan una media de amargor en cerveza por encima de la media"
   ]
  },
  {
   "cell_type": "code",
   "execution_count": 300,
   "metadata": {},
   "outputs": [],
   "source": [
    "# Las cervezas que se encuentran en aquellos estados, cuya media de amargor, sea superior a la media de amargor total"
   ]
  },
  {
   "cell_type": "code",
   "execution_count": 301,
   "metadata": {},
   "outputs": [
    {
     "data": {
      "application/vnd.microsoft.datawrangler.viewer.v0+json": {
       "columns": [
        {
         "name": "index",
         "rawType": "int64",
         "type": "integer"
        },
        {
         "name": "name",
         "rawType": "object",
         "type": "string"
        },
        {
         "name": "state",
         "rawType": "object",
         "type": "string"
        },
        {
         "name": "ibu",
         "rawType": "float64",
         "type": "float"
        }
       ],
       "conversionMethod": "pd.DataFrame",
       "ref": "55fb3ed7-870a-41c6-bccb-b27ecaae63bf",
       "rows": [
        [
         "0",
         "Pub Beer",
         " OR",
         null
        ],
        [
         "1",
         "Devil's Cup",
         " IN",
         null
        ],
        [
         "2",
         "Rise of the Phoenix",
         " IN",
         null
        ],
        [
         "3",
         "Sinister",
         " IN",
         null
        ],
        [
         "4",
         "Sex and Candy",
         " IN",
         null
        ],
        [
         "5",
         "Black Exodus",
         " IN",
         null
        ],
        [
         "6",
         "Lake Street Express",
         " IN",
         null
        ],
        [
         "7",
         "Foreman",
         " IN",
         null
        ],
        [
         "8",
         "Jade",
         " IN",
         null
        ],
        [
         "9",
         "Cone Crusher",
         " IN",
         null
        ],
        [
         "10",
         "Sophomoric Saison",
         " IN",
         null
        ],
        [
         "11",
         "Regional Ring Of Fire",
         " IN",
         null
        ],
        [
         "12",
         "Garce Selé",
         " IN",
         null
        ],
        [
         "13",
         "Troll Destroyer",
         " IN",
         null
        ],
        [
         "14",
         "Bitter Bitch",
         " IN",
         "60.0"
        ],
        [
         "15",
         "Ginja Ninja",
         " OR",
         null
        ],
        [
         "16",
         "Cherried Away",
         " OR",
         null
        ],
        [
         "17",
         "Rhubarbarian",
         " OR",
         null
        ],
        [
         "18",
         "BrightCider",
         " OR",
         null
        ],
        [
         "19",
         "He Said Baltic-Style Porter",
         " CA",
         null
        ],
        [
         "20",
         "He Said Belgian-Style Tripel",
         " CA",
         null
        ],
        [
         "21",
         "Lower De Boom",
         " CA",
         "92.0"
        ],
        [
         "22",
         "Fireside Chat",
         " CA",
         "45.0"
        ],
        [
         "23",
         "Marooned On Hog Island",
         " CA",
         null
        ],
        [
         "24",
         "Bitter American",
         " CA",
         "42.0"
        ],
        [
         "25",
         "Hell or High Watermelon Wheat (2009)",
         " CA",
         "17.0"
        ],
        [
         "26",
         "Hell or High Watermelon Wheat (2009)",
         " CA",
         "17.0"
        ],
        [
         "27",
         "21st Amendment Watermelon Wheat Beer (2006)",
         " CA",
         "17.0"
        ],
        [
         "28",
         "21st Amendment IPA (2006)",
         " CA",
         "70.0"
        ],
        [
         "29",
         "Brew Free! or Die IPA (2008)",
         " CA",
         "70.0"
        ],
        [
         "30",
         "Brew Free! or Die IPA (2009)",
         " CA",
         "70.0"
        ],
        [
         "31",
         "Special Edition: Allies Win The War!",
         " CA",
         "52.0"
        ],
        [
         "32",
         "Hop Crisis",
         " CA",
         "94.0"
        ],
        [
         "33",
         "Bitter American (2011)",
         " CA",
         "42.0"
        ],
        [
         "34",
         "Fireside Chat (2010)",
         " CA",
         "45.0"
        ],
        [
         "35",
         "Back in Black",
         " CA",
         "65.0"
        ],
        [
         "36",
         "Monk's Blood",
         " CA",
         "35.0"
        ],
        [
         "37",
         "Brew Free! or Die IPA",
         " CA",
         "65.0"
        ],
        [
         "38",
         "Hell or High Watermelon Wheat",
         " CA",
         "17.0"
        ],
        [
         "39",
         "Bimini Twist",
         " FL",
         "82.0"
        ],
        [
         "40",
         "Beach Blonde",
         " FL",
         null
        ],
        [
         "41",
         "Rod Bender Red",
         " FL",
         null
        ],
        [
         "50",
         "Galaxyfest",
         " IN",
         null
        ],
        [
         "51",
         "Citrafest",
         " IN",
         "45.0"
        ],
        [
         "52",
         "Barn Yeti",
         " IN",
         null
        ],
        [
         "53",
         "Scarecrow",
         " IN",
         "65.0"
        ],
        [
         "54",
         "Ironman",
         " IN",
         "50.0"
        ],
        [
         "55",
         "Honey Kolsch",
         " IN",
         "15.0"
        ],
        [
         "56",
         "Copperhead Amber",
         " IN",
         "18.0"
        ],
        [
         "57",
         "Rude Parrot IPA",
         " WA",
         "75.0"
        ]
       ],
       "shape": {
        "columns": 3,
        "rows": 1288
       }
      },
      "text/html": [
       "<div>\n",
       "<style scoped>\n",
       "    .dataframe tbody tr th:only-of-type {\n",
       "        vertical-align: middle;\n",
       "    }\n",
       "\n",
       "    .dataframe tbody tr th {\n",
       "        vertical-align: top;\n",
       "    }\n",
       "\n",
       "    .dataframe thead th {\n",
       "        text-align: right;\n",
       "    }\n",
       "</style>\n",
       "<table border=\"1\" class=\"dataframe\">\n",
       "  <thead>\n",
       "    <tr style=\"text-align: right;\">\n",
       "      <th></th>\n",
       "      <th>name</th>\n",
       "      <th>state</th>\n",
       "      <th>ibu</th>\n",
       "    </tr>\n",
       "  </thead>\n",
       "  <tbody>\n",
       "    <tr>\n",
       "      <th>0</th>\n",
       "      <td>Pub Beer</td>\n",
       "      <td>OR</td>\n",
       "      <td>NaN</td>\n",
       "    </tr>\n",
       "    <tr>\n",
       "      <th>1</th>\n",
       "      <td>Devil's Cup</td>\n",
       "      <td>IN</td>\n",
       "      <td>NaN</td>\n",
       "    </tr>\n",
       "    <tr>\n",
       "      <th>2</th>\n",
       "      <td>Rise of the Phoenix</td>\n",
       "      <td>IN</td>\n",
       "      <td>NaN</td>\n",
       "    </tr>\n",
       "    <tr>\n",
       "      <th>3</th>\n",
       "      <td>Sinister</td>\n",
       "      <td>IN</td>\n",
       "      <td>NaN</td>\n",
       "    </tr>\n",
       "    <tr>\n",
       "      <th>4</th>\n",
       "      <td>Sex and Candy</td>\n",
       "      <td>IN</td>\n",
       "      <td>NaN</td>\n",
       "    </tr>\n",
       "    <tr>\n",
       "      <th>...</th>\n",
       "      <td>...</td>\n",
       "      <td>...</td>\n",
       "      <td>...</td>\n",
       "    </tr>\n",
       "    <tr>\n",
       "      <th>2405</th>\n",
       "      <td>Belgorado</td>\n",
       "      <td>CO</td>\n",
       "      <td>45.0</td>\n",
       "    </tr>\n",
       "    <tr>\n",
       "      <th>2406</th>\n",
       "      <td>Rail Yard Ale</td>\n",
       "      <td>CO</td>\n",
       "      <td>NaN</td>\n",
       "    </tr>\n",
       "    <tr>\n",
       "      <th>2407</th>\n",
       "      <td>B3K Black Lager</td>\n",
       "      <td>CO</td>\n",
       "      <td>NaN</td>\n",
       "    </tr>\n",
       "    <tr>\n",
       "      <th>2408</th>\n",
       "      <td>Silverback Pale Ale</td>\n",
       "      <td>CO</td>\n",
       "      <td>40.0</td>\n",
       "    </tr>\n",
       "    <tr>\n",
       "      <th>2409</th>\n",
       "      <td>Rail Yard Ale (2009)</td>\n",
       "      <td>CO</td>\n",
       "      <td>NaN</td>\n",
       "    </tr>\n",
       "  </tbody>\n",
       "</table>\n",
       "<p>1288 rows × 3 columns</p>\n",
       "</div>"
      ],
      "text/plain": [
       "                      name state   ibu\n",
       "0                 Pub Beer    OR   NaN\n",
       "1              Devil's Cup    IN   NaN\n",
       "2      Rise of the Phoenix    IN   NaN\n",
       "3                 Sinister    IN   NaN\n",
       "4            Sex and Candy    IN   NaN\n",
       "...                    ...   ...   ...\n",
       "2405             Belgorado    CO  45.0\n",
       "2406         Rail Yard Ale    CO   NaN\n",
       "2407       B3K Black Lager    CO   NaN\n",
       "2408   Silverback Pale Ale    CO  40.0\n",
       "2409  Rail Yard Ale (2009)    CO   NaN\n",
       "\n",
       "[1288 rows x 3 columns]"
      ]
     },
     "execution_count": 301,
     "metadata": {},
     "output_type": "execute_result"
    }
   ],
   "source": [
    "# Calcular la media del amargor (ibu) de todas las cervezas\n",
    "overall_mean_ibu = merged_df['ibu'].mean()\n",
    "\n",
    "# Calcular la media de amargor por estado\n",
    "state_mean_ibu = merged_df.groupby('state')['ibu'].mean()\n",
    "\n",
    "# Filtrar los estados cuya media de amargor está por encima de la media general\n",
    "states_above_mean = state_mean_ibu[state_mean_ibu > overall_mean_ibu].index\n",
    "\n",
    "# Filtrar las cervezas cuyo estado está en la lista de estados con media de amargor superior\n",
    "beers_above_mean_ibu = merged_df[merged_df['state'].isin(states_above_mean)]\n",
    "\n",
    "# Mostrar el DataFrame resultante\n",
    "beers_above_mean_ibu[['name', 'state', 'ibu']]\n"
   ]
  },
  {
   "cell_type": "code",
   "execution_count": 302,
   "metadata": {},
   "outputs": [],
   "source": [
    "# merged_df[\"medias_cerv\"] = merged_df.groupby(\"states\")[\"ibu\"].transform(\"mean\")\n",
    "\n",
    "# merged_df.loc[merged_df[\"ibu\"].mean()merged_df[\"ibu\",\"medias_cerv\", \"name\"]]\n",
    "\n",
    "\n",
    "\n",
    "# merged_df[\"medias_cerv\"] = merged_df.groupby(\"state\")[\"ibu\"].transform(\"mean\")\n",
    "\n",
    "# # Filtrar donde ibu sea mayor que la media de su estado\n",
    "# resultado = merged_df[merged_df[\"ibu\"].mean() > merged_df[\"ibu\",\"medias_cerv\", \"name\"]]\n",
    "# print(resultado)\n"
   ]
  }
 ],
 "metadata": {
  "kernelspec": {
   "display_name": "Python 3",
   "language": "python",
   "name": "python3"
  },
  "language_info": {
   "codemirror_mode": {
    "name": "ipython",
    "version": 3
   },
   "file_extension": ".py",
   "mimetype": "text/x-python",
   "name": "python",
   "nbconvert_exporter": "python",
   "pygments_lexer": "ipython3",
   "version": "3.11.9"
  }
 },
 "nbformat": 4,
 "nbformat_minor": 4
}
