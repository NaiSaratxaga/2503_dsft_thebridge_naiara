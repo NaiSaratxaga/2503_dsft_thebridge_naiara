{
 "cells": [
  {
   "attachments": {},
   "cell_type": "markdown",
   "metadata": {},
   "source": [
    "![imagen](https://cdn.foodbeast.com/content/wp-content/uploads/2012/03/beer-print-01-selectism.jpg)\n",
    "\n",
    "# Ejercicio pandas estadística\n",
    "Para este ejercicio se ha utilizado [un dataset de un concurso de kaggle](https://www.kaggle.com/nickhould/craft-cans), cuyo reto consiste en predecir el tipo de cerveza en función de sus características (nivel de alcohol, amargura, tamaño...).\n",
    "\n",
    "# Ejercicio 1\n",
    "Importa las librerias que consideres"
   ]
  },
  {
   "cell_type": "code",
   "execution_count": 156,
   "metadata": {},
   "outputs": [],
   "source": [
    "import numpy as np\n",
    "import pandas as pd\n",
    "import seaborn as sns\n",
    "import matplotlib.pyplot as plt"
   ]
  },
  {
   "attachments": {},
   "cell_type": "markdown",
   "metadata": {},
   "source": [
    "## Ejercicio 2\n",
    "1. Importa el dataset \"datasets_beer.csv\"\n",
    "2. Imprime por pantalla los primeros registros.\n",
    "3. ¿Cuáles son sus columnas?\n",
    "4. ¿Qué dimensiones tiene el DataFrame?"
   ]
  },
  {
   "cell_type": "code",
   "execution_count": 157,
   "metadata": {},
   "outputs": [
    {
     "data": {
      "application/vnd.microsoft.datawrangler.viewer.v0+json": {
       "columns": [
        {
         "name": "index",
         "rawType": "int64",
         "type": "integer"
        },
        {
         "name": "Unnamed: 0",
         "rawType": "int64",
         "type": "integer"
        },
        {
         "name": "abv",
         "rawType": "float64",
         "type": "float"
        },
        {
         "name": "ibu",
         "rawType": "float64",
         "type": "float"
        },
        {
         "name": "id",
         "rawType": "int64",
         "type": "integer"
        },
        {
         "name": "name",
         "rawType": "object",
         "type": "string"
        },
        {
         "name": "style",
         "rawType": "object",
         "type": "unknown"
        },
        {
         "name": "brewery_id",
         "rawType": "int64",
         "type": "integer"
        },
        {
         "name": "ounces",
         "rawType": "float64",
         "type": "float"
        }
       ],
       "conversionMethod": "pd.DataFrame",
       "ref": "bff8269e-be36-4ef9-967a-148803f00efc",
       "rows": [
        [
         "0",
         "0",
         "0.05",
         null,
         "1436",
         "Pub Beer",
         "American Pale Lager",
         "408",
         "12.0"
        ],
        [
         "1",
         "1",
         "0.066",
         null,
         "2265",
         "Devil's Cup",
         "American Pale Ale (APA)",
         "177",
         "12.0"
        ],
        [
         "2",
         "2",
         "0.071",
         null,
         "2264",
         "Rise of the Phoenix",
         "American IPA",
         "177",
         "12.0"
        ],
        [
         "3",
         "3",
         "0.09",
         null,
         "2263",
         "Sinister",
         "American Double / Imperial IPA",
         "177",
         "12.0"
        ],
        [
         "4",
         "4",
         "0.075",
         null,
         "2262",
         "Sex and Candy",
         "American IPA",
         "177",
         "12.0"
        ],
        [
         "5",
         "5",
         "0.077",
         null,
         "2261",
         "Black Exodus",
         "Oatmeal Stout",
         "177",
         "12.0"
        ],
        [
         "6",
         "6",
         "0.045",
         null,
         "2260",
         "Lake Street Express",
         "American Pale Ale (APA)",
         "177",
         "12.0"
        ],
        [
         "7",
         "7",
         "0.065",
         null,
         "2259",
         "Foreman",
         "American Porter",
         "177",
         "12.0"
        ],
        [
         "8",
         "8",
         "0.055",
         null,
         "2258",
         "Jade",
         "American Pale Ale (APA)",
         "177",
         "12.0"
        ],
        [
         "9",
         "9",
         "0.086",
         null,
         "2131",
         "Cone Crusher",
         "American Double / Imperial IPA",
         "177",
         "12.0"
        ],
        [
         "10",
         "10",
         "0.072",
         null,
         "2099",
         "Sophomoric Saison",
         "Saison / Farmhouse Ale",
         "177",
         "12.0"
        ],
        [
         "11",
         "11",
         "0.073",
         null,
         "2098",
         "Regional Ring Of Fire",
         "Saison / Farmhouse Ale",
         "177",
         "12.0"
        ],
        [
         "12",
         "12",
         "0.069",
         null,
         "2097",
         "Garce Selé",
         "Saison / Farmhouse Ale",
         "177",
         "12.0"
        ],
        [
         "13",
         "13",
         "0.085",
         null,
         "1980",
         "Troll Destroyer",
         "Belgian IPA",
         "177",
         "12.0"
        ],
        [
         "14",
         "14",
         "0.061",
         "60.0",
         "1979",
         "Bitter Bitch",
         "American Pale Ale (APA)",
         "177",
         "12.0"
        ],
        [
         "15",
         "15",
         "0.06",
         null,
         "2318",
         "Ginja Ninja",
         "Cider",
         "154",
         "12.0"
        ],
        [
         "16",
         "16",
         "0.06",
         null,
         "2170",
         "Cherried Away",
         "Cider",
         "154",
         "12.0"
        ],
        [
         "17",
         "17",
         "0.06",
         null,
         "2169",
         "Rhubarbarian",
         "Cider",
         "154",
         "12.0"
        ],
        [
         "18",
         "18",
         "0.06",
         null,
         "1502",
         "BrightCider",
         "Cider",
         "154",
         "12.0"
        ],
        [
         "19",
         "19",
         "0.0819999999999999",
         null,
         "1593",
         "He Said Baltic-Style Porter",
         "Baltic Porter",
         "368",
         "12.0"
        ],
        [
         "20",
         "20",
         "0.0819999999999999",
         null,
         "1592",
         "He Said Belgian-Style Tripel",
         "Tripel",
         "368",
         "12.0"
        ],
        [
         "21",
         "21",
         "0.099",
         "92.0",
         "1036",
         "Lower De Boom",
         "American Barleywine",
         "368",
         "8.4"
        ],
        [
         "22",
         "22",
         "0.079",
         "45.0",
         "1024",
         "Fireside Chat",
         "Winter Warmer",
         "368",
         "12.0"
        ],
        [
         "23",
         "23",
         "0.079",
         null,
         "976",
         "Marooned On Hog Island",
         "American Stout",
         "368",
         "12.0"
        ],
        [
         "24",
         "24",
         "0.044",
         "42.0",
         "876",
         "Bitter American",
         "American Pale Ale (APA)",
         "368",
         "12.0"
        ],
        [
         "25",
         "25",
         "0.049",
         "17.0",
         "802",
         "Hell or High Watermelon Wheat (2009)",
         "Fruit / Vegetable Beer",
         "368",
         "12.0"
        ],
        [
         "26",
         "26",
         "0.049",
         "17.0",
         "801",
         "Hell or High Watermelon Wheat (2009)",
         "Fruit / Vegetable Beer",
         "368",
         "12.0"
        ],
        [
         "27",
         "27",
         "0.049",
         "17.0",
         "800",
         "21st Amendment Watermelon Wheat Beer (2006)",
         "Fruit / Vegetable Beer",
         "368",
         "12.0"
        ],
        [
         "28",
         "28",
         "0.07",
         "70.0",
         "799",
         "21st Amendment IPA (2006)",
         "American IPA",
         "368",
         "12.0"
        ],
        [
         "29",
         "29",
         "0.07",
         "70.0",
         "797",
         "Brew Free! or Die IPA (2008)",
         "American IPA",
         "368",
         "12.0"
        ],
        [
         "30",
         "30",
         "0.07",
         "70.0",
         "796",
         "Brew Free! or Die IPA (2009)",
         "American IPA",
         "368",
         "12.0"
        ],
        [
         "31",
         "31",
         "0.085",
         "52.0",
         "531",
         "Special Edition: Allies Win The War!",
         "English Strong Ale",
         "368",
         "12.0"
        ],
        [
         "32",
         "32",
         "0.0969999999999999",
         "94.0",
         "432",
         "Hop Crisis",
         "American Double / Imperial IPA",
         "368",
         "12.0"
        ],
        [
         "33",
         "33",
         "0.044",
         "42.0",
         "353",
         "Bitter American (2011)",
         "American Pale Ale (APA)",
         "368",
         "12.0"
        ],
        [
         "34",
         "34",
         "0.079",
         "45.0",
         "321",
         "Fireside Chat (2010)",
         "Winter Warmer",
         "368",
         "12.0"
        ],
        [
         "35",
         "35",
         "0.068",
         "65.0",
         "173",
         "Back in Black",
         "American Black Ale",
         "368",
         "12.0"
        ],
        [
         "36",
         "36",
         "0.083",
         "35.0",
         "11",
         "Monk's Blood",
         "Belgian Dark Ale",
         "368",
         "12.0"
        ],
        [
         "37",
         "37",
         "0.07",
         "65.0",
         "10",
         "Brew Free! or Die IPA",
         "American IPA",
         "368",
         "12.0"
        ],
        [
         "38",
         "38",
         "0.049",
         "17.0",
         "9",
         "Hell or High Watermelon Wheat",
         "Fruit / Vegetable Beer",
         "368",
         "12.0"
        ],
        [
         "39",
         "39",
         "0.07",
         "82.0",
         "2519",
         "Bimini Twist",
         "American IPA",
         "67",
         "12.0"
        ],
        [
         "40",
         "40",
         "0.05",
         null,
         "2518",
         "Beach Blonde",
         "American Blonde Ale",
         "67",
         "12.0"
        ],
        [
         "41",
         "41",
         "0.059",
         null,
         "2517",
         "Rod Bender Red",
         "American Amber / Red Ale",
         "67",
         "12.0"
        ],
        [
         "42",
         "42",
         "0.035",
         "11.0",
         "2545",
         "Passion Fruit Prussia",
         "Berliner Weissbier",
         "60",
         "12.0"
        ],
        [
         "43",
         "43",
         "0.045",
         "18.0",
         "2544",
         "Send Help",
         "American Blonde Ale",
         "60",
         "12.0"
        ],
        [
         "44",
         "44",
         "0.055",
         null,
         "2324",
         "Cast Iron Oatmeal Brown",
         "American Brown Ale",
         "60",
         "12.0"
        ],
        [
         "45",
         "45",
         "0.06",
         null,
         "2288",
         "Reprise Centennial Red",
         "American Amber / Red Ale",
         "60",
         "12.0"
        ],
        [
         "46",
         "46",
         "0.055",
         null,
         "2287",
         "Alter Ego",
         "American Black Ale",
         "60",
         "12.0"
        ],
        [
         "47",
         "47",
         "0.065",
         null,
         "2286",
         "Divided Sky",
         "American IPA",
         "60",
         "12.0"
        ],
        [
         "48",
         "48",
         "0.065",
         null,
         "2285",
         "Resurrected",
         "American IPA",
         "60",
         "12.0"
        ],
        [
         "49",
         "49",
         "0.05",
         "28.0",
         "1870",
         "Contact High",
         "American Pale Wheat Ale",
         "60",
         "12.0"
        ]
       ],
       "shape": {
        "columns": 8,
        "rows": 2410
       }
      },
      "text/html": [
       "<div>\n",
       "<style scoped>\n",
       "    .dataframe tbody tr th:only-of-type {\n",
       "        vertical-align: middle;\n",
       "    }\n",
       "\n",
       "    .dataframe tbody tr th {\n",
       "        vertical-align: top;\n",
       "    }\n",
       "\n",
       "    .dataframe thead th {\n",
       "        text-align: right;\n",
       "    }\n",
       "</style>\n",
       "<table border=\"1\" class=\"dataframe\">\n",
       "  <thead>\n",
       "    <tr style=\"text-align: right;\">\n",
       "      <th></th>\n",
       "      <th>Unnamed: 0</th>\n",
       "      <th>abv</th>\n",
       "      <th>ibu</th>\n",
       "      <th>id</th>\n",
       "      <th>name</th>\n",
       "      <th>style</th>\n",
       "      <th>brewery_id</th>\n",
       "      <th>ounces</th>\n",
       "    </tr>\n",
       "  </thead>\n",
       "  <tbody>\n",
       "    <tr>\n",
       "      <th>0</th>\n",
       "      <td>0</td>\n",
       "      <td>0.050</td>\n",
       "      <td>NaN</td>\n",
       "      <td>1436</td>\n",
       "      <td>Pub Beer</td>\n",
       "      <td>American Pale Lager</td>\n",
       "      <td>408</td>\n",
       "      <td>12.0</td>\n",
       "    </tr>\n",
       "    <tr>\n",
       "      <th>1</th>\n",
       "      <td>1</td>\n",
       "      <td>0.066</td>\n",
       "      <td>NaN</td>\n",
       "      <td>2265</td>\n",
       "      <td>Devil's Cup</td>\n",
       "      <td>American Pale Ale (APA)</td>\n",
       "      <td>177</td>\n",
       "      <td>12.0</td>\n",
       "    </tr>\n",
       "    <tr>\n",
       "      <th>2</th>\n",
       "      <td>2</td>\n",
       "      <td>0.071</td>\n",
       "      <td>NaN</td>\n",
       "      <td>2264</td>\n",
       "      <td>Rise of the Phoenix</td>\n",
       "      <td>American IPA</td>\n",
       "      <td>177</td>\n",
       "      <td>12.0</td>\n",
       "    </tr>\n",
       "    <tr>\n",
       "      <th>3</th>\n",
       "      <td>3</td>\n",
       "      <td>0.090</td>\n",
       "      <td>NaN</td>\n",
       "      <td>2263</td>\n",
       "      <td>Sinister</td>\n",
       "      <td>American Double / Imperial IPA</td>\n",
       "      <td>177</td>\n",
       "      <td>12.0</td>\n",
       "    </tr>\n",
       "    <tr>\n",
       "      <th>4</th>\n",
       "      <td>4</td>\n",
       "      <td>0.075</td>\n",
       "      <td>NaN</td>\n",
       "      <td>2262</td>\n",
       "      <td>Sex and Candy</td>\n",
       "      <td>American IPA</td>\n",
       "      <td>177</td>\n",
       "      <td>12.0</td>\n",
       "    </tr>\n",
       "    <tr>\n",
       "      <th>...</th>\n",
       "      <td>...</td>\n",
       "      <td>...</td>\n",
       "      <td>...</td>\n",
       "      <td>...</td>\n",
       "      <td>...</td>\n",
       "      <td>...</td>\n",
       "      <td>...</td>\n",
       "      <td>...</td>\n",
       "    </tr>\n",
       "    <tr>\n",
       "      <th>2405</th>\n",
       "      <td>2405</td>\n",
       "      <td>0.067</td>\n",
       "      <td>45.0</td>\n",
       "      <td>928</td>\n",
       "      <td>Belgorado</td>\n",
       "      <td>Belgian IPA</td>\n",
       "      <td>424</td>\n",
       "      <td>12.0</td>\n",
       "    </tr>\n",
       "    <tr>\n",
       "      <th>2406</th>\n",
       "      <td>2406</td>\n",
       "      <td>0.052</td>\n",
       "      <td>NaN</td>\n",
       "      <td>807</td>\n",
       "      <td>Rail Yard Ale</td>\n",
       "      <td>American Amber / Red Ale</td>\n",
       "      <td>424</td>\n",
       "      <td>12.0</td>\n",
       "    </tr>\n",
       "    <tr>\n",
       "      <th>2407</th>\n",
       "      <td>2407</td>\n",
       "      <td>0.055</td>\n",
       "      <td>NaN</td>\n",
       "      <td>620</td>\n",
       "      <td>B3K Black Lager</td>\n",
       "      <td>Schwarzbier</td>\n",
       "      <td>424</td>\n",
       "      <td>12.0</td>\n",
       "    </tr>\n",
       "    <tr>\n",
       "      <th>2408</th>\n",
       "      <td>2408</td>\n",
       "      <td>0.055</td>\n",
       "      <td>40.0</td>\n",
       "      <td>145</td>\n",
       "      <td>Silverback Pale Ale</td>\n",
       "      <td>American Pale Ale (APA)</td>\n",
       "      <td>424</td>\n",
       "      <td>12.0</td>\n",
       "    </tr>\n",
       "    <tr>\n",
       "      <th>2409</th>\n",
       "      <td>2409</td>\n",
       "      <td>0.052</td>\n",
       "      <td>NaN</td>\n",
       "      <td>84</td>\n",
       "      <td>Rail Yard Ale (2009)</td>\n",
       "      <td>American Amber / Red Ale</td>\n",
       "      <td>424</td>\n",
       "      <td>12.0</td>\n",
       "    </tr>\n",
       "  </tbody>\n",
       "</table>\n",
       "<p>2410 rows × 8 columns</p>\n",
       "</div>"
      ],
      "text/plain": [
       "      Unnamed: 0    abv   ibu    id                  name  \\\n",
       "0              0  0.050   NaN  1436              Pub Beer   \n",
       "1              1  0.066   NaN  2265           Devil's Cup   \n",
       "2              2  0.071   NaN  2264   Rise of the Phoenix   \n",
       "3              3  0.090   NaN  2263              Sinister   \n",
       "4              4  0.075   NaN  2262         Sex and Candy   \n",
       "...          ...    ...   ...   ...                   ...   \n",
       "2405        2405  0.067  45.0   928             Belgorado   \n",
       "2406        2406  0.052   NaN   807         Rail Yard Ale   \n",
       "2407        2407  0.055   NaN   620       B3K Black Lager   \n",
       "2408        2408  0.055  40.0   145   Silverback Pale Ale   \n",
       "2409        2409  0.052   NaN    84  Rail Yard Ale (2009)   \n",
       "\n",
       "                               style  brewery_id  ounces  \n",
       "0                American Pale Lager         408    12.0  \n",
       "1            American Pale Ale (APA)         177    12.0  \n",
       "2                       American IPA         177    12.0  \n",
       "3     American Double / Imperial IPA         177    12.0  \n",
       "4                       American IPA         177    12.0  \n",
       "...                              ...         ...     ...  \n",
       "2405                     Belgian IPA         424    12.0  \n",
       "2406        American Amber / Red Ale         424    12.0  \n",
       "2407                     Schwarzbier         424    12.0  \n",
       "2408         American Pale Ale (APA)         424    12.0  \n",
       "2409        American Amber / Red Ale         424    12.0  \n",
       "\n",
       "[2410 rows x 8 columns]"
      ]
     },
     "execution_count": 157,
     "metadata": {},
     "output_type": "execute_result"
    }
   ],
   "source": [
    "beer = pd.read_csv(\"data/datasets_beers.csv\")\n",
    "beer\n"
   ]
  },
  {
   "cell_type": "code",
   "execution_count": 158,
   "metadata": {},
   "outputs": [
    {
     "data": {
      "application/vnd.microsoft.datawrangler.viewer.v0+json": {
       "columns": [
        {
         "name": "index",
         "rawType": "int64",
         "type": "integer"
        },
        {
         "name": "Unnamed: 0",
         "rawType": "int64",
         "type": "integer"
        },
        {
         "name": "abv",
         "rawType": "float64",
         "type": "float"
        },
        {
         "name": "ibu",
         "rawType": "float64",
         "type": "float"
        },
        {
         "name": "id",
         "rawType": "int64",
         "type": "integer"
        },
        {
         "name": "name",
         "rawType": "object",
         "type": "string"
        },
        {
         "name": "style",
         "rawType": "object",
         "type": "string"
        },
        {
         "name": "brewery_id",
         "rawType": "int64",
         "type": "integer"
        },
        {
         "name": "ounces",
         "rawType": "float64",
         "type": "float"
        }
       ],
       "conversionMethod": "pd.DataFrame",
       "ref": "6a8ae87e-cc24-4b00-bc7d-88e6e495baaf",
       "rows": [
        [
         "0",
         "0",
         "0.05",
         null,
         "1436",
         "Pub Beer",
         "American Pale Lager",
         "408",
         "12.0"
        ],
        [
         "1",
         "1",
         "0.066",
         null,
         "2265",
         "Devil's Cup",
         "American Pale Ale (APA)",
         "177",
         "12.0"
        ],
        [
         "2",
         "2",
         "0.071",
         null,
         "2264",
         "Rise of the Phoenix",
         "American IPA",
         "177",
         "12.0"
        ],
        [
         "3",
         "3",
         "0.09",
         null,
         "2263",
         "Sinister",
         "American Double / Imperial IPA",
         "177",
         "12.0"
        ],
        [
         "4",
         "4",
         "0.075",
         null,
         "2262",
         "Sex and Candy",
         "American IPA",
         "177",
         "12.0"
        ]
       ],
       "shape": {
        "columns": 8,
        "rows": 5
       }
      },
      "text/html": [
       "<div>\n",
       "<style scoped>\n",
       "    .dataframe tbody tr th:only-of-type {\n",
       "        vertical-align: middle;\n",
       "    }\n",
       "\n",
       "    .dataframe tbody tr th {\n",
       "        vertical-align: top;\n",
       "    }\n",
       "\n",
       "    .dataframe thead th {\n",
       "        text-align: right;\n",
       "    }\n",
       "</style>\n",
       "<table border=\"1\" class=\"dataframe\">\n",
       "  <thead>\n",
       "    <tr style=\"text-align: right;\">\n",
       "      <th></th>\n",
       "      <th>Unnamed: 0</th>\n",
       "      <th>abv</th>\n",
       "      <th>ibu</th>\n",
       "      <th>id</th>\n",
       "      <th>name</th>\n",
       "      <th>style</th>\n",
       "      <th>brewery_id</th>\n",
       "      <th>ounces</th>\n",
       "    </tr>\n",
       "  </thead>\n",
       "  <tbody>\n",
       "    <tr>\n",
       "      <th>0</th>\n",
       "      <td>0</td>\n",
       "      <td>0.050</td>\n",
       "      <td>NaN</td>\n",
       "      <td>1436</td>\n",
       "      <td>Pub Beer</td>\n",
       "      <td>American Pale Lager</td>\n",
       "      <td>408</td>\n",
       "      <td>12.0</td>\n",
       "    </tr>\n",
       "    <tr>\n",
       "      <th>1</th>\n",
       "      <td>1</td>\n",
       "      <td>0.066</td>\n",
       "      <td>NaN</td>\n",
       "      <td>2265</td>\n",
       "      <td>Devil's Cup</td>\n",
       "      <td>American Pale Ale (APA)</td>\n",
       "      <td>177</td>\n",
       "      <td>12.0</td>\n",
       "    </tr>\n",
       "    <tr>\n",
       "      <th>2</th>\n",
       "      <td>2</td>\n",
       "      <td>0.071</td>\n",
       "      <td>NaN</td>\n",
       "      <td>2264</td>\n",
       "      <td>Rise of the Phoenix</td>\n",
       "      <td>American IPA</td>\n",
       "      <td>177</td>\n",
       "      <td>12.0</td>\n",
       "    </tr>\n",
       "    <tr>\n",
       "      <th>3</th>\n",
       "      <td>3</td>\n",
       "      <td>0.090</td>\n",
       "      <td>NaN</td>\n",
       "      <td>2263</td>\n",
       "      <td>Sinister</td>\n",
       "      <td>American Double / Imperial IPA</td>\n",
       "      <td>177</td>\n",
       "      <td>12.0</td>\n",
       "    </tr>\n",
       "    <tr>\n",
       "      <th>4</th>\n",
       "      <td>4</td>\n",
       "      <td>0.075</td>\n",
       "      <td>NaN</td>\n",
       "      <td>2262</td>\n",
       "      <td>Sex and Candy</td>\n",
       "      <td>American IPA</td>\n",
       "      <td>177</td>\n",
       "      <td>12.0</td>\n",
       "    </tr>\n",
       "  </tbody>\n",
       "</table>\n",
       "</div>"
      ],
      "text/plain": [
       "   Unnamed: 0    abv  ibu    id                 name  \\\n",
       "0           0  0.050  NaN  1436             Pub Beer   \n",
       "1           1  0.066  NaN  2265          Devil's Cup   \n",
       "2           2  0.071  NaN  2264  Rise of the Phoenix   \n",
       "3           3  0.090  NaN  2263             Sinister   \n",
       "4           4  0.075  NaN  2262        Sex and Candy   \n",
       "\n",
       "                            style  brewery_id  ounces  \n",
       "0             American Pale Lager         408    12.0  \n",
       "1         American Pale Ale (APA)         177    12.0  \n",
       "2                    American IPA         177    12.0  \n",
       "3  American Double / Imperial IPA         177    12.0  \n",
       "4                    American IPA         177    12.0  "
      ]
     },
     "execution_count": 158,
     "metadata": {},
     "output_type": "execute_result"
    }
   ],
   "source": [
    "\n",
    "beer.head()"
   ]
  },
  {
   "cell_type": "markdown",
   "metadata": {},
   "source": [
    "### El dataset contiene 2,410 filas y 8 columnas:\n",
    "\n",
    "- Unnamed: 0: Parece un índice innecesario.\n",
    "\n",
    "- abv: Contenido de alcohol por volumen (ABV), con algunos valores nulos.\n",
    "\n",
    "- ibu: Índice de amargor (IBU), con muchos valores nulos.\n",
    "\n",
    "- id: Identificador único de la cerveza.\n",
    "\n",
    "- name: Nombre de la cerveza.\n",
    "\n",
    "- style: Estilo de la cerveza, con pocos valores nulos.\n",
    "\n",
    "- brewery_id: Identificador de la cervecería.\n",
    "\n",
    "- ounces: Tamaño de la lata/botella en onzas."
   ]
  },
  {
   "cell_type": "code",
   "execution_count": 159,
   "metadata": {},
   "outputs": [
    {
     "name": "stdout",
     "output_type": "stream",
     "text": [
      "<class 'pandas.core.frame.DataFrame'>\n",
      "RangeIndex: 2410 entries, 0 to 2409\n",
      "Data columns (total 8 columns):\n",
      " #   Column      Non-Null Count  Dtype  \n",
      "---  ------      --------------  -----  \n",
      " 0   Unnamed: 0  2410 non-null   int64  \n",
      " 1   abv         2348 non-null   float64\n",
      " 2   ibu         1405 non-null   float64\n",
      " 3   id          2410 non-null   int64  \n",
      " 4   name        2410 non-null   object \n",
      " 5   style       2405 non-null   object \n",
      " 6   brewery_id  2410 non-null   int64  \n",
      " 7   ounces      2410 non-null   float64\n",
      "dtypes: float64(3), int64(3), object(2)\n",
      "memory usage: 150.8+ KB\n"
     ]
    }
   ],
   "source": [
    "beer.info()"
   ]
  },
  {
   "cell_type": "code",
   "execution_count": 160,
   "metadata": {},
   "outputs": [
    {
     "data": {
      "application/vnd.microsoft.datawrangler.viewer.v0+json": {
       "columns": [
        {
         "name": "index",
         "rawType": "object",
         "type": "string"
        },
        {
         "name": "Unnamed: 0",
         "rawType": "float64",
         "type": "float"
        },
        {
         "name": "abv",
         "rawType": "float64",
         "type": "float"
        },
        {
         "name": "ibu",
         "rawType": "float64",
         "type": "float"
        },
        {
         "name": "id",
         "rawType": "float64",
         "type": "float"
        },
        {
         "name": "brewery_id",
         "rawType": "float64",
         "type": "float"
        },
        {
         "name": "ounces",
         "rawType": "float64",
         "type": "float"
        }
       ],
       "conversionMethod": "pd.DataFrame",
       "ref": "4a1f74ae-d127-43f4-9bf4-d98107ed2114",
       "rows": [
        [
         "count",
         "2410.0",
         "2348.0",
         "1405.0",
         "2410.0",
         "2410.0",
         "2410.0"
        ],
        [
         "mean",
         "1204.5",
         "0.05977342419080067",
         "42.71316725978647",
         "1431.1132780082987",
         "231.74979253112033",
         "13.592240663900414"
        ],
        [
         "std",
         "695.8513969711254",
         "0.013541733716680264",
         "25.954065911259317",
         "752.4599745599074",
         "157.68560410041619",
         "2.3522036778603734"
        ],
        [
         "min",
         "0.0",
         "0.001",
         "4.0",
         "1.0",
         "0.0",
         "8.4"
        ],
        [
         "25%",
         "602.25",
         "0.05",
         "21.0",
         "808.25",
         "93.0",
         "12.0"
        ],
        [
         "50%",
         "1204.5",
         "0.0559999999999999",
         "35.0",
         "1453.5",
         "205.0",
         "12.0"
        ],
        [
         "75%",
         "1806.75",
         "0.067",
         "64.0",
         "2075.75",
         "366.0",
         "16.0"
        ],
        [
         "max",
         "2409.0",
         "0.128",
         "138.0",
         "2692.0",
         "557.0",
         "32.0"
        ]
       ],
       "shape": {
        "columns": 6,
        "rows": 8
       }
      },
      "text/html": [
       "<div>\n",
       "<style scoped>\n",
       "    .dataframe tbody tr th:only-of-type {\n",
       "        vertical-align: middle;\n",
       "    }\n",
       "\n",
       "    .dataframe tbody tr th {\n",
       "        vertical-align: top;\n",
       "    }\n",
       "\n",
       "    .dataframe thead th {\n",
       "        text-align: right;\n",
       "    }\n",
       "</style>\n",
       "<table border=\"1\" class=\"dataframe\">\n",
       "  <thead>\n",
       "    <tr style=\"text-align: right;\">\n",
       "      <th></th>\n",
       "      <th>Unnamed: 0</th>\n",
       "      <th>abv</th>\n",
       "      <th>ibu</th>\n",
       "      <th>id</th>\n",
       "      <th>brewery_id</th>\n",
       "      <th>ounces</th>\n",
       "    </tr>\n",
       "  </thead>\n",
       "  <tbody>\n",
       "    <tr>\n",
       "      <th>count</th>\n",
       "      <td>2410.000000</td>\n",
       "      <td>2348.000000</td>\n",
       "      <td>1405.000000</td>\n",
       "      <td>2410.000000</td>\n",
       "      <td>2410.000000</td>\n",
       "      <td>2410.000000</td>\n",
       "    </tr>\n",
       "    <tr>\n",
       "      <th>mean</th>\n",
       "      <td>1204.500000</td>\n",
       "      <td>0.059773</td>\n",
       "      <td>42.713167</td>\n",
       "      <td>1431.113278</td>\n",
       "      <td>231.749793</td>\n",
       "      <td>13.592241</td>\n",
       "    </tr>\n",
       "    <tr>\n",
       "      <th>std</th>\n",
       "      <td>695.851397</td>\n",
       "      <td>0.013542</td>\n",
       "      <td>25.954066</td>\n",
       "      <td>752.459975</td>\n",
       "      <td>157.685604</td>\n",
       "      <td>2.352204</td>\n",
       "    </tr>\n",
       "    <tr>\n",
       "      <th>min</th>\n",
       "      <td>0.000000</td>\n",
       "      <td>0.001000</td>\n",
       "      <td>4.000000</td>\n",
       "      <td>1.000000</td>\n",
       "      <td>0.000000</td>\n",
       "      <td>8.400000</td>\n",
       "    </tr>\n",
       "    <tr>\n",
       "      <th>25%</th>\n",
       "      <td>602.250000</td>\n",
       "      <td>0.050000</td>\n",
       "      <td>21.000000</td>\n",
       "      <td>808.250000</td>\n",
       "      <td>93.000000</td>\n",
       "      <td>12.000000</td>\n",
       "    </tr>\n",
       "    <tr>\n",
       "      <th>50%</th>\n",
       "      <td>1204.500000</td>\n",
       "      <td>0.056000</td>\n",
       "      <td>35.000000</td>\n",
       "      <td>1453.500000</td>\n",
       "      <td>205.000000</td>\n",
       "      <td>12.000000</td>\n",
       "    </tr>\n",
       "    <tr>\n",
       "      <th>75%</th>\n",
       "      <td>1806.750000</td>\n",
       "      <td>0.067000</td>\n",
       "      <td>64.000000</td>\n",
       "      <td>2075.750000</td>\n",
       "      <td>366.000000</td>\n",
       "      <td>16.000000</td>\n",
       "    </tr>\n",
       "    <tr>\n",
       "      <th>max</th>\n",
       "      <td>2409.000000</td>\n",
       "      <td>0.128000</td>\n",
       "      <td>138.000000</td>\n",
       "      <td>2692.000000</td>\n",
       "      <td>557.000000</td>\n",
       "      <td>32.000000</td>\n",
       "    </tr>\n",
       "  </tbody>\n",
       "</table>\n",
       "</div>"
      ],
      "text/plain": [
       "        Unnamed: 0          abv          ibu           id   brewery_id  \\\n",
       "count  2410.000000  2348.000000  1405.000000  2410.000000  2410.000000   \n",
       "mean   1204.500000     0.059773    42.713167  1431.113278   231.749793   \n",
       "std     695.851397     0.013542    25.954066   752.459975   157.685604   \n",
       "min       0.000000     0.001000     4.000000     1.000000     0.000000   \n",
       "25%     602.250000     0.050000    21.000000   808.250000    93.000000   \n",
       "50%    1204.500000     0.056000    35.000000  1453.500000   205.000000   \n",
       "75%    1806.750000     0.067000    64.000000  2075.750000   366.000000   \n",
       "max    2409.000000     0.128000   138.000000  2692.000000   557.000000   \n",
       "\n",
       "            ounces  \n",
       "count  2410.000000  \n",
       "mean     13.592241  \n",
       "std       2.352204  \n",
       "min       8.400000  \n",
       "25%      12.000000  \n",
       "50%      12.000000  \n",
       "75%      16.000000  \n",
       "max      32.000000  "
      ]
     },
     "execution_count": 160,
     "metadata": {},
     "output_type": "execute_result"
    }
   ],
   "source": [
    "beer.describe()"
   ]
  },
  {
   "cell_type": "code",
   "execution_count": 161,
   "metadata": {},
   "outputs": [
    {
     "name": "stdout",
     "output_type": "stream",
     "text": [
      "Unnamed: 0       0\n",
      "abv             62\n",
      "ibu           1005\n",
      "id               0\n",
      "name             0\n",
      "style            5\n",
      "brewery_id       0\n",
      "ounces           0\n",
      "dtype: int64\n"
     ]
    }
   ],
   "source": [
    "# cuantos nulos tiene\n",
    "\n",
    "print(beer.isnull().sum())\n"
   ]
  },
  {
   "attachments": {},
   "cell_type": "markdown",
   "metadata": {},
   "source": [
    "## Ejercicio 3\n",
    "[Elimina la columna \"Unnamed: 0\"](https://pandas.pydata.org/pandas-docs/stable/reference/api/pandas.DataFrame.drop.html)"
   ]
  },
  {
   "cell_type": "code",
   "execution_count": 162,
   "metadata": {},
   "outputs": [
    {
     "data": {
      "application/vnd.microsoft.datawrangler.viewer.v0+json": {
       "columns": [
        {
         "name": "index",
         "rawType": "int64",
         "type": "integer"
        },
        {
         "name": "abv",
         "rawType": "float64",
         "type": "float"
        },
        {
         "name": "ibu",
         "rawType": "float64",
         "type": "float"
        },
        {
         "name": "id",
         "rawType": "int64",
         "type": "integer"
        },
        {
         "name": "name",
         "rawType": "object",
         "type": "string"
        },
        {
         "name": "style",
         "rawType": "object",
         "type": "unknown"
        },
        {
         "name": "brewery_id",
         "rawType": "int64",
         "type": "integer"
        },
        {
         "name": "ounces",
         "rawType": "float64",
         "type": "float"
        }
       ],
       "conversionMethod": "pd.DataFrame",
       "ref": "b7429967-7d52-4cc4-b90f-52f05a6cc592",
       "rows": [
        [
         "0",
         "0.05",
         null,
         "1436",
         "Pub Beer",
         "American Pale Lager",
         "408",
         "12.0"
        ],
        [
         "1",
         "0.066",
         null,
         "2265",
         "Devil's Cup",
         "American Pale Ale (APA)",
         "177",
         "12.0"
        ],
        [
         "2",
         "0.071",
         null,
         "2264",
         "Rise of the Phoenix",
         "American IPA",
         "177",
         "12.0"
        ],
        [
         "3",
         "0.09",
         null,
         "2263",
         "Sinister",
         "American Double / Imperial IPA",
         "177",
         "12.0"
        ],
        [
         "4",
         "0.075",
         null,
         "2262",
         "Sex and Candy",
         "American IPA",
         "177",
         "12.0"
        ],
        [
         "5",
         "0.077",
         null,
         "2261",
         "Black Exodus",
         "Oatmeal Stout",
         "177",
         "12.0"
        ],
        [
         "6",
         "0.045",
         null,
         "2260",
         "Lake Street Express",
         "American Pale Ale (APA)",
         "177",
         "12.0"
        ],
        [
         "7",
         "0.065",
         null,
         "2259",
         "Foreman",
         "American Porter",
         "177",
         "12.0"
        ],
        [
         "8",
         "0.055",
         null,
         "2258",
         "Jade",
         "American Pale Ale (APA)",
         "177",
         "12.0"
        ],
        [
         "9",
         "0.086",
         null,
         "2131",
         "Cone Crusher",
         "American Double / Imperial IPA",
         "177",
         "12.0"
        ],
        [
         "10",
         "0.072",
         null,
         "2099",
         "Sophomoric Saison",
         "Saison / Farmhouse Ale",
         "177",
         "12.0"
        ],
        [
         "11",
         "0.073",
         null,
         "2098",
         "Regional Ring Of Fire",
         "Saison / Farmhouse Ale",
         "177",
         "12.0"
        ],
        [
         "12",
         "0.069",
         null,
         "2097",
         "Garce Selé",
         "Saison / Farmhouse Ale",
         "177",
         "12.0"
        ],
        [
         "13",
         "0.085",
         null,
         "1980",
         "Troll Destroyer",
         "Belgian IPA",
         "177",
         "12.0"
        ],
        [
         "14",
         "0.061",
         "60.0",
         "1979",
         "Bitter Bitch",
         "American Pale Ale (APA)",
         "177",
         "12.0"
        ],
        [
         "15",
         "0.06",
         null,
         "2318",
         "Ginja Ninja",
         "Cider",
         "154",
         "12.0"
        ],
        [
         "16",
         "0.06",
         null,
         "2170",
         "Cherried Away",
         "Cider",
         "154",
         "12.0"
        ],
        [
         "17",
         "0.06",
         null,
         "2169",
         "Rhubarbarian",
         "Cider",
         "154",
         "12.0"
        ],
        [
         "18",
         "0.06",
         null,
         "1502",
         "BrightCider",
         "Cider",
         "154",
         "12.0"
        ],
        [
         "19",
         "0.0819999999999999",
         null,
         "1593",
         "He Said Baltic-Style Porter",
         "Baltic Porter",
         "368",
         "12.0"
        ],
        [
         "20",
         "0.0819999999999999",
         null,
         "1592",
         "He Said Belgian-Style Tripel",
         "Tripel",
         "368",
         "12.0"
        ],
        [
         "21",
         "0.099",
         "92.0",
         "1036",
         "Lower De Boom",
         "American Barleywine",
         "368",
         "8.4"
        ],
        [
         "22",
         "0.079",
         "45.0",
         "1024",
         "Fireside Chat",
         "Winter Warmer",
         "368",
         "12.0"
        ],
        [
         "23",
         "0.079",
         null,
         "976",
         "Marooned On Hog Island",
         "American Stout",
         "368",
         "12.0"
        ],
        [
         "24",
         "0.044",
         "42.0",
         "876",
         "Bitter American",
         "American Pale Ale (APA)",
         "368",
         "12.0"
        ],
        [
         "25",
         "0.049",
         "17.0",
         "802",
         "Hell or High Watermelon Wheat (2009)",
         "Fruit / Vegetable Beer",
         "368",
         "12.0"
        ],
        [
         "26",
         "0.049",
         "17.0",
         "801",
         "Hell or High Watermelon Wheat (2009)",
         "Fruit / Vegetable Beer",
         "368",
         "12.0"
        ],
        [
         "27",
         "0.049",
         "17.0",
         "800",
         "21st Amendment Watermelon Wheat Beer (2006)",
         "Fruit / Vegetable Beer",
         "368",
         "12.0"
        ],
        [
         "28",
         "0.07",
         "70.0",
         "799",
         "21st Amendment IPA (2006)",
         "American IPA",
         "368",
         "12.0"
        ],
        [
         "29",
         "0.07",
         "70.0",
         "797",
         "Brew Free! or Die IPA (2008)",
         "American IPA",
         "368",
         "12.0"
        ],
        [
         "30",
         "0.07",
         "70.0",
         "796",
         "Brew Free! or Die IPA (2009)",
         "American IPA",
         "368",
         "12.0"
        ],
        [
         "31",
         "0.085",
         "52.0",
         "531",
         "Special Edition: Allies Win The War!",
         "English Strong Ale",
         "368",
         "12.0"
        ],
        [
         "32",
         "0.0969999999999999",
         "94.0",
         "432",
         "Hop Crisis",
         "American Double / Imperial IPA",
         "368",
         "12.0"
        ],
        [
         "33",
         "0.044",
         "42.0",
         "353",
         "Bitter American (2011)",
         "American Pale Ale (APA)",
         "368",
         "12.0"
        ],
        [
         "34",
         "0.079",
         "45.0",
         "321",
         "Fireside Chat (2010)",
         "Winter Warmer",
         "368",
         "12.0"
        ],
        [
         "35",
         "0.068",
         "65.0",
         "173",
         "Back in Black",
         "American Black Ale",
         "368",
         "12.0"
        ],
        [
         "36",
         "0.083",
         "35.0",
         "11",
         "Monk's Blood",
         "Belgian Dark Ale",
         "368",
         "12.0"
        ],
        [
         "37",
         "0.07",
         "65.0",
         "10",
         "Brew Free! or Die IPA",
         "American IPA",
         "368",
         "12.0"
        ],
        [
         "38",
         "0.049",
         "17.0",
         "9",
         "Hell or High Watermelon Wheat",
         "Fruit / Vegetable Beer",
         "368",
         "12.0"
        ],
        [
         "39",
         "0.07",
         "82.0",
         "2519",
         "Bimini Twist",
         "American IPA",
         "67",
         "12.0"
        ],
        [
         "40",
         "0.05",
         null,
         "2518",
         "Beach Blonde",
         "American Blonde Ale",
         "67",
         "12.0"
        ],
        [
         "41",
         "0.059",
         null,
         "2517",
         "Rod Bender Red",
         "American Amber / Red Ale",
         "67",
         "12.0"
        ],
        [
         "42",
         "0.035",
         "11.0",
         "2545",
         "Passion Fruit Prussia",
         "Berliner Weissbier",
         "60",
         "12.0"
        ],
        [
         "43",
         "0.045",
         "18.0",
         "2544",
         "Send Help",
         "American Blonde Ale",
         "60",
         "12.0"
        ],
        [
         "44",
         "0.055",
         null,
         "2324",
         "Cast Iron Oatmeal Brown",
         "American Brown Ale",
         "60",
         "12.0"
        ],
        [
         "45",
         "0.06",
         null,
         "2288",
         "Reprise Centennial Red",
         "American Amber / Red Ale",
         "60",
         "12.0"
        ],
        [
         "46",
         "0.055",
         null,
         "2287",
         "Alter Ego",
         "American Black Ale",
         "60",
         "12.0"
        ],
        [
         "47",
         "0.065",
         null,
         "2286",
         "Divided Sky",
         "American IPA",
         "60",
         "12.0"
        ],
        [
         "48",
         "0.065",
         null,
         "2285",
         "Resurrected",
         "American IPA",
         "60",
         "12.0"
        ],
        [
         "49",
         "0.05",
         "28.0",
         "1870",
         "Contact High",
         "American Pale Wheat Ale",
         "60",
         "12.0"
        ]
       ],
       "shape": {
        "columns": 7,
        "rows": 2410
       }
      },
      "text/html": [
       "<div>\n",
       "<style scoped>\n",
       "    .dataframe tbody tr th:only-of-type {\n",
       "        vertical-align: middle;\n",
       "    }\n",
       "\n",
       "    .dataframe tbody tr th {\n",
       "        vertical-align: top;\n",
       "    }\n",
       "\n",
       "    .dataframe thead th {\n",
       "        text-align: right;\n",
       "    }\n",
       "</style>\n",
       "<table border=\"1\" class=\"dataframe\">\n",
       "  <thead>\n",
       "    <tr style=\"text-align: right;\">\n",
       "      <th></th>\n",
       "      <th>abv</th>\n",
       "      <th>ibu</th>\n",
       "      <th>id</th>\n",
       "      <th>name</th>\n",
       "      <th>style</th>\n",
       "      <th>brewery_id</th>\n",
       "      <th>ounces</th>\n",
       "    </tr>\n",
       "  </thead>\n",
       "  <tbody>\n",
       "    <tr>\n",
       "      <th>0</th>\n",
       "      <td>0.050</td>\n",
       "      <td>NaN</td>\n",
       "      <td>1436</td>\n",
       "      <td>Pub Beer</td>\n",
       "      <td>American Pale Lager</td>\n",
       "      <td>408</td>\n",
       "      <td>12.0</td>\n",
       "    </tr>\n",
       "    <tr>\n",
       "      <th>1</th>\n",
       "      <td>0.066</td>\n",
       "      <td>NaN</td>\n",
       "      <td>2265</td>\n",
       "      <td>Devil's Cup</td>\n",
       "      <td>American Pale Ale (APA)</td>\n",
       "      <td>177</td>\n",
       "      <td>12.0</td>\n",
       "    </tr>\n",
       "    <tr>\n",
       "      <th>2</th>\n",
       "      <td>0.071</td>\n",
       "      <td>NaN</td>\n",
       "      <td>2264</td>\n",
       "      <td>Rise of the Phoenix</td>\n",
       "      <td>American IPA</td>\n",
       "      <td>177</td>\n",
       "      <td>12.0</td>\n",
       "    </tr>\n",
       "    <tr>\n",
       "      <th>3</th>\n",
       "      <td>0.090</td>\n",
       "      <td>NaN</td>\n",
       "      <td>2263</td>\n",
       "      <td>Sinister</td>\n",
       "      <td>American Double / Imperial IPA</td>\n",
       "      <td>177</td>\n",
       "      <td>12.0</td>\n",
       "    </tr>\n",
       "    <tr>\n",
       "      <th>4</th>\n",
       "      <td>0.075</td>\n",
       "      <td>NaN</td>\n",
       "      <td>2262</td>\n",
       "      <td>Sex and Candy</td>\n",
       "      <td>American IPA</td>\n",
       "      <td>177</td>\n",
       "      <td>12.0</td>\n",
       "    </tr>\n",
       "    <tr>\n",
       "      <th>...</th>\n",
       "      <td>...</td>\n",
       "      <td>...</td>\n",
       "      <td>...</td>\n",
       "      <td>...</td>\n",
       "      <td>...</td>\n",
       "      <td>...</td>\n",
       "      <td>...</td>\n",
       "    </tr>\n",
       "    <tr>\n",
       "      <th>2405</th>\n",
       "      <td>0.067</td>\n",
       "      <td>45.0</td>\n",
       "      <td>928</td>\n",
       "      <td>Belgorado</td>\n",
       "      <td>Belgian IPA</td>\n",
       "      <td>424</td>\n",
       "      <td>12.0</td>\n",
       "    </tr>\n",
       "    <tr>\n",
       "      <th>2406</th>\n",
       "      <td>0.052</td>\n",
       "      <td>NaN</td>\n",
       "      <td>807</td>\n",
       "      <td>Rail Yard Ale</td>\n",
       "      <td>American Amber / Red Ale</td>\n",
       "      <td>424</td>\n",
       "      <td>12.0</td>\n",
       "    </tr>\n",
       "    <tr>\n",
       "      <th>2407</th>\n",
       "      <td>0.055</td>\n",
       "      <td>NaN</td>\n",
       "      <td>620</td>\n",
       "      <td>B3K Black Lager</td>\n",
       "      <td>Schwarzbier</td>\n",
       "      <td>424</td>\n",
       "      <td>12.0</td>\n",
       "    </tr>\n",
       "    <tr>\n",
       "      <th>2408</th>\n",
       "      <td>0.055</td>\n",
       "      <td>40.0</td>\n",
       "      <td>145</td>\n",
       "      <td>Silverback Pale Ale</td>\n",
       "      <td>American Pale Ale (APA)</td>\n",
       "      <td>424</td>\n",
       "      <td>12.0</td>\n",
       "    </tr>\n",
       "    <tr>\n",
       "      <th>2409</th>\n",
       "      <td>0.052</td>\n",
       "      <td>NaN</td>\n",
       "      <td>84</td>\n",
       "      <td>Rail Yard Ale (2009)</td>\n",
       "      <td>American Amber / Red Ale</td>\n",
       "      <td>424</td>\n",
       "      <td>12.0</td>\n",
       "    </tr>\n",
       "  </tbody>\n",
       "</table>\n",
       "<p>2410 rows × 7 columns</p>\n",
       "</div>"
      ],
      "text/plain": [
       "        abv   ibu    id                  name                           style  \\\n",
       "0     0.050   NaN  1436              Pub Beer             American Pale Lager   \n",
       "1     0.066   NaN  2265           Devil's Cup         American Pale Ale (APA)   \n",
       "2     0.071   NaN  2264   Rise of the Phoenix                    American IPA   \n",
       "3     0.090   NaN  2263              Sinister  American Double / Imperial IPA   \n",
       "4     0.075   NaN  2262         Sex and Candy                    American IPA   \n",
       "...     ...   ...   ...                   ...                             ...   \n",
       "2405  0.067  45.0   928             Belgorado                     Belgian IPA   \n",
       "2406  0.052   NaN   807         Rail Yard Ale        American Amber / Red Ale   \n",
       "2407  0.055   NaN   620       B3K Black Lager                     Schwarzbier   \n",
       "2408  0.055  40.0   145   Silverback Pale Ale         American Pale Ale (APA)   \n",
       "2409  0.052   NaN    84  Rail Yard Ale (2009)        American Amber / Red Ale   \n",
       "\n",
       "      brewery_id  ounces  \n",
       "0            408    12.0  \n",
       "1            177    12.0  \n",
       "2            177    12.0  \n",
       "3            177    12.0  \n",
       "4            177    12.0  \n",
       "...          ...     ...  \n",
       "2405         424    12.0  \n",
       "2406         424    12.0  \n",
       "2407         424    12.0  \n",
       "2408         424    12.0  \n",
       "2409         424    12.0  \n",
       "\n",
       "[2410 rows x 7 columns]"
      ]
     },
     "execution_count": 162,
     "metadata": {},
     "output_type": "execute_result"
    }
   ],
   "source": [
    "beer.drop(columns=[\"Unnamed: 0\"], inplace=True)\n",
    "\n",
    "beer\n"
   ]
  },
  {
   "attachments": {},
   "cell_type": "markdown",
   "metadata": {},
   "source": [
    "## Ejercicio 4\n",
    "¿Cuántas filas y columnas tiene el dataset?"
   ]
  },
  {
   "cell_type": "code",
   "execution_count": 163,
   "metadata": {},
   "outputs": [
    {
     "data": {
      "text/plain": [
       "(2410, 7)"
      ]
     },
     "execution_count": 163,
     "metadata": {},
     "output_type": "execute_result"
    }
   ],
   "source": [
    "# Con shape nos dice cuantas filas y cuantas columnas tiene el df\n",
    "fil_cols = beer.shape\n",
    "fil_cols"
   ]
  },
  {
   "attachments": {},
   "cell_type": "markdown",
   "metadata": {},
   "source": [
    "## Ejercicio 5\n",
    "¿De qué tipo son los datos?"
   ]
  },
  {
   "cell_type": "code",
   "execution_count": 164,
   "metadata": {},
   "outputs": [
    {
     "data": {
      "text/plain": [
       "abv           float64\n",
       "ibu           float64\n",
       "id              int64\n",
       "name           object\n",
       "style          object\n",
       "brewery_id      int64\n",
       "ounces        float64\n",
       "dtype: object"
      ]
     },
     "execution_count": 164,
     "metadata": {},
     "output_type": "execute_result"
    }
   ],
   "source": [
    "beer.dtypes"
   ]
  },
  {
   "attachments": {},
   "cell_type": "markdown",
   "metadata": {},
   "source": [
    "## Ejercicio 6\n",
    "Obtén en un nuevo DataFrame un resumen con las principales estadísticas de las columnas numéricas: mean, max, count, cuartiles..."
   ]
  },
  {
   "cell_type": "code",
   "execution_count": 165,
   "metadata": {},
   "outputs": [
    {
     "data": {
      "application/vnd.microsoft.datawrangler.viewer.v0+json": {
       "columns": [
        {
         "name": "index",
         "rawType": "object",
         "type": "string"
        },
        {
         "name": "abv",
         "rawType": "float64",
         "type": "float"
        },
        {
         "name": "ibu",
         "rawType": "float64",
         "type": "float"
        },
        {
         "name": "id",
         "rawType": "float64",
         "type": "float"
        },
        {
         "name": "brewery_id",
         "rawType": "float64",
         "type": "float"
        },
        {
         "name": "ounces",
         "rawType": "float64",
         "type": "float"
        }
       ],
       "conversionMethod": "pd.DataFrame",
       "ref": "cff31aac-9d40-4945-a42c-489e86c3a9ee",
       "rows": [
        [
         "count",
         "2348.0",
         "1405.0",
         "2410.0",
         "2410.0",
         "2410.0"
        ],
        [
         "mean",
         "0.05977342419080067",
         "42.71316725978647",
         "1431.1132780082987",
         "231.74979253112033",
         "13.592240663900414"
        ],
        [
         "std",
         "0.013541733716680264",
         "25.954065911259317",
         "752.4599745599074",
         "157.68560410041619",
         "2.3522036778603734"
        ],
        [
         "min",
         "0.001",
         "4.0",
         "1.0",
         "0.0",
         "8.4"
        ],
        [
         "25%",
         "0.05",
         "21.0",
         "808.25",
         "93.0",
         "12.0"
        ],
        [
         "50%",
         "0.0559999999999999",
         "35.0",
         "1453.5",
         "205.0",
         "12.0"
        ],
        [
         "75%",
         "0.067",
         "64.0",
         "2075.75",
         "366.0",
         "16.0"
        ],
        [
         "max",
         "0.128",
         "138.0",
         "2692.0",
         "557.0",
         "32.0"
        ]
       ],
       "shape": {
        "columns": 5,
        "rows": 8
       }
      },
      "text/html": [
       "<div>\n",
       "<style scoped>\n",
       "    .dataframe tbody tr th:only-of-type {\n",
       "        vertical-align: middle;\n",
       "    }\n",
       "\n",
       "    .dataframe tbody tr th {\n",
       "        vertical-align: top;\n",
       "    }\n",
       "\n",
       "    .dataframe thead th {\n",
       "        text-align: right;\n",
       "    }\n",
       "</style>\n",
       "<table border=\"1\" class=\"dataframe\">\n",
       "  <thead>\n",
       "    <tr style=\"text-align: right;\">\n",
       "      <th></th>\n",
       "      <th>abv</th>\n",
       "      <th>ibu</th>\n",
       "      <th>id</th>\n",
       "      <th>brewery_id</th>\n",
       "      <th>ounces</th>\n",
       "    </tr>\n",
       "  </thead>\n",
       "  <tbody>\n",
       "    <tr>\n",
       "      <th>count</th>\n",
       "      <td>2348.000000</td>\n",
       "      <td>1405.000000</td>\n",
       "      <td>2410.000000</td>\n",
       "      <td>2410.000000</td>\n",
       "      <td>2410.000000</td>\n",
       "    </tr>\n",
       "    <tr>\n",
       "      <th>mean</th>\n",
       "      <td>0.059773</td>\n",
       "      <td>42.713167</td>\n",
       "      <td>1431.113278</td>\n",
       "      <td>231.749793</td>\n",
       "      <td>13.592241</td>\n",
       "    </tr>\n",
       "    <tr>\n",
       "      <th>std</th>\n",
       "      <td>0.013542</td>\n",
       "      <td>25.954066</td>\n",
       "      <td>752.459975</td>\n",
       "      <td>157.685604</td>\n",
       "      <td>2.352204</td>\n",
       "    </tr>\n",
       "    <tr>\n",
       "      <th>min</th>\n",
       "      <td>0.001000</td>\n",
       "      <td>4.000000</td>\n",
       "      <td>1.000000</td>\n",
       "      <td>0.000000</td>\n",
       "      <td>8.400000</td>\n",
       "    </tr>\n",
       "    <tr>\n",
       "      <th>25%</th>\n",
       "      <td>0.050000</td>\n",
       "      <td>21.000000</td>\n",
       "      <td>808.250000</td>\n",
       "      <td>93.000000</td>\n",
       "      <td>12.000000</td>\n",
       "    </tr>\n",
       "    <tr>\n",
       "      <th>50%</th>\n",
       "      <td>0.056000</td>\n",
       "      <td>35.000000</td>\n",
       "      <td>1453.500000</td>\n",
       "      <td>205.000000</td>\n",
       "      <td>12.000000</td>\n",
       "    </tr>\n",
       "    <tr>\n",
       "      <th>75%</th>\n",
       "      <td>0.067000</td>\n",
       "      <td>64.000000</td>\n",
       "      <td>2075.750000</td>\n",
       "      <td>366.000000</td>\n",
       "      <td>16.000000</td>\n",
       "    </tr>\n",
       "    <tr>\n",
       "      <th>max</th>\n",
       "      <td>0.128000</td>\n",
       "      <td>138.000000</td>\n",
       "      <td>2692.000000</td>\n",
       "      <td>557.000000</td>\n",
       "      <td>32.000000</td>\n",
       "    </tr>\n",
       "  </tbody>\n",
       "</table>\n",
       "</div>"
      ],
      "text/plain": [
       "               abv          ibu           id   brewery_id       ounces\n",
       "count  2348.000000  1405.000000  2410.000000  2410.000000  2410.000000\n",
       "mean      0.059773    42.713167  1431.113278   231.749793    13.592241\n",
       "std       0.013542    25.954066   752.459975   157.685604     2.352204\n",
       "min       0.001000     4.000000     1.000000     0.000000     8.400000\n",
       "25%       0.050000    21.000000   808.250000    93.000000    12.000000\n",
       "50%       0.056000    35.000000  1453.500000   205.000000    12.000000\n",
       "75%       0.067000    64.000000  2075.750000   366.000000    16.000000\n",
       "max       0.128000   138.000000  2692.000000   557.000000    32.000000"
      ]
     },
     "execution_count": 165,
     "metadata": {},
     "output_type": "execute_result"
    }
   ],
   "source": [
    "beer_resumen = beer.describe()\n",
    "beer_resumen"
   ]
  },
  {
   "attachments": {},
   "cell_type": "markdown",
   "metadata": {},
   "source": [
    "## Ejercicio 7\n",
    "¿Cuántas birras hay de cada estilo en este dataset? [Investiga en la documentación de Series](https://pandas.pydata.org/pandas-docs/stable/reference/api/pandas.Series.html) si puedes hacer un conteo de valores."
   ]
  },
  {
   "cell_type": "code",
   "execution_count": 166,
   "metadata": {},
   "outputs": [
    {
     "data": {
      "text/plain": [
       "0                  American Pale Lager\n",
       "1              American Pale Ale (APA)\n",
       "2                         American IPA\n",
       "3       American Double / Imperial IPA\n",
       "4                         American IPA\n",
       "                     ...              \n",
       "2405                       Belgian IPA\n",
       "2406          American Amber / Red Ale\n",
       "2407                       Schwarzbier\n",
       "2408           American Pale Ale (APA)\n",
       "2409          American Amber / Red Ale\n",
       "Name: style, Length: 2410, dtype: object"
      ]
     },
     "execution_count": 166,
     "metadata": {},
     "output_type": "execute_result"
    }
   ],
   "source": [
    "beer[\"style\"]"
   ]
  },
  {
   "cell_type": "code",
   "execution_count": 167,
   "metadata": {},
   "outputs": [
    {
     "data": {
      "text/plain": [
       "style\n",
       "American IPA                      424\n",
       "American Pale Ale (APA)           245\n",
       "American Amber / Red Ale          133\n",
       "American Blonde Ale               108\n",
       "American Double / Imperial IPA    105\n",
       "                                 ... \n",
       "Wheat Ale                           1\n",
       "Grisette                            1\n",
       "Flanders Oud Bruin                  1\n",
       "Braggot                             1\n",
       "Low Alcohol Beer                    1\n",
       "Name: count, Length: 99, dtype: int64"
      ]
     },
     "execution_count": 167,
     "metadata": {},
     "output_type": "execute_result"
    }
   ],
   "source": [
    "conteo_estilos = beer[\"style\"].value_counts()\n",
    "\n",
    "conteo_estilos"
   ]
  },
  {
   "cell_type": "code",
   "execution_count": 168,
   "metadata": {},
   "outputs": [
    {
     "data": {
      "text/plain": [
       "\" # Tengo dudas en esta parte\\nstyles = pd.Series(['IPA', 'Lager', 'Stout', 'IPA', 'Pilsner', 'Lager', 'IPA'])\\n\\n# Para contar las ocurrencias de cada estilo\\nconteo_estilos = styles.value_counts()\\n\\nprint(conteo_estilos) \""
      ]
     },
     "execution_count": 168,
     "metadata": {},
     "output_type": "execute_result"
    }
   ],
   "source": [
    "\n",
    "\n",
    "\"\"\" # Tengo dudas en esta parte\n",
    "styles = pd.Series(['IPA', 'Lager', 'Stout', 'IPA', 'Pilsner', 'Lager', 'IPA'])\n",
    "\n",
    "# Para contar las ocurrencias de cada estilo\n",
    "conteo_estilos = styles.value_counts()\n",
    "\n",
    "print(conteo_estilos) \"\"\"\n"
   ]
  },
  {
   "cell_type": "code",
   "execution_count": 169,
   "metadata": {},
   "outputs": [
    {
     "data": {
      "text/plain": [
       "0                American Pale Lager\n",
       "1            American Pale Ale (APA)\n",
       "2                       American IPA\n",
       "3     American Double / Imperial IPA\n",
       "4                      Oatmeal Stout\n",
       "                   ...              \n",
       "95                        Chile Beer\n",
       "96                          Grisette\n",
       "97                Flanders Oud Bruin\n",
       "98                           Braggot\n",
       "99                  Low Alcohol Beer\n",
       "Length: 100, dtype: object"
      ]
     },
     "execution_count": 169,
     "metadata": {},
     "output_type": "execute_result"
    }
   ],
   "source": [
    "estilos_unicos = pd.Series(beer[\"style\"].unique())\n",
    "estilos_unicos"
   ]
  },
  {
   "cell_type": "code",
   "execution_count": 170,
   "metadata": {},
   "outputs": [
    {
     "name": "stdout",
     "output_type": "stream",
     "text": [
      "style\n",
      "American IPA                      424\n",
      "American Pale Ale (APA)           245\n",
      "American Amber / Red Ale          133\n",
      "American Blonde Ale               108\n",
      "American Double / Imperial IPA    105\n",
      "                                 ... \n",
      "Wheat Ale                           1\n",
      "Grisette                            1\n",
      "Flanders Oud Bruin                  1\n",
      "Braggot                             1\n",
      "Low Alcohol Beer                    1\n",
      "Name: count, Length: 99, dtype: int64\n"
     ]
    }
   ],
   "source": [
    "# Contar las ocurrencias de cada estilo directamente desde la columna 'styles'\n",
    "conteo_estilos = beer[\"style\"].value_counts()\n",
    "\n",
    "print(conteo_estilos)\n"
   ]
  },
  {
   "attachments": {},
   "cell_type": "markdown",
   "metadata": {},
   "source": [
    "## Ejercicio 8\n",
    "1. Imprime por pantalla los registros desde el décimo hasta el vigésimo\n",
    "2. De esos registros, imprime por pantalla desde la columna `name` a `ounces`, ambas incluidas\n",
    "3. Quédate con las columnas `abv`, `ibu` y `ounces`, y además quédate sólo con los registros 10 al 20.\n",
    "4. Convierte el resultado del apartado 3 en un array de `numpy`"
   ]
  },
  {
   "cell_type": "code",
   "execution_count": 171,
   "metadata": {},
   "outputs": [
    {
     "data": {
      "application/vnd.microsoft.datawrangler.viewer.v0+json": {
       "columns": [
        {
         "name": "index",
         "rawType": "int64",
         "type": "integer"
        },
        {
         "name": "abv",
         "rawType": "float64",
         "type": "float"
        },
        {
         "name": "ibu",
         "rawType": "float64",
         "type": "float"
        },
        {
         "name": "id",
         "rawType": "int64",
         "type": "integer"
        },
        {
         "name": "name",
         "rawType": "object",
         "type": "string"
        },
        {
         "name": "style",
         "rawType": "object",
         "type": "string"
        },
        {
         "name": "brewery_id",
         "rawType": "int64",
         "type": "integer"
        },
        {
         "name": "ounces",
         "rawType": "float64",
         "type": "float"
        }
       ],
       "conversionMethod": "pd.DataFrame",
       "ref": "e257efb1-18cf-420e-9186-45b7a443b91f",
       "rows": [
        [
         "9",
         "0.086",
         null,
         "2131",
         "Cone Crusher",
         "American Double / Imperial IPA",
         "177",
         "12.0"
        ],
        [
         "10",
         "0.072",
         null,
         "2099",
         "Sophomoric Saison",
         "Saison / Farmhouse Ale",
         "177",
         "12.0"
        ],
        [
         "11",
         "0.073",
         null,
         "2098",
         "Regional Ring Of Fire",
         "Saison / Farmhouse Ale",
         "177",
         "12.0"
        ],
        [
         "12",
         "0.069",
         null,
         "2097",
         "Garce Selé",
         "Saison / Farmhouse Ale",
         "177",
         "12.0"
        ],
        [
         "13",
         "0.085",
         null,
         "1980",
         "Troll Destroyer",
         "Belgian IPA",
         "177",
         "12.0"
        ],
        [
         "14",
         "0.061",
         "60.0",
         "1979",
         "Bitter Bitch",
         "American Pale Ale (APA)",
         "177",
         "12.0"
        ],
        [
         "15",
         "0.06",
         null,
         "2318",
         "Ginja Ninja",
         "Cider",
         "154",
         "12.0"
        ],
        [
         "16",
         "0.06",
         null,
         "2170",
         "Cherried Away",
         "Cider",
         "154",
         "12.0"
        ],
        [
         "17",
         "0.06",
         null,
         "2169",
         "Rhubarbarian",
         "Cider",
         "154",
         "12.0"
        ],
        [
         "18",
         "0.06",
         null,
         "1502",
         "BrightCider",
         "Cider",
         "154",
         "12.0"
        ],
        [
         "19",
         "0.0819999999999999",
         null,
         "1593",
         "He Said Baltic-Style Porter",
         "Baltic Porter",
         "368",
         "12.0"
        ],
        [
         "20",
         "0.0819999999999999",
         null,
         "1592",
         "He Said Belgian-Style Tripel",
         "Tripel",
         "368",
         "12.0"
        ]
       ],
       "shape": {
        "columns": 7,
        "rows": 12
       }
      },
      "text/html": [
       "<div>\n",
       "<style scoped>\n",
       "    .dataframe tbody tr th:only-of-type {\n",
       "        vertical-align: middle;\n",
       "    }\n",
       "\n",
       "    .dataframe tbody tr th {\n",
       "        vertical-align: top;\n",
       "    }\n",
       "\n",
       "    .dataframe thead th {\n",
       "        text-align: right;\n",
       "    }\n",
       "</style>\n",
       "<table border=\"1\" class=\"dataframe\">\n",
       "  <thead>\n",
       "    <tr style=\"text-align: right;\">\n",
       "      <th></th>\n",
       "      <th>abv</th>\n",
       "      <th>ibu</th>\n",
       "      <th>id</th>\n",
       "      <th>name</th>\n",
       "      <th>style</th>\n",
       "      <th>brewery_id</th>\n",
       "      <th>ounces</th>\n",
       "    </tr>\n",
       "  </thead>\n",
       "  <tbody>\n",
       "    <tr>\n",
       "      <th>9</th>\n",
       "      <td>0.086</td>\n",
       "      <td>NaN</td>\n",
       "      <td>2131</td>\n",
       "      <td>Cone Crusher</td>\n",
       "      <td>American Double / Imperial IPA</td>\n",
       "      <td>177</td>\n",
       "      <td>12.0</td>\n",
       "    </tr>\n",
       "    <tr>\n",
       "      <th>10</th>\n",
       "      <td>0.072</td>\n",
       "      <td>NaN</td>\n",
       "      <td>2099</td>\n",
       "      <td>Sophomoric Saison</td>\n",
       "      <td>Saison / Farmhouse Ale</td>\n",
       "      <td>177</td>\n",
       "      <td>12.0</td>\n",
       "    </tr>\n",
       "    <tr>\n",
       "      <th>11</th>\n",
       "      <td>0.073</td>\n",
       "      <td>NaN</td>\n",
       "      <td>2098</td>\n",
       "      <td>Regional Ring Of Fire</td>\n",
       "      <td>Saison / Farmhouse Ale</td>\n",
       "      <td>177</td>\n",
       "      <td>12.0</td>\n",
       "    </tr>\n",
       "    <tr>\n",
       "      <th>12</th>\n",
       "      <td>0.069</td>\n",
       "      <td>NaN</td>\n",
       "      <td>2097</td>\n",
       "      <td>Garce Selé</td>\n",
       "      <td>Saison / Farmhouse Ale</td>\n",
       "      <td>177</td>\n",
       "      <td>12.0</td>\n",
       "    </tr>\n",
       "    <tr>\n",
       "      <th>13</th>\n",
       "      <td>0.085</td>\n",
       "      <td>NaN</td>\n",
       "      <td>1980</td>\n",
       "      <td>Troll Destroyer</td>\n",
       "      <td>Belgian IPA</td>\n",
       "      <td>177</td>\n",
       "      <td>12.0</td>\n",
       "    </tr>\n",
       "    <tr>\n",
       "      <th>14</th>\n",
       "      <td>0.061</td>\n",
       "      <td>60.0</td>\n",
       "      <td>1979</td>\n",
       "      <td>Bitter Bitch</td>\n",
       "      <td>American Pale Ale (APA)</td>\n",
       "      <td>177</td>\n",
       "      <td>12.0</td>\n",
       "    </tr>\n",
       "    <tr>\n",
       "      <th>15</th>\n",
       "      <td>0.060</td>\n",
       "      <td>NaN</td>\n",
       "      <td>2318</td>\n",
       "      <td>Ginja Ninja</td>\n",
       "      <td>Cider</td>\n",
       "      <td>154</td>\n",
       "      <td>12.0</td>\n",
       "    </tr>\n",
       "    <tr>\n",
       "      <th>16</th>\n",
       "      <td>0.060</td>\n",
       "      <td>NaN</td>\n",
       "      <td>2170</td>\n",
       "      <td>Cherried Away</td>\n",
       "      <td>Cider</td>\n",
       "      <td>154</td>\n",
       "      <td>12.0</td>\n",
       "    </tr>\n",
       "    <tr>\n",
       "      <th>17</th>\n",
       "      <td>0.060</td>\n",
       "      <td>NaN</td>\n",
       "      <td>2169</td>\n",
       "      <td>Rhubarbarian</td>\n",
       "      <td>Cider</td>\n",
       "      <td>154</td>\n",
       "      <td>12.0</td>\n",
       "    </tr>\n",
       "    <tr>\n",
       "      <th>18</th>\n",
       "      <td>0.060</td>\n",
       "      <td>NaN</td>\n",
       "      <td>1502</td>\n",
       "      <td>BrightCider</td>\n",
       "      <td>Cider</td>\n",
       "      <td>154</td>\n",
       "      <td>12.0</td>\n",
       "    </tr>\n",
       "    <tr>\n",
       "      <th>19</th>\n",
       "      <td>0.082</td>\n",
       "      <td>NaN</td>\n",
       "      <td>1593</td>\n",
       "      <td>He Said Baltic-Style Porter</td>\n",
       "      <td>Baltic Porter</td>\n",
       "      <td>368</td>\n",
       "      <td>12.0</td>\n",
       "    </tr>\n",
       "    <tr>\n",
       "      <th>20</th>\n",
       "      <td>0.082</td>\n",
       "      <td>NaN</td>\n",
       "      <td>1592</td>\n",
       "      <td>He Said Belgian-Style Tripel</td>\n",
       "      <td>Tripel</td>\n",
       "      <td>368</td>\n",
       "      <td>12.0</td>\n",
       "    </tr>\n",
       "  </tbody>\n",
       "</table>\n",
       "</div>"
      ],
      "text/plain": [
       "      abv   ibu    id                          name  \\\n",
       "9   0.086   NaN  2131                  Cone Crusher   \n",
       "10  0.072   NaN  2099             Sophomoric Saison   \n",
       "11  0.073   NaN  2098         Regional Ring Of Fire   \n",
       "12  0.069   NaN  2097                    Garce Selé   \n",
       "13  0.085   NaN  1980               Troll Destroyer   \n",
       "14  0.061  60.0  1979                  Bitter Bitch   \n",
       "15  0.060   NaN  2318                   Ginja Ninja   \n",
       "16  0.060   NaN  2170                 Cherried Away   \n",
       "17  0.060   NaN  2169                  Rhubarbarian   \n",
       "18  0.060   NaN  1502                   BrightCider   \n",
       "19  0.082   NaN  1593   He Said Baltic-Style Porter   \n",
       "20  0.082   NaN  1592  He Said Belgian-Style Tripel   \n",
       "\n",
       "                             style  brewery_id  ounces  \n",
       "9   American Double / Imperial IPA         177    12.0  \n",
       "10          Saison / Farmhouse Ale         177    12.0  \n",
       "11          Saison / Farmhouse Ale         177    12.0  \n",
       "12          Saison / Farmhouse Ale         177    12.0  \n",
       "13                     Belgian IPA         177    12.0  \n",
       "14         American Pale Ale (APA)         177    12.0  \n",
       "15                           Cider         154    12.0  \n",
       "16                           Cider         154    12.0  \n",
       "17                           Cider         154    12.0  \n",
       "18                           Cider         154    12.0  \n",
       "19                   Baltic Porter         368    12.0  \n",
       "20                          Tripel         368    12.0  "
      ]
     },
     "execution_count": 171,
     "metadata": {},
     "output_type": "execute_result"
    }
   ],
   "source": [
    "# 1 registros desde el décimo hasta el vigésimo\n",
    "\n",
    "registros = beer.iloc[9:21]\n",
    "registros"
   ]
  },
  {
   "cell_type": "code",
   "execution_count": 172,
   "metadata": {},
   "outputs": [
    {
     "data": {
      "application/vnd.microsoft.datawrangler.viewer.v0+json": {
       "columns": [
        {
         "name": "index",
         "rawType": "int64",
         "type": "integer"
        },
        {
         "name": "name",
         "rawType": "object",
         "type": "string"
        },
        {
         "name": "style",
         "rawType": "object",
         "type": "string"
        },
        {
         "name": "ounces",
         "rawType": "float64",
         "type": "float"
        }
       ],
       "conversionMethod": "pd.DataFrame",
       "ref": "98cbc2d4-2799-449d-af1e-45f46e1692a4",
       "rows": [
        [
         "9",
         "Cone Crusher",
         "American Double / Imperial IPA",
         "12.0"
        ],
        [
         "10",
         "Sophomoric Saison",
         "Saison / Farmhouse Ale",
         "12.0"
        ],
        [
         "11",
         "Regional Ring Of Fire",
         "Saison / Farmhouse Ale",
         "12.0"
        ],
        [
         "12",
         "Garce Selé",
         "Saison / Farmhouse Ale",
         "12.0"
        ],
        [
         "13",
         "Troll Destroyer",
         "Belgian IPA",
         "12.0"
        ],
        [
         "14",
         "Bitter Bitch",
         "American Pale Ale (APA)",
         "12.0"
        ],
        [
         "15",
         "Ginja Ninja",
         "Cider",
         "12.0"
        ],
        [
         "16",
         "Cherried Away",
         "Cider",
         "12.0"
        ],
        [
         "17",
         "Rhubarbarian",
         "Cider",
         "12.0"
        ],
        [
         "18",
         "BrightCider",
         "Cider",
         "12.0"
        ],
        [
         "19",
         "He Said Baltic-Style Porter",
         "Baltic Porter",
         "12.0"
        ]
       ],
       "shape": {
        "columns": 3,
        "rows": 11
       }
      },
      "text/html": [
       "<div>\n",
       "<style scoped>\n",
       "    .dataframe tbody tr th:only-of-type {\n",
       "        vertical-align: middle;\n",
       "    }\n",
       "\n",
       "    .dataframe tbody tr th {\n",
       "        vertical-align: top;\n",
       "    }\n",
       "\n",
       "    .dataframe thead th {\n",
       "        text-align: right;\n",
       "    }\n",
       "</style>\n",
       "<table border=\"1\" class=\"dataframe\">\n",
       "  <thead>\n",
       "    <tr style=\"text-align: right;\">\n",
       "      <th></th>\n",
       "      <th>name</th>\n",
       "      <th>style</th>\n",
       "      <th>ounces</th>\n",
       "    </tr>\n",
       "  </thead>\n",
       "  <tbody>\n",
       "    <tr>\n",
       "      <th>9</th>\n",
       "      <td>Cone Crusher</td>\n",
       "      <td>American Double / Imperial IPA</td>\n",
       "      <td>12.0</td>\n",
       "    </tr>\n",
       "    <tr>\n",
       "      <th>10</th>\n",
       "      <td>Sophomoric Saison</td>\n",
       "      <td>Saison / Farmhouse Ale</td>\n",
       "      <td>12.0</td>\n",
       "    </tr>\n",
       "    <tr>\n",
       "      <th>11</th>\n",
       "      <td>Regional Ring Of Fire</td>\n",
       "      <td>Saison / Farmhouse Ale</td>\n",
       "      <td>12.0</td>\n",
       "    </tr>\n",
       "    <tr>\n",
       "      <th>12</th>\n",
       "      <td>Garce Selé</td>\n",
       "      <td>Saison / Farmhouse Ale</td>\n",
       "      <td>12.0</td>\n",
       "    </tr>\n",
       "    <tr>\n",
       "      <th>13</th>\n",
       "      <td>Troll Destroyer</td>\n",
       "      <td>Belgian IPA</td>\n",
       "      <td>12.0</td>\n",
       "    </tr>\n",
       "    <tr>\n",
       "      <th>14</th>\n",
       "      <td>Bitter Bitch</td>\n",
       "      <td>American Pale Ale (APA)</td>\n",
       "      <td>12.0</td>\n",
       "    </tr>\n",
       "    <tr>\n",
       "      <th>15</th>\n",
       "      <td>Ginja Ninja</td>\n",
       "      <td>Cider</td>\n",
       "      <td>12.0</td>\n",
       "    </tr>\n",
       "    <tr>\n",
       "      <th>16</th>\n",
       "      <td>Cherried Away</td>\n",
       "      <td>Cider</td>\n",
       "      <td>12.0</td>\n",
       "    </tr>\n",
       "    <tr>\n",
       "      <th>17</th>\n",
       "      <td>Rhubarbarian</td>\n",
       "      <td>Cider</td>\n",
       "      <td>12.0</td>\n",
       "    </tr>\n",
       "    <tr>\n",
       "      <th>18</th>\n",
       "      <td>BrightCider</td>\n",
       "      <td>Cider</td>\n",
       "      <td>12.0</td>\n",
       "    </tr>\n",
       "    <tr>\n",
       "      <th>19</th>\n",
       "      <td>He Said Baltic-Style Porter</td>\n",
       "      <td>Baltic Porter</td>\n",
       "      <td>12.0</td>\n",
       "    </tr>\n",
       "  </tbody>\n",
       "</table>\n",
       "</div>"
      ],
      "text/plain": [
       "                           name                           style  ounces\n",
       "9                  Cone Crusher  American Double / Imperial IPA    12.0\n",
       "10            Sophomoric Saison          Saison / Farmhouse Ale    12.0\n",
       "11        Regional Ring Of Fire          Saison / Farmhouse Ale    12.0\n",
       "12                   Garce Selé          Saison / Farmhouse Ale    12.0\n",
       "13              Troll Destroyer                     Belgian IPA    12.0\n",
       "14                 Bitter Bitch         American Pale Ale (APA)    12.0\n",
       "15                  Ginja Ninja                           Cider    12.0\n",
       "16                Cherried Away                           Cider    12.0\n",
       "17                 Rhubarbarian                           Cider    12.0\n",
       "18                  BrightCider                           Cider    12.0\n",
       "19  He Said Baltic-Style Porter                   Baltic Porter    12.0"
      ]
     },
     "execution_count": 172,
     "metadata": {},
     "output_type": "execute_result"
    }
   ],
   "source": [
    "registros  = beer.iloc[9:20][['name', 'style', 'ounces']]\n",
    "\n",
    "registros"
   ]
  },
  {
   "attachments": {},
   "cell_type": "markdown",
   "metadata": {},
   "source": [
    "## Ejercicio 9\n",
    "¿Cuántas onzas pesan todas las birras del dataset?"
   ]
  },
  {
   "cell_type": "code",
   "execution_count": 173,
   "metadata": {},
   "outputs": [
    {
     "name": "stdout",
     "output_type": "stream",
     "text": [
      "El total de onzas de todas las birras es: 32757.3\n"
     ]
    }
   ],
   "source": [
    "total_onzas = beer[\"ounces\"].sum()\n",
    "\n",
    "print(f\"El total de onzas de todas las birras es: {total_onzas}\")"
   ]
  },
  {
   "attachments": {},
   "cell_type": "markdown",
   "metadata": {},
   "source": [
    "## Ejercicio 10\n",
    "El amargor de las cervezas se mide por su nivel de IBUs.\n",
    "1. ¿Cuál es el amargor medio de las cervezas?\n",
    "2. ¿El máximo? ¿Y el mínimo?\n",
    "3. ¿Qué cerveza es la que tiene el amargor máximo? ¿Cuál es la de amargor mínimo?"
   ]
  },
  {
   "cell_type": "code",
   "execution_count": 174,
   "metadata": {},
   "outputs": [
    {
     "name": "stdout",
     "output_type": "stream",
     "text": [
      "El promedio de IBUs de todas las cervezas es: 42.71\n",
      "El valor máximo de IBU es: 138.0\n",
      "El valor mínimo de IBU es: 4.0\n",
      "La cerveza con el amargor máximo es: Bitter Bitch Imperial IPA con 138.0 IBU\n",
      "La cerveza con el amargor mínimo es: Summer Solstice con 4.0 IBU\n"
     ]
    }
   ],
   "source": [
    "# 1 amargaor medio, lo hacemos con mean\n",
    "\n",
    "promedio_ibu = beer[\"ibu\"].mean().round(2)\n",
    "\n",
    "print(f\"El promedio de IBUs de todas las cervezas es: {promedio_ibu}\")\n",
    "\n",
    "# Obtener el valor máximo de IBUs, con max\n",
    "max_ibu = beer[\"ibu\"].max()\n",
    "\n",
    "# Obtener el valor mínimo de IBUs, con min\n",
    "min_ibu = beer[\"ibu\"].min()\n",
    "\n",
    "print(f\"El valor máximo de IBU es: {max_ibu}\")\n",
    "print(f\"El valor mínimo de IBU es: {min_ibu}\")\n",
    "\n",
    "# que cerveza tiene el amargor mmáximo y amargor mínimo\n",
    "# Buscamos el índice de la cerveza con el amargor máximo\n",
    "indice_max_ibu = beer[\"ibu\"].idxmax()\n",
    "\n",
    "# Buscamos el índice de la cerveza con el amargor mínimo\n",
    "indice_min_ibu = beer[\"ibu\"].idxmin()\n",
    "\n",
    "# Con loc \n",
    "cerveza_max_ibu = beer.loc[indice_max_ibu]\n",
    "cerveza_min_ibu = beer.loc[indice_min_ibu]\n",
    "\n",
    "print(f\"La cerveza con el amargor máximo es: {cerveza_max_ibu['name']} con {cerveza_max_ibu['ibu']} IBU\")\n",
    "print(f\"La cerveza con el amargor mínimo es: {cerveza_min_ibu['name']} con {cerveza_min_ibu['ibu']} IBU\")\n"
   ]
  },
  {
   "attachments": {},
   "cell_type": "markdown",
   "metadata": {},
   "source": [
    "## Ejercicio 11\n",
    "No queda muy claro cuánto de dispar, de dispersa, es la medida de IBU. Mediante estadística descriptiva (una o dos métricas, sin gráficas), razona la dispersión de la variable IBU."
   ]
  },
  {
   "cell_type": "code",
   "execution_count": 175,
   "metadata": {},
   "outputs": [],
   "source": [
    "# Desviación estándar (std): Mide la cantidad de variabilidad o dispersión de los datos respecto a la media.\n",
    "# Cuanto mayor sea la desviación estándar, más dispersos están los datos.\n",
    "\n",
    "# Rango intercuartílico (IQR): Es la diferencia entre el percentil 75 (Q3) y el percentil 25 (Q1).\n",
    "# Este valor mide la dispersión del 50% central de los datos y es menos sensible a valores extremos o outliers.\n",
    "\n",
    "# Necesito la min, max, media, mediana\n",
    "# La media dividido por 100\n",
    "\n",
    "# Calcular la desviación estándar\n",
    "# desviacion_estandar = beer['ibu'].std().round(2)\n",
    "\n",
    "# # Calcular el rango intercuartílico (IQR)\n",
    "# iqr = beer['ibu'].quantile(0.75) - beer['ibu'].quantile(0.25)\n",
    "\n",
    "# print(f\"La desviación estándar de los valores de IBU es: {desviacion_estandar}\")\n",
    "# print(f\"El rango intercuartílico (IQR) de los valores de IBU es: {iqr}\")"
   ]
  },
  {
   "attachments": {},
   "cell_type": "markdown",
   "metadata": {},
   "source": [
    "## Ejercicio 12\n",
    "¿Existe alguna relación lineal entre las variables numéricas del dataset? Intenta pintar este razonamiento mediante un gráfico"
   ]
  },
  {
   "cell_type": "code",
   "execution_count": null,
   "metadata": {},
   "outputs": [
    {
     "name": "stdout",
     "output_type": "stream",
     "text": [
      "                 abv       ibu        id  brewery_id    ounces\n",
      "abv         1.000000  0.670621  0.042811   -0.098632  0.172529\n",
      "ibu         0.670621  1.000000  0.000485   -0.004875  0.054691\n",
      "id          0.042811  0.000485  1.000000   -0.504030  0.100843\n",
      "brewery_id -0.098632 -0.004875 -0.504030    1.000000 -0.133762\n",
      "ounces      0.172529  0.054691  0.100843   -0.133762  1.000000\n"
     ]
    },
    {
     "data": {
      "image/png": "[encoded data removed]",
      "text/plain": [
       "<Figure size 800x600 with 2 Axes>"
      ]
     },
     "metadata": {},
     "output_type": "display_data"
    }
   ],
   "source": [
    "# Selecciona solo las columnas numéricas\n",
    "beer_numeric = beer.select_dtypes(include=['number'])\n",
    "\n",
    "# Calcular la matriz de correlación solo con las columnas numéricas\n",
    "correlation_matrix = beer_numeric.corr()\n",
    "\n",
    "# Matriz de correlación\n",
    "print(correlation_matrix)\n",
    "\n",
    "# Mapa de calor de la matriz de correlación\n",
    "plt.figure(figsize=(8, 6))  # Tamaño del gráfico\n",
    "sns.heatmap(correlation_matrix, annot=True, cmap='coolwarm', fmt='.2f', linewidths=0.5)\n",
    "\n",
    "# Título y etiquetas\n",
    "plt.title('Matriz de Correlación de las Variables Numéricas')\n",
    "plt.show()\n",
    "\n"
   ]
  },
  {
   "attachments": {},
   "cell_type": "markdown",
   "metadata": {},
   "source": [
    "## Ejercicio 13\n",
    "Representa el nivel de alcohol (columna `abv`) en un histograma. ¿Se trata de una distribución simétrica o asimétrica?"
   ]
  },
  {
   "cell_type": "code",
   "execution_count": 197,
   "metadata": {},
   "outputs": [
    {
     "data": {
      "image/png": "[encoded data removed]",
      "text/plain": [
       "<Figure size 640x480 with 1 Axes>"
      ]
     },
     "metadata": {},
     "output_type": "display_data"
    }
   ],
   "source": [
    "plt.hist(beer[\"abv\"], bins=20, color='purple', edgecolor='black')\n",
    "\n",
    "# Agregar título y etiquetas\n",
    "plt.title('Distribución de nivel de alcohol abv')\n",
    "plt.xlabel('abv')\n",
    "plt.ylabel('Frecuencia') \n",
    "plt.grid(axis=\"y\", linestyle = \"--\", alpha=0.7)\n",
    "# Mostrar el gráfico\n",
    "plt.show()"
   ]
  },
  {
   "cell_type": "markdown",
   "metadata": {},
   "source": [
    "##### Se trata de una distribución simétrica.\n",
    "\n",
    "Asimetria a la derecha"
   ]
  },
  {
   "attachments": {},
   "cell_type": "markdown",
   "metadata": {},
   "source": [
    "## Ejercicio 14\n",
    "Representa mediante un *boxplot* de `seaborn` la variable `abv`"
   ]
  },
  {
   "cell_type": "code",
   "execution_count": 196,
   "metadata": {},
   "outputs": [
    {
     "data": {
      "image/png": "[encoded data removed]",
      "text/plain": [
       "<Figure size 800x600 with 1 Axes>"
      ]
     },
     "metadata": {},
     "output_type": "display_data"
    }
   ],
   "source": [
    "# Crear el boxplot de la variable 'abv'\n",
    "plt.figure(figsize=(8, 6))  # Tamaño del gráfico\n",
    "sns.boxplot(x=beer[\"abv\"], color='lime')\n",
    "\n",
    "# Añadir título y etiquetas\n",
    "plt.title('Boxplot de la variable ABV (Nivel de Alcohol)', fontsize=18)\n",
    "plt.xlabel('ABV', fontsize=12)\n",
    "\n",
    "# Mostrar el gráfico\n",
    "plt.show()"
   ]
  },
  {
   "attachments": {},
   "cell_type": "markdown",
   "metadata": {},
   "source": [
    "## Ejercicio 15\n",
    "1. ¿Qué estilos son los que tienen en media más alcohol?\n",
    "2. ¿Y los estilos que son en media más amargos?"
   ]
  },
  {
   "cell_type": "code",
   "execution_count": null,
   "metadata": {},
   "outputs": [],
   "source": []
  },
  {
   "attachments": {},
   "cell_type": "markdown",
   "metadata": {},
   "source": [
    "## Ejercicio 16\n",
    "Carga el datasets de cervecerias `datasets_breweries.csv`"
   ]
  },
  {
   "attachments": {},
   "cell_type": "markdown",
   "metadata": {},
   "source": [
    "## Ejercicio 17\n",
    "1. Renombra la columna `Unnamed: 0` como `brewery_id`\n",
    "2. Renombra también la columna `name` por `brewery_name`. ¿Puedes hacer ambos apartados en una sola sentencia?"
   ]
  },
  {
   "attachments": {},
   "cell_type": "markdown",
   "metadata": {},
   "source": [
    "## Ejercicio 18\n",
    "Junta los dos datasets que tienes"
   ]
  },
  {
   "attachments": {},
   "cell_type": "markdown",
   "metadata": {},
   "source": [
    "## Ejercicio 19\n",
    "1. ¿Cuántos estados diferentes hay?\n",
    "2. ¿Y ciudades diferentes?\n",
    "3. ¿Cuántas cervecerías hay?"
   ]
  },
  {
   "attachments": {},
   "cell_type": "markdown",
   "metadata": {},
   "source": [
    "## Ejercicio 20\n",
    "Agrupa por estado y ciudad, la media, mediana y máximo nivel de alcohol"
   ]
  },
  {
   "attachments": {},
   "cell_type": "markdown",
   "metadata": {},
   "source": [
    "## Ejercicio 21\n",
    "¿Cuáles son las cervezas más amargas que se consumen en Indiana, estado = `IN`?"
   ]
  },
  {
   "attachments": {},
   "cell_type": "markdown",
   "metadata": {},
   "source": [
    "## Ejercicio 22\n",
    "Obtén una tabla con los principales estadísticos del campo `ibu`,  a nivel ciudad"
   ]
  },
  {
   "attachments": {},
   "cell_type": "markdown",
   "metadata": {},
   "source": [
    "## Ejercicio 23\n",
    "Consigue en un DataFrame de todas las cervezas en cuyas cervecerías al menos haya una cerveza con un `abv` mínimo 0.07."
   ]
  },
  {
   "cell_type": "code",
   "execution_count": null,
   "metadata": {},
   "outputs": [],
   "source": [
    "# todas las cervezas, que venda una cervecería, donde al menos una de ellas sea de 0.07 para arriba"
   ]
  },
  {
   "attachments": {},
   "cell_type": "markdown",
   "metadata": {},
   "source": [
    "## Ejercicio 24\n",
    "Teniendo en cuenta la media de amargor de todas las cervezas, obtén una tabla con las cervezas cuyos estados tengan una media de amargor en cerveza por encima de la media"
   ]
  },
  {
   "cell_type": "code",
   "execution_count": null,
   "metadata": {},
   "outputs": [],
   "source": [
    "# Las cervezas que se encuentran en aquellos estados, cuya media de amargor, sea superior a la media de amargor total"
   ]
  }
 ],
 "metadata": {
  "kernelspec": {
   "display_name": "Python 3",
   "language": "python",
   "name": "python3"
  },
  "language_info": {
   "codemirror_mode": {
    "name": "ipython",
    "version": 3
   },
   "file_extension": ".py",
   "mimetype": "text/x-python",
   "name": "python",
   "nbconvert_exporter": "python",
   "pygments_lexer": "ipython3",
   "version": "3.11.9"
  }
 },
 "nbformat": 4,
 "nbformat_minor": 4
}
