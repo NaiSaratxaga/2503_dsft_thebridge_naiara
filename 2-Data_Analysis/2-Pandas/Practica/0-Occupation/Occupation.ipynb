{
 "cells": [
  {
   "cell_type": "markdown",
   "metadata": {},
   "source": [
    "# Obtén y conoce tus datos"
   ]
  },
  {
   "cell_type": "markdown",
   "metadata": {},
   "source": [
    "\n",
    "\n",
    "### 1. Importa las librerías necesarias"
   ]
  },
  {
   "cell_type": "code",
   "execution_count": 1,
   "metadata": {},
   "outputs": [],
   "source": [
    "import numpy as np\n",
    "import pandas as pd"
   ]
  },
  {
   "attachments": {},
   "cell_type": "markdown",
   "metadata": {},
   "source": [
    "### 2. Importa el dataset de este [enlace](https://raw.githubusercontent.com/justmarkham/DAT8/master/data/u.user) y guárdalo en una variable llamada users. Usa pd.read_csv()"
   ]
  },
  {
   "cell_type": "code",
   "execution_count": 2,
   "metadata": {},
   "outputs": [
    {
     "data": {
      "application/vnd.microsoft.datawrangler.viewer.v0+json": {
       "columns": [
        {
         "name": "index",
         "rawType": "int64",
         "type": "integer"
        },
        {
         "name": "user_id",
         "rawType": "int64",
         "type": "integer"
        },
        {
         "name": "age",
         "rawType": "int64",
         "type": "integer"
        },
        {
         "name": "gender",
         "rawType": "object",
         "type": "string"
        },
        {
         "name": "occupation",
         "rawType": "object",
         "type": "string"
        },
        {
         "name": "zip_code",
         "rawType": "object",
         "type": "string"
        }
       ],
       "conversionMethod": "pd.DataFrame",
       "ref": "a729a0a4-49c8-49af-8ba9-8735306a348c",
       "rows": [
        [
         "0",
         "1",
         "24",
         "M",
         "technician",
         "85711"
        ],
        [
         "1",
         "2",
         "53",
         "F",
         "other",
         "94043"
        ],
        [
         "2",
         "3",
         "23",
         "M",
         "writer",
         "32067"
        ],
        [
         "3",
         "4",
         "24",
         "M",
         "technician",
         "43537"
        ],
        [
         "4",
         "5",
         "33",
         "F",
         "other",
         "15213"
        ],
        [
         "5",
         "6",
         "42",
         "M",
         "executive",
         "98101"
        ],
        [
         "6",
         "7",
         "57",
         "M",
         "administrator",
         "91344"
        ],
        [
         "7",
         "8",
         "36",
         "M",
         "administrator",
         "05201"
        ],
        [
         "8",
         "9",
         "29",
         "M",
         "student",
         "01002"
        ],
        [
         "9",
         "10",
         "53",
         "M",
         "lawyer",
         "90703"
        ],
        [
         "10",
         "11",
         "39",
         "F",
         "other",
         "30329"
        ],
        [
         "11",
         "12",
         "28",
         "F",
         "other",
         "06405"
        ],
        [
         "12",
         "13",
         "47",
         "M",
         "educator",
         "29206"
        ],
        [
         "13",
         "14",
         "45",
         "M",
         "scientist",
         "55106"
        ],
        [
         "14",
         "15",
         "49",
         "F",
         "educator",
         "97301"
        ],
        [
         "15",
         "16",
         "21",
         "M",
         "entertainment",
         "10309"
        ],
        [
         "16",
         "17",
         "30",
         "M",
         "programmer",
         "06355"
        ],
        [
         "17",
         "18",
         "35",
         "F",
         "other",
         "37212"
        ],
        [
         "18",
         "19",
         "40",
         "M",
         "librarian",
         "02138"
        ],
        [
         "19",
         "20",
         "42",
         "F",
         "homemaker",
         "95660"
        ],
        [
         "20",
         "21",
         "26",
         "M",
         "writer",
         "30068"
        ],
        [
         "21",
         "22",
         "25",
         "M",
         "writer",
         "40206"
        ],
        [
         "22",
         "23",
         "30",
         "F",
         "artist",
         "48197"
        ],
        [
         "23",
         "24",
         "21",
         "F",
         "artist",
         "94533"
        ],
        [
         "24",
         "25",
         "39",
         "M",
         "engineer",
         "55107"
        ],
        [
         "25",
         "26",
         "49",
         "M",
         "engineer",
         "21044"
        ],
        [
         "26",
         "27",
         "40",
         "F",
         "librarian",
         "30030"
        ],
        [
         "27",
         "28",
         "32",
         "M",
         "writer",
         "55369"
        ],
        [
         "28",
         "29",
         "41",
         "M",
         "programmer",
         "94043"
        ],
        [
         "29",
         "30",
         "7",
         "M",
         "student",
         "55436"
        ],
        [
         "30",
         "31",
         "24",
         "M",
         "artist",
         "10003"
        ],
        [
         "31",
         "32",
         "28",
         "F",
         "student",
         "78741"
        ],
        [
         "32",
         "33",
         "23",
         "M",
         "student",
         "27510"
        ],
        [
         "33",
         "34",
         "38",
         "F",
         "administrator",
         "42141"
        ],
        [
         "34",
         "35",
         "20",
         "F",
         "homemaker",
         "42459"
        ],
        [
         "35",
         "36",
         "19",
         "F",
         "student",
         "93117"
        ],
        [
         "36",
         "37",
         "23",
         "M",
         "student",
         "55105"
        ],
        [
         "37",
         "38",
         "28",
         "F",
         "other",
         "54467"
        ],
        [
         "38",
         "39",
         "41",
         "M",
         "entertainment",
         "01040"
        ],
        [
         "39",
         "40",
         "38",
         "M",
         "scientist",
         "27514"
        ],
        [
         "40",
         "41",
         "33",
         "M",
         "engineer",
         "80525"
        ],
        [
         "41",
         "42",
         "30",
         "M",
         "administrator",
         "17870"
        ],
        [
         "42",
         "43",
         "29",
         "F",
         "librarian",
         "20854"
        ],
        [
         "43",
         "44",
         "26",
         "M",
         "technician",
         "46260"
        ],
        [
         "44",
         "45",
         "29",
         "M",
         "programmer",
         "50233"
        ],
        [
         "45",
         "46",
         "27",
         "F",
         "marketing",
         "46538"
        ],
        [
         "46",
         "47",
         "53",
         "M",
         "marketing",
         "07102"
        ],
        [
         "47",
         "48",
         "45",
         "M",
         "administrator",
         "12550"
        ],
        [
         "48",
         "49",
         "23",
         "F",
         "student",
         "76111"
        ],
        [
         "49",
         "50",
         "21",
         "M",
         "writer",
         "52245"
        ]
       ],
       "shape": {
        "columns": 5,
        "rows": 943
       }
      },
      "text/html": [
       "<div>\n",
       "<style scoped>\n",
       "    .dataframe tbody tr th:only-of-type {\n",
       "        vertical-align: middle;\n",
       "    }\n",
       "\n",
       "    .dataframe tbody tr th {\n",
       "        vertical-align: top;\n",
       "    }\n",
       "\n",
       "    .dataframe thead th {\n",
       "        text-align: right;\n",
       "    }\n",
       "</style>\n",
       "<table border=\"1\" class=\"dataframe\">\n",
       "  <thead>\n",
       "    <tr style=\"text-align: right;\">\n",
       "      <th></th>\n",
       "      <th>user_id</th>\n",
       "      <th>age</th>\n",
       "      <th>gender</th>\n",
       "      <th>occupation</th>\n",
       "      <th>zip_code</th>\n",
       "    </tr>\n",
       "  </thead>\n",
       "  <tbody>\n",
       "    <tr>\n",
       "      <th>0</th>\n",
       "      <td>1</td>\n",
       "      <td>24</td>\n",
       "      <td>M</td>\n",
       "      <td>technician</td>\n",
       "      <td>85711</td>\n",
       "    </tr>\n",
       "    <tr>\n",
       "      <th>1</th>\n",
       "      <td>2</td>\n",
       "      <td>53</td>\n",
       "      <td>F</td>\n",
       "      <td>other</td>\n",
       "      <td>94043</td>\n",
       "    </tr>\n",
       "    <tr>\n",
       "      <th>2</th>\n",
       "      <td>3</td>\n",
       "      <td>23</td>\n",
       "      <td>M</td>\n",
       "      <td>writer</td>\n",
       "      <td>32067</td>\n",
       "    </tr>\n",
       "    <tr>\n",
       "      <th>3</th>\n",
       "      <td>4</td>\n",
       "      <td>24</td>\n",
       "      <td>M</td>\n",
       "      <td>technician</td>\n",
       "      <td>43537</td>\n",
       "    </tr>\n",
       "    <tr>\n",
       "      <th>4</th>\n",
       "      <td>5</td>\n",
       "      <td>33</td>\n",
       "      <td>F</td>\n",
       "      <td>other</td>\n",
       "      <td>15213</td>\n",
       "    </tr>\n",
       "    <tr>\n",
       "      <th>...</th>\n",
       "      <td>...</td>\n",
       "      <td>...</td>\n",
       "      <td>...</td>\n",
       "      <td>...</td>\n",
       "      <td>...</td>\n",
       "    </tr>\n",
       "    <tr>\n",
       "      <th>938</th>\n",
       "      <td>939</td>\n",
       "      <td>26</td>\n",
       "      <td>F</td>\n",
       "      <td>student</td>\n",
       "      <td>33319</td>\n",
       "    </tr>\n",
       "    <tr>\n",
       "      <th>939</th>\n",
       "      <td>940</td>\n",
       "      <td>32</td>\n",
       "      <td>M</td>\n",
       "      <td>administrator</td>\n",
       "      <td>02215</td>\n",
       "    </tr>\n",
       "    <tr>\n",
       "      <th>940</th>\n",
       "      <td>941</td>\n",
       "      <td>20</td>\n",
       "      <td>M</td>\n",
       "      <td>student</td>\n",
       "      <td>97229</td>\n",
       "    </tr>\n",
       "    <tr>\n",
       "      <th>941</th>\n",
       "      <td>942</td>\n",
       "      <td>48</td>\n",
       "      <td>F</td>\n",
       "      <td>librarian</td>\n",
       "      <td>78209</td>\n",
       "    </tr>\n",
       "    <tr>\n",
       "      <th>942</th>\n",
       "      <td>943</td>\n",
       "      <td>22</td>\n",
       "      <td>M</td>\n",
       "      <td>student</td>\n",
       "      <td>77841</td>\n",
       "    </tr>\n",
       "  </tbody>\n",
       "</table>\n",
       "<p>943 rows × 5 columns</p>\n",
       "</div>"
      ],
      "text/plain": [
       "     user_id  age gender     occupation zip_code\n",
       "0          1   24      M     technician    85711\n",
       "1          2   53      F          other    94043\n",
       "2          3   23      M         writer    32067\n",
       "3          4   24      M     technician    43537\n",
       "4          5   33      F          other    15213\n",
       "..       ...  ...    ...            ...      ...\n",
       "938      939   26      F        student    33319\n",
       "939      940   32      M  administrator    02215\n",
       "940      941   20      M        student    97229\n",
       "941      942   48      F      librarian    78209\n",
       "942      943   22      M        student    77841\n",
       "\n",
       "[943 rows x 5 columns]"
      ]
     },
     "execution_count": 2,
     "metadata": {},
     "output_type": "execute_result"
    }
   ],
   "source": [
    "users = pd.read_csv(\"https://raw.githubusercontent.com/justmarkham/DAT8/master/data/u.user\", sep=\"|\")\n",
    "users"
   ]
  },
  {
   "cell_type": "code",
   "execution_count": 4,
   "metadata": {},
   "outputs": [
    {
     "name": "stdout",
     "output_type": "stream",
     "text": [
      "     user_id  age gender     occupation zip_code\n",
      "0          1   24      M     technician    85711\n",
      "1          2   53      F          other    94043\n",
      "2          3   23      M         writer    32067\n",
      "3          4   24      M     technician    43537\n",
      "4          5   33      F          other    15213\n",
      "..       ...  ...    ...            ...      ...\n",
      "938      939   26      F        student    33319\n",
      "939      940   32      M  administrator    02215\n",
      "940      941   20      M        student    97229\n",
      "941      942   48      F      librarian    78209\n",
      "942      943   22      M        student    77841\n",
      "\n",
      "[943 rows x 5 columns]\n"
     ]
    }
   ],
   "source": [
    "print(users)"
   ]
  },
  {
   "cell_type": "markdown",
   "metadata": {},
   "source": [
    "### 3. Muestra las 25 primeros registros\n"
   ]
  },
  {
   "cell_type": "code",
   "execution_count": 3,
   "metadata": {},
   "outputs": [
    {
     "name": "stdout",
     "output_type": "stream",
     "text": [
      "    user_id  age gender     occupation zip_code\n",
      "0         1   24      M     technician    85711\n",
      "1         2   53      F          other    94043\n",
      "2         3   23      M         writer    32067\n",
      "3         4   24      M     technician    43537\n",
      "4         5   33      F          other    15213\n",
      "5         6   42      M      executive    98101\n",
      "6         7   57      M  administrator    91344\n",
      "7         8   36      M  administrator    05201\n",
      "8         9   29      M        student    01002\n",
      "9        10   53      M         lawyer    90703\n",
      "10       11   39      F          other    30329\n",
      "11       12   28      F          other    06405\n",
      "12       13   47      M       educator    29206\n",
      "13       14   45      M      scientist    55106\n",
      "14       15   49      F       educator    97301\n",
      "15       16   21      M  entertainment    10309\n",
      "16       17   30      M     programmer    06355\n",
      "17       18   35      F          other    37212\n",
      "18       19   40      M      librarian    02138\n",
      "19       20   42      F      homemaker    95660\n",
      "20       21   26      M         writer    30068\n",
      "21       22   25      M         writer    40206\n",
      "22       23   30      F         artist    48197\n",
      "23       24   21      F         artist    94533\n",
      "24       25   39      M       engineer    55107\n"
     ]
    }
   ],
   "source": [
    "print(users.head(25))"
   ]
  },
  {
   "cell_type": "markdown",
   "metadata": {},
   "source": [
    "### 4. Muestra las 25 primeros registros de otra forma"
   ]
  },
  {
   "cell_type": "code",
   "execution_count": 7,
   "metadata": {},
   "outputs": [
    {
     "name": "stdout",
     "output_type": "stream",
     "text": [
      "    user_id  age gender     occupation zip_code\n",
      "0         1   24      M     technician    85711\n",
      "1         2   53      F          other    94043\n",
      "2         3   23      M         writer    32067\n",
      "3         4   24      M     technician    43537\n",
      "4         5   33      F          other    15213\n",
      "5         6   42      M      executive    98101\n",
      "6         7   57      M  administrator    91344\n",
      "7         8   36      M  administrator    05201\n",
      "8         9   29      M        student    01002\n",
      "9        10   53      M         lawyer    90703\n",
      "10       11   39      F          other    30329\n",
      "11       12   28      F          other    06405\n",
      "12       13   47      M       educator    29206\n",
      "13       14   45      M      scientist    55106\n",
      "14       15   49      F       educator    97301\n",
      "15       16   21      M  entertainment    10309\n",
      "16       17   30      M     programmer    06355\n",
      "17       18   35      F          other    37212\n",
      "18       19   40      M      librarian    02138\n",
      "19       20   42      F      homemaker    95660\n",
      "20       21   26      M         writer    30068\n",
      "21       22   25      M         writer    40206\n",
      "22       23   30      F         artist    48197\n",
      "23       24   21      F         artist    94533\n",
      "24       25   39      M       engineer    55107\n"
     ]
    }
   ],
   "source": [
    "# Para eso usamos slicing\n",
    "print(users[:25])"
   ]
  },
  {
   "cell_type": "markdown",
   "metadata": {},
   "source": [
    "### 5. Muestra los últimos 25 registros"
   ]
  },
  {
   "cell_type": "code",
   "execution_count": null,
   "metadata": {},
   "outputs": [
    {
     "name": "stdout",
     "output_type": "stream",
     "text": [
      "     user_id  age gender     occupation zip_code\n",
      "918      919   25      M          other    14216\n",
      "919      920   30      F         artist    90008\n",
      "920      921   20      F        student    98801\n",
      "921      922   29      F  administrator    21114\n",
      "922      923   21      M        student    E2E3R\n",
      "923      924   29      M          other    11753\n",
      "924      925   18      F       salesman    49036\n",
      "925      926   49      M  entertainment    01701\n",
      "926      927   23      M     programmer    55428\n",
      "927      928   21      M        student    55408\n",
      "928      929   44      M      scientist    53711\n",
      "929      930   28      F      scientist    07310\n",
      "930      931   60      M       educator    33556\n",
      "931      932   58      M       educator    06437\n",
      "932      933   28      M        student    48105\n",
      "933      934   61      M       engineer    22902\n",
      "934      935   42      M         doctor    66221\n",
      "935      936   24      M          other    32789\n",
      "936      937   48      M       educator    98072\n",
      "937      938   38      F     technician    55038\n",
      "938      939   26      F        student    33319\n",
      "939      940   32      M  administrator    02215\n",
      "940      941   20      M        student    97229\n",
      "941      942   48      F      librarian    78209\n",
      "942      943   22      M        student    77841\n"
     ]
    }
   ],
   "source": [
    "# para eso usamos tail\n",
    "print(users.tail(25))"
   ]
  },
  {
   "cell_type": "markdown",
   "metadata": {},
   "source": [
    "### 6. Cuántos registros hay en total en este dataset?\n",
    "Resuélvelo de al menos dos formas diferentes"
   ]
  },
  {
   "cell_type": "code",
   "execution_count": null,
   "metadata": {},
   "outputs": [
    {
     "name": "stdout",
     "output_type": "stream",
     "text": [
      "943\n"
     ]
    }
   ],
   "source": [
    "# Registros totales del dataset\n",
    "# Obtener el número total de registros (filas)\n",
    "# Usamos el método shape\n",
    "total_registros = users.shape[0]\n",
    "\n",
    "# Mostrar el total de registros\n",
    "print(total_registros)\n",
    "\n",
    "# users.shape: Devuelve una tupla (n_filas, n_columnas).\n",
    "#users.shape[0]: Accede al primer valor de la tupla, que es el número de filas (es decir, el total de registros).\n"
   ]
  },
  {
   "cell_type": "code",
   "execution_count": null,
   "metadata": {},
   "outputs": [
    {
     "name": "stdout",
     "output_type": "stream",
     "text": [
      "943\n"
     ]
    }
   ],
   "source": [
    "# Usando len\n",
    "# Obtener el número total de registros usando len()\n",
    "total_registros = len(users)\n",
    "\n",
    "# Mostrar el total de registros\n",
    "print(total_registros)\n",
    "\n",
    "# len(users): Devuelve el número de filas en el DataFrame, que es equivalente a contar el total de registros."
   ]
  },
  {
   "cell_type": "markdown",
   "metadata": {},
   "source": [
    "### 7. Cuántas columnas hay en total en este dataset?\n",
    "Resuélvelo de al menos dos formas diferentes"
   ]
  },
  {
   "cell_type": "code",
   "execution_count": 11,
   "metadata": {},
   "outputs": [
    {
     "name": "stdout",
     "output_type": "stream",
     "text": [
      "Index(['user_id', 'age', 'gender', 'occupation', 'zip_code'], dtype='object')\n"
     ]
    }
   ],
   "source": [
    "# Usando columns\n",
    "\n",
    "# Obtener los nombres de las columnas\n",
    "columnas = users.columns\n",
    "\n",
    "# Mostrar los nombres de las columnas\n",
    "print(columnas)\n"
   ]
  },
  {
   "cell_type": "code",
   "execution_count": 13,
   "metadata": {},
   "outputs": [
    {
     "name": "stdout",
     "output_type": "stream",
     "text": [
      "['user_id', 'age', 'gender', 'occupation', 'zip_code']\n"
     ]
    }
   ],
   "source": [
    "# Hacemos una lista\n",
    "# Convertir los nombres de las columnas a una lista\n",
    "columnas_lista = list(users.columns)\n",
    "\n",
    "# Mostrar la lista de columnas\n",
    "print(columnas_lista)\n"
   ]
  },
  {
   "cell_type": "markdown",
   "metadata": {},
   "source": [
    "### 8. Haz un print de cada uno de los nombres de las columnas"
   ]
  },
  {
   "cell_type": "code",
   "execution_count": null,
   "metadata": {},
   "outputs": [
    {
     "name": "stdout",
     "output_type": "stream",
     "text": [
      "user_id\n",
      "age\n",
      "gender\n",
      "occupation\n",
      "zip_code\n"
     ]
    }
   ],
   "source": [
    "# Se puede hacer con un for \n",
    "# Recorrer y imprimir cada nombre de las columnas\n",
    "for columna in users.columns:\n",
    "    print(columna)\n"
   ]
  },
  {
   "cell_type": "markdown",
   "metadata": {},
   "source": [
    "### 9. Accede al índice, a los nombres de las columnas y a los valores por separado"
   ]
  },
  {
   "cell_type": "code",
   "execution_count": null,
   "metadata": {},
   "outputs": [
    {
     "name": "stdout",
     "output_type": "stream",
     "text": [
      "RangeIndex(start=0, stop=943, step=1)\n"
     ]
    }
   ],
   "source": [
    "# Acceder al índice del DataFrame\n",
    "indice = users.index # devuelve un objeto Index que contiene las etiquetas de las filas del dataset\n",
    "\n",
    "# Mostrar el índice\n",
    "print(indice)\n"
   ]
  },
  {
   "cell_type": "code",
   "execution_count": null,
   "metadata": {},
   "outputs": [
    {
     "name": "stdout",
     "output_type": "stream",
     "text": [
      "Index(['user_id', 'age', 'gender', 'occupation', 'zip_code'], dtype='object')\n"
     ]
    }
   ],
   "source": [
    "\n",
    "# Acceder a los nombres de las columnas\n",
    "columnas = users.columns\n",
    "\n",
    "# Mostrar los nombres de las columnas\n",
    "print(columnas)\n"
   ]
  },
  {
   "cell_type": "code",
   "execution_count": null,
   "metadata": {},
   "outputs": [
    {
     "name": "stdout",
     "output_type": "stream",
     "text": [
      "[[1 24 'M' 'technician' '85711']\n",
      " [2 53 'F' 'other' '94043']\n",
      " [3 23 'M' 'writer' '32067']\n",
      " ...\n",
      " [941 20 'M' 'student' '97229']\n",
      " [942 48 'F' 'librarian' '78209']\n",
      " [943 22 'M' 'student' '77841']]\n"
     ]
    }
   ],
   "source": [
    "# Con values, accedemos a los valores\n",
    "valores = users.values\n",
    "print(valores)"
   ]
  },
  {
   "cell_type": "markdown",
   "metadata": {},
   "source": [
    "### 10. Cuál es el tipo de cada columna del dataset?\n",
    "Hazlo de dos formas diferentes"
   ]
  },
  {
   "cell_type": "code",
   "execution_count": 21,
   "metadata": {},
   "outputs": [
    {
     "name": "stdout",
     "output_type": "stream",
     "text": [
      "user_id        int64\n",
      "age            int64\n",
      "gender        object\n",
      "occupation    object\n",
      "zip_code      object\n",
      "dtype: object\n"
     ]
    }
   ],
   "source": [
    "# Se puede saber el tipo con dtypes\n",
    "print(users.dtypes)"
   ]
  },
  {
   "cell_type": "code",
   "execution_count": 22,
   "metadata": {},
   "outputs": [
    {
     "data": {
      "text/plain": [
       "<bound method DataFrame.info of      user_id  age gender     occupation zip_code\n",
       "0          1   24      M     technician    85711\n",
       "1          2   53      F          other    94043\n",
       "2          3   23      M         writer    32067\n",
       "3          4   24      M     technician    43537\n",
       "4          5   33      F          other    15213\n",
       "..       ...  ...    ...            ...      ...\n",
       "938      939   26      F        student    33319\n",
       "939      940   32      M  administrator    02215\n",
       "940      941   20      M        student    97229\n",
       "941      942   48      F      librarian    78209\n",
       "942      943   22      M        student    77841\n",
       "\n",
       "[943 rows x 5 columns]>"
      ]
     },
     "execution_count": 22,
     "metadata": {},
     "output_type": "execute_result"
    }
   ],
   "source": [
    "# La otra forma de saber el tipo es con info\n",
    "\n",
    "users.info"
   ]
  },
  {
   "cell_type": "markdown",
   "metadata": {},
   "source": [
    "### 11. Haz un print solo de la columna de occupation\n",
    "Hazlo de dos formas diferentes"
   ]
  },
  {
   "cell_type": "code",
   "execution_count": null,
   "metadata": {},
   "outputs": [
    {
     "name": "stdout",
     "output_type": "stream",
     "text": [
      "0         technician\n",
      "1              other\n",
      "2             writer\n",
      "3         technician\n",
      "4              other\n",
      "           ...      \n",
      "938          student\n",
      "939    administrator\n",
      "940          student\n",
      "941        librarian\n",
      "942          student\n",
      "Name: occupation, Length: 943, dtype: object\n"
     ]
    }
   ],
   "source": [
    "# primera forma, accediendo directamente a la columna [\"occupation\"]\n",
    "print(users[\"occupation\"])"
   ]
  },
  {
   "cell_type": "code",
   "execution_count": 25,
   "metadata": {},
   "outputs": [
    {
     "name": "stdout",
     "output_type": "stream",
     "text": [
      "0         technician\n",
      "1              other\n",
      "2             writer\n",
      "3         technician\n",
      "4              other\n",
      "           ...      \n",
      "938          student\n",
      "939    administrator\n",
      "940          student\n",
      "941        librarian\n",
      "942          student\n",
      "Name: occupation, Length: 943, dtype: object\n"
     ]
    }
   ],
   "source": [
    "# La otra forma, usando la notación del punto. (No funciona si el nombre de la columna tiene espacios o caracteres especiales.)\n",
    "\n",
    "print(users.occupation)\n"
   ]
  },
  {
   "cell_type": "markdown",
   "metadata": {},
   "source": [
    "### 12. ¿Cuántas profesiones diferentes hay? ¿Y personas por profesión?"
   ]
  },
  {
   "cell_type": "code",
   "execution_count": null,
   "metadata": {},
   "outputs": [
    {
     "name": "stdout",
     "output_type": "stream",
     "text": [
      "Hay 21 profesiones diferentes.\n"
     ]
    }
   ],
   "source": [
    "# Para contar las profesiones, voy a usar el método nunique, que cuenta los valores únicos en la columna\n",
    "\n",
    "# Contar el número de profesiones diferentes\n",
    "num_profesiones = users[\"occupation\"].nunique()\n",
    "print(f\"Hay {num_profesiones} profesiones diferentes.\")\n"
   ]
  },
  {
   "cell_type": "code",
   "execution_count": 27,
   "metadata": {},
   "outputs": [
    {
     "name": "stdout",
     "output_type": "stream",
     "text": [
      "occupation\n",
      "student          196\n",
      "other            105\n",
      "educator          95\n",
      "administrator     79\n",
      "engineer          67\n",
      "programmer        66\n",
      "librarian         51\n",
      "writer            45\n",
      "executive         32\n",
      "scientist         31\n",
      "artist            28\n",
      "technician        27\n",
      "marketing         26\n",
      "entertainment     18\n",
      "healthcare        16\n",
      "retired           14\n",
      "lawyer            12\n",
      "salesman          12\n",
      "none               9\n",
      "homemaker          7\n",
      "doctor             7\n",
      "Name: count, dtype: int64\n"
     ]
    }
   ],
   "source": [
    "# Para contar las personas por profesión, usaremos value_counts,que devuelve una serie con cada profesión y el número de veces que aparece en el dataset.\n",
    "\n",
    "personas_por_profesion = users[\"occupation\"].value_counts()\n",
    "print(personas_por_profesion)\n"
   ]
  },
  {
   "cell_type": "markdown",
   "metadata": {},
   "source": [
    "### 13. ¿Cuál es la profesión más común?"
   ]
  },
  {
   "cell_type": "code",
   "execution_count": 28,
   "metadata": {},
   "outputs": [
    {
     "name": "stdout",
     "output_type": "stream",
     "text": [
      "La profesión más común es: student\n"
     ]
    }
   ],
   "source": [
    "# Para obtener la profesión más común, usamos :\n",
    "# users[\"occupation\"].value_counts() = cuenta cuántas veces aparece cada profesión.\n",
    "#.idxmax()= devuelve el nombre de la profesión con mayor frecuencia.\n",
    "profesion_mas_comun = users[\"occupation\"].value_counts().idxmax()\n",
    "print(f\"La profesión más común es: {profesion_mas_comun}\")\n"
   ]
  },
  {
   "attachments": {},
   "cell_type": "markdown",
   "metadata": {},
   "source": [
    "### 14. Obtén un resumen de las principales medidas estadísticas de las variables numéricas.  Usa describe()"
   ]
  },
  {
   "cell_type": "code",
   "execution_count": 30,
   "metadata": {},
   "outputs": [
    {
     "name": "stdout",
     "output_type": "stream",
     "text": [
      "          user_id         age\n",
      "count  943.000000  943.000000\n",
      "mean   472.000000   34.051962\n",
      "std    272.364951   12.192740\n",
      "min      1.000000    7.000000\n",
      "25%    236.500000   25.000000\n",
      "50%    472.000000   31.000000\n",
      "75%    707.500000   43.000000\n",
      "max    943.000000   73.000000\n"
     ]
    }
   ],
   "source": [
    "# Resumen estadístico de las variables numéricas:\n",
    "# .describe() calcula estadísticas solo para las columnas numéricas (int64, float64).\n",
    "# Devuelve métricas como media, desviación estándar, mínimo, percentiles y máximo.\n",
    "\n",
    "resumen_estadistico = users.describe()\n",
    "print(resumen_estadistico)\n"
   ]
  },
  {
   "attachments": {},
   "cell_type": "markdown",
   "metadata": {},
   "source": [
    "### 15. Obtén un resumen de las principales medidas estadísticas de todas las variables.  Usa describe()"
   ]
  },
  {
   "cell_type": "code",
   "execution_count": null,
   "metadata": {},
   "outputs": [
    {
     "name": "stdout",
     "output_type": "stream",
     "text": [
      "           user_id         age gender occupation zip_code\n",
      "count   943.000000  943.000000    943        943      943\n",
      "unique         NaN         NaN      2         21      795\n",
      "top            NaN         NaN      M    student    55414\n",
      "freq           NaN         NaN    670        196        9\n",
      "mean    472.000000   34.051962    NaN        NaN      NaN\n",
      "std     272.364951   12.192740    NaN        NaN      NaN\n",
      "min       1.000000    7.000000    NaN        NaN      NaN\n",
      "25%     236.500000   25.000000    NaN        NaN      NaN\n",
      "50%     472.000000   31.000000    NaN        NaN      NaN\n",
      "75%     707.500000   43.000000    NaN        NaN      NaN\n",
      "max     943.000000   73.000000    NaN        NaN      NaN\n"
     ]
    }
   ],
   "source": [
    "# Resumen estadístico de todas las variables (numéricas y categóricas)\n",
    "# include=\"all\" → Hace que .describe() muestre estadísticas tanto para variables numéricas como categóricas.\n",
    "# Si hay columnas con datos de tipo object (texto), mostrará métricas específicas para ellas.\n",
    "resumen_completo = users.describe(include=\"all\")\n",
    "print(resumen_completo)\n"
   ]
  },
  {
   "cell_type": "markdown",
   "metadata": {},
   "source": [
    "### 16. Obtén un resumen de las principales medidas estadísticas de solo la columna occupation.  Usa describe()"
   ]
  },
  {
   "cell_type": "code",
   "execution_count": null,
   "metadata": {},
   "outputs": [
    {
     "name": "stdout",
     "output_type": "stream",
     "text": [
      "count         943\n",
      "unique         21\n",
      "top       student\n",
      "freq          196\n",
      "Name: occupation, dtype: object\n"
     ]
    }
   ],
   "source": [
    "# Resumen estadístico solo para la columna \"occupation\"\n",
    "# users[\"occupation\"].describe() devuelve estadísticas solo de esa columna.\n",
    "resumen_occupation = users[\"occupation\"].describe()\n",
    "print(resumen_occupation)\n"
   ]
  },
  {
   "cell_type": "markdown",
   "metadata": {},
   "source": [
    "### 17. ¿Cuál es la edad media?"
   ]
  },
  {
   "cell_type": "code",
   "execution_count": 38,
   "metadata": {},
   "outputs": [
    {
     "name": "stdout",
     "output_type": "stream",
     "text": [
      "La edad media es: 34.05\n"
     ]
    }
   ],
   "source": [
    "# Calcular la edad media, usaremos mean, para que calcule la media aritmética de la columna \"age\"\n",
    "edad_media = users[\"age\"].mean()\n",
    "print(f\"La edad media es: {edad_media:.2f}\")\n"
   ]
  },
  {
   "cell_type": "markdown",
   "metadata": {},
   "source": [
    "### 18. ¿Cuál es la edad menos frecuente?"
   ]
  },
  {
   "cell_type": "code",
   "execution_count": 40,
   "metadata": {},
   "outputs": [
    {
     "name": "stdout",
     "output_type": "stream",
     "text": [
      "La edad menos frecuente es: 7\n"
     ]
    }
   ],
   "source": [
    "# Obtener la edad menos frecuente\n",
    "# Con value_counst, cuenta cuántas veces aparece cada valor único en la columna\n",
    "# Y con idxmin, devolvemos el valor que tiene la menor cantidad de ocurrencias en el conteo\n",
    "edad_menos_frecuente = users[\"age\"].value_counts().idxmin() \n",
    "print(f\"La edad menos frecuente es: {edad_menos_frecuente}\")\n"
   ]
  }
 ],
 "metadata": {
  "anaconda-cloud": {},
  "kernelspec": {
   "display_name": "Python 3",
   "language": "python",
   "name": "python3"
  },
  "language_info": {
   "codemirror_mode": {
    "name": "ipython",
    "version": 3
   },
   "file_extension": ".py",
   "mimetype": "text/x-python",
   "name": "python",
   "nbconvert_exporter": "python",
   "pygments_lexer": "ipython3",
   "version": "3.11.9"
  }
 },
 "nbformat": 4,
 "nbformat_minor": 4
}
