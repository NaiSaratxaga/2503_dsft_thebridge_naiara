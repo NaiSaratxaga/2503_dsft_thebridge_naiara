{
 "cells": [
  {
   "cell_type": "code",
   "execution_count": 1,
   "metadata": {},
   "outputs": [],
   "source": [
    "import pandas as pd\n",
    "import sqlite3\n",
    "import os"
   ]
  },
  {
   "cell_type": "code",
   "execution_count": 2,
   "metadata": {},
   "outputs": [
    {
     "data": {
      "text/plain": [
       "'c:\\\\Users\\\\nsara\\\\Desktop\\\\naiara_thebridge\\\\2503_dsft_thebridge_naiara\\\\2-Data_Analysis\\\\8-BBDD\\\\SQL\\\\Practica\\\\1-Chinook'"
      ]
     },
     "execution_count": 2,
     "metadata": {},
     "output_type": "execute_result"
    }
   ],
   "source": [
    "os.getcwd()"
   ]
  },
  {
   "cell_type": "code",
   "execution_count": 3,
   "metadata": {},
   "outputs": [],
   "source": [
    "# Conectamos con la base de datos chinook.db\n",
    "connection = sqlite3.connect(r\"data/chinook.db\")\n",
    "\n",
    "# Obtenemos un cursor que utilizaremos para hacer las queries\n",
    "crsr = connection.cursor()"
   ]
  },
  {
   "cell_type": "code",
   "execution_count": 4,
   "metadata": {},
   "outputs": [],
   "source": [
    "# Con esta función leemos los datos y lo pasamos a un DataFrame de Pandas\n",
    "def sql_query(query):\n",
    "\n",
    "    # Ejecuta la query\n",
    "    crsr.execute(query)\n",
    "\n",
    "    # Almacena los datos de la query \n",
    "    ans = crsr.fetchall()\n",
    "\n",
    "    # Obtenemos los nombres de las columnas de la tabla\n",
    "    names = [description[0] for description in crsr.description]\n",
    "\n",
    "    return pd.DataFrame(ans,columns=names)"
   ]
  },
  {
   "cell_type": "code",
   "execution_count": null,
   "metadata": {},
   "outputs": [
    {
     "data": {
      "application/vnd.microsoft.datawrangler.viewer.v0+json": {
       "columns": [
        {
         "name": "index",
         "rawType": "int64",
         "type": "integer"
        },
        {
         "name": "CustomerId",
         "rawType": "int64",
         "type": "integer"
        },
        {
         "name": "FirstName",
         "rawType": "object",
         "type": "string"
        },
        {
         "name": "LastName",
         "rawType": "object",
         "type": "string"
        },
        {
         "name": "Company",
         "rawType": "object",
         "type": "unknown"
        },
        {
         "name": "Address",
         "rawType": "object",
         "type": "string"
        },
        {
         "name": "City",
         "rawType": "object",
         "type": "string"
        },
        {
         "name": "State",
         "rawType": "object",
         "type": "string"
        },
        {
         "name": "Country",
         "rawType": "object",
         "type": "string"
        },
        {
         "name": "PostalCode",
         "rawType": "object",
         "type": "string"
        },
        {
         "name": "Phone",
         "rawType": "object",
         "type": "string"
        },
        {
         "name": "Fax",
         "rawType": "object",
         "type": "string"
        },
        {
         "name": "Email",
         "rawType": "object",
         "type": "string"
        },
        {
         "name": "SupportRepId",
         "rawType": "int64",
         "type": "integer"
        }
       ],
       "conversionMethod": "pd.DataFrame",
       "ref": "69c1008f-d2b2-4dea-bfed-6d08cd2b5201",
       "rows": [
        [
         "0",
         "1",
         "Luís",
         "Gonçalves",
         "Embraer - Empresa Brasileira de Aeronáutica S.A.",
         "Av. Brigadeiro Faria Lima, 2170",
         "São José dos Campos",
         "SP",
         "Brazil",
         "12227-000",
         "+55 (12) 3923-5555",
         "+55 (12) 3923-5566",
         "luisg@embraer.com.br",
         "3"
        ],
        [
         "1",
         "10",
         "Eduardo",
         "Martins",
         "Woodstock Discos",
         "Rua Dr. Falcão Filho, 155",
         "São Paulo",
         "SP",
         "Brazil",
         "01007-010",
         "+55 (11) 3033-5446",
         "+55 (11) 3033-4564",
         "eduardo@woodstock.com.br",
         "4"
        ],
        [
         "2",
         "11",
         "Alexandre",
         "Rocha",
         "Banco do Brasil S.A.",
         "Av. Paulista, 2022",
         "São Paulo",
         "SP",
         "Brazil",
         "01310-200",
         "+55 (11) 3055-3278",
         "+55 (11) 3055-8131",
         "alero@uol.com.br",
         "5"
        ],
        [
         "3",
         "12",
         "Roberto",
         "Almeida",
         "Riotur",
         "Praça Pio X, 119",
         "Rio de Janeiro",
         "RJ",
         "Brazil",
         "20040-020",
         "+55 (21) 2271-7000",
         "+55 (21) 2271-7070",
         "roberto.almeida@riotur.gov.br",
         "3"
        ],
        [
         "4",
         "13",
         "Fernanda",
         "Ramos",
         null,
         "Qe 7 Bloco G",
         "Brasília",
         "DF",
         "Brazil",
         "71020-677",
         "+55 (61) 3363-5547",
         "+55 (61) 3363-7855",
         "fernadaramos4@uol.com.br",
         "4"
        ]
       ],
       "shape": {
        "columns": 13,
        "rows": 5
       }
      },
      "text/html": [
       "<div>\n",
       "<style scoped>\n",
       "    .dataframe tbody tr th:only-of-type {\n",
       "        vertical-align: middle;\n",
       "    }\n",
       "\n",
       "    .dataframe tbody tr th {\n",
       "        vertical-align: top;\n",
       "    }\n",
       "\n",
       "    .dataframe thead th {\n",
       "        text-align: right;\n",
       "    }\n",
       "</style>\n",
       "<table border=\"1\" class=\"dataframe\">\n",
       "  <thead>\n",
       "    <tr style=\"text-align: right;\">\n",
       "      <th></th>\n",
       "      <th>CustomerId</th>\n",
       "      <th>FirstName</th>\n",
       "      <th>LastName</th>\n",
       "      <th>Company</th>\n",
       "      <th>Address</th>\n",
       "      <th>City</th>\n",
       "      <th>State</th>\n",
       "      <th>Country</th>\n",
       "      <th>PostalCode</th>\n",
       "      <th>Phone</th>\n",
       "      <th>Fax</th>\n",
       "      <th>Email</th>\n",
       "      <th>SupportRepId</th>\n",
       "    </tr>\n",
       "  </thead>\n",
       "  <tbody>\n",
       "    <tr>\n",
       "      <th>0</th>\n",
       "      <td>1</td>\n",
       "      <td>Luís</td>\n",
       "      <td>Gonçalves</td>\n",
       "      <td>Embraer - Empresa Brasileira de Aeronáutica S.A.</td>\n",
       "      <td>Av. Brigadeiro Faria Lima, 2170</td>\n",
       "      <td>São José dos Campos</td>\n",
       "      <td>SP</td>\n",
       "      <td>Brazil</td>\n",
       "      <td>12227-000</td>\n",
       "      <td>+55 (12) 3923-5555</td>\n",
       "      <td>+55 (12) 3923-5566</td>\n",
       "      <td>luisg@embraer.com.br</td>\n",
       "      <td>3</td>\n",
       "    </tr>\n",
       "    <tr>\n",
       "      <th>1</th>\n",
       "      <td>10</td>\n",
       "      <td>Eduardo</td>\n",
       "      <td>Martins</td>\n",
       "      <td>Woodstock Discos</td>\n",
       "      <td>Rua Dr. Falcão Filho, 155</td>\n",
       "      <td>São Paulo</td>\n",
       "      <td>SP</td>\n",
       "      <td>Brazil</td>\n",
       "      <td>01007-010</td>\n",
       "      <td>+55 (11) 3033-5446</td>\n",
       "      <td>+55 (11) 3033-4564</td>\n",
       "      <td>eduardo@woodstock.com.br</td>\n",
       "      <td>4</td>\n",
       "    </tr>\n",
       "    <tr>\n",
       "      <th>2</th>\n",
       "      <td>11</td>\n",
       "      <td>Alexandre</td>\n",
       "      <td>Rocha</td>\n",
       "      <td>Banco do Brasil S.A.</td>\n",
       "      <td>Av. Paulista, 2022</td>\n",
       "      <td>São Paulo</td>\n",
       "      <td>SP</td>\n",
       "      <td>Brazil</td>\n",
       "      <td>01310-200</td>\n",
       "      <td>+55 (11) 3055-3278</td>\n",
       "      <td>+55 (11) 3055-8131</td>\n",
       "      <td>alero@uol.com.br</td>\n",
       "      <td>5</td>\n",
       "    </tr>\n",
       "    <tr>\n",
       "      <th>3</th>\n",
       "      <td>12</td>\n",
       "      <td>Roberto</td>\n",
       "      <td>Almeida</td>\n",
       "      <td>Riotur</td>\n",
       "      <td>Praça Pio X, 119</td>\n",
       "      <td>Rio de Janeiro</td>\n",
       "      <td>RJ</td>\n",
       "      <td>Brazil</td>\n",
       "      <td>20040-020</td>\n",
       "      <td>+55 (21) 2271-7000</td>\n",
       "      <td>+55 (21) 2271-7070</td>\n",
       "      <td>roberto.almeida@riotur.gov.br</td>\n",
       "      <td>3</td>\n",
       "    </tr>\n",
       "    <tr>\n",
       "      <th>4</th>\n",
       "      <td>13</td>\n",
       "      <td>Fernanda</td>\n",
       "      <td>Ramos</td>\n",
       "      <td>None</td>\n",
       "      <td>Qe 7 Bloco G</td>\n",
       "      <td>Brasília</td>\n",
       "      <td>DF</td>\n",
       "      <td>Brazil</td>\n",
       "      <td>71020-677</td>\n",
       "      <td>+55 (61) 3363-5547</td>\n",
       "      <td>+55 (61) 3363-7855</td>\n",
       "      <td>fernadaramos4@uol.com.br</td>\n",
       "      <td>4</td>\n",
       "    </tr>\n",
       "  </tbody>\n",
       "</table>\n",
       "</div>"
      ],
      "text/plain": [
       "   CustomerId  FirstName   LastName  \\\n",
       "0           1       Luís  Gonçalves   \n",
       "1          10    Eduardo    Martins   \n",
       "2          11  Alexandre      Rocha   \n",
       "3          12    Roberto    Almeida   \n",
       "4          13   Fernanda      Ramos   \n",
       "\n",
       "                                            Company  \\\n",
       "0  Embraer - Empresa Brasileira de Aeronáutica S.A.   \n",
       "1                                  Woodstock Discos   \n",
       "2                              Banco do Brasil S.A.   \n",
       "3                                            Riotur   \n",
       "4                                              None   \n",
       "\n",
       "                           Address                 City State Country  \\\n",
       "0  Av. Brigadeiro Faria Lima, 2170  São José dos Campos    SP  Brazil   \n",
       "1        Rua Dr. Falcão Filho, 155            São Paulo    SP  Brazil   \n",
       "2               Av. Paulista, 2022            São Paulo    SP  Brazil   \n",
       "3                 Praça Pio X, 119       Rio de Janeiro    RJ  Brazil   \n",
       "4                     Qe 7 Bloco G             Brasília    DF  Brazil   \n",
       "\n",
       "  PostalCode               Phone                 Fax  \\\n",
       "0  12227-000  +55 (12) 3923-5555  +55 (12) 3923-5566   \n",
       "1  01007-010  +55 (11) 3033-5446  +55 (11) 3033-4564   \n",
       "2  01310-200  +55 (11) 3055-3278  +55 (11) 3055-8131   \n",
       "3  20040-020  +55 (21) 2271-7000  +55 (21) 2271-7070   \n",
       "4  71020-677  +55 (61) 3363-5547  +55 (61) 3363-7855   \n",
       "\n",
       "                           Email  SupportRepId  \n",
       "0           luisg@embraer.com.br             3  \n",
       "1       eduardo@woodstock.com.br             4  \n",
       "2               alero@uol.com.br             5  \n",
       "3  roberto.almeida@riotur.gov.br             3  \n",
       "4       fernadaramos4@uol.com.br             4  "
      ]
     },
     "execution_count": 5,
     "metadata": {},
     "output_type": "execute_result"
    }
   ],
   "source": [
    "# 1 Obtén los clientes de brasil\n",
    "query = '''\n",
    "SELECT * FROM customers\n",
    "WHERE customers.Country = \"Brazil\";\n",
    "'''\n",
    "\n",
    "df = sql_query(query)\n",
    "df"
   ]
  },
  {
   "cell_type": "code",
   "execution_count": 33,
   "metadata": {},
   "outputs": [
    {
     "data": {
      "application/vnd.microsoft.datawrangler.viewer.v0+json": {
       "columns": [
        {
         "name": "index",
         "rawType": "int64",
         "type": "integer"
        },
        {
         "name": "EmployeeId",
         "rawType": "int64",
         "type": "integer"
        },
        {
         "name": "LastName",
         "rawType": "object",
         "type": "string"
        },
        {
         "name": "FirstName",
         "rawType": "object",
         "type": "string"
        },
        {
         "name": "Title",
         "rawType": "object",
         "type": "string"
        },
        {
         "name": "ReportsTo",
         "rawType": "int64",
         "type": "integer"
        },
        {
         "name": "BirthDate",
         "rawType": "object",
         "type": "string"
        },
        {
         "name": "HireDate",
         "rawType": "object",
         "type": "string"
        },
        {
         "name": "Address",
         "rawType": "object",
         "type": "string"
        },
        {
         "name": "City",
         "rawType": "object",
         "type": "string"
        },
        {
         "name": "State",
         "rawType": "object",
         "type": "string"
        },
        {
         "name": "Country",
         "rawType": "object",
         "type": "string"
        },
        {
         "name": "PostalCode",
         "rawType": "object",
         "type": "string"
        },
        {
         "name": "Phone",
         "rawType": "object",
         "type": "string"
        },
        {
         "name": "Fax",
         "rawType": "object",
         "type": "string"
        },
        {
         "name": "Email",
         "rawType": "object",
         "type": "string"
        }
       ],
       "conversionMethod": "pd.DataFrame",
       "ref": "b2faa03f-fd57-4d5e-b76e-e9a18acec85f",
       "rows": [
        [
         "0",
         "3",
         "Peacock",
         "Jane",
         "Sales Support Agent",
         "2",
         "1973-08-29 00:00:00",
         "2002-04-01 00:00:00",
         "1111 6 Ave SW",
         "Calgary",
         "AB",
         "Canada",
         "T2P 5M5",
         "+1 (403) 262-3443",
         "+1 (403) 262-6712",
         "jane@chinookcorp.com"
        ],
        [
         "1",
         "4",
         "Park",
         "Margaret",
         "Sales Support Agent",
         "2",
         "1947-09-19 00:00:00",
         "2003-05-03 00:00:00",
         "683 10 Street SW",
         "Calgary",
         "AB",
         "Canada",
         "T2P 5G3",
         "+1 (403) 263-4423",
         "+1 (403) 263-4289",
         "margaret@chinookcorp.com"
        ],
        [
         "2",
         "5",
         "Johnson",
         "Steve",
         "Sales Support Agent",
         "2",
         "1965-03-03 00:00:00",
         "2003-10-17 00:00:00",
         "7727B 41 Ave",
         "Calgary",
         "AB",
         "Canada",
         "T3B 1Y7",
         "1 (780) 836-9987",
         "1 (780) 836-9543",
         "steve@chinookcorp.com"
        ]
       ],
       "shape": {
        "columns": 15,
        "rows": 3
       }
      },
      "text/html": [
       "<div>\n",
       "<style scoped>\n",
       "    .dataframe tbody tr th:only-of-type {\n",
       "        vertical-align: middle;\n",
       "    }\n",
       "\n",
       "    .dataframe tbody tr th {\n",
       "        vertical-align: top;\n",
       "    }\n",
       "\n",
       "    .dataframe thead th {\n",
       "        text-align: right;\n",
       "    }\n",
       "</style>\n",
       "<table border=\"1\" class=\"dataframe\">\n",
       "  <thead>\n",
       "    <tr style=\"text-align: right;\">\n",
       "      <th></th>\n",
       "      <th>EmployeeId</th>\n",
       "      <th>LastName</th>\n",
       "      <th>FirstName</th>\n",
       "      <th>Title</th>\n",
       "      <th>ReportsTo</th>\n",
       "      <th>BirthDate</th>\n",
       "      <th>HireDate</th>\n",
       "      <th>Address</th>\n",
       "      <th>City</th>\n",
       "      <th>State</th>\n",
       "      <th>Country</th>\n",
       "      <th>PostalCode</th>\n",
       "      <th>Phone</th>\n",
       "      <th>Fax</th>\n",
       "      <th>Email</th>\n",
       "    </tr>\n",
       "  </thead>\n",
       "  <tbody>\n",
       "    <tr>\n",
       "      <th>0</th>\n",
       "      <td>3</td>\n",
       "      <td>Peacock</td>\n",
       "      <td>Jane</td>\n",
       "      <td>Sales Support Agent</td>\n",
       "      <td>2</td>\n",
       "      <td>1973-08-29 00:00:00</td>\n",
       "      <td>2002-04-01 00:00:00</td>\n",
       "      <td>1111 6 Ave SW</td>\n",
       "      <td>Calgary</td>\n",
       "      <td>AB</td>\n",
       "      <td>Canada</td>\n",
       "      <td>T2P 5M5</td>\n",
       "      <td>+1 (403) 262-3443</td>\n",
       "      <td>+1 (403) 262-6712</td>\n",
       "      <td>jane@chinookcorp.com</td>\n",
       "    </tr>\n",
       "    <tr>\n",
       "      <th>1</th>\n",
       "      <td>4</td>\n",
       "      <td>Park</td>\n",
       "      <td>Margaret</td>\n",
       "      <td>Sales Support Agent</td>\n",
       "      <td>2</td>\n",
       "      <td>1947-09-19 00:00:00</td>\n",
       "      <td>2003-05-03 00:00:00</td>\n",
       "      <td>683 10 Street SW</td>\n",
       "      <td>Calgary</td>\n",
       "      <td>AB</td>\n",
       "      <td>Canada</td>\n",
       "      <td>T2P 5G3</td>\n",
       "      <td>+1 (403) 263-4423</td>\n",
       "      <td>+1 (403) 263-4289</td>\n",
       "      <td>margaret@chinookcorp.com</td>\n",
       "    </tr>\n",
       "    <tr>\n",
       "      <th>2</th>\n",
       "      <td>5</td>\n",
       "      <td>Johnson</td>\n",
       "      <td>Steve</td>\n",
       "      <td>Sales Support Agent</td>\n",
       "      <td>2</td>\n",
       "      <td>1965-03-03 00:00:00</td>\n",
       "      <td>2003-10-17 00:00:00</td>\n",
       "      <td>7727B 41 Ave</td>\n",
       "      <td>Calgary</td>\n",
       "      <td>AB</td>\n",
       "      <td>Canada</td>\n",
       "      <td>T3B 1Y7</td>\n",
       "      <td>1 (780) 836-9987</td>\n",
       "      <td>1 (780) 836-9543</td>\n",
       "      <td>steve@chinookcorp.com</td>\n",
       "    </tr>\n",
       "  </tbody>\n",
       "</table>\n",
       "</div>"
      ],
      "text/plain": [
       "   EmployeeId LastName FirstName                Title  ReportsTo  \\\n",
       "0           3  Peacock      Jane  Sales Support Agent          2   \n",
       "1           4     Park  Margaret  Sales Support Agent          2   \n",
       "2           5  Johnson     Steve  Sales Support Agent          2   \n",
       "\n",
       "             BirthDate             HireDate           Address     City State  \\\n",
       "0  1973-08-29 00:00:00  2002-04-01 00:00:00     1111 6 Ave SW  Calgary    AB   \n",
       "1  1947-09-19 00:00:00  2003-05-03 00:00:00  683 10 Street SW  Calgary    AB   \n",
       "2  1965-03-03 00:00:00  2003-10-17 00:00:00      7727B 41 Ave  Calgary    AB   \n",
       "\n",
       "  Country PostalCode              Phone                Fax  \\\n",
       "0  Canada    T2P 5M5  +1 (403) 262-3443  +1 (403) 262-6712   \n",
       "1  Canada    T2P 5G3  +1 (403) 263-4423  +1 (403) 263-4289   \n",
       "2  Canada    T3B 1Y7   1 (780) 836-9987   1 (780) 836-9543   \n",
       "\n",
       "                      Email  \n",
       "0      jane@chinookcorp.com  \n",
       "1  margaret@chinookcorp.com  \n",
       "2     steve@chinookcorp.com  "
      ]
     },
     "execution_count": 33,
     "metadata": {},
     "output_type": "execute_result"
    }
   ],
   "source": [
    "# 2  Obtén los empleados que son agentes de ventas\n",
    "query = '''\n",
    "SELECT * FROM employees\n",
    "WHERE title = \"Sales Support Agent\"\n",
    "'''\n",
    "\n",
    "df = sql_query(query)\n",
    "df\n"
   ]
  },
  {
   "cell_type": "code",
   "execution_count": 34,
   "metadata": {},
   "outputs": [
    {
     "data": {
      "application/vnd.microsoft.datawrangler.viewer.v0+json": {
       "columns": [
        {
         "name": "index",
         "rawType": "int64",
         "type": "integer"
        },
        {
         "name": "TrackId",
         "rawType": "int64",
         "type": "integer"
        },
        {
         "name": "Name",
         "rawType": "object",
         "type": "string"
        },
        {
         "name": "AlbumId",
         "rawType": "int64",
         "type": "integer"
        },
        {
         "name": "MediaTypeId",
         "rawType": "int64",
         "type": "integer"
        },
        {
         "name": "GenreId",
         "rawType": "int64",
         "type": "integer"
        },
        {
         "name": "Composer",
         "rawType": "object",
         "type": "string"
        },
        {
         "name": "Milliseconds",
         "rawType": "int64",
         "type": "integer"
        },
        {
         "name": "Bytes",
         "rawType": "int64",
         "type": "integer"
        },
        {
         "name": "UnitPrice",
         "rawType": "float64",
         "type": "float"
        }
       ],
       "conversionMethod": "pd.DataFrame",
       "ref": "761d69cb-2da1-40eb-b6bb-79c5d42b0bfb",
       "rows": [
        [
         "0",
         "15",
         "Go Down",
         "4",
         "1",
         "1",
         "AC/DC",
         "331180",
         "10847611",
         "0.99"
        ],
        [
         "1",
         "16",
         "Dog Eat Dog",
         "4",
         "1",
         "1",
         "AC/DC",
         "215196",
         "7032162",
         "0.99"
        ],
        [
         "2",
         "17",
         "Let There Be Rock",
         "4",
         "1",
         "1",
         "AC/DC",
         "366654",
         "12021261",
         "0.99"
        ],
        [
         "3",
         "18",
         "Bad Boy Boogie",
         "4",
         "1",
         "1",
         "AC/DC",
         "267728",
         "8776140",
         "0.99"
        ],
        [
         "4",
         "19",
         "Problem Child",
         "4",
         "1",
         "1",
         "AC/DC",
         "325041",
         "10617116",
         "0.99"
        ],
        [
         "5",
         "20",
         "Overdose",
         "4",
         "1",
         "1",
         "AC/DC",
         "369319",
         "12066294",
         "0.99"
        ],
        [
         "6",
         "21",
         "Hell Ain't A Bad Place To Be",
         "4",
         "1",
         "1",
         "AC/DC",
         "254380",
         "8331286",
         "0.99"
        ],
        [
         "7",
         "22",
         "Whole Lotta Rosie",
         "4",
         "1",
         "1",
         "AC/DC",
         "323761",
         "10547154",
         "0.99"
        ]
       ],
       "shape": {
        "columns": 9,
        "rows": 8
       }
      },
      "text/html": [
       "<div>\n",
       "<style scoped>\n",
       "    .dataframe tbody tr th:only-of-type {\n",
       "        vertical-align: middle;\n",
       "    }\n",
       "\n",
       "    .dataframe tbody tr th {\n",
       "        vertical-align: top;\n",
       "    }\n",
       "\n",
       "    .dataframe thead th {\n",
       "        text-align: right;\n",
       "    }\n",
       "</style>\n",
       "<table border=\"1\" class=\"dataframe\">\n",
       "  <thead>\n",
       "    <tr style=\"text-align: right;\">\n",
       "      <th></th>\n",
       "      <th>TrackId</th>\n",
       "      <th>Name</th>\n",
       "      <th>AlbumId</th>\n",
       "      <th>MediaTypeId</th>\n",
       "      <th>GenreId</th>\n",
       "      <th>Composer</th>\n",
       "      <th>Milliseconds</th>\n",
       "      <th>Bytes</th>\n",
       "      <th>UnitPrice</th>\n",
       "    </tr>\n",
       "  </thead>\n",
       "  <tbody>\n",
       "    <tr>\n",
       "      <th>0</th>\n",
       "      <td>15</td>\n",
       "      <td>Go Down</td>\n",
       "      <td>4</td>\n",
       "      <td>1</td>\n",
       "      <td>1</td>\n",
       "      <td>AC/DC</td>\n",
       "      <td>331180</td>\n",
       "      <td>10847611</td>\n",
       "      <td>0.99</td>\n",
       "    </tr>\n",
       "    <tr>\n",
       "      <th>1</th>\n",
       "      <td>16</td>\n",
       "      <td>Dog Eat Dog</td>\n",
       "      <td>4</td>\n",
       "      <td>1</td>\n",
       "      <td>1</td>\n",
       "      <td>AC/DC</td>\n",
       "      <td>215196</td>\n",
       "      <td>7032162</td>\n",
       "      <td>0.99</td>\n",
       "    </tr>\n",
       "    <tr>\n",
       "      <th>2</th>\n",
       "      <td>17</td>\n",
       "      <td>Let There Be Rock</td>\n",
       "      <td>4</td>\n",
       "      <td>1</td>\n",
       "      <td>1</td>\n",
       "      <td>AC/DC</td>\n",
       "      <td>366654</td>\n",
       "      <td>12021261</td>\n",
       "      <td>0.99</td>\n",
       "    </tr>\n",
       "    <tr>\n",
       "      <th>3</th>\n",
       "      <td>18</td>\n",
       "      <td>Bad Boy Boogie</td>\n",
       "      <td>4</td>\n",
       "      <td>1</td>\n",
       "      <td>1</td>\n",
       "      <td>AC/DC</td>\n",
       "      <td>267728</td>\n",
       "      <td>8776140</td>\n",
       "      <td>0.99</td>\n",
       "    </tr>\n",
       "    <tr>\n",
       "      <th>4</th>\n",
       "      <td>19</td>\n",
       "      <td>Problem Child</td>\n",
       "      <td>4</td>\n",
       "      <td>1</td>\n",
       "      <td>1</td>\n",
       "      <td>AC/DC</td>\n",
       "      <td>325041</td>\n",
       "      <td>10617116</td>\n",
       "      <td>0.99</td>\n",
       "    </tr>\n",
       "    <tr>\n",
       "      <th>5</th>\n",
       "      <td>20</td>\n",
       "      <td>Overdose</td>\n",
       "      <td>4</td>\n",
       "      <td>1</td>\n",
       "      <td>1</td>\n",
       "      <td>AC/DC</td>\n",
       "      <td>369319</td>\n",
       "      <td>12066294</td>\n",
       "      <td>0.99</td>\n",
       "    </tr>\n",
       "    <tr>\n",
       "      <th>6</th>\n",
       "      <td>21</td>\n",
       "      <td>Hell Ain't A Bad Place To Be</td>\n",
       "      <td>4</td>\n",
       "      <td>1</td>\n",
       "      <td>1</td>\n",
       "      <td>AC/DC</td>\n",
       "      <td>254380</td>\n",
       "      <td>8331286</td>\n",
       "      <td>0.99</td>\n",
       "    </tr>\n",
       "    <tr>\n",
       "      <th>7</th>\n",
       "      <td>22</td>\n",
       "      <td>Whole Lotta Rosie</td>\n",
       "      <td>4</td>\n",
       "      <td>1</td>\n",
       "      <td>1</td>\n",
       "      <td>AC/DC</td>\n",
       "      <td>323761</td>\n",
       "      <td>10547154</td>\n",
       "      <td>0.99</td>\n",
       "    </tr>\n",
       "  </tbody>\n",
       "</table>\n",
       "</div>"
      ],
      "text/plain": [
       "   TrackId                          Name  AlbumId  MediaTypeId  GenreId  \\\n",
       "0       15                       Go Down        4            1        1   \n",
       "1       16                   Dog Eat Dog        4            1        1   \n",
       "2       17             Let There Be Rock        4            1        1   \n",
       "3       18                Bad Boy Boogie        4            1        1   \n",
       "4       19                 Problem Child        4            1        1   \n",
       "5       20                      Overdose        4            1        1   \n",
       "6       21  Hell Ain't A Bad Place To Be        4            1        1   \n",
       "7       22             Whole Lotta Rosie        4            1        1   \n",
       "\n",
       "  Composer  Milliseconds     Bytes  UnitPrice  \n",
       "0    AC/DC        331180  10847611       0.99  \n",
       "1    AC/DC        215196   7032162       0.99  \n",
       "2    AC/DC        366654  12021261       0.99  \n",
       "3    AC/DC        267728   8776140       0.99  \n",
       "4    AC/DC        325041  10617116       0.99  \n",
       "5    AC/DC        369319  12066294       0.99  \n",
       "6    AC/DC        254380   8331286       0.99  \n",
       "7    AC/DC        323761  10547154       0.99  "
      ]
     },
     "execution_count": 34,
     "metadata": {},
     "output_type": "execute_result"
    }
   ],
   "source": [
    "# 3 Obtén las canciones de ‘AC/DC’\n",
    "\n",
    "query = '''\n",
    "SELECT * FROM tracks \n",
    "WHERE Composer = \"AC/DC\";\n",
    "'''\n",
    "\n",
    "df = sql_query(query)\n",
    "df"
   ]
  },
  {
   "cell_type": "code",
   "execution_count": 35,
   "metadata": {},
   "outputs": [
    {
     "data": {
      "application/vnd.microsoft.datawrangler.viewer.v0+json": {
       "columns": [
        {
         "name": "index",
         "rawType": "int64",
         "type": "integer"
        },
        {
         "name": "CustomerId",
         "rawType": "int64",
         "type": "integer"
        },
        {
         "name": "FirstName",
         "rawType": "object",
         "type": "string"
        },
        {
         "name": "LastName",
         "rawType": "object",
         "type": "string"
        },
        {
         "name": "Company",
         "rawType": "object",
         "type": "unknown"
        },
        {
         "name": "Address",
         "rawType": "object",
         "type": "string"
        },
        {
         "name": "City",
         "rawType": "object",
         "type": "string"
        },
        {
         "name": "State",
         "rawType": "object",
         "type": "unknown"
        },
        {
         "name": "Country",
         "rawType": "object",
         "type": "string"
        },
        {
         "name": "PostalCode",
         "rawType": "object",
         "type": "unknown"
        },
        {
         "name": "Phone",
         "rawType": "object",
         "type": "unknown"
        },
        {
         "name": "Fax",
         "rawType": "object",
         "type": "unknown"
        },
        {
         "name": "Email",
         "rawType": "object",
         "type": "string"
        },
        {
         "name": "SupportRepId",
         "rawType": "int64",
         "type": "integer"
        }
       ],
       "conversionMethod": "pd.DataFrame",
       "ref": "441d5588-a1b4-482c-98fa-ad686b5c3c5d",
       "rows": [
        [
         "0",
         "1",
         "Luís",
         "Gonçalves",
         "Embraer - Empresa Brasileira de Aeronáutica S.A.",
         "Av. Brigadeiro Faria Lima, 2170",
         "São José dos Campos",
         "SP",
         "Brazil",
         "12227-000",
         "+55 (12) 3923-5555",
         "+55 (12) 3923-5566",
         "luisg@embraer.com.br",
         "3"
        ],
        [
         "1",
         "2",
         "Leonie",
         "Köhler",
         null,
         "Theodor-Heuss-Straße 34",
         "Stuttgart",
         null,
         "Germany",
         "70174",
         "+49 0711 2842222",
         null,
         "leonekohler@surfeu.de",
         "5"
        ],
        [
         "2",
         "3",
         "François",
         "Tremblay",
         null,
         "1498 rue Bélanger",
         "Montréal",
         "QC",
         "Canada",
         "H2G 1A7",
         "+1 (514) 721-4711",
         null,
         "ftremblay@gmail.com",
         "3"
        ],
        [
         "3",
         "4",
         "Bjørn",
         "Hansen",
         null,
         "Ullevålsveien 14",
         "Oslo",
         null,
         "Norway",
         "0171",
         "+47 22 44 22 22",
         null,
         "bjorn.hansen@yahoo.no",
         "4"
        ],
        [
         "4",
         "5",
         "František",
         "Wichterlová",
         "JetBrains s.r.o.",
         "Klanova 9/506",
         "Prague",
         null,
         "Czech Republic",
         "14700",
         "+420 2 4172 5555",
         "+420 2 4172 5555",
         "frantisekw@jetbrains.com",
         "4"
        ],
        [
         "5",
         "6",
         "Helena",
         "Holý",
         null,
         "Rilská 3174/6",
         "Prague",
         null,
         "Czech Republic",
         "14300",
         "+420 2 4177 0449",
         null,
         "hholy@gmail.com",
         "5"
        ],
        [
         "6",
         "7",
         "Astrid",
         "Gruber",
         null,
         "Rotenturmstraße 4, 1010 Innere Stadt",
         "Vienne",
         null,
         "Austria",
         "1010",
         "+43 01 5134505",
         null,
         "astrid.gruber@apple.at",
         "5"
        ],
        [
         "7",
         "8",
         "Daan",
         "Peeters",
         null,
         "Grétrystraat 63",
         "Brussels",
         null,
         "Belgium",
         "1000",
         "+32 02 219 03 03",
         null,
         "daan_peeters@apple.be",
         "4"
        ],
        [
         "8",
         "9",
         "Kara",
         "Nielsen",
         null,
         "Sønder Boulevard 51",
         "Copenhagen",
         null,
         "Denmark",
         "1720",
         "+453 3331 9991",
         null,
         "kara.nielsen@jubii.dk",
         "4"
        ],
        [
         "9",
         "10",
         "Eduardo",
         "Martins",
         "Woodstock Discos",
         "Rua Dr. Falcão Filho, 155",
         "São Paulo",
         "SP",
         "Brazil",
         "01007-010",
         "+55 (11) 3033-5446",
         "+55 (11) 3033-4564",
         "eduardo@woodstock.com.br",
         "4"
        ],
        [
         "10",
         "11",
         "Alexandre",
         "Rocha",
         "Banco do Brasil S.A.",
         "Av. Paulista, 2022",
         "São Paulo",
         "SP",
         "Brazil",
         "01310-200",
         "+55 (11) 3055-3278",
         "+55 (11) 3055-8131",
         "alero@uol.com.br",
         "5"
        ],
        [
         "11",
         "12",
         "Roberto",
         "Almeida",
         "Riotur",
         "Praça Pio X, 119",
         "Rio de Janeiro",
         "RJ",
         "Brazil",
         "20040-020",
         "+55 (21) 2271-7000",
         "+55 (21) 2271-7070",
         "roberto.almeida@riotur.gov.br",
         "3"
        ],
        [
         "12",
         "13",
         "Fernanda",
         "Ramos",
         null,
         "Qe 7 Bloco G",
         "Brasília",
         "DF",
         "Brazil",
         "71020-677",
         "+55 (61) 3363-5547",
         "+55 (61) 3363-7855",
         "fernadaramos4@uol.com.br",
         "4"
        ],
        [
         "13",
         "14",
         "Mark",
         "Philips",
         "Telus",
         "8210 111 ST NW",
         "Edmonton",
         "AB",
         "Canada",
         "T6G 2C7",
         "+1 (780) 434-4554",
         "+1 (780) 434-5565",
         "mphilips12@shaw.ca",
         "5"
        ],
        [
         "14",
         "15",
         "Jennifer",
         "Peterson",
         "Rogers Canada",
         "700 W Pender Street",
         "Vancouver",
         "BC",
         "Canada",
         "V6C 1G8",
         "+1 (604) 688-2255",
         "+1 (604) 688-8756",
         "jenniferp@rogers.ca",
         "3"
        ],
        [
         "15",
         "29",
         "Robert",
         "Brown",
         null,
         "796 Dundas Street West",
         "Toronto",
         "ON",
         "Canada",
         "M6J 1V1",
         "+1 (416) 363-8888",
         null,
         "robbrown@shaw.ca",
         "3"
        ],
        [
         "16",
         "30",
         "Edward",
         "Francis",
         null,
         "230 Elgin Street",
         "Ottawa",
         "ON",
         "Canada",
         "K2P 1L7",
         "+1 (613) 234-3322",
         null,
         "edfrancis@yachoo.ca",
         "3"
        ],
        [
         "17",
         "31",
         "Martha",
         "Silk",
         null,
         "194A Chain Lake Drive",
         "Halifax",
         "NS",
         "Canada",
         "B3S 1C5",
         "+1 (902) 450-0450",
         null,
         "marthasilk@gmail.com",
         "5"
        ],
        [
         "18",
         "32",
         "Aaron",
         "Mitchell",
         null,
         "696 Osborne Street",
         "Winnipeg",
         "MB",
         "Canada",
         "R3L 2B9",
         "+1 (204) 452-6452",
         null,
         "aaronmitchell@yahoo.ca",
         "4"
        ],
        [
         "19",
         "33",
         "Ellie",
         "Sullivan",
         null,
         "5112 48 Street",
         "Yellowknife",
         "NT",
         "Canada",
         "X1A 1N6",
         "+1 (867) 920-2233",
         null,
         "ellie.sullivan@shaw.ca",
         "3"
        ],
        [
         "20",
         "34",
         "João",
         "Fernandes",
         null,
         "Rua da Assunção 53",
         "Lisbon",
         null,
         "Portugal",
         null,
         "+351 (213) 466-111",
         null,
         "jfernandes@yahoo.pt",
         "4"
        ],
        [
         "21",
         "35",
         "Madalena",
         "Sampaio",
         null,
         "Rua dos Campeões Europeus de Viena, 4350",
         "Porto",
         null,
         "Portugal",
         null,
         "+351 (225) 022-448",
         null,
         "masampaio@sapo.pt",
         "4"
        ],
        [
         "22",
         "36",
         "Hannah",
         "Schneider",
         null,
         "Tauentzienstraße 8",
         "Berlin",
         null,
         "Germany",
         "10789",
         "+49 030 26550280",
         null,
         "hannah.schneider@yahoo.de",
         "5"
        ],
        [
         "23",
         "37",
         "Fynn",
         "Zimmermann",
         null,
         "Berger Straße 10",
         "Frankfurt",
         null,
         "Germany",
         "60316",
         "+49 069 40598889",
         null,
         "fzimmermann@yahoo.de",
         "3"
        ],
        [
         "24",
         "38",
         "Niklas",
         "Schröder",
         null,
         "Barbarossastraße 19",
         "Berlin",
         null,
         "Germany",
         "10779",
         "+49 030 2141444",
         null,
         "nschroder@surfeu.de",
         "3"
        ],
        [
         "25",
         "39",
         "Camille",
         "Bernard",
         null,
         "4, Rue Milton",
         "Paris",
         null,
         "France",
         "75009",
         "+33 01 49 70 65 65",
         null,
         "camille.bernard@yahoo.fr",
         "4"
        ],
        [
         "26",
         "40",
         "Dominique",
         "Lefebvre",
         null,
         "8, Rue Hanovre",
         "Paris",
         null,
         "France",
         "75002",
         "+33 01 47 42 71 71",
         null,
         "dominiquelefebvre@gmail.com",
         "4"
        ],
        [
         "27",
         "41",
         "Marc",
         "Dubois",
         null,
         "11, Place Bellecour",
         "Lyon",
         null,
         "France",
         "69002",
         "+33 04 78 30 30 30",
         null,
         "marc.dubois@hotmail.com",
         "5"
        ],
        [
         "28",
         "42",
         "Wyatt",
         "Girard",
         null,
         "9, Place Louis Barthou",
         "Bordeaux",
         null,
         "France",
         "33000",
         "+33 05 56 96 96 96",
         null,
         "wyatt.girard@yahoo.fr",
         "3"
        ],
        [
         "29",
         "43",
         "Isabelle",
         "Mercier",
         null,
         "68, Rue Jouvence",
         "Dijon",
         null,
         "France",
         "21000",
         "+33 03 80 73 66 99",
         null,
         "isabelle_mercier@apple.fr",
         "3"
        ],
        [
         "30",
         "44",
         "Terhi",
         "Hämäläinen",
         null,
         "Porthaninkatu 9",
         "Helsinki",
         null,
         "Finland",
         "00530",
         "+358 09 870 2000",
         null,
         "terhi.hamalainen@apple.fi",
         "3"
        ],
        [
         "31",
         "45",
         "Ladislav",
         "Kovács",
         null,
         "Erzsébet krt. 58.",
         "Budapest",
         null,
         "Hungary",
         "H-1073",
         null,
         null,
         "ladislav_kovacs@apple.hu",
         "3"
        ],
        [
         "32",
         "46",
         "Hugh",
         "O'Reilly",
         null,
         "3 Chatham Street",
         "Dublin",
         "Dublin",
         "Ireland",
         null,
         "+353 01 6792424",
         null,
         "hughoreilly@apple.ie",
         "3"
        ],
        [
         "33",
         "47",
         "Lucas",
         "Mancini",
         null,
         "Via Degli Scipioni, 43",
         "Rome",
         "RM",
         "Italy",
         "00192",
         "+39 06 39733434",
         null,
         "lucas.mancini@yahoo.it",
         "5"
        ],
        [
         "34",
         "48",
         "Johannes",
         "Van der Berg",
         null,
         "Lijnbaansgracht 120bg",
         "Amsterdam",
         "VV",
         "Netherlands",
         "1016",
         "+31 020 6223130",
         null,
         "johavanderberg@yahoo.nl",
         "5"
        ],
        [
         "35",
         "49",
         "Stanisław",
         "Wójcik",
         null,
         "Ordynacka 10",
         "Warsaw",
         null,
         "Poland",
         "00-358",
         "+48 22 828 37 39",
         null,
         "stanisław.wójcik@wp.pl",
         "4"
        ],
        [
         "36",
         "50",
         "Enrique",
         "Muñoz",
         null,
         "C/ San Bernardo 85",
         "Madrid",
         null,
         "Spain",
         "28015",
         "+34 914 454 454",
         null,
         "enrique_munoz@yahoo.es",
         "5"
        ],
        [
         "37",
         "51",
         "Joakim",
         "Johansson",
         null,
         "Celsiusg. 9",
         "Stockholm",
         null,
         "Sweden",
         "11230",
         "+46 08-651 52 52",
         null,
         "joakim.johansson@yahoo.se",
         "5"
        ],
        [
         "38",
         "52",
         "Emma",
         "Jones",
         null,
         "202 Hoxton Street",
         "London",
         null,
         "United Kingdom",
         "N1 5LH",
         "+44 020 7707 0707",
         null,
         "emma_jones@hotmail.com",
         "3"
        ],
        [
         "39",
         "53",
         "Phil",
         "Hughes",
         null,
         "113 Lupus St",
         "London",
         null,
         "United Kingdom",
         "SW1V 3EN",
         "+44 020 7976 5722",
         null,
         "phil.hughes@gmail.com",
         "3"
        ],
        [
         "40",
         "54",
         "Steve",
         "Murray",
         null,
         "110 Raeburn Pl",
         "Edinburgh ",
         null,
         "United Kingdom",
         "EH4 1HH",
         "+44 0131 315 3300",
         null,
         "steve.murray@yahoo.uk",
         "5"
        ],
        [
         "41",
         "55",
         "Mark",
         "Taylor",
         null,
         "421 Bourke Street",
         "Sidney",
         "NSW",
         "Australia",
         "2010",
         "+61 (02) 9332 3633",
         null,
         "mark.taylor@yahoo.au",
         "4"
        ],
        [
         "42",
         "56",
         "Diego",
         "Gutiérrez",
         null,
         "307 Macacha Güemes",
         "Buenos Aires",
         null,
         "Argentina",
         "1106",
         "+54 (0)11 4311 4333",
         null,
         "diego.gutierrez@yahoo.ar",
         "4"
        ],
        [
         "43",
         "57",
         "Luis",
         "Rojas",
         null,
         "Calle Lira, 198",
         "Santiago",
         null,
         "Chile",
         null,
         "+56 (0)2 635 4444",
         null,
         "luisrojas@yahoo.cl",
         "5"
        ],
        [
         "44",
         "58",
         "Manoj",
         "Pareek",
         null,
         "12,Community Centre",
         "Delhi",
         null,
         "India",
         "110017",
         "+91 0124 39883988",
         null,
         "manoj.pareek@rediff.com",
         "3"
        ],
        [
         "45",
         "59",
         "Puja",
         "Srivastava",
         null,
         "3,Raj Bhavan Road",
         "Bangalore",
         null,
         "India",
         "560001",
         "+91 080 22289999",
         null,
         "puja_srivastava@yahoo.in",
         "3"
        ]
       ],
       "shape": {
        "columns": 13,
        "rows": 46
       }
      },
      "text/html": [
       "<div>\n",
       "<style scoped>\n",
       "    .dataframe tbody tr th:only-of-type {\n",
       "        vertical-align: middle;\n",
       "    }\n",
       "\n",
       "    .dataframe tbody tr th {\n",
       "        vertical-align: top;\n",
       "    }\n",
       "\n",
       "    .dataframe thead th {\n",
       "        text-align: right;\n",
       "    }\n",
       "</style>\n",
       "<table border=\"1\" class=\"dataframe\">\n",
       "  <thead>\n",
       "    <tr style=\"text-align: right;\">\n",
       "      <th></th>\n",
       "      <th>CustomerId</th>\n",
       "      <th>FirstName</th>\n",
       "      <th>LastName</th>\n",
       "      <th>Company</th>\n",
       "      <th>Address</th>\n",
       "      <th>City</th>\n",
       "      <th>State</th>\n",
       "      <th>Country</th>\n",
       "      <th>PostalCode</th>\n",
       "      <th>Phone</th>\n",
       "      <th>Fax</th>\n",
       "      <th>Email</th>\n",
       "      <th>SupportRepId</th>\n",
       "    </tr>\n",
       "  </thead>\n",
       "  <tbody>\n",
       "    <tr>\n",
       "      <th>0</th>\n",
       "      <td>1</td>\n",
       "      <td>Luís</td>\n",
       "      <td>Gonçalves</td>\n",
       "      <td>Embraer - Empresa Brasileira de Aeronáutica S.A.</td>\n",
       "      <td>Av. Brigadeiro Faria Lima, 2170</td>\n",
       "      <td>São José dos Campos</td>\n",
       "      <td>SP</td>\n",
       "      <td>Brazil</td>\n",
       "      <td>12227-000</td>\n",
       "      <td>+55 (12) 3923-5555</td>\n",
       "      <td>+55 (12) 3923-5566</td>\n",
       "      <td>luisg@embraer.com.br</td>\n",
       "      <td>3</td>\n",
       "    </tr>\n",
       "    <tr>\n",
       "      <th>1</th>\n",
       "      <td>2</td>\n",
       "      <td>Leonie</td>\n",
       "      <td>Köhler</td>\n",
       "      <td>None</td>\n",
       "      <td>Theodor-Heuss-Straße 34</td>\n",
       "      <td>Stuttgart</td>\n",
       "      <td>None</td>\n",
       "      <td>Germany</td>\n",
       "      <td>70174</td>\n",
       "      <td>+49 0711 2842222</td>\n",
       "      <td>None</td>\n",
       "      <td>leonekohler@surfeu.de</td>\n",
       "      <td>5</td>\n",
       "    </tr>\n",
       "    <tr>\n",
       "      <th>2</th>\n",
       "      <td>3</td>\n",
       "      <td>François</td>\n",
       "      <td>Tremblay</td>\n",
       "      <td>None</td>\n",
       "      <td>1498 rue Bélanger</td>\n",
       "      <td>Montréal</td>\n",
       "      <td>QC</td>\n",
       "      <td>Canada</td>\n",
       "      <td>H2G 1A7</td>\n",
       "      <td>+1 (514) 721-4711</td>\n",
       "      <td>None</td>\n",
       "      <td>ftremblay@gmail.com</td>\n",
       "      <td>3</td>\n",
       "    </tr>\n",
       "    <tr>\n",
       "      <th>3</th>\n",
       "      <td>4</td>\n",
       "      <td>Bjørn</td>\n",
       "      <td>Hansen</td>\n",
       "      <td>None</td>\n",
       "      <td>Ullevålsveien 14</td>\n",
       "      <td>Oslo</td>\n",
       "      <td>None</td>\n",
       "      <td>Norway</td>\n",
       "      <td>0171</td>\n",
       "      <td>+47 22 44 22 22</td>\n",
       "      <td>None</td>\n",
       "      <td>bjorn.hansen@yahoo.no</td>\n",
       "      <td>4</td>\n",
       "    </tr>\n",
       "    <tr>\n",
       "      <th>4</th>\n",
       "      <td>5</td>\n",
       "      <td>František</td>\n",
       "      <td>Wichterlová</td>\n",
       "      <td>JetBrains s.r.o.</td>\n",
       "      <td>Klanova 9/506</td>\n",
       "      <td>Prague</td>\n",
       "      <td>None</td>\n",
       "      <td>Czech Republic</td>\n",
       "      <td>14700</td>\n",
       "      <td>+420 2 4172 5555</td>\n",
       "      <td>+420 2 4172 5555</td>\n",
       "      <td>frantisekw@jetbrains.com</td>\n",
       "      <td>4</td>\n",
       "    </tr>\n",
       "    <tr>\n",
       "      <th>5</th>\n",
       "      <td>6</td>\n",
       "      <td>Helena</td>\n",
       "      <td>Holý</td>\n",
       "      <td>None</td>\n",
       "      <td>Rilská 3174/6</td>\n",
       "      <td>Prague</td>\n",
       "      <td>None</td>\n",
       "      <td>Czech Republic</td>\n",
       "      <td>14300</td>\n",
       "      <td>+420 2 4177 0449</td>\n",
       "      <td>None</td>\n",
       "      <td>hholy@gmail.com</td>\n",
       "      <td>5</td>\n",
       "    </tr>\n",
       "    <tr>\n",
       "      <th>6</th>\n",
       "      <td>7</td>\n",
       "      <td>Astrid</td>\n",
       "      <td>Gruber</td>\n",
       "      <td>None</td>\n",
       "      <td>Rotenturmstraße 4, 1010 Innere Stadt</td>\n",
       "      <td>Vienne</td>\n",
       "      <td>None</td>\n",
       "      <td>Austria</td>\n",
       "      <td>1010</td>\n",
       "      <td>+43 01 5134505</td>\n",
       "      <td>None</td>\n",
       "      <td>astrid.gruber@apple.at</td>\n",
       "      <td>5</td>\n",
       "    </tr>\n",
       "    <tr>\n",
       "      <th>7</th>\n",
       "      <td>8</td>\n",
       "      <td>Daan</td>\n",
       "      <td>Peeters</td>\n",
       "      <td>None</td>\n",
       "      <td>Grétrystraat 63</td>\n",
       "      <td>Brussels</td>\n",
       "      <td>None</td>\n",
       "      <td>Belgium</td>\n",
       "      <td>1000</td>\n",
       "      <td>+32 02 219 03 03</td>\n",
       "      <td>None</td>\n",
       "      <td>daan_peeters@apple.be</td>\n",
       "      <td>4</td>\n",
       "    </tr>\n",
       "    <tr>\n",
       "      <th>8</th>\n",
       "      <td>9</td>\n",
       "      <td>Kara</td>\n",
       "      <td>Nielsen</td>\n",
       "      <td>None</td>\n",
       "      <td>Sønder Boulevard 51</td>\n",
       "      <td>Copenhagen</td>\n",
       "      <td>None</td>\n",
       "      <td>Denmark</td>\n",
       "      <td>1720</td>\n",
       "      <td>+453 3331 9991</td>\n",
       "      <td>None</td>\n",
       "      <td>kara.nielsen@jubii.dk</td>\n",
       "      <td>4</td>\n",
       "    </tr>\n",
       "    <tr>\n",
       "      <th>9</th>\n",
       "      <td>10</td>\n",
       "      <td>Eduardo</td>\n",
       "      <td>Martins</td>\n",
       "      <td>Woodstock Discos</td>\n",
       "      <td>Rua Dr. Falcão Filho, 155</td>\n",
       "      <td>São Paulo</td>\n",
       "      <td>SP</td>\n",
       "      <td>Brazil</td>\n",
       "      <td>01007-010</td>\n",
       "      <td>+55 (11) 3033-5446</td>\n",
       "      <td>+55 (11) 3033-4564</td>\n",
       "      <td>eduardo@woodstock.com.br</td>\n",
       "      <td>4</td>\n",
       "    </tr>\n",
       "    <tr>\n",
       "      <th>10</th>\n",
       "      <td>11</td>\n",
       "      <td>Alexandre</td>\n",
       "      <td>Rocha</td>\n",
       "      <td>Banco do Brasil S.A.</td>\n",
       "      <td>Av. Paulista, 2022</td>\n",
       "      <td>São Paulo</td>\n",
       "      <td>SP</td>\n",
       "      <td>Brazil</td>\n",
       "      <td>01310-200</td>\n",
       "      <td>+55 (11) 3055-3278</td>\n",
       "      <td>+55 (11) 3055-8131</td>\n",
       "      <td>alero@uol.com.br</td>\n",
       "      <td>5</td>\n",
       "    </tr>\n",
       "    <tr>\n",
       "      <th>11</th>\n",
       "      <td>12</td>\n",
       "      <td>Roberto</td>\n",
       "      <td>Almeida</td>\n",
       "      <td>Riotur</td>\n",
       "      <td>Praça Pio X, 119</td>\n",
       "      <td>Rio de Janeiro</td>\n",
       "      <td>RJ</td>\n",
       "      <td>Brazil</td>\n",
       "      <td>20040-020</td>\n",
       "      <td>+55 (21) 2271-7000</td>\n",
       "      <td>+55 (21) 2271-7070</td>\n",
       "      <td>roberto.almeida@riotur.gov.br</td>\n",
       "      <td>3</td>\n",
       "    </tr>\n",
       "    <tr>\n",
       "      <th>12</th>\n",
       "      <td>13</td>\n",
       "      <td>Fernanda</td>\n",
       "      <td>Ramos</td>\n",
       "      <td>None</td>\n",
       "      <td>Qe 7 Bloco G</td>\n",
       "      <td>Brasília</td>\n",
       "      <td>DF</td>\n",
       "      <td>Brazil</td>\n",
       "      <td>71020-677</td>\n",
       "      <td>+55 (61) 3363-5547</td>\n",
       "      <td>+55 (61) 3363-7855</td>\n",
       "      <td>fernadaramos4@uol.com.br</td>\n",
       "      <td>4</td>\n",
       "    </tr>\n",
       "    <tr>\n",
       "      <th>13</th>\n",
       "      <td>14</td>\n",
       "      <td>Mark</td>\n",
       "      <td>Philips</td>\n",
       "      <td>Telus</td>\n",
       "      <td>8210 111 ST NW</td>\n",
       "      <td>Edmonton</td>\n",
       "      <td>AB</td>\n",
       "      <td>Canada</td>\n",
       "      <td>T6G 2C7</td>\n",
       "      <td>+1 (780) 434-4554</td>\n",
       "      <td>+1 (780) 434-5565</td>\n",
       "      <td>mphilips12@shaw.ca</td>\n",
       "      <td>5</td>\n",
       "    </tr>\n",
       "    <tr>\n",
       "      <th>14</th>\n",
       "      <td>15</td>\n",
       "      <td>Jennifer</td>\n",
       "      <td>Peterson</td>\n",
       "      <td>Rogers Canada</td>\n",
       "      <td>700 W Pender Street</td>\n",
       "      <td>Vancouver</td>\n",
       "      <td>BC</td>\n",
       "      <td>Canada</td>\n",
       "      <td>V6C 1G8</td>\n",
       "      <td>+1 (604) 688-2255</td>\n",
       "      <td>+1 (604) 688-8756</td>\n",
       "      <td>jenniferp@rogers.ca</td>\n",
       "      <td>3</td>\n",
       "    </tr>\n",
       "    <tr>\n",
       "      <th>15</th>\n",
       "      <td>29</td>\n",
       "      <td>Robert</td>\n",
       "      <td>Brown</td>\n",
       "      <td>None</td>\n",
       "      <td>796 Dundas Street West</td>\n",
       "      <td>Toronto</td>\n",
       "      <td>ON</td>\n",
       "      <td>Canada</td>\n",
       "      <td>M6J 1V1</td>\n",
       "      <td>+1 (416) 363-8888</td>\n",
       "      <td>None</td>\n",
       "      <td>robbrown@shaw.ca</td>\n",
       "      <td>3</td>\n",
       "    </tr>\n",
       "    <tr>\n",
       "      <th>16</th>\n",
       "      <td>30</td>\n",
       "      <td>Edward</td>\n",
       "      <td>Francis</td>\n",
       "      <td>None</td>\n",
       "      <td>230 Elgin Street</td>\n",
       "      <td>Ottawa</td>\n",
       "      <td>ON</td>\n",
       "      <td>Canada</td>\n",
       "      <td>K2P 1L7</td>\n",
       "      <td>+1 (613) 234-3322</td>\n",
       "      <td>None</td>\n",
       "      <td>edfrancis@yachoo.ca</td>\n",
       "      <td>3</td>\n",
       "    </tr>\n",
       "    <tr>\n",
       "      <th>17</th>\n",
       "      <td>31</td>\n",
       "      <td>Martha</td>\n",
       "      <td>Silk</td>\n",
       "      <td>None</td>\n",
       "      <td>194A Chain Lake Drive</td>\n",
       "      <td>Halifax</td>\n",
       "      <td>NS</td>\n",
       "      <td>Canada</td>\n",
       "      <td>B3S 1C5</td>\n",
       "      <td>+1 (902) 450-0450</td>\n",
       "      <td>None</td>\n",
       "      <td>marthasilk@gmail.com</td>\n",
       "      <td>5</td>\n",
       "    </tr>\n",
       "    <tr>\n",
       "      <th>18</th>\n",
       "      <td>32</td>\n",
       "      <td>Aaron</td>\n",
       "      <td>Mitchell</td>\n",
       "      <td>None</td>\n",
       "      <td>696 Osborne Street</td>\n",
       "      <td>Winnipeg</td>\n",
       "      <td>MB</td>\n",
       "      <td>Canada</td>\n",
       "      <td>R3L 2B9</td>\n",
       "      <td>+1 (204) 452-6452</td>\n",
       "      <td>None</td>\n",
       "      <td>aaronmitchell@yahoo.ca</td>\n",
       "      <td>4</td>\n",
       "    </tr>\n",
       "    <tr>\n",
       "      <th>19</th>\n",
       "      <td>33</td>\n",
       "      <td>Ellie</td>\n",
       "      <td>Sullivan</td>\n",
       "      <td>None</td>\n",
       "      <td>5112 48 Street</td>\n",
       "      <td>Yellowknife</td>\n",
       "      <td>NT</td>\n",
       "      <td>Canada</td>\n",
       "      <td>X1A 1N6</td>\n",
       "      <td>+1 (867) 920-2233</td>\n",
       "      <td>None</td>\n",
       "      <td>ellie.sullivan@shaw.ca</td>\n",
       "      <td>3</td>\n",
       "    </tr>\n",
       "    <tr>\n",
       "      <th>20</th>\n",
       "      <td>34</td>\n",
       "      <td>João</td>\n",
       "      <td>Fernandes</td>\n",
       "      <td>None</td>\n",
       "      <td>Rua da Assunção 53</td>\n",
       "      <td>Lisbon</td>\n",
       "      <td>None</td>\n",
       "      <td>Portugal</td>\n",
       "      <td>None</td>\n",
       "      <td>+351 (213) 466-111</td>\n",
       "      <td>None</td>\n",
       "      <td>jfernandes@yahoo.pt</td>\n",
       "      <td>4</td>\n",
       "    </tr>\n",
       "    <tr>\n",
       "      <th>21</th>\n",
       "      <td>35</td>\n",
       "      <td>Madalena</td>\n",
       "      <td>Sampaio</td>\n",
       "      <td>None</td>\n",
       "      <td>Rua dos Campeões Europeus de Viena, 4350</td>\n",
       "      <td>Porto</td>\n",
       "      <td>None</td>\n",
       "      <td>Portugal</td>\n",
       "      <td>None</td>\n",
       "      <td>+351 (225) 022-448</td>\n",
       "      <td>None</td>\n",
       "      <td>masampaio@sapo.pt</td>\n",
       "      <td>4</td>\n",
       "    </tr>\n",
       "    <tr>\n",
       "      <th>22</th>\n",
       "      <td>36</td>\n",
       "      <td>Hannah</td>\n",
       "      <td>Schneider</td>\n",
       "      <td>None</td>\n",
       "      <td>Tauentzienstraße 8</td>\n",
       "      <td>Berlin</td>\n",
       "      <td>None</td>\n",
       "      <td>Germany</td>\n",
       "      <td>10789</td>\n",
       "      <td>+49 030 26550280</td>\n",
       "      <td>None</td>\n",
       "      <td>hannah.schneider@yahoo.de</td>\n",
       "      <td>5</td>\n",
       "    </tr>\n",
       "    <tr>\n",
       "      <th>23</th>\n",
       "      <td>37</td>\n",
       "      <td>Fynn</td>\n",
       "      <td>Zimmermann</td>\n",
       "      <td>None</td>\n",
       "      <td>Berger Straße 10</td>\n",
       "      <td>Frankfurt</td>\n",
       "      <td>None</td>\n",
       "      <td>Germany</td>\n",
       "      <td>60316</td>\n",
       "      <td>+49 069 40598889</td>\n",
       "      <td>None</td>\n",
       "      <td>fzimmermann@yahoo.de</td>\n",
       "      <td>3</td>\n",
       "    </tr>\n",
       "    <tr>\n",
       "      <th>24</th>\n",
       "      <td>38</td>\n",
       "      <td>Niklas</td>\n",
       "      <td>Schröder</td>\n",
       "      <td>None</td>\n",
       "      <td>Barbarossastraße 19</td>\n",
       "      <td>Berlin</td>\n",
       "      <td>None</td>\n",
       "      <td>Germany</td>\n",
       "      <td>10779</td>\n",
       "      <td>+49 030 2141444</td>\n",
       "      <td>None</td>\n",
       "      <td>nschroder@surfeu.de</td>\n",
       "      <td>3</td>\n",
       "    </tr>\n",
       "    <tr>\n",
       "      <th>25</th>\n",
       "      <td>39</td>\n",
       "      <td>Camille</td>\n",
       "      <td>Bernard</td>\n",
       "      <td>None</td>\n",
       "      <td>4, Rue Milton</td>\n",
       "      <td>Paris</td>\n",
       "      <td>None</td>\n",
       "      <td>France</td>\n",
       "      <td>75009</td>\n",
       "      <td>+33 01 49 70 65 65</td>\n",
       "      <td>None</td>\n",
       "      <td>camille.bernard@yahoo.fr</td>\n",
       "      <td>4</td>\n",
       "    </tr>\n",
       "    <tr>\n",
       "      <th>26</th>\n",
       "      <td>40</td>\n",
       "      <td>Dominique</td>\n",
       "      <td>Lefebvre</td>\n",
       "      <td>None</td>\n",
       "      <td>8, Rue Hanovre</td>\n",
       "      <td>Paris</td>\n",
       "      <td>None</td>\n",
       "      <td>France</td>\n",
       "      <td>75002</td>\n",
       "      <td>+33 01 47 42 71 71</td>\n",
       "      <td>None</td>\n",
       "      <td>dominiquelefebvre@gmail.com</td>\n",
       "      <td>4</td>\n",
       "    </tr>\n",
       "    <tr>\n",
       "      <th>27</th>\n",
       "      <td>41</td>\n",
       "      <td>Marc</td>\n",
       "      <td>Dubois</td>\n",
       "      <td>None</td>\n",
       "      <td>11, Place Bellecour</td>\n",
       "      <td>Lyon</td>\n",
       "      <td>None</td>\n",
       "      <td>France</td>\n",
       "      <td>69002</td>\n",
       "      <td>+33 04 78 30 30 30</td>\n",
       "      <td>None</td>\n",
       "      <td>marc.dubois@hotmail.com</td>\n",
       "      <td>5</td>\n",
       "    </tr>\n",
       "    <tr>\n",
       "      <th>28</th>\n",
       "      <td>42</td>\n",
       "      <td>Wyatt</td>\n",
       "      <td>Girard</td>\n",
       "      <td>None</td>\n",
       "      <td>9, Place Louis Barthou</td>\n",
       "      <td>Bordeaux</td>\n",
       "      <td>None</td>\n",
       "      <td>France</td>\n",
       "      <td>33000</td>\n",
       "      <td>+33 05 56 96 96 96</td>\n",
       "      <td>None</td>\n",
       "      <td>wyatt.girard@yahoo.fr</td>\n",
       "      <td>3</td>\n",
       "    </tr>\n",
       "    <tr>\n",
       "      <th>29</th>\n",
       "      <td>43</td>\n",
       "      <td>Isabelle</td>\n",
       "      <td>Mercier</td>\n",
       "      <td>None</td>\n",
       "      <td>68, Rue Jouvence</td>\n",
       "      <td>Dijon</td>\n",
       "      <td>None</td>\n",
       "      <td>France</td>\n",
       "      <td>21000</td>\n",
       "      <td>+33 03 80 73 66 99</td>\n",
       "      <td>None</td>\n",
       "      <td>isabelle_mercier@apple.fr</td>\n",
       "      <td>3</td>\n",
       "    </tr>\n",
       "    <tr>\n",
       "      <th>30</th>\n",
       "      <td>44</td>\n",
       "      <td>Terhi</td>\n",
       "      <td>Hämäläinen</td>\n",
       "      <td>None</td>\n",
       "      <td>Porthaninkatu 9</td>\n",
       "      <td>Helsinki</td>\n",
       "      <td>None</td>\n",
       "      <td>Finland</td>\n",
       "      <td>00530</td>\n",
       "      <td>+358 09 870 2000</td>\n",
       "      <td>None</td>\n",
       "      <td>terhi.hamalainen@apple.fi</td>\n",
       "      <td>3</td>\n",
       "    </tr>\n",
       "    <tr>\n",
       "      <th>31</th>\n",
       "      <td>45</td>\n",
       "      <td>Ladislav</td>\n",
       "      <td>Kovács</td>\n",
       "      <td>None</td>\n",
       "      <td>Erzsébet krt. 58.</td>\n",
       "      <td>Budapest</td>\n",
       "      <td>None</td>\n",
       "      <td>Hungary</td>\n",
       "      <td>H-1073</td>\n",
       "      <td>None</td>\n",
       "      <td>None</td>\n",
       "      <td>ladislav_kovacs@apple.hu</td>\n",
       "      <td>3</td>\n",
       "    </tr>\n",
       "    <tr>\n",
       "      <th>32</th>\n",
       "      <td>46</td>\n",
       "      <td>Hugh</td>\n",
       "      <td>O'Reilly</td>\n",
       "      <td>None</td>\n",
       "      <td>3 Chatham Street</td>\n",
       "      <td>Dublin</td>\n",
       "      <td>Dublin</td>\n",
       "      <td>Ireland</td>\n",
       "      <td>None</td>\n",
       "      <td>+353 01 6792424</td>\n",
       "      <td>None</td>\n",
       "      <td>hughoreilly@apple.ie</td>\n",
       "      <td>3</td>\n",
       "    </tr>\n",
       "    <tr>\n",
       "      <th>33</th>\n",
       "      <td>47</td>\n",
       "      <td>Lucas</td>\n",
       "      <td>Mancini</td>\n",
       "      <td>None</td>\n",
       "      <td>Via Degli Scipioni, 43</td>\n",
       "      <td>Rome</td>\n",
       "      <td>RM</td>\n",
       "      <td>Italy</td>\n",
       "      <td>00192</td>\n",
       "      <td>+39 06 39733434</td>\n",
       "      <td>None</td>\n",
       "      <td>lucas.mancini@yahoo.it</td>\n",
       "      <td>5</td>\n",
       "    </tr>\n",
       "    <tr>\n",
       "      <th>34</th>\n",
       "      <td>48</td>\n",
       "      <td>Johannes</td>\n",
       "      <td>Van der Berg</td>\n",
       "      <td>None</td>\n",
       "      <td>Lijnbaansgracht 120bg</td>\n",
       "      <td>Amsterdam</td>\n",
       "      <td>VV</td>\n",
       "      <td>Netherlands</td>\n",
       "      <td>1016</td>\n",
       "      <td>+31 020 6223130</td>\n",
       "      <td>None</td>\n",
       "      <td>johavanderberg@yahoo.nl</td>\n",
       "      <td>5</td>\n",
       "    </tr>\n",
       "    <tr>\n",
       "      <th>35</th>\n",
       "      <td>49</td>\n",
       "      <td>Stanisław</td>\n",
       "      <td>Wójcik</td>\n",
       "      <td>None</td>\n",
       "      <td>Ordynacka 10</td>\n",
       "      <td>Warsaw</td>\n",
       "      <td>None</td>\n",
       "      <td>Poland</td>\n",
       "      <td>00-358</td>\n",
       "      <td>+48 22 828 37 39</td>\n",
       "      <td>None</td>\n",
       "      <td>stanisław.wójcik@wp.pl</td>\n",
       "      <td>4</td>\n",
       "    </tr>\n",
       "    <tr>\n",
       "      <th>36</th>\n",
       "      <td>50</td>\n",
       "      <td>Enrique</td>\n",
       "      <td>Muñoz</td>\n",
       "      <td>None</td>\n",
       "      <td>C/ San Bernardo 85</td>\n",
       "      <td>Madrid</td>\n",
       "      <td>None</td>\n",
       "      <td>Spain</td>\n",
       "      <td>28015</td>\n",
       "      <td>+34 914 454 454</td>\n",
       "      <td>None</td>\n",
       "      <td>enrique_munoz@yahoo.es</td>\n",
       "      <td>5</td>\n",
       "    </tr>\n",
       "    <tr>\n",
       "      <th>37</th>\n",
       "      <td>51</td>\n",
       "      <td>Joakim</td>\n",
       "      <td>Johansson</td>\n",
       "      <td>None</td>\n",
       "      <td>Celsiusg. 9</td>\n",
       "      <td>Stockholm</td>\n",
       "      <td>None</td>\n",
       "      <td>Sweden</td>\n",
       "      <td>11230</td>\n",
       "      <td>+46 08-651 52 52</td>\n",
       "      <td>None</td>\n",
       "      <td>joakim.johansson@yahoo.se</td>\n",
       "      <td>5</td>\n",
       "    </tr>\n",
       "    <tr>\n",
       "      <th>38</th>\n",
       "      <td>52</td>\n",
       "      <td>Emma</td>\n",
       "      <td>Jones</td>\n",
       "      <td>None</td>\n",
       "      <td>202 Hoxton Street</td>\n",
       "      <td>London</td>\n",
       "      <td>None</td>\n",
       "      <td>United Kingdom</td>\n",
       "      <td>N1 5LH</td>\n",
       "      <td>+44 020 7707 0707</td>\n",
       "      <td>None</td>\n",
       "      <td>emma_jones@hotmail.com</td>\n",
       "      <td>3</td>\n",
       "    </tr>\n",
       "    <tr>\n",
       "      <th>39</th>\n",
       "      <td>53</td>\n",
       "      <td>Phil</td>\n",
       "      <td>Hughes</td>\n",
       "      <td>None</td>\n",
       "      <td>113 Lupus St</td>\n",
       "      <td>London</td>\n",
       "      <td>None</td>\n",
       "      <td>United Kingdom</td>\n",
       "      <td>SW1V 3EN</td>\n",
       "      <td>+44 020 7976 5722</td>\n",
       "      <td>None</td>\n",
       "      <td>phil.hughes@gmail.com</td>\n",
       "      <td>3</td>\n",
       "    </tr>\n",
       "    <tr>\n",
       "      <th>40</th>\n",
       "      <td>54</td>\n",
       "      <td>Steve</td>\n",
       "      <td>Murray</td>\n",
       "      <td>None</td>\n",
       "      <td>110 Raeburn Pl</td>\n",
       "      <td>Edinburgh</td>\n",
       "      <td>None</td>\n",
       "      <td>United Kingdom</td>\n",
       "      <td>EH4 1HH</td>\n",
       "      <td>+44 0131 315 3300</td>\n",
       "      <td>None</td>\n",
       "      <td>steve.murray@yahoo.uk</td>\n",
       "      <td>5</td>\n",
       "    </tr>\n",
       "    <tr>\n",
       "      <th>41</th>\n",
       "      <td>55</td>\n",
       "      <td>Mark</td>\n",
       "      <td>Taylor</td>\n",
       "      <td>None</td>\n",
       "      <td>421 Bourke Street</td>\n",
       "      <td>Sidney</td>\n",
       "      <td>NSW</td>\n",
       "      <td>Australia</td>\n",
       "      <td>2010</td>\n",
       "      <td>+61 (02) 9332 3633</td>\n",
       "      <td>None</td>\n",
       "      <td>mark.taylor@yahoo.au</td>\n",
       "      <td>4</td>\n",
       "    </tr>\n",
       "    <tr>\n",
       "      <th>42</th>\n",
       "      <td>56</td>\n",
       "      <td>Diego</td>\n",
       "      <td>Gutiérrez</td>\n",
       "      <td>None</td>\n",
       "      <td>307 Macacha Güemes</td>\n",
       "      <td>Buenos Aires</td>\n",
       "      <td>None</td>\n",
       "      <td>Argentina</td>\n",
       "      <td>1106</td>\n",
       "      <td>+54 (0)11 4311 4333</td>\n",
       "      <td>None</td>\n",
       "      <td>diego.gutierrez@yahoo.ar</td>\n",
       "      <td>4</td>\n",
       "    </tr>\n",
       "    <tr>\n",
       "      <th>43</th>\n",
       "      <td>57</td>\n",
       "      <td>Luis</td>\n",
       "      <td>Rojas</td>\n",
       "      <td>None</td>\n",
       "      <td>Calle Lira, 198</td>\n",
       "      <td>Santiago</td>\n",
       "      <td>None</td>\n",
       "      <td>Chile</td>\n",
       "      <td>None</td>\n",
       "      <td>+56 (0)2 635 4444</td>\n",
       "      <td>None</td>\n",
       "      <td>luisrojas@yahoo.cl</td>\n",
       "      <td>5</td>\n",
       "    </tr>\n",
       "    <tr>\n",
       "      <th>44</th>\n",
       "      <td>58</td>\n",
       "      <td>Manoj</td>\n",
       "      <td>Pareek</td>\n",
       "      <td>None</td>\n",
       "      <td>12,Community Centre</td>\n",
       "      <td>Delhi</td>\n",
       "      <td>None</td>\n",
       "      <td>India</td>\n",
       "      <td>110017</td>\n",
       "      <td>+91 0124 39883988</td>\n",
       "      <td>None</td>\n",
       "      <td>manoj.pareek@rediff.com</td>\n",
       "      <td>3</td>\n",
       "    </tr>\n",
       "    <tr>\n",
       "      <th>45</th>\n",
       "      <td>59</td>\n",
       "      <td>Puja</td>\n",
       "      <td>Srivastava</td>\n",
       "      <td>None</td>\n",
       "      <td>3,Raj Bhavan Road</td>\n",
       "      <td>Bangalore</td>\n",
       "      <td>None</td>\n",
       "      <td>India</td>\n",
       "      <td>560001</td>\n",
       "      <td>+91 080 22289999</td>\n",
       "      <td>None</td>\n",
       "      <td>puja_srivastava@yahoo.in</td>\n",
       "      <td>3</td>\n",
       "    </tr>\n",
       "  </tbody>\n",
       "</table>\n",
       "</div>"
      ],
      "text/plain": [
       "    CustomerId  FirstName      LastName  \\\n",
       "0            1       Luís     Gonçalves   \n",
       "1            2     Leonie        Köhler   \n",
       "2            3   François      Tremblay   \n",
       "3            4      Bjørn        Hansen   \n",
       "4            5  František   Wichterlová   \n",
       "5            6     Helena          Holý   \n",
       "6            7     Astrid        Gruber   \n",
       "7            8       Daan       Peeters   \n",
       "8            9       Kara       Nielsen   \n",
       "9           10    Eduardo       Martins   \n",
       "10          11  Alexandre         Rocha   \n",
       "11          12    Roberto       Almeida   \n",
       "12          13   Fernanda         Ramos   \n",
       "13          14       Mark       Philips   \n",
       "14          15   Jennifer      Peterson   \n",
       "15          29     Robert         Brown   \n",
       "16          30     Edward       Francis   \n",
       "17          31     Martha          Silk   \n",
       "18          32      Aaron      Mitchell   \n",
       "19          33      Ellie      Sullivan   \n",
       "20          34       João     Fernandes   \n",
       "21          35   Madalena       Sampaio   \n",
       "22          36     Hannah     Schneider   \n",
       "23          37       Fynn    Zimmermann   \n",
       "24          38     Niklas      Schröder   \n",
       "25          39    Camille       Bernard   \n",
       "26          40  Dominique      Lefebvre   \n",
       "27          41       Marc        Dubois   \n",
       "28          42      Wyatt        Girard   \n",
       "29          43   Isabelle       Mercier   \n",
       "30          44      Terhi    Hämäläinen   \n",
       "31          45   Ladislav        Kovács   \n",
       "32          46       Hugh      O'Reilly   \n",
       "33          47      Lucas       Mancini   \n",
       "34          48   Johannes  Van der Berg   \n",
       "35          49  Stanisław        Wójcik   \n",
       "36          50    Enrique         Muñoz   \n",
       "37          51     Joakim     Johansson   \n",
       "38          52       Emma         Jones   \n",
       "39          53       Phil        Hughes   \n",
       "40          54      Steve        Murray   \n",
       "41          55       Mark        Taylor   \n",
       "42          56      Diego     Gutiérrez   \n",
       "43          57       Luis         Rojas   \n",
       "44          58      Manoj        Pareek   \n",
       "45          59       Puja    Srivastava   \n",
       "\n",
       "                                             Company  \\\n",
       "0   Embraer - Empresa Brasileira de Aeronáutica S.A.   \n",
       "1                                               None   \n",
       "2                                               None   \n",
       "3                                               None   \n",
       "4                                   JetBrains s.r.o.   \n",
       "5                                               None   \n",
       "6                                               None   \n",
       "7                                               None   \n",
       "8                                               None   \n",
       "9                                   Woodstock Discos   \n",
       "10                              Banco do Brasil S.A.   \n",
       "11                                            Riotur   \n",
       "12                                              None   \n",
       "13                                             Telus   \n",
       "14                                     Rogers Canada   \n",
       "15                                              None   \n",
       "16                                              None   \n",
       "17                                              None   \n",
       "18                                              None   \n",
       "19                                              None   \n",
       "20                                              None   \n",
       "21                                              None   \n",
       "22                                              None   \n",
       "23                                              None   \n",
       "24                                              None   \n",
       "25                                              None   \n",
       "26                                              None   \n",
       "27                                              None   \n",
       "28                                              None   \n",
       "29                                              None   \n",
       "30                                              None   \n",
       "31                                              None   \n",
       "32                                              None   \n",
       "33                                              None   \n",
       "34                                              None   \n",
       "35                                              None   \n",
       "36                                              None   \n",
       "37                                              None   \n",
       "38                                              None   \n",
       "39                                              None   \n",
       "40                                              None   \n",
       "41                                              None   \n",
       "42                                              None   \n",
       "43                                              None   \n",
       "44                                              None   \n",
       "45                                              None   \n",
       "\n",
       "                                     Address                 City   State  \\\n",
       "0            Av. Brigadeiro Faria Lima, 2170  São José dos Campos      SP   \n",
       "1                    Theodor-Heuss-Straße 34            Stuttgart    None   \n",
       "2                          1498 rue Bélanger             Montréal      QC   \n",
       "3                           Ullevålsveien 14                 Oslo    None   \n",
       "4                              Klanova 9/506               Prague    None   \n",
       "5                              Rilská 3174/6               Prague    None   \n",
       "6       Rotenturmstraße 4, 1010 Innere Stadt               Vienne    None   \n",
       "7                            Grétrystraat 63             Brussels    None   \n",
       "8                        Sønder Boulevard 51           Copenhagen    None   \n",
       "9                  Rua Dr. Falcão Filho, 155            São Paulo      SP   \n",
       "10                        Av. Paulista, 2022            São Paulo      SP   \n",
       "11                          Praça Pio X, 119       Rio de Janeiro      RJ   \n",
       "12                              Qe 7 Bloco G             Brasília      DF   \n",
       "13                            8210 111 ST NW             Edmonton      AB   \n",
       "14                       700 W Pender Street            Vancouver      BC   \n",
       "15                    796 Dundas Street West              Toronto      ON   \n",
       "16                          230 Elgin Street               Ottawa      ON   \n",
       "17                     194A Chain Lake Drive              Halifax      NS   \n",
       "18                        696 Osborne Street             Winnipeg      MB   \n",
       "19                            5112 48 Street          Yellowknife      NT   \n",
       "20                        Rua da Assunção 53               Lisbon    None   \n",
       "21  Rua dos Campeões Europeus de Viena, 4350                Porto    None   \n",
       "22                        Tauentzienstraße 8               Berlin    None   \n",
       "23                          Berger Straße 10            Frankfurt    None   \n",
       "24                       Barbarossastraße 19               Berlin    None   \n",
       "25                             4, Rue Milton                Paris    None   \n",
       "26                            8, Rue Hanovre                Paris    None   \n",
       "27                       11, Place Bellecour                 Lyon    None   \n",
       "28                    9, Place Louis Barthou             Bordeaux    None   \n",
       "29                          68, Rue Jouvence                Dijon    None   \n",
       "30                           Porthaninkatu 9             Helsinki    None   \n",
       "31                         Erzsébet krt. 58.             Budapest    None   \n",
       "32                          3 Chatham Street               Dublin  Dublin   \n",
       "33                    Via Degli Scipioni, 43                 Rome      RM   \n",
       "34                     Lijnbaansgracht 120bg            Amsterdam      VV   \n",
       "35                              Ordynacka 10               Warsaw    None   \n",
       "36                        C/ San Bernardo 85               Madrid    None   \n",
       "37                               Celsiusg. 9            Stockholm    None   \n",
       "38                         202 Hoxton Street               London    None   \n",
       "39                              113 Lupus St               London    None   \n",
       "40                            110 Raeburn Pl           Edinburgh     None   \n",
       "41                         421 Bourke Street               Sidney     NSW   \n",
       "42                        307 Macacha Güemes         Buenos Aires    None   \n",
       "43                           Calle Lira, 198             Santiago    None   \n",
       "44                       12,Community Centre                Delhi    None   \n",
       "45                         3,Raj Bhavan Road            Bangalore    None   \n",
       "\n",
       "           Country PostalCode                Phone                 Fax  \\\n",
       "0           Brazil  12227-000   +55 (12) 3923-5555  +55 (12) 3923-5566   \n",
       "1          Germany      70174     +49 0711 2842222                None   \n",
       "2           Canada    H2G 1A7    +1 (514) 721-4711                None   \n",
       "3           Norway       0171      +47 22 44 22 22                None   \n",
       "4   Czech Republic      14700     +420 2 4172 5555    +420 2 4172 5555   \n",
       "5   Czech Republic      14300     +420 2 4177 0449                None   \n",
       "6          Austria       1010       +43 01 5134505                None   \n",
       "7          Belgium       1000     +32 02 219 03 03                None   \n",
       "8          Denmark       1720       +453 3331 9991                None   \n",
       "9           Brazil  01007-010   +55 (11) 3033-5446  +55 (11) 3033-4564   \n",
       "10          Brazil  01310-200   +55 (11) 3055-3278  +55 (11) 3055-8131   \n",
       "11          Brazil  20040-020   +55 (21) 2271-7000  +55 (21) 2271-7070   \n",
       "12          Brazil  71020-677   +55 (61) 3363-5547  +55 (61) 3363-7855   \n",
       "13          Canada    T6G 2C7    +1 (780) 434-4554   +1 (780) 434-5565   \n",
       "14          Canada    V6C 1G8    +1 (604) 688-2255   +1 (604) 688-8756   \n",
       "15          Canada    M6J 1V1    +1 (416) 363-8888                None   \n",
       "16          Canada    K2P 1L7    +1 (613) 234-3322                None   \n",
       "17          Canada    B3S 1C5    +1 (902) 450-0450                None   \n",
       "18          Canada    R3L 2B9    +1 (204) 452-6452                None   \n",
       "19          Canada    X1A 1N6    +1 (867) 920-2233                None   \n",
       "20        Portugal       None   +351 (213) 466-111                None   \n",
       "21        Portugal       None   +351 (225) 022-448                None   \n",
       "22         Germany      10789     +49 030 26550280                None   \n",
       "23         Germany      60316     +49 069 40598889                None   \n",
       "24         Germany      10779      +49 030 2141444                None   \n",
       "25          France      75009   +33 01 49 70 65 65                None   \n",
       "26          France      75002   +33 01 47 42 71 71                None   \n",
       "27          France      69002   +33 04 78 30 30 30                None   \n",
       "28          France      33000   +33 05 56 96 96 96                None   \n",
       "29          France      21000   +33 03 80 73 66 99                None   \n",
       "30         Finland      00530     +358 09 870 2000                None   \n",
       "31         Hungary     H-1073                 None                None   \n",
       "32         Ireland       None      +353 01 6792424                None   \n",
       "33           Italy      00192      +39 06 39733434                None   \n",
       "34     Netherlands       1016      +31 020 6223130                None   \n",
       "35          Poland     00-358     +48 22 828 37 39                None   \n",
       "36           Spain      28015      +34 914 454 454                None   \n",
       "37          Sweden      11230     +46 08-651 52 52                None   \n",
       "38  United Kingdom     N1 5LH    +44 020 7707 0707                None   \n",
       "39  United Kingdom   SW1V 3EN    +44 020 7976 5722                None   \n",
       "40  United Kingdom    EH4 1HH    +44 0131 315 3300                None   \n",
       "41       Australia       2010   +61 (02) 9332 3633                None   \n",
       "42       Argentina       1106  +54 (0)11 4311 4333                None   \n",
       "43           Chile       None    +56 (0)2 635 4444                None   \n",
       "44           India     110017    +91 0124 39883988                None   \n",
       "45           India     560001     +91 080 22289999                None   \n",
       "\n",
       "                            Email  SupportRepId  \n",
       "0            luisg@embraer.com.br             3  \n",
       "1           leonekohler@surfeu.de             5  \n",
       "2             ftremblay@gmail.com             3  \n",
       "3           bjorn.hansen@yahoo.no             4  \n",
       "4        frantisekw@jetbrains.com             4  \n",
       "5                 hholy@gmail.com             5  \n",
       "6          astrid.gruber@apple.at             5  \n",
       "7           daan_peeters@apple.be             4  \n",
       "8           kara.nielsen@jubii.dk             4  \n",
       "9        eduardo@woodstock.com.br             4  \n",
       "10               alero@uol.com.br             5  \n",
       "11  roberto.almeida@riotur.gov.br             3  \n",
       "12       fernadaramos4@uol.com.br             4  \n",
       "13             mphilips12@shaw.ca             5  \n",
       "14            jenniferp@rogers.ca             3  \n",
       "15               robbrown@shaw.ca             3  \n",
       "16            edfrancis@yachoo.ca             3  \n",
       "17           marthasilk@gmail.com             5  \n",
       "18         aaronmitchell@yahoo.ca             4  \n",
       "19         ellie.sullivan@shaw.ca             3  \n",
       "20            jfernandes@yahoo.pt             4  \n",
       "21              masampaio@sapo.pt             4  \n",
       "22      hannah.schneider@yahoo.de             5  \n",
       "23           fzimmermann@yahoo.de             3  \n",
       "24            nschroder@surfeu.de             3  \n",
       "25       camille.bernard@yahoo.fr             4  \n",
       "26    dominiquelefebvre@gmail.com             4  \n",
       "27        marc.dubois@hotmail.com             5  \n",
       "28          wyatt.girard@yahoo.fr             3  \n",
       "29      isabelle_mercier@apple.fr             3  \n",
       "30      terhi.hamalainen@apple.fi             3  \n",
       "31       ladislav_kovacs@apple.hu             3  \n",
       "32           hughoreilly@apple.ie             3  \n",
       "33         lucas.mancini@yahoo.it             5  \n",
       "34        johavanderberg@yahoo.nl             5  \n",
       "35         stanisław.wójcik@wp.pl             4  \n",
       "36         enrique_munoz@yahoo.es             5  \n",
       "37      joakim.johansson@yahoo.se             5  \n",
       "38         emma_jones@hotmail.com             3  \n",
       "39          phil.hughes@gmail.com             3  \n",
       "40          steve.murray@yahoo.uk             5  \n",
       "41           mark.taylor@yahoo.au             4  \n",
       "42       diego.gutierrez@yahoo.ar             4  \n",
       "43             luisrojas@yahoo.cl             5  \n",
       "44        manoj.pareek@rediff.com             3  \n",
       "45       puja_srivastava@yahoo.in             3  "
      ]
     },
     "execution_count": 35,
     "metadata": {},
     "output_type": "execute_result"
    }
   ],
   "source": [
    "# 4 Obtén los campos de los clientes que no sean de USA: Nombre completo, ID, País\n",
    "\n",
    "query = '''\n",
    "SELECT * FROM customers  \n",
    "WHERE Country != 'USA';  \n",
    "'''\n",
    "\n",
    "df = sql_query(query)\n",
    "df"
   ]
  },
  {
   "cell_type": "code",
   "execution_count": 36,
   "metadata": {},
   "outputs": [
    {
     "data": {
      "application/vnd.microsoft.datawrangler.viewer.v0+json": {
       "columns": [
        {
         "name": "index",
         "rawType": "int64",
         "type": "integer"
        },
        {
         "name": "EmployeeId",
         "rawType": "int64",
         "type": "integer"
        },
        {
         "name": "LastName",
         "rawType": "object",
         "type": "string"
        },
        {
         "name": "FirstName",
         "rawType": "object",
         "type": "string"
        },
        {
         "name": "Title",
         "rawType": "object",
         "type": "string"
        },
        {
         "name": "ReportsTo",
         "rawType": "int64",
         "type": "integer"
        },
        {
         "name": "BirthDate",
         "rawType": "object",
         "type": "string"
        },
        {
         "name": "HireDate",
         "rawType": "object",
         "type": "string"
        },
        {
         "name": "Address",
         "rawType": "object",
         "type": "string"
        },
        {
         "name": "City",
         "rawType": "object",
         "type": "string"
        },
        {
         "name": "State",
         "rawType": "object",
         "type": "string"
        },
        {
         "name": "Country",
         "rawType": "object",
         "type": "string"
        },
        {
         "name": "PostalCode",
         "rawType": "object",
         "type": "string"
        },
        {
         "name": "Phone",
         "rawType": "object",
         "type": "string"
        },
        {
         "name": "Fax",
         "rawType": "object",
         "type": "string"
        },
        {
         "name": "Email",
         "rawType": "object",
         "type": "string"
        }
       ],
       "conversionMethod": "pd.DataFrame",
       "ref": "00b18a28-fc6b-4dcf-93dc-db859ebd4e23",
       "rows": [
        [
         "0",
         "3",
         "Peacock",
         "Jane",
         "Sales Support Agent",
         "2",
         "1973-08-29 00:00:00",
         "2002-04-01 00:00:00",
         "1111 6 Ave SW",
         "Calgary",
         "AB",
         "Canada",
         "T2P 5M5",
         "+1 (403) 262-3443",
         "+1 (403) 262-6712",
         "jane@chinookcorp.com"
        ],
        [
         "1",
         "4",
         "Park",
         "Margaret",
         "Sales Support Agent",
         "2",
         "1947-09-19 00:00:00",
         "2003-05-03 00:00:00",
         "683 10 Street SW",
         "Calgary",
         "AB",
         "Canada",
         "T2P 5G3",
         "+1 (403) 263-4423",
         "+1 (403) 263-4289",
         "margaret@chinookcorp.com"
        ],
        [
         "2",
         "5",
         "Johnson",
         "Steve",
         "Sales Support Agent",
         "2",
         "1965-03-03 00:00:00",
         "2003-10-17 00:00:00",
         "7727B 41 Ave",
         "Calgary",
         "AB",
         "Canada",
         "T3B 1Y7",
         "1 (780) 836-9987",
         "1 (780) 836-9543",
         "steve@chinookcorp.com"
        ]
       ],
       "shape": {
        "columns": 15,
        "rows": 3
       }
      },
      "text/html": [
       "<div>\n",
       "<style scoped>\n",
       "    .dataframe tbody tr th:only-of-type {\n",
       "        vertical-align: middle;\n",
       "    }\n",
       "\n",
       "    .dataframe tbody tr th {\n",
       "        vertical-align: top;\n",
       "    }\n",
       "\n",
       "    .dataframe thead th {\n",
       "        text-align: right;\n",
       "    }\n",
       "</style>\n",
       "<table border=\"1\" class=\"dataframe\">\n",
       "  <thead>\n",
       "    <tr style=\"text-align: right;\">\n",
       "      <th></th>\n",
       "      <th>EmployeeId</th>\n",
       "      <th>LastName</th>\n",
       "      <th>FirstName</th>\n",
       "      <th>Title</th>\n",
       "      <th>ReportsTo</th>\n",
       "      <th>BirthDate</th>\n",
       "      <th>HireDate</th>\n",
       "      <th>Address</th>\n",
       "      <th>City</th>\n",
       "      <th>State</th>\n",
       "      <th>Country</th>\n",
       "      <th>PostalCode</th>\n",
       "      <th>Phone</th>\n",
       "      <th>Fax</th>\n",
       "      <th>Email</th>\n",
       "    </tr>\n",
       "  </thead>\n",
       "  <tbody>\n",
       "    <tr>\n",
       "      <th>0</th>\n",
       "      <td>3</td>\n",
       "      <td>Peacock</td>\n",
       "      <td>Jane</td>\n",
       "      <td>Sales Support Agent</td>\n",
       "      <td>2</td>\n",
       "      <td>1973-08-29 00:00:00</td>\n",
       "      <td>2002-04-01 00:00:00</td>\n",
       "      <td>1111 6 Ave SW</td>\n",
       "      <td>Calgary</td>\n",
       "      <td>AB</td>\n",
       "      <td>Canada</td>\n",
       "      <td>T2P 5M5</td>\n",
       "      <td>+1 (403) 262-3443</td>\n",
       "      <td>+1 (403) 262-6712</td>\n",
       "      <td>jane@chinookcorp.com</td>\n",
       "    </tr>\n",
       "    <tr>\n",
       "      <th>1</th>\n",
       "      <td>4</td>\n",
       "      <td>Park</td>\n",
       "      <td>Margaret</td>\n",
       "      <td>Sales Support Agent</td>\n",
       "      <td>2</td>\n",
       "      <td>1947-09-19 00:00:00</td>\n",
       "      <td>2003-05-03 00:00:00</td>\n",
       "      <td>683 10 Street SW</td>\n",
       "      <td>Calgary</td>\n",
       "      <td>AB</td>\n",
       "      <td>Canada</td>\n",
       "      <td>T2P 5G3</td>\n",
       "      <td>+1 (403) 263-4423</td>\n",
       "      <td>+1 (403) 263-4289</td>\n",
       "      <td>margaret@chinookcorp.com</td>\n",
       "    </tr>\n",
       "    <tr>\n",
       "      <th>2</th>\n",
       "      <td>5</td>\n",
       "      <td>Johnson</td>\n",
       "      <td>Steve</td>\n",
       "      <td>Sales Support Agent</td>\n",
       "      <td>2</td>\n",
       "      <td>1965-03-03 00:00:00</td>\n",
       "      <td>2003-10-17 00:00:00</td>\n",
       "      <td>7727B 41 Ave</td>\n",
       "      <td>Calgary</td>\n",
       "      <td>AB</td>\n",
       "      <td>Canada</td>\n",
       "      <td>T3B 1Y7</td>\n",
       "      <td>1 (780) 836-9987</td>\n",
       "      <td>1 (780) 836-9543</td>\n",
       "      <td>steve@chinookcorp.com</td>\n",
       "    </tr>\n",
       "  </tbody>\n",
       "</table>\n",
       "</div>"
      ],
      "text/plain": [
       "   EmployeeId LastName FirstName                Title  ReportsTo  \\\n",
       "0           3  Peacock      Jane  Sales Support Agent          2   \n",
       "1           4     Park  Margaret  Sales Support Agent          2   \n",
       "2           5  Johnson     Steve  Sales Support Agent          2   \n",
       "\n",
       "             BirthDate             HireDate           Address     City State  \\\n",
       "0  1973-08-29 00:00:00  2002-04-01 00:00:00     1111 6 Ave SW  Calgary    AB   \n",
       "1  1947-09-19 00:00:00  2003-05-03 00:00:00  683 10 Street SW  Calgary    AB   \n",
       "2  1965-03-03 00:00:00  2003-10-17 00:00:00      7727B 41 Ave  Calgary    AB   \n",
       "\n",
       "  Country PostalCode              Phone                Fax  \\\n",
       "0  Canada    T2P 5M5  +1 (403) 262-3443  +1 (403) 262-6712   \n",
       "1  Canada    T2P 5G3  +1 (403) 263-4423  +1 (403) 263-4289   \n",
       "2  Canada    T3B 1Y7   1 (780) 836-9987   1 (780) 836-9543   \n",
       "\n",
       "                      Email  \n",
       "0      jane@chinookcorp.com  \n",
       "1  margaret@chinookcorp.com  \n",
       "2     steve@chinookcorp.com  "
      ]
     },
     "execution_count": 36,
     "metadata": {},
     "output_type": "execute_result"
    }
   ],
   "source": [
    "# 5 Obtén los empleados que son agentes de ventas: Nombre completo, Dirección (Ciudad, Estado, País) y email\n",
    "\n",
    "query = '''\n",
    "SELECT * FROM employees  \n",
    "WHERE Title = \"Sales Support Agent\";  \n",
    "'''\n",
    "\n",
    "df = sql_query(query)\n",
    "df"
   ]
  },
  {
   "cell_type": "code",
   "execution_count": 37,
   "metadata": {},
   "outputs": [
    {
     "data": {
      "application/vnd.microsoft.datawrangler.viewer.v0+json": {
       "columns": [
        {
         "name": "index",
         "rawType": "int64",
         "type": "integer"
        },
        {
         "name": "BillingCountry",
         "rawType": "object",
         "type": "string"
        }
       ],
       "conversionMethod": "pd.DataFrame",
       "ref": "6cbd7a35-af20-405e-baca-333f4f5360e4",
       "rows": [
        [
         "0",
         "Germany"
        ],
        [
         "1",
         "Norway"
        ],
        [
         "2",
         "Belgium"
        ],
        [
         "3",
         "Canada"
        ],
        [
         "4",
         "USA"
        ],
        [
         "5",
         "France"
        ],
        [
         "6",
         "Ireland"
        ],
        [
         "7",
         "United Kingdom"
        ],
        [
         "8",
         "Australia"
        ],
        [
         "9",
         "Chile"
        ],
        [
         "10",
         "India"
        ],
        [
         "11",
         "Brazil"
        ],
        [
         "12",
         "Portugal"
        ],
        [
         "13",
         "Netherlands"
        ],
        [
         "14",
         "Spain"
        ],
        [
         "15",
         "Sweden"
        ],
        [
         "16",
         "Czech Republic"
        ],
        [
         "17",
         "Finland"
        ],
        [
         "18",
         "Denmark"
        ],
        [
         "19",
         "Italy"
        ],
        [
         "20",
         "Poland"
        ],
        [
         "21",
         "Austria"
        ],
        [
         "22",
         "Hungary"
        ],
        [
         "23",
         "Argentina"
        ]
       ],
       "shape": {
        "columns": 1,
        "rows": 24
       }
      },
      "text/html": [
       "<div>\n",
       "<style scoped>\n",
       "    .dataframe tbody tr th:only-of-type {\n",
       "        vertical-align: middle;\n",
       "    }\n",
       "\n",
       "    .dataframe tbody tr th {\n",
       "        vertical-align: top;\n",
       "    }\n",
       "\n",
       "    .dataframe thead th {\n",
       "        text-align: right;\n",
       "    }\n",
       "</style>\n",
       "<table border=\"1\" class=\"dataframe\">\n",
       "  <thead>\n",
       "    <tr style=\"text-align: right;\">\n",
       "      <th></th>\n",
       "      <th>BillingCountry</th>\n",
       "    </tr>\n",
       "  </thead>\n",
       "  <tbody>\n",
       "    <tr>\n",
       "      <th>0</th>\n",
       "      <td>Germany</td>\n",
       "    </tr>\n",
       "    <tr>\n",
       "      <th>1</th>\n",
       "      <td>Norway</td>\n",
       "    </tr>\n",
       "    <tr>\n",
       "      <th>2</th>\n",
       "      <td>Belgium</td>\n",
       "    </tr>\n",
       "    <tr>\n",
       "      <th>3</th>\n",
       "      <td>Canada</td>\n",
       "    </tr>\n",
       "    <tr>\n",
       "      <th>4</th>\n",
       "      <td>USA</td>\n",
       "    </tr>\n",
       "    <tr>\n",
       "      <th>5</th>\n",
       "      <td>France</td>\n",
       "    </tr>\n",
       "    <tr>\n",
       "      <th>6</th>\n",
       "      <td>Ireland</td>\n",
       "    </tr>\n",
       "    <tr>\n",
       "      <th>7</th>\n",
       "      <td>United Kingdom</td>\n",
       "    </tr>\n",
       "    <tr>\n",
       "      <th>8</th>\n",
       "      <td>Australia</td>\n",
       "    </tr>\n",
       "    <tr>\n",
       "      <th>9</th>\n",
       "      <td>Chile</td>\n",
       "    </tr>\n",
       "    <tr>\n",
       "      <th>10</th>\n",
       "      <td>India</td>\n",
       "    </tr>\n",
       "    <tr>\n",
       "      <th>11</th>\n",
       "      <td>Brazil</td>\n",
       "    </tr>\n",
       "    <tr>\n",
       "      <th>12</th>\n",
       "      <td>Portugal</td>\n",
       "    </tr>\n",
       "    <tr>\n",
       "      <th>13</th>\n",
       "      <td>Netherlands</td>\n",
       "    </tr>\n",
       "    <tr>\n",
       "      <th>14</th>\n",
       "      <td>Spain</td>\n",
       "    </tr>\n",
       "    <tr>\n",
       "      <th>15</th>\n",
       "      <td>Sweden</td>\n",
       "    </tr>\n",
       "    <tr>\n",
       "      <th>16</th>\n",
       "      <td>Czech Republic</td>\n",
       "    </tr>\n",
       "    <tr>\n",
       "      <th>17</th>\n",
       "      <td>Finland</td>\n",
       "    </tr>\n",
       "    <tr>\n",
       "      <th>18</th>\n",
       "      <td>Denmark</td>\n",
       "    </tr>\n",
       "    <tr>\n",
       "      <th>19</th>\n",
       "      <td>Italy</td>\n",
       "    </tr>\n",
       "    <tr>\n",
       "      <th>20</th>\n",
       "      <td>Poland</td>\n",
       "    </tr>\n",
       "    <tr>\n",
       "      <th>21</th>\n",
       "      <td>Austria</td>\n",
       "    </tr>\n",
       "    <tr>\n",
       "      <th>22</th>\n",
       "      <td>Hungary</td>\n",
       "    </tr>\n",
       "    <tr>\n",
       "      <th>23</th>\n",
       "      <td>Argentina</td>\n",
       "    </tr>\n",
       "  </tbody>\n",
       "</table>\n",
       "</div>"
      ],
      "text/plain": [
       "    BillingCountry\n",
       "0          Germany\n",
       "1           Norway\n",
       "2          Belgium\n",
       "3           Canada\n",
       "4              USA\n",
       "5           France\n",
       "6          Ireland\n",
       "7   United Kingdom\n",
       "8        Australia\n",
       "9            Chile\n",
       "10           India\n",
       "11          Brazil\n",
       "12        Portugal\n",
       "13     Netherlands\n",
       "14           Spain\n",
       "15          Sweden\n",
       "16  Czech Republic\n",
       "17         Finland\n",
       "18         Denmark\n",
       "19           Italy\n",
       "20          Poland\n",
       "21         Austria\n",
       "22         Hungary\n",
       "23       Argentina"
      ]
     },
     "execution_count": 37,
     "metadata": {},
     "output_type": "execute_result"
    }
   ],
   "source": [
    "# 6 Obtén una lista con los países no repetidos a los que se han emitido facturas\n",
    "\n",
    "query = '''\n",
    "SELECT DISTINCT BillingCountry\n",
    "FROM invoices;\n",
    "'''\n",
    "\n",
    "df = sql_query(query)\n",
    "df"
   ]
  },
  {
   "cell_type": "code",
   "execution_count": 38,
   "metadata": {},
   "outputs": [
    {
     "data": {
      "application/vnd.microsoft.datawrangler.viewer.v0+json": {
       "columns": [
        {
         "name": "index",
         "rawType": "int64",
         "type": "integer"
        },
        {
         "name": "State",
         "rawType": "object",
         "type": "string"
        },
        {
         "name": "NumberOfCustomers",
         "rawType": "int64",
         "type": "integer"
        }
       ],
       "conversionMethod": "pd.DataFrame",
       "ref": "4a78efe5-f812-4d8f-bb91-f13b461f3366",
       "rows": [
        [
         "0",
         "AZ",
         "1"
        ],
        [
         "1",
         "CA",
         "3"
        ],
        [
         "2",
         "FL",
         "1"
        ],
        [
         "3",
         "IL",
         "1"
        ],
        [
         "4",
         "MA",
         "1"
        ],
        [
         "5",
         "NV",
         "1"
        ],
        [
         "6",
         "NY",
         "1"
        ],
        [
         "7",
         "TX",
         "1"
        ],
        [
         "8",
         "UT",
         "1"
        ],
        [
         "9",
         "WA",
         "1"
        ],
        [
         "10",
         "WI",
         "1"
        ]
       ],
       "shape": {
        "columns": 2,
        "rows": 11
       }
      },
      "text/html": [
       "<div>\n",
       "<style scoped>\n",
       "    .dataframe tbody tr th:only-of-type {\n",
       "        vertical-align: middle;\n",
       "    }\n",
       "\n",
       "    .dataframe tbody tr th {\n",
       "        vertical-align: top;\n",
       "    }\n",
       "\n",
       "    .dataframe thead th {\n",
       "        text-align: right;\n",
       "    }\n",
       "</style>\n",
       "<table border=\"1\" class=\"dataframe\">\n",
       "  <thead>\n",
       "    <tr style=\"text-align: right;\">\n",
       "      <th></th>\n",
       "      <th>State</th>\n",
       "      <th>NumberOfCustomers</th>\n",
       "    </tr>\n",
       "  </thead>\n",
       "  <tbody>\n",
       "    <tr>\n",
       "      <th>0</th>\n",
       "      <td>AZ</td>\n",
       "      <td>1</td>\n",
       "    </tr>\n",
       "    <tr>\n",
       "      <th>1</th>\n",
       "      <td>CA</td>\n",
       "      <td>3</td>\n",
       "    </tr>\n",
       "    <tr>\n",
       "      <th>2</th>\n",
       "      <td>FL</td>\n",
       "      <td>1</td>\n",
       "    </tr>\n",
       "    <tr>\n",
       "      <th>3</th>\n",
       "      <td>IL</td>\n",
       "      <td>1</td>\n",
       "    </tr>\n",
       "    <tr>\n",
       "      <th>4</th>\n",
       "      <td>MA</td>\n",
       "      <td>1</td>\n",
       "    </tr>\n",
       "    <tr>\n",
       "      <th>5</th>\n",
       "      <td>NV</td>\n",
       "      <td>1</td>\n",
       "    </tr>\n",
       "    <tr>\n",
       "      <th>6</th>\n",
       "      <td>NY</td>\n",
       "      <td>1</td>\n",
       "    </tr>\n",
       "    <tr>\n",
       "      <th>7</th>\n",
       "      <td>TX</td>\n",
       "      <td>1</td>\n",
       "    </tr>\n",
       "    <tr>\n",
       "      <th>8</th>\n",
       "      <td>UT</td>\n",
       "      <td>1</td>\n",
       "    </tr>\n",
       "    <tr>\n",
       "      <th>9</th>\n",
       "      <td>WA</td>\n",
       "      <td>1</td>\n",
       "    </tr>\n",
       "    <tr>\n",
       "      <th>10</th>\n",
       "      <td>WI</td>\n",
       "      <td>1</td>\n",
       "    </tr>\n",
       "  </tbody>\n",
       "</table>\n",
       "</div>"
      ],
      "text/plain": [
       "   State  NumberOfCustomers\n",
       "0     AZ                  1\n",
       "1     CA                  3\n",
       "2     FL                  1\n",
       "3     IL                  1\n",
       "4     MA                  1\n",
       "5     NV                  1\n",
       "6     NY                  1\n",
       "7     TX                  1\n",
       "8     UT                  1\n",
       "9     WA                  1\n",
       "10    WI                  1"
      ]
     },
     "execution_count": 38,
     "metadata": {},
     "output_type": "execute_result"
    }
   ],
   "source": [
    "# 7 Obtén una lista con los estados de USA no repetidos de donde son los clientes y cuántos clientes en cada uno.\n",
    "# revisar\n",
    "query = '''\n",
    "SELECT State, COUNT(*) AS NumberOfCustomers\n",
    "FROM customers  \n",
    "WHERE Country = 'USA'  \n",
    "GROUP BY State;\n",
    "\n",
    "'''\n",
    "\n",
    "df = sql_query(query)\n",
    "df"
   ]
  },
  {
   "cell_type": "code",
   "execution_count": 39,
   "metadata": {},
   "outputs": [
    {
     "data": {
      "application/vnd.microsoft.datawrangler.viewer.v0+json": {
       "columns": [
        {
         "name": "index",
         "rawType": "int64",
         "type": "integer"
        },
        {
         "name": "InvoiceId",
         "rawType": "int64",
         "type": "integer"
        },
        {
         "name": "Quantity",
         "rawType": "int64",
         "type": "integer"
        }
       ],
       "conversionMethod": "pd.DataFrame",
       "ref": "e7056d7d-be19-478c-a0a6-c90e1a4e1763",
       "rows": [
        [
         "0",
         "37",
         "4"
        ]
       ],
       "shape": {
        "columns": 2,
        "rows": 1
       }
      },
      "text/html": [
       "<div>\n",
       "<style scoped>\n",
       "    .dataframe tbody tr th:only-of-type {\n",
       "        vertical-align: middle;\n",
       "    }\n",
       "\n",
       "    .dataframe tbody tr th {\n",
       "        vertical-align: top;\n",
       "    }\n",
       "\n",
       "    .dataframe thead th {\n",
       "        text-align: right;\n",
       "    }\n",
       "</style>\n",
       "<table border=\"1\" class=\"dataframe\">\n",
       "  <thead>\n",
       "    <tr style=\"text-align: right;\">\n",
       "      <th></th>\n",
       "      <th>InvoiceId</th>\n",
       "      <th>Quantity</th>\n",
       "    </tr>\n",
       "  </thead>\n",
       "  <tbody>\n",
       "    <tr>\n",
       "      <th>0</th>\n",
       "      <td>37</td>\n",
       "      <td>4</td>\n",
       "    </tr>\n",
       "  </tbody>\n",
       "</table>\n",
       "</div>"
      ],
      "text/plain": [
       "   InvoiceId  Quantity\n",
       "0         37         4"
      ]
     },
     "execution_count": 39,
     "metadata": {},
     "output_type": "execute_result"
    }
   ],
   "source": [
    "# 8 Cuántos artículos tiene la factura 37\n",
    "\n",
    "query = '''\n",
    "SELECT invoiceId, COUNT (*) AS Quantity FROM invoice_items\n",
    "WHERE InvoiceId = 37\n",
    "'''\n",
    "\n",
    "df = sql_query(query)\n",
    "df"
   ]
  },
  {
   "cell_type": "code",
   "execution_count": 40,
   "metadata": {},
   "outputs": [
    {
     "data": {
      "application/vnd.microsoft.datawrangler.viewer.v0+json": {
       "columns": [
        {
         "name": "index",
         "rawType": "int64",
         "type": "integer"
        },
        {
         "name": "InvoiceId",
         "rawType": "int64",
         "type": "integer"
        },
        {
         "name": "Quantity",
         "rawType": "int64",
         "type": "integer"
        }
       ],
       "conversionMethod": "pd.DataFrame",
       "ref": "d0a1a37b-4698-4a65-b045-27c053b83fea",
       "rows": [
        [
         "0",
         "37",
         "4"
        ]
       ],
       "shape": {
        "columns": 2,
        "rows": 1
       }
      },
      "text/html": [
       "<div>\n",
       "<style scoped>\n",
       "    .dataframe tbody tr th:only-of-type {\n",
       "        vertical-align: middle;\n",
       "    }\n",
       "\n",
       "    .dataframe tbody tr th {\n",
       "        vertical-align: top;\n",
       "    }\n",
       "\n",
       "    .dataframe thead th {\n",
       "        text-align: right;\n",
       "    }\n",
       "</style>\n",
       "<table border=\"1\" class=\"dataframe\">\n",
       "  <thead>\n",
       "    <tr style=\"text-align: right;\">\n",
       "      <th></th>\n",
       "      <th>InvoiceId</th>\n",
       "      <th>Quantity</th>\n",
       "    </tr>\n",
       "  </thead>\n",
       "  <tbody>\n",
       "    <tr>\n",
       "      <th>0</th>\n",
       "      <td>37</td>\n",
       "      <td>4</td>\n",
       "    </tr>\n",
       "  </tbody>\n",
       "</table>\n",
       "</div>"
      ],
      "text/plain": [
       "   InvoiceId  Quantity\n",
       "0         37         4"
      ]
     },
     "execution_count": 40,
     "metadata": {},
     "output_type": "execute_result"
    }
   ],
   "source": [
    "## TODO\n",
    "# 9 Cuántas canciones tiene ‘AC/DC’\n",
    "\n",
    "query = '''\n",
    "SELECT invoiceId, COUNT (*) AS Quantity FROM invoice_items\n",
    "WHERE InvoiceId = 37\n",
    "'''\n",
    "\n",
    "df = sql_query(query)\n",
    "df"
   ]
  },
  {
   "cell_type": "code",
   "execution_count": 41,
   "metadata": {},
   "outputs": [
    {
     "data": {
      "application/vnd.microsoft.datawrangler.viewer.v0+json": {
       "columns": [
        {
         "name": "index",
         "rawType": "int64",
         "type": "integer"
        },
        {
         "name": "InvoiceId",
         "rawType": "int64",
         "type": "integer"
        },
        {
         "name": "Quantity",
         "rawType": "int64",
         "type": "integer"
        }
       ],
       "conversionMethod": "pd.DataFrame",
       "ref": "e2fe1307-d1f3-4886-af7a-492119e36657",
       "rows": [
        [
         "0",
         "1",
         "2"
        ],
        [
         "1",
         "2",
         "4"
        ],
        [
         "2",
         "3",
         "6"
        ],
        [
         "3",
         "4",
         "9"
        ],
        [
         "4",
         "5",
         "14"
        ],
        [
         "5",
         "6",
         "1"
        ],
        [
         "6",
         "7",
         "2"
        ],
        [
         "7",
         "8",
         "2"
        ],
        [
         "8",
         "9",
         "4"
        ],
        [
         "9",
         "10",
         "6"
        ],
        [
         "10",
         "11",
         "9"
        ],
        [
         "11",
         "12",
         "14"
        ],
        [
         "12",
         "13",
         "1"
        ],
        [
         "13",
         "14",
         "2"
        ],
        [
         "14",
         "15",
         "2"
        ],
        [
         "15",
         "16",
         "4"
        ],
        [
         "16",
         "17",
         "6"
        ],
        [
         "17",
         "18",
         "9"
        ],
        [
         "18",
         "19",
         "14"
        ],
        [
         "19",
         "20",
         "1"
        ],
        [
         "20",
         "21",
         "2"
        ],
        [
         "21",
         "22",
         "2"
        ],
        [
         "22",
         "23",
         "4"
        ],
        [
         "23",
         "24",
         "6"
        ],
        [
         "24",
         "25",
         "9"
        ],
        [
         "25",
         "26",
         "14"
        ],
        [
         "26",
         "27",
         "1"
        ],
        [
         "27",
         "28",
         "2"
        ],
        [
         "28",
         "29",
         "2"
        ],
        [
         "29",
         "30",
         "4"
        ],
        [
         "30",
         "31",
         "6"
        ],
        [
         "31",
         "32",
         "9"
        ],
        [
         "32",
         "33",
         "14"
        ],
        [
         "33",
         "34",
         "1"
        ],
        [
         "34",
         "35",
         "2"
        ],
        [
         "35",
         "36",
         "2"
        ],
        [
         "36",
         "37",
         "4"
        ],
        [
         "37",
         "38",
         "6"
        ],
        [
         "38",
         "39",
         "9"
        ],
        [
         "39",
         "40",
         "14"
        ],
        [
         "40",
         "41",
         "1"
        ],
        [
         "41",
         "42",
         "2"
        ],
        [
         "42",
         "43",
         "2"
        ],
        [
         "43",
         "44",
         "4"
        ],
        [
         "44",
         "45",
         "6"
        ],
        [
         "45",
         "46",
         "9"
        ],
        [
         "46",
         "47",
         "14"
        ],
        [
         "47",
         "48",
         "1"
        ],
        [
         "48",
         "49",
         "2"
        ],
        [
         "49",
         "50",
         "2"
        ]
       ],
       "shape": {
        "columns": 2,
        "rows": 412
       }
      },
      "text/html": [
       "<div>\n",
       "<style scoped>\n",
       "    .dataframe tbody tr th:only-of-type {\n",
       "        vertical-align: middle;\n",
       "    }\n",
       "\n",
       "    .dataframe tbody tr th {\n",
       "        vertical-align: top;\n",
       "    }\n",
       "\n",
       "    .dataframe thead th {\n",
       "        text-align: right;\n",
       "    }\n",
       "</style>\n",
       "<table border=\"1\" class=\"dataframe\">\n",
       "  <thead>\n",
       "    <tr style=\"text-align: right;\">\n",
       "      <th></th>\n",
       "      <th>InvoiceId</th>\n",
       "      <th>Quantity</th>\n",
       "    </tr>\n",
       "  </thead>\n",
       "  <tbody>\n",
       "    <tr>\n",
       "      <th>0</th>\n",
       "      <td>1</td>\n",
       "      <td>2</td>\n",
       "    </tr>\n",
       "    <tr>\n",
       "      <th>1</th>\n",
       "      <td>2</td>\n",
       "      <td>4</td>\n",
       "    </tr>\n",
       "    <tr>\n",
       "      <th>2</th>\n",
       "      <td>3</td>\n",
       "      <td>6</td>\n",
       "    </tr>\n",
       "    <tr>\n",
       "      <th>3</th>\n",
       "      <td>4</td>\n",
       "      <td>9</td>\n",
       "    </tr>\n",
       "    <tr>\n",
       "      <th>4</th>\n",
       "      <td>5</td>\n",
       "      <td>14</td>\n",
       "    </tr>\n",
       "    <tr>\n",
       "      <th>...</th>\n",
       "      <td>...</td>\n",
       "      <td>...</td>\n",
       "    </tr>\n",
       "    <tr>\n",
       "      <th>407</th>\n",
       "      <td>408</td>\n",
       "      <td>4</td>\n",
       "    </tr>\n",
       "    <tr>\n",
       "      <th>408</th>\n",
       "      <td>409</td>\n",
       "      <td>6</td>\n",
       "    </tr>\n",
       "    <tr>\n",
       "      <th>409</th>\n",
       "      <td>410</td>\n",
       "      <td>9</td>\n",
       "    </tr>\n",
       "    <tr>\n",
       "      <th>410</th>\n",
       "      <td>411</td>\n",
       "      <td>14</td>\n",
       "    </tr>\n",
       "    <tr>\n",
       "      <th>411</th>\n",
       "      <td>412</td>\n",
       "      <td>1</td>\n",
       "    </tr>\n",
       "  </tbody>\n",
       "</table>\n",
       "<p>412 rows × 2 columns</p>\n",
       "</div>"
      ],
      "text/plain": [
       "     InvoiceId  Quantity\n",
       "0            1         2\n",
       "1            2         4\n",
       "2            3         6\n",
       "3            4         9\n",
       "4            5        14\n",
       "..         ...       ...\n",
       "407        408         4\n",
       "408        409         6\n",
       "409        410         9\n",
       "410        411        14\n",
       "411        412         1\n",
       "\n",
       "[412 rows x 2 columns]"
      ]
     },
     "execution_count": 41,
     "metadata": {},
     "output_type": "execute_result"
    }
   ],
   "source": [
    "# 10. Cuántos artículos tiene cada factura\n",
    "\n",
    "query = '''\n",
    "SELECT InvoiceId, COUNT(*) AS Quantity  \n",
    "FROM invoice_items  \n",
    "GROUP BY InvoiceId;\n",
    "'''\n",
    "\n",
    "df = sql_query(query)\n",
    "df"
   ]
  },
  {
   "cell_type": "code",
   "execution_count": 42,
   "metadata": {},
   "outputs": [
    {
     "data": {
      "application/vnd.microsoft.datawrangler.viewer.v0+json": {
       "columns": [
        {
         "name": "index",
         "rawType": "int64",
         "type": "integer"
        },
        {
         "name": "BillingCountry",
         "rawType": "object",
         "type": "string"
        },
        {
         "name": "Quantity",
         "rawType": "int64",
         "type": "integer"
        }
       ],
       "conversionMethod": "pd.DataFrame",
       "ref": "51af213b-7171-41d0-aa61-5692ce0105c3",
       "rows": [
        [
         "0",
         "Argentina",
         "7"
        ],
        [
         "1",
         "Australia",
         "7"
        ],
        [
         "2",
         "Austria",
         "7"
        ],
        [
         "3",
         "Belgium",
         "7"
        ],
        [
         "4",
         "Brazil",
         "35"
        ],
        [
         "5",
         "Canada",
         "56"
        ],
        [
         "6",
         "Chile",
         "7"
        ],
        [
         "7",
         "Czech Republic",
         "14"
        ],
        [
         "8",
         "Denmark",
         "7"
        ],
        [
         "9",
         "Finland",
         "7"
        ],
        [
         "10",
         "France",
         "35"
        ],
        [
         "11",
         "Germany",
         "28"
        ],
        [
         "12",
         "Hungary",
         "7"
        ],
        [
         "13",
         "India",
         "13"
        ],
        [
         "14",
         "Ireland",
         "7"
        ],
        [
         "15",
         "Italy",
         "7"
        ],
        [
         "16",
         "Netherlands",
         "7"
        ],
        [
         "17",
         "Norway",
         "7"
        ],
        [
         "18",
         "Poland",
         "7"
        ],
        [
         "19",
         "Portugal",
         "14"
        ],
        [
         "20",
         "Spain",
         "7"
        ],
        [
         "21",
         "Sweden",
         "7"
        ],
        [
         "22",
         "USA",
         "91"
        ],
        [
         "23",
         "United Kingdom",
         "21"
        ]
       ],
       "shape": {
        "columns": 2,
        "rows": 24
       }
      },
      "text/html": [
       "<div>\n",
       "<style scoped>\n",
       "    .dataframe tbody tr th:only-of-type {\n",
       "        vertical-align: middle;\n",
       "    }\n",
       "\n",
       "    .dataframe tbody tr th {\n",
       "        vertical-align: top;\n",
       "    }\n",
       "\n",
       "    .dataframe thead th {\n",
       "        text-align: right;\n",
       "    }\n",
       "</style>\n",
       "<table border=\"1\" class=\"dataframe\">\n",
       "  <thead>\n",
       "    <tr style=\"text-align: right;\">\n",
       "      <th></th>\n",
       "      <th>BillingCountry</th>\n",
       "      <th>Quantity</th>\n",
       "    </tr>\n",
       "  </thead>\n",
       "  <tbody>\n",
       "    <tr>\n",
       "      <th>0</th>\n",
       "      <td>Argentina</td>\n",
       "      <td>7</td>\n",
       "    </tr>\n",
       "    <tr>\n",
       "      <th>1</th>\n",
       "      <td>Australia</td>\n",
       "      <td>7</td>\n",
       "    </tr>\n",
       "    <tr>\n",
       "      <th>2</th>\n",
       "      <td>Austria</td>\n",
       "      <td>7</td>\n",
       "    </tr>\n",
       "    <tr>\n",
       "      <th>3</th>\n",
       "      <td>Belgium</td>\n",
       "      <td>7</td>\n",
       "    </tr>\n",
       "    <tr>\n",
       "      <th>4</th>\n",
       "      <td>Brazil</td>\n",
       "      <td>35</td>\n",
       "    </tr>\n",
       "    <tr>\n",
       "      <th>5</th>\n",
       "      <td>Canada</td>\n",
       "      <td>56</td>\n",
       "    </tr>\n",
       "    <tr>\n",
       "      <th>6</th>\n",
       "      <td>Chile</td>\n",
       "      <td>7</td>\n",
       "    </tr>\n",
       "    <tr>\n",
       "      <th>7</th>\n",
       "      <td>Czech Republic</td>\n",
       "      <td>14</td>\n",
       "    </tr>\n",
       "    <tr>\n",
       "      <th>8</th>\n",
       "      <td>Denmark</td>\n",
       "      <td>7</td>\n",
       "    </tr>\n",
       "    <tr>\n",
       "      <th>9</th>\n",
       "      <td>Finland</td>\n",
       "      <td>7</td>\n",
       "    </tr>\n",
       "    <tr>\n",
       "      <th>10</th>\n",
       "      <td>France</td>\n",
       "      <td>35</td>\n",
       "    </tr>\n",
       "    <tr>\n",
       "      <th>11</th>\n",
       "      <td>Germany</td>\n",
       "      <td>28</td>\n",
       "    </tr>\n",
       "    <tr>\n",
       "      <th>12</th>\n",
       "      <td>Hungary</td>\n",
       "      <td>7</td>\n",
       "    </tr>\n",
       "    <tr>\n",
       "      <th>13</th>\n",
       "      <td>India</td>\n",
       "      <td>13</td>\n",
       "    </tr>\n",
       "    <tr>\n",
       "      <th>14</th>\n",
       "      <td>Ireland</td>\n",
       "      <td>7</td>\n",
       "    </tr>\n",
       "    <tr>\n",
       "      <th>15</th>\n",
       "      <td>Italy</td>\n",
       "      <td>7</td>\n",
       "    </tr>\n",
       "    <tr>\n",
       "      <th>16</th>\n",
       "      <td>Netherlands</td>\n",
       "      <td>7</td>\n",
       "    </tr>\n",
       "    <tr>\n",
       "      <th>17</th>\n",
       "      <td>Norway</td>\n",
       "      <td>7</td>\n",
       "    </tr>\n",
       "    <tr>\n",
       "      <th>18</th>\n",
       "      <td>Poland</td>\n",
       "      <td>7</td>\n",
       "    </tr>\n",
       "    <tr>\n",
       "      <th>19</th>\n",
       "      <td>Portugal</td>\n",
       "      <td>14</td>\n",
       "    </tr>\n",
       "    <tr>\n",
       "      <th>20</th>\n",
       "      <td>Spain</td>\n",
       "      <td>7</td>\n",
       "    </tr>\n",
       "    <tr>\n",
       "      <th>21</th>\n",
       "      <td>Sweden</td>\n",
       "      <td>7</td>\n",
       "    </tr>\n",
       "    <tr>\n",
       "      <th>22</th>\n",
       "      <td>USA</td>\n",
       "      <td>91</td>\n",
       "    </tr>\n",
       "    <tr>\n",
       "      <th>23</th>\n",
       "      <td>United Kingdom</td>\n",
       "      <td>21</td>\n",
       "    </tr>\n",
       "  </tbody>\n",
       "</table>\n",
       "</div>"
      ],
      "text/plain": [
       "    BillingCountry  Quantity\n",
       "0        Argentina         7\n",
       "1        Australia         7\n",
       "2          Austria         7\n",
       "3          Belgium         7\n",
       "4           Brazil        35\n",
       "5           Canada        56\n",
       "6            Chile         7\n",
       "7   Czech Republic        14\n",
       "8          Denmark         7\n",
       "9          Finland         7\n",
       "10          France        35\n",
       "11         Germany        28\n",
       "12         Hungary         7\n",
       "13           India        13\n",
       "14         Ireland         7\n",
       "15           Italy         7\n",
       "16     Netherlands         7\n",
       "17          Norway         7\n",
       "18          Poland         7\n",
       "19        Portugal        14\n",
       "20           Spain         7\n",
       "21          Sweden         7\n",
       "22             USA        91\n",
       "23  United Kingdom        21"
      ]
     },
     "execution_count": 42,
     "metadata": {},
     "output_type": "execute_result"
    }
   ],
   "source": [
    "# 11. Cuántas facturas hay de cada país\n",
    "\n",
    "query = '''\n",
    "SELECT BillingCountry, COUNT(*) AS Quantity  \n",
    "FROM invoices  \n",
    "GROUP BY BillingCountry;\n",
    "'''\n",
    "\n",
    "df = sql_query(query)\n",
    "df"
   ]
  },
  {
   "cell_type": "code",
   "execution_count": 43,
   "metadata": {},
   "outputs": [
    {
     "data": {
      "application/vnd.microsoft.datawrangler.viewer.v0+json": {
       "columns": [
        {
         "name": "index",
         "rawType": "int64",
         "type": "integer"
        },
        {
         "name": "YEAR",
         "rawType": "object",
         "type": "string"
        },
        {
         "name": "TOTAL_CLIENTS",
         "rawType": "int64",
         "type": "integer"
        }
       ],
       "conversionMethod": "pd.DataFrame",
       "ref": "629e9370-23dc-4e9e-8f81-7d95acbe82ff",
       "rows": [
        [
         "0",
         "2009",
         "83"
        ],
        [
         "1",
         "2011",
         "83"
        ]
       ],
       "shape": {
        "columns": 2,
        "rows": 2
       }
      },
      "text/html": [
       "<div>\n",
       "<style scoped>\n",
       "    .dataframe tbody tr th:only-of-type {\n",
       "        vertical-align: middle;\n",
       "    }\n",
       "\n",
       "    .dataframe tbody tr th {\n",
       "        vertical-align: top;\n",
       "    }\n",
       "\n",
       "    .dataframe thead th {\n",
       "        text-align: right;\n",
       "    }\n",
       "</style>\n",
       "<table border=\"1\" class=\"dataframe\">\n",
       "  <thead>\n",
       "    <tr style=\"text-align: right;\">\n",
       "      <th></th>\n",
       "      <th>YEAR</th>\n",
       "      <th>TOTAL_CLIENTS</th>\n",
       "    </tr>\n",
       "  </thead>\n",
       "  <tbody>\n",
       "    <tr>\n",
       "      <th>0</th>\n",
       "      <td>2009</td>\n",
       "      <td>83</td>\n",
       "    </tr>\n",
       "    <tr>\n",
       "      <th>1</th>\n",
       "      <td>2011</td>\n",
       "      <td>83</td>\n",
       "    </tr>\n",
       "  </tbody>\n",
       "</table>\n",
       "</div>"
      ],
      "text/plain": [
       "   YEAR  TOTAL_CLIENTS\n",
       "0  2009             83\n",
       "1  2011             83"
      ]
     },
     "execution_count": 43,
     "metadata": {},
     "output_type": "execute_result"
    }
   ],
   "source": [
    "#  12. Cuántas facturas ha habido en 2009 y 2011\n",
    "\n",
    "query = '''\n",
    "SELECT strftime(\"%Y\", InvoiceDate) AS YEAR, COUNT (*) AS TOTAL_CLIENTS FROM invoices\n",
    "WHERE (strftime(\"%Y\", InvoiceDate) = \"2009\") OR (strftime(\"%Y\", InvoiceDate) = \"2011\")\n",
    "GROUP BY YEAR\n",
    "\n",
    "'''\n",
    "\n",
    "df = sql_query(query)\n",
    "df"
   ]
  },
  {
   "cell_type": "code",
   "execution_count": 44,
   "metadata": {},
   "outputs": [
    {
     "data": {
      "application/vnd.microsoft.datawrangler.viewer.v0+json": {
       "columns": [
        {
         "name": "index",
         "rawType": "int64",
         "type": "integer"
        },
        {
         "name": "YEAR",
         "rawType": "object",
         "type": "string"
        },
        {
         "name": "TOTAL_CLIENTS",
         "rawType": "int64",
         "type": "integer"
        }
       ],
       "conversionMethod": "pd.DataFrame",
       "ref": "59a2d856-1b8d-4817-bd41-591f3d8040f2",
       "rows": [
        [
         "0",
         "2009",
         "83"
        ],
        [
         "1",
         "2010",
         "83"
        ],
        [
         "2",
         "2011",
         "83"
        ]
       ],
       "shape": {
        "columns": 2,
        "rows": 3
       }
      },
      "text/html": [
       "<div>\n",
       "<style scoped>\n",
       "    .dataframe tbody tr th:only-of-type {\n",
       "        vertical-align: middle;\n",
       "    }\n",
       "\n",
       "    .dataframe tbody tr th {\n",
       "        vertical-align: top;\n",
       "    }\n",
       "\n",
       "    .dataframe thead th {\n",
       "        text-align: right;\n",
       "    }\n",
       "</style>\n",
       "<table border=\"1\" class=\"dataframe\">\n",
       "  <thead>\n",
       "    <tr style=\"text-align: right;\">\n",
       "      <th></th>\n",
       "      <th>YEAR</th>\n",
       "      <th>TOTAL_CLIENTS</th>\n",
       "    </tr>\n",
       "  </thead>\n",
       "  <tbody>\n",
       "    <tr>\n",
       "      <th>0</th>\n",
       "      <td>2009</td>\n",
       "      <td>83</td>\n",
       "    </tr>\n",
       "    <tr>\n",
       "      <th>1</th>\n",
       "      <td>2010</td>\n",
       "      <td>83</td>\n",
       "    </tr>\n",
       "    <tr>\n",
       "      <th>2</th>\n",
       "      <td>2011</td>\n",
       "      <td>83</td>\n",
       "    </tr>\n",
       "  </tbody>\n",
       "</table>\n",
       "</div>"
      ],
      "text/plain": [
       "   YEAR  TOTAL_CLIENTS\n",
       "0  2009             83\n",
       "1  2010             83\n",
       "2  2011             83"
      ]
     },
     "execution_count": 44,
     "metadata": {},
     "output_type": "execute_result"
    }
   ],
   "source": [
    "# 13. Cuántas facturas ha habido entre 2009 y 2011\n",
    "\n",
    "query = '''\n",
    "SELECT strftime(\"%Y\", InvoiceDate) AS YEAR, COUNT(*) AS TOTAL_CLIENTS  \n",
    "FROM invoices  \n",
    "WHERE strftime(\"%Y\", InvoiceDate) BETWEEN \"2009\" AND \"2011\"  \n",
    "GROUP BY YEAR;\n",
    "\n",
    "'''\n",
    "\n",
    "df = sql_query(query)\n",
    "df"
   ]
  },
  {
   "cell_type": "code",
   "execution_count": 45,
   "metadata": {},
   "outputs": [
    {
     "data": {
      "application/vnd.microsoft.datawrangler.viewer.v0+json": {
       "columns": [
        {
         "name": "index",
         "rawType": "int64",
         "type": "integer"
        },
        {
         "name": "Country",
         "rawType": "object",
         "type": "string"
        },
        {
         "name": "NumClients",
         "rawType": "int64",
         "type": "integer"
        }
       ],
       "conversionMethod": "pd.DataFrame",
       "ref": "12ab5f74-a3c6-4934-84d6-1e883185f37d",
       "rows": [
        [
         "0",
         "Brazil",
         "5"
        ],
        [
         "1",
         "Spain",
         "1"
        ]
       ],
       "shape": {
        "columns": 2,
        "rows": 2
       }
      },
      "text/html": [
       "<div>\n",
       "<style scoped>\n",
       "    .dataframe tbody tr th:only-of-type {\n",
       "        vertical-align: middle;\n",
       "    }\n",
       "\n",
       "    .dataframe tbody tr th {\n",
       "        vertical-align: top;\n",
       "    }\n",
       "\n",
       "    .dataframe thead th {\n",
       "        text-align: right;\n",
       "    }\n",
       "</style>\n",
       "<table border=\"1\" class=\"dataframe\">\n",
       "  <thead>\n",
       "    <tr style=\"text-align: right;\">\n",
       "      <th></th>\n",
       "      <th>Country</th>\n",
       "      <th>NumClients</th>\n",
       "    </tr>\n",
       "  </thead>\n",
       "  <tbody>\n",
       "    <tr>\n",
       "      <th>0</th>\n",
       "      <td>Brazil</td>\n",
       "      <td>5</td>\n",
       "    </tr>\n",
       "    <tr>\n",
       "      <th>1</th>\n",
       "      <td>Spain</td>\n",
       "      <td>1</td>\n",
       "    </tr>\n",
       "  </tbody>\n",
       "</table>\n",
       "</div>"
      ],
      "text/plain": [
       "  Country  NumClients\n",
       "0  Brazil           5\n",
       "1   Spain           1"
      ]
     },
     "execution_count": 45,
     "metadata": {},
     "output_type": "execute_result"
    }
   ],
   "source": [
    "# 14. Cuántas clientes hay de España y de Brasil\n",
    "\n",
    "query = '''\n",
    "SELECT Country, COUNT(*) AS NumClients FROM customers  \n",
    "WHERE Country IN ('Spain', 'Brazil')  \n",
    "GROUP BY Country;\n",
    "\n",
    "'''\n",
    "\n",
    "df = sql_query(query)\n",
    "df\n"
   ]
  },
  {
   "cell_type": "code",
   "execution_count": 46,
   "metadata": {},
   "outputs": [
    {
     "data": {
      "application/vnd.microsoft.datawrangler.viewer.v0+json": {
       "columns": [
        {
         "name": "index",
         "rawType": "int64",
         "type": "integer"
        },
        {
         "name": "Title",
         "rawType": "object",
         "type": "string"
        }
       ],
       "conversionMethod": "pd.DataFrame",
       "ref": "8350c459-9cca-4359-b066-3ba00bf5b08f",
       "rows": [
        [
         "0",
         "You Oughta Know"
        ],
        [
         "1",
         "You Learn"
        ],
        [
         "2",
         "You Oughta Know (Alternate)"
        ],
        [
         "3",
         "Your Time Has Come"
        ],
        [
         "4",
         "You Shook Me"
        ],
        [
         "5",
         "You Shook Me(2)"
        ],
        [
         "6",
         "You Fool No One"
        ],
        [
         "7",
         "You Fool No One (Alternate Version)"
        ],
        [
         "8",
         "You Keep On Moving"
        ],
        [
         "9",
         "You Can't Do it Right (With the One You Love)"
        ],
        [
         "10",
         "You're Crazy"
        ],
        [
         "11",
         "You Ain't the First"
        ],
        [
         "12",
         "You Could Be Mine"
        ],
        [
         "13",
         "You've Got Another Thing Comin'"
        ],
        [
         "14",
         "You Shook Me"
        ],
        [
         "15",
         "Your Time Is Gonna Come"
        ],
        [
         "16",
         "You've Been A Long Time Coming"
        ],
        [
         "17",
         "You're What's Happening (In The World Today)"
        ],
        [
         "18",
         "You Sure Love To Ball"
        ],
        [
         "19",
         "Your Blue Room"
        ],
        [
         "20",
         "You Are"
        ],
        [
         "21",
         "You're My Best Friend"
        ],
        [
         "22",
         "You Are The Everything"
        ],
        [
         "23",
         "You've Got It"
        ],
        [
         "24",
         "Your Mirror"
        ],
        [
         "25",
         "You Got Me Rocking"
        ],
        [
         "26",
         "You Got Me Rocking"
        ],
        [
         "27",
         "You Better You Bet"
        ],
        [
         "28",
         "You Really Got Me"
        ],
        [
         "29",
         "You Got No Right"
        ],
        [
         "30",
         "You're Gonna Break My Hart Again"
        ],
        [
         "31",
         "Your Time Is Gonna Come"
        ],
        [
         "32",
         "Your Savior"
        ],
        [
         "33",
         "Your Soul Today"
        ],
        [
         "34",
         "You Know My Name"
        ],
        [
         "35",
         "You Know I'm No Good"
        ],
        [
         "36",
         "You Know I'm No Good (feat. Ghostface Killah)"
        ],
        [
         "37",
         "You Sent Me Flying / Cherry"
        ]
       ],
       "shape": {
        "columns": 1,
        "rows": 38
       }
      },
      "text/html": [
       "<div>\n",
       "<style scoped>\n",
       "    .dataframe tbody tr th:only-of-type {\n",
       "        vertical-align: middle;\n",
       "    }\n",
       "\n",
       "    .dataframe tbody tr th {\n",
       "        vertical-align: top;\n",
       "    }\n",
       "\n",
       "    .dataframe thead th {\n",
       "        text-align: right;\n",
       "    }\n",
       "</style>\n",
       "<table border=\"1\" class=\"dataframe\">\n",
       "  <thead>\n",
       "    <tr style=\"text-align: right;\">\n",
       "      <th></th>\n",
       "      <th>Title</th>\n",
       "    </tr>\n",
       "  </thead>\n",
       "  <tbody>\n",
       "    <tr>\n",
       "      <th>0</th>\n",
       "      <td>You Oughta Know</td>\n",
       "    </tr>\n",
       "    <tr>\n",
       "      <th>1</th>\n",
       "      <td>You Learn</td>\n",
       "    </tr>\n",
       "    <tr>\n",
       "      <th>2</th>\n",
       "      <td>You Oughta Know (Alternate)</td>\n",
       "    </tr>\n",
       "    <tr>\n",
       "      <th>3</th>\n",
       "      <td>Your Time Has Come</td>\n",
       "    </tr>\n",
       "    <tr>\n",
       "      <th>4</th>\n",
       "      <td>You Shook Me</td>\n",
       "    </tr>\n",
       "    <tr>\n",
       "      <th>5</th>\n",
       "      <td>You Shook Me(2)</td>\n",
       "    </tr>\n",
       "    <tr>\n",
       "      <th>6</th>\n",
       "      <td>You Fool No One</td>\n",
       "    </tr>\n",
       "    <tr>\n",
       "      <th>7</th>\n",
       "      <td>You Fool No One (Alternate Version)</td>\n",
       "    </tr>\n",
       "    <tr>\n",
       "      <th>8</th>\n",
       "      <td>You Keep On Moving</td>\n",
       "    </tr>\n",
       "    <tr>\n",
       "      <th>9</th>\n",
       "      <td>You Can't Do it Right (With the One You Love)</td>\n",
       "    </tr>\n",
       "    <tr>\n",
       "      <th>10</th>\n",
       "      <td>You're Crazy</td>\n",
       "    </tr>\n",
       "    <tr>\n",
       "      <th>11</th>\n",
       "      <td>You Ain't the First</td>\n",
       "    </tr>\n",
       "    <tr>\n",
       "      <th>12</th>\n",
       "      <td>You Could Be Mine</td>\n",
       "    </tr>\n",
       "    <tr>\n",
       "      <th>13</th>\n",
       "      <td>You've Got Another Thing Comin'</td>\n",
       "    </tr>\n",
       "    <tr>\n",
       "      <th>14</th>\n",
       "      <td>You Shook Me</td>\n",
       "    </tr>\n",
       "    <tr>\n",
       "      <th>15</th>\n",
       "      <td>Your Time Is Gonna Come</td>\n",
       "    </tr>\n",
       "    <tr>\n",
       "      <th>16</th>\n",
       "      <td>You've Been A Long Time Coming</td>\n",
       "    </tr>\n",
       "    <tr>\n",
       "      <th>17</th>\n",
       "      <td>You're What's Happening (In The World Today)</td>\n",
       "    </tr>\n",
       "    <tr>\n",
       "      <th>18</th>\n",
       "      <td>You Sure Love To Ball</td>\n",
       "    </tr>\n",
       "    <tr>\n",
       "      <th>19</th>\n",
       "      <td>Your Blue Room</td>\n",
       "    </tr>\n",
       "    <tr>\n",
       "      <th>20</th>\n",
       "      <td>You Are</td>\n",
       "    </tr>\n",
       "    <tr>\n",
       "      <th>21</th>\n",
       "      <td>You're My Best Friend</td>\n",
       "    </tr>\n",
       "    <tr>\n",
       "      <th>22</th>\n",
       "      <td>You Are The Everything</td>\n",
       "    </tr>\n",
       "    <tr>\n",
       "      <th>23</th>\n",
       "      <td>You've Got It</td>\n",
       "    </tr>\n",
       "    <tr>\n",
       "      <th>24</th>\n",
       "      <td>Your Mirror</td>\n",
       "    </tr>\n",
       "    <tr>\n",
       "      <th>25</th>\n",
       "      <td>You Got Me Rocking</td>\n",
       "    </tr>\n",
       "    <tr>\n",
       "      <th>26</th>\n",
       "      <td>You Got Me Rocking</td>\n",
       "    </tr>\n",
       "    <tr>\n",
       "      <th>27</th>\n",
       "      <td>You Better You Bet</td>\n",
       "    </tr>\n",
       "    <tr>\n",
       "      <th>28</th>\n",
       "      <td>You Really Got Me</td>\n",
       "    </tr>\n",
       "    <tr>\n",
       "      <th>29</th>\n",
       "      <td>You Got No Right</td>\n",
       "    </tr>\n",
       "    <tr>\n",
       "      <th>30</th>\n",
       "      <td>You're Gonna Break My Hart Again</td>\n",
       "    </tr>\n",
       "    <tr>\n",
       "      <th>31</th>\n",
       "      <td>Your Time Is Gonna Come</td>\n",
       "    </tr>\n",
       "    <tr>\n",
       "      <th>32</th>\n",
       "      <td>Your Savior</td>\n",
       "    </tr>\n",
       "    <tr>\n",
       "      <th>33</th>\n",
       "      <td>Your Soul Today</td>\n",
       "    </tr>\n",
       "    <tr>\n",
       "      <th>34</th>\n",
       "      <td>You Know My Name</td>\n",
       "    </tr>\n",
       "    <tr>\n",
       "      <th>35</th>\n",
       "      <td>You Know I'm No Good</td>\n",
       "    </tr>\n",
       "    <tr>\n",
       "      <th>36</th>\n",
       "      <td>You Know I'm No Good (feat. Ghostface Killah)</td>\n",
       "    </tr>\n",
       "    <tr>\n",
       "      <th>37</th>\n",
       "      <td>You Sent Me Flying / Cherry</td>\n",
       "    </tr>\n",
       "  </tbody>\n",
       "</table>\n",
       "</div>"
      ],
      "text/plain": [
       "                                            Title\n",
       "0                                 You Oughta Know\n",
       "1                                       You Learn\n",
       "2                     You Oughta Know (Alternate)\n",
       "3                              Your Time Has Come\n",
       "4                                    You Shook Me\n",
       "5                                 You Shook Me(2)\n",
       "6                                 You Fool No One\n",
       "7             You Fool No One (Alternate Version)\n",
       "8                              You Keep On Moving\n",
       "9   You Can't Do it Right (With the One You Love)\n",
       "10                                   You're Crazy\n",
       "11                            You Ain't the First\n",
       "12                              You Could Be Mine\n",
       "13                You've Got Another Thing Comin'\n",
       "14                                   You Shook Me\n",
       "15                        Your Time Is Gonna Come\n",
       "16                 You've Been A Long Time Coming\n",
       "17   You're What's Happening (In The World Today)\n",
       "18                          You Sure Love To Ball\n",
       "19                                 Your Blue Room\n",
       "20                                        You Are\n",
       "21                          You're My Best Friend\n",
       "22                         You Are The Everything\n",
       "23                                  You've Got It\n",
       "24                                    Your Mirror\n",
       "25                             You Got Me Rocking\n",
       "26                             You Got Me Rocking\n",
       "27                             You Better You Bet\n",
       "28                              You Really Got Me\n",
       "29                               You Got No Right\n",
       "30               You're Gonna Break My Hart Again\n",
       "31                        Your Time Is Gonna Come\n",
       "32                                    Your Savior\n",
       "33                                Your Soul Today\n",
       "34                               You Know My Name\n",
       "35                           You Know I'm No Good\n",
       "36  You Know I'm No Good (feat. Ghostface Killah)\n",
       "37                    You Sent Me Flying / Cherry"
      ]
     },
     "execution_count": 46,
     "metadata": {},
     "output_type": "execute_result"
    }
   ],
   "source": [
    "# 15. Obtén las canciones que su título empieza por ‘You’\n",
    "\n",
    "query = '''\n",
    "SELECT Name AS Title FROM tracks  \n",
    "WHERE Name LIKE \"You%\"\n",
    "\n",
    "'''\n",
    "\n",
    "df = sql_query(query)\n",
    "df\n"
   ]
  },
  {
   "cell_type": "markdown",
   "metadata": {},
   "source": [
    "### SEGUNDA PARTE"
   ]
  },
  {
   "cell_type": "code",
   "execution_count": null,
   "metadata": {},
   "outputs": [
    {
     "data": {
      "application/vnd.microsoft.datawrangler.viewer.v0+json": {
       "columns": [
        {
         "name": "index",
         "rawType": "int64",
         "type": "integer"
        },
        {
         "name": "InvoiceId",
         "rawType": "int64",
         "type": "integer"
        },
        {
         "name": "InvoiceDate",
         "rawType": "object",
         "type": "string"
        },
        {
         "name": "BillingCountry",
         "rawType": "object",
         "type": "string"
        },
        {
         "name": "FirstName",
         "rawType": "object",
         "type": "string"
        }
       ],
       "conversionMethod": "pd.DataFrame",
       "ref": "6c9d0a5d-fca7-41c3-9757-a242adbf8171",
       "rows": [
        [
         "0",
         "98",
         "2010-03-11 00:00:00",
         "Brazil",
         "Luís"
        ],
        [
         "1",
         "121",
         "2010-06-13 00:00:00",
         "Brazil",
         "Luís"
        ],
        [
         "2",
         "143",
         "2010-09-15 00:00:00",
         "Brazil",
         "Luís"
        ],
        [
         "3",
         "195",
         "2011-05-06 00:00:00",
         "Brazil",
         "Luís"
        ],
        [
         "4",
         "316",
         "2012-10-27 00:00:00",
         "Brazil",
         "Luís"
        ],
        [
         "5",
         "327",
         "2012-12-07 00:00:00",
         "Brazil",
         "Luís"
        ],
        [
         "6",
         "382",
         "2013-08-07 00:00:00",
         "Brazil",
         "Luís"
        ],
        [
         "7",
         "25",
         "2009-04-09 00:00:00",
         "Brazil",
         "Eduardo"
        ],
        [
         "8",
         "154",
         "2010-11-14 00:00:00",
         "Brazil",
         "Eduardo"
        ],
        [
         "9",
         "177",
         "2011-02-16 00:00:00",
         "Brazil",
         "Eduardo"
        ],
        [
         "10",
         "199",
         "2011-05-21 00:00:00",
         "Brazil",
         "Eduardo"
        ],
        [
         "11",
         "251",
         "2012-01-09 00:00:00",
         "Brazil",
         "Eduardo"
        ],
        [
         "12",
         "372",
         "2013-07-02 00:00:00",
         "Brazil",
         "Eduardo"
        ],
        [
         "13",
         "383",
         "2013-08-12 00:00:00",
         "Brazil",
         "Eduardo"
        ],
        [
         "14",
         "57",
         "2009-09-06 00:00:00",
         "Brazil",
         "Alexandre"
        ],
        [
         "15",
         "68",
         "2009-10-17 00:00:00",
         "Brazil",
         "Alexandre"
        ],
        [
         "16",
         "123",
         "2010-06-17 00:00:00",
         "Brazil",
         "Alexandre"
        ],
        [
         "17",
         "252",
         "2012-01-22 00:00:00",
         "Brazil",
         "Alexandre"
        ],
        [
         "18",
         "275",
         "2012-04-25 00:00:00",
         "Brazil",
         "Alexandre"
        ],
        [
         "19",
         "297",
         "2012-07-28 00:00:00",
         "Brazil",
         "Alexandre"
        ],
        [
         "20",
         "349",
         "2013-03-18 00:00:00",
         "Brazil",
         "Alexandre"
        ],
        [
         "21",
         "34",
         "2009-05-23 00:00:00",
         "Brazil",
         "Roberto"
        ],
        [
         "22",
         "155",
         "2010-11-14 00:00:00",
         "Brazil",
         "Roberto"
        ],
        [
         "23",
         "166",
         "2010-12-25 00:00:00",
         "Brazil",
         "Roberto"
        ],
        [
         "24",
         "221",
         "2011-08-25 00:00:00",
         "Brazil",
         "Roberto"
        ],
        [
         "25",
         "350",
         "2013-03-31 00:00:00",
         "Brazil",
         "Roberto"
        ],
        [
         "26",
         "373",
         "2013-07-03 00:00:00",
         "Brazil",
         "Roberto"
        ],
        [
         "27",
         "395",
         "2013-10-05 00:00:00",
         "Brazil",
         "Roberto"
        ],
        [
         "28",
         "35",
         "2009-06-05 00:00:00",
         "Brazil",
         "Fernanda"
        ],
        [
         "29",
         "58",
         "2009-09-07 00:00:00",
         "Brazil",
         "Fernanda"
        ],
        [
         "30",
         "80",
         "2009-12-10 00:00:00",
         "Brazil",
         "Fernanda"
        ],
        [
         "31",
         "132",
         "2010-07-31 00:00:00",
         "Brazil",
         "Fernanda"
        ],
        [
         "32",
         "253",
         "2012-01-22 00:00:00",
         "Brazil",
         "Fernanda"
        ],
        [
         "33",
         "264",
         "2012-03-03 00:00:00",
         "Brazil",
         "Fernanda"
        ],
        [
         "34",
         "319",
         "2012-11-01 00:00:00",
         "Brazil",
         "Fernanda"
        ]
       ],
       "shape": {
        "columns": 4,
        "rows": 35
       }
      },
      "text/html": [
       "<div>\n",
       "<style scoped>\n",
       "    .dataframe tbody tr th:only-of-type {\n",
       "        vertical-align: middle;\n",
       "    }\n",
       "\n",
       "    .dataframe tbody tr th {\n",
       "        vertical-align: top;\n",
       "    }\n",
       "\n",
       "    .dataframe thead th {\n",
       "        text-align: right;\n",
       "    }\n",
       "</style>\n",
       "<table border=\"1\" class=\"dataframe\">\n",
       "  <thead>\n",
       "    <tr style=\"text-align: right;\">\n",
       "      <th></th>\n",
       "      <th>InvoiceId</th>\n",
       "      <th>InvoiceDate</th>\n",
       "      <th>BillingCountry</th>\n",
       "      <th>FirstName</th>\n",
       "    </tr>\n",
       "  </thead>\n",
       "  <tbody>\n",
       "    <tr>\n",
       "      <th>0</th>\n",
       "      <td>98</td>\n",
       "      <td>2010-03-11 00:00:00</td>\n",
       "      <td>Brazil</td>\n",
       "      <td>Luís</td>\n",
       "    </tr>\n",
       "    <tr>\n",
       "      <th>1</th>\n",
       "      <td>121</td>\n",
       "      <td>2010-06-13 00:00:00</td>\n",
       "      <td>Brazil</td>\n",
       "      <td>Luís</td>\n",
       "    </tr>\n",
       "    <tr>\n",
       "      <th>2</th>\n",
       "      <td>143</td>\n",
       "      <td>2010-09-15 00:00:00</td>\n",
       "      <td>Brazil</td>\n",
       "      <td>Luís</td>\n",
       "    </tr>\n",
       "    <tr>\n",
       "      <th>3</th>\n",
       "      <td>195</td>\n",
       "      <td>2011-05-06 00:00:00</td>\n",
       "      <td>Brazil</td>\n",
       "      <td>Luís</td>\n",
       "    </tr>\n",
       "    <tr>\n",
       "      <th>4</th>\n",
       "      <td>316</td>\n",
       "      <td>2012-10-27 00:00:00</td>\n",
       "      <td>Brazil</td>\n",
       "      <td>Luís</td>\n",
       "    </tr>\n",
       "    <tr>\n",
       "      <th>5</th>\n",
       "      <td>327</td>\n",
       "      <td>2012-12-07 00:00:00</td>\n",
       "      <td>Brazil</td>\n",
       "      <td>Luís</td>\n",
       "    </tr>\n",
       "    <tr>\n",
       "      <th>6</th>\n",
       "      <td>382</td>\n",
       "      <td>2013-08-07 00:00:00</td>\n",
       "      <td>Brazil</td>\n",
       "      <td>Luís</td>\n",
       "    </tr>\n",
       "    <tr>\n",
       "      <th>7</th>\n",
       "      <td>25</td>\n",
       "      <td>2009-04-09 00:00:00</td>\n",
       "      <td>Brazil</td>\n",
       "      <td>Eduardo</td>\n",
       "    </tr>\n",
       "    <tr>\n",
       "      <th>8</th>\n",
       "      <td>154</td>\n",
       "      <td>2010-11-14 00:00:00</td>\n",
       "      <td>Brazil</td>\n",
       "      <td>Eduardo</td>\n",
       "    </tr>\n",
       "    <tr>\n",
       "      <th>9</th>\n",
       "      <td>177</td>\n",
       "      <td>2011-02-16 00:00:00</td>\n",
       "      <td>Brazil</td>\n",
       "      <td>Eduardo</td>\n",
       "    </tr>\n",
       "    <tr>\n",
       "      <th>10</th>\n",
       "      <td>199</td>\n",
       "      <td>2011-05-21 00:00:00</td>\n",
       "      <td>Brazil</td>\n",
       "      <td>Eduardo</td>\n",
       "    </tr>\n",
       "    <tr>\n",
       "      <th>11</th>\n",
       "      <td>251</td>\n",
       "      <td>2012-01-09 00:00:00</td>\n",
       "      <td>Brazil</td>\n",
       "      <td>Eduardo</td>\n",
       "    </tr>\n",
       "    <tr>\n",
       "      <th>12</th>\n",
       "      <td>372</td>\n",
       "      <td>2013-07-02 00:00:00</td>\n",
       "      <td>Brazil</td>\n",
       "      <td>Eduardo</td>\n",
       "    </tr>\n",
       "    <tr>\n",
       "      <th>13</th>\n",
       "      <td>383</td>\n",
       "      <td>2013-08-12 00:00:00</td>\n",
       "      <td>Brazil</td>\n",
       "      <td>Eduardo</td>\n",
       "    </tr>\n",
       "    <tr>\n",
       "      <th>14</th>\n",
       "      <td>57</td>\n",
       "      <td>2009-09-06 00:00:00</td>\n",
       "      <td>Brazil</td>\n",
       "      <td>Alexandre</td>\n",
       "    </tr>\n",
       "    <tr>\n",
       "      <th>15</th>\n",
       "      <td>68</td>\n",
       "      <td>2009-10-17 00:00:00</td>\n",
       "      <td>Brazil</td>\n",
       "      <td>Alexandre</td>\n",
       "    </tr>\n",
       "    <tr>\n",
       "      <th>16</th>\n",
       "      <td>123</td>\n",
       "      <td>2010-06-17 00:00:00</td>\n",
       "      <td>Brazil</td>\n",
       "      <td>Alexandre</td>\n",
       "    </tr>\n",
       "    <tr>\n",
       "      <th>17</th>\n",
       "      <td>252</td>\n",
       "      <td>2012-01-22 00:00:00</td>\n",
       "      <td>Brazil</td>\n",
       "      <td>Alexandre</td>\n",
       "    </tr>\n",
       "    <tr>\n",
       "      <th>18</th>\n",
       "      <td>275</td>\n",
       "      <td>2012-04-25 00:00:00</td>\n",
       "      <td>Brazil</td>\n",
       "      <td>Alexandre</td>\n",
       "    </tr>\n",
       "    <tr>\n",
       "      <th>19</th>\n",
       "      <td>297</td>\n",
       "      <td>2012-07-28 00:00:00</td>\n",
       "      <td>Brazil</td>\n",
       "      <td>Alexandre</td>\n",
       "    </tr>\n",
       "    <tr>\n",
       "      <th>20</th>\n",
       "      <td>349</td>\n",
       "      <td>2013-03-18 00:00:00</td>\n",
       "      <td>Brazil</td>\n",
       "      <td>Alexandre</td>\n",
       "    </tr>\n",
       "    <tr>\n",
       "      <th>21</th>\n",
       "      <td>34</td>\n",
       "      <td>2009-05-23 00:00:00</td>\n",
       "      <td>Brazil</td>\n",
       "      <td>Roberto</td>\n",
       "    </tr>\n",
       "    <tr>\n",
       "      <th>22</th>\n",
       "      <td>155</td>\n",
       "      <td>2010-11-14 00:00:00</td>\n",
       "      <td>Brazil</td>\n",
       "      <td>Roberto</td>\n",
       "    </tr>\n",
       "    <tr>\n",
       "      <th>23</th>\n",
       "      <td>166</td>\n",
       "      <td>2010-12-25 00:00:00</td>\n",
       "      <td>Brazil</td>\n",
       "      <td>Roberto</td>\n",
       "    </tr>\n",
       "    <tr>\n",
       "      <th>24</th>\n",
       "      <td>221</td>\n",
       "      <td>2011-08-25 00:00:00</td>\n",
       "      <td>Brazil</td>\n",
       "      <td>Roberto</td>\n",
       "    </tr>\n",
       "    <tr>\n",
       "      <th>25</th>\n",
       "      <td>350</td>\n",
       "      <td>2013-03-31 00:00:00</td>\n",
       "      <td>Brazil</td>\n",
       "      <td>Roberto</td>\n",
       "    </tr>\n",
       "    <tr>\n",
       "      <th>26</th>\n",
       "      <td>373</td>\n",
       "      <td>2013-07-03 00:00:00</td>\n",
       "      <td>Brazil</td>\n",
       "      <td>Roberto</td>\n",
       "    </tr>\n",
       "    <tr>\n",
       "      <th>27</th>\n",
       "      <td>395</td>\n",
       "      <td>2013-10-05 00:00:00</td>\n",
       "      <td>Brazil</td>\n",
       "      <td>Roberto</td>\n",
       "    </tr>\n",
       "    <tr>\n",
       "      <th>28</th>\n",
       "      <td>35</td>\n",
       "      <td>2009-06-05 00:00:00</td>\n",
       "      <td>Brazil</td>\n",
       "      <td>Fernanda</td>\n",
       "    </tr>\n",
       "    <tr>\n",
       "      <th>29</th>\n",
       "      <td>58</td>\n",
       "      <td>2009-09-07 00:00:00</td>\n",
       "      <td>Brazil</td>\n",
       "      <td>Fernanda</td>\n",
       "    </tr>\n",
       "    <tr>\n",
       "      <th>30</th>\n",
       "      <td>80</td>\n",
       "      <td>2009-12-10 00:00:00</td>\n",
       "      <td>Brazil</td>\n",
       "      <td>Fernanda</td>\n",
       "    </tr>\n",
       "    <tr>\n",
       "      <th>31</th>\n",
       "      <td>132</td>\n",
       "      <td>2010-07-31 00:00:00</td>\n",
       "      <td>Brazil</td>\n",
       "      <td>Fernanda</td>\n",
       "    </tr>\n",
       "    <tr>\n",
       "      <th>32</th>\n",
       "      <td>253</td>\n",
       "      <td>2012-01-22 00:00:00</td>\n",
       "      <td>Brazil</td>\n",
       "      <td>Fernanda</td>\n",
       "    </tr>\n",
       "    <tr>\n",
       "      <th>33</th>\n",
       "      <td>264</td>\n",
       "      <td>2012-03-03 00:00:00</td>\n",
       "      <td>Brazil</td>\n",
       "      <td>Fernanda</td>\n",
       "    </tr>\n",
       "    <tr>\n",
       "      <th>34</th>\n",
       "      <td>319</td>\n",
       "      <td>2012-11-01 00:00:00</td>\n",
       "      <td>Brazil</td>\n",
       "      <td>Fernanda</td>\n",
       "    </tr>\n",
       "  </tbody>\n",
       "</table>\n",
       "</div>"
      ],
      "text/plain": [
       "    InvoiceId          InvoiceDate BillingCountry  FirstName\n",
       "0          98  2010-03-11 00:00:00         Brazil       Luís\n",
       "1         121  2010-06-13 00:00:00         Brazil       Luís\n",
       "2         143  2010-09-15 00:00:00         Brazil       Luís\n",
       "3         195  2011-05-06 00:00:00         Brazil       Luís\n",
       "4         316  2012-10-27 00:00:00         Brazil       Luís\n",
       "5         327  2012-12-07 00:00:00         Brazil       Luís\n",
       "6         382  2013-08-07 00:00:00         Brazil       Luís\n",
       "7          25  2009-04-09 00:00:00         Brazil    Eduardo\n",
       "8         154  2010-11-14 00:00:00         Brazil    Eduardo\n",
       "9         177  2011-02-16 00:00:00         Brazil    Eduardo\n",
       "10        199  2011-05-21 00:00:00         Brazil    Eduardo\n",
       "11        251  2012-01-09 00:00:00         Brazil    Eduardo\n",
       "12        372  2013-07-02 00:00:00         Brazil    Eduardo\n",
       "13        383  2013-08-12 00:00:00         Brazil    Eduardo\n",
       "14         57  2009-09-06 00:00:00         Brazil  Alexandre\n",
       "15         68  2009-10-17 00:00:00         Brazil  Alexandre\n",
       "16        123  2010-06-17 00:00:00         Brazil  Alexandre\n",
       "17        252  2012-01-22 00:00:00         Brazil  Alexandre\n",
       "18        275  2012-04-25 00:00:00         Brazil  Alexandre\n",
       "19        297  2012-07-28 00:00:00         Brazil  Alexandre\n",
       "20        349  2013-03-18 00:00:00         Brazil  Alexandre\n",
       "21         34  2009-05-23 00:00:00         Brazil    Roberto\n",
       "22        155  2010-11-14 00:00:00         Brazil    Roberto\n",
       "23        166  2010-12-25 00:00:00         Brazil    Roberto\n",
       "24        221  2011-08-25 00:00:00         Brazil    Roberto\n",
       "25        350  2013-03-31 00:00:00         Brazil    Roberto\n",
       "26        373  2013-07-03 00:00:00         Brazil    Roberto\n",
       "27        395  2013-10-05 00:00:00         Brazil    Roberto\n",
       "28         35  2009-06-05 00:00:00         Brazil   Fernanda\n",
       "29         58  2009-09-07 00:00:00         Brazil   Fernanda\n",
       "30         80  2009-12-10 00:00:00         Brazil   Fernanda\n",
       "31        132  2010-07-31 00:00:00         Brazil   Fernanda\n",
       "32        253  2012-01-22 00:00:00         Brazil   Fernanda\n",
       "33        264  2012-03-03 00:00:00         Brazil   Fernanda\n",
       "34        319  2012-11-01 00:00:00         Brazil   Fernanda"
      ]
     },
     "execution_count": 6,
     "metadata": {},
     "output_type": "execute_result"
    }
   ],
   "source": [
    "# 1. Facturas de Clientes de Brasil, Nombre del cliente, Id de factura, fecha de la \n",
    "# factura y el país de la factura\n",
    "\n",
    "query = '''\n",
    "SELECT i.InvoiceId, i.InvoiceDate, i.BillingCountry, c.FirstName\n",
    "FROM Invoices i\n",
    "JOIN Customers c ON i.CustomerId = c.CustomerId\n",
    "WHERE c.Country = 'Brazil';\n",
    "'''\n",
    "\n",
    "df = sql_query(query)\n",
    "df\n"
   ]
  },
  {
   "cell_type": "code",
   "execution_count": 11,
   "metadata": {},
   "outputs": [
    {
     "data": {
      "application/vnd.microsoft.datawrangler.viewer.v0+json": {
       "columns": [
        {
         "name": "index",
         "rawType": "int64",
         "type": "integer"
        },
        {
         "name": "FirstName",
         "rawType": "object",
         "type": "string"
        },
        {
         "name": "LastName",
         "rawType": "object",
         "type": "string"
        },
        {
         "name": "InvoiceId",
         "rawType": "int64",
         "type": "integer"
        }
       ],
       "conversionMethod": "pd.DataFrame",
       "ref": "516743d0-4e30-41ee-bde4-9aaa05c96f9a",
       "rows": [
        [
         "0",
         "Jane",
         "Peacock",
         "98"
        ],
        [
         "1",
         "Jane",
         "Peacock",
         "121"
        ],
        [
         "2",
         "Jane",
         "Peacock",
         "143"
        ],
        [
         "3",
         "Jane",
         "Peacock",
         "195"
        ],
        [
         "4",
         "Jane",
         "Peacock",
         "316"
        ],
        [
         "5",
         "Jane",
         "Peacock",
         "327"
        ],
        [
         "6",
         "Jane",
         "Peacock",
         "382"
        ],
        [
         "7",
         "Jane",
         "Peacock",
         "99"
        ],
        [
         "8",
         "Jane",
         "Peacock",
         "110"
        ],
        [
         "9",
         "Jane",
         "Peacock",
         "165"
        ],
        [
         "10",
         "Jane",
         "Peacock",
         "294"
        ],
        [
         "11",
         "Jane",
         "Peacock",
         "317"
        ],
        [
         "12",
         "Jane",
         "Peacock",
         "339"
        ],
        [
         "13",
         "Jane",
         "Peacock",
         "391"
        ],
        [
         "14",
         "Jane",
         "Peacock",
         "34"
        ],
        [
         "15",
         "Jane",
         "Peacock",
         "155"
        ],
        [
         "16",
         "Jane",
         "Peacock",
         "166"
        ],
        [
         "17",
         "Jane",
         "Peacock",
         "221"
        ],
        [
         "18",
         "Jane",
         "Peacock",
         "350"
        ],
        [
         "19",
         "Jane",
         "Peacock",
         "373"
        ],
        [
         "20",
         "Jane",
         "Peacock",
         "395"
        ],
        [
         "21",
         "Jane",
         "Peacock",
         "36"
        ],
        [
         "22",
         "Jane",
         "Peacock",
         "47"
        ],
        [
         "23",
         "Jane",
         "Peacock",
         "102"
        ],
        [
         "24",
         "Jane",
         "Peacock",
         "231"
        ],
        [
         "25",
         "Jane",
         "Peacock",
         "254"
        ],
        [
         "26",
         "Jane",
         "Peacock",
         "276"
        ],
        [
         "27",
         "Jane",
         "Peacock",
         "328"
        ],
        [
         "28",
         "Jane",
         "Peacock",
         "112"
        ],
        [
         "29",
         "Jane",
         "Peacock",
         "135"
        ],
        [
         "30",
         "Jane",
         "Peacock",
         "157"
        ],
        [
         "31",
         "Jane",
         "Peacock",
         "209"
        ],
        [
         "32",
         "Jane",
         "Peacock",
         "330"
        ],
        [
         "33",
         "Jane",
         "Peacock",
         "341"
        ],
        [
         "34",
         "Jane",
         "Peacock",
         "396"
        ],
        [
         "35",
         "Jane",
         "Peacock",
         "15"
        ],
        [
         "36",
         "Jane",
         "Peacock",
         "26"
        ],
        [
         "37",
         "Jane",
         "Peacock",
         "81"
        ],
        [
         "38",
         "Jane",
         "Peacock",
         "210"
        ],
        [
         "39",
         "Jane",
         "Peacock",
         "233"
        ],
        [
         "40",
         "Jane",
         "Peacock",
         "255"
        ],
        [
         "41",
         "Jane",
         "Peacock",
         "307"
        ],
        [
         "42",
         "Jane",
         "Peacock",
         "92"
        ],
        [
         "43",
         "Jane",
         "Peacock",
         "103"
        ],
        [
         "44",
         "Jane",
         "Peacock",
         "158"
        ],
        [
         "45",
         "Jane",
         "Peacock",
         "287"
        ],
        [
         "46",
         "Jane",
         "Peacock",
         "310"
        ],
        [
         "47",
         "Jane",
         "Peacock",
         "332"
        ],
        [
         "48",
         "Jane",
         "Peacock",
         "384"
        ],
        [
         "49",
         "Jane",
         "Peacock",
         "48"
        ]
       ],
       "shape": {
        "columns": 3,
        "rows": 412
       }
      },
      "text/html": [
       "<div>\n",
       "<style scoped>\n",
       "    .dataframe tbody tr th:only-of-type {\n",
       "        vertical-align: middle;\n",
       "    }\n",
       "\n",
       "    .dataframe tbody tr th {\n",
       "        vertical-align: top;\n",
       "    }\n",
       "\n",
       "    .dataframe thead th {\n",
       "        text-align: right;\n",
       "    }\n",
       "</style>\n",
       "<table border=\"1\" class=\"dataframe\">\n",
       "  <thead>\n",
       "    <tr style=\"text-align: right;\">\n",
       "      <th></th>\n",
       "      <th>FirstName</th>\n",
       "      <th>LastName</th>\n",
       "      <th>InvoiceId</th>\n",
       "    </tr>\n",
       "  </thead>\n",
       "  <tbody>\n",
       "    <tr>\n",
       "      <th>0</th>\n",
       "      <td>Jane</td>\n",
       "      <td>Peacock</td>\n",
       "      <td>98</td>\n",
       "    </tr>\n",
       "    <tr>\n",
       "      <th>1</th>\n",
       "      <td>Jane</td>\n",
       "      <td>Peacock</td>\n",
       "      <td>121</td>\n",
       "    </tr>\n",
       "    <tr>\n",
       "      <th>2</th>\n",
       "      <td>Jane</td>\n",
       "      <td>Peacock</td>\n",
       "      <td>143</td>\n",
       "    </tr>\n",
       "    <tr>\n",
       "      <th>3</th>\n",
       "      <td>Jane</td>\n",
       "      <td>Peacock</td>\n",
       "      <td>195</td>\n",
       "    </tr>\n",
       "    <tr>\n",
       "      <th>4</th>\n",
       "      <td>Jane</td>\n",
       "      <td>Peacock</td>\n",
       "      <td>316</td>\n",
       "    </tr>\n",
       "    <tr>\n",
       "      <th>...</th>\n",
       "      <td>...</td>\n",
       "      <td>...</td>\n",
       "      <td>...</td>\n",
       "    </tr>\n",
       "    <tr>\n",
       "      <th>407</th>\n",
       "      <td>Steve</td>\n",
       "      <td>Johnson</td>\n",
       "      <td>88</td>\n",
       "    </tr>\n",
       "    <tr>\n",
       "      <th>408</th>\n",
       "      <td>Steve</td>\n",
       "      <td>Johnson</td>\n",
       "      <td>217</td>\n",
       "    </tr>\n",
       "    <tr>\n",
       "      <th>409</th>\n",
       "      <td>Steve</td>\n",
       "      <td>Johnson</td>\n",
       "      <td>240</td>\n",
       "    </tr>\n",
       "    <tr>\n",
       "      <th>410</th>\n",
       "      <td>Steve</td>\n",
       "      <td>Johnson</td>\n",
       "      <td>262</td>\n",
       "    </tr>\n",
       "    <tr>\n",
       "      <th>411</th>\n",
       "      <td>Steve</td>\n",
       "      <td>Johnson</td>\n",
       "      <td>314</td>\n",
       "    </tr>\n",
       "  </tbody>\n",
       "</table>\n",
       "<p>412 rows × 3 columns</p>\n",
       "</div>"
      ],
      "text/plain": [
       "    FirstName LastName  InvoiceId\n",
       "0        Jane  Peacock         98\n",
       "1        Jane  Peacock        121\n",
       "2        Jane  Peacock        143\n",
       "3        Jane  Peacock        195\n",
       "4        Jane  Peacock        316\n",
       "..        ...      ...        ...\n",
       "407     Steve  Johnson         88\n",
       "408     Steve  Johnson        217\n",
       "409     Steve  Johnson        240\n",
       "410     Steve  Johnson        262\n",
       "411     Steve  Johnson        314\n",
       "\n",
       "[412 rows x 3 columns]"
      ]
     },
     "execution_count": 11,
     "metadata": {},
     "output_type": "execute_result"
    }
   ],
   "source": [
    "#  2. Obtén cada factura asociada a cada agente de ventas con su nombre completo\n",
    "\n",
    "query = '''\n",
    "SELECT e.FirstName, e.LastName, i.InvoiceId\n",
    "FROM Invoices i\n",
    "JOIN Customers c ON i.CustomerId = c.CustomerId\n",
    "JOIN Employees e ON c.SupportRepId = e.EmployeeId;\n",
    "'''\n",
    "\n",
    "df = sql_query(query)\n",
    "df"
   ]
  },
  {
   "cell_type": "code",
   "execution_count": 14,
   "metadata": {},
   "outputs": [
    {
     "data": {
      "application/vnd.microsoft.datawrangler.viewer.v0+json": {
       "columns": [
        {
         "name": "index",
         "rawType": "int64",
         "type": "integer"
        },
        {
         "name": "FirstName",
         "rawType": "object",
         "type": "string"
        },
        {
         "name": "LastName",
         "rawType": "object",
         "type": "string"
        },
        {
         "name": "Country",
         "rawType": "object",
         "type": "string"
        },
        {
         "name": "FirstName",
         "rawType": "object",
         "type": "string"
        },
        {
         "name": "LastName",
         "rawType": "object",
         "type": "string"
        },
        {
         "name": "Total",
         "rawType": "float64",
         "type": "float"
        }
       ],
       "conversionMethod": "pd.DataFrame",
       "ref": "cd5f2568-f70e-46ef-ba7d-fa1f00d7a9d9",
       "rows": [
        [
         "0",
         "Luís",
         "Gonçalves",
         "Brazil",
         "Jane",
         "Peacock",
         "3.98"
        ],
        [
         "1",
         "Luís",
         "Gonçalves",
         "Brazil",
         "Jane",
         "Peacock",
         "3.96"
        ],
        [
         "2",
         "Luís",
         "Gonçalves",
         "Brazil",
         "Jane",
         "Peacock",
         "5.94"
        ],
        [
         "3",
         "Luís",
         "Gonçalves",
         "Brazil",
         "Jane",
         "Peacock",
         "0.99"
        ],
        [
         "4",
         "Luís",
         "Gonçalves",
         "Brazil",
         "Jane",
         "Peacock",
         "1.98"
        ],
        [
         "5",
         "Luís",
         "Gonçalves",
         "Brazil",
         "Jane",
         "Peacock",
         "13.86"
        ],
        [
         "6",
         "Luís",
         "Gonçalves",
         "Brazil",
         "Jane",
         "Peacock",
         "8.91"
        ],
        [
         "7",
         "Leonie",
         "Köhler",
         "Germany",
         "Steve",
         "Johnson",
         "1.98"
        ],
        [
         "8",
         "Leonie",
         "Köhler",
         "Germany",
         "Steve",
         "Johnson",
         "13.86"
        ],
        [
         "9",
         "Leonie",
         "Köhler",
         "Germany",
         "Steve",
         "Johnson",
         "8.91"
        ],
        [
         "10",
         "Leonie",
         "Köhler",
         "Germany",
         "Steve",
         "Johnson",
         "1.98"
        ],
        [
         "11",
         "Leonie",
         "Köhler",
         "Germany",
         "Steve",
         "Johnson",
         "3.96"
        ],
        [
         "12",
         "Leonie",
         "Köhler",
         "Germany",
         "Steve",
         "Johnson",
         "5.94"
        ],
        [
         "13",
         "Leonie",
         "Köhler",
         "Germany",
         "Steve",
         "Johnson",
         "0.99"
        ],
        [
         "14",
         "François",
         "Tremblay",
         "Canada",
         "Jane",
         "Peacock",
         "3.98"
        ],
        [
         "15",
         "François",
         "Tremblay",
         "Canada",
         "Jane",
         "Peacock",
         "13.86"
        ],
        [
         "16",
         "François",
         "Tremblay",
         "Canada",
         "Jane",
         "Peacock",
         "8.91"
        ],
        [
         "17",
         "François",
         "Tremblay",
         "Canada",
         "Jane",
         "Peacock",
         "1.98"
        ],
        [
         "18",
         "François",
         "Tremblay",
         "Canada",
         "Jane",
         "Peacock",
         "3.96"
        ],
        [
         "19",
         "François",
         "Tremblay",
         "Canada",
         "Jane",
         "Peacock",
         "5.94"
        ],
        [
         "20",
         "François",
         "Tremblay",
         "Canada",
         "Jane",
         "Peacock",
         "0.99"
        ],
        [
         "21",
         "Bjørn",
         "Hansen",
         "Norway",
         "Margaret",
         "Park",
         "3.96"
        ],
        [
         "22",
         "Bjørn",
         "Hansen",
         "Norway",
         "Margaret",
         "Park",
         "5.94"
        ],
        [
         "23",
         "Bjørn",
         "Hansen",
         "Norway",
         "Margaret",
         "Park",
         "0.99"
        ],
        [
         "24",
         "Bjørn",
         "Hansen",
         "Norway",
         "Margaret",
         "Park",
         "1.98"
        ],
        [
         "25",
         "Bjørn",
         "Hansen",
         "Norway",
         "Margaret",
         "Park",
         "15.86"
        ],
        [
         "26",
         "Bjørn",
         "Hansen",
         "Norway",
         "Margaret",
         "Park",
         "8.91"
        ],
        [
         "27",
         "Bjørn",
         "Hansen",
         "Norway",
         "Margaret",
         "Park",
         "1.98"
        ],
        [
         "28",
         "František",
         "Wichterlová",
         "Czech Republic",
         "Margaret",
         "Park",
         "1.98"
        ],
        [
         "29",
         "František",
         "Wichterlová",
         "Czech Republic",
         "Margaret",
         "Park",
         "3.96"
        ],
        [
         "30",
         "František",
         "Wichterlová",
         "Czech Republic",
         "Margaret",
         "Park",
         "5.94"
        ],
        [
         "31",
         "František",
         "Wichterlová",
         "Czech Republic",
         "Margaret",
         "Park",
         "0.99"
        ],
        [
         "32",
         "František",
         "Wichterlová",
         "Czech Republic",
         "Margaret",
         "Park",
         "1.98"
        ],
        [
         "33",
         "František",
         "Wichterlová",
         "Czech Republic",
         "Margaret",
         "Park",
         "16.86"
        ],
        [
         "34",
         "František",
         "Wichterlová",
         "Czech Republic",
         "Margaret",
         "Park",
         "8.91"
        ],
        [
         "35",
         "Helena",
         "Holý",
         "Czech Republic",
         "Steve",
         "Johnson",
         "8.91"
        ],
        [
         "36",
         "Helena",
         "Holý",
         "Czech Republic",
         "Steve",
         "Johnson",
         "1.98"
        ],
        [
         "37",
         "Helena",
         "Holý",
         "Czech Republic",
         "Steve",
         "Johnson",
         "3.96"
        ],
        [
         "38",
         "Helena",
         "Holý",
         "Czech Republic",
         "Steve",
         "Johnson",
         "5.94"
        ],
        [
         "39",
         "Helena",
         "Holý",
         "Czech Republic",
         "Steve",
         "Johnson",
         "0.99"
        ],
        [
         "40",
         "Helena",
         "Holý",
         "Czech Republic",
         "Steve",
         "Johnson",
         "1.98"
        ],
        [
         "41",
         "Helena",
         "Holý",
         "Czech Republic",
         "Steve",
         "Johnson",
         "25.86"
        ],
        [
         "42",
         "Astrid",
         "Gruber",
         "Austria",
         "Steve",
         "Johnson",
         "1.98"
        ],
        [
         "43",
         "Astrid",
         "Gruber",
         "Austria",
         "Steve",
         "Johnson",
         "18.86"
        ],
        [
         "44",
         "Astrid",
         "Gruber",
         "Austria",
         "Steve",
         "Johnson",
         "8.91"
        ],
        [
         "45",
         "Astrid",
         "Gruber",
         "Austria",
         "Steve",
         "Johnson",
         "1.98"
        ],
        [
         "46",
         "Astrid",
         "Gruber",
         "Austria",
         "Steve",
         "Johnson",
         "3.96"
        ],
        [
         "47",
         "Astrid",
         "Gruber",
         "Austria",
         "Steve",
         "Johnson",
         "5.94"
        ],
        [
         "48",
         "Astrid",
         "Gruber",
         "Austria",
         "Steve",
         "Johnson",
         "0.99"
        ],
        [
         "49",
         "Daan",
         "Peeters",
         "Belgium",
         "Margaret",
         "Park",
         "5.94"
        ]
       ],
       "shape": {
        "columns": 6,
        "rows": 412
       }
      },
      "text/html": [
       "<div>\n",
       "<style scoped>\n",
       "    .dataframe tbody tr th:only-of-type {\n",
       "        vertical-align: middle;\n",
       "    }\n",
       "\n",
       "    .dataframe tbody tr th {\n",
       "        vertical-align: top;\n",
       "    }\n",
       "\n",
       "    .dataframe thead th {\n",
       "        text-align: right;\n",
       "    }\n",
       "</style>\n",
       "<table border=\"1\" class=\"dataframe\">\n",
       "  <thead>\n",
       "    <tr style=\"text-align: right;\">\n",
       "      <th></th>\n",
       "      <th>FirstName</th>\n",
       "      <th>LastName</th>\n",
       "      <th>Country</th>\n",
       "      <th>FirstName</th>\n",
       "      <th>LastName</th>\n",
       "      <th>Total</th>\n",
       "    </tr>\n",
       "  </thead>\n",
       "  <tbody>\n",
       "    <tr>\n",
       "      <th>0</th>\n",
       "      <td>Luís</td>\n",
       "      <td>Gonçalves</td>\n",
       "      <td>Brazil</td>\n",
       "      <td>Jane</td>\n",
       "      <td>Peacock</td>\n",
       "      <td>3.98</td>\n",
       "    </tr>\n",
       "    <tr>\n",
       "      <th>1</th>\n",
       "      <td>Luís</td>\n",
       "      <td>Gonçalves</td>\n",
       "      <td>Brazil</td>\n",
       "      <td>Jane</td>\n",
       "      <td>Peacock</td>\n",
       "      <td>3.96</td>\n",
       "    </tr>\n",
       "    <tr>\n",
       "      <th>2</th>\n",
       "      <td>Luís</td>\n",
       "      <td>Gonçalves</td>\n",
       "      <td>Brazil</td>\n",
       "      <td>Jane</td>\n",
       "      <td>Peacock</td>\n",
       "      <td>5.94</td>\n",
       "    </tr>\n",
       "    <tr>\n",
       "      <th>3</th>\n",
       "      <td>Luís</td>\n",
       "      <td>Gonçalves</td>\n",
       "      <td>Brazil</td>\n",
       "      <td>Jane</td>\n",
       "      <td>Peacock</td>\n",
       "      <td>0.99</td>\n",
       "    </tr>\n",
       "    <tr>\n",
       "      <th>4</th>\n",
       "      <td>Luís</td>\n",
       "      <td>Gonçalves</td>\n",
       "      <td>Brazil</td>\n",
       "      <td>Jane</td>\n",
       "      <td>Peacock</td>\n",
       "      <td>1.98</td>\n",
       "    </tr>\n",
       "    <tr>\n",
       "      <th>...</th>\n",
       "      <td>...</td>\n",
       "      <td>...</td>\n",
       "      <td>...</td>\n",
       "      <td>...</td>\n",
       "      <td>...</td>\n",
       "      <td>...</td>\n",
       "    </tr>\n",
       "    <tr>\n",
       "      <th>407</th>\n",
       "      <td>Puja</td>\n",
       "      <td>Srivastava</td>\n",
       "      <td>India</td>\n",
       "      <td>Jane</td>\n",
       "      <td>Peacock</td>\n",
       "      <td>5.94</td>\n",
       "    </tr>\n",
       "    <tr>\n",
       "      <th>408</th>\n",
       "      <td>Puja</td>\n",
       "      <td>Srivastava</td>\n",
       "      <td>India</td>\n",
       "      <td>Jane</td>\n",
       "      <td>Peacock</td>\n",
       "      <td>1.99</td>\n",
       "    </tr>\n",
       "    <tr>\n",
       "      <th>409</th>\n",
       "      <td>Puja</td>\n",
       "      <td>Srivastava</td>\n",
       "      <td>India</td>\n",
       "      <td>Jane</td>\n",
       "      <td>Peacock</td>\n",
       "      <td>1.98</td>\n",
       "    </tr>\n",
       "    <tr>\n",
       "      <th>410</th>\n",
       "      <td>Puja</td>\n",
       "      <td>Srivastava</td>\n",
       "      <td>India</td>\n",
       "      <td>Jane</td>\n",
       "      <td>Peacock</td>\n",
       "      <td>13.86</td>\n",
       "    </tr>\n",
       "    <tr>\n",
       "      <th>411</th>\n",
       "      <td>Puja</td>\n",
       "      <td>Srivastava</td>\n",
       "      <td>India</td>\n",
       "      <td>Jane</td>\n",
       "      <td>Peacock</td>\n",
       "      <td>8.91</td>\n",
       "    </tr>\n",
       "  </tbody>\n",
       "</table>\n",
       "<p>412 rows × 6 columns</p>\n",
       "</div>"
      ],
      "text/plain": [
       "    FirstName    LastName Country FirstName LastName  Total\n",
       "0        Luís   Gonçalves  Brazil      Jane  Peacock   3.98\n",
       "1        Luís   Gonçalves  Brazil      Jane  Peacock   3.96\n",
       "2        Luís   Gonçalves  Brazil      Jane  Peacock   5.94\n",
       "3        Luís   Gonçalves  Brazil      Jane  Peacock   0.99\n",
       "4        Luís   Gonçalves  Brazil      Jane  Peacock   1.98\n",
       "..        ...         ...     ...       ...      ...    ...\n",
       "407      Puja  Srivastava   India      Jane  Peacock   5.94\n",
       "408      Puja  Srivastava   India      Jane  Peacock   1.99\n",
       "409      Puja  Srivastava   India      Jane  Peacock   1.98\n",
       "410      Puja  Srivastava   India      Jane  Peacock  13.86\n",
       "411      Puja  Srivastava   India      Jane  Peacock   8.91\n",
       "\n",
       "[412 rows x 6 columns]"
      ]
     },
     "execution_count": 14,
     "metadata": {},
     "output_type": "execute_result"
    }
   ],
   "source": [
    "# 3. Obtén el nombre del cliente, el país, el nombre del agente y el total\n",
    "\n",
    "query = '''\n",
    "SELECT c.FirstName, c.LastName, \n",
    "       c.Country, \n",
    "       e.FirstName, e.LastName, \n",
    "       i.Total\n",
    "FROM Invoices i\n",
    "JOIN Customers c ON i.CustomerId = c.CustomerId\n",
    "JOIN Employees e ON c.SupportRepId = e.EmployeeId;\n",
    "'''\n",
    "\n",
    "df = sql_query(query)\n",
    "df"
   ]
  },
  {
   "cell_type": "code",
   "execution_count": 15,
   "metadata": {},
   "outputs": [
    {
     "data": {
      "application/vnd.microsoft.datawrangler.viewer.v0+json": {
       "columns": [
        {
         "name": "index",
         "rawType": "int64",
         "type": "integer"
        },
        {
         "name": "InvoiceId",
         "rawType": "int64",
         "type": "integer"
        },
        {
         "name": "Cancion",
         "rawType": "object",
         "type": "string"
        },
        {
         "name": "UnitPrice",
         "rawType": "float64",
         "type": "float"
        },
        {
         "name": "Quantity",
         "rawType": "int64",
         "type": "integer"
        }
       ],
       "conversionMethod": "pd.DataFrame",
       "ref": "9fedef85-bc12-4ed0-b643-f24da4a53fdd",
       "rows": [
        [
         "0",
         "1",
         "Balls to the Wall",
         "0.99",
         "1"
        ],
        [
         "1",
         "1",
         "Restless and Wild",
         "0.99",
         "1"
        ],
        [
         "2",
         "2",
         "Put The Finger On You",
         "0.99",
         "1"
        ],
        [
         "3",
         "2",
         "Inject The Venom",
         "0.99",
         "1"
        ],
        [
         "4",
         "2",
         "Evil Walks",
         "0.99",
         "1"
        ],
        [
         "5",
         "2",
         "Breaking The Rules",
         "0.99",
         "1"
        ],
        [
         "6",
         "3",
         "Dog Eat Dog",
         "0.99",
         "1"
        ],
        [
         "7",
         "3",
         "Overdose",
         "0.99",
         "1"
        ],
        [
         "8",
         "3",
         "Love In An Elevator",
         "0.99",
         "1"
        ],
        [
         "9",
         "3",
         "Janie's Got A Gun",
         "0.99",
         "1"
        ],
        [
         "10",
         "3",
         "Deuces Are Wild",
         "0.99",
         "1"
        ],
        [
         "11",
         "3",
         "Angel",
         "0.99",
         "1"
        ],
        [
         "12",
         "4",
         "Right Through You",
         "0.99",
         "1"
        ],
        [
         "13",
         "4",
         "Not The Doctor",
         "0.99",
         "1"
        ],
        [
         "14",
         "4",
         "Bleed The Freak",
         "0.99",
         "1"
        ],
        [
         "15",
         "4",
         "Confusion",
         "0.99",
         "1"
        ],
        [
         "16",
         "4",
         "Por Causa De Você",
         "0.99",
         "1"
        ],
        [
         "17",
         "4",
         "Angela",
         "0.99",
         "1"
        ],
        [
         "18",
         "4",
         "Master Of Puppets",
         "0.99",
         "1"
        ],
        [
         "19",
         "4",
         "Welcome Home (Sanitarium)",
         "0.99",
         "1"
        ],
        [
         "20",
         "4",
         "Set It Off",
         "0.99",
         "1"
        ],
        [
         "21",
         "5",
         "Your Time Has Come",
         "0.99",
         "1"
        ],
        [
         "22",
         "5",
         "Dandelion",
         "0.99",
         "1"
        ],
        [
         "23",
         "5",
         "Rock 'N' Roll Music",
         "0.99",
         "1"
        ],
        [
         "24",
         "5",
         "Moon germs",
         "0.99",
         "1"
        ],
        [
         "25",
         "5",
         "Super Terrorizer",
         "0.99",
         "1"
        ],
        [
         "26",
         "5",
         "Heart Of Gold",
         "0.99",
         "1"
        ],
        [
         "27",
         "5",
         "Evil Woman",
         "0.99",
         "1"
        ],
        [
         "28",
         "5",
         "Cornucopia",
         "0.99",
         "1"
        ],
        [
         "29",
         "5",
         "Bowels Of The Devil",
         "0.99",
         "1"
        ],
        [
         "30",
         "5",
         "Body Count Anthem",
         "0.99",
         "1"
        ],
        [
         "31",
         "5",
         "Jerusalem",
         "0.99",
         "1"
        ],
        [
         "32",
         "5",
         "When My Left Eye Jumps",
         "0.99",
         "1"
        ],
        [
         "33",
         "5",
         "Meditação",
         "0.99",
         "1"
        ],
        [
         "34",
         "5",
         "Esse Cara",
         "0.99",
         "1"
        ],
        [
         "35",
         "6",
         "Bye, Bye Brasil",
         "0.99",
         "1"
        ],
        [
         "36",
         "7",
         "Atras Da Porta",
         "0.99",
         "1"
        ],
        [
         "37",
         "7",
         "Tatuagem",
         "0.99",
         "1"
        ],
        [
         "38",
         "8",
         "Morena De Angola",
         "0.99",
         "1"
        ],
        [
         "39",
         "8",
         "A Banda",
         "0.99",
         "1"
        ],
        [
         "40",
         "9",
         "Com Açúcar E Com Afeto",
         "0.99",
         "1"
        ],
        [
         "41",
         "9",
         "Meu Caro Amigo",
         "0.99",
         "1"
        ],
        [
         "42",
         "9",
         "Trocando Em Miúdos",
         "0.99",
         "1"
        ],
        [
         "43",
         "9",
         "Gota D'água",
         "0.99",
         "1"
        ],
        [
         "44",
         "10",
         "Etnia",
         "0.99",
         "1"
        ],
        [
         "45",
         "10",
         "Samba Do Lado",
         "0.99",
         "1"
        ],
        [
         "46",
         "10",
         "Sobremesa",
         "0.99",
         "1"
        ],
        [
         "47",
         "10",
         "Sangue De Bairro",
         "0.99",
         "1"
        ],
        [
         "48",
         "10",
         "Amor De Muito",
         "0.99",
         "1"
        ],
        [
         "49",
         "10",
         "Maracatu Atômico [Trip Hop]",
         "0.99",
         "1"
        ]
       ],
       "shape": {
        "columns": 4,
        "rows": 2240
       }
      },
      "text/html": [
       "<div>\n",
       "<style scoped>\n",
       "    .dataframe tbody tr th:only-of-type {\n",
       "        vertical-align: middle;\n",
       "    }\n",
       "\n",
       "    .dataframe tbody tr th {\n",
       "        vertical-align: top;\n",
       "    }\n",
       "\n",
       "    .dataframe thead th {\n",
       "        text-align: right;\n",
       "    }\n",
       "</style>\n",
       "<table border=\"1\" class=\"dataframe\">\n",
       "  <thead>\n",
       "    <tr style=\"text-align: right;\">\n",
       "      <th></th>\n",
       "      <th>InvoiceId</th>\n",
       "      <th>Cancion</th>\n",
       "      <th>UnitPrice</th>\n",
       "      <th>Quantity</th>\n",
       "    </tr>\n",
       "  </thead>\n",
       "  <tbody>\n",
       "    <tr>\n",
       "      <th>0</th>\n",
       "      <td>1</td>\n",
       "      <td>Balls to the Wall</td>\n",
       "      <td>0.99</td>\n",
       "      <td>1</td>\n",
       "    </tr>\n",
       "    <tr>\n",
       "      <th>1</th>\n",
       "      <td>1</td>\n",
       "      <td>Restless and Wild</td>\n",
       "      <td>0.99</td>\n",
       "      <td>1</td>\n",
       "    </tr>\n",
       "    <tr>\n",
       "      <th>2</th>\n",
       "      <td>2</td>\n",
       "      <td>Put The Finger On You</td>\n",
       "      <td>0.99</td>\n",
       "      <td>1</td>\n",
       "    </tr>\n",
       "    <tr>\n",
       "      <th>3</th>\n",
       "      <td>2</td>\n",
       "      <td>Inject The Venom</td>\n",
       "      <td>0.99</td>\n",
       "      <td>1</td>\n",
       "    </tr>\n",
       "    <tr>\n",
       "      <th>4</th>\n",
       "      <td>2</td>\n",
       "      <td>Evil Walks</td>\n",
       "      <td>0.99</td>\n",
       "      <td>1</td>\n",
       "    </tr>\n",
       "    <tr>\n",
       "      <th>...</th>\n",
       "      <td>...</td>\n",
       "      <td>...</td>\n",
       "      <td>...</td>\n",
       "      <td>...</td>\n",
       "    </tr>\n",
       "    <tr>\n",
       "      <th>2235</th>\n",
       "      <td>411</td>\n",
       "      <td>Looking For Love</td>\n",
       "      <td>0.99</td>\n",
       "      <td>1</td>\n",
       "    </tr>\n",
       "    <tr>\n",
       "      <th>2236</th>\n",
       "      <td>411</td>\n",
       "      <td>Sweet Lady Luck</td>\n",
       "      <td>0.99</td>\n",
       "      <td>1</td>\n",
       "    </tr>\n",
       "    <tr>\n",
       "      <th>2237</th>\n",
       "      <td>411</td>\n",
       "      <td>Feirinha da Pavuna/Luz do Repente/Bagaço da La...</td>\n",
       "      <td>0.99</td>\n",
       "      <td>1</td>\n",
       "    </tr>\n",
       "    <tr>\n",
       "      <th>2238</th>\n",
       "      <td>411</td>\n",
       "      <td>Samba pras moças</td>\n",
       "      <td>0.99</td>\n",
       "      <td>1</td>\n",
       "    </tr>\n",
       "    <tr>\n",
       "      <th>2239</th>\n",
       "      <td>412</td>\n",
       "      <td>Hot Girl</td>\n",
       "      <td>1.99</td>\n",
       "      <td>1</td>\n",
       "    </tr>\n",
       "  </tbody>\n",
       "</table>\n",
       "<p>2240 rows × 4 columns</p>\n",
       "</div>"
      ],
      "text/plain": [
       "      InvoiceId                                            Cancion  UnitPrice  \\\n",
       "0             1                                  Balls to the Wall       0.99   \n",
       "1             1                                  Restless and Wild       0.99   \n",
       "2             2                              Put The Finger On You       0.99   \n",
       "3             2                                   Inject The Venom       0.99   \n",
       "4             2                                         Evil Walks       0.99   \n",
       "...         ...                                                ...        ...   \n",
       "2235        411                                   Looking For Love       0.99   \n",
       "2236        411                                    Sweet Lady Luck       0.99   \n",
       "2237        411  Feirinha da Pavuna/Luz do Repente/Bagaço da La...       0.99   \n",
       "2238        411                                   Samba pras moças       0.99   \n",
       "2239        412                                           Hot Girl       1.99   \n",
       "\n",
       "      Quantity  \n",
       "0            1  \n",
       "1            1  \n",
       "2            1  \n",
       "3            1  \n",
       "4            1  \n",
       "...        ...  \n",
       "2235         1  \n",
       "2236         1  \n",
       "2237         1  \n",
       "2238         1  \n",
       "2239         1  \n",
       "\n",
       "[2240 rows x 4 columns]"
      ]
     },
     "execution_count": 15,
     "metadata": {},
     "output_type": "execute_result"
    }
   ],
   "source": [
    "#  4. Obtén cada artículo de la factura con el nombre de la canción\n",
    "\n",
    "query = '''\n",
    "SELECT ii.InvoiceId, \n",
    "       t.Name AS Cancion, \n",
    "       ii.UnitPrice, \n",
    "       ii.Quantity\n",
    "FROM Invoice_Items ii\n",
    "JOIN Tracks t ON ii.TrackId = t.TrackId;\n",
    "\n",
    "'''\n",
    "\n",
    "df = sql_query(query)\n",
    "df"
   ]
  },
  {
   "cell_type": "code",
   "execution_count": 16,
   "metadata": {},
   "outputs": [
    {
     "data": {
      "application/vnd.microsoft.datawrangler.viewer.v0+json": {
       "columns": [
        {
         "name": "index",
         "rawType": "int64",
         "type": "integer"
        },
        {
         "name": "Cancion",
         "rawType": "object",
         "type": "string"
        },
        {
         "name": "Formato",
         "rawType": "object",
         "type": "string"
        },
        {
         "name": "Album",
         "rawType": "object",
         "type": "string"
        },
        {
         "name": "Genero",
         "rawType": "object",
         "type": "string"
        }
       ],
       "conversionMethod": "pd.DataFrame",
       "ref": "af3c2987-89ef-40cc-86dc-eb903e78bb1e",
       "rows": [
        [
         "0",
         "For Those About To Rock (We Salute You)",
         "MPEG audio file",
         "For Those About To Rock We Salute You",
         "Rock"
        ],
        [
         "1",
         "Balls to the Wall",
         "Protected AAC audio file",
         "Balls to the Wall",
         "Rock"
        ],
        [
         "2",
         "Fast As a Shark",
         "Protected AAC audio file",
         "Restless and Wild",
         "Rock"
        ],
        [
         "3",
         "Restless and Wild",
         "Protected AAC audio file",
         "Restless and Wild",
         "Rock"
        ],
        [
         "4",
         "Princess of the Dawn",
         "Protected AAC audio file",
         "Restless and Wild",
         "Rock"
        ],
        [
         "5",
         "Put The Finger On You",
         "MPEG audio file",
         "For Those About To Rock We Salute You",
         "Rock"
        ],
        [
         "6",
         "Let's Get It Up",
         "MPEG audio file",
         "For Those About To Rock We Salute You",
         "Rock"
        ],
        [
         "7",
         "Inject The Venom",
         "MPEG audio file",
         "For Those About To Rock We Salute You",
         "Rock"
        ],
        [
         "8",
         "Snowballed",
         "MPEG audio file",
         "For Those About To Rock We Salute You",
         "Rock"
        ],
        [
         "9",
         "Evil Walks",
         "MPEG audio file",
         "For Those About To Rock We Salute You",
         "Rock"
        ],
        [
         "10",
         "C.O.D.",
         "MPEG audio file",
         "For Those About To Rock We Salute You",
         "Rock"
        ],
        [
         "11",
         "Breaking The Rules",
         "MPEG audio file",
         "For Those About To Rock We Salute You",
         "Rock"
        ],
        [
         "12",
         "Night Of The Long Knives",
         "MPEG audio file",
         "For Those About To Rock We Salute You",
         "Rock"
        ],
        [
         "13",
         "Spellbound",
         "MPEG audio file",
         "For Those About To Rock We Salute You",
         "Rock"
        ],
        [
         "14",
         "Go Down",
         "MPEG audio file",
         "Let There Be Rock",
         "Rock"
        ],
        [
         "15",
         "Dog Eat Dog",
         "MPEG audio file",
         "Let There Be Rock",
         "Rock"
        ],
        [
         "16",
         "Let There Be Rock",
         "MPEG audio file",
         "Let There Be Rock",
         "Rock"
        ],
        [
         "17",
         "Bad Boy Boogie",
         "MPEG audio file",
         "Let There Be Rock",
         "Rock"
        ],
        [
         "18",
         "Problem Child",
         "MPEG audio file",
         "Let There Be Rock",
         "Rock"
        ],
        [
         "19",
         "Overdose",
         "MPEG audio file",
         "Let There Be Rock",
         "Rock"
        ],
        [
         "20",
         "Hell Ain't A Bad Place To Be",
         "MPEG audio file",
         "Let There Be Rock",
         "Rock"
        ],
        [
         "21",
         "Whole Lotta Rosie",
         "MPEG audio file",
         "Let There Be Rock",
         "Rock"
        ],
        [
         "22",
         "Walk On Water",
         "MPEG audio file",
         "Big Ones",
         "Rock"
        ],
        [
         "23",
         "Love In An Elevator",
         "MPEG audio file",
         "Big Ones",
         "Rock"
        ],
        [
         "24",
         "Rag Doll",
         "MPEG audio file",
         "Big Ones",
         "Rock"
        ],
        [
         "25",
         "What It Takes",
         "MPEG audio file",
         "Big Ones",
         "Rock"
        ],
        [
         "26",
         "Dude (Looks Like A Lady)",
         "MPEG audio file",
         "Big Ones",
         "Rock"
        ],
        [
         "27",
         "Janie's Got A Gun",
         "MPEG audio file",
         "Big Ones",
         "Rock"
        ],
        [
         "28",
         "Cryin'",
         "MPEG audio file",
         "Big Ones",
         "Rock"
        ],
        [
         "29",
         "Amazing",
         "MPEG audio file",
         "Big Ones",
         "Rock"
        ],
        [
         "30",
         "Blind Man",
         "MPEG audio file",
         "Big Ones",
         "Rock"
        ],
        [
         "31",
         "Deuces Are Wild",
         "MPEG audio file",
         "Big Ones",
         "Rock"
        ],
        [
         "32",
         "The Other Side",
         "MPEG audio file",
         "Big Ones",
         "Rock"
        ],
        [
         "33",
         "Crazy",
         "MPEG audio file",
         "Big Ones",
         "Rock"
        ],
        [
         "34",
         "Eat The Rich",
         "MPEG audio file",
         "Big Ones",
         "Rock"
        ],
        [
         "35",
         "Angel",
         "MPEG audio file",
         "Big Ones",
         "Rock"
        ],
        [
         "36",
         "Livin' On The Edge",
         "MPEG audio file",
         "Big Ones",
         "Rock"
        ],
        [
         "37",
         "All I Really Want",
         "MPEG audio file",
         "Jagged Little Pill",
         "Rock"
        ],
        [
         "38",
         "You Oughta Know",
         "MPEG audio file",
         "Jagged Little Pill",
         "Rock"
        ],
        [
         "39",
         "Perfect",
         "MPEG audio file",
         "Jagged Little Pill",
         "Rock"
        ],
        [
         "40",
         "Hand In My Pocket",
         "MPEG audio file",
         "Jagged Little Pill",
         "Rock"
        ],
        [
         "41",
         "Right Through You",
         "MPEG audio file",
         "Jagged Little Pill",
         "Rock"
        ],
        [
         "42",
         "Forgiven",
         "MPEG audio file",
         "Jagged Little Pill",
         "Rock"
        ],
        [
         "43",
         "You Learn",
         "MPEG audio file",
         "Jagged Little Pill",
         "Rock"
        ],
        [
         "44",
         "Head Over Feet",
         "MPEG audio file",
         "Jagged Little Pill",
         "Rock"
        ],
        [
         "45",
         "Mary Jane",
         "MPEG audio file",
         "Jagged Little Pill",
         "Rock"
        ],
        [
         "46",
         "Ironic",
         "MPEG audio file",
         "Jagged Little Pill",
         "Rock"
        ],
        [
         "47",
         "Not The Doctor",
         "MPEG audio file",
         "Jagged Little Pill",
         "Rock"
        ],
        [
         "48",
         "Wake Up",
         "MPEG audio file",
         "Jagged Little Pill",
         "Rock"
        ],
        [
         "49",
         "You Oughta Know (Alternate)",
         "MPEG audio file",
         "Jagged Little Pill",
         "Rock"
        ]
       ],
       "shape": {
        "columns": 4,
        "rows": 3503
       }
      },
      "text/html": [
       "<div>\n",
       "<style scoped>\n",
       "    .dataframe tbody tr th:only-of-type {\n",
       "        vertical-align: middle;\n",
       "    }\n",
       "\n",
       "    .dataframe tbody tr th {\n",
       "        vertical-align: top;\n",
       "    }\n",
       "\n",
       "    .dataframe thead th {\n",
       "        text-align: right;\n",
       "    }\n",
       "</style>\n",
       "<table border=\"1\" class=\"dataframe\">\n",
       "  <thead>\n",
       "    <tr style=\"text-align: right;\">\n",
       "      <th></th>\n",
       "      <th>Cancion</th>\n",
       "      <th>Formato</th>\n",
       "      <th>Album</th>\n",
       "      <th>Genero</th>\n",
       "    </tr>\n",
       "  </thead>\n",
       "  <tbody>\n",
       "    <tr>\n",
       "      <th>0</th>\n",
       "      <td>For Those About To Rock (We Salute You)</td>\n",
       "      <td>MPEG audio file</td>\n",
       "      <td>For Those About To Rock We Salute You</td>\n",
       "      <td>Rock</td>\n",
       "    </tr>\n",
       "    <tr>\n",
       "      <th>1</th>\n",
       "      <td>Balls to the Wall</td>\n",
       "      <td>Protected AAC audio file</td>\n",
       "      <td>Balls to the Wall</td>\n",
       "      <td>Rock</td>\n",
       "    </tr>\n",
       "    <tr>\n",
       "      <th>2</th>\n",
       "      <td>Fast As a Shark</td>\n",
       "      <td>Protected AAC audio file</td>\n",
       "      <td>Restless and Wild</td>\n",
       "      <td>Rock</td>\n",
       "    </tr>\n",
       "    <tr>\n",
       "      <th>3</th>\n",
       "      <td>Restless and Wild</td>\n",
       "      <td>Protected AAC audio file</td>\n",
       "      <td>Restless and Wild</td>\n",
       "      <td>Rock</td>\n",
       "    </tr>\n",
       "    <tr>\n",
       "      <th>4</th>\n",
       "      <td>Princess of the Dawn</td>\n",
       "      <td>Protected AAC audio file</td>\n",
       "      <td>Restless and Wild</td>\n",
       "      <td>Rock</td>\n",
       "    </tr>\n",
       "    <tr>\n",
       "      <th>...</th>\n",
       "      <td>...</td>\n",
       "      <td>...</td>\n",
       "      <td>...</td>\n",
       "      <td>...</td>\n",
       "    </tr>\n",
       "    <tr>\n",
       "      <th>3498</th>\n",
       "      <td>Pini Di Roma (Pinien Von Rom) \\ I Pini Della V...</td>\n",
       "      <td>Protected AAC audio file</td>\n",
       "      <td>Respighi:Pines of Rome</td>\n",
       "      <td>Classical</td>\n",
       "    </tr>\n",
       "    <tr>\n",
       "      <th>3499</th>\n",
       "      <td>String Quartet No. 12 in C Minor, D. 703 \"Quar...</td>\n",
       "      <td>Protected AAC audio file</td>\n",
       "      <td>Schubert: The Late String Quartets &amp; String Qu...</td>\n",
       "      <td>Classical</td>\n",
       "    </tr>\n",
       "    <tr>\n",
       "      <th>3500</th>\n",
       "      <td>L'orfeo, Act 3, Sinfonia (Orchestra)</td>\n",
       "      <td>Protected AAC audio file</td>\n",
       "      <td>Monteverdi: L'Orfeo</td>\n",
       "      <td>Classical</td>\n",
       "    </tr>\n",
       "    <tr>\n",
       "      <th>3501</th>\n",
       "      <td>Quintet for Horn, Violin, 2 Violas, and Cello ...</td>\n",
       "      <td>Protected AAC audio file</td>\n",
       "      <td>Mozart: Chamber Music</td>\n",
       "      <td>Classical</td>\n",
       "    </tr>\n",
       "    <tr>\n",
       "      <th>3502</th>\n",
       "      <td>Die Zauberflöte, K.620: \"Der Hölle Rache Kocht...</td>\n",
       "      <td>Protected AAC audio file</td>\n",
       "      <td>Mozart Gala: Famous Arias</td>\n",
       "      <td>Opera</td>\n",
       "    </tr>\n",
       "  </tbody>\n",
       "</table>\n",
       "<p>3503 rows × 4 columns</p>\n",
       "</div>"
      ],
      "text/plain": [
       "                                                Cancion  \\\n",
       "0               For Those About To Rock (We Salute You)   \n",
       "1                                     Balls to the Wall   \n",
       "2                                       Fast As a Shark   \n",
       "3                                     Restless and Wild   \n",
       "4                                  Princess of the Dawn   \n",
       "...                                                 ...   \n",
       "3498  Pini Di Roma (Pinien Von Rom) \\ I Pini Della V...   \n",
       "3499  String Quartet No. 12 in C Minor, D. 703 \"Quar...   \n",
       "3500               L'orfeo, Act 3, Sinfonia (Orchestra)   \n",
       "3501  Quintet for Horn, Violin, 2 Violas, and Cello ...   \n",
       "3502  Die Zauberflöte, K.620: \"Der Hölle Rache Kocht...   \n",
       "\n",
       "                       Formato  \\\n",
       "0              MPEG audio file   \n",
       "1     Protected AAC audio file   \n",
       "2     Protected AAC audio file   \n",
       "3     Protected AAC audio file   \n",
       "4     Protected AAC audio file   \n",
       "...                        ...   \n",
       "3498  Protected AAC audio file   \n",
       "3499  Protected AAC audio file   \n",
       "3500  Protected AAC audio file   \n",
       "3501  Protected AAC audio file   \n",
       "3502  Protected AAC audio file   \n",
       "\n",
       "                                                  Album     Genero  \n",
       "0                 For Those About To Rock We Salute You       Rock  \n",
       "1                                     Balls to the Wall       Rock  \n",
       "2                                     Restless and Wild       Rock  \n",
       "3                                     Restless and Wild       Rock  \n",
       "4                                     Restless and Wild       Rock  \n",
       "...                                                 ...        ...  \n",
       "3498                             Respighi:Pines of Rome  Classical  \n",
       "3499  Schubert: The Late String Quartets & String Qu...  Classical  \n",
       "3500                                Monteverdi: L'Orfeo  Classical  \n",
       "3501                              Mozart: Chamber Music  Classical  \n",
       "3502                          Mozart Gala: Famous Arias      Opera  \n",
       "\n",
       "[3503 rows x 4 columns]"
      ]
     },
     "execution_count": 16,
     "metadata": {},
     "output_type": "execute_result"
    }
   ],
   "source": [
    "#  5. Muestra todas las canciones con su nombre, formato, álbum y género\n",
    "query = '''\n",
    "SELECT t.Name AS Cancion, \n",
    "       m.Name AS Formato, \n",
    "       a.Title AS Album, \n",
    "       g.Name AS Genero\n",
    "FROM Tracks t\n",
    "JOIN Media_Types m ON t.MediaTypeId = m.MediaTypeId\n",
    "JOIN Albums a ON t.AlbumId = a.AlbumId\n",
    "JOIN Genres g ON t.GenreId = g.GenreId;\n",
    "'''\n",
    "\n",
    "df = sql_query(query)\n",
    "df"
   ]
  },
  {
   "cell_type": "code",
   "execution_count": 22,
   "metadata": {},
   "outputs": [
    {
     "data": {
      "application/vnd.microsoft.datawrangler.viewer.v0+json": {
       "columns": [
        {
         "name": "index",
         "rawType": "int64",
         "type": "integer"
        },
        {
         "name": "Playlist",
         "rawType": "object",
         "type": "string"
        },
        {
         "name": "CantidadCanciones",
         "rawType": "int64",
         "type": "integer"
        }
       ],
       "conversionMethod": "pd.DataFrame",
       "ref": "5a9da7c7-4bcc-4dbe-81fe-47efd5b1b530",
       "rows": [
        [
         "0",
         "90’s Music",
         "1477"
        ],
        [
         "1",
         "Brazilian Music",
         "39"
        ],
        [
         "2",
         "Classical",
         "75"
        ],
        [
         "3",
         "Classical 101 - Deep Cuts",
         "25"
        ],
        [
         "4",
         "Classical 101 - Next Steps",
         "25"
        ],
        [
         "5",
         "Classical 101 - The Basics",
         "25"
        ],
        [
         "6",
         "Grunge",
         "15"
        ],
        [
         "7",
         "Heavy Metal Classic",
         "26"
        ],
        [
         "8",
         "Music",
         "6580"
        ],
        [
         "9",
         "Music Videos",
         "1"
        ],
        [
         "10",
         "On-The-Go 1",
         "1"
        ],
        [
         "11",
         "TV Shows",
         "426"
        ]
       ],
       "shape": {
        "columns": 2,
        "rows": 12
       }
      },
      "text/html": [
       "<div>\n",
       "<style scoped>\n",
       "    .dataframe tbody tr th:only-of-type {\n",
       "        vertical-align: middle;\n",
       "    }\n",
       "\n",
       "    .dataframe tbody tr th {\n",
       "        vertical-align: top;\n",
       "    }\n",
       "\n",
       "    .dataframe thead th {\n",
       "        text-align: right;\n",
       "    }\n",
       "</style>\n",
       "<table border=\"1\" class=\"dataframe\">\n",
       "  <thead>\n",
       "    <tr style=\"text-align: right;\">\n",
       "      <th></th>\n",
       "      <th>Playlist</th>\n",
       "      <th>CantidadCanciones</th>\n",
       "    </tr>\n",
       "  </thead>\n",
       "  <tbody>\n",
       "    <tr>\n",
       "      <th>0</th>\n",
       "      <td>90’s Music</td>\n",
       "      <td>1477</td>\n",
       "    </tr>\n",
       "    <tr>\n",
       "      <th>1</th>\n",
       "      <td>Brazilian Music</td>\n",
       "      <td>39</td>\n",
       "    </tr>\n",
       "    <tr>\n",
       "      <th>2</th>\n",
       "      <td>Classical</td>\n",
       "      <td>75</td>\n",
       "    </tr>\n",
       "    <tr>\n",
       "      <th>3</th>\n",
       "      <td>Classical 101 - Deep Cuts</td>\n",
       "      <td>25</td>\n",
       "    </tr>\n",
       "    <tr>\n",
       "      <th>4</th>\n",
       "      <td>Classical 101 - Next Steps</td>\n",
       "      <td>25</td>\n",
       "    </tr>\n",
       "    <tr>\n",
       "      <th>5</th>\n",
       "      <td>Classical 101 - The Basics</td>\n",
       "      <td>25</td>\n",
       "    </tr>\n",
       "    <tr>\n",
       "      <th>6</th>\n",
       "      <td>Grunge</td>\n",
       "      <td>15</td>\n",
       "    </tr>\n",
       "    <tr>\n",
       "      <th>7</th>\n",
       "      <td>Heavy Metal Classic</td>\n",
       "      <td>26</td>\n",
       "    </tr>\n",
       "    <tr>\n",
       "      <th>8</th>\n",
       "      <td>Music</td>\n",
       "      <td>6580</td>\n",
       "    </tr>\n",
       "    <tr>\n",
       "      <th>9</th>\n",
       "      <td>Music Videos</td>\n",
       "      <td>1</td>\n",
       "    </tr>\n",
       "    <tr>\n",
       "      <th>10</th>\n",
       "      <td>On-The-Go 1</td>\n",
       "      <td>1</td>\n",
       "    </tr>\n",
       "    <tr>\n",
       "      <th>11</th>\n",
       "      <td>TV Shows</td>\n",
       "      <td>426</td>\n",
       "    </tr>\n",
       "  </tbody>\n",
       "</table>\n",
       "</div>"
      ],
      "text/plain": [
       "                      Playlist  CantidadCanciones\n",
       "0                   90’s Music               1477\n",
       "1              Brazilian Music                 39\n",
       "2                    Classical                 75\n",
       "3    Classical 101 - Deep Cuts                 25\n",
       "4   Classical 101 - Next Steps                 25\n",
       "5   Classical 101 - The Basics                 25\n",
       "6                       Grunge                 15\n",
       "7          Heavy Metal Classic                 26\n",
       "8                        Music               6580\n",
       "9                 Music Videos                  1\n",
       "10                 On-The-Go 1                  1\n",
       "11                    TV Shows                426"
      ]
     },
     "execution_count": 22,
     "metadata": {},
     "output_type": "execute_result"
    }
   ],
   "source": [
    "# 6. Cuántas canciones hay en cada playlist\n",
    "\n",
    "query = '''\n",
    "SELECT p.Name AS Playlist, \n",
    "       COUNT(pt.TrackId) AS CantidadCanciones\n",
    "FROM Playlists p\n",
    "JOIN Playlist_Track pt ON p.PlaylistId = pt.PlaylistId\n",
    "GROUP BY p.Name;\n",
    "'''\n",
    "\n",
    "df = sql_query(query)\n",
    "df"
   ]
  },
  {
   "cell_type": "code",
   "execution_count": 23,
   "metadata": {},
   "outputs": [
    {
     "data": {
      "application/vnd.microsoft.datawrangler.viewer.v0+json": {
       "columns": [
        {
         "name": "index",
         "rawType": "int64",
         "type": "integer"
        },
        {
         "name": "empleado",
         "rawType": "object",
         "type": "string"
        },
        {
         "name": "total_vendido",
         "rawType": "float64",
         "type": "float"
        }
       ],
       "conversionMethod": "pd.DataFrame",
       "ref": "94ea08ef-5458-4d8f-80a3-7b3f1e8473d4",
       "rows": [
        [
         "0",
         "Jane Peacock",
         "833.04"
        ],
        [
         "1",
         "Margaret Park",
         "775.4"
        ],
        [
         "2",
         "Steve Johnson",
         "720.16"
        ]
       ],
       "shape": {
        "columns": 2,
        "rows": 3
       }
      },
      "text/html": [
       "<div>\n",
       "<style scoped>\n",
       "    .dataframe tbody tr th:only-of-type {\n",
       "        vertical-align: middle;\n",
       "    }\n",
       "\n",
       "    .dataframe tbody tr th {\n",
       "        vertical-align: top;\n",
       "    }\n",
       "\n",
       "    .dataframe thead th {\n",
       "        text-align: right;\n",
       "    }\n",
       "</style>\n",
       "<table border=\"1\" class=\"dataframe\">\n",
       "  <thead>\n",
       "    <tr style=\"text-align: right;\">\n",
       "      <th></th>\n",
       "      <th>empleado</th>\n",
       "      <th>total_vendido</th>\n",
       "    </tr>\n",
       "  </thead>\n",
       "  <tbody>\n",
       "    <tr>\n",
       "      <th>0</th>\n",
       "      <td>Jane Peacock</td>\n",
       "      <td>833.04</td>\n",
       "    </tr>\n",
       "    <tr>\n",
       "      <th>1</th>\n",
       "      <td>Margaret Park</td>\n",
       "      <td>775.40</td>\n",
       "    </tr>\n",
       "    <tr>\n",
       "      <th>2</th>\n",
       "      <td>Steve Johnson</td>\n",
       "      <td>720.16</td>\n",
       "    </tr>\n",
       "  </tbody>\n",
       "</table>\n",
       "</div>"
      ],
      "text/plain": [
       "        empleado  total_vendido\n",
       "0   Jane Peacock         833.04\n",
       "1  Margaret Park         775.40\n",
       "2  Steve Johnson         720.16"
      ]
     },
     "execution_count": 23,
     "metadata": {},
     "output_type": "execute_result"
    }
   ],
   "source": [
    "#  7. Cuánto ha vendido cada empleado\n",
    "query = '''\n",
    "SELECT employees.FirstName || ' ' || employees.LastName AS empleado,\n",
    "       SUM(invoices.total) AS total_vendido\n",
    "FROM employees\n",
    "JOIN customers ON employees.EmployeeId = customers.SupportRepId\n",
    "JOIN invoices ON customers.customerId = invoices.CustomerId\n",
    "GROUP BY employees.EmployeeId;\n",
    "\n",
    "'''\n",
    "\n",
    "df = sql_query(query)\n",
    "df"
   ]
  },
  {
   "cell_type": "code",
   "execution_count": 24,
   "metadata": {},
   "outputs": [
    {
     "data": {
      "application/vnd.microsoft.datawrangler.viewer.v0+json": {
       "columns": [
        {
         "name": "index",
         "rawType": "int64",
         "type": "integer"
        },
        {
         "name": "Empleado",
         "rawType": "object",
         "type": "string"
        },
        {
         "name": "TotalVendido",
         "rawType": "float64",
         "type": "float"
        }
       ],
       "conversionMethod": "pd.DataFrame",
       "ref": "8e022361-d3dc-4870-8ae2-7d63dfa64a44",
       "rows": [
        [
         "0",
         "Steve Johnson",
         "164.34"
        ]
       ],
       "shape": {
        "columns": 2,
        "rows": 1
       }
      },
      "text/html": [
       "<div>\n",
       "<style scoped>\n",
       "    .dataframe tbody tr th:only-of-type {\n",
       "        vertical-align: middle;\n",
       "    }\n",
       "\n",
       "    .dataframe tbody tr th {\n",
       "        vertical-align: top;\n",
       "    }\n",
       "\n",
       "    .dataframe thead th {\n",
       "        text-align: right;\n",
       "    }\n",
       "</style>\n",
       "<table border=\"1\" class=\"dataframe\">\n",
       "  <thead>\n",
       "    <tr style=\"text-align: right;\">\n",
       "      <th></th>\n",
       "      <th>Empleado</th>\n",
       "      <th>TotalVendido</th>\n",
       "    </tr>\n",
       "  </thead>\n",
       "  <tbody>\n",
       "    <tr>\n",
       "      <th>0</th>\n",
       "      <td>Steve Johnson</td>\n",
       "      <td>164.34</td>\n",
       "    </tr>\n",
       "  </tbody>\n",
       "</table>\n",
       "</div>"
      ],
      "text/plain": [
       "        Empleado  TotalVendido\n",
       "0  Steve Johnson        164.34"
      ]
     },
     "execution_count": 24,
     "metadata": {},
     "output_type": "execute_result"
    }
   ],
   "source": [
    "# 8. ¿Quién ha sido el agente de ventas que más ha vendido en 2009?\n",
    "\n",
    "query = '''\n",
    "SELECT employees.FirstName || ' ' || employees.LastName AS Empleado,\n",
    "       SUM(invoices.Total) AS TotalVendido\n",
    "FROM employees\n",
    "JOIN customers ON employees.EmployeeId = customers.SupportRepId\n",
    "JOIN invoices ON customers.CustomerId = invoices.CustomerId\n",
    "WHERE strftime('%Y', invoices.InvoiceDate) = '2009'\n",
    "GROUP BY employees.EmployeeId\n",
    "ORDER BY TotalVendido DESC\n",
    "LIMIT 1;\n",
    "\n",
    "'''\n",
    "\n",
    "df = sql_query(query)\n",
    "df"
   ]
  },
  {
   "cell_type": "code",
   "execution_count": 26,
   "metadata": {},
   "outputs": [
    {
     "data": {
      "application/vnd.microsoft.datawrangler.viewer.v0+json": {
       "columns": [
        {
         "name": "index",
         "rawType": "int64",
         "type": "integer"
        },
        {
         "name": "Grupo",
         "rawType": "object",
         "type": "string"
        },
        {
         "name": "TotalVendido",
         "rawType": "float64",
         "type": "float"
        }
       ],
       "conversionMethod": "pd.DataFrame",
       "ref": "d8d9469b-40a2-40d8-881a-1a52addd9a5c",
       "rows": [
        [
         "0",
         "Iron Maiden",
         "138.6"
        ],
        [
         "1",
         "U2",
         "105.92999999999999"
        ],
        [
         "2",
         "Metallica",
         "90.09"
        ]
       ],
       "shape": {
        "columns": 2,
        "rows": 3
       }
      },
      "text/html": [
       "<div>\n",
       "<style scoped>\n",
       "    .dataframe tbody tr th:only-of-type {\n",
       "        vertical-align: middle;\n",
       "    }\n",
       "\n",
       "    .dataframe tbody tr th {\n",
       "        vertical-align: top;\n",
       "    }\n",
       "\n",
       "    .dataframe thead th {\n",
       "        text-align: right;\n",
       "    }\n",
       "</style>\n",
       "<table border=\"1\" class=\"dataframe\">\n",
       "  <thead>\n",
       "    <tr style=\"text-align: right;\">\n",
       "      <th></th>\n",
       "      <th>Grupo</th>\n",
       "      <th>TotalVendido</th>\n",
       "    </tr>\n",
       "  </thead>\n",
       "  <tbody>\n",
       "    <tr>\n",
       "      <th>0</th>\n",
       "      <td>Iron Maiden</td>\n",
       "      <td>138.60</td>\n",
       "    </tr>\n",
       "    <tr>\n",
       "      <th>1</th>\n",
       "      <td>U2</td>\n",
       "      <td>105.93</td>\n",
       "    </tr>\n",
       "    <tr>\n",
       "      <th>2</th>\n",
       "      <td>Metallica</td>\n",
       "      <td>90.09</td>\n",
       "    </tr>\n",
       "  </tbody>\n",
       "</table>\n",
       "</div>"
      ],
      "text/plain": [
       "         Grupo  TotalVendido\n",
       "0  Iron Maiden        138.60\n",
       "1           U2        105.93\n",
       "2    Metallica         90.09"
      ]
     },
     "execution_count": 26,
     "metadata": {},
     "output_type": "execute_result"
    }
   ],
   "source": [
    "#  9. ¿Cuáles son los 3 grupos que más han vendido?\n",
    "\n",
    "query = '''\n",
    "SELECT artists.Name AS Grupo,\n",
    "       SUM(invoice_items.UnitPrice * invoice_items.Quantity) AS TotalVendido\n",
    "FROM artists\n",
    "JOIN albums ON artists.ArtistId = albums.ArtistId\n",
    "JOIN tracks ON albums.AlbumId = tracks.AlbumId\n",
    "JOIN invoice_items ON tracks.TrackId = invoice_items.TrackId\n",
    "GROUP BY artists.ArtistId\n",
    "ORDER BY TotalVendido DESC\n",
    "LIMIT 3;\n",
    "\n",
    "'''\n",
    "\n",
    "df = sql_query(query)\n",
    "df"
   ]
  }
 ],
 "metadata": {
  "kernelspec": {
   "display_name": "Python 3",
   "language": "python",
   "name": "python3"
  },
  "language_info": {
   "codemirror_mode": {
    "name": "ipython",
    "version": 3
   },
   "file_extension": ".py",
   "mimetype": "text/x-python",
   "name": "python",
   "nbconvert_exporter": "python",
   "pygments_lexer": "ipython3",
   "version": "3.11.9"
  }
 },
 "nbformat": 4,
 "nbformat_minor": 2
}
