{
 "cells": [
  {
   "attachments": {},
   "cell_type": "markdown",
   "metadata": {},
   "source": [
    "## Ejercicio descargas"
   ]
  },
  {
   "attachments": {},
   "cell_type": "markdown",
   "metadata": {},
   "source": [
    "Python es un lenguaje de propósito general, por lo que podemos desarrollar otros programas,\n",
    "aparte de ciencia de datos, que nos permitan montar dashboards, crear APIs o automatizar\n",
    "procesos. En este caso vas a automatizar un proceso, en el que tendrás que desarrollar un\n",
    "script que ordene todos los archivos de una carpeta, dependiendo de la extensión de los\n",
    "mismos.\n",
    "\n",
    "\n",
    "El objetivo es ordenar la típica carpeta de cajón desastre donde se nos acumulan archivos de\n",
    "todos los formatos como: imágenes, words, presentaciones, excels, ejecutables, zips, etc... Y\n",
    "que no vamos a ir viendo archivo a archivo, ordenándolos.... La solución suele ser eliminarlo\n",
    "todo. Vamos a intentar no tener que llegar a eso, ordenando los ficheros automáticamente en\n",
    "carpetas y revisar las que nos interesen. La típica carpeta donde aplicaríamos este programa es\n",
    "la de “Descargas”, donde se suelen acumular muchos archivos temporales.\n",
    "\n",
    "\n",
    "Por tanto, **el programa tiene que guardar los archivos de la carpeta “Descargas” (o cualquier\n",
    "otra donde acumules mucho archivo temporal) en los siguientes directorios dentro de la\n",
    "propia carpeta “Descargas”**:\n",
    "- Imagenes\n",
    "- Documentos\n",
    "- Software\n",
    "- Otros\n",
    "\n",
    "Cada vez que ejecutes el script, automáticamente se ordenarán todos los archivos en sus\n",
    "correspondientes carpetas.\n"
   ]
  },
  {
   "cell_type": "code",
   "execution_count": 23,
   "metadata": {},
   "outputs": [],
   "source": [
    "doc_types = ('.doc', '.docx', '.txt', '.pdf', '.xls', '.ppt', '.xlsx', '.pptx')\n",
    "img_types = ('.jpg', '.jpeg', '.png', '.svg', '.gif')\n",
    "software_types = ('.exe', '.py','.ipynb')"
   ]
  },
  {
   "attachments": {},
   "cell_type": "markdown",
   "metadata": {},
   "source": [
    "### 1. Crea un un programa con el flujo principal y encapsúlalo en funciones."
   ]
  },
  {
   "cell_type": "code",
   "execution_count": 24,
   "metadata": {},
   "outputs": [],
   "source": [
    "import os\n",
    "import shutil"
   ]
  },
  {
   "cell_type": "code",
   "execution_count": 25,
   "metadata": {},
   "outputs": [
    {
     "data": {
      "text/plain": [
       "'c:\\\\Users\\\\nsara\\\\Desktop\\\\naiara_thebridge\\\\2503_dsft_thebridge_naiara\\\\2-Data_Analysis\\\\3-Sources\\\\Archivos\\\\Practica'"
      ]
     },
     "execution_count": 25,
     "metadata": {},
     "output_type": "execute_result"
    }
   ],
   "source": [
    "os.getcwd()"
   ]
  },
  {
   "cell_type": "code",
   "execution_count": 26,
   "metadata": {},
   "outputs": [
    {
     "data": {
      "text/plain": [
       "['Ejercicio_descargas.ipynb', '__pycache__']"
      ]
     },
     "execution_count": 26,
     "metadata": {},
     "output_type": "execute_result"
    }
   ],
   "source": [
    "os.listdir()"
   ]
  },
  {
   "cell_type": "code",
   "execution_count": 27,
   "metadata": {},
   "outputs": [
    {
     "data": {
      "text/plain": [
       "'c:\\\\Users\\\\nsara\\\\Desktop\\\\naiara_thebridge\\\\2503_dsft_thebridge_naiara\\\\2-Data_Analysis\\\\3-Sources\\\\Archivos\\\\Practica\\\\carpeta_ejercicio'"
      ]
     },
     "execution_count": 27,
     "metadata": {},
     "output_type": "execute_result"
    }
   ],
   "source": [
    "ruta = os.path.join(os.getcwd(),  \"carpeta_ejercicio\")\n",
    "ruta"
   ]
  },
  {
   "cell_type": "code",
   "execution_count": 18,
   "metadata": {},
   "outputs": [
    {
     "ename": "FileNotFoundError",
     "evalue": "[WinError 3] El sistema no puede encontrar la ruta especificada: 'c:\\\\Users\\\\nsara\\\\Desktop\\\\naiara_thebridge\\\\2503_dsft_thebridge_naiara\\\\2-Data_Analysis\\\\3-Sources\\\\Archivos\\\\Practica\\\\carpeta_ejercicio'",
     "output_type": "error",
     "traceback": [
      "\u001b[31m---------------------------------------------------------------------------\u001b[39m",
      "\u001b[31mFileNotFoundError\u001b[39m                         Traceback (most recent call last)",
      "\u001b[36mCell\u001b[39m\u001b[36m \u001b[39m\u001b[32mIn[18]\u001b[39m\u001b[32m, line 1\u001b[39m\n\u001b[32m----> \u001b[39m\u001b[32m1\u001b[39m \u001b[43mos\u001b[49m\u001b[43m.\u001b[49m\u001b[43mlistdir\u001b[49m\u001b[43m(\u001b[49m\u001b[43mruta\u001b[49m\u001b[43m)\u001b[49m\n",
      "\u001b[31mFileNotFoundError\u001b[39m: [WinError 3] El sistema no puede encontrar la ruta especificada: 'c:\\\\Users\\\\nsara\\\\Desktop\\\\naiara_thebridge\\\\2503_dsft_thebridge_naiara\\\\2-Data_Analysis\\\\3-Sources\\\\Archivos\\\\Practica\\\\carpeta_ejercicio'"
     ]
    }
   ],
   "source": [
    "os.listdir(ruta)"
   ]
  },
  {
   "cell_type": "code",
   "execution_count": 19,
   "metadata": {},
   "outputs": [
    {
     "ename": "FileNotFoundError",
     "evalue": "[WinError 3] El sistema no puede encontrar la ruta especificada: 'c:\\\\Users\\\\nsara\\\\Desktop\\\\naiara_thebridge\\\\2503_dsft_thebridge_naiara\\\\2-Data_Analysis\\\\3-Sources\\\\Archivos\\\\Practica\\\\carpeta_ejercicio'",
     "output_type": "error",
     "traceback": [
      "\u001b[31m---------------------------------------------------------------------------\u001b[39m",
      "\u001b[31mFileNotFoundError\u001b[39m                         Traceback (most recent call last)",
      "\u001b[36mCell\u001b[39m\u001b[36m \u001b[39m\u001b[32mIn[19]\u001b[39m\u001b[32m, line 1\u001b[39m\n\u001b[32m----> \u001b[39m\u001b[32m1\u001b[39m \u001b[38;5;28;01mfor\u001b[39;00m archivo \u001b[38;5;129;01min\u001b[39;00m \u001b[43mos\u001b[49m\u001b[43m.\u001b[49m\u001b[43mlistdir\u001b[49m\u001b[43m(\u001b[49m\u001b[43mruta\u001b[49m\u001b[43m)\u001b[49m:\n\u001b[32m      2\u001b[39m     \u001b[38;5;28mprint\u001b[39m(archivo)\n",
      "\u001b[31mFileNotFoundError\u001b[39m: [WinError 3] El sistema no puede encontrar la ruta especificada: 'c:\\\\Users\\\\nsara\\\\Desktop\\\\naiara_thebridge\\\\2503_dsft_thebridge_naiara\\\\2-Data_Analysis\\\\3-Sources\\\\Archivos\\\\Practica\\\\carpeta_ejercicio'"
     ]
    }
   ],
   "source": [
    "for archivo in os.listdir(ruta):\n",
    "    print(archivo)"
   ]
  },
  {
   "cell_type": "code",
   "execution_count": null,
   "metadata": {},
   "outputs": [
    {
     "ename": "FileNotFoundError",
     "evalue": "[WinError 2] El sistema no puede encontrar el archivo especificado: 'c:\\\\Users\\\\nsara\\\\Desktop\\\\naiara_thebridge\\\\2503_dsft_thebridge_naiara\\\\2-Data_Analysis\\\\3-Sources\\\\Archivos\\\\Practica\\\\carpeta_ejercicio'",
     "output_type": "error",
     "traceback": [
      "\u001b[31m---------------------------------------------------------------------------\u001b[39m",
      "\u001b[31mFileNotFoundError\u001b[39m                         Traceback (most recent call last)",
      "\u001b[36mCell\u001b[39m\u001b[36m \u001b[39m\u001b[32mIn[20]\u001b[39m\u001b[32m, line 1\u001b[39m\n\u001b[32m----> \u001b[39m\u001b[32m1\u001b[39m \u001b[43mos\u001b[49m\u001b[43m.\u001b[49m\u001b[43mchdir\u001b[49m\u001b[43m(\u001b[49m\u001b[43mruta\u001b[49m\u001b[43m)\u001b[49m\n\u001b[32m      2\u001b[39m \u001b[38;5;28mprint\u001b[39m(os.getcwd())\n",
      "\u001b[31mFileNotFoundError\u001b[39m: [WinError 2] El sistema no puede encontrar el archivo especificado: 'c:\\\\Users\\\\nsara\\\\Desktop\\\\naiara_thebridge\\\\2503_dsft_thebridge_naiara\\\\2-Data_Analysis\\\\3-Sources\\\\Archivos\\\\Practica\\\\carpeta_ejercicio'"
     ]
    }
   ],
   "source": [
    "# os.chdir(ruta)\n",
    "# print(os.getcwd())\n",
    "\n",
    "#os.chdir(r\"C:\\Users\\nsara\\Desktop\\naiara_thebridge\\2503_dsft_thebridge_naiara\\2-Data_Analysis\\3-Sources\\Archivos\\Practica\")\n"
   ]
  },
  {
   "cell_type": "code",
   "execution_count": null,
   "metadata": {},
   "outputs": [],
   "source": [
    "# Mapeo de carpetas y sus extensiones correspondientes\n",
    "categories = {\n",
    "    \"Imagenes\": img_types,\n",
    "    \"Documentos\": doc_types,\n",
    "    \"Software\": software_types\n",
    "}\n",
    "\n",
    "# Carpeta para archivos que no correspondan a las categorías anteriores\n",
    "otros_folder = \"Otros\"\n",
    "\n",
    "# Crear las carpetas de destino dentro de la carpeta ruta si no existen\n",
    "for folder in list(categories.keys()) + [otros_folder]:\n",
    "    target_path = os.path.join(ruta, folder)\n",
    "    if not os.path.exists(target_path):\n",
    "        os.makedirs(target_path)\n",
    "\n",
    "# Recorrer todos los elementos de la carpeta a la que apunta la variable ruta\n",
    "for item in os.listdir(ruta):\n",
    "    item_path = os.path.join(ruta, item)\n",
    "    \n",
    "    # Se salta si es una carpeta para evitar mover nuestras propias carpetas destino\n",
    "    if os.path.isdir(item_path):\n",
    "        continue\n",
    "    \n",
    "    # Obtener la extensión del archivo en minúsculas\n",
    "    _, ext = os.path.splitext(item)\n",
    "    ext = ext.lower()\n",
    "\n",
    "    # Determinar a qué carpeta se debe mover el archivo\n",
    "    moved = False\n",
    "    for folder, extensions in categories.items():\n",
    "        if ext in extensions:\n",
    "            dest_path = os.path.join(ruta, folder, item)\n",
    "            shutil.move(item_path, dest_path)\n",
    "            moved = True\n",
    "            break\n",
    "\n",
    "    # Si la extensión no coincide con ninguna categoría, mover a \"Otros\"\n",
    "    if not moved:\n",
    "        dest_path = os.path.join(ruta, otros_folder, item)\n",
    "        shutil.move(item_path, dest_path)\n",
    "\n",
    "print(\"¡Archivos ordenados exitosamente!\")"
   ]
  },
  {
   "attachments": {},
   "cell_type": "markdown",
   "metadata": {},
   "source": [
    "### 2. Crea un programa standalone (main.py, funciones.py, variables.py) que realice la tarea sin necesidad de Jupyter notebooks."
   ]
  },
  {
   "cell_type": "code",
   "execution_count": null,
   "metadata": {},
   "outputs": [],
   "source": [
    "# He creado un archivo main.py y he creado allí el programa"
   ]
  }
 ],
 "metadata": {
  "kernelspec": {
   "display_name": "Python 3",
   "language": "python",
   "name": "python3"
  },
  "language_info": {
   "codemirror_mode": {
    "name": "ipython",
    "version": 3
   },
   "file_extension": ".py",
   "mimetype": "text/x-python",
   "name": "python",
   "nbconvert_exporter": "python",
   "pygments_lexer": "ipython3",
   "version": "3.11.9"
  },
  "orig_nbformat": 4
 },
 "nbformat": 4,
 "nbformat_minor": 2
}
