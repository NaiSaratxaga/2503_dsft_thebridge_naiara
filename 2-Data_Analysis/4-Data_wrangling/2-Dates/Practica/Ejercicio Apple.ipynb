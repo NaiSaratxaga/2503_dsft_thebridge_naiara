{
 "cells": [
  {
   "cell_type": "markdown",
   "metadata": {
    "id": "et2xslqoAy6f"
   },
   "source": [
    "# Apple Stock"
   ]
  },
  {
   "cell_type": "markdown",
   "metadata": {
    "id": "39PdeVN4Ay6g"
   },
   "source": [
    "### Introduction:\n",
    "\n",
    "We are going to use Apple's stock price.\n",
    "\n",
    "\n",
    "### Step 1. Import the necessary libraries"
   ]
  },
  {
   "cell_type": "code",
   "execution_count": 2,
   "metadata": {},
   "outputs": [],
   "source": [
    "import pandas as pd\n",
    "import numpy as np\n",
    "import matplotlib.pyplot as plt\n",
    "import datetime"
   ]
  },
  {
   "cell_type": "markdown",
   "metadata": {
    "id": "jNUiJYHrAy6k"
   },
   "source": [
    "### Step 2. Import the dataset from this [address](https://raw.githubusercontent.com/guipsamora/pandas_exercises/master/09_Time_Series/Apple_Stock/appl_1980_2014.csv)"
   ]
  },
  {
   "cell_type": "markdown",
   "metadata": {
    "id": "blsFI_HYAy6l"
   },
   "source": [
    "### Step 3. Assign it to a variable apple and apply a head()"
   ]
  },
  {
   "cell_type": "code",
   "execution_count": 3,
   "metadata": {},
   "outputs": [
    {
     "data": {
      "application/vnd.microsoft.datawrangler.viewer.v0+json": {
       "columns": [
        {
         "name": "index",
         "rawType": "int64",
         "type": "integer"
        },
        {
         "name": "Date",
         "rawType": "object",
         "type": "string"
        },
        {
         "name": "Open",
         "rawType": "float64",
         "type": "float"
        },
        {
         "name": "High",
         "rawType": "float64",
         "type": "float"
        },
        {
         "name": "Low",
         "rawType": "float64",
         "type": "float"
        },
        {
         "name": "Close",
         "rawType": "float64",
         "type": "float"
        },
        {
         "name": "Volume",
         "rawType": "int64",
         "type": "integer"
        },
        {
         "name": "Adj Close",
         "rawType": "float64",
         "type": "float"
        }
       ],
       "conversionMethod": "pd.DataFrame",
       "ref": "54a5b6ba-b0d5-4b97-98a9-365c4651c2eb",
       "rows": [
        [
         "0",
         "2014-07-08",
         "96.27",
         "96.8",
         "93.92",
         "95.35",
         "65130000",
         "95.35"
        ],
        [
         "1",
         "2014-07-07",
         "94.14",
         "95.99",
         "94.1",
         "95.97",
         "56305400",
         "95.97"
        ],
        [
         "2",
         "2014-07-03",
         "93.67",
         "94.1",
         "93.2",
         "94.03",
         "22891800",
         "94.03"
        ],
        [
         "3",
         "2014-07-02",
         "93.87",
         "94.06",
         "93.09",
         "93.48",
         "28420900",
         "93.48"
        ],
        [
         "4",
         "2014-07-01",
         "93.52",
         "94.07",
         "93.13",
         "93.52",
         "38170200",
         "93.52"
        ]
       ],
       "shape": {
        "columns": 7,
        "rows": 5
       }
      },
      "text/html": [
       "<div>\n",
       "<style scoped>\n",
       "    .dataframe tbody tr th:only-of-type {\n",
       "        vertical-align: middle;\n",
       "    }\n",
       "\n",
       "    .dataframe tbody tr th {\n",
       "        vertical-align: top;\n",
       "    }\n",
       "\n",
       "    .dataframe thead th {\n",
       "        text-align: right;\n",
       "    }\n",
       "</style>\n",
       "<table border=\"1\" class=\"dataframe\">\n",
       "  <thead>\n",
       "    <tr style=\"text-align: right;\">\n",
       "      <th></th>\n",
       "      <th>Date</th>\n",
       "      <th>Open</th>\n",
       "      <th>High</th>\n",
       "      <th>Low</th>\n",
       "      <th>Close</th>\n",
       "      <th>Volume</th>\n",
       "      <th>Adj Close</th>\n",
       "    </tr>\n",
       "  </thead>\n",
       "  <tbody>\n",
       "    <tr>\n",
       "      <th>0</th>\n",
       "      <td>2014-07-08</td>\n",
       "      <td>96.27</td>\n",
       "      <td>96.80</td>\n",
       "      <td>93.92</td>\n",
       "      <td>95.35</td>\n",
       "      <td>65130000</td>\n",
       "      <td>95.35</td>\n",
       "    </tr>\n",
       "    <tr>\n",
       "      <th>1</th>\n",
       "      <td>2014-07-07</td>\n",
       "      <td>94.14</td>\n",
       "      <td>95.99</td>\n",
       "      <td>94.10</td>\n",
       "      <td>95.97</td>\n",
       "      <td>56305400</td>\n",
       "      <td>95.97</td>\n",
       "    </tr>\n",
       "    <tr>\n",
       "      <th>2</th>\n",
       "      <td>2014-07-03</td>\n",
       "      <td>93.67</td>\n",
       "      <td>94.10</td>\n",
       "      <td>93.20</td>\n",
       "      <td>94.03</td>\n",
       "      <td>22891800</td>\n",
       "      <td>94.03</td>\n",
       "    </tr>\n",
       "    <tr>\n",
       "      <th>3</th>\n",
       "      <td>2014-07-02</td>\n",
       "      <td>93.87</td>\n",
       "      <td>94.06</td>\n",
       "      <td>93.09</td>\n",
       "      <td>93.48</td>\n",
       "      <td>28420900</td>\n",
       "      <td>93.48</td>\n",
       "    </tr>\n",
       "    <tr>\n",
       "      <th>4</th>\n",
       "      <td>2014-07-01</td>\n",
       "      <td>93.52</td>\n",
       "      <td>94.07</td>\n",
       "      <td>93.13</td>\n",
       "      <td>93.52</td>\n",
       "      <td>38170200</td>\n",
       "      <td>93.52</td>\n",
       "    </tr>\n",
       "  </tbody>\n",
       "</table>\n",
       "</div>"
      ],
      "text/plain": [
       "         Date   Open   High    Low  Close    Volume  Adj Close\n",
       "0  2014-07-08  96.27  96.80  93.92  95.35  65130000      95.35\n",
       "1  2014-07-07  94.14  95.99  94.10  95.97  56305400      95.97\n",
       "2  2014-07-03  93.67  94.10  93.20  94.03  22891800      94.03\n",
       "3  2014-07-02  93.87  94.06  93.09  93.48  28420900      93.48\n",
       "4  2014-07-01  93.52  94.07  93.13  93.52  38170200      93.52"
      ]
     },
     "execution_count": 3,
     "metadata": {},
     "output_type": "execute_result"
    }
   ],
   "source": [
    "url = \"https://raw.githubusercontent.com/guipsamora/pandas_exercises/master/09_Time_Series/Apple_Stock/appl_1980_2014.csv\"\n",
    "apple = pd.read_csv(url)\n",
    "apple.head()"
   ]
  },
  {
   "cell_type": "markdown",
   "metadata": {
    "id": "Yvfjrh1vAy6q"
   },
   "source": [
    "### Step 4.  Check out the type of the columns"
   ]
  },
  {
   "cell_type": "code",
   "execution_count": 4,
   "metadata": {},
   "outputs": [
    {
     "data": {
      "text/plain": [
       "Date          object\n",
       "Open         float64\n",
       "High         float64\n",
       "Low          float64\n",
       "Close        float64\n",
       "Volume         int64\n",
       "Adj Close    float64\n",
       "dtype: object"
      ]
     },
     "execution_count": 4,
     "metadata": {},
     "output_type": "execute_result"
    }
   ],
   "source": [
    "apple.dtypes"
   ]
  },
  {
   "cell_type": "markdown",
   "metadata": {
    "id": "XuY63oQ_Ay6t"
   },
   "source": [
    "### Step 5. Transform the Date column as a datetime type and check the info()"
   ]
  },
  {
   "cell_type": "code",
   "execution_count": 5,
   "metadata": {},
   "outputs": [
    {
     "name": "stdout",
     "output_type": "stream",
     "text": [
      "<class 'pandas.core.frame.DataFrame'>\n",
      "RangeIndex: 8465 entries, 0 to 8464\n",
      "Data columns (total 7 columns):\n",
      " #   Column     Non-Null Count  Dtype         \n",
      "---  ------     --------------  -----         \n",
      " 0   Date       8465 non-null   datetime64[ns]\n",
      " 1   Open       8465 non-null   float64       \n",
      " 2   High       8465 non-null   float64       \n",
      " 3   Low        8465 non-null   float64       \n",
      " 4   Close      8465 non-null   float64       \n",
      " 5   Volume     8465 non-null   int64         \n",
      " 6   Adj Close  8465 non-null   float64       \n",
      "dtypes: datetime64[ns](1), float64(5), int64(1)\n",
      "memory usage: 463.1 KB\n"
     ]
    }
   ],
   "source": [
    "apple['Date'] = pd.to_datetime(apple['Date'])\n",
    "\n",
    "apple.info()"
   ]
  },
  {
   "cell_type": "markdown",
   "metadata": {
    "id": "zV8pTwdtAy6x"
   },
   "source": [
    "### Step 6.  Set the date as the index"
   ]
  },
  {
   "cell_type": "code",
   "execution_count": 6,
   "metadata": {},
   "outputs": [],
   "source": [
    "# Cambiar la columna 'Date' a índice\n",
    "apple.set_index(\"Date\", inplace=True)"
   ]
  },
  {
   "cell_type": "code",
   "execution_count": 7,
   "metadata": {},
   "outputs": [
    {
     "data": {
      "application/vnd.microsoft.datawrangler.viewer.v0+json": {
       "columns": [
        {
         "name": "Date",
         "rawType": "datetime64[ns]",
         "type": "datetime"
        },
        {
         "name": "Open",
         "rawType": "float64",
         "type": "float"
        },
        {
         "name": "High",
         "rawType": "float64",
         "type": "float"
        },
        {
         "name": "Low",
         "rawType": "float64",
         "type": "float"
        },
        {
         "name": "Close",
         "rawType": "float64",
         "type": "float"
        },
        {
         "name": "Volume",
         "rawType": "int64",
         "type": "integer"
        },
        {
         "name": "Adj Close",
         "rawType": "float64",
         "type": "float"
        }
       ],
       "conversionMethod": "pd.DataFrame",
       "ref": "b571b5bc-3926-4c5b-a3f8-bcf3081cd773",
       "rows": [
        [
         "2014-07-08 00:00:00",
         "96.27",
         "96.8",
         "93.92",
         "95.35",
         "65130000",
         "95.35"
        ],
        [
         "2014-07-07 00:00:00",
         "94.14",
         "95.99",
         "94.1",
         "95.97",
         "56305400",
         "95.97"
        ],
        [
         "2014-07-03 00:00:00",
         "93.67",
         "94.1",
         "93.2",
         "94.03",
         "22891800",
         "94.03"
        ],
        [
         "2014-07-02 00:00:00",
         "93.87",
         "94.06",
         "93.09",
         "93.48",
         "28420900",
         "93.48"
        ],
        [
         "2014-07-01 00:00:00",
         "93.52",
         "94.07",
         "93.13",
         "93.52",
         "38170200",
         "93.52"
        ],
        [
         "2014-06-30 00:00:00",
         "92.1",
         "93.73",
         "92.09",
         "92.93",
         "49482300",
         "92.93"
        ],
        [
         "2014-06-27 00:00:00",
         "90.82",
         "92.0",
         "90.77",
         "91.98",
         "64006800",
         "91.98"
        ],
        [
         "2014-06-26 00:00:00",
         "90.37",
         "91.05",
         "89.8",
         "90.9",
         "32595800",
         "90.9"
        ],
        [
         "2014-06-25 00:00:00",
         "90.21",
         "90.7",
         "89.65",
         "90.36",
         "36852200",
         "90.36"
        ],
        [
         "2014-06-24 00:00:00",
         "90.75",
         "91.74",
         "90.19",
         "90.28",
         "38988300",
         "90.28"
        ],
        [
         "2014-06-23 00:00:00",
         "91.32",
         "91.62",
         "90.6",
         "90.83",
         "43618200",
         "90.83"
        ],
        [
         "2014-06-20 00:00:00",
         "91.85",
         "92.55",
         "90.9",
         "90.91",
         "100813200",
         "90.91"
        ],
        [
         "2014-06-19 00:00:00",
         "92.29",
         "92.3",
         "91.34",
         "91.86",
         "35486400",
         "91.86"
        ],
        [
         "2014-06-18 00:00:00",
         "92.27",
         "92.29",
         "91.35",
         "92.18",
         "33493800",
         "92.18"
        ],
        [
         "2014-06-17 00:00:00",
         "92.31",
         "92.7",
         "91.8",
         "92.08",
         "29689800",
         "92.08"
        ],
        [
         "2014-06-16 00:00:00",
         "91.51",
         "92.75",
         "91.45",
         "92.2",
         "35561000",
         "92.2"
        ],
        [
         "2014-06-13 00:00:00",
         "92.2",
         "92.44",
         "90.88",
         "91.28",
         "54525000",
         "91.28"
        ],
        [
         "2014-06-12 00:00:00",
         "94.04",
         "94.12",
         "91.9",
         "92.29",
         "54749000",
         "92.29"
        ],
        [
         "2014-06-11 00:00:00",
         "94.13",
         "94.76",
         "93.47",
         "93.86",
         "45681000",
         "93.86"
        ],
        [
         "2014-06-10 00:00:00",
         "94.73",
         "95.05",
         "93.57",
         "94.25",
         "62777000",
         "94.25"
        ],
        [
         "2014-06-09 00:00:00",
         "92.7",
         "93.88",
         "91.75",
         "93.7",
         "75415000",
         "93.7"
        ],
        [
         "2014-06-06 00:00:00",
         "649.9",
         "651.26",
         "644.47",
         "645.57",
         "87484600",
         "92.22"
        ],
        [
         "2014-06-05 00:00:00",
         "646.2",
         "649.37",
         "642.61",
         "647.35",
         "75951400",
         "92.48"
        ],
        [
         "2014-06-04 00:00:00",
         "637.44",
         "647.89",
         "636.11",
         "644.82",
         "83870500",
         "92.12"
        ],
        [
         "2014-06-03 00:00:00",
         "628.46",
         "638.74",
         "628.25",
         "637.54",
         "73177300",
         "91.08"
        ],
        [
         "2014-06-02 00:00:00",
         "633.96",
         "634.83",
         "622.5",
         "628.65",
         "92337700",
         "89.81"
        ],
        [
         "2014-05-30 00:00:00",
         "637.98",
         "644.17",
         "628.9",
         "633.0",
         "141005200",
         "90.43"
        ],
        [
         "2014-05-29 00:00:00",
         "627.85",
         "636.87",
         "627.77",
         "635.38",
         "94118500",
         "90.77"
        ],
        [
         "2014-05-28 00:00:00",
         "626.02",
         "629.83",
         "623.78",
         "624.01",
         "78870400",
         "89.14"
        ],
        [
         "2014-05-27 00:00:00",
         "615.88",
         "625.86",
         "615.63",
         "625.63",
         "87216500",
         "89.38"
        ],
        [
         "2014-05-23 00:00:00",
         "607.25",
         "614.73",
         "606.47",
         "614.13",
         "58052400",
         "87.73"
        ],
        [
         "2014-05-22 00:00:00",
         "606.6",
         "609.85",
         "604.1",
         "607.27",
         "50190000",
         "86.75"
        ],
        [
         "2014-05-21 00:00:00",
         "603.83",
         "606.7",
         "602.06",
         "606.31",
         "49214900",
         "86.62"
        ],
        [
         "2014-05-20 00:00:00",
         "604.51",
         "606.4",
         "600.73",
         "604.71",
         "58709000",
         "86.39"
        ],
        [
         "2014-05-19 00:00:00",
         "597.85",
         "607.33",
         "597.33",
         "604.59",
         "79438800",
         "86.37"
        ],
        [
         "2014-05-16 00:00:00",
         "588.63",
         "597.53",
         "585.4",
         "597.51",
         "69064100",
         "85.36"
        ],
        [
         "2014-05-15 00:00:00",
         "594.7",
         "596.6",
         "588.04",
         "588.82",
         "57711500",
         "84.12"
        ],
        [
         "2014-05-14 00:00:00",
         "592.43",
         "597.4",
         "591.74",
         "593.87",
         "41601000",
         "84.84"
        ],
        [
         "2014-05-13 00:00:00",
         "592.0",
         "594.54",
         "590.7",
         "593.76",
         "39934300",
         "84.82"
        ],
        [
         "2014-05-12 00:00:00",
         "587.49",
         "593.66",
         "587.4",
         "592.83",
         "53302200",
         "84.69"
        ],
        [
         "2014-05-09 00:00:00",
         "584.54",
         "586.25",
         "580.33",
         "585.54",
         "72899400",
         "83.65"
        ],
        [
         "2014-05-08 00:00:00",
         "588.25",
         "594.41",
         "586.4",
         "587.99",
         "57574300",
         "84.0"
        ],
        [
         "2014-05-07 00:00:00",
         "595.25",
         "597.29",
         "587.73",
         "592.33",
         "70716100",
         "84.15"
        ],
        [
         "2014-05-06 00:00:00",
         "601.8",
         "604.41",
         "594.41",
         "594.41",
         "93641100",
         "84.44"
        ],
        [
         "2014-05-05 00:00:00",
         "590.14",
         "601.0",
         "590.0",
         "600.96",
         "71766800",
         "85.37"
        ],
        [
         "2014-05-02 00:00:00",
         "592.34",
         "594.2",
         "589.71",
         "592.58",
         "47878600",
         "84.18"
        ],
        [
         "2014-05-01 00:00:00",
         "592.0",
         "594.8",
         "586.36",
         "591.48",
         "61012000",
         "84.03"
        ],
        [
         "2014-04-30 00:00:00",
         "592.64",
         "599.43",
         "589.8",
         "590.09",
         "114160200",
         "83.83"
        ],
        [
         "2014-04-29 00:00:00",
         "593.74",
         "595.98",
         "589.51",
         "592.33",
         "84344400",
         "84.15"
        ],
        [
         "2014-04-28 00:00:00",
         "572.8",
         "595.75",
         "572.55",
         "594.09",
         "167371400",
         "84.4"
        ]
       ],
       "shape": {
        "columns": 6,
        "rows": 8465
       }
      },
      "text/html": [
       "<div>\n",
       "<style scoped>\n",
       "    .dataframe tbody tr th:only-of-type {\n",
       "        vertical-align: middle;\n",
       "    }\n",
       "\n",
       "    .dataframe tbody tr th {\n",
       "        vertical-align: top;\n",
       "    }\n",
       "\n",
       "    .dataframe thead th {\n",
       "        text-align: right;\n",
       "    }\n",
       "</style>\n",
       "<table border=\"1\" class=\"dataframe\">\n",
       "  <thead>\n",
       "    <tr style=\"text-align: right;\">\n",
       "      <th></th>\n",
       "      <th>Open</th>\n",
       "      <th>High</th>\n",
       "      <th>Low</th>\n",
       "      <th>Close</th>\n",
       "      <th>Volume</th>\n",
       "      <th>Adj Close</th>\n",
       "    </tr>\n",
       "    <tr>\n",
       "      <th>Date</th>\n",
       "      <th></th>\n",
       "      <th></th>\n",
       "      <th></th>\n",
       "      <th></th>\n",
       "      <th></th>\n",
       "      <th></th>\n",
       "    </tr>\n",
       "  </thead>\n",
       "  <tbody>\n",
       "    <tr>\n",
       "      <th>2014-07-08</th>\n",
       "      <td>96.27</td>\n",
       "      <td>96.80</td>\n",
       "      <td>93.92</td>\n",
       "      <td>95.35</td>\n",
       "      <td>65130000</td>\n",
       "      <td>95.35</td>\n",
       "    </tr>\n",
       "    <tr>\n",
       "      <th>2014-07-07</th>\n",
       "      <td>94.14</td>\n",
       "      <td>95.99</td>\n",
       "      <td>94.10</td>\n",
       "      <td>95.97</td>\n",
       "      <td>56305400</td>\n",
       "      <td>95.97</td>\n",
       "    </tr>\n",
       "    <tr>\n",
       "      <th>2014-07-03</th>\n",
       "      <td>93.67</td>\n",
       "      <td>94.10</td>\n",
       "      <td>93.20</td>\n",
       "      <td>94.03</td>\n",
       "      <td>22891800</td>\n",
       "      <td>94.03</td>\n",
       "    </tr>\n",
       "    <tr>\n",
       "      <th>2014-07-02</th>\n",
       "      <td>93.87</td>\n",
       "      <td>94.06</td>\n",
       "      <td>93.09</td>\n",
       "      <td>93.48</td>\n",
       "      <td>28420900</td>\n",
       "      <td>93.48</td>\n",
       "    </tr>\n",
       "    <tr>\n",
       "      <th>2014-07-01</th>\n",
       "      <td>93.52</td>\n",
       "      <td>94.07</td>\n",
       "      <td>93.13</td>\n",
       "      <td>93.52</td>\n",
       "      <td>38170200</td>\n",
       "      <td>93.52</td>\n",
       "    </tr>\n",
       "    <tr>\n",
       "      <th>...</th>\n",
       "      <td>...</td>\n",
       "      <td>...</td>\n",
       "      <td>...</td>\n",
       "      <td>...</td>\n",
       "      <td>...</td>\n",
       "      <td>...</td>\n",
       "    </tr>\n",
       "    <tr>\n",
       "      <th>1980-12-18</th>\n",
       "      <td>26.63</td>\n",
       "      <td>26.75</td>\n",
       "      <td>26.63</td>\n",
       "      <td>26.63</td>\n",
       "      <td>18362400</td>\n",
       "      <td>0.41</td>\n",
       "    </tr>\n",
       "    <tr>\n",
       "      <th>1980-12-17</th>\n",
       "      <td>25.87</td>\n",
       "      <td>26.00</td>\n",
       "      <td>25.87</td>\n",
       "      <td>25.87</td>\n",
       "      <td>21610400</td>\n",
       "      <td>0.40</td>\n",
       "    </tr>\n",
       "    <tr>\n",
       "      <th>1980-12-16</th>\n",
       "      <td>25.37</td>\n",
       "      <td>25.37</td>\n",
       "      <td>25.25</td>\n",
       "      <td>25.25</td>\n",
       "      <td>26432000</td>\n",
       "      <td>0.39</td>\n",
       "    </tr>\n",
       "    <tr>\n",
       "      <th>1980-12-15</th>\n",
       "      <td>27.38</td>\n",
       "      <td>27.38</td>\n",
       "      <td>27.25</td>\n",
       "      <td>27.25</td>\n",
       "      <td>43971200</td>\n",
       "      <td>0.42</td>\n",
       "    </tr>\n",
       "    <tr>\n",
       "      <th>1980-12-12</th>\n",
       "      <td>28.75</td>\n",
       "      <td>28.87</td>\n",
       "      <td>28.75</td>\n",
       "      <td>28.75</td>\n",
       "      <td>117258400</td>\n",
       "      <td>0.45</td>\n",
       "    </tr>\n",
       "  </tbody>\n",
       "</table>\n",
       "<p>8465 rows × 6 columns</p>\n",
       "</div>"
      ],
      "text/plain": [
       "             Open   High    Low  Close     Volume  Adj Close\n",
       "Date                                                        \n",
       "2014-07-08  96.27  96.80  93.92  95.35   65130000      95.35\n",
       "2014-07-07  94.14  95.99  94.10  95.97   56305400      95.97\n",
       "2014-07-03  93.67  94.10  93.20  94.03   22891800      94.03\n",
       "2014-07-02  93.87  94.06  93.09  93.48   28420900      93.48\n",
       "2014-07-01  93.52  94.07  93.13  93.52   38170200      93.52\n",
       "...           ...    ...    ...    ...        ...        ...\n",
       "1980-12-18  26.63  26.75  26.63  26.63   18362400       0.41\n",
       "1980-12-17  25.87  26.00  25.87  25.87   21610400       0.40\n",
       "1980-12-16  25.37  25.37  25.25  25.25   26432000       0.39\n",
       "1980-12-15  27.38  27.38  27.25  27.25   43971200       0.42\n",
       "1980-12-12  28.75  28.87  28.75  28.75  117258400       0.45\n",
       "\n",
       "[8465 rows x 6 columns]"
      ]
     },
     "execution_count": 7,
     "metadata": {},
     "output_type": "execute_result"
    }
   ],
   "source": [
    "apple"
   ]
  },
  {
   "cell_type": "code",
   "execution_count": 19,
   "metadata": {},
   "outputs": [
    {
     "data": {
      "application/vnd.microsoft.datawrangler.viewer.v0+json": {
       "columns": [
        {
         "name": "Date",
         "rawType": "datetime64[ns]",
         "type": "datetime"
        },
        {
         "name": "Open",
         "rawType": "float64",
         "type": "float"
        },
        {
         "name": "High",
         "rawType": "float64",
         "type": "float"
        },
        {
         "name": "Low",
         "rawType": "float64",
         "type": "float"
        },
        {
         "name": "Close",
         "rawType": "float64",
         "type": "float"
        },
        {
         "name": "Volume",
         "rawType": "int64",
         "type": "integer"
        },
        {
         "name": "Adj Close",
         "rawType": "float64",
         "type": "float"
        }
       ],
       "conversionMethod": "pd.DataFrame",
       "ref": "9b698f48-a0b3-42b3-8dfb-591a44ece057",
       "rows": [
        [
         "2014-07-01 00:00:00",
         "93.52",
         "94.07",
         "93.13",
         "93.52",
         "38170200",
         "93.52"
        ],
        [
         "2014-07-02 00:00:00",
         "93.87",
         "94.06",
         "93.09",
         "93.48",
         "28420900",
         "93.48"
        ],
        [
         "2014-07-03 00:00:00",
         "93.67",
         "94.1",
         "93.2",
         "94.03",
         "22891800",
         "94.03"
        ],
        [
         "2014-07-07 00:00:00",
         "94.14",
         "95.99",
         "94.1",
         "95.97",
         "56305400",
         "95.97"
        ],
        [
         "2014-07-08 00:00:00",
         "96.27",
         "96.8",
         "93.92",
         "95.35",
         "65130000",
         "95.35"
        ]
       ],
       "shape": {
        "columns": 6,
        "rows": 5
       }
      },
      "text/html": [
       "<div>\n",
       "<style scoped>\n",
       "    .dataframe tbody tr th:only-of-type {\n",
       "        vertical-align: middle;\n",
       "    }\n",
       "\n",
       "    .dataframe tbody tr th {\n",
       "        vertical-align: top;\n",
       "    }\n",
       "\n",
       "    .dataframe thead th {\n",
       "        text-align: right;\n",
       "    }\n",
       "</style>\n",
       "<table border=\"1\" class=\"dataframe\">\n",
       "  <thead>\n",
       "    <tr style=\"text-align: right;\">\n",
       "      <th></th>\n",
       "      <th>Open</th>\n",
       "      <th>High</th>\n",
       "      <th>Low</th>\n",
       "      <th>Close</th>\n",
       "      <th>Volume</th>\n",
       "      <th>Adj Close</th>\n",
       "    </tr>\n",
       "    <tr>\n",
       "      <th>Date</th>\n",
       "      <th></th>\n",
       "      <th></th>\n",
       "      <th></th>\n",
       "      <th></th>\n",
       "      <th></th>\n",
       "      <th></th>\n",
       "    </tr>\n",
       "  </thead>\n",
       "  <tbody>\n",
       "    <tr>\n",
       "      <th>2014-07-01</th>\n",
       "      <td>93.52</td>\n",
       "      <td>94.07</td>\n",
       "      <td>93.13</td>\n",
       "      <td>93.52</td>\n",
       "      <td>38170200</td>\n",
       "      <td>93.52</td>\n",
       "    </tr>\n",
       "    <tr>\n",
       "      <th>2014-07-02</th>\n",
       "      <td>93.87</td>\n",
       "      <td>94.06</td>\n",
       "      <td>93.09</td>\n",
       "      <td>93.48</td>\n",
       "      <td>28420900</td>\n",
       "      <td>93.48</td>\n",
       "    </tr>\n",
       "    <tr>\n",
       "      <th>2014-07-03</th>\n",
       "      <td>93.67</td>\n",
       "      <td>94.10</td>\n",
       "      <td>93.20</td>\n",
       "      <td>94.03</td>\n",
       "      <td>22891800</td>\n",
       "      <td>94.03</td>\n",
       "    </tr>\n",
       "    <tr>\n",
       "      <th>2014-07-07</th>\n",
       "      <td>94.14</td>\n",
       "      <td>95.99</td>\n",
       "      <td>94.10</td>\n",
       "      <td>95.97</td>\n",
       "      <td>56305400</td>\n",
       "      <td>95.97</td>\n",
       "    </tr>\n",
       "    <tr>\n",
       "      <th>2014-07-08</th>\n",
       "      <td>96.27</td>\n",
       "      <td>96.80</td>\n",
       "      <td>93.92</td>\n",
       "      <td>95.35</td>\n",
       "      <td>65130000</td>\n",
       "      <td>95.35</td>\n",
       "    </tr>\n",
       "  </tbody>\n",
       "</table>\n",
       "</div>"
      ],
      "text/plain": [
       "             Open   High    Low  Close    Volume  Adj Close\n",
       "Date                                                       \n",
       "2014-07-01  93.52  94.07  93.13  93.52  38170200      93.52\n",
       "2014-07-02  93.87  94.06  93.09  93.48  28420900      93.48\n",
       "2014-07-03  93.67  94.10  93.20  94.03  22891800      94.03\n",
       "2014-07-07  94.14  95.99  94.10  95.97  56305400      95.97\n",
       "2014-07-08  96.27  96.80  93.92  95.35  65130000      95.35"
      ]
     },
     "execution_count": 19,
     "metadata": {},
     "output_type": "execute_result"
    }
   ],
   "source": [
    "apple.tail()"
   ]
  },
  {
   "cell_type": "code",
   "execution_count": 8,
   "metadata": {},
   "outputs": [
    {
     "name": "stdout",
     "output_type": "stream",
     "text": [
      "DatetimeIndex(['2014-07-08', '2014-07-07', '2014-07-03', '2014-07-02',\n",
      "               '2014-07-01', '2014-06-30', '2014-06-27', '2014-06-26',\n",
      "               '2014-06-25', '2014-06-24',\n",
      "               ...\n",
      "               '1980-12-26', '1980-12-24', '1980-12-23', '1980-12-22',\n",
      "               '1980-12-19', '1980-12-18', '1980-12-17', '1980-12-16',\n",
      "               '1980-12-15', '1980-12-12'],\n",
      "              dtype='datetime64[ns]', name='Date', length=8465, freq=None)\n"
     ]
    }
   ],
   "source": [
    "print(apple.index)"
   ]
  },
  {
   "cell_type": "markdown",
   "metadata": {
    "id": "OzT2vETYAy60"
   },
   "source": [
    "### Step 7.  Is there any duplicate dates?"
   ]
  },
  {
   "cell_type": "code",
   "execution_count": 9,
   "metadata": {},
   "outputs": [
    {
     "data": {
      "text/plain": [
       "np.int64(0)"
      ]
     },
     "execution_count": 9,
     "metadata": {},
     "output_type": "execute_result"
    }
   ],
   "source": [
    "apple.duplicated().sum()"
   ]
  },
  {
   "cell_type": "code",
   "execution_count": 10,
   "metadata": {},
   "outputs": [
    {
     "name": "stdout",
     "output_type": "stream",
     "text": [
      "DatetimeIndex(['2014-07-08', '2014-07-07', '2014-07-03', '2014-07-02',\n",
      "               '2014-07-01', '2014-06-30', '2014-06-27', '2014-06-26',\n",
      "               '2014-06-25', '2014-06-24',\n",
      "               ...\n",
      "               '1980-12-26', '1980-12-24', '1980-12-23', '1980-12-22',\n",
      "               '1980-12-19', '1980-12-18', '1980-12-17', '1980-12-16',\n",
      "               '1980-12-15', '1980-12-12'],\n",
      "              dtype='datetime64[ns]', name='Date', length=8465, freq=None)\n"
     ]
    }
   ],
   "source": [
    "print(apple.index)"
   ]
  },
  {
   "cell_type": "code",
   "execution_count": 11,
   "metadata": {},
   "outputs": [
    {
     "data": {
      "text/plain": [
       "np.int64(0)"
      ]
     },
     "execution_count": 11,
     "metadata": {},
     "output_type": "execute_result"
    }
   ],
   "source": [
    "apple.index.duplicated().sum()"
   ]
  },
  {
   "cell_type": "code",
   "execution_count": 20,
   "metadata": {},
   "outputs": [
    {
     "data": {
      "text/plain": [
       "np.False_"
      ]
     },
     "execution_count": 20,
     "metadata": {},
     "output_type": "execute_result"
    }
   ],
   "source": [
    "apple.index.duplicated().any()"
   ]
  },
  {
   "cell_type": "code",
   "execution_count": 12,
   "metadata": {},
   "outputs": [
    {
     "name": "stdout",
     "output_type": "stream",
     "text": [
      "Index(['Open', 'High', 'Low', 'Close', 'Volume', 'Adj Close'], dtype='object')\n"
     ]
    }
   ],
   "source": [
    "print(apple.columns)"
   ]
  },
  {
   "cell_type": "code",
   "execution_count": 13,
   "metadata": {},
   "outputs": [
    {
     "data": {
      "text/plain": [
       "Open         4721\n",
       "High         4799\n",
       "Low          4813\n",
       "Close        4631\n",
       "Volume        550\n",
       "Adj Close    6140\n",
       "dtype: int64"
      ]
     },
     "execution_count": 13,
     "metadata": {},
     "output_type": "execute_result"
    }
   ],
   "source": [
    "# Con apply aplicamos una función a lo largo de las columnas del df\n",
    "# lambda define una función anónima que toma una columna (col) como argumento.\n",
    "# col.duplicated() devuelve una Serie booleana donde True indica que el valor en esa posición es duplicado dentro de la columna.\n",
    "# y con sum contamos la cantidad de True.\n",
    "apple.apply(lambda col: col.duplicated().sum())\n"
   ]
  },
  {
   "cell_type": "markdown",
   "metadata": {
    "id": "v2-FakyXAy64"
   },
   "source": [
    "### Step 8.  Ops...it seems the index is from the most recent date. Make the first entry the oldest date."
   ]
  },
  {
   "cell_type": "code",
   "execution_count": 14,
   "metadata": {},
   "outputs": [
    {
     "data": {
      "application/vnd.microsoft.datawrangler.viewer.v0+json": {
       "columns": [
        {
         "name": "Date",
         "rawType": "datetime64[ns]",
         "type": "datetime"
        },
        {
         "name": "Open",
         "rawType": "float64",
         "type": "float"
        },
        {
         "name": "High",
         "rawType": "float64",
         "type": "float"
        },
        {
         "name": "Low",
         "rawType": "float64",
         "type": "float"
        },
        {
         "name": "Close",
         "rawType": "float64",
         "type": "float"
        },
        {
         "name": "Volume",
         "rawType": "int64",
         "type": "integer"
        },
        {
         "name": "Adj Close",
         "rawType": "float64",
         "type": "float"
        }
       ],
       "conversionMethod": "pd.DataFrame",
       "ref": "44565ba9-a000-49e0-b9e8-bc86f580b90c",
       "rows": [
        [
         "1980-12-12 00:00:00",
         "28.75",
         "28.87",
         "28.75",
         "28.75",
         "117258400",
         "0.45"
        ],
        [
         "1980-12-15 00:00:00",
         "27.38",
         "27.38",
         "27.25",
         "27.25",
         "43971200",
         "0.42"
        ],
        [
         "1980-12-16 00:00:00",
         "25.37",
         "25.37",
         "25.25",
         "25.25",
         "26432000",
         "0.39"
        ],
        [
         "1980-12-17 00:00:00",
         "25.87",
         "26.0",
         "25.87",
         "25.87",
         "21610400",
         "0.4"
        ],
        [
         "1980-12-18 00:00:00",
         "26.63",
         "26.75",
         "26.63",
         "26.63",
         "18362400",
         "0.41"
        ],
        [
         "1980-12-19 00:00:00",
         "28.25",
         "28.38",
         "28.25",
         "28.25",
         "12157600",
         "0.44"
        ],
        [
         "1980-12-22 00:00:00",
         "29.63",
         "29.75",
         "29.63",
         "29.63",
         "9340800",
         "0.46"
        ],
        [
         "1980-12-23 00:00:00",
         "30.88",
         "31.0",
         "30.88",
         "30.88",
         "11737600",
         "0.48"
        ],
        [
         "1980-12-24 00:00:00",
         "32.5",
         "32.63",
         "32.5",
         "32.5",
         "12000800",
         "0.51"
        ],
        [
         "1980-12-26 00:00:00",
         "35.5",
         "35.62",
         "35.5",
         "35.5",
         "13893600",
         "0.55"
        ],
        [
         "1980-12-29 00:00:00",
         "36.0",
         "36.13",
         "36.0",
         "36.0",
         "23290400",
         "0.56"
        ],
        [
         "1980-12-30 00:00:00",
         "35.25",
         "35.25",
         "35.12",
         "35.12",
         "17220000",
         "0.55"
        ],
        [
         "1980-12-31 00:00:00",
         "34.25",
         "34.25",
         "34.13",
         "34.13",
         "8937600",
         "0.53"
        ],
        [
         "1981-01-02 00:00:00",
         "34.5",
         "34.75",
         "34.5",
         "34.5",
         "5415200",
         "0.54"
        ],
        [
         "1981-01-05 00:00:00",
         "33.87",
         "33.87",
         "33.75",
         "33.75",
         "8932000",
         "0.53"
        ],
        [
         "1981-01-06 00:00:00",
         "32.37",
         "32.37",
         "32.25",
         "32.25",
         "11289600",
         "0.5"
        ],
        [
         "1981-01-07 00:00:00",
         "31.0",
         "31.0",
         "30.88",
         "30.88",
         "13921600",
         "0.48"
        ],
        [
         "1981-01-08 00:00:00",
         "30.37",
         "30.37",
         "30.25",
         "30.25",
         "9956800",
         "0.47"
        ],
        [
         "1981-01-09 00:00:00",
         "31.88",
         "32.0",
         "31.88",
         "31.88",
         "5376000",
         "0.5"
        ],
        [
         "1981-01-12 00:00:00",
         "31.88",
         "31.88",
         "31.62",
         "31.62",
         "5924800",
         "0.49"
        ],
        [
         "1981-01-13 00:00:00",
         "30.63",
         "30.63",
         "30.5",
         "30.5",
         "5762400",
         "0.48"
        ],
        [
         "1981-01-14 00:00:00",
         "30.63",
         "30.75",
         "30.63",
         "30.63",
         "3572800",
         "0.48"
        ],
        [
         "1981-01-15 00:00:00",
         "31.25",
         "31.5",
         "31.25",
         "31.25",
         "3516800",
         "0.49"
        ],
        [
         "1981-01-16 00:00:00",
         "31.12",
         "31.12",
         "31.0",
         "31.0",
         "3348800",
         "0.48"
        ],
        [
         "1981-01-19 00:00:00",
         "32.87",
         "33.0",
         "32.87",
         "32.87",
         "10393600",
         "0.51"
        ],
        [
         "1981-01-20 00:00:00",
         "32.0",
         "32.0",
         "31.88",
         "31.88",
         "7520800",
         "0.5"
        ],
        [
         "1981-01-21 00:00:00",
         "32.5",
         "32.75",
         "32.5",
         "32.5",
         "3976000",
         "0.51"
        ],
        [
         "1981-01-22 00:00:00",
         "32.87",
         "33.13",
         "32.87",
         "32.87",
         "8887200",
         "0.51"
        ],
        [
         "1981-01-23 00:00:00",
         "32.87",
         "33.0",
         "32.75",
         "32.75",
         "2805600",
         "0.51"
        ],
        [
         "1981-01-26 00:00:00",
         "32.37",
         "32.37",
         "32.25",
         "32.25",
         "6160000",
         "0.5"
        ],
        [
         "1981-01-27 00:00:00",
         "32.25",
         "32.25",
         "32.0",
         "32.0",
         "5924800",
         "0.5"
        ],
        [
         "1981-01-28 00:00:00",
         "31.12",
         "31.12",
         "31.0",
         "31.0",
         "7039200",
         "0.48"
        ],
        [
         "1981-01-29 00:00:00",
         "30.0",
         "30.0",
         "29.87",
         "29.87",
         "10976000",
         "0.47"
        ],
        [
         "1981-01-30 00:00:00",
         "28.5",
         "28.5",
         "28.25",
         "28.25",
         "11547200",
         "0.44"
        ],
        [
         "1981-02-02 00:00:00",
         "26.75",
         "26.75",
         "26.63",
         "26.63",
         "5941600",
         "0.41"
        ],
        [
         "1981-02-03 00:00:00",
         "27.62",
         "27.75",
         "27.62",
         "27.62",
         "4788000",
         "0.43"
        ],
        [
         "1981-02-04 00:00:00",
         "28.62",
         "28.75",
         "28.62",
         "28.62",
         "6966400",
         "0.45"
        ],
        [
         "1981-02-05 00:00:00",
         "28.62",
         "28.87",
         "28.62",
         "28.62",
         "1982400",
         "0.45"
        ],
        [
         "1981-02-06 00:00:00",
         "28.75",
         "28.87",
         "28.75",
         "28.75",
         "3466400",
         "0.45"
        ],
        [
         "1981-02-09 00:00:00",
         "27.5",
         "27.5",
         "27.25",
         "27.25",
         "4188800",
         "0.42"
        ],
        [
         "1981-02-10 00:00:00",
         "27.25",
         "27.38",
         "27.25",
         "27.25",
         "4586400",
         "0.42"
        ],
        [
         "1981-02-11 00:00:00",
         "26.5",
         "26.5",
         "26.37",
         "26.37",
         "3460800",
         "0.41"
        ],
        [
         "1981-02-12 00:00:00",
         "26.25",
         "26.25",
         "26.13",
         "26.13",
         "3640000",
         "0.41"
        ],
        [
         "1981-02-13 00:00:00",
         "25.75",
         "25.75",
         "25.5",
         "25.5",
         "2788800",
         "0.4"
        ],
        [
         "1981-02-17 00:00:00",
         "26.13",
         "26.25",
         "26.13",
         "26.13",
         "3068800",
         "0.41"
        ],
        [
         "1981-02-18 00:00:00",
         "27.25",
         "27.5",
         "27.25",
         "27.25",
         "4810400",
         "0.42"
        ],
        [
         "1981-02-19 00:00:00",
         "25.75",
         "25.75",
         "25.63",
         "25.63",
         "5577600",
         "0.4"
        ],
        [
         "1981-02-20 00:00:00",
         "24.38",
         "24.38",
         "24.25",
         "24.25",
         "6092800",
         "0.38"
        ],
        [
         "1981-02-23 00:00:00",
         "24.62",
         "24.75",
         "24.62",
         "24.62",
         "3528000",
         "0.38"
        ],
        [
         "1981-02-24 00:00:00",
         "24.0",
         "24.0",
         "23.75",
         "23.75",
         "4244800",
         "0.37"
        ]
       ],
       "shape": {
        "columns": 6,
        "rows": 8465
       }
      },
      "text/html": [
       "<div>\n",
       "<style scoped>\n",
       "    .dataframe tbody tr th:only-of-type {\n",
       "        vertical-align: middle;\n",
       "    }\n",
       "\n",
       "    .dataframe tbody tr th {\n",
       "        vertical-align: top;\n",
       "    }\n",
       "\n",
       "    .dataframe thead th {\n",
       "        text-align: right;\n",
       "    }\n",
       "</style>\n",
       "<table border=\"1\" class=\"dataframe\">\n",
       "  <thead>\n",
       "    <tr style=\"text-align: right;\">\n",
       "      <th></th>\n",
       "      <th>Open</th>\n",
       "      <th>High</th>\n",
       "      <th>Low</th>\n",
       "      <th>Close</th>\n",
       "      <th>Volume</th>\n",
       "      <th>Adj Close</th>\n",
       "    </tr>\n",
       "    <tr>\n",
       "      <th>Date</th>\n",
       "      <th></th>\n",
       "      <th></th>\n",
       "      <th></th>\n",
       "      <th></th>\n",
       "      <th></th>\n",
       "      <th></th>\n",
       "    </tr>\n",
       "  </thead>\n",
       "  <tbody>\n",
       "    <tr>\n",
       "      <th>1980-12-12</th>\n",
       "      <td>28.75</td>\n",
       "      <td>28.87</td>\n",
       "      <td>28.75</td>\n",
       "      <td>28.75</td>\n",
       "      <td>117258400</td>\n",
       "      <td>0.45</td>\n",
       "    </tr>\n",
       "    <tr>\n",
       "      <th>1980-12-15</th>\n",
       "      <td>27.38</td>\n",
       "      <td>27.38</td>\n",
       "      <td>27.25</td>\n",
       "      <td>27.25</td>\n",
       "      <td>43971200</td>\n",
       "      <td>0.42</td>\n",
       "    </tr>\n",
       "    <tr>\n",
       "      <th>1980-12-16</th>\n",
       "      <td>25.37</td>\n",
       "      <td>25.37</td>\n",
       "      <td>25.25</td>\n",
       "      <td>25.25</td>\n",
       "      <td>26432000</td>\n",
       "      <td>0.39</td>\n",
       "    </tr>\n",
       "    <tr>\n",
       "      <th>1980-12-17</th>\n",
       "      <td>25.87</td>\n",
       "      <td>26.00</td>\n",
       "      <td>25.87</td>\n",
       "      <td>25.87</td>\n",
       "      <td>21610400</td>\n",
       "      <td>0.40</td>\n",
       "    </tr>\n",
       "    <tr>\n",
       "      <th>1980-12-18</th>\n",
       "      <td>26.63</td>\n",
       "      <td>26.75</td>\n",
       "      <td>26.63</td>\n",
       "      <td>26.63</td>\n",
       "      <td>18362400</td>\n",
       "      <td>0.41</td>\n",
       "    </tr>\n",
       "    <tr>\n",
       "      <th>...</th>\n",
       "      <td>...</td>\n",
       "      <td>...</td>\n",
       "      <td>...</td>\n",
       "      <td>...</td>\n",
       "      <td>...</td>\n",
       "      <td>...</td>\n",
       "    </tr>\n",
       "    <tr>\n",
       "      <th>2014-07-01</th>\n",
       "      <td>93.52</td>\n",
       "      <td>94.07</td>\n",
       "      <td>93.13</td>\n",
       "      <td>93.52</td>\n",
       "      <td>38170200</td>\n",
       "      <td>93.52</td>\n",
       "    </tr>\n",
       "    <tr>\n",
       "      <th>2014-07-02</th>\n",
       "      <td>93.87</td>\n",
       "      <td>94.06</td>\n",
       "      <td>93.09</td>\n",
       "      <td>93.48</td>\n",
       "      <td>28420900</td>\n",
       "      <td>93.48</td>\n",
       "    </tr>\n",
       "    <tr>\n",
       "      <th>2014-07-03</th>\n",
       "      <td>93.67</td>\n",
       "      <td>94.10</td>\n",
       "      <td>93.20</td>\n",
       "      <td>94.03</td>\n",
       "      <td>22891800</td>\n",
       "      <td>94.03</td>\n",
       "    </tr>\n",
       "    <tr>\n",
       "      <th>2014-07-07</th>\n",
       "      <td>94.14</td>\n",
       "      <td>95.99</td>\n",
       "      <td>94.10</td>\n",
       "      <td>95.97</td>\n",
       "      <td>56305400</td>\n",
       "      <td>95.97</td>\n",
       "    </tr>\n",
       "    <tr>\n",
       "      <th>2014-07-08</th>\n",
       "      <td>96.27</td>\n",
       "      <td>96.80</td>\n",
       "      <td>93.92</td>\n",
       "      <td>95.35</td>\n",
       "      <td>65130000</td>\n",
       "      <td>95.35</td>\n",
       "    </tr>\n",
       "  </tbody>\n",
       "</table>\n",
       "<p>8465 rows × 6 columns</p>\n",
       "</div>"
      ],
      "text/plain": [
       "             Open   High    Low  Close     Volume  Adj Close\n",
       "Date                                                        \n",
       "1980-12-12  28.75  28.87  28.75  28.75  117258400       0.45\n",
       "1980-12-15  27.38  27.38  27.25  27.25   43971200       0.42\n",
       "1980-12-16  25.37  25.37  25.25  25.25   26432000       0.39\n",
       "1980-12-17  25.87  26.00  25.87  25.87   21610400       0.40\n",
       "1980-12-18  26.63  26.75  26.63  26.63   18362400       0.41\n",
       "...           ...    ...    ...    ...        ...        ...\n",
       "2014-07-01  93.52  94.07  93.13  93.52   38170200      93.52\n",
       "2014-07-02  93.87  94.06  93.09  93.48   28420900      93.48\n",
       "2014-07-03  93.67  94.10  93.20  94.03   22891800      94.03\n",
       "2014-07-07  94.14  95.99  94.10  95.97   56305400      95.97\n",
       "2014-07-08  96.27  96.80  93.92  95.35   65130000      95.35\n",
       "\n",
       "[8465 rows x 6 columns]"
      ]
     },
     "execution_count": 14,
     "metadata": {},
     "output_type": "execute_result"
    }
   ],
   "source": [
    "# Lo hacemos ordenando el índice con sort_index\n",
    "apple = apple.sort_index(ascending=True)\n",
    "apple"
   ]
  },
  {
   "cell_type": "markdown",
   "metadata": {
    "id": "ZYs04FAlAy68"
   },
   "source": [
    "### Step 9. Get the last business day of each month"
   ]
  },
  {
   "cell_type": "code",
   "execution_count": 15,
   "metadata": {},
   "outputs": [
    {
     "name": "stdout",
     "output_type": "stream",
     "text": [
      "             Open   High    Low  Close    Volume  Adj Close\n",
      "Date                                                       \n",
      "1980-12-31  34.25  34.25  34.13  34.13   8937600       0.53\n",
      "1981-01-30  28.50  28.50  28.25  28.25  11547200       0.44\n",
      "1981-02-27  26.50  26.75  26.50  26.50   3690400       0.41\n",
      "1981-03-31  24.75  24.75  24.50  24.50   3998400       0.38\n",
      "1981-04-30  28.38  28.62  28.38  28.38   3152800       0.44\n"
     ]
    }
   ],
   "source": [
    "# Obtener el último día hábil de cada mes\n",
    "# Con resample agrupamos por el último día hábil. Y con last seleccionamos la última fila de cada grupo.\n",
    "last_business_days = apple.resample('BME').last()\n",
    "\n",
    "print(last_business_days.head())"
   ]
  },
  {
   "cell_type": "code",
   "execution_count": 26,
   "metadata": {},
   "outputs": [
    {
     "data": {
      "application/vnd.microsoft.datawrangler.viewer.v0+json": {
       "columns": [
        {
         "name": "Date",
         "rawType": "datetime64[ns]",
         "type": "datetime"
        },
        {
         "name": "Open",
         "rawType": "float64",
         "type": "float"
        },
        {
         "name": "High",
         "rawType": "float64",
         "type": "float"
        },
        {
         "name": "Low",
         "rawType": "float64",
         "type": "float"
        },
        {
         "name": "Close",
         "rawType": "float64",
         "type": "float"
        },
        {
         "name": "Volume",
         "rawType": "float64",
         "type": "float"
        },
        {
         "name": "Adj Close",
         "rawType": "float64",
         "type": "float"
        }
       ],
       "conversionMethod": "pd.DataFrame",
       "ref": "d3c1b4ba-57ea-4039-9ec5-d541d3a90449",
       "rows": [
        [
         "1980-12-31 00:00:00",
         "34.25",
         "34.25",
         "34.13",
         "34.13",
         "8937600.0",
         "0.53"
        ],
        [
         "1981-01-30 00:00:00",
         "28.5",
         "28.5",
         "28.25",
         "28.25",
         "11547200.0",
         "0.44"
        ],
        [
         "1981-02-27 00:00:00",
         "26.5",
         "26.75",
         "26.5",
         "26.5",
         "3690400.0",
         "0.41"
        ],
        [
         "1981-03-31 00:00:00",
         "24.75",
         "24.75",
         "24.5",
         "24.5",
         "3998400.0",
         "0.38"
        ],
        [
         "1981-04-30 00:00:00",
         "28.38",
         "28.62",
         "28.38",
         "28.38",
         "3152800.0",
         "0.44"
        ],
        [
         "1981-05-29 00:00:00",
         "33.13",
         "33.25",
         "33.13",
         "33.13",
         "14845600.0",
         "0.52"
        ],
        [
         "1981-06-30 00:00:00",
         "26.13",
         "26.13",
         "26.0",
         "26.0",
         "8976800.0",
         "0.41"
        ],
        [
         "1981-07-31 00:00:00",
         "25.0",
         "25.12",
         "25.0",
         "25.0",
         "2738400.0",
         "0.39"
        ],
        [
         "1981-08-31 00:00:00",
         "20.13",
         "20.25",
         "20.13",
         "20.13",
         "10236800.0",
         "0.31"
        ],
        [
         "1981-09-30 00:00:00",
         "15.25",
         "15.37",
         "15.25",
         "15.25",
         "12499200.0",
         "0.24"
        ],
        [
         "1981-10-30 00:00:00",
         "20.0",
         "20.13",
         "20.0",
         "20.0",
         "13182400.0",
         "0.31"
        ],
        [
         "1981-11-30 00:00:00",
         "18.75",
         "18.75",
         "18.63",
         "18.63",
         "5992000.0",
         "0.29"
        ],
        [
         "1981-12-31 00:00:00",
         "22.13",
         "22.25",
         "22.13",
         "22.13",
         "13664000.0",
         "0.34"
        ],
        [
         "1982-01-29 00:00:00",
         "20.38",
         "20.5",
         "20.38",
         "20.38",
         "13288800.0",
         "0.32"
        ],
        [
         "1982-02-26 00:00:00",
         "18.25",
         "18.37",
         "18.25",
         "18.25",
         "4356800.0",
         "0.28"
        ],
        [
         "1982-03-31 00:00:00",
         "16.88",
         "17.0",
         "16.88",
         "16.88",
         "12538400.0",
         "0.26"
        ],
        [
         "1982-04-30 00:00:00",
         "14.75",
         "14.87",
         "14.75",
         "14.75",
         "69350400.0",
         "0.23"
        ],
        [
         "1982-05-31 00:00:00",
         null,
         null,
         null,
         null,
         null,
         null
        ],
        [
         "1982-06-30 00:00:00",
         "12.75",
         "12.87",
         "12.75",
         "12.75",
         "16906400.0",
         "0.2"
        ],
        [
         "1982-07-30 00:00:00",
         "13.5",
         "13.62",
         "13.5",
         "13.5",
         "9654400.0",
         "0.21"
        ],
        [
         "1982-08-31 00:00:00",
         "18.0",
         "18.12",
         "18.0",
         "18.0",
         "35140000.0",
         "0.28"
        ],
        [
         "1982-09-30 00:00:00",
         "18.37",
         "18.37",
         "18.25",
         "18.25",
         "18670400.0",
         "0.28"
        ],
        [
         "1982-10-29 00:00:00",
         "25.12",
         "25.37",
         "24.75",
         "25.37",
         "29528800.0",
         "0.4"
        ],
        [
         "1982-11-30 00:00:00",
         "28.87",
         "32.0",
         "28.75",
         "31.88",
         "39799200.0",
         "0.5"
        ],
        [
         "1982-12-31 00:00:00",
         "30.0",
         "30.37",
         "29.87",
         "29.87",
         "12415200.0",
         "0.47"
        ],
        [
         "1983-01-31 00:00:00",
         "41.0",
         "41.62",
         "40.13",
         "40.87",
         "47000800.0",
         "0.64"
        ],
        [
         "1983-02-28 00:00:00",
         "46.75",
         "46.87",
         "45.5",
         "45.62",
         "33073600.0",
         "0.71"
        ],
        [
         "1983-03-31 00:00:00",
         "44.25",
         "44.5",
         "42.25",
         "42.25",
         "21285600.0",
         "0.66"
        ],
        [
         "1983-04-29 00:00:00",
         "50.0",
         "50.75",
         "49.38",
         "50.5",
         "77078400.0",
         "0.79"
        ],
        [
         "1983-05-31 00:00:00",
         "59.25",
         "59.25",
         "56.62",
         "57.75",
         "11384800.0",
         "0.9"
        ],
        [
         "1983-06-30 00:00:00",
         "49.12",
         "50.0",
         "48.62",
         "48.88",
         "27641600.0",
         "0.76"
        ],
        [
         "1983-07-29 00:00:00",
         "34.0",
         "35.25",
         "33.87",
         "34.88",
         "55081600.0",
         "0.54"
        ],
        [
         "1983-08-31 00:00:00",
         "33.13",
         "37.25",
         "33.13",
         "37.25",
         "50058400.0",
         "0.58"
        ],
        [
         "1983-09-30 00:00:00",
         "22.75",
         "23.63",
         "22.5",
         "23.13",
         "29467200.0",
         "0.36"
        ],
        [
         "1983-10-31 00:00:00",
         "21.12",
         "23.0",
         "21.12",
         "22.63",
         "43293600.0",
         "0.35"
        ],
        [
         "1983-11-30 00:00:00",
         "20.75",
         "21.0",
         "20.38",
         "20.38",
         "16083200.0",
         "0.32"
        ],
        [
         "1983-12-30 00:00:00",
         "24.38",
         "25.0",
         "24.25",
         "24.38",
         "22965600.0",
         "0.38"
        ],
        [
         "1984-01-31 00:00:00",
         "24.75",
         "25.25",
         "23.13",
         "24.75",
         "86273600.0",
         "0.39"
        ],
        [
         "1984-02-29 00:00:00",
         "25.5",
         "26.87",
         "25.25",
         "26.25",
         "33510400.0",
         "0.41"
        ],
        [
         "1984-03-30 00:00:00",
         "25.37",
         "25.5",
         "24.5",
         "24.75",
         "11435200.0",
         "0.39"
        ],
        [
         "1984-04-30 00:00:00",
         "30.13",
         "31.38",
         "29.87",
         "31.38",
         "73287200.0",
         "0.49"
        ],
        [
         "1984-05-31 00:00:00",
         "29.0",
         "29.75",
         "28.75",
         "29.37",
         "41753600.0",
         "0.46"
        ],
        [
         "1984-06-29 00:00:00",
         "26.37",
         "27.75",
         "26.37",
         "26.5",
         "35498400.0",
         "0.41"
        ],
        [
         "1984-07-31 00:00:00",
         "25.5",
         "25.87",
         "24.88",
         "25.5",
         "49907200.0",
         "0.4"
        ],
        [
         "1984-08-31 00:00:00",
         "27.0",
         "27.13",
         "26.13",
         "26.5",
         "34462400.0",
         "0.41"
        ],
        [
         "1984-09-28 00:00:00",
         "25.75",
         "25.75",
         "24.62",
         "25.12",
         "58352000.0",
         "0.39"
        ],
        [
         "1984-10-31 00:00:00",
         "25.0",
         "25.25",
         "24.88",
         "24.88",
         "15058400.0",
         "0.39"
        ],
        [
         "1984-11-30 00:00:00",
         "25.37",
         "25.63",
         "24.62",
         "24.75",
         "27176800.0",
         "0.39"
        ],
        [
         "1984-12-31 00:00:00",
         "29.13",
         "29.25",
         "29.13",
         "29.13",
         "51940000.0",
         "0.45"
        ],
        [
         "1985-01-31 00:00:00",
         "29.87",
         "30.0",
         "29.0",
         "29.0",
         "69059200.0",
         "0.45"
        ]
       ],
       "shape": {
        "columns": 6,
        "rows": 403
       }
      },
      "text/html": [
       "<div>\n",
       "<style scoped>\n",
       "    .dataframe tbody tr th:only-of-type {\n",
       "        vertical-align: middle;\n",
       "    }\n",
       "\n",
       "    .dataframe tbody tr th {\n",
       "        vertical-align: top;\n",
       "    }\n",
       "\n",
       "    .dataframe thead th {\n",
       "        text-align: right;\n",
       "    }\n",
       "</style>\n",
       "<table border=\"1\" class=\"dataframe\">\n",
       "  <thead>\n",
       "    <tr style=\"text-align: right;\">\n",
       "      <th></th>\n",
       "      <th>Open</th>\n",
       "      <th>High</th>\n",
       "      <th>Low</th>\n",
       "      <th>Close</th>\n",
       "      <th>Volume</th>\n",
       "      <th>Adj Close</th>\n",
       "    </tr>\n",
       "    <tr>\n",
       "      <th>Date</th>\n",
       "      <th></th>\n",
       "      <th></th>\n",
       "      <th></th>\n",
       "      <th></th>\n",
       "      <th></th>\n",
       "      <th></th>\n",
       "    </tr>\n",
       "  </thead>\n",
       "  <tbody>\n",
       "    <tr>\n",
       "      <th>1980-12-31</th>\n",
       "      <td>34.25</td>\n",
       "      <td>34.25</td>\n",
       "      <td>34.13</td>\n",
       "      <td>34.13</td>\n",
       "      <td>8937600.0</td>\n",
       "      <td>0.53</td>\n",
       "    </tr>\n",
       "    <tr>\n",
       "      <th>1981-01-30</th>\n",
       "      <td>28.50</td>\n",
       "      <td>28.50</td>\n",
       "      <td>28.25</td>\n",
       "      <td>28.25</td>\n",
       "      <td>11547200.0</td>\n",
       "      <td>0.44</td>\n",
       "    </tr>\n",
       "    <tr>\n",
       "      <th>1981-02-27</th>\n",
       "      <td>26.50</td>\n",
       "      <td>26.75</td>\n",
       "      <td>26.50</td>\n",
       "      <td>26.50</td>\n",
       "      <td>3690400.0</td>\n",
       "      <td>0.41</td>\n",
       "    </tr>\n",
       "    <tr>\n",
       "      <th>1981-03-31</th>\n",
       "      <td>24.75</td>\n",
       "      <td>24.75</td>\n",
       "      <td>24.50</td>\n",
       "      <td>24.50</td>\n",
       "      <td>3998400.0</td>\n",
       "      <td>0.38</td>\n",
       "    </tr>\n",
       "    <tr>\n",
       "      <th>1981-04-30</th>\n",
       "      <td>28.38</td>\n",
       "      <td>28.62</td>\n",
       "      <td>28.38</td>\n",
       "      <td>28.38</td>\n",
       "      <td>3152800.0</td>\n",
       "      <td>0.44</td>\n",
       "    </tr>\n",
       "    <tr>\n",
       "      <th>...</th>\n",
       "      <td>...</td>\n",
       "      <td>...</td>\n",
       "      <td>...</td>\n",
       "      <td>...</td>\n",
       "      <td>...</td>\n",
       "      <td>...</td>\n",
       "    </tr>\n",
       "    <tr>\n",
       "      <th>2014-02-28</th>\n",
       "      <td>529.08</td>\n",
       "      <td>532.75</td>\n",
       "      <td>522.12</td>\n",
       "      <td>526.24</td>\n",
       "      <td>92992200.0</td>\n",
       "      <td>74.76</td>\n",
       "    </tr>\n",
       "    <tr>\n",
       "      <th>2014-03-31</th>\n",
       "      <td>539.23</td>\n",
       "      <td>540.81</td>\n",
       "      <td>535.93</td>\n",
       "      <td>536.74</td>\n",
       "      <td>42167300.0</td>\n",
       "      <td>76.25</td>\n",
       "    </tr>\n",
       "    <tr>\n",
       "      <th>2014-04-30</th>\n",
       "      <td>592.64</td>\n",
       "      <td>599.43</td>\n",
       "      <td>589.80</td>\n",
       "      <td>590.09</td>\n",
       "      <td>114160200.0</td>\n",
       "      <td>83.83</td>\n",
       "    </tr>\n",
       "    <tr>\n",
       "      <th>2014-05-30</th>\n",
       "      <td>637.98</td>\n",
       "      <td>644.17</td>\n",
       "      <td>628.90</td>\n",
       "      <td>633.00</td>\n",
       "      <td>141005200.0</td>\n",
       "      <td>90.43</td>\n",
       "    </tr>\n",
       "    <tr>\n",
       "      <th>2014-06-30</th>\n",
       "      <td>92.10</td>\n",
       "      <td>93.73</td>\n",
       "      <td>92.09</td>\n",
       "      <td>92.93</td>\n",
       "      <td>49482300.0</td>\n",
       "      <td>92.93</td>\n",
       "    </tr>\n",
       "  </tbody>\n",
       "</table>\n",
       "<p>403 rows × 6 columns</p>\n",
       "</div>"
      ],
      "text/plain": [
       "              Open    High     Low   Close       Volume  Adj Close\n",
       "Date                                                              \n",
       "1980-12-31   34.25   34.25   34.13   34.13    8937600.0       0.53\n",
       "1981-01-30   28.50   28.50   28.25   28.25   11547200.0       0.44\n",
       "1981-02-27   26.50   26.75   26.50   26.50    3690400.0       0.41\n",
       "1981-03-31   24.75   24.75   24.50   24.50    3998400.0       0.38\n",
       "1981-04-30   28.38   28.62   28.38   28.38    3152800.0       0.44\n",
       "...            ...     ...     ...     ...          ...        ...\n",
       "2014-02-28  529.08  532.75  522.12  526.24   92992200.0      74.76\n",
       "2014-03-31  539.23  540.81  535.93  536.74   42167300.0      76.25\n",
       "2014-04-30  592.64  599.43  589.80  590.09  114160200.0      83.83\n",
       "2014-05-30  637.98  644.17  628.90  633.00  141005200.0      90.43\n",
       "2014-06-30   92.10   93.73   92.09   92.93   49482300.0      92.93\n",
       "\n",
       "[403 rows x 6 columns]"
      ]
     },
     "execution_count": 26,
     "metadata": {},
     "output_type": "execute_result"
    }
   ],
   "source": [
    "apple.asfreq(\"BME\")"
   ]
  },
  {
   "cell_type": "markdown",
   "metadata": {
    "id": "qg9vztDEAy6_"
   },
   "source": [
    "### Step 10.  What is the difference in days between the first day and the oldest"
   ]
  },
  {
   "cell_type": "code",
   "execution_count": 16,
   "metadata": {},
   "outputs": [
    {
     "name": "stdout",
     "output_type": "stream",
     "text": [
      "Diferencia en días: 12261\n"
     ]
    }
   ],
   "source": [
    "# Obtener la fecha más reciente y la más antigua\n",
    "first_day = apple.index.max() # Fecha más reciente\n",
    "oldest_day = apple.index.min() # Fecha más antigua\n",
    "\n",
    "# Calcular la diferencia en días\n",
    "difference_days = (first_day - oldest_day).days # .days extrae la cantidad de días enteros de la diferencia entre first_day y oldest_day.\n",
    "\n",
    "print(f\"Diferencia en días: {difference_days}\")\n"
   ]
  },
  {
   "cell_type": "markdown",
   "metadata": {
    "id": "GRJAYrMGAy7C"
   },
   "source": [
    "### Step 11.  How many months in the data we have?"
   ]
  },
  {
   "cell_type": "code",
   "execution_count": 17,
   "metadata": {},
   "outputs": [
    {
     "name": "stdout",
     "output_type": "stream",
     "text": [
      "El número de meses que hay en los datos es: 404\n"
     ]
    }
   ],
   "source": [
    "# Como la columna Date es el index lo hago con apple.index (DatetimeIndex)\n",
    "# .to_period(\"M\"): Convierte cada fecha en el índice a un período de mes (\"M\" significa que solo se tomará el año y el mes, ignorando el día).\n",
    "unique_months = apple.index.to_period(\"M\").nunique()\n",
    "\n",
    "print(\"El número de meses que hay en los datos es:\", unique_months)\n"
   ]
  },
  {
   "cell_type": "markdown",
   "metadata": {
    "id": "t5T7HlKNAy7G"
   },
   "source": [
    "### Step 12. Plot the 'Adj Close' value. Set the size of the figure to 13.5 x 9 inches"
   ]
  },
  {
   "cell_type": "code",
   "execution_count": 18,
   "metadata": {},
   "outputs": [
    {
     "data": {
      "image/png": "[encoded data removed]",
      "text/plain": [
       "<Figure size 1350x900 with 1 Axes>"
      ]
     },
     "metadata": {},
     "output_type": "display_data"
    }
   ],
   "source": [
    "\n",
    "# Tamaño de la figura\n",
    "plt.figure(figsize=(13.5, 9))\n",
    "\n",
    "# aplple index(fecha) va en el eje x. La columna Adj Close va en el eje y (precio cierre acciones de Apple)\n",
    "plt.plot(apple.index, apple['Adj Close'], label=\"Adj Close\", color=\"blue\")\n",
    "\n",
    "# Títulos y etiquetas\n",
    "plt.title(\"Apple Stock Adjusted Closing Price\")\n",
    "plt.xlabel(\"Date\")\n",
    "plt.ylabel(\"Adjusted Close Price\")\n",
    "plt.legend()\n",
    "\n",
    "\n",
    "plt.show()\n"
   ]
  }
 ],
 "metadata": {
  "anaconda-cloud": {},
  "colab": {
   "name": "Solutions_Apple.ipynb",
   "provenance": []
  },
  "kernelspec": {
   "display_name": "Python 3",
   "language": "python",
   "name": "python3"
  },
  "language_info": {
   "codemirror_mode": {
    "name": "ipython",
    "version": 3
   },
   "file_extension": ".py",
   "mimetype": "text/x-python",
   "name": "python",
   "nbconvert_exporter": "python",
   "pygments_lexer": "ipython3",
   "version": "3.11.9"
  }
 },
 "nbformat": 4,
 "nbformat_minor": 4
}
