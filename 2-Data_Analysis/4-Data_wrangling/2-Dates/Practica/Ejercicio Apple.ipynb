{
 "cells": [
  {
   "cell_type": "markdown",
   "metadata": {
    "id": "et2xslqoAy6f"
   },
   "source": [
    "# Apple Stock"
   ]
  },
  {
   "cell_type": "markdown",
   "metadata": {
    "id": "39PdeVN4Ay6g"
   },
   "source": [
    "### Introduction:\n",
    "\n",
    "We are going to use Apple's stock price.\n",
    "\n",
    "\n",
    "### Step 1. Import the necessary libraries"
   ]
  },
  {
   "cell_type": "code",
   "execution_count": 43,
   "metadata": {},
   "outputs": [],
   "source": [
    "import pandas as pd\n",
    "import numpy as np"
   ]
  },
  {
   "cell_type": "markdown",
   "metadata": {
    "id": "jNUiJYHrAy6k"
   },
   "source": [
    "### Step 2. Import the dataset from this [address](https://raw.githubusercontent.com/guipsamora/pandas_exercises/master/09_Time_Series/Apple_Stock/appl_1980_2014.csv)"
   ]
  },
  {
   "cell_type": "markdown",
   "metadata": {
    "id": "blsFI_HYAy6l"
   },
   "source": [
    "### Step 3. Assign it to a variable apple and apply a head()"
   ]
  },
  {
   "cell_type": "code",
   "execution_count": 44,
   "metadata": {},
   "outputs": [
    {
     "data": {
      "application/vnd.microsoft.datawrangler.viewer.v0+json": {
       "columns": [
        {
         "name": "index",
         "rawType": "int64",
         "type": "integer"
        },
        {
         "name": "Date",
         "rawType": "object",
         "type": "string"
        },
        {
         "name": "Open",
         "rawType": "float64",
         "type": "float"
        },
        {
         "name": "High",
         "rawType": "float64",
         "type": "float"
        },
        {
         "name": "Low",
         "rawType": "float64",
         "type": "float"
        },
        {
         "name": "Close",
         "rawType": "float64",
         "type": "float"
        },
        {
         "name": "Volume",
         "rawType": "int64",
         "type": "integer"
        },
        {
         "name": "Adj Close",
         "rawType": "float64",
         "type": "float"
        }
       ],
       "conversionMethod": "pd.DataFrame",
       "ref": "fba1bccf-0659-4110-a871-30eedf8fadff",
       "rows": [
        [
         "0",
         "2014-07-08",
         "96.27",
         "96.8",
         "93.92",
         "95.35",
         "65130000",
         "95.35"
        ],
        [
         "1",
         "2014-07-07",
         "94.14",
         "95.99",
         "94.1",
         "95.97",
         "56305400",
         "95.97"
        ],
        [
         "2",
         "2014-07-03",
         "93.67",
         "94.1",
         "93.2",
         "94.03",
         "22891800",
         "94.03"
        ],
        [
         "3",
         "2014-07-02",
         "93.87",
         "94.06",
         "93.09",
         "93.48",
         "28420900",
         "93.48"
        ],
        [
         "4",
         "2014-07-01",
         "93.52",
         "94.07",
         "93.13",
         "93.52",
         "38170200",
         "93.52"
        ]
       ],
       "shape": {
        "columns": 7,
        "rows": 5
       }
      },
      "text/html": [
       "<div>\n",
       "<style scoped>\n",
       "    .dataframe tbody tr th:only-of-type {\n",
       "        vertical-align: middle;\n",
       "    }\n",
       "\n",
       "    .dataframe tbody tr th {\n",
       "        vertical-align: top;\n",
       "    }\n",
       "\n",
       "    .dataframe thead th {\n",
       "        text-align: right;\n",
       "    }\n",
       "</style>\n",
       "<table border=\"1\" class=\"dataframe\">\n",
       "  <thead>\n",
       "    <tr style=\"text-align: right;\">\n",
       "      <th></th>\n",
       "      <th>Date</th>\n",
       "      <th>Open</th>\n",
       "      <th>High</th>\n",
       "      <th>Low</th>\n",
       "      <th>Close</th>\n",
       "      <th>Volume</th>\n",
       "      <th>Adj Close</th>\n",
       "    </tr>\n",
       "  </thead>\n",
       "  <tbody>\n",
       "    <tr>\n",
       "      <th>0</th>\n",
       "      <td>2014-07-08</td>\n",
       "      <td>96.27</td>\n",
       "      <td>96.80</td>\n",
       "      <td>93.92</td>\n",
       "      <td>95.35</td>\n",
       "      <td>65130000</td>\n",
       "      <td>95.35</td>\n",
       "    </tr>\n",
       "    <tr>\n",
       "      <th>1</th>\n",
       "      <td>2014-07-07</td>\n",
       "      <td>94.14</td>\n",
       "      <td>95.99</td>\n",
       "      <td>94.10</td>\n",
       "      <td>95.97</td>\n",
       "      <td>56305400</td>\n",
       "      <td>95.97</td>\n",
       "    </tr>\n",
       "    <tr>\n",
       "      <th>2</th>\n",
       "      <td>2014-07-03</td>\n",
       "      <td>93.67</td>\n",
       "      <td>94.10</td>\n",
       "      <td>93.20</td>\n",
       "      <td>94.03</td>\n",
       "      <td>22891800</td>\n",
       "      <td>94.03</td>\n",
       "    </tr>\n",
       "    <tr>\n",
       "      <th>3</th>\n",
       "      <td>2014-07-02</td>\n",
       "      <td>93.87</td>\n",
       "      <td>94.06</td>\n",
       "      <td>93.09</td>\n",
       "      <td>93.48</td>\n",
       "      <td>28420900</td>\n",
       "      <td>93.48</td>\n",
       "    </tr>\n",
       "    <tr>\n",
       "      <th>4</th>\n",
       "      <td>2014-07-01</td>\n",
       "      <td>93.52</td>\n",
       "      <td>94.07</td>\n",
       "      <td>93.13</td>\n",
       "      <td>93.52</td>\n",
       "      <td>38170200</td>\n",
       "      <td>93.52</td>\n",
       "    </tr>\n",
       "  </tbody>\n",
       "</table>\n",
       "</div>"
      ],
      "text/plain": [
       "         Date   Open   High    Low  Close    Volume  Adj Close\n",
       "0  2014-07-08  96.27  96.80  93.92  95.35  65130000      95.35\n",
       "1  2014-07-07  94.14  95.99  94.10  95.97  56305400      95.97\n",
       "2  2014-07-03  93.67  94.10  93.20  94.03  22891800      94.03\n",
       "3  2014-07-02  93.87  94.06  93.09  93.48  28420900      93.48\n",
       "4  2014-07-01  93.52  94.07  93.13  93.52  38170200      93.52"
      ]
     },
     "execution_count": 44,
     "metadata": {},
     "output_type": "execute_result"
    }
   ],
   "source": [
    "url = \"https://raw.githubusercontent.com/guipsamora/pandas_exercises/master/09_Time_Series/Apple_Stock/appl_1980_2014.csv\"\n",
    "apple = pd.read_csv(url)\n",
    "apple.head()"
   ]
  },
  {
   "cell_type": "markdown",
   "metadata": {
    "id": "Yvfjrh1vAy6q"
   },
   "source": [
    "### Step 4.  Check out the type of the columns"
   ]
  },
  {
   "cell_type": "code",
   "execution_count": 45,
   "metadata": {},
   "outputs": [
    {
     "data": {
      "text/plain": [
       "Date          object\n",
       "Open         float64\n",
       "High         float64\n",
       "Low          float64\n",
       "Close        float64\n",
       "Volume         int64\n",
       "Adj Close    float64\n",
       "dtype: object"
      ]
     },
     "execution_count": 45,
     "metadata": {},
     "output_type": "execute_result"
    }
   ],
   "source": [
    "apple.dtypes"
   ]
  },
  {
   "cell_type": "markdown",
   "metadata": {
    "id": "XuY63oQ_Ay6t"
   },
   "source": [
    "### Step 5. Transform the Date column as a datetime type and check the info()"
   ]
  },
  {
   "cell_type": "code",
   "execution_count": 46,
   "metadata": {},
   "outputs": [
    {
     "name": "stdout",
     "output_type": "stream",
     "text": [
      "<class 'pandas.core.frame.DataFrame'>\n",
      "RangeIndex: 8465 entries, 0 to 8464\n",
      "Data columns (total 7 columns):\n",
      " #   Column     Non-Null Count  Dtype         \n",
      "---  ------     --------------  -----         \n",
      " 0   Date       8465 non-null   datetime64[ns]\n",
      " 1   Open       8465 non-null   float64       \n",
      " 2   High       8465 non-null   float64       \n",
      " 3   Low        8465 non-null   float64       \n",
      " 4   Close      8465 non-null   float64       \n",
      " 5   Volume     8465 non-null   int64         \n",
      " 6   Adj Close  8465 non-null   float64       \n",
      "dtypes: datetime64[ns](1), float64(5), int64(1)\n",
      "memory usage: 463.1 KB\n"
     ]
    }
   ],
   "source": [
    "apple['Date'] = pd.to_datetime(apple['Date'])\n",
    "\n",
    "apple.info()"
   ]
  },
  {
   "cell_type": "markdown",
   "metadata": {
    "id": "zV8pTwdtAy6x"
   },
   "source": [
    "### Step 6.  Set the date as the index"
   ]
  },
  {
   "cell_type": "code",
   "execution_count": 47,
   "metadata": {},
   "outputs": [],
   "source": [
    "# Cambiar la columna 'Date' a índice\n",
    "apple.set_index(\"Date\", inplace=True)"
   ]
  },
  {
   "cell_type": "code",
   "execution_count": 48,
   "metadata": {},
   "outputs": [
    {
     "data": {
      "application/vnd.microsoft.datawrangler.viewer.v0+json": {
       "columns": [
        {
         "name": "Date",
         "rawType": "datetime64[ns]",
         "type": "datetime"
        },
        {
         "name": "Open",
         "rawType": "float64",
         "type": "float"
        },
        {
         "name": "High",
         "rawType": "float64",
         "type": "float"
        },
        {
         "name": "Low",
         "rawType": "float64",
         "type": "float"
        },
        {
         "name": "Close",
         "rawType": "float64",
         "type": "float"
        },
        {
         "name": "Volume",
         "rawType": "int64",
         "type": "integer"
        },
        {
         "name": "Adj Close",
         "rawType": "float64",
         "type": "float"
        }
       ],
       "conversionMethod": "pd.DataFrame",
       "ref": "a4612bc8-71bc-4a13-b302-e17dc35f27d4",
       "rows": [
        [
         "2014-07-08 00:00:00",
         "96.27",
         "96.8",
         "93.92",
         "95.35",
         "65130000",
         "95.35"
        ],
        [
         "2014-07-07 00:00:00",
         "94.14",
         "95.99",
         "94.1",
         "95.97",
         "56305400",
         "95.97"
        ],
        [
         "2014-07-03 00:00:00",
         "93.67",
         "94.1",
         "93.2",
         "94.03",
         "22891800",
         "94.03"
        ],
        [
         "2014-07-02 00:00:00",
         "93.87",
         "94.06",
         "93.09",
         "93.48",
         "28420900",
         "93.48"
        ],
        [
         "2014-07-01 00:00:00",
         "93.52",
         "94.07",
         "93.13",
         "93.52",
         "38170200",
         "93.52"
        ],
        [
         "2014-06-30 00:00:00",
         "92.1",
         "93.73",
         "92.09",
         "92.93",
         "49482300",
         "92.93"
        ],
        [
         "2014-06-27 00:00:00",
         "90.82",
         "92.0",
         "90.77",
         "91.98",
         "64006800",
         "91.98"
        ],
        [
         "2014-06-26 00:00:00",
         "90.37",
         "91.05",
         "89.8",
         "90.9",
         "32595800",
         "90.9"
        ],
        [
         "2014-06-25 00:00:00",
         "90.21",
         "90.7",
         "89.65",
         "90.36",
         "36852200",
         "90.36"
        ],
        [
         "2014-06-24 00:00:00",
         "90.75",
         "91.74",
         "90.19",
         "90.28",
         "38988300",
         "90.28"
        ],
        [
         "2014-06-23 00:00:00",
         "91.32",
         "91.62",
         "90.6",
         "90.83",
         "43618200",
         "90.83"
        ],
        [
         "2014-06-20 00:00:00",
         "91.85",
         "92.55",
         "90.9",
         "90.91",
         "100813200",
         "90.91"
        ],
        [
         "2014-06-19 00:00:00",
         "92.29",
         "92.3",
         "91.34",
         "91.86",
         "35486400",
         "91.86"
        ],
        [
         "2014-06-18 00:00:00",
         "92.27",
         "92.29",
         "91.35",
         "92.18",
         "33493800",
         "92.18"
        ],
        [
         "2014-06-17 00:00:00",
         "92.31",
         "92.7",
         "91.8",
         "92.08",
         "29689800",
         "92.08"
        ],
        [
         "2014-06-16 00:00:00",
         "91.51",
         "92.75",
         "91.45",
         "92.2",
         "35561000",
         "92.2"
        ],
        [
         "2014-06-13 00:00:00",
         "92.2",
         "92.44",
         "90.88",
         "91.28",
         "54525000",
         "91.28"
        ],
        [
         "2014-06-12 00:00:00",
         "94.04",
         "94.12",
         "91.9",
         "92.29",
         "54749000",
         "92.29"
        ],
        [
         "2014-06-11 00:00:00",
         "94.13",
         "94.76",
         "93.47",
         "93.86",
         "45681000",
         "93.86"
        ],
        [
         "2014-06-10 00:00:00",
         "94.73",
         "95.05",
         "93.57",
         "94.25",
         "62777000",
         "94.25"
        ],
        [
         "2014-06-09 00:00:00",
         "92.7",
         "93.88",
         "91.75",
         "93.7",
         "75415000",
         "93.7"
        ],
        [
         "2014-06-06 00:00:00",
         "649.9",
         "651.26",
         "644.47",
         "645.57",
         "87484600",
         "92.22"
        ],
        [
         "2014-06-05 00:00:00",
         "646.2",
         "649.37",
         "642.61",
         "647.35",
         "75951400",
         "92.48"
        ],
        [
         "2014-06-04 00:00:00",
         "637.44",
         "647.89",
         "636.11",
         "644.82",
         "83870500",
         "92.12"
        ],
        [
         "2014-06-03 00:00:00",
         "628.46",
         "638.74",
         "628.25",
         "637.54",
         "73177300",
         "91.08"
        ],
        [
         "2014-06-02 00:00:00",
         "633.96",
         "634.83",
         "622.5",
         "628.65",
         "92337700",
         "89.81"
        ],
        [
         "2014-05-30 00:00:00",
         "637.98",
         "644.17",
         "628.9",
         "633.0",
         "141005200",
         "90.43"
        ],
        [
         "2014-05-29 00:00:00",
         "627.85",
         "636.87",
         "627.77",
         "635.38",
         "94118500",
         "90.77"
        ],
        [
         "2014-05-28 00:00:00",
         "626.02",
         "629.83",
         "623.78",
         "624.01",
         "78870400",
         "89.14"
        ],
        [
         "2014-05-27 00:00:00",
         "615.88",
         "625.86",
         "615.63",
         "625.63",
         "87216500",
         "89.38"
        ],
        [
         "2014-05-23 00:00:00",
         "607.25",
         "614.73",
         "606.47",
         "614.13",
         "58052400",
         "87.73"
        ],
        [
         "2014-05-22 00:00:00",
         "606.6",
         "609.85",
         "604.1",
         "607.27",
         "50190000",
         "86.75"
        ],
        [
         "2014-05-21 00:00:00",
         "603.83",
         "606.7",
         "602.06",
         "606.31",
         "49214900",
         "86.62"
        ],
        [
         "2014-05-20 00:00:00",
         "604.51",
         "606.4",
         "600.73",
         "604.71",
         "58709000",
         "86.39"
        ],
        [
         "2014-05-19 00:00:00",
         "597.85",
         "607.33",
         "597.33",
         "604.59",
         "79438800",
         "86.37"
        ],
        [
         "2014-05-16 00:00:00",
         "588.63",
         "597.53",
         "585.4",
         "597.51",
         "69064100",
         "85.36"
        ],
        [
         "2014-05-15 00:00:00",
         "594.7",
         "596.6",
         "588.04",
         "588.82",
         "57711500",
         "84.12"
        ],
        [
         "2014-05-14 00:00:00",
         "592.43",
         "597.4",
         "591.74",
         "593.87",
         "41601000",
         "84.84"
        ],
        [
         "2014-05-13 00:00:00",
         "592.0",
         "594.54",
         "590.7",
         "593.76",
         "39934300",
         "84.82"
        ],
        [
         "2014-05-12 00:00:00",
         "587.49",
         "593.66",
         "587.4",
         "592.83",
         "53302200",
         "84.69"
        ],
        [
         "2014-05-09 00:00:00",
         "584.54",
         "586.25",
         "580.33",
         "585.54",
         "72899400",
         "83.65"
        ],
        [
         "2014-05-08 00:00:00",
         "588.25",
         "594.41",
         "586.4",
         "587.99",
         "57574300",
         "84.0"
        ],
        [
         "2014-05-07 00:00:00",
         "595.25",
         "597.29",
         "587.73",
         "592.33",
         "70716100",
         "84.15"
        ],
        [
         "2014-05-06 00:00:00",
         "601.8",
         "604.41",
         "594.41",
         "594.41",
         "93641100",
         "84.44"
        ],
        [
         "2014-05-05 00:00:00",
         "590.14",
         "601.0",
         "590.0",
         "600.96",
         "71766800",
         "85.37"
        ],
        [
         "2014-05-02 00:00:00",
         "592.34",
         "594.2",
         "589.71",
         "592.58",
         "47878600",
         "84.18"
        ],
        [
         "2014-05-01 00:00:00",
         "592.0",
         "594.8",
         "586.36",
         "591.48",
         "61012000",
         "84.03"
        ],
        [
         "2014-04-30 00:00:00",
         "592.64",
         "599.43",
         "589.8",
         "590.09",
         "114160200",
         "83.83"
        ],
        [
         "2014-04-29 00:00:00",
         "593.74",
         "595.98",
         "589.51",
         "592.33",
         "84344400",
         "84.15"
        ],
        [
         "2014-04-28 00:00:00",
         "572.8",
         "595.75",
         "572.55",
         "594.09",
         "167371400",
         "84.4"
        ]
       ],
       "shape": {
        "columns": 6,
        "rows": 8465
       }
      },
      "text/html": [
       "<div>\n",
       "<style scoped>\n",
       "    .dataframe tbody tr th:only-of-type {\n",
       "        vertical-align: middle;\n",
       "    }\n",
       "\n",
       "    .dataframe tbody tr th {\n",
       "        vertical-align: top;\n",
       "    }\n",
       "\n",
       "    .dataframe thead th {\n",
       "        text-align: right;\n",
       "    }\n",
       "</style>\n",
       "<table border=\"1\" class=\"dataframe\">\n",
       "  <thead>\n",
       "    <tr style=\"text-align: right;\">\n",
       "      <th></th>\n",
       "      <th>Open</th>\n",
       "      <th>High</th>\n",
       "      <th>Low</th>\n",
       "      <th>Close</th>\n",
       "      <th>Volume</th>\n",
       "      <th>Adj Close</th>\n",
       "    </tr>\n",
       "    <tr>\n",
       "      <th>Date</th>\n",
       "      <th></th>\n",
       "      <th></th>\n",
       "      <th></th>\n",
       "      <th></th>\n",
       "      <th></th>\n",
       "      <th></th>\n",
       "    </tr>\n",
       "  </thead>\n",
       "  <tbody>\n",
       "    <tr>\n",
       "      <th>2014-07-08</th>\n",
       "      <td>96.27</td>\n",
       "      <td>96.80</td>\n",
       "      <td>93.92</td>\n",
       "      <td>95.35</td>\n",
       "      <td>65130000</td>\n",
       "      <td>95.35</td>\n",
       "    </tr>\n",
       "    <tr>\n",
       "      <th>2014-07-07</th>\n",
       "      <td>94.14</td>\n",
       "      <td>95.99</td>\n",
       "      <td>94.10</td>\n",
       "      <td>95.97</td>\n",
       "      <td>56305400</td>\n",
       "      <td>95.97</td>\n",
       "    </tr>\n",
       "    <tr>\n",
       "      <th>2014-07-03</th>\n",
       "      <td>93.67</td>\n",
       "      <td>94.10</td>\n",
       "      <td>93.20</td>\n",
       "      <td>94.03</td>\n",
       "      <td>22891800</td>\n",
       "      <td>94.03</td>\n",
       "    </tr>\n",
       "    <tr>\n",
       "      <th>2014-07-02</th>\n",
       "      <td>93.87</td>\n",
       "      <td>94.06</td>\n",
       "      <td>93.09</td>\n",
       "      <td>93.48</td>\n",
       "      <td>28420900</td>\n",
       "      <td>93.48</td>\n",
       "    </tr>\n",
       "    <tr>\n",
       "      <th>2014-07-01</th>\n",
       "      <td>93.52</td>\n",
       "      <td>94.07</td>\n",
       "      <td>93.13</td>\n",
       "      <td>93.52</td>\n",
       "      <td>38170200</td>\n",
       "      <td>93.52</td>\n",
       "    </tr>\n",
       "    <tr>\n",
       "      <th>...</th>\n",
       "      <td>...</td>\n",
       "      <td>...</td>\n",
       "      <td>...</td>\n",
       "      <td>...</td>\n",
       "      <td>...</td>\n",
       "      <td>...</td>\n",
       "    </tr>\n",
       "    <tr>\n",
       "      <th>1980-12-18</th>\n",
       "      <td>26.63</td>\n",
       "      <td>26.75</td>\n",
       "      <td>26.63</td>\n",
       "      <td>26.63</td>\n",
       "      <td>18362400</td>\n",
       "      <td>0.41</td>\n",
       "    </tr>\n",
       "    <tr>\n",
       "      <th>1980-12-17</th>\n",
       "      <td>25.87</td>\n",
       "      <td>26.00</td>\n",
       "      <td>25.87</td>\n",
       "      <td>25.87</td>\n",
       "      <td>21610400</td>\n",
       "      <td>0.40</td>\n",
       "    </tr>\n",
       "    <tr>\n",
       "      <th>1980-12-16</th>\n",
       "      <td>25.37</td>\n",
       "      <td>25.37</td>\n",
       "      <td>25.25</td>\n",
       "      <td>25.25</td>\n",
       "      <td>26432000</td>\n",
       "      <td>0.39</td>\n",
       "    </tr>\n",
       "    <tr>\n",
       "      <th>1980-12-15</th>\n",
       "      <td>27.38</td>\n",
       "      <td>27.38</td>\n",
       "      <td>27.25</td>\n",
       "      <td>27.25</td>\n",
       "      <td>43971200</td>\n",
       "      <td>0.42</td>\n",
       "    </tr>\n",
       "    <tr>\n",
       "      <th>1980-12-12</th>\n",
       "      <td>28.75</td>\n",
       "      <td>28.87</td>\n",
       "      <td>28.75</td>\n",
       "      <td>28.75</td>\n",
       "      <td>117258400</td>\n",
       "      <td>0.45</td>\n",
       "    </tr>\n",
       "  </tbody>\n",
       "</table>\n",
       "<p>8465 rows × 6 columns</p>\n",
       "</div>"
      ],
      "text/plain": [
       "             Open   High    Low  Close     Volume  Adj Close\n",
       "Date                                                        \n",
       "2014-07-08  96.27  96.80  93.92  95.35   65130000      95.35\n",
       "2014-07-07  94.14  95.99  94.10  95.97   56305400      95.97\n",
       "2014-07-03  93.67  94.10  93.20  94.03   22891800      94.03\n",
       "2014-07-02  93.87  94.06  93.09  93.48   28420900      93.48\n",
       "2014-07-01  93.52  94.07  93.13  93.52   38170200      93.52\n",
       "...           ...    ...    ...    ...        ...        ...\n",
       "1980-12-18  26.63  26.75  26.63  26.63   18362400       0.41\n",
       "1980-12-17  25.87  26.00  25.87  25.87   21610400       0.40\n",
       "1980-12-16  25.37  25.37  25.25  25.25   26432000       0.39\n",
       "1980-12-15  27.38  27.38  27.25  27.25   43971200       0.42\n",
       "1980-12-12  28.75  28.87  28.75  28.75  117258400       0.45\n",
       "\n",
       "[8465 rows x 6 columns]"
      ]
     },
     "execution_count": 48,
     "metadata": {},
     "output_type": "execute_result"
    }
   ],
   "source": [
    "apple"
   ]
  },
  {
   "cell_type": "code",
   "execution_count": 49,
   "metadata": {},
   "outputs": [
    {
     "name": "stdout",
     "output_type": "stream",
     "text": [
      "DatetimeIndex(['2014-07-08', '2014-07-07', '2014-07-03', '2014-07-02',\n",
      "               '2014-07-01', '2014-06-30', '2014-06-27', '2014-06-26',\n",
      "               '2014-06-25', '2014-06-24',\n",
      "               ...\n",
      "               '1980-12-26', '1980-12-24', '1980-12-23', '1980-12-22',\n",
      "               '1980-12-19', '1980-12-18', '1980-12-17', '1980-12-16',\n",
      "               '1980-12-15', '1980-12-12'],\n",
      "              dtype='datetime64[ns]', name='Date', length=8465, freq=None)\n"
     ]
    }
   ],
   "source": [
    "print(apple.index)"
   ]
  },
  {
   "cell_type": "markdown",
   "metadata": {
    "id": "OzT2vETYAy60"
   },
   "source": [
    "### Step 7.  Is there any duplicate dates?"
   ]
  },
  {
   "cell_type": "code",
   "execution_count": 50,
   "metadata": {},
   "outputs": [
    {
     "data": {
      "text/plain": [
       "np.int64(0)"
      ]
     },
     "execution_count": 50,
     "metadata": {},
     "output_type": "execute_result"
    }
   ],
   "source": [
    "apple.duplicated().sum()"
   ]
  },
  {
   "cell_type": "code",
   "execution_count": 51,
   "metadata": {},
   "outputs": [
    {
     "name": "stdout",
     "output_type": "stream",
     "text": [
      "DatetimeIndex(['2014-07-08', '2014-07-07', '2014-07-03', '2014-07-02',\n",
      "               '2014-07-01', '2014-06-30', '2014-06-27', '2014-06-26',\n",
      "               '2014-06-25', '2014-06-24',\n",
      "               ...\n",
      "               '1980-12-26', '1980-12-24', '1980-12-23', '1980-12-22',\n",
      "               '1980-12-19', '1980-12-18', '1980-12-17', '1980-12-16',\n",
      "               '1980-12-15', '1980-12-12'],\n",
      "              dtype='datetime64[ns]', name='Date', length=8465, freq=None)\n"
     ]
    }
   ],
   "source": [
    "print(apple.index)"
   ]
  },
  {
   "cell_type": "code",
   "execution_count": 59,
   "metadata": {},
   "outputs": [
    {
     "data": {
      "text/plain": [
       "np.int64(0)"
      ]
     },
     "execution_count": 59,
     "metadata": {},
     "output_type": "execute_result"
    }
   ],
   "source": [
    "apple.index.duplicated().sum()"
   ]
  },
  {
   "cell_type": "code",
   "execution_count": 54,
   "metadata": {},
   "outputs": [
    {
     "name": "stdout",
     "output_type": "stream",
     "text": [
      "Index(['Open', 'High', 'Low', 'Close', 'Volume', 'Adj Close'], dtype='object')\n"
     ]
    }
   ],
   "source": [
    "print(apple.columns)"
   ]
  },
  {
   "cell_type": "code",
   "execution_count": 61,
   "metadata": {},
   "outputs": [
    {
     "data": {
      "text/plain": [
       "Open         4721\n",
       "High         4799\n",
       "Low          4813\n",
       "Close        4631\n",
       "Volume        550\n",
       "Adj Close    6140\n",
       "dtype: int64"
      ]
     },
     "execution_count": 61,
     "metadata": {},
     "output_type": "execute_result"
    }
   ],
   "source": [
    "apple.apply(lambda col: col.duplicated().sum())\n"
   ]
  },
  {
   "cell_type": "markdown",
   "metadata": {
    "id": "v2-FakyXAy64"
   },
   "source": [
    "### Step 8.  Ops...it seems the index is from the most recent date. Make the first entry the oldest date."
   ]
  },
  {
   "cell_type": "markdown",
   "metadata": {
    "id": "ZYs04FAlAy68"
   },
   "source": [
    "### Step 9. Get the last business day of each month"
   ]
  },
  {
   "cell_type": "markdown",
   "metadata": {
    "id": "qg9vztDEAy6_"
   },
   "source": [
    "### Step 10.  What is the difference in days between the first day and the oldest"
   ]
  },
  {
   "cell_type": "markdown",
   "metadata": {
    "id": "GRJAYrMGAy7C"
   },
   "source": [
    "### Step 11.  How many months in the data we have?"
   ]
  },
  {
   "cell_type": "markdown",
   "metadata": {
    "id": "t5T7HlKNAy7G"
   },
   "source": [
    "### Step 12. Plot the 'Adj Close' value. Set the size of the figure to 13.5 x 9 inches"
   ]
  }
 ],
 "metadata": {
  "anaconda-cloud": {},
  "colab": {
   "name": "Solutions_Apple.ipynb",
   "provenance": []
  },
  "kernelspec": {
   "display_name": "Python 3",
   "language": "python",
   "name": "python3"
  },
  "language_info": {
   "codemirror_mode": {
    "name": "ipython",
    "version": 3
   },
   "file_extension": ".py",
   "mimetype": "text/x-python",
   "name": "python",
   "nbconvert_exporter": "python",
   "pygments_lexer": "ipython3",
   "version": "3.11.9"
  }
 },
 "nbformat": 4,
 "nbformat_minor": 4
}
